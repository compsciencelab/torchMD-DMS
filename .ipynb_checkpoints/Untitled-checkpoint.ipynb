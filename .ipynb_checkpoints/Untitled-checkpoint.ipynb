{
 "cells": [
  {
   "cell_type": "code",
   "execution_count": 40,
   "id": "c47e8e73-f602-45aa-9068-1a8672a582bd",
   "metadata": {},
   "outputs": [],
   "source": [
    "import torch\n",
    "import argparse\n",
    "from moleculekit.molecule import Molecule\n",
    "import numpy as np\n",
    "from torchmd.systems import System\n",
    "import shutil"
   ]
  },
  {
   "cell_type": "code",
   "execution_count": 89,
   "id": "8c4c78af-cc16-4686-872c-2948fa0115e3",
   "metadata": {},
   "outputs": [],
   "source": [
    "molecule = '/workspace7/torchmd-AD/train_val_pdb/train/3ABF_A.pdb'"
   ]
  },
  {
   "cell_type": "code",
   "execution_count": 90,
   "id": "c7b24ac6-3da5-49b0-a1be-8d241eb43f6a",
   "metadata": {},
   "outputs": [],
   "source": [
    "mol = Molecule(molecule)"
   ]
  },
  {
   "cell_type": "code",
   "execution_count": 9,
   "id": "beedd8a4-5949-44b6-a097-dfd61aa203f6",
   "metadata": {},
   "outputs": [],
   "source": [
    "aas = [\n",
    "    \"A\", \"R\", \"N\", \"D\", \"C\", \"E\", \"Q\", \"G\", \"H\", \"I\",\n",
    "    \"L\", \"K\", \"M\", \"F\", \"P\", \"S\", \"T\", \"W\", \"Y\", \"V\",\n",
    "]\n",
    "n_aas = len(aas)\n",
    "\n",
    "atoms = [\"N\", \"CA\", \"C\", \"cent\"]\n"
   ]
  },
  {
   "cell_type": "code",
   "execution_count": 14,
   "id": "1b593869-6d81-41e3-8621-6091f761da8d",
   "metadata": {},
   "outputs": [],
   "source": [
    "# Uses 140 bins evenly distributed near each residue\n",
    "n_bins_pot = 140 \n",
    "n_bins_force = n_bins_pot - 2\n",
    "n_adjacent = 4\n",
    "\n",
    "# bin centers: with this we get the centers of the bins depending on the distances\n",
    "\n",
    "def get_bin_centres(min_dist, max_dist):\n",
    "    gap_dist = (max_dist - min_dist) / n_bins_pot\n",
    "    bcs_pot = [min_dist + i * gap_dist + 0.5 * gap_dist for i in range(n_bins_pot)]\n",
    "    return bcs_pot[1:-1]\n",
    "\n",
    "interactions = []\n",
    "dist_bin_centres = []\n"
   ]
  },
  {
   "cell_type": "code",
   "execution_count": 15,
   "id": "400c6e87-3a21-4c50-afb0-8637839a5c8d",
   "metadata": {},
   "outputs": [],
   "source": [
    "for i, aa_1 in enumerate(aas):\n",
    "    for ai, atom_1 in enumerate(atoms):\n",
    "        for atom_2 in atoms[(ai + 1):]:\n",
    "            interactions.append(f\"{aa_1}_{atom_1}_{aa_1}_{atom_2}_same\")\n",
    "            dist_bin_centres.append(get_bin_centres(0.7, 5.6))\n",
    "    for aa_2 in aas[i:]:\n",
    "        for ai, atom_1 in enumerate(atoms):\n",
    "            atom_iter = atoms if aa_1 != aa_2 else atoms[ai:]\n",
    "            for atom_2 in atom_iter:\n",
    "                interactions.append(f\"{aa_1}_{atom_1}_{aa_2}_{atom_2}_other\")\n",
    "                dist_bin_centres.append(get_bin_centres(1.0, 15.0))\n",
    "    for aa_2 in aas:\n",
    "        for atom_1 in atoms:\n",
    "            for atom_2 in atoms:\n",
    "                for ar in range(1, n_adjacent + 1):\n",
    "                    interactions.append(f\"{aa_1}_{atom_1}_{aa_2}_{atom_2}_adj{ar}\")\n",
    "                    dist_bin_centres.append(get_bin_centres(0.7, 14.7))\n",
    "interactions.append(\"self_placeholder\") # This gets zeroed out during the simulation\n",
    "dist_bin_centres.append([0.0] * n_bins_force)\n"
   ]
  },
  {
   "cell_type": "code",
   "execution_count": 20,
   "id": "d0d2155f-5923-4ce1-a9ff-8f0e4d7a2de7",
   "metadata": {},
   "outputs": [],
   "source": [
    "from math import pi\n",
    "gap_ang = (pi - pi / 3) / n_bins_pot\n",
    "angle_bin_centres = [pi / 3 + i * gap_ang + 0.5 * gap_ang for i in range(n_bins_pot)][1:-1]\n",
    "\n",
    "gap_dih = (2 * pi) / n_bins_pot\n",
    "# Two invisible bins on the end imitate periodicity\n",
    "dih_bin_centres = [-pi + i * gap_dih - 0.5 * gap_dih for i in range(n_bins_pot + 2)][1:-1]\n"
   ]
  },
  {
   "cell_type": "code",
   "execution_count": 29,
   "id": "42addbba-924f-4c3e-9abd-85d263bef8bb",
   "metadata": {},
   "outputs": [
    {
     "data": {
      "text/plain": [
       "{}"
      ]
     },
     "execution_count": 29,
     "metadata": {},
     "output_type": "execute_result"
    }
   ],
   "source": [
    "mol.crystalinfo"
   ]
  },
  {
   "cell_type": "code",
   "execution_count": 43,
   "id": "ce384e8f-36b8-484f-ae3e-a4a3e912885a",
   "metadata": {},
   "outputs": [],
   "source": [
    "molcg = mol.copy()"
   ]
  },
  {
   "cell_type": "code",
   "execution_count": 44,
   "id": "985b6dde-cb96-4267-835f-2421d9ba0510",
   "metadata": {},
   "outputs": [],
   "source": [
    "cwd = os.getcwd()"
   ]
  },
  {
   "cell_type": "code",
   "execution_count": 45,
   "id": "2a100090-aae2-454a-8afd-f879f0721af1",
   "metadata": {},
   "outputs": [],
   "source": [
    "tmp_dir = cwd + '/tmpcg/'"
   ]
  },
  {
   "cell_type": "code",
   "execution_count": 46,
   "id": "d1751190-6565-4247-b483-82bedf902d35",
   "metadata": {},
   "outputs": [],
   "source": [
    "os.mkdir(tmp_dir) # tmp directory to save full pdbs"
   ]
  },
  {
   "cell_type": "code",
   "execution_count": 48,
   "id": "233f62bd-b628-474f-a4b8-dfe1cd85a162",
   "metadata": {},
   "outputs": [],
   "source": [
    "molcg = mol.copy()"
   ]
  },
  {
   "cell_type": "code",
   "execution_count": 49,
   "id": "ccd292b2-1371-40d9-a839-331eb179607d",
   "metadata": {},
   "outputs": [],
   "source": [
    "molcg.write(tmp_dir + 'molcg.pdb', 'name CA')"
   ]
  },
  {
   "cell_type": "code",
   "execution_count": 50,
   "id": "c4dd283e-30a2-4b39-9c17-f1cc36a6617d",
   "metadata": {},
   "outputs": [],
   "source": [
    "molcg = Molecule(tmp_dir + 'molcg.pdb')"
   ]
  },
  {
   "cell_type": "code",
   "execution_count": 51,
   "id": "512ea585-a134-45e9-8496-53b80973ab1f",
   "metadata": {},
   "outputs": [],
   "source": [
    "shutil.rmtree(tmp_dir)"
   ]
  },
  {
   "cell_type": "code",
   "execution_count": 55,
   "id": "ce614d13-747a-463c-8e3b-df81f55a5ade",
   "metadata": {},
   "outputs": [
    {
     "data": {
      "text/plain": [
       "array([[0.],\n",
       "       [0.],\n",
       "       [0.]], dtype=float32)"
      ]
     },
     "execution_count": 55,
     "metadata": {},
     "output_type": "execute_result"
    }
   ],
   "source": [
    "molcg.box"
   ]
  },
  {
   "cell_type": "code",
   "execution_count": 56,
   "id": "18b53e46-3373-4653-a81a-1d9d791bdde1",
   "metadata": {},
   "outputs": [],
   "source": [
    "import torch\n",
    "from torchmd.systems import System\n",
    "from torchmd.forcefields.forcefield import ForceField\n",
    "import argparse\n",
    "from moleculekit.molecule import Molecule\n",
    "import numpy as np\n",
    "from torchmd.parameters import Parameters\n",
    "from torchmd.forces import Forces\n",
    "import os"
   ]
  },
  {
   "cell_type": "code",
   "execution_count": 64,
   "id": "6225ca69-8cc3-45d4-b1be-f5b7872834cb",
   "metadata": {},
   "outputs": [],
   "source": [
    "precision = torch.float\n",
    "device = 'cpu'\n",
    "params_dir = cwd = os.getcwd() + '/parameters/ffcg.yaml'"
   ]
  },
  {
   "cell_type": "code",
   "execution_count": 75,
   "id": "a5ce7671-d2ba-4026-a407-47d6f88d6169",
   "metadata": {},
   "outputs": [],
   "source": [
    "ff = ForceField.create(molcg, params_dir)"
   ]
  },
  {
   "cell_type": "code",
   "execution_count": 83,
   "id": "e74340ac-1421-4648-9408-c5605494a0df",
   "metadata": {},
   "outputs": [
    {
     "ename": "KeyError",
     "evalue": "''",
     "output_type": "error",
     "traceback": [
      "\u001b[0;31m---------------------------------------------------------------------------\u001b[0m",
      "\u001b[0;31mKeyError\u001b[0m                                  Traceback (most recent call last)",
      "\u001b[0;32m<ipython-input-83-78f2fe666b15>\u001b[0m in \u001b[0;36m<module>\u001b[0;34m\u001b[0m\n\u001b[0;32m----> 1\u001b[0;31m \u001b[0mparameters\u001b[0m \u001b[0;34m=\u001b[0m \u001b[0mParameters\u001b[0m\u001b[0;34m(\u001b[0m\u001b[0mff\u001b[0m\u001b[0;34m,\u001b[0m \u001b[0mmolcg\u001b[0m\u001b[0;34m,\u001b[0m \u001b[0;34m'Bonds'\u001b[0m\u001b[0;34m,\u001b[0m \u001b[0mprecision\u001b[0m\u001b[0;34m=\u001b[0m\u001b[0mprecision\u001b[0m\u001b[0;34m,\u001b[0m \u001b[0mdevice\u001b[0m\u001b[0;34m=\u001b[0m\u001b[0mdevice\u001b[0m\u001b[0;34m)\u001b[0m\u001b[0;34m\u001b[0m\u001b[0;34m\u001b[0m\u001b[0m\n\u001b[0m",
      "\u001b[0;32m/shared/carles/miniconda3/envs/torchmd/lib/python3.6/site-packages/torchmd/parameters.py\u001b[0m in \u001b[0;36m__init__\u001b[0;34m(self, ff, mol, terms, precision, device)\u001b[0m\n\u001b[1;32m     28\u001b[0m             \u001b[0mterms\u001b[0m \u001b[0;34m=\u001b[0m \u001b[0;34m(\u001b[0m\u001b[0;34m\"bonds\"\u001b[0m\u001b[0;34m,\u001b[0m \u001b[0;34m\"angles\"\u001b[0m\u001b[0;34m,\u001b[0m \u001b[0;34m\"dihedrals\"\u001b[0m\u001b[0;34m,\u001b[0m \u001b[0;34m\"impropers\"\u001b[0m\u001b[0;34m,\u001b[0m \u001b[0;34m\"1-4\"\u001b[0m\u001b[0;34m)\u001b[0m\u001b[0;34m\u001b[0m\u001b[0;34m\u001b[0m\u001b[0m\n\u001b[1;32m     29\u001b[0m         \u001b[0mterms\u001b[0m \u001b[0;34m=\u001b[0m \u001b[0;34m[\u001b[0m\u001b[0mterm\u001b[0m\u001b[0;34m.\u001b[0m\u001b[0mlower\u001b[0m\u001b[0;34m(\u001b[0m\u001b[0;34m)\u001b[0m \u001b[0;32mfor\u001b[0m \u001b[0mterm\u001b[0m \u001b[0;32min\u001b[0m \u001b[0mterms\u001b[0m\u001b[0;34m]\u001b[0m\u001b[0;34m\u001b[0m\u001b[0;34m\u001b[0m\u001b[0m\n\u001b[0;32m---> 30\u001b[0;31m         \u001b[0mself\u001b[0m\u001b[0;34m.\u001b[0m\u001b[0mbuild_parameters\u001b[0m\u001b[0;34m(\u001b[0m\u001b[0mff\u001b[0m\u001b[0;34m,\u001b[0m \u001b[0mmol\u001b[0m\u001b[0;34m,\u001b[0m \u001b[0mterms\u001b[0m\u001b[0;34m)\u001b[0m\u001b[0;34m\u001b[0m\u001b[0;34m\u001b[0m\u001b[0m\n\u001b[0m\u001b[1;32m     31\u001b[0m         \u001b[0mself\u001b[0m\u001b[0;34m.\u001b[0m\u001b[0mprecision_\u001b[0m\u001b[0;34m(\u001b[0m\u001b[0mprecision\u001b[0m\u001b[0;34m)\u001b[0m\u001b[0;34m\u001b[0m\u001b[0;34m\u001b[0m\u001b[0m\n\u001b[1;32m     32\u001b[0m         \u001b[0mself\u001b[0m\u001b[0;34m.\u001b[0m\u001b[0mto_\u001b[0m\u001b[0;34m(\u001b[0m\u001b[0mdevice\u001b[0m\u001b[0;34m)\u001b[0m\u001b[0;34m\u001b[0m\u001b[0;34m\u001b[0m\u001b[0m\n",
      "\u001b[0;32m/shared/carles/miniconda3/envs/torchmd/lib/python3.6/site-packages/torchmd/parameters.py\u001b[0m in \u001b[0;36mbuild_parameters\u001b[0;34m(self, ff, mol, terms)\u001b[0m\n\u001b[1;32m    103\u001b[0m         \u001b[0mself\u001b[0m\u001b[0;34m.\u001b[0m\u001b[0mmapped_atom_types\u001b[0m \u001b[0;34m=\u001b[0m \u001b[0mtorch\u001b[0m\u001b[0;34m.\u001b[0m\u001b[0mtensor\u001b[0m\u001b[0;34m(\u001b[0m\u001b[0mindexes\u001b[0m\u001b[0;34m)\u001b[0m\u001b[0;34m\u001b[0m\u001b[0;34m\u001b[0m\u001b[0m\n\u001b[1;32m    104\u001b[0m         \u001b[0mself\u001b[0m\u001b[0;34m.\u001b[0m\u001b[0mcharges\u001b[0m \u001b[0;34m=\u001b[0m \u001b[0mtorch\u001b[0m\u001b[0;34m.\u001b[0m\u001b[0mtensor\u001b[0m\u001b[0;34m(\u001b[0m\u001b[0mmol\u001b[0m\u001b[0;34m.\u001b[0m\u001b[0mcharge\u001b[0m\u001b[0;34m.\u001b[0m\u001b[0mastype\u001b[0m\u001b[0;34m(\u001b[0m\u001b[0mnp\u001b[0m\u001b[0;34m.\u001b[0m\u001b[0mfloat64\u001b[0m\u001b[0;34m)\u001b[0m\u001b[0;34m)\u001b[0m\u001b[0;34m\u001b[0m\u001b[0;34m\u001b[0m\u001b[0m\n\u001b[0;32m--> 105\u001b[0;31m         \u001b[0mself\u001b[0m\u001b[0;34m.\u001b[0m\u001b[0mmasses\u001b[0m \u001b[0;34m=\u001b[0m \u001b[0mself\u001b[0m\u001b[0;34m.\u001b[0m\u001b[0mmake_masses\u001b[0m\u001b[0;34m(\u001b[0m\u001b[0mff\u001b[0m\u001b[0;34m,\u001b[0m \u001b[0mmol\u001b[0m\u001b[0;34m.\u001b[0m\u001b[0matomtype\u001b[0m\u001b[0;34m)\u001b[0m\u001b[0;34m\u001b[0m\u001b[0;34m\u001b[0m\u001b[0m\n\u001b[0m\u001b[1;32m    106\u001b[0m         \u001b[0mself\u001b[0m\u001b[0;34m.\u001b[0m\u001b[0mA\u001b[0m\u001b[0;34m,\u001b[0m \u001b[0mself\u001b[0m\u001b[0;34m.\u001b[0m\u001b[0mB\u001b[0m \u001b[0;34m=\u001b[0m \u001b[0mself\u001b[0m\u001b[0;34m.\u001b[0m\u001b[0mmake_lj\u001b[0m\u001b[0;34m(\u001b[0m\u001b[0mff\u001b[0m\u001b[0;34m,\u001b[0m \u001b[0muqatomtypes\u001b[0m\u001b[0;34m)\u001b[0m\u001b[0;34m\u001b[0m\u001b[0;34m\u001b[0m\u001b[0m\n\u001b[1;32m    107\u001b[0m         \u001b[0;32mif\u001b[0m \u001b[0;34m\"bonds\"\u001b[0m \u001b[0;32min\u001b[0m \u001b[0mterms\u001b[0m \u001b[0;32mand\u001b[0m \u001b[0mlen\u001b[0m\u001b[0;34m(\u001b[0m\u001b[0mmol\u001b[0m\u001b[0;34m.\u001b[0m\u001b[0mbonds\u001b[0m\u001b[0;34m)\u001b[0m\u001b[0;34m:\u001b[0m\u001b[0;34m\u001b[0m\u001b[0;34m\u001b[0m\u001b[0m\n",
      "\u001b[0;32m/shared/carles/miniconda3/envs/torchmd/lib/python3.6/site-packages/torchmd/parameters.py\u001b[0m in \u001b[0;36mmake_masses\u001b[0;34m(self, ff, atomtypes)\u001b[0m\n\u001b[1;32m    146\u001b[0m \u001b[0;34m\u001b[0m\u001b[0m\n\u001b[1;32m    147\u001b[0m     \u001b[0;32mdef\u001b[0m \u001b[0mmake_masses\u001b[0m\u001b[0;34m(\u001b[0m\u001b[0mself\u001b[0m\u001b[0;34m,\u001b[0m \u001b[0mff\u001b[0m\u001b[0;34m,\u001b[0m \u001b[0matomtypes\u001b[0m\u001b[0;34m)\u001b[0m\u001b[0;34m:\u001b[0m\u001b[0;34m\u001b[0m\u001b[0;34m\u001b[0m\u001b[0m\n\u001b[0;32m--> 148\u001b[0;31m         \u001b[0mmasses\u001b[0m \u001b[0;34m=\u001b[0m \u001b[0mtorch\u001b[0m\u001b[0;34m.\u001b[0m\u001b[0mtensor\u001b[0m\u001b[0;34m(\u001b[0m\u001b[0;34m[\u001b[0m\u001b[0mff\u001b[0m\u001b[0;34m.\u001b[0m\u001b[0mget_mass\u001b[0m\u001b[0;34m(\u001b[0m\u001b[0mat\u001b[0m\u001b[0;34m)\u001b[0m \u001b[0;32mfor\u001b[0m \u001b[0mat\u001b[0m \u001b[0;32min\u001b[0m \u001b[0matomtypes\u001b[0m\u001b[0;34m]\u001b[0m\u001b[0;34m)\u001b[0m\u001b[0;34m\u001b[0m\u001b[0;34m\u001b[0m\u001b[0m\n\u001b[0m\u001b[1;32m    149\u001b[0m         \u001b[0mmasses\u001b[0m\u001b[0;34m.\u001b[0m\u001b[0munsqueeze_\u001b[0m\u001b[0;34m(\u001b[0m\u001b[0;36m1\u001b[0m\u001b[0;34m)\u001b[0m  \u001b[0;31m# natoms,1\u001b[0m\u001b[0;34m\u001b[0m\u001b[0;34m\u001b[0m\u001b[0m\n\u001b[1;32m    150\u001b[0m         \u001b[0;32mreturn\u001b[0m \u001b[0mmasses\u001b[0m\u001b[0;34m\u001b[0m\u001b[0;34m\u001b[0m\u001b[0m\n",
      "\u001b[0;32m/shared/carles/miniconda3/envs/torchmd/lib/python3.6/site-packages/torchmd/parameters.py\u001b[0m in \u001b[0;36m<listcomp>\u001b[0;34m(.0)\u001b[0m\n\u001b[1;32m    146\u001b[0m \u001b[0;34m\u001b[0m\u001b[0m\n\u001b[1;32m    147\u001b[0m     \u001b[0;32mdef\u001b[0m \u001b[0mmake_masses\u001b[0m\u001b[0;34m(\u001b[0m\u001b[0mself\u001b[0m\u001b[0;34m,\u001b[0m \u001b[0mff\u001b[0m\u001b[0;34m,\u001b[0m \u001b[0matomtypes\u001b[0m\u001b[0;34m)\u001b[0m\u001b[0;34m:\u001b[0m\u001b[0;34m\u001b[0m\u001b[0;34m\u001b[0m\u001b[0m\n\u001b[0;32m--> 148\u001b[0;31m         \u001b[0mmasses\u001b[0m \u001b[0;34m=\u001b[0m \u001b[0mtorch\u001b[0m\u001b[0;34m.\u001b[0m\u001b[0mtensor\u001b[0m\u001b[0;34m(\u001b[0m\u001b[0;34m[\u001b[0m\u001b[0mff\u001b[0m\u001b[0;34m.\u001b[0m\u001b[0mget_mass\u001b[0m\u001b[0;34m(\u001b[0m\u001b[0mat\u001b[0m\u001b[0;34m)\u001b[0m \u001b[0;32mfor\u001b[0m \u001b[0mat\u001b[0m \u001b[0;32min\u001b[0m \u001b[0matomtypes\u001b[0m\u001b[0;34m]\u001b[0m\u001b[0;34m)\u001b[0m\u001b[0;34m\u001b[0m\u001b[0;34m\u001b[0m\u001b[0m\n\u001b[0m\u001b[1;32m    149\u001b[0m         \u001b[0mmasses\u001b[0m\u001b[0;34m.\u001b[0m\u001b[0munsqueeze_\u001b[0m\u001b[0;34m(\u001b[0m\u001b[0;36m1\u001b[0m\u001b[0;34m)\u001b[0m  \u001b[0;31m# natoms,1\u001b[0m\u001b[0;34m\u001b[0m\u001b[0;34m\u001b[0m\u001b[0m\n\u001b[1;32m    150\u001b[0m         \u001b[0;32mreturn\u001b[0m \u001b[0mmasses\u001b[0m\u001b[0;34m\u001b[0m\u001b[0;34m\u001b[0m\u001b[0m\n",
      "\u001b[0;32m/shared/carles/miniconda3/envs/torchmd/lib/python3.6/site-packages/torchmd/forcefields/ff_yaml.py\u001b[0m in \u001b[0;36mget_mass\u001b[0;34m(self, at)\u001b[0m\n\u001b[1;32m     57\u001b[0m \u001b[0;34m\u001b[0m\u001b[0m\n\u001b[1;32m     58\u001b[0m     \u001b[0;32mdef\u001b[0m \u001b[0mget_mass\u001b[0m\u001b[0;34m(\u001b[0m\u001b[0mself\u001b[0m\u001b[0;34m,\u001b[0m \u001b[0mat\u001b[0m\u001b[0;34m)\u001b[0m\u001b[0;34m:\u001b[0m\u001b[0;34m\u001b[0m\u001b[0;34m\u001b[0m\u001b[0m\n\u001b[0;32m---> 59\u001b[0;31m         \u001b[0;32mreturn\u001b[0m \u001b[0mself\u001b[0m\u001b[0;34m.\u001b[0m\u001b[0mprm\u001b[0m\u001b[0;34m[\u001b[0m\u001b[0;34m\"masses\"\u001b[0m\u001b[0;34m]\u001b[0m\u001b[0;34m[\u001b[0m\u001b[0mat\u001b[0m\u001b[0;34m]\u001b[0m\u001b[0;34m\u001b[0m\u001b[0;34m\u001b[0m\u001b[0m\n\u001b[0m\u001b[1;32m     60\u001b[0m \u001b[0;34m\u001b[0m\u001b[0m\n\u001b[1;32m     61\u001b[0m     \u001b[0;32mdef\u001b[0m \u001b[0mget_LJ\u001b[0m\u001b[0;34m(\u001b[0m\u001b[0mself\u001b[0m\u001b[0;34m,\u001b[0m \u001b[0mat\u001b[0m\u001b[0;34m)\u001b[0m\u001b[0;34m:\u001b[0m\u001b[0;34m\u001b[0m\u001b[0;34m\u001b[0m\u001b[0m\n",
      "\u001b[0;31mKeyError\u001b[0m: ''"
     ]
    }
   ],
   "source": [
    "parameters = Parameters(ff, molcg, 'Bonds', precision=precision, device=device)"
   ]
  },
  {
   "cell_type": "code",
   "execution_count": 82,
   "id": "16d5c8c8-bf5e-43e2-b9f9-b7e66f3e2a55",
   "metadata": {},
   "outputs": [
    {
     "data": {
      "text/plain": [
       "(71.50794219970703, 3.8381507396698)"
      ]
     },
     "execution_count": 82,
     "metadata": {},
     "output_type": "execute_result"
    }
   ],
   "source": [
    "ff.get_bond('a','b')"
   ]
  },
  {
   "cell_type": "code",
   "execution_count": 94,
   "id": "6994d66f-5311-4dbd-a315-6303594ed02d",
   "metadata": {},
   "outputs": [
    {
     "name": "stderr",
     "output_type": "stream",
     "text": [
      "2021-07-21 12:27:22,254 - moleculekit.readers - INFO - Attempting PDB query for 3PTB\n"
     ]
    }
   ],
   "source": [
    "mol = Molecule('3PTB')"
   ]
  },
  {
   "cell_type": "code",
   "execution_count": 96,
   "id": "62631269-9fe6-49e3-87a2-ea4a3aad954a",
   "metadata": {},
   "outputs": [
    {
     "data": {
      "text/plain": [
       "array(['', '', '', ..., '', '', ''], dtype=object)"
      ]
     },
     "execution_count": 96,
     "metadata": {},
     "output_type": "execute_result"
    }
   ],
   "source": []
  },
  {
   "cell_type": "code",
   "execution_count": null,
   "id": "3cd0574e-473d-41ef-86a9-b34cb394c6d3",
   "metadata": {},
   "outputs": [],
   "source": []
  }
 ],
 "metadata": {
  "kernelspec": {
   "display_name": "TorchMD",
   "language": "python",
   "name": "torchmd"
  },
  "language_info": {
   "codemirror_mode": {
    "name": "ipython",
    "version": 3
   },
   "file_extension": ".py",
   "mimetype": "text/x-python",
   "name": "python",
   "nbconvert_exporter": "python",
   "pygments_lexer": "ipython3",
   "version": "3.6.13"
  }
 },
 "nbformat": 4,
 "nbformat_minor": 5
}
