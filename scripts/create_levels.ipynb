{
 "cells": [
  {
   "cell_type": "code",
   "execution_count": 1,
   "id": "9f49e436-57fb-4947-98cf-9c10c3b2b7d6",
   "metadata": {},
   "outputs": [],
   "source": [
    "from moleculekit.molecule import Molecule\n",
    "from moleculekit.projections.metricrmsd import MetricRmsd\n",
    "import numpy as np\n",
    "import os"
   ]
  },
  {
   "cell_type": "markdown",
   "id": "4d74ab41-e3de-4635-9880-15b4f5f19436",
   "metadata": {},
   "source": [
    "## Create levels with multiple starting conformations"
   ]
  },
  {
   "cell_type": "code",
   "execution_count": 2,
   "id": "6af81aa2-7282-41cb-8686-cdea17826d9d",
   "metadata": {},
   "outputs": [
    {
     "ename": "NameError",
     "evalue": "name 'mol' is not defined",
     "output_type": "error",
     "traceback": [
      "\u001b[0;31m---------------------------------------------------------------------------\u001b[0m",
      "\u001b[0;31mNameError\u001b[0m                                 Traceback (most recent call last)",
      "\u001b[0;32m/tmp/ipykernel_39015/3342075177.py\u001b[0m in \u001b[0;36m<module>\u001b[0;34m\u001b[0m\n\u001b[1;32m     10\u001b[0m     \u001b[0mstop\u001b[0m \u001b[0;34m=\u001b[0m \u001b[0;32mTrue\u001b[0m\u001b[0;34m\u001b[0m\u001b[0;34m\u001b[0m\u001b[0m\n\u001b[1;32m     11\u001b[0m     \u001b[0;32mfor\u001b[0m \u001b[0mi\u001b[0m \u001b[0;32min\u001b[0m \u001b[0mrange\u001b[0m\u001b[0;34m(\u001b[0m\u001b[0;36m64\u001b[0m\u001b[0;34m)\u001b[0m\u001b[0;34m:\u001b[0m\u001b[0;34m\u001b[0m\u001b[0;34m\u001b[0m\u001b[0m\n\u001b[0;32m---> 12\u001b[0;31m         \u001b[0mmol1\u001b[0m \u001b[0;34m=\u001b[0m \u001b[0mcopy\u001b[0m\u001b[0;34m.\u001b[0m\u001b[0mdeepcopy\u001b[0m\u001b[0;34m(\u001b[0m\u001b[0mmol\u001b[0m\u001b[0;34m)\u001b[0m\u001b[0;34m\u001b[0m\u001b[0;34m\u001b[0m\u001b[0m\n\u001b[0m\u001b[1;32m     13\u001b[0m         \u001b[0mmol1\u001b[0m\u001b[0;34m.\u001b[0m\u001b[0mdropFrames\u001b[0m\u001b[0;34m(\u001b[0m\u001b[0mkeep\u001b[0m\u001b[0;34m=\u001b[0m\u001b[0;34m[\u001b[0m\u001b[0mi\u001b[0m\u001b[0;34m]\u001b[0m\u001b[0;34m)\u001b[0m\u001b[0;34m\u001b[0m\u001b[0;34m\u001b[0m\u001b[0m\n\u001b[1;32m     14\u001b[0m \u001b[0;34m\u001b[0m\u001b[0m\n",
      "\u001b[0;31mNameError\u001b[0m: name 'mol' is not defined"
     ]
    }
   ],
   "source": [
    "import copy\n",
    "\n",
    "min_rmsd = 0\n",
    "max_rmsd = 1\n",
    "stop = False\n",
    "level = 0\n",
    "rmsds_dict = {}\n",
    "\n",
    "while stop == False:\n",
    "    stop = True\n",
    "    for i in range(64):\n",
    "        mol1 = copy.deepcopy(mol)\n",
    "        mol1.dropFrames(keep=[i])\n",
    "\n",
    "\n",
    "        mol1.align('name CA', refmol=ref_mol)\n",
    "        rmsd_proj = MetricRmsd(ref_mol, 'name CA', centerstr='name CA', pbc=False)\n",
    "        rmsd = rmsd_proj.project(mol1)\n",
    "\n",
    "        if min_rmsd <= rmsd <= max_rmsd:\n",
    "            rmsds_dict['level'+str(level + 1)] = rmsd.item()\n",
    "            print(rmsd)\n",
    "            min_rmsd += 1\n",
    "            max_rmsd += 1\n",
    "            stop = False       \n",
    "            path = '/workspace7/torchmd-AD/train_curriculum/cln/levels/level' + str(level)\n",
    "            #os.mkdir(path)\n",
    "            mol1.write(os.path.join(path, 'chignolin_cln025.xtc' ))\n",
    "            level += 1\n",
    "    \n",
    "    "
   ]
  },
  {
   "cell_type": "code",
   "execution_count": 96,
   "id": "02232c10-b396-4b96-9fac-a8aa71596a24",
   "metadata": {},
   "outputs": [
    {
     "data": {
      "text/html": [
       "<div>\n",
       "<style scoped>\n",
       "    .dataframe tbody tr th:only-of-type {\n",
       "        vertical-align: middle;\n",
       "    }\n",
       "\n",
       "    .dataframe tbody tr th {\n",
       "        vertical-align: top;\n",
       "    }\n",
       "\n",
       "    .dataframe thead th {\n",
       "        text-align: right;\n",
       "    }\n",
       "</style>\n",
       "<table border=\"1\" class=\"dataframe\">\n",
       "  <thead>\n",
       "    <tr style=\"text-align: right;\">\n",
       "      <th></th>\n",
       "      <th>starting rmsd</th>\n",
       "    </tr>\n",
       "  </thead>\n",
       "  <tbody>\n",
       "    <tr>\n",
       "      <th>level1</th>\n",
       "      <td>0.873917</td>\n",
       "    </tr>\n",
       "    <tr>\n",
       "      <th>level2</th>\n",
       "      <td>1.463428</td>\n",
       "    </tr>\n",
       "    <tr>\n",
       "      <th>level3</th>\n",
       "      <td>2.858741</td>\n",
       "    </tr>\n",
       "    <tr>\n",
       "      <th>level4</th>\n",
       "      <td>3.779713</td>\n",
       "    </tr>\n",
       "    <tr>\n",
       "      <th>level5</th>\n",
       "      <td>4.009621</td>\n",
       "    </tr>\n",
       "    <tr>\n",
       "      <th>level6</th>\n",
       "      <td>5.704338</td>\n",
       "    </tr>\n",
       "    <tr>\n",
       "      <th>level7</th>\n",
       "      <td>6.318629</td>\n",
       "    </tr>\n",
       "  </tbody>\n",
       "</table>\n",
       "</div>"
      ],
      "text/plain": [
       "        starting rmsd\n",
       "level1       0.873917\n",
       "level2       1.463428\n",
       "level3       2.858741\n",
       "level4       3.779713\n",
       "level5       4.009621\n",
       "level6       5.704338\n",
       "level7       6.318629"
      ]
     },
     "execution_count": 96,
     "metadata": {},
     "output_type": "execute_result"
    }
   ],
   "source": [
    "import pandas as pd\n",
    "pd.DataFrame.from_dict(rmsds_dict, orient='index', columns = ['starting rmsd'])"
   ]
  },
  {
   "cell_type": "code",
   "execution_count": 21,
   "id": "1fe51fb2-2cd2-4575-a7f9-9ff987f74c5a",
   "metadata": {},
   "outputs": [
    {
     "ename": "NameError",
     "evalue": "name 'mol_curriculum' is not defined",
     "output_type": "error",
     "traceback": [
      "\u001b[0;31m---------------------------------------------------------------------------\u001b[0m",
      "\u001b[0;31mNameError\u001b[0m                                 Traceback (most recent call last)",
      "\u001b[0;32m/tmp/ipykernel_39015/3306444290.py\u001b[0m in \u001b[0;36m<module>\u001b[0;34m\u001b[0m\n\u001b[0;32m----> 1\u001b[0;31m \u001b[0mmol_curriculum\u001b[0m\u001b[0;34m.\u001b[0m\u001b[0mwrite\u001b[0m\u001b[0;34m(\u001b[0m\u001b[0;34m'/workspace7/torchmd-AD/train_curriculum/cln/psf/chignolin_cln025.psf'\u001b[0m\u001b[0;34m)\u001b[0m\u001b[0;34m\u001b[0m\u001b[0;34m\u001b[0m\u001b[0m\n\u001b[0m\u001b[1;32m      2\u001b[0m \u001b[0mmol_curriculum\u001b[0m\u001b[0;34m.\u001b[0m\u001b[0mwrite\u001b[0m\u001b[0;34m(\u001b[0m\u001b[0;34m'/workspace7/torchmd-AD/train_curriculum/cln/xtc/chignolin_cln025.xtc'\u001b[0m\u001b[0;34m)\u001b[0m\u001b[0;34m\u001b[0m\u001b[0;34m\u001b[0m\u001b[0m\n",
      "\u001b[0;31mNameError\u001b[0m: name 'mol_curriculum' is not defined"
     ]
    }
   ],
   "source": [
    "mol_curriculum.write('/workspace7/torchmd-AD/train_curriculum/cln/psf/chignolin_cln025.psf')\n",
    "mol_curriculum.write('/workspace7/torchmd-AD/train_curriculum/cln/xtc/chignolin_cln025.xtc')"
   ]
  },
  {
   "cell_type": "markdown",
   "id": "322e44ff-8334-4b51-82ea-de927dffff67",
   "metadata": {},
   "source": [
    "## Create levels with multiple starting conformations"
   ]
  },
  {
   "cell_type": "code",
   "execution_count": 54,
   "id": "6fc3f7b4-a2d9-4824-89a1-c373d011be50",
   "metadata": {},
   "outputs": [],
   "source": [
    "# Reference Molecule\n",
    "psf = f'../data/bba/bba_ca_top_dih.psf'\n",
    "ref_pdb = f'../data/bba/bba_ca.pdb'\n",
    "ref_mol = Molecule(psf)\n",
    "ref_mol.read(ref_pdb)\n",
    "\n",
    "ref_mol.filter('name CA')\n",
    "\n",
    "# Read the array with trajectory data\n",
    "\n",
    "mol = Molecule(psf)\n",
    "arr = np.load('/workspace2/fast_folders_cgnet/multiprotein/data_dih/bba_ca_coords.npy')[:100000]\n",
    "mol.coords = np.moveaxis(arr, 0, -1)\n",
    "\n",
    "ref_mol.write('/workspace7/torchmd-AD/train_curriculum/fastfolders/level0/ground_truth/bba_ca.pdb')"
   ]
  },
  {
   "cell_type": "code",
   "execution_count": 8,
   "id": "75d123fe-6855-40de-95b4-cd0729ee00d3",
   "metadata": {},
   "outputs": [
    {
     "ename": "NameError",
     "evalue": "name 'mol' is not defined",
     "output_type": "error",
     "traceback": [
      "\u001b[0;31m---------------------------------------------------------------------------\u001b[0m",
      "\u001b[0;31mNameError\u001b[0m                                 Traceback (most recent call last)",
      "\u001b[0;32m/tmp/ipykernel_217886/3862851126.py\u001b[0m in \u001b[0;36m<module>\u001b[0;34m\u001b[0m\n\u001b[1;32m      1\u001b[0m \u001b[0;31m# Compute the rmsd of each frame against the reference structure\u001b[0m\u001b[0;34m\u001b[0m\u001b[0;34m\u001b[0m\u001b[0;34m\u001b[0m\u001b[0m\n\u001b[0;32m----> 2\u001b[0;31m \u001b[0mmol\u001b[0m\u001b[0;34m.\u001b[0m\u001b[0malign\u001b[0m\u001b[0;34m(\u001b[0m\u001b[0;34m'name CA'\u001b[0m\u001b[0;34m,\u001b[0m \u001b[0mrefmol\u001b[0m\u001b[0;34m=\u001b[0m\u001b[0mref_mol\u001b[0m\u001b[0;34m)\u001b[0m\u001b[0;34m\u001b[0m\u001b[0;34m\u001b[0m\u001b[0m\n\u001b[0m\u001b[1;32m      3\u001b[0m \u001b[0mrmsd_proj\u001b[0m \u001b[0;34m=\u001b[0m \u001b[0mMetricRmsd\u001b[0m\u001b[0;34m(\u001b[0m\u001b[0mref_mol\u001b[0m\u001b[0;34m,\u001b[0m \u001b[0;34m'name CA'\u001b[0m\u001b[0;34m,\u001b[0m \u001b[0mcenterstr\u001b[0m\u001b[0;34m=\u001b[0m\u001b[0;34m'name CA'\u001b[0m\u001b[0;34m,\u001b[0m \u001b[0mpbc\u001b[0m\u001b[0;34m=\u001b[0m\u001b[0;32mFalse\u001b[0m\u001b[0;34m)\u001b[0m\u001b[0;34m\u001b[0m\u001b[0;34m\u001b[0m\u001b[0m\n\u001b[1;32m      4\u001b[0m \u001b[0mrmsd\u001b[0m \u001b[0;34m=\u001b[0m \u001b[0mrmsd_proj\u001b[0m\u001b[0;34m.\u001b[0m\u001b[0mproject\u001b[0m\u001b[0;34m(\u001b[0m\u001b[0mmol\u001b[0m\u001b[0;34m)\u001b[0m\u001b[0;34m\u001b[0m\u001b[0;34m\u001b[0m\u001b[0m\n",
      "\u001b[0;31mNameError\u001b[0m: name 'mol' is not defined"
     ]
    }
   ],
   "source": [
    "# Compute the rmsd of each frame against the reference structure\n",
    "mol.align('name CA', refmol=ref_mol)\n",
    "rmsd_proj = MetricRmsd(ref_mol, 'name CA', centerstr='name CA', pbc=False)\n",
    "rmsd = rmsd_proj.project(mol)"
   ]
  },
  {
   "cell_type": "code",
   "execution_count": 72,
   "id": "0eca974f-25ff-44bf-86c0-dd44a3dfabb5",
   "metadata": {},
   "outputs": [
    {
     "data": {
      "text/plain": [
       "(28, 3, 100000)"
      ]
     },
     "execution_count": 72,
     "metadata": {},
     "output_type": "execute_result"
    }
   ],
   "source": [
    "mol.coords.shape\n",
    "#arr.shape"
   ]
  },
  {
   "cell_type": "code",
   "execution_count": 83,
   "id": "d7b00d7e-be5f-45fc-88e3-e00395985fad",
   "metadata": {},
   "outputs": [],
   "source": [
    "arr = np.load('/shared/carles/repo/torchmd-exp/scripts/trainings/tests/test_fastfolders/save_tica/chignolin_cln025.npy')\n",
    "coords = np.moveaxis(arr, 0, -1)"
   ]
  },
  {
   "cell_type": "code",
   "execution_count": 84,
   "id": "cd75dd3a-79bc-4979-a727-3bd255a6512c",
   "metadata": {},
   "outputs": [
    {
     "data": {
      "text/plain": [
       "(10, 3, 5920)"
      ]
     },
     "execution_count": 84,
     "metadata": {},
     "output_type": "execute_result"
    }
   ],
   "source": [
    "coords.shape"
   ]
  },
  {
   "cell_type": "code",
   "execution_count": 154,
   "id": "24c2538c-1ca7-4a1a-ae8d-fa142e322e12",
   "metadata": {},
   "outputs": [
    {
     "name": "stdout",
     "output_type": "stream",
     "text": [
      "2.8952222\n",
      "(21, 28, 3)\n"
     ]
    }
   ],
   "source": [
    "# Sample frames for different levels and save them in levels folders\n",
    "from statistics import mean\n",
    "n_levels = int(1 // 1)\n",
    "min_rmsd = 0\n",
    "max_rmsd = 3\n",
    "\n",
    "path = '/workspace7/torchmd-AD/train_curriculum/fastfolders/level0/init_states/'\n",
    "mol_frames = Molecule(psf)\n",
    "\n",
    "for n in range(n_levels):\n",
    "    \n",
    "    indexes = np.where(np.logical_and(rmsd>=min_rmsd, rmsd<=max_rmsd))[0]\n",
    "    frames = arr[indexes, :, :][:200]\n",
    "    \n",
    "    print(mean(rmsd[indexes]))\n",
    "    print(frames.shape)\n",
    "    \n",
    "    directory = path\n",
    "    #os.mkdir(directory)\n",
    "    \n",
    "    mol_frames.coords = np.moveaxis(frames, 0, -1)\n",
    "    mol_frames.write(path + 'bba_ca.xtc')\n",
    "    \n",
    "    #np.save(os.path.join(directory, 'ww_ca.npy'), frames)\n",
    "    #min_rmsd += 2\n",
    "    #max_rmsd += 2\n",
    "    \n",
    "    "
   ]
  },
  {
   "cell_type": "code",
   "execution_count": 1,
   "id": "4daec1bf-9843-441a-af78-e28322ae21ee",
   "metadata": {},
   "outputs": [],
   "source": [
    "from torchmdexp.datasets.proteinfactory import ProteinFactory\n",
    "from torchmdexp.samplers.torchmd_sampler import TorchMD_Sampler, moleculekit_system_factory\n",
    "\n",
    "protein_factory = ProteinFactory('/shared/carles/repo/torchmd-exp/datasets', 'train_fast_folders.txt')"
   ]
  },
  {
   "cell_type": "code",
   "execution_count": 2,
   "id": "ab73871f-cab7-4dfc-9028-fc67d515d039",
   "metadata": {},
   "outputs": [],
   "source": [
    "protein_factory.set_levels('/workspace7/torchmd-AD/train_curriculum/fastfolders2/')"
   ]
  },
  {
   "cell_type": "code",
   "execution_count": 3,
   "id": "736b0b60-190a-4a6e-affc-21bc9ec17bfd",
   "metadata": {},
   "outputs": [],
   "source": [
    "protein = protein_factory.get_ground_truth(0)"
   ]
  },
  {
   "cell_type": "code",
   "execution_count": 5,
   "id": "4fa62452-ce19-43bb-91a8-5448ed96d1e2",
   "metadata": {},
   "outputs": [],
   "source": [
    "level = protein_factory.get_level(0)"
   ]
  },
  {
   "cell_type": "code",
   "execution_count": 4,
   "id": "ed530098-b991-4546-9361-38a64646d8da",
   "metadata": {},
   "outputs": [
    {
     "name": "stdout",
     "output_type": "stream",
     "text": [
      "bba_ca.pdb 28\n",
      "chignolin_cln025.pdb 10\n",
      "trp_ca.pdb 20\n",
      "ww_ca.pdb 34\n"
     ]
    }
   ],
   "source": [
    "for mol in protein:\n",
    "    print(mol.viewname, len(mol.resname))"
   ]
  },
  {
   "cell_type": "code",
   "execution_count": 8,
   "id": "184bba57-d977-4c20-b3e5-75369fe87bdf",
   "metadata": {},
   "outputs": [
    {
     "ename": "IndexError",
     "evalue": "list index out of range",
     "output_type": "error",
     "traceback": [
      "\u001b[0;31m---------------------------------------------------------------------------\u001b[0m",
      "\u001b[0;31mIndexError\u001b[0m                                Traceback (most recent call last)",
      "\u001b[0;32m/tmp/ipykernel_194425/1055718486.py\u001b[0m in \u001b[0;36m<module>\u001b[0;34m\u001b[0m\n\u001b[0;32m----> 1\u001b[0;31m \u001b[0mlevel\u001b[0m\u001b[0;34m[\u001b[0m\u001b[0;36m0\u001b[0m\u001b[0;34m]\u001b[0m\u001b[0;34m\u001b[0m\u001b[0;34m\u001b[0m\u001b[0m\n\u001b[0m",
      "\u001b[0;32m/shared/carles/miniconda3/envs/torchmd-exp/lib/python3.8/site-packages/torchmd_exp-0-py3.8.egg/torchmdexp/datasets/proteins.py\u001b[0m in \u001b[0;36m__getitem__\u001b[0;34m(self, index)\u001b[0m\n\u001b[1;32m     59\u001b[0m     \u001b[0;32mdef\u001b[0m \u001b[0m__getitem__\u001b[0m\u001b[0;34m(\u001b[0m\u001b[0mself\u001b[0m\u001b[0;34m,\u001b[0m \u001b[0mindex\u001b[0m\u001b[0;34m)\u001b[0m\u001b[0;34m:\u001b[0m\u001b[0;34m\u001b[0m\u001b[0;34m\u001b[0m\u001b[0m\n\u001b[1;32m     60\u001b[0m \u001b[0;34m\u001b[0m\u001b[0m\n\u001b[0;32m---> 61\u001b[0;31m         \u001b[0mselect_mols\u001b[0m \u001b[0;34m=\u001b[0m \u001b[0mself\u001b[0m\u001b[0;34m.\u001b[0m\u001b[0mmolecules\u001b[0m\u001b[0;34m[\u001b[0m\u001b[0mindex\u001b[0m\u001b[0;34m]\u001b[0m\u001b[0;34m\u001b[0m\u001b[0;34m\u001b[0m\u001b[0m\n\u001b[0m\u001b[1;32m     62\u001b[0m         \u001b[0mmolecules\u001b[0m \u001b[0;34m=\u001b[0m \u001b[0;34m[\u001b[0m\u001b[0;34m]\u001b[0m\u001b[0;34m\u001b[0m\u001b[0;34m\u001b[0m\u001b[0m\n\u001b[1;32m     63\u001b[0m         \u001b[0;32mif\u001b[0m \u001b[0misinstance\u001b[0m\u001b[0;34m(\u001b[0m\u001b[0mselect_mols\u001b[0m\u001b[0;34m,\u001b[0m \u001b[0mlist\u001b[0m\u001b[0;34m)\u001b[0m\u001b[0;34m:\u001b[0m\u001b[0;34m\u001b[0m\u001b[0;34m\u001b[0m\u001b[0m\n",
      "\u001b[0;31mIndexError\u001b[0m: list index out of range"
     ]
    }
   ],
   "source": [
    "level[0]"
   ]
  },
  {
   "cell_type": "code",
   "execution_count": 12,
   "id": "f8729293-9c29-4692-85d9-f32d2f43f0d5",
   "metadata": {},
   "outputs": [],
   "source": [
    "a = ['b', 'c']"
   ]
  },
  {
   "cell_type": "code",
   "execution_count": 13,
   "id": "629a9685-05f7-40dd-8eda-8273667a5490",
   "metadata": {},
   "outputs": [
    {
     "data": {
      "text/plain": [
       "['b', 'c']"
      ]
     },
     "execution_count": 13,
     "metadata": {},
     "output_type": "execute_result"
    }
   ],
   "source": [
    "a[0:2]"
   ]
  },
  {
   "cell_type": "code",
   "execution_count": 9,
   "id": "c3dd26cc-206f-4868-a1b7-f7b041d676da",
   "metadata": {},
   "outputs": [],
   "source": [
    "a = 10"
   ]
  },
  {
   "cell_type": "code",
   "execution_count": 12,
   "id": "95abddf3-8f45-4d0c-a91c-7fb5278d3167",
   "metadata": {},
   "outputs": [],
   "source": [
    "total_dict = {}\n",
    "for a in range(10):\n",
    "    total_dict['system'+str(a)] = None\n",
    "    total_dict['native_U'+str(a)] = None"
   ]
  },
  {
   "cell_type": "code",
   "execution_count": 16,
   "id": "946610a5-f30a-4867-a232-fa601c1595b2",
   "metadata": {},
   "outputs": [
    {
     "ename": "SyntaxError",
     "evalue": "invalid syntax (896353953.py, line 1)",
     "output_type": "error",
     "traceback": [
      "\u001b[0;36m  File \u001b[0;32m\"/tmp/ipykernel_194425/896353953.py\"\u001b[0;36m, line \u001b[0;32m1\u001b[0m\n\u001b[0;31m    total_dict = {'system' + str(a): None, 'native_U'+str(a): None for a in range(10)}\u001b[0m\n\u001b[0m                                                                   ^\u001b[0m\n\u001b[0;31mSyntaxError\u001b[0m\u001b[0;31m:\u001b[0m invalid syntax\n"
     ]
    }
   ],
   "source": [
    "total_dict = {'system' + str(a): None, 'native_U'+str(a): None for a in range(10)}"
   ]
  },
  {
   "cell_type": "code",
   "execution_count": 45,
   "id": "30a8064c-3908-447c-a685-db0b817112b3",
   "metadata": {},
   "outputs": [],
   "source": [
    "import torch\n",
    "currpos = torch.zeros((80, 10, 3))"
   ]
  },
  {
   "cell_type": "code",
   "execution_count": 46,
   "id": "cc6c8068-985b-4a3a-8651-7be99137c11d",
   "metadata": {},
   "outputs": [],
   "source": [
    "currpos = currpos.detach().cpu().numpy().copy()"
   ]
  },
  {
   "cell_type": "code",
   "execution_count": 47,
   "id": "6620ec7d-095c-46e6-895d-934281e16fee",
   "metadata": {},
   "outputs": [
    {
     "data": {
      "text/plain": [
       "(80, 10, 3)"
      ]
     },
     "execution_count": 47,
     "metadata": {},
     "output_type": "execute_result"
    }
   ],
   "source": [
    "currpos.shape"
   ]
  },
  {
   "cell_type": "code",
   "execution_count": 63,
   "id": "4305938b-8d86-4536-b14d-b4d7e9d0c0d5",
   "metadata": {},
   "outputs": [
    {
     "data": {
      "text/plain": [
       "(160, 10, 3)"
      ]
     },
     "execution_count": 63,
     "metadata": {},
     "output_type": "execute_result"
    }
   ],
   "source": [
    "np.append(currpos, currpos, axis=0).shape"
   ]
  },
  {
   "cell_type": "code",
   "execution_count": 60,
   "id": "9ee2a7f8-c6ba-4e26-aa06-4a8f2e41f323",
   "metadata": {},
   "outputs": [
    {
     "ename": "TypeError",
     "evalue": "Cannot interpret '0' as a data type",
     "output_type": "error",
     "traceback": [
      "\u001b[0;31m---------------------------------------------------------------------------\u001b[0m",
      "\u001b[0;31mTypeError\u001b[0m                                 Traceback (most recent call last)",
      "\u001b[0;32m/tmp/ipykernel_239655/761492091.py\u001b[0m in \u001b[0;36m<module>\u001b[0;34m\u001b[0m\n\u001b[0;32m----> 1\u001b[0;31m \u001b[0mnp\u001b[0m\u001b[0;34m.\u001b[0m\u001b[0mstack\u001b[0m\u001b[0;34m(\u001b[0m\u001b[0mtraj\u001b[0m\u001b[0;34m)\u001b[0m\u001b[0;34m.\u001b[0m\u001b[0mview\u001b[0m\u001b[0;34m(\u001b[0m\u001b[0;36m0\u001b[0m\u001b[0;34m)\u001b[0m\u001b[0;34m.\u001b[0m\u001b[0mshape\u001b[0m\u001b[0;34m\u001b[0m\u001b[0;34m\u001b[0m\u001b[0m\n\u001b[0m",
      "\u001b[0;31mTypeError\u001b[0m: Cannot interpret '0' as a data type"
     ]
    }
   ],
   "source": [
    "np.stack(traj).view(0).shape"
   ]
  },
  {
   "cell_type": "code",
   "execution_count": 28,
   "id": "f403a03f-9801-4642-8b44-70d65b4566f1",
   "metadata": {},
   "outputs": [
    {
     "data": {
      "text/plain": [
       "list"
      ]
     },
     "execution_count": 28,
     "metadata": {},
     "output_type": "execute_result"
    }
   ],
   "source": [
    "type(traj)"
   ]
  },
  {
   "cell_type": "code",
   "execution_count": 29,
   "id": "a154a0d1-7b7e-490b-9e49-4db2ad1f11a7",
   "metadata": {},
   "outputs": [],
   "source": [
    "trajs = {'a': 2}"
   ]
  },
  {
   "cell_type": "code",
   "execution_count": 31,
   "id": "7f908778-d72e-4e40-8a00-7dbc3ef3eb24",
   "metadata": {},
   "outputs": [
    {
     "name": "stdout",
     "output_type": "stream",
     "text": [
      "sss\n"
     ]
    }
   ],
   "source": [
    "if 'a' in trajs.keys():\n",
    "    print('sss')"
   ]
  },
  {
   "cell_type": "code",
   "execution_count": 34,
   "id": "e3677111-4f66-4742-b71f-22d5a20c8e6b",
   "metadata": {},
   "outputs": [
    {
     "name": "stdout",
     "output_type": "stream",
     "text": [
      "dict_keys(['a'])\n"
     ]
    }
   ],
   "source": [
    "print(trajs.keys())"
   ]
  },
  {
   "cell_type": "code",
   "execution_count": null,
   "id": "53bc5369-eb95-46ea-9e9a-1408ed04e112",
   "metadata": {},
   "outputs": [],
   "source": []
  }
 ],
 "metadata": {
  "kernelspec": {
   "display_name": "torchmd-exp",
   "language": "python",
   "name": "torchmd-exp"
  },
  "language_info": {
   "codemirror_mode": {
    "name": "ipython",
    "version": 3
   },
   "file_extension": ".py",
   "mimetype": "text/x-python",
   "name": "python",
   "nbconvert_exporter": "python",
   "pygments_lexer": "ipython3",
   "version": "3.8.10"
  }
 },
 "nbformat": 4,
 "nbformat_minor": 5
}
