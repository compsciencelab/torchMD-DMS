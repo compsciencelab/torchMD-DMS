{
 "cells": [
  {
   "cell_type": "code",
   "execution_count": 16,
   "id": "9f49e436-57fb-4947-98cf-9c10c3b2b7d6",
   "metadata": {},
   "outputs": [],
   "source": [
    "from moleculekit.molecule import Molecule\n",
    "from moleculekit.projections.metricrmsd import MetricRmsd\n",
    "import numpy as np\n",
    "import os"
   ]
  },
  {
   "cell_type": "code",
   "execution_count": 17,
   "id": "97670aca-f042-46d2-9072-f9a57ef99c9e",
   "metadata": {},
   "outputs": [],
   "source": [
    "xtc = f'../data/cln/cln_kcenters_64clusters_coords.xtc'\n",
    "psf = f'../data/cln/cln_ca_top_dih.psf'\n",
    "\n",
    "ref_pdb = f'../data/cln/cln_ca.pdb'"
   ]
  },
  {
   "cell_type": "code",
   "execution_count": 18,
   "id": "ecd3e124-b021-4a51-9f1b-a20a3db2c09e",
   "metadata": {},
   "outputs": [],
   "source": [
    "mol = Molecule(psf)\n",
    "mol.read(xtc)\n",
    "\n",
    "ref_mol = Molecule(psf)\n",
    "ref_mol.read(ref_pdb)\n",
    "\n",
    "mol_curriculum = Molecule(psf)"
   ]
  },
  {
   "cell_type": "code",
   "execution_count": 20,
   "id": "6af81aa2-7282-41cb-8686-cdea17826d9d",
   "metadata": {},
   "outputs": [
    {
     "name": "stdout",
     "output_type": "stream",
     "text": [
      "0.8739174\n",
      "1.4634277\n",
      "2.8587408\n",
      "3.779713\n",
      "4.0096207\n",
      "5.7043376\n",
      "6.3186293\n"
     ]
    }
   ],
   "source": [
    "import copy\n",
    "\n",
    "min_rmsd = 0\n",
    "max_rmsd = 1\n",
    "stop = False\n",
    "level = 0\n",
    "\n",
    "while stop == False:\n",
    "    stop = True\n",
    "    for i in range(64):\n",
    "        mol1 = copy.deepcopy(mol)\n",
    "        mol1.dropFrames(keep=[i])\n",
    "\n",
    "\n",
    "        mol1.align('name CA', refmol=ref_mol)\n",
    "        rmsd_proj = MetricRmsd(ref_mol, 'name CA', centerstr='name CA', pbc=False)\n",
    "        rmsd = rmsd_proj.project(mol1)\n",
    "\n",
    "        if min_rmsd <= rmsd <= max_rmsd:\n",
    "            print(rmsd)\n",
    "            min_rmsd += 1\n",
    "            max_rmsd += 1\n",
    "            stop = False       \n",
    "            path = '/workspace7/torchmd-AD/train_curriculum/cln/levels/level' + str(level)\n",
    "            os.mkdir(path)\n",
    "            mol1.write(os.path.join(path, 'chignolin_cln025.xtc' ))\n",
    "            level += 1\n",
    "    \n",
    "    "
   ]
  },
  {
   "cell_type": "code",
   "execution_count": 120,
   "id": "1fe51fb2-2cd2-4575-a7f9-9ff987f74c5a",
   "metadata": {},
   "outputs": [],
   "source": [
    "mol_curriculum.write('/workspace7/torchmd-AD/train_curriculum/cln/psf/chignolin_cln025.psf')\n",
    "mol_curriculum.write('/workspace7/torchmd-AD/train_curriculum/cln/xtc/chignolin_cln025.xtc')"
   ]
  },
  {
   "cell_type": "code",
   "execution_count": 117,
   "id": "a129c0d0-205e-4dcd-ad1c-fc1aa2d3311d",
   "metadata": {},
   "outputs": [
    {
     "data": {
      "text/plain": [
       "(10, 3, 7)"
      ]
     },
     "execution_count": 117,
     "metadata": {},
     "output_type": "execute_result"
    }
   ],
   "source": [
    "mol_curriculum.coords.shape"
   ]
  },
  {
   "cell_type": "code",
   "execution_count": 105,
   "id": "e8208c92-6d8d-475f-bb84-cfa6f626ade9",
   "metadata": {},
   "outputs": [],
   "source": [
    "import numpy as np\n",
    "mol_curriculum.coords = np.append(mol_curriculum.coords, mol1.coords, axis = 2)"
   ]
  },
  {
   "cell_type": "code",
   "execution_count": 122,
   "id": "3f9cf0a3-5d03-4fc7-823e-93395785aa31",
   "metadata": {},
   "outputs": [
    {
     "data": {
      "text/plain": [
       "(10, 3, 7)"
      ]
     },
     "execution_count": 122,
     "metadata": {},
     "output_type": "execute_result"
    }
   ],
   "source": [
    "mol_curriculum.coords.shape"
   ]
  },
  {
   "cell_type": "code",
   "execution_count": 124,
   "id": "27cb5242-ad8d-4130-a4dc-2ab0d6aaac61",
   "metadata": {},
   "outputs": [
    {
     "ename": "SyntaxError",
     "evalue": "invalid syntax (2479552982.py, line 1)",
     "output_type": "error",
     "traceback": [
      "\u001b[0;36m  File \u001b[0;32m\"/tmp/ipykernel_224160/2479552982.py\"\u001b[0;36m, line \u001b[0;32m1\u001b[0m\n\u001b[0;31m    np.take(mol_curriculum.coords, :)\u001b[0m\n\u001b[0m                                   ^\u001b[0m\n\u001b[0;31mSyntaxError\u001b[0m\u001b[0;31m:\u001b[0m invalid syntax\n"
     ]
    }
   ],
   "source": [
    "np.take(mol_curriculum.coords, :)"
   ]
  },
  {
   "cell_type": "code",
   "execution_count": 133,
   "id": "a7a688a9-5e64-448d-84f6-845bead1caf9",
   "metadata": {},
   "outputs": [
    {
     "data": {
      "text/plain": [
       "(10, 3, 1)"
      ]
     },
     "execution_count": 133,
     "metadata": {},
     "output_type": "execute_result"
    }
   ],
   "source": [
    "mol_curriculum.coords[:, :, np.array([1])].shape"
   ]
  },
  {
   "cell_type": "code",
   "execution_count": 22,
   "id": "ee1757d8-ee8b-4441-ae97-d0428b31da4b",
   "metadata": {},
   "outputs": [
    {
     "name": "stdout",
     "output_type": "stream",
     "text": [
      "/workspace7/torchmd-AD/train_curriculum/cln/levels/level0/chignolin_cln025.xtc\n",
      "/workspace7/torchmd-AD/train_curriculum/cln/levels/level0\n",
      "/workspace7/torchmd-AD/train_curriculum/cln/levels/level1/chignolin_cln025.xtc\n",
      "/workspace7/torchmd-AD/train_curriculum/cln/levels/level1\n",
      "/workspace7/torchmd-AD/train_curriculum/cln/levels/level2/chignolin_cln025.xtc\n",
      "/workspace7/torchmd-AD/train_curriculum/cln/levels/level2\n",
      "/workspace7/torchmd-AD/train_curriculum/cln/levels/level3/chignolin_cln025.xtc\n",
      "/workspace7/torchmd-AD/train_curriculum/cln/levels/level3\n",
      "/workspace7/torchmd-AD/train_curriculum/cln/levels/level4/chignolin_cln025.xtc\n",
      "/workspace7/torchmd-AD/train_curriculum/cln/levels/level4\n",
      "/workspace7/torchmd-AD/train_curriculum/cln/levels/level5/chignolin_cln025.xtc\n",
      "/workspace7/torchmd-AD/train_curriculum/cln/levels/level5\n",
      "/workspace7/torchmd-AD/train_curriculum/cln/levels/level6/chignolin_cln025.xtc\n",
      "/workspace7/torchmd-AD/train_curriculum/cln/levels/level6\n"
     ]
    }
   ],
   "source": [
    "rootdir = '/workspace7/torchmd-AD/train_curriculum/cln/levels'\n",
    "for subdir, dirs, files in os.walk(rootdir):\n",
    "    for file in files:\n",
    "        print(os.path.join(subdir, file))\n",
    "        print(subdir)"
   ]
  },
  {
   "cell_type": "code",
   "execution_count": 26,
   "id": "0e9cc76f-ee4f-4266-af4d-d8de08f5813e",
   "metadata": {},
   "outputs": [],
   "source": [
    "for filename in os.listdir(rootdir):\n",
    "\tos.path.join(rootdir, filename)\n"
   ]
  },
  {
   "cell_type": "code",
   "execution_count": null,
   "id": "9f124c60-c435-4f8b-9dc2-10de92528e2c",
   "metadata": {},
   "outputs": [],
   "source": []
  }
 ],
 "metadata": {
  "kernelspec": {
   "display_name": "torchmd-exp",
   "language": "python",
   "name": "torchmd-exp"
  },
  "language_info": {
   "codemirror_mode": {
    "name": "ipython",
    "version": 3
   },
   "file_extension": ".py",
   "mimetype": "text/x-python",
   "name": "python",
   "nbconvert_exporter": "python",
   "pygments_lexer": "ipython3",
   "version": "3.8.10"
  }
 },
 "nbformat": 4,
 "nbformat_minor": 5
}
