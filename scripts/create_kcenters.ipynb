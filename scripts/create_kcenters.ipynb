{
 "cells": [
  {
   "cell_type": "code",
   "execution_count": 43,
   "id": "3c0a3bc6-d54b-457a-bf52-8805f29c116f",
   "metadata": {},
   "outputs": [],
   "source": [
    "from moleculekit.molecule import Molecule\n",
    "from moleculekit.projections.metricrmsd import MetricRmsd\n",
    "import numpy as np\n",
    "import os"
   ]
  },
  {
   "cell_type": "code",
   "execution_count": 164,
   "id": "2f6c6d8f-b200-4b35-910f-bc6b400d9fe3",
   "metadata": {},
   "outputs": [],
   "source": [
    "xtc = f'../data/bbl/bbl_kcenters_32clusters_coords.xtc'\n",
    "psf = f'../data/bbl/bbl_ca_top_dih.psf'\n",
    "\n",
    "ref_pdb = f'../data/bbl/bbl_ca.pdb'"
   ]
  },
  {
   "cell_type": "code",
   "execution_count": 165,
   "id": "47f46a4f-1c67-47dd-ace9-8d0dbbed0f65",
   "metadata": {},
   "outputs": [],
   "source": [
    "mol = Molecule(psf)\n",
    "\n",
    "ref_mol = Molecule(psf)\n",
    "ref_mol.read(ref_pdb)\n",
    "\n",
    "mol_curriculum = Molecule(psf)\n",
    "mol_curriculum.read(xtc)"
   ]
  },
  {
   "cell_type": "code",
   "execution_count": 166,
   "id": "f4ef206a-1533-4794-b776-05fb9dc8ee4d",
   "metadata": {},
   "outputs": [],
   "source": [
    "for i in range(8):\n",
    "    mol_curriculum.align('name CA', refmol=ref_mol)\n",
    "    rmsd_proj = MetricRmsd(ref_mol, 'name CA', centerstr='name CA', pbc=False)\n",
    "    rmsd = rmsd_proj.project(mol_curriculum)"
   ]
  },
  {
   "cell_type": "code",
   "execution_count": 167,
   "id": "91961e64-af49-430c-b95a-31866223353f",
   "metadata": {},
   "outputs": [
    {
     "data": {
      "text/plain": [
       "array([ 4.6712747,  9.722561 ,  5.2582297,  5.8588276,  4.900193 ,\n",
       "       11.85906  ,  4.3117085,  6.1564317,  3.2615628, 10.89275  ,\n",
       "       10.215372 , 10.144304 ,  6.8334227,  5.143973 ,  9.937783 ,\n",
       "        4.877792 , 12.197321 , 13.234872 ,  3.8752348,  5.4055567,\n",
       "       10.007426 ,  6.2945223,  5.1763687,  8.716087 ,  4.558896 ,\n",
       "        4.366497 , 10.512697 ,  5.893644 ,  9.9570875,  6.6918297,\n",
       "       11.933989 ,  9.955893 ], dtype=float32)"
      ]
     },
     "execution_count": 167,
     "metadata": {},
     "output_type": "execute_result"
    }
   ],
   "source": [
    "rmsd"
   ]
  },
  {
   "cell_type": "code",
   "execution_count": 168,
   "id": "77592ac7-6852-4ccb-881b-356ac253ac3f",
   "metadata": {},
   "outputs": [],
   "source": [
    "[mol_curriculum.dropFrames(8) for _ in range(64)]\n",
    "mol_curriculum.write(f'../data/bbl/bbl_kcenters_8clusters_coords.xtc')"
   ]
  },
  {
   "cell_type": "code",
   "execution_count": 120,
   "id": "28e9d2fe-9f15-4e16-ba71-38ef8d40dfd7",
   "metadata": {},
   "outputs": [],
   "source": [
    "from torchmdexp.samplers.utils import get_embeddings"
   ]
  },
  {
   "cell_type": "code",
   "execution_count": 145,
   "id": "c31b5eaf-9f66-4eab-adec-405705023690",
   "metadata": {},
   "outputs": [
    {
     "data": {
      "text/plain": [
       "tensor([[20, 12,  5,  6,  5,  3, 19,  1, 14,  3,  2, 15, 13, 18, 12,  1,  3,  1,\n",
       "          9, 20,  8, 20,  7, 17, 10, 10, 11, 20, 17, 19,  6, 19,  2, 20,  3]],\n",
       "       device='cuda:0')"
      ]
     },
     "execution_count": 145,
     "metadata": {},
     "output_type": "execute_result"
    }
   ],
   "source": [
    "get_embeddings(mol, 'cuda:0', 1)"
   ]
  },
  {
   "cell_type": "code",
   "execution_count": 122,
   "id": "85805a5b-6d0d-4bbe-aed2-3967589becca",
   "metadata": {},
   "outputs": [
    {
     "data": {
      "text/plain": [
       "(47, 3, 8)"
      ]
     },
     "execution_count": 122,
     "metadata": {},
     "output_type": "execute_result"
    }
   ],
   "source": [
    "#[mol_curriculum.dropFrames(8) for _ in range(32)]\n",
    "mol_curriculum.coords.shape"
   ]
  },
  {
   "cell_type": "code",
   "execution_count": 34,
   "id": "453271d5-007a-41dd-9f6d-d8d170a71153",
   "metadata": {},
   "outputs": [],
   "source": [
    "mol_curriculum.write(f'../data/bba/bba_kcenters_8clusters_coords_1fold.xtc')"
   ]
  },
  {
   "cell_type": "code",
   "execution_count": 27,
   "id": "6165777c-43d5-40c1-afd5-503c05327842",
   "metadata": {},
   "outputs": [],
   "source": [
    "mol_curriculum.coords[:, :, 0] = ref_mol.coords[:, :, 0]"
   ]
  },
  {
   "cell_type": "code",
   "execution_count": 25,
   "id": "9b4ec57b-41e7-4b56-9bf1-49929c9003f5",
   "metadata": {},
   "outputs": [
    {
     "data": {
      "text/plain": [
       "(28, 3, 1)"
      ]
     },
     "execution_count": 25,
     "metadata": {},
     "output_type": "execute_result"
    }
   ],
   "source": [
    "ref_mol.coords.shape"
   ]
  },
  {
   "cell_type": "code",
   "execution_count": 43,
   "id": "015bc984-23c0-4e79-9759-118f58beb815",
   "metadata": {},
   "outputs": [
    {
     "data": {
      "text/plain": [
       "(28, 3, 8)"
      ]
     },
     "execution_count": 43,
     "metadata": {},
     "output_type": "execute_result"
    }
   ],
   "source": [
    "mol_curriculum.coords.shape"
   ]
  },
  {
   "cell_type": "code",
   "execution_count": 110,
   "id": "3fe58fc5-8747-4648-be94-6e3675e08874",
   "metadata": {},
   "outputs": [
    {
     "name": "stdout",
     "output_type": "stream",
     "text": [
      "0\n",
      "1\n",
      "3\n",
      "4\n",
      "5\n"
     ]
    }
   ],
   "source": [
    "for i in range(6):\n",
    "    if i ==2: \n",
    "        continue\n",
    "    print(i)"
   ]
  },
  {
   "cell_type": "code",
   "execution_count": null,
   "id": "34f904f6-e537-4cb1-9a08-3a3943d22186",
   "metadata": {},
   "outputs": [],
   "source": []
  }
 ],
 "metadata": {
  "kernelspec": {
   "display_name": "torchmd-exp",
   "language": "python",
   "name": "torchmd-exp"
  },
  "language_info": {
   "codemirror_mode": {
    "name": "ipython",
    "version": 3
   },
   "file_extension": ".py",
   "mimetype": "text/x-python",
   "name": "python",
   "nbconvert_exporter": "python",
   "pygments_lexer": "ipython3",
   "version": "3.8.10"
  }
 },
 "nbformat": 4,
 "nbformat_minor": 5
}
