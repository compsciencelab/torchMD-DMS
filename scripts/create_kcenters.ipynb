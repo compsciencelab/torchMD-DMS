{
 "cells": [
  {
   "cell_type": "code",
   "execution_count": 35,
   "id": "3c0a3bc6-d54b-457a-bf52-8805f29c116f",
   "metadata": {},
   "outputs": [],
   "source": [
    "from moleculekit.molecule import Molecule\n",
    "from moleculekit.projections.metricrmsd import MetricRmsd\n",
    "import numpy as np\n",
    "import os"
   ]
  },
  {
   "cell_type": "code",
   "execution_count": 44,
   "id": "2f6c6d8f-b200-4b35-910f-bc6b400d9fe3",
   "metadata": {},
   "outputs": [],
   "source": [
    "xtc = f'../data/bba/bba_kcenters_32clusters_coords.xtc'\n",
    "psf = f'../data/bba/bba_ca_top_dih.psf'\n",
    "\n",
    "ref_pdb = f'../data/bba/bba_ca.pdb'"
   ]
  },
  {
   "cell_type": "code",
   "execution_count": 45,
   "id": "47f46a4f-1c67-47dd-ace9-8d0dbbed0f65",
   "metadata": {},
   "outputs": [],
   "source": [
    "mol = Molecule(psf)\n",
    "\n",
    "ref_mol = Molecule(psf)\n",
    "ref_mol.read(ref_pdb)\n",
    "\n",
    "mol_curriculum = Molecule(psf)\n",
    "mol_curriculum.read(xtc)"
   ]
  },
  {
   "cell_type": "code",
   "execution_count": 46,
   "id": "f4ef206a-1533-4794-b776-05fb9dc8ee4d",
   "metadata": {},
   "outputs": [],
   "source": [
    "for i in range(8):\n",
    "    mol_curriculum.align('name CA', refmol=ref_mol)\n",
    "    rmsd_proj = MetricRmsd(ref_mol, 'name CA', centerstr='name CA', pbc=False)\n",
    "    rmsd = rmsd_proj.project(mol_curriculum)"
   ]
  },
  {
   "cell_type": "code",
   "execution_count": 47,
   "id": "91961e64-af49-430c-b95a-31866223353f",
   "metadata": {},
   "outputs": [
    {
     "data": {
      "text/plain": [
       "array([4.960668 , 9.543283 , 7.631129 , 8.114748 , 8.109285 , 4.144315 ,\n",
       "       4.433086 , 9.09941  , 7.425953 , 8.025719 , 9.294232 , 6.9411087,\n",
       "       9.744199 , 5.1860237, 4.300772 , 4.30008  , 7.6062784, 7.505241 ,\n",
       "       6.5705585, 5.59957  , 9.368737 , 7.3231506, 9.385738 , 8.670535 ,\n",
       "       2.3389888, 7.855129 , 8.125128 , 9.026683 , 3.142902 , 6.788547 ,\n",
       "       6.861027 , 8.820472 ], dtype=float32)"
      ]
     },
     "execution_count": 47,
     "metadata": {},
     "output_type": "execute_result"
    }
   ],
   "source": [
    "rmsd"
   ]
  },
  {
   "cell_type": "code",
   "execution_count": 7,
   "id": "28e9d2fe-9f15-4e16-ba71-38ef8d40dfd7",
   "metadata": {},
   "outputs": [],
   "source": [
    "from torchmdexp.samplers.utils import get_embeddings"
   ]
  },
  {
   "cell_type": "code",
   "execution_count": 8,
   "id": "c31b5eaf-9f66-4eab-adec-405705023690",
   "metadata": {},
   "outputs": [
    {
     "data": {
      "text/plain": [
       "tensor([[ 6, 10,  4, 13,  1, 19,  4, 19,  2, 18, 13,  3, 18,  9,  6, 19,  6, 20,\n",
       "         18,  5,  3, 21,  6, 19,  3, 19,  2, 18]], device='cuda:0')"
      ]
     },
     "execution_count": 8,
     "metadata": {},
     "output_type": "execute_result"
    }
   ],
   "source": [
    "get_embeddings(mol, 'cuda:0', 1)"
   ]
  },
  {
   "cell_type": "code",
   "execution_count": 49,
   "id": "85805a5b-6d0d-4bbe-aed2-3967589becca",
   "metadata": {},
   "outputs": [
    {
     "data": {
      "text/plain": [
       "(20, 3, 8)"
      ]
     },
     "execution_count": 49,
     "metadata": {},
     "output_type": "execute_result"
    }
   ],
   "source": [
    "#[mol_curriculum.dropFrames(8) for _ in range(32)]\n",
    "mol_curriculum.coords.shape"
   ]
  },
  {
   "cell_type": "code",
   "execution_count": 34,
   "id": "453271d5-007a-41dd-9f6d-d8d170a71153",
   "metadata": {},
   "outputs": [],
   "source": [
    "mol_curriculum.write(f'../data/bba/bba_kcenters_8clusters_coords_1fold.xtc')"
   ]
  },
  {
   "cell_type": "code",
   "execution_count": 27,
   "id": "6165777c-43d5-40c1-afd5-503c05327842",
   "metadata": {},
   "outputs": [],
   "source": [
    "mol_curriculum.coords[:, :, 0] = ref_mol.coords[:, :, 0]"
   ]
  },
  {
   "cell_type": "code",
   "execution_count": 25,
   "id": "9b4ec57b-41e7-4b56-9bf1-49929c9003f5",
   "metadata": {},
   "outputs": [
    {
     "data": {
      "text/plain": [
       "(28, 3, 1)"
      ]
     },
     "execution_count": 25,
     "metadata": {},
     "output_type": "execute_result"
    }
   ],
   "source": [
    "ref_mol.coords.shape"
   ]
  },
  {
   "cell_type": "code",
   "execution_count": 43,
   "id": "015bc984-23c0-4e79-9759-118f58beb815",
   "metadata": {},
   "outputs": [
    {
     "data": {
      "text/plain": [
       "(28, 3, 8)"
      ]
     },
     "execution_count": 43,
     "metadata": {},
     "output_type": "execute_result"
    }
   ],
   "source": [
    "mol_curriculum.coords.shape"
   ]
  },
  {
   "cell_type": "code",
   "execution_count": null,
   "id": "3fe58fc5-8747-4648-be94-6e3675e08874",
   "metadata": {},
   "outputs": [],
   "source": []
  }
 ],
 "metadata": {
  "kernelspec": {
   "display_name": "torchmd-exp",
   "language": "python",
   "name": "torchmd-exp"
  },
  "language_info": {
   "codemirror_mode": {
    "name": "ipython",
    "version": 3
   },
   "file_extension": ".py",
   "mimetype": "text/x-python",
   "name": "python",
   "nbconvert_exporter": "python",
   "pygments_lexer": "ipython3",
   "version": "3.8.10"
  }
 },
 "nbformat": 4,
 "nbformat_minor": 5
}
