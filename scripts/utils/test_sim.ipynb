{
 "cells": [
  {
   "cell_type": "markdown",
   "id": "3b409248-bd64-465e-bd35-3808b2e01e7b",
   "metadata": {},
   "source": [
    "## System steup"
   ]
  },
  {
   "cell_type": "code",
   "execution_count": 29,
   "id": "bf3345c7-24b5-42d1-a541-200a2cd985a8",
   "metadata": {},
   "outputs": [],
   "source": [
    "from moleculekit.molecule import Molecule\n",
    "import os\n",
    "import importlib\n",
    "from torchmdexp.losses.rmsd import rmsd\n",
    "from torchmdexp.losses.tmscore import tm_score\n",
    "from torchmdexp.samplers.utils import get_native_coords, get_embeddings\n",
    "from moleculekit.projections.metricrmsd import MetricRmsd\n",
    "from moleculekit.projections.metrictmscore import MetricTMscore\n",
    "import numpy as np\n",
    "import torch\n",
    "\n",
    "device = \"cuda:0\"\n",
    "precision = torch.float"
   ]
  },
  {
   "cell_type": "code",
   "execution_count": 30,
   "id": "481ab516-6e71-47e5-a2e8-e41203544437",
   "metadata": {},
   "outputs": [],
   "source": [
    "domain = '1jfk'\n",
    "ref_pdb = f'/workspace7/torchmd-AD/carles_cath/9b_good_train/1jfk/level_0/ground_truth/{domain}.pdb'\n",
    "ref_psf = f'/workspace7/torchmd-AD/carles_cath/9b_good_topology/{domain}.psf'\n",
    "#ref_xtc =  f'/workspace7/torchmd-AD/carles_cath/9b_good_xtc/{domain}_8kcenters.xtc'\n",
    "#mol = Molecule(ref_xtc)\n",
    "ref_mol = Molecule(ref_pdb)\n",
    "ref_mol.filter('name CA')\n",
    "\n",
    "mol = ref_mol\n",
    "#mol.read(ref_psf)\n",
    "ref_mol.read(ref_psf)"
   ]
  },
  {
   "cell_type": "code",
   "execution_count": 62,
   "id": "9f4fe95f-8193-4f40-a80d-1245ab22a072",
   "metadata": {},
   "outputs": [],
   "source": [
    "#mol.read(ref_xtc)"
   ]
  },
  {
   "cell_type": "code",
   "execution_count": 26,
   "id": "2c207a03-5c39-4ec9-8c44-86960c7016c5",
   "metadata": {},
   "outputs": [],
   "source": [
    "mol = Molecule('/shared/carles/repo/torchmd-exp/data/villin/villin_ca_top_dih.psf')\n",
    "mol.read('/shared/carles/repo/torchmd-exp/data/villin/villin_kcenters_8clusters_coords.xtc')\n",
    "ref_mol = Molecule('/shared/carles/repo/torchmd-exp/data/villin/villin_ca.pdb')"
   ]
  },
  {
   "cell_type": "code",
   "execution_count": 31,
   "id": "6426d7d7-d96e-4974-927f-cb7daef73b6f",
   "metadata": {},
   "outputs": [
    {
     "name": "stdout",
     "output_type": "stream",
     "text": [
      "Starting rmsd:  tensor(0.0076, device='cuda:0')\n"
     ]
    }
   ],
   "source": [
    "# Compute starting coords\n",
    "#[mol.dropFrames(1) for _ in range(32)]\n",
    "\n",
    "#mol.coords = np.expand_dims(mol.coords[:, : , ], axis=-1)\n",
    "#mol.box = np.expand_dims(mol.box[:, 0], axis=-1)\n",
    "\n",
    "\n",
    "native_coords = get_native_coords(ref_mol, device)\n",
    "native_coords = native_coords.type(precision)\n",
    "coords = get_native_coords(mol, device)\n",
    "coords = coords.type(precision)\n",
    "\n",
    "\n",
    "print('Starting rmsd: ', rmsd(coords, native_coords))"
   ]
  },
  {
   "cell_type": "code",
   "execution_count": 32,
   "id": "bec6c13f-95e6-4f23-8e0e-a08a18cfc232",
   "metadata": {},
   "outputs": [
    {
     "data": {
      "text/plain": [
       "tensor(1.0000, device='cuda:0')"
      ]
     },
     "execution_count": 32,
     "metadata": {},
     "output_type": "execute_result"
    }
   ],
   "source": [
    "tm_score(coords, native_coords)"
   ]
  },
  {
   "cell_type": "code",
   "execution_count": 33,
   "id": "4865b6d9-8f16-4999-b074-4f18bfa02d33",
   "metadata": {},
   "outputs": [],
   "source": [
    "from torchmd.forcefields.forcefield import ForceField\n",
    "from torchmd.parameters import Parameters\n",
    "\n",
    "\n",
    "ff = ForceField.create(mol, '/shared/carles/repo/torchmd-exp/data/ca_priors-dihedrals_general.yaml')\n",
    "parameters = Parameters(ff, mol, precision=precision, device=device)"
   ]
  },
  {
   "cell_type": "code",
   "execution_count": 34,
   "id": "1f08b1f5-c8da-4aa8-a19f-e2ecd90e1074",
   "metadata": {},
   "outputs": [],
   "source": [
    "from torchmd.integrator import maxwell_boltzmann\n",
    "from torchmd.systems import System\n",
    "\n",
    "system = System(mol.numAtoms, nreplicas=1, precision=precision, device=device)\n",
    "system.set_positions(mol.coords)\n",
    "system.set_box(mol.box)\n",
    "system.set_velocities(maxwell_boltzmann(parameters.masses, T=350, replicas=1))"
   ]
  },
  {
   "cell_type": "code",
   "execution_count": 35,
   "id": "1e185604-3f17-495e-a0e1-c93f63c32605",
   "metadata": {},
   "outputs": [
    {
     "data": {
      "text/plain": [
       "tensor([[[ 2.0730e+00,  0.0000e+00, -1.2450e+00],\n",
       "         [ 4.2120e+00, -3.0510e+00, -5.8100e-01],\n",
       "         [ 4.2400e+00, -4.3110e+00, -4.1500e+00],\n",
       "         [ 4.2540e+00, -7.9700e-01, -5.5550e+00],\n",
       "         [ 7.5600e+00, -5.3900e-01, -3.7300e+00],\n",
       "         [ 8.9440e+00, -3.7610e+00, -5.1540e+00],\n",
       "         [ 7.9780e+00, -2.7250e+00, -8.6630e+00],\n",
       "         [ 9.0060e+00,  8.5200e-01, -7.9740e+00],\n",
       "         [ 1.2541e+01, -7.9000e-02, -6.9920e+00],\n",
       "         [ 1.2557e+01, -2.1730e+00, -1.0145e+01],\n",
       "         [ 1.3320e+01,  8.0100e-01, -1.2357e+01],\n",
       "         [ 1.3704e+01, -1.7230e+00, -1.5151e+01],\n",
       "         [ 1.0001e+01, -2.3720e+00, -1.4709e+01],\n",
       "         [ 9.9660e+00, -6.0940e+00, -1.5399e+01],\n",
       "         [ 8.3910e+00, -7.5110e+00, -1.2263e+01],\n",
       "         [ 1.1346e+01, -9.0280e+00, -1.0449e+01],\n",
       "         [ 1.3974e+01, -8.0370e+00, -7.9120e+00],\n",
       "         [ 1.7617e+01, -8.9470e+00, -7.4380e+00],\n",
       "         [ 2.0175e+01, -9.1360e+00, -4.6540e+00],\n",
       "         [ 2.1436e+01, -5.6520e+00, -5.4310e+00],\n",
       "         [ 1.7965e+01, -4.2320e+00, -5.9450e+00],\n",
       "         [ 1.6788e+01, -5.7010e+00, -2.6620e+00],\n",
       "         [ 1.9972e+01, -4.5860e+00, -9.4600e-01],\n",
       "         [ 1.9209e+01, -1.0490e+00, -2.0560e+00],\n",
       "         [ 1.5578e+01, -1.4310e+00, -1.0600e+00],\n",
       "         [ 1.6352e+01, -2.3240e+00,  2.5350e+00],\n",
       "         [ 1.9322e+01,  2.1000e-02,  2.4490e+00],\n",
       "         [ 1.6850e+01,  2.8350e+00,  1.9030e+00],\n",
       "         [ 1.5857e+01,  2.0560e+00,  5.4710e+00],\n",
       "         [ 1.9084e+01,  1.5830e+00,  7.3910e+00],\n",
       "         [ 2.2594e+01,  2.3100e-01,  6.9620e+00],\n",
       "         [ 2.3034e+01, -2.1970e+00,  9.8320e+00],\n",
       "         [ 2.4910e+01, -4.6860e+00,  7.6840e+00],\n",
       "         [ 2.1887e+01, -5.1620e+00,  5.4580e+00],\n",
       "         [ 2.4308e+01, -6.5520e+00,  2.9020e+00],\n",
       "         [ 2.5068e+01, -9.6020e+00,  5.0110e+00],\n",
       "         [ 2.1806e+01, -9.8290e+00,  6.9170e+00],\n",
       "         [ 1.9957e+01, -9.6810e+00,  3.6180e+00],\n",
       "         [ 2.2357e+01, -1.2090e+01,  1.9560e+00],\n",
       "         [ 2.1239e+01, -1.4530e+01,  4.6250e+00],\n",
       "         [ 1.7539e+01, -1.3831e+01,  4.2390e+00],\n",
       "         [ 1.7722e+01, -1.3804e+01,  4.5800e-01],\n",
       "         [ 1.9597e+01, -1.7092e+01,  3.9800e-01],\n",
       "         [ 1.6932e+01, -1.8245e+01,  2.8260e+00],\n",
       "         [ 1.4026e+01, -1.7465e+01,  5.3000e-01],\n",
       "         [ 1.6109e+01, -1.8206e+01, -2.5420e+00],\n",
       "         [ 1.5942e+01, -2.1976e+01, -2.8320e+00],\n",
       "         [ 1.7465e+01, -2.2176e+01, -6.2910e+00],\n",
       "         [ 2.0055e+01, -1.9446e+01, -5.8850e+00],\n",
       "         [ 1.9640e+01, -1.7537e+01, -9.1280e+00],\n",
       "         [ 2.0683e+01, -1.4490e+01, -7.1400e+00],\n",
       "         [ 1.7422e+01, -1.2862e+01, -8.1620e+00],\n",
       "         [ 1.3903e+01, -1.3054e+01, -6.7800e+00],\n",
       "         [ 1.0420e+01, -1.1900e+01, -7.7090e+00],\n",
       "         [ 7.5820e+00, -1.0029e+01, -6.0460e+00],\n",
       "         [ 6.5300e+00, -1.3316e+01, -4.4920e+00],\n",
       "         [ 9.9020e+00, -1.4084e+01, -2.9530e+00],\n",
       "         [ 1.0136e+01, -1.0396e+01, -2.1330e+00],\n",
       "         [ 6.8210e+00, -1.0387e+01, -3.0800e-01],\n",
       "         [ 7.7770e+00, -1.3457e+01,  1.6880e+00],\n",
       "         [ 1.1246e+01, -1.1995e+01,  2.0790e+00],\n",
       "         [ 9.8530e+00, -8.8050e+00,  3.5650e+00],\n",
       "         [ 8.5400e+00, -1.0796e+01,  6.5040e+00],\n",
       "         [ 1.1246e+01, -1.3336e+01,  7.2490e+00],\n",
       "         [ 1.0497e+01, -1.6882e+01,  6.1590e+00],\n",
       "         [ 7.0050e+00, -1.8225e+01,  6.7340e+00],\n",
       "         [ 5.1820e+00, -1.6154e+01,  9.3250e+00],\n",
       "         [ 4.2970e+00, -1.2490e+01,  9.6690e+00],\n",
       "         [ 1.6480e+00, -1.0853e+01,  1.1820e+01],\n",
       "         [ 2.3450e+00, -7.1760e+00,  1.1253e+01],\n",
       "         [ 5.8310e+00, -5.9980e+00,  1.0369e+01],\n",
       "         [ 4.5180e+00, -2.4480e+00,  1.0394e+01],\n",
       "         [ 3.7630e+00, -3.0450e+00,  1.4054e+01],\n",
       "         [ 7.3630e+00, -4.0940e+00,  1.4571e+01],\n",
       "         [ 8.9520e+00, -1.1560e+00,  1.2790e+01],\n",
       "         [ 6.3860e+00,  1.0290e+00,  1.4513e+01],\n",
       "         [ 7.2220e+00, -5.3300e-01,  1.7858e+01],\n",
       "         [ 1.0905e+01,  2.6500e-01,  1.7504e+01],\n",
       "         [ 1.0020e+01,  3.6780e+00,  1.6128e+01],\n",
       "         [ 7.8440e+00,  4.4920e+00,  1.9116e+01],\n",
       "         [ 1.0304e+01,  3.0340e+00,  2.1595e+01],\n",
       "         [ 1.2921e+01,  5.1140e+00,  1.9818e+01],\n",
       "         [ 1.0747e+01,  8.1920e+00,  2.0168e+01],\n",
       "         [ 1.0085e+01,  7.6520e+00,  2.3855e+01],\n",
       "         [ 1.3633e+01,  6.7080e+00,  2.4776e+01],\n",
       "         [ 1.4979e+01,  1.0242e+01,  2.4943e+01],\n",
       "         [ 1.7675e+01,  9.2630e+00,  2.7414e+01],\n",
       "         [ 1.9663e+01,  7.6440e+00,  2.4629e+01],\n",
       "         [ 2.0392e+01,  4.1490e+00,  2.5886e+01],\n",
       "         [ 1.9454e+01,  2.0170e+00,  2.2902e+01],\n",
       "         [ 1.8415e+01, -7.1300e-01,  2.5308e+01],\n",
       "         [ 1.5371e+01, -1.2840e+00,  2.7485e+01],\n",
       "         [ 1.4274e+01, -3.4950e+00,  3.0354e+01],\n",
       "         [ 1.1116e+01, -5.2700e+00,  3.1451e+01],\n",
       "         [ 1.0641e+01, -2.6840e+00,  3.4174e+01],\n",
       "         [ 1.1055e+01,  1.7700e-01,  3.1731e+01],\n",
       "         [ 8.8450e+00, -1.4300e+00,  2.9113e+01],\n",
       "         [ 6.2020e+00, -2.2340e+00,  3.1700e+01],\n",
       "         [ 6.7120e+00,  1.1740e+00,  3.3265e+01],\n",
       "         [ 5.8820e+00,  2.9290e+00,  3.0016e+01],\n",
       "         [ 3.2640e+00,  4.5200e-01,  2.8858e+01],\n",
       "         [ 1.6470e+00,  5.1600e-01,  3.2280e+01],\n",
       "         [ 5.7800e-01,  3.9910e+00,  3.1229e+01],\n",
       "         [-1.7720e+00,  2.2770e+00,  2.8808e+01],\n",
       "         [-2.9950e+00, -3.3100e-01,  3.1263e+01],\n",
       "         [-1.9300e+00, -3.4310e+00,  2.9371e+01],\n",
       "         [ 1.4900e-01, -5.2620e+00,  3.1950e+01],\n",
       "         [-1.0100e-01, -8.4290e+00,  2.9892e+01],\n",
       "         [ 2.7720e+00, -6.8360e+00,  2.8012e+01],\n",
       "         [ 4.8830e+00, -7.5210e+00,  3.1079e+01],\n",
       "         [ 3.7750e+00, -1.1139e+01,  3.0966e+01],\n",
       "         [ 4.5180e+00, -1.1526e+01,  2.7275e+01],\n",
       "         [ 7.7050e+00, -9.5280e+00,  2.7703e+01],\n",
       "         [ 8.7570e+00, -1.1687e+01,  3.0628e+01],\n",
       "         [ 7.9530e+00, -1.4869e+01,  2.8743e+01],\n",
       "         [ 9.7040e+00, -1.3537e+01,  2.5663e+01],\n",
       "         [ 1.2847e+01, -1.2900e+01,  2.7674e+01],\n",
       "         [ 1.3673e+01, -1.6482e+01,  2.8576e+01],\n",
       "         [ 1.7076e+01, -1.5435e+01,  2.9859e+01],\n",
       "         [ 1.6429e+01, -1.4146e+01,  3.3358e+01],\n",
       "         [ 1.8631e+01, -1.1105e+01,  3.2875e+01],\n",
       "         [ 1.5629e+01, -8.8000e+00,  3.2858e+01],\n",
       "         [ 1.6876e+01, -6.6350e+00,  3.0015e+01],\n",
       "         [ 1.6793e+01, -6.3910e+00,  2.6239e+01],\n",
       "         [ 1.8168e+01, -4.3060e+00,  2.3395e+01],\n",
       "         [ 1.6924e+01, -2.8960e+00,  2.0111e+01],\n",
       "         [ 1.8807e+01, -5.5500e+00,  1.8178e+01],\n",
       "         [ 1.7406e+01, -8.2890e+00,  2.0383e+01],\n",
       "         [ 1.3990e+01, -6.6580e+00,  2.0357e+01],\n",
       "         [ 1.3880e+01, -6.6860e+00,  1.6573e+01],\n",
       "         [ 1.5494e+01, -1.0072e+01,  1.6071e+01],\n",
       "         [ 1.3119e+01, -1.1294e+01,  1.8752e+01],\n",
       "         [ 1.0234e+01, -1.0690e+01,  1.6378e+01],\n",
       "         [ 1.2104e+01, -1.2484e+01,  1.3620e+01]]], device='cuda:0')"
      ]
     },
     "execution_count": 35,
     "metadata": {},
     "output_type": "execute_result"
    }
   ],
   "source": [
    "system.pos"
   ]
  },
  {
   "cell_type": "code",
   "execution_count": 159,
   "id": "5f0e7e53-e17e-44ea-a0bd-4d98576839e9",
   "metadata": {},
   "outputs": [],
   "source": [
    "if torch.any(torch.isnan(system.pos)):\n",
    "    raise RuntimeError(\"Found NaN coordinates.\")"
   ]
  },
  {
   "cell_type": "code",
   "execution_count": 36,
   "id": "55bc5269-7bfe-4821-b15c-b942081c4348",
   "metadata": {},
   "outputs": [
    {
     "data": {
      "text/plain": [
       "tensor([[15,  1,  6,  1, 20,  3, 19,  6, 21,  5, 14,  9,  2,  5,  2,  1, 14, 12,\n",
       "          4,  6,  6, 14, 19,  1,  3, 14, 12, 19, 19, 18,  1, 21, 19,  9,  6, 10,\n",
       "         20, 20, 10, 20, 21,  3, 19, 12, 21,  5,  1,  5,  2,  9,  2,  6, 21,  5,\n",
       "         10,  9,  6,  3,  1, 19,  3,  4,  2, 12, 21, 10,  2, 10,  5, 20, 12,  5,\n",
       "          5, 19, 21,  2, 20, 19, 14, 20,  4, 19, 20, 15,  5, 14,  5,  2,  5,  2,\n",
       "         19, 20, 13, 19,  6,  6, 14, 13, 12,  3,  3, 19, 19, 11,  2, 21,  6, 19,\n",
       "         14,  1,  6, 10, 14, 15, 19,  1,  5,  1,  9,  2,  5,  2,  4, 21, 13, 20,\n",
       "          6,  6,  3, 20,  6,  3, 12, 20]])"
      ]
     },
     "execution_count": 36,
     "metadata": {},
     "output_type": "execute_result"
    }
   ],
   "source": [
    "get_embeddings(mol, 'cpu', 1)"
   ]
  },
  {
   "cell_type": "code",
   "execution_count": 37,
   "id": "7384ceff-d852-49a5-b5a3-efce4868d68b",
   "metadata": {},
   "outputs": [],
   "source": [
    "externalmodule = importlib.import_module('torchmdnet.calculators')\n",
    "nnp = '/shared/carles/repo/torchmd-exp/scripts/trainings/tests/test_cath/cath_1jfk/'\n",
    "nnp += 'epoch=442-train_loss=0.6299-val_loss=0.9083.ckpt'\n",
    "embeddings = torch.tensor([15,  1,  6,  1, 20,  3, 19,  6, 21,  5, 14,  9,  2,  5,  2,  1, 14, 12,\n",
    "          4,  6,  6, 14, 19,  1,  3, 14, 12, 19, 19, 18,  1, 21, 19,  9,  6, 10,\n",
    "         20, 20, 10, 20, 21,  3, 19, 12, 21,  5,  1,  5,  2,  9,  2,  6, 21,  5,\n",
    "         10,  9,  6,  3,  1, 19,  3,  4,  2, 12, 21, 10,  2, 10,  5, 20, 12,  5,\n",
    "          5, 19, 21,  2, 20, 19, 14, 20,  4, 19, 20, 15,  5, 14,  5,  2,  5,  2,\n",
    "         19, 20, 13, 19,  6,  6, 14, 13, 12,  3,  3, 19, 19, 11,  2, 21,  6, 19,\n",
    "         14,  1,  6, 10, 14, 15, 19,  1,  5,  1,  9,  2,  5,  2,  4, 21, 13, 20,\n",
    "          6,  6,  3, 20,  6,  3, 12, 20]).repeat(1, 1)\n",
    "external = externalmodule.External(nnp, embeddings, device)"
   ]
  },
  {
   "cell_type": "code",
   "execution_count": 38,
   "id": "cfd20b05-404e-4c63-99ec-0ec53a18471b",
   "metadata": {},
   "outputs": [
    {
     "name": "stdout",
     "output_type": "stream",
     "text": [
      "Number of parameters nnp:  294565\n"
     ]
    }
   ],
   "source": [
    "print('Number of parameters nnp: ', sum(p.numel() for p in external.model.parameters() if p.requires_grad))"
   ]
  },
  {
   "cell_type": "code",
   "execution_count": 42,
   "id": "43f0dedd-0100-4a8c-860b-42ce78896ec8",
   "metadata": {},
   "outputs": [
    {
     "data": {
      "text/plain": [
       "134"
      ]
     },
     "execution_count": 42,
     "metadata": {},
     "output_type": "execute_result"
    }
   ],
   "source": [
    "external.n_atoms"
   ]
  },
  {
   "cell_type": "code",
   "execution_count": 45,
   "id": "92b1f0fc-f91c-4068-ba46-7b0d4e4ecb09",
   "metadata": {},
   "outputs": [
    {
     "data": {
      "text/plain": [
       "tensor([15,  1,  6,  1, 20,  3, 19,  6, 21,  5, 14,  9,  2,  5,  2,  1, 14, 12,\n",
       "         4,  6,  6, 14, 19,  1,  3, 14, 12, 19, 19, 18,  1, 21, 19,  9,  6, 10,\n",
       "        20, 20, 10, 20, 21,  3, 19, 12, 21,  5,  1,  5,  2,  9,  2,  6, 21,  5,\n",
       "        10,  9,  6,  3,  1, 19,  3,  4,  2, 12, 21, 10,  2, 10,  5, 20, 12,  5,\n",
       "         5, 19, 21,  2, 20, 19, 14, 20,  4, 19, 20, 15,  5, 14,  5,  2,  5,  2,\n",
       "        19, 20, 13, 19,  6,  6, 14, 13, 12,  3,  3, 19, 19, 11,  2, 21,  6, 19,\n",
       "        14,  1,  6, 10, 14, 15, 19,  1,  5,  1,  9,  2,  5,  2,  4, 21, 13, 20,\n",
       "         6,  6,  3, 20,  6,  3, 12, 20], device='cuda:0')"
      ]
     },
     "execution_count": 45,
     "metadata": {},
     "output_type": "execute_result"
    }
   ],
   "source": [
    "external.embeddings"
   ]
  },
  {
   "cell_type": "code",
   "execution_count": 46,
   "id": "a63ba13c-fffb-4c60-9b08-41ed6efa7d31",
   "metadata": {},
   "outputs": [
    {
     "data": {
      "text/plain": [
       "tensor([0, 0, 0, 0, 0, 0, 0, 0, 0, 0, 0, 0, 0, 0, 0, 0, 0, 0, 0, 0, 0, 0, 0, 0,\n",
       "        0, 0, 0, 0, 0, 0, 0, 0, 0, 0, 0, 0, 0, 0, 0, 0, 0, 0, 0, 0, 0, 0, 0, 0,\n",
       "        0, 0, 0, 0, 0, 0, 0, 0, 0, 0, 0, 0, 0, 0, 0, 0, 0, 0, 0, 0, 0, 0, 0, 0,\n",
       "        0, 0, 0, 0, 0, 0, 0, 0, 0, 0, 0, 0, 0, 0, 0, 0, 0, 0, 0, 0, 0, 0, 0, 0,\n",
       "        0, 0, 0, 0, 0, 0, 0, 0, 0, 0, 0, 0, 0, 0, 0, 0, 0, 0, 0, 0, 0, 0, 0, 0,\n",
       "        0, 0, 0, 0, 0, 0, 0, 0, 0, 0, 0, 0, 0, 0], device='cuda:0')"
      ]
     },
     "execution_count": 46,
     "metadata": {},
     "output_type": "execute_result"
    }
   ],
   "source": [
    "external.batch"
   ]
  },
  {
   "cell_type": "code",
   "execution_count": 48,
   "id": "e22f5b06-288e-483c-93f9-924f01655dbb",
   "metadata": {},
   "outputs": [
    {
     "data": {
      "text/plain": [
       "torchmdnet.models.model.TorchMD_Net"
      ]
     },
     "execution_count": 48,
     "metadata": {},
     "output_type": "execute_result"
    }
   ],
   "source": [
    "type(external.model)"
   ]
  },
  {
   "cell_type": "code",
   "execution_count": 41,
   "id": "a2880c41-8403-4c5b-a728-862203f90d65",
   "metadata": {},
   "outputs": [
    {
     "name": "stdout",
     "output_type": "stream",
     "text": [
      "0.04622808285057545\n",
      "[-235.68578910827637]\n",
      "tensor([[[ -2.9406,   4.0569,  -0.5350],\n",
      "         [  3.6468,  -0.4237,  11.3497],\n",
      "         [ -1.2936, -12.9705,  -7.8306],\n",
      "         [ -4.3988,   6.5761,  -7.6697],\n",
      "         [  2.4734,   9.0002,   9.3337],\n",
      "         [  7.0732,  -9.6322,   4.5858],\n",
      "         [ -6.9730,  -8.3132,  -9.2301],\n",
      "         [ -7.6354,  13.8089,  -3.4669],\n",
      "         [ 12.0085,   1.9848,  13.5041],\n",
      "         [  0.5383, -13.3350,  -2.3912],\n",
      "         [  0.6525,  14.0728,   4.1595],\n",
      "         [  9.2528,  -7.4552,  -9.3267],\n",
      "         [-11.9150,   1.6529,   0.3210],\n",
      "         [  7.4292,   1.3619,  -9.0331],\n",
      "         [ -8.3190,  -2.9649,   7.9740],\n",
      "         [ -5.2835,   0.5948,  -9.4335],\n",
      "         [ -2.1087,   6.2112,   4.8913],\n",
      "         [  6.9397,  10.7717,  -2.4075],\n",
      "         [  2.0383, -12.2164,   9.3420],\n",
      "         [ 16.2044,   7.3663,  -3.1472],\n",
      "         [ -9.2196,  10.5131,  -9.6722],\n",
      "         [-13.3469, -10.7564,   4.8148],\n",
      "         [  9.6355,  -6.0173,  12.8317],\n",
      "         [  5.8841,  10.0147,  -7.2088],\n",
      "         [ -8.6468,   1.9783,  -6.1301],\n",
      "         [ -5.7023,  -7.9129,   6.8940],\n",
      "         [ 10.1906,   1.0248,   1.0458],\n",
      "         [ -1.3504,   3.8730,  -8.9706],\n",
      "         [-10.8671,   1.0422,   2.7539],\n",
      "         [  0.0393,  -0.9723,   4.9531],\n",
      "         [  7.2158,   0.8268,  -7.7420],\n",
      "         [ -3.7655,   1.7340,  13.3243],\n",
      "         [ 11.1141,  -3.4224,   1.7567],\n",
      "         [-14.7440,  10.0468,   2.3473],\n",
      "         [  3.8926,  -2.4081, -16.5038],\n",
      "         [ 10.7604,  -8.4232,   1.7078],\n",
      "         [ -2.6799,  -0.4422,  11.5906],\n",
      "         [-10.2733,   9.3564,  -5.4979],\n",
      "         [  8.4699,   0.9653, -11.1943],\n",
      "         [  7.5985,  -9.7586,   7.6356],\n",
      "         [-13.6107,   0.5112,   7.5434],\n",
      "         [ -4.2418,   6.4005,  -8.0115],\n",
      "         [ 11.6290,  -5.5865,  -4.9625],\n",
      "         [  1.7237,  -4.3786,   9.6164],\n",
      "         [-12.3813,   8.3604,   5.1863],\n",
      "         [  3.3653,   8.8328,  -8.9522],\n",
      "         [ -4.4775, -10.8340,   9.4153],\n",
      "         [ -2.5085,  -6.0773, -11.4004],\n",
      "         [  8.0746,   4.1034,   4.4097],\n",
      "         [ -4.1734,  -8.1027,  -7.9904],\n",
      "         [  6.4376,   7.6941,   6.3405],\n",
      "         [  9.4022,  -7.1467,  -7.3014],\n",
      "         [ -2.1754,  -4.2056,   6.7136],\n",
      "         [ -2.7021,  -8.2404,  -3.5947],\n",
      "         [ -7.8602,  14.4257,  -1.2034],\n",
      "         [-11.8397,  -2.8982,  -1.2966],\n",
      "         [  8.3455, -12.7229,   4.8630],\n",
      "         [  7.1943,  11.9652,  -1.7000],\n",
      "         [ -7.1088,   5.2984,   0.1982],\n",
      "         [ -2.4731, -10.3532,   5.7484],\n",
      "         [  7.4191,  -4.7835,   1.9670],\n",
      "         [  2.6977,   8.8597,  -6.3277],\n",
      "         [ -8.1543,  -0.8113,   5.2175],\n",
      "         [  5.1703,   2.4995,   3.5312],\n",
      "         [  5.7199,  -3.0526,  -6.9906],\n",
      "         [ -1.2264,  -5.7747,  -4.6805],\n",
      "         [ -3.4830,   1.6179,   3.9232],\n",
      "         [  5.0800,  -0.4280,  -3.4635],\n",
      "         [ -8.0760,  -6.7542,   6.2233],\n",
      "         [ -8.1404,   5.5553,   0.7344],\n",
      "         [ 12.6681,  -5.4146,  -5.0233],\n",
      "         [ -0.4377,  10.2096, -10.4857],\n",
      "         [ -9.6108,   3.2597,  11.2734],\n",
      "         [  6.9909, -14.2163,   5.8359],\n",
      "         [ 10.3161,   4.2068,  -7.4784],\n",
      "         [ -7.6261,   7.7208,  -0.1795],\n",
      "         [-10.2550,  -3.5911,   6.2256],\n",
      "         [ 11.3958,  -6.8356,  -1.3194],\n",
      "         [  3.4580,   6.2497,  -8.5218],\n",
      "         [-11.8490,   5.5718,   1.5410],\n",
      "         [  0.9722,  -7.9929,  10.9834],\n",
      "         [ 13.8752,  -3.3878,  -1.3556],\n",
      "         [ -1.5750,   9.9302,  -7.3520],\n",
      "         [ -9.1814,   1.3377,   6.0630],\n",
      "         [  3.9490, -12.3877,   0.1689],\n",
      "         [ -5.2722,  10.5392,  -5.3287],\n",
      "         [ -0.1381,  -0.3020,  11.2019],\n",
      "         [  4.2689,  -2.3633, -10.0352],\n",
      "         [  3.9071,   4.5893,  11.2566],\n",
      "         [ -2.6792,  -3.8594, -11.6463],\n",
      "         [  4.0444,   2.8608,  -1.7637],\n",
      "         [ -5.6258,   5.4485,  -2.4855],\n",
      "         [ -0.4357,   4.8432,   8.6541],\n",
      "         [ -7.2523, -14.5870,  -6.5634],\n",
      "         [ -3.7779,  -1.1147,  15.7617],\n",
      "         [  6.7973,  14.5586,  -1.8784],\n",
      "         [ -3.5145,   0.3713, -13.3378],\n",
      "         [ -5.8795, -12.3261,   2.0598],\n",
      "         [  2.6893,   5.8658,  10.4564],\n",
      "         [  2.8072,   2.7108,  -3.9348],\n",
      "         [ -2.0517,  -4.8460, -11.0607],\n",
      "         [  2.2475,  -7.9596,   8.5085],\n",
      "         [  5.0398,  13.7014,   5.2500],\n",
      "         [ -2.6485,  -4.1695,  -9.6565],\n",
      "         [ -6.5571,   0.6790,   5.9587],\n",
      "         [ -1.2066,   2.9900, -10.2962],\n",
      "         [  8.5865,   5.9406,  14.6018],\n",
      "         [ -6.3562, -11.6862,  -3.5987],\n",
      "         [ -1.1994,   7.2488, -11.5670],\n",
      "         [  9.9551,   8.7088,   7.0308],\n",
      "         [ -3.6746, -13.7388,  10.0393],\n",
      "         [ -5.6422,  -5.7301, -10.5985],\n",
      "         [  9.6066,   8.1887,  -3.3530],\n",
      "         [  3.3253,   5.3621,   8.0689],\n",
      "         [ -5.7421,  -8.5158,   4.5041],\n",
      "         [ -5.9711,   1.4797, -12.6085],\n",
      "         [  6.5261,  13.8414,   4.2218],\n",
      "         [ -8.7687, -15.0522,  -2.2536],\n",
      "         [ 10.6302,   0.8429,  -5.7674],\n",
      "         [ -3.9270,  -1.2678,  10.7324],\n",
      "         [ 11.3357,  -5.1980,  -0.8753],\n",
      "         [ -8.8981,   5.5732,   3.6703],\n",
      "         [  2.3903,  -0.8846,   5.0542],\n",
      "         [ -4.1459,  -5.6001,  -5.5950],\n",
      "         [  5.3137,  -3.4078,  -5.8198],\n",
      "         [ -5.8198,  13.6672,   0.9066],\n",
      "         [  8.6788,  -0.2351, -13.1267],\n",
      "         [  3.5886, -12.6622,   7.8656],\n",
      "         [ -7.2944,   1.8071,   3.2174],\n",
      "         [ -4.0042,  10.2724,  -1.2883],\n",
      "         [  9.4805,  -2.7732,  -4.5990],\n",
      "         [  3.3027,  -6.0192,  13.8316],\n",
      "         [-12.1209,   6.4179,   0.1363],\n",
      "         [  3.7706,  -4.2530,  -7.8079]]], device='cuda:0')\n"
     ]
    }
   ],
   "source": [
    "from torchmd.forces import Forces\n",
    "#external=None\n",
    "forces = Forces(parameters,terms=['bonds', 'repulsioncg', 'dihedrals'], cutoff=9, rfa=False, switch_dist=None, \n",
    "                external=external, exclusions = ('bonds')\n",
    "               )\n",
    "# Evaluate current energy and forces. Forces are modified in-place\n",
    "import time\n",
    "s = time.perf_counter()\n",
    "Epot = forces.compute(system.pos, system.box, system.forces, returnDetails=False)\n",
    "e = time.perf_counter()\n",
    "print(e-s)\n",
    "print(Epot)\n",
    "print(system.forces)"
   ]
  },
  {
   "cell_type": "markdown",
   "id": "d77be2bb-b3d7-451e-a5de-921bd22d16c6",
   "metadata": {},
   "source": [
    "## Dynamics"
   ]
  },
  {
   "cell_type": "code",
   "execution_count": 165,
   "id": "9011e4e6-5920-440c-b5de-4b363ab26eba",
   "metadata": {},
   "outputs": [],
   "source": [
    "from torchmd.integrator import Integrator\n",
    "from torchmd.wrapper import Wrapper\n",
    "\n",
    "langevin_temperature = 350  # K\n",
    "langevin_gamma = 1\n",
    "timestep = 5  # fs\n",
    "\n",
    "integrator = Integrator(system, forces, timestep, device, gamma=langevin_gamma, T=langevin_temperature)\n",
    "wrapper = Wrapper(mol.numAtoms, mol.bonds if len(mol.bonds) else None, device)\n"
   ]
  },
  {
   "cell_type": "code",
   "execution_count": 166,
   "id": "6fdeb37a-1b10-4048-bbed-4a7d0f305e29",
   "metadata": {},
   "outputs": [
    {
     "name": "stdout",
     "output_type": "stream",
     "text": [
      "tensor(0.0076, device='cuda:0')\n",
      "tensor(0.0076, device='cuda:0')\n"
     ]
    }
   ],
   "source": [
    "from torchmd.minimizers import minimize_bfgs\n",
    "\n",
    "print(rmsd(system.pos, native_coords))\n",
    "#minimize_bfgs(system, forces, steps=500)  # Minimize the system\n",
    "print(rmsd(system.pos, native_coords))"
   ]
  },
  {
   "cell_type": "code",
   "execution_count": 167,
   "id": "75f72514-0497-491e-bf5f-277783cef4dd",
   "metadata": {},
   "outputs": [
    {
     "data": {
      "image/png": "[encoded data removed]",
      "text/plain": [
       "<Figure size 432x288 with 1 Axes>"
      ]
     },
     "metadata": {},
     "output_type": "display_data"
    },
    {
     "name": "stderr",
     "output_type": "stream",
     "text": [
      "  7%|██▊                                      | 68/1000 [04:14<58:06,  3.74s/it]\n"
     ]
    },
    {
     "ename": "KeyboardInterrupt",
     "evalue": "",
     "output_type": "error",
     "traceback": [
      "\u001b[0;31m---------------------------------------------------------------------------\u001b[0m",
      "\u001b[0;31mKeyboardInterrupt\u001b[0m                         Traceback (most recent call last)",
      "\u001b[0;32m/tmp/ipykernel_384745/3779314095.py\u001b[0m in \u001b[0;36m<module>\u001b[0;34m\u001b[0m\n\u001b[1;32m     21\u001b[0m \u001b[0mtm_scores\u001b[0m \u001b[0;34m=\u001b[0m \u001b[0;34m[\u001b[0m\u001b[0;34m]\u001b[0m\u001b[0;34m\u001b[0m\u001b[0;34m\u001b[0m\u001b[0m\n\u001b[1;32m     22\u001b[0m \u001b[0;32mfor\u001b[0m \u001b[0mi\u001b[0m \u001b[0;32min\u001b[0m \u001b[0miterator\u001b[0m\u001b[0;34m:\u001b[0m\u001b[0;34m\u001b[0m\u001b[0;34m\u001b[0m\u001b[0m\n\u001b[0;32m---> 23\u001b[0;31m     \u001b[0mEkin\u001b[0m\u001b[0;34m,\u001b[0m \u001b[0mEpot\u001b[0m\u001b[0;34m,\u001b[0m \u001b[0mT\u001b[0m \u001b[0;34m=\u001b[0m \u001b[0mintegrator\u001b[0m\u001b[0;34m.\u001b[0m\u001b[0mstep\u001b[0m\u001b[0;34m(\u001b[0m\u001b[0mniter\u001b[0m\u001b[0;34m=\u001b[0m\u001b[0moutput_period\u001b[0m\u001b[0;34m)\u001b[0m\u001b[0;34m\u001b[0m\u001b[0;34m\u001b[0m\u001b[0m\n\u001b[0m\u001b[1;32m     24\u001b[0m     \u001b[0mrmsds\u001b[0m\u001b[0;34m.\u001b[0m\u001b[0mappend\u001b[0m\u001b[0;34m(\u001b[0m\u001b[0mrmsd\u001b[0m\u001b[0;34m(\u001b[0m\u001b[0msystem\u001b[0m\u001b[0;34m.\u001b[0m\u001b[0mpos\u001b[0m\u001b[0;34m,\u001b[0m \u001b[0mnative_coords\u001b[0m\u001b[0;34m)\u001b[0m\u001b[0;34m.\u001b[0m\u001b[0mitem\u001b[0m\u001b[0;34m(\u001b[0m\u001b[0;34m)\u001b[0m\u001b[0;34m)\u001b[0m\u001b[0;34m\u001b[0m\u001b[0;34m\u001b[0m\u001b[0m\n\u001b[1;32m     25\u001b[0m     \u001b[0mtm_scores\u001b[0m\u001b[0;34m.\u001b[0m\u001b[0mappend\u001b[0m\u001b[0;34m(\u001b[0m\u001b[0mtm_score\u001b[0m\u001b[0;34m(\u001b[0m\u001b[0msystem\u001b[0m\u001b[0;34m.\u001b[0m\u001b[0mpos\u001b[0m\u001b[0;34m,\u001b[0m \u001b[0mnative_coords\u001b[0m\u001b[0;34m)\u001b[0m\u001b[0;34m.\u001b[0m\u001b[0mitem\u001b[0m\u001b[0;34m(\u001b[0m\u001b[0;34m)\u001b[0m\u001b[0;34m)\u001b[0m\u001b[0;34m\u001b[0m\u001b[0;34m\u001b[0m\u001b[0m\n",
      "\u001b[0;32m/shared/carles/miniconda3/envs/torchmd-exp/lib/python3.8/site-packages/torchmd-0.0.2-py3.8.egg/torchmd/integrator.py\u001b[0m in \u001b[0;36mstep\u001b[0;34m(self, niter)\u001b[0m\n\u001b[1;32m     66\u001b[0m         \u001b[0;32mfor\u001b[0m \u001b[0m_\u001b[0m \u001b[0;32min\u001b[0m \u001b[0mrange\u001b[0m\u001b[0;34m(\u001b[0m\u001b[0mniter\u001b[0m\u001b[0;34m)\u001b[0m\u001b[0;34m:\u001b[0m\u001b[0;34m\u001b[0m\u001b[0;34m\u001b[0m\u001b[0m\n\u001b[1;32m     67\u001b[0m             \u001b[0m_first_VV\u001b[0m\u001b[0;34m(\u001b[0m\u001b[0ms\u001b[0m\u001b[0;34m.\u001b[0m\u001b[0mpos\u001b[0m\u001b[0;34m,\u001b[0m \u001b[0ms\u001b[0m\u001b[0;34m.\u001b[0m\u001b[0mvel\u001b[0m\u001b[0;34m,\u001b[0m \u001b[0ms\u001b[0m\u001b[0;34m.\u001b[0m\u001b[0mforces\u001b[0m\u001b[0;34m,\u001b[0m \u001b[0mmasses\u001b[0m\u001b[0;34m,\u001b[0m \u001b[0mself\u001b[0m\u001b[0;34m.\u001b[0m\u001b[0mdt\u001b[0m\u001b[0;34m)\u001b[0m\u001b[0;34m\u001b[0m\u001b[0;34m\u001b[0m\u001b[0m\n\u001b[0;32m---> 68\u001b[0;31m             \u001b[0mpot\u001b[0m \u001b[0;34m=\u001b[0m \u001b[0mself\u001b[0m\u001b[0;34m.\u001b[0m\u001b[0mforces\u001b[0m\u001b[0;34m.\u001b[0m\u001b[0mcompute\u001b[0m\u001b[0;34m(\u001b[0m\u001b[0ms\u001b[0m\u001b[0;34m.\u001b[0m\u001b[0mpos\u001b[0m\u001b[0;34m,\u001b[0m \u001b[0ms\u001b[0m\u001b[0;34m.\u001b[0m\u001b[0mbox\u001b[0m\u001b[0;34m,\u001b[0m \u001b[0ms\u001b[0m\u001b[0;34m.\u001b[0m\u001b[0mforces\u001b[0m\u001b[0;34m)\u001b[0m\u001b[0;34m\u001b[0m\u001b[0;34m\u001b[0m\u001b[0m\n\u001b[0m\u001b[1;32m     69\u001b[0m             \u001b[0;32mif\u001b[0m \u001b[0mself\u001b[0m\u001b[0;34m.\u001b[0m\u001b[0mT\u001b[0m\u001b[0;34m:\u001b[0m\u001b[0;34m\u001b[0m\u001b[0;34m\u001b[0m\u001b[0m\n\u001b[1;32m     70\u001b[0m                 \u001b[0mlangevin\u001b[0m\u001b[0;34m(\u001b[0m\u001b[0ms\u001b[0m\u001b[0;34m.\u001b[0m\u001b[0mvel\u001b[0m\u001b[0;34m,\u001b[0m \u001b[0mself\u001b[0m\u001b[0;34m.\u001b[0m\u001b[0mgamma\u001b[0m\u001b[0;34m,\u001b[0m \u001b[0mself\u001b[0m\u001b[0;34m.\u001b[0m\u001b[0mvcoeff\u001b[0m\u001b[0;34m,\u001b[0m \u001b[0mself\u001b[0m\u001b[0;34m.\u001b[0m\u001b[0mdt\u001b[0m\u001b[0;34m,\u001b[0m \u001b[0mself\u001b[0m\u001b[0;34m.\u001b[0m\u001b[0mdevice\u001b[0m\u001b[0;34m)\u001b[0m\u001b[0;34m\u001b[0m\u001b[0;34m\u001b[0m\u001b[0m\n",
      "\u001b[0;32m/shared/carles/miniconda3/envs/torchmd-exp/lib/python3.8/site-packages/torchmd-0.0.2-py3.8.egg/torchmd/forces.py\u001b[0m in \u001b[0;36mcompute\u001b[0;34m(self, pos, box, forces, returnDetails, explicit_forces)\u001b[0m\n\u001b[1;32m    321\u001b[0m \u001b[0;34m\u001b[0m\u001b[0m\n\u001b[1;32m    322\u001b[0m         \u001b[0;32mif\u001b[0m \u001b[0mself\u001b[0m\u001b[0;34m.\u001b[0m\u001b[0mexternal\u001b[0m\u001b[0;34m:\u001b[0m\u001b[0;34m\u001b[0m\u001b[0;34m\u001b[0m\u001b[0m\n\u001b[0;32m--> 323\u001b[0;31m             \u001b[0mext_ene\u001b[0m\u001b[0;34m,\u001b[0m \u001b[0mext_force\u001b[0m \u001b[0;34m=\u001b[0m \u001b[0mself\u001b[0m\u001b[0;34m.\u001b[0m\u001b[0mexternal\u001b[0m\u001b[0;34m.\u001b[0m\u001b[0mcalculate\u001b[0m\u001b[0;34m(\u001b[0m\u001b[0mpos\u001b[0m\u001b[0;34m,\u001b[0m \u001b[0mbox\u001b[0m\u001b[0;34m)\u001b[0m\u001b[0;34m\u001b[0m\u001b[0;34m\u001b[0m\u001b[0m\n\u001b[0m\u001b[1;32m    324\u001b[0m             \u001b[0;32mfor\u001b[0m \u001b[0ms\u001b[0m \u001b[0;32min\u001b[0m \u001b[0mrange\u001b[0m\u001b[0;34m(\u001b[0m\u001b[0mnsystems\u001b[0m\u001b[0;34m)\u001b[0m\u001b[0;34m:\u001b[0m\u001b[0;34m\u001b[0m\u001b[0;34m\u001b[0m\u001b[0m\n\u001b[1;32m    325\u001b[0m                 \u001b[0mpot\u001b[0m\u001b[0;34m[\u001b[0m\u001b[0ms\u001b[0m\u001b[0;34m]\u001b[0m\u001b[0;34m[\u001b[0m\u001b[0;34m\"external\"\u001b[0m\u001b[0;34m]\u001b[0m \u001b[0;34m+=\u001b[0m \u001b[0mext_ene\u001b[0m\u001b[0;34m[\u001b[0m\u001b[0ms\u001b[0m\u001b[0;34m]\u001b[0m\u001b[0;34m\u001b[0m\u001b[0;34m\u001b[0m\u001b[0m\n",
      "\u001b[0;32m/shared/carles/miniconda3/envs/torchmd-exp/lib/python3.8/site-packages/torchmd_net-0.2.0-py3.8.egg/torchmdnet/calculators.py\u001b[0m in \u001b[0;36mcalculate\u001b[0;34m(self, pos, box)\u001b[0m\n\u001b[1;32m     17\u001b[0m     \u001b[0;32mdef\u001b[0m \u001b[0mcalculate\u001b[0m\u001b[0;34m(\u001b[0m\u001b[0mself\u001b[0m\u001b[0;34m,\u001b[0m \u001b[0mpos\u001b[0m\u001b[0;34m,\u001b[0m \u001b[0mbox\u001b[0m\u001b[0;34m)\u001b[0m\u001b[0;34m:\u001b[0m\u001b[0;34m\u001b[0m\u001b[0;34m\u001b[0m\u001b[0m\n\u001b[1;32m     18\u001b[0m         \u001b[0mpos\u001b[0m \u001b[0;34m=\u001b[0m \u001b[0mpos\u001b[0m\u001b[0;34m.\u001b[0m\u001b[0mto\u001b[0m\u001b[0;34m(\u001b[0m\u001b[0mself\u001b[0m\u001b[0;34m.\u001b[0m\u001b[0mdevice\u001b[0m\u001b[0;34m)\u001b[0m\u001b[0;34m.\u001b[0m\u001b[0mtype\u001b[0m\u001b[0;34m(\u001b[0m\u001b[0mtorch\u001b[0m\u001b[0;34m.\u001b[0m\u001b[0mfloat32\u001b[0m\u001b[0;34m)\u001b[0m\u001b[0;34m.\u001b[0m\u001b[0mreshape\u001b[0m\u001b[0;34m(\u001b[0m\u001b[0;34m-\u001b[0m\u001b[0;36m1\u001b[0m\u001b[0;34m,\u001b[0m \u001b[0;36m3\u001b[0m\u001b[0;34m)\u001b[0m\u001b[0;34m\u001b[0m\u001b[0;34m\u001b[0m\u001b[0m\n\u001b[0;32m---> 19\u001b[0;31m         \u001b[0menergy\u001b[0m\u001b[0;34m,\u001b[0m \u001b[0mforces\u001b[0m \u001b[0;34m=\u001b[0m \u001b[0mself\u001b[0m\u001b[0;34m.\u001b[0m\u001b[0mmodel\u001b[0m\u001b[0;34m(\u001b[0m\u001b[0mself\u001b[0m\u001b[0;34m.\u001b[0m\u001b[0membeddings\u001b[0m\u001b[0;34m,\u001b[0m \u001b[0mpos\u001b[0m\u001b[0;34m,\u001b[0m \u001b[0mself\u001b[0m\u001b[0;34m.\u001b[0m\u001b[0mbatch\u001b[0m\u001b[0;34m)\u001b[0m\u001b[0;34m\u001b[0m\u001b[0;34m\u001b[0m\u001b[0m\n\u001b[0m\u001b[1;32m     20\u001b[0m         \u001b[0menergy\u001b[0m \u001b[0;34m=\u001b[0m \u001b[0mscatter\u001b[0m\u001b[0;34m(\u001b[0m\u001b[0menergy\u001b[0m\u001b[0;34m,\u001b[0m \u001b[0mself\u001b[0m\u001b[0;34m.\u001b[0m\u001b[0mbatch\u001b[0m\u001b[0;34m,\u001b[0m \u001b[0mdim\u001b[0m\u001b[0;34m=\u001b[0m\u001b[0;36m0\u001b[0m\u001b[0;34m,\u001b[0m \u001b[0mreduce\u001b[0m\u001b[0;34m=\u001b[0m\u001b[0;34m'add'\u001b[0m\u001b[0;34m)\u001b[0m\u001b[0;34m\u001b[0m\u001b[0;34m\u001b[0m\u001b[0m\n\u001b[1;32m     21\u001b[0m         \u001b[0;32mreturn\u001b[0m \u001b[0menergy\u001b[0m\u001b[0;34m.\u001b[0m\u001b[0mdetach\u001b[0m\u001b[0;34m(\u001b[0m\u001b[0;34m)\u001b[0m\u001b[0;34m,\u001b[0m \u001b[0mforces\u001b[0m\u001b[0;34m.\u001b[0m\u001b[0mreshape\u001b[0m\u001b[0;34m(\u001b[0m\u001b[0;34m-\u001b[0m\u001b[0;36m1\u001b[0m\u001b[0;34m,\u001b[0m \u001b[0mself\u001b[0m\u001b[0;34m.\u001b[0m\u001b[0mn_atoms\u001b[0m\u001b[0;34m,\u001b[0m \u001b[0;36m3\u001b[0m\u001b[0;34m)\u001b[0m\u001b[0;34m.\u001b[0m\u001b[0mdetach\u001b[0m\u001b[0;34m(\u001b[0m\u001b[0;34m)\u001b[0m\u001b[0;34m\u001b[0m\u001b[0;34m\u001b[0m\u001b[0m\n",
      "\u001b[0;32m/shared/carles/miniconda3/envs/torchmd-exp/lib/python3.8/site-packages/torch/nn/modules/module.py\u001b[0m in \u001b[0;36m_call_impl\u001b[0;34m(self, *input, **kwargs)\u001b[0m\n\u001b[1;32m    887\u001b[0m             \u001b[0mresult\u001b[0m \u001b[0;34m=\u001b[0m \u001b[0mself\u001b[0m\u001b[0;34m.\u001b[0m\u001b[0m_slow_forward\u001b[0m\u001b[0;34m(\u001b[0m\u001b[0;34m*\u001b[0m\u001b[0minput\u001b[0m\u001b[0;34m,\u001b[0m \u001b[0;34m**\u001b[0m\u001b[0mkwargs\u001b[0m\u001b[0;34m)\u001b[0m\u001b[0;34m\u001b[0m\u001b[0;34m\u001b[0m\u001b[0m\n\u001b[1;32m    888\u001b[0m         \u001b[0;32melse\u001b[0m\u001b[0;34m:\u001b[0m\u001b[0;34m\u001b[0m\u001b[0;34m\u001b[0m\u001b[0m\n\u001b[0;32m--> 889\u001b[0;31m             \u001b[0mresult\u001b[0m \u001b[0;34m=\u001b[0m \u001b[0mself\u001b[0m\u001b[0;34m.\u001b[0m\u001b[0mforward\u001b[0m\u001b[0;34m(\u001b[0m\u001b[0;34m*\u001b[0m\u001b[0minput\u001b[0m\u001b[0;34m,\u001b[0m \u001b[0;34m**\u001b[0m\u001b[0mkwargs\u001b[0m\u001b[0;34m)\u001b[0m\u001b[0;34m\u001b[0m\u001b[0;34m\u001b[0m\u001b[0m\n\u001b[0m\u001b[1;32m    890\u001b[0m         for hook in itertools.chain(\n\u001b[1;32m    891\u001b[0m                 \u001b[0m_global_forward_hooks\u001b[0m\u001b[0;34m.\u001b[0m\u001b[0mvalues\u001b[0m\u001b[0;34m(\u001b[0m\u001b[0;34m)\u001b[0m\u001b[0;34m,\u001b[0m\u001b[0;34m\u001b[0m\u001b[0;34m\u001b[0m\u001b[0m\n",
      "\u001b[0;32m/shared/carles/miniconda3/envs/torchmd-exp/lib/python3.8/site-packages/torchmd_net-0.2.0-py3.8.egg/torchmdnet/models/model.py\u001b[0m in \u001b[0;36mforward\u001b[0;34m(self, z, pos, batch)\u001b[0m\n\u001b[1;32m    187\u001b[0m         \u001b[0;32mif\u001b[0m \u001b[0mself\u001b[0m\u001b[0;34m.\u001b[0m\u001b[0mderivative\u001b[0m\u001b[0;34m:\u001b[0m\u001b[0;34m\u001b[0m\u001b[0;34m\u001b[0m\u001b[0m\n\u001b[1;32m    188\u001b[0m             \u001b[0mgrad_outputs\u001b[0m\u001b[0;34m:\u001b[0m \u001b[0mList\u001b[0m\u001b[0;34m[\u001b[0m\u001b[0mOptional\u001b[0m\u001b[0;34m[\u001b[0m\u001b[0mtorch\u001b[0m\u001b[0;34m.\u001b[0m\u001b[0mTensor\u001b[0m\u001b[0;34m]\u001b[0m\u001b[0;34m]\u001b[0m \u001b[0;34m=\u001b[0m \u001b[0;34m[\u001b[0m\u001b[0mtorch\u001b[0m\u001b[0;34m.\u001b[0m\u001b[0mones_like\u001b[0m\u001b[0;34m(\u001b[0m\u001b[0mout\u001b[0m\u001b[0;34m)\u001b[0m\u001b[0;34m]\u001b[0m\u001b[0;34m\u001b[0m\u001b[0;34m\u001b[0m\u001b[0m\n\u001b[0;32m--> 189\u001b[0;31m             dy = grad(\n\u001b[0m\u001b[1;32m    190\u001b[0m                 \u001b[0;34m[\u001b[0m\u001b[0mout\u001b[0m\u001b[0;34m]\u001b[0m\u001b[0;34m,\u001b[0m\u001b[0;34m\u001b[0m\u001b[0;34m\u001b[0m\u001b[0m\n\u001b[1;32m    191\u001b[0m                 \u001b[0;34m[\u001b[0m\u001b[0mpos\u001b[0m\u001b[0;34m]\u001b[0m\u001b[0;34m,\u001b[0m\u001b[0;34m\u001b[0m\u001b[0;34m\u001b[0m\u001b[0m\n",
      "\u001b[0;32m/shared/carles/miniconda3/envs/torchmd-exp/lib/python3.8/site-packages/torch/autograd/__init__.py\u001b[0m in \u001b[0;36mgrad\u001b[0;34m(outputs, inputs, grad_outputs, retain_graph, create_graph, only_inputs, allow_unused)\u001b[0m\n\u001b[1;32m    221\u001b[0m         \u001b[0mretain_graph\u001b[0m \u001b[0;34m=\u001b[0m \u001b[0mcreate_graph\u001b[0m\u001b[0;34m\u001b[0m\u001b[0;34m\u001b[0m\u001b[0m\n\u001b[1;32m    222\u001b[0m \u001b[0;34m\u001b[0m\u001b[0m\n\u001b[0;32m--> 223\u001b[0;31m     return Variable._execution_engine.run_backward(\n\u001b[0m\u001b[1;32m    224\u001b[0m         \u001b[0moutputs\u001b[0m\u001b[0;34m,\u001b[0m \u001b[0mgrad_outputs_\u001b[0m\u001b[0;34m,\u001b[0m \u001b[0mretain_graph\u001b[0m\u001b[0;34m,\u001b[0m \u001b[0mcreate_graph\u001b[0m\u001b[0;34m,\u001b[0m\u001b[0;34m\u001b[0m\u001b[0;34m\u001b[0m\u001b[0m\n\u001b[1;32m    225\u001b[0m         inputs, allow_unused, accumulate_grad=False)\n",
      "\u001b[0;31mKeyboardInterrupt\u001b[0m: "
     ]
    },
    {
     "data": {
      "image/png": "[encoded data removed]",
      "text/plain": [
       "<Figure size 432x288 with 1 Axes>"
      ]
     },
     "metadata": {
      "needs_background": "light"
     },
     "output_type": "display_data"
    }
   ],
   "source": [
    "from tqdm import tqdm \n",
    "import numpy as np\n",
    "%matplotlib inline\n",
    "import time\n",
    "import pylab as pl\n",
    "from IPython import display\n",
    "\n",
    "FS2NS = 1E-6 # Femtosecond to nanosecond conversion\n",
    "\n",
    "steps = 100000\n",
    "output_period = 100\n",
    "save_period = 10\n",
    "traj = []\n",
    "\n",
    "trajectoryout = \"mytrajectory.npy\"\n",
    "\n",
    "iterator = tqdm(range(1, int(steps / output_period) + 1))\n",
    "Epot = forces.compute(system.pos, system.box, system.forces)\n",
    "rmsds = []\n",
    "Ep = []\n",
    "tm_scores = []\n",
    "for i in iterator:\n",
    "    Ekin, Epot, T = integrator.step(niter=output_period)\n",
    "    rmsds.append(rmsd(system.pos, native_coords).item())\n",
    "    tm_scores.append(tm_score(system.pos, native_coords).item())\n",
    "    Ep.append(Epot)\n",
    "\n",
    "    pl.plot(rmsds)\n",
    "    pl.xlabel('steps')\n",
    "    pl.ylabel('rmsd')\n",
    "    \n",
    "    display.clear_output(wait=True)\n",
    "    display.display(pl.gcf())"
   ]
  },
  {
   "cell_type": "code",
   "execution_count": 168,
   "id": "9f2685cb-2ac4-4667-a013-84a6642eb2b8",
   "metadata": {},
   "outputs": [
    {
     "name": "stdout",
     "output_type": "stream",
     "text": [
      "[1.6132532358169556, 1.9259135723114014, 2.201615333557129, 2.375335454940796, 2.4843039512634277, 2.501485586166382, 2.777698278427124, 2.7449889183044434, 2.948359489440918, 3.1475982666015625, 3.2390401363372803, 3.28770112991333, 3.384751081466675, 3.4872803688049316, 3.611292839050293, 3.6234993934631348, 3.6813559532165527, 3.7287113666534424, 3.6717004776000977, 3.553842306137085, 3.488402843475342, 3.372314691543579, 3.3401739597320557, 3.235546350479126, 3.5202794075012207, 3.650254726409912, 3.7202658653259277, 3.6641829013824463, 3.8383028507232666, 4.0552473068237305, 4.176267147064209, 4.193631172180176, 4.145183086395264, 4.207592487335205, 4.111751556396484, 4.008963584899902, 3.74760103225708, 3.626075506210327, 3.652721405029297, 3.3464107513427734, 3.2862889766693115, 3.466989755630493, 3.5013537406921387, 3.454789876937866, 3.5281028747558594, 3.6608211994171143, 4.040021896362305, 3.9296698570251465, 4.108778953552246, 4.361713409423828, 4.236106872558594, 4.066518306732178, 3.899447441101074, 3.8796398639678955, 3.963787794113159, 4.222531318664551, 4.421119689941406, 4.666505336761475, 5.1687116622924805, 5.44626522064209, 5.630878448486328, 5.582156658172607, 5.528798580169678, 5.636307716369629, 5.5776801109313965, 5.586040019989014, 5.674431800842285, 5.6846747398376465]\n"
     ]
    }
   ],
   "source": [
    "print(rmsds)"
   ]
  },
  {
   "cell_type": "code",
   "execution_count": 169,
   "id": "030bf3cd-0f38-43f7-8caf-f37c0ded1a20",
   "metadata": {},
   "outputs": [
    {
     "name": "stdout",
     "output_type": "stream",
     "text": [
      "[0.8869118690490723, 0.8492711782455444, 0.8160679340362549, 0.7929492592811584, 0.7808713316917419, 0.780775785446167, 0.7501221895217896, 0.7608454823493958, 0.7402265071868896, 0.7114847302436829, 0.6997596025466919, 0.6944248080253601, 0.6766287088394165, 0.6622248888015747, 0.6609970331192017, 0.6604514718055725, 0.6528819799423218, 0.6565775871276855, 0.6517940759658813, 0.6680573225021362, 0.6905807852745056, 0.6983417272567749, 0.6879599094390869, 0.703145444393158, 0.6699679493904114, 0.6554152965545654, 0.6509443521499634, 0.6580794453620911, 0.6558791995048523, 0.6262921094894409, 0.6056808829307556, 0.5952492356300354, 0.6028037667274475, 0.590187668800354, 0.608081042766571, 0.618205189704895, 0.6484229564666748, 0.6630153656005859, 0.6523056030273438, 0.6957499980926514, 0.7027231454849243, 0.672838032245636, 0.6672454476356506, 0.6649703979492188, 0.6809380054473877, 0.668816328048706, 0.6151344776153564, 0.6420786380767822, 0.6433913707733154, 0.6265550255775452, 0.6354700922966003, 0.6509954929351807, 0.6474953293800354, 0.6319354176521301, 0.6195768117904663, 0.5851460695266724, 0.5660727024078369, 0.530489981174469, 0.49911224842071533, 0.4787338972091675, 0.4762081205844879, 0.47433140873908997, 0.46700021624565125, 0.4532095491886139, 0.45833414793014526, 0.46719890832901, 0.4564240574836731, 0.4513440430164337]\n"
     ]
    }
   ],
   "source": [
    "print(tm_scores)"
   ]
  },
  {
   "cell_type": "code",
   "execution_count": 56,
   "id": "090dbfad-6a55-4868-ab58-0361900b4149",
   "metadata": {},
   "outputs": [],
   "source": [
    "#pos_xtc = start_pos.detach().cpu().numpy().copy()\n",
    "#mol.coords = np.moveaxis(pos_xtc, 0, -1)\n",
    "#mol.write(f'/workspace7/torchmd-AD/carles_cath/9b_good_xtc/{domain}.pdb')"
   ]
  },
  {
   "cell_type": "code",
   "execution_count": 57,
   "id": "d573fc5e-c095-4970-9654-681dc122242c",
   "metadata": {},
   "outputs": [],
   "source": [
    "#mol.box = np.array([39.972, 39.941, 39.935], dtype=np.float32)"
   ]
  },
  {
   "cell_type": "code",
   "execution_count": 170,
   "id": "79e9f3fa-95c6-4367-b005-24ebd9379493",
   "metadata": {},
   "outputs": [
    {
     "data": {
      "text/plain": [
       "Text(0, 0.5, 'rmsd')"
      ]
     },
     "execution_count": 170,
     "metadata": {},
     "output_type": "execute_result"
    },
    {
     "data": {
      "image/png": "[encoded data removed]",
      "text/plain": [
       "<Figure size 432x288 with 1 Axes>"
      ]
     },
     "metadata": {
      "needs_background": "light"
     },
     "output_type": "display_data"
    }
   ],
   "source": [
    "pl.plot(rmsds)\n",
    "pl.xlabel('steps')\n",
    "pl.ylabel('rmsd')"
   ]
  },
  {
   "cell_type": "code",
   "execution_count": 171,
   "id": "0f5ad3c7-e08d-4372-be95-92a4f4ba03b7",
   "metadata": {},
   "outputs": [
    {
     "data": {
      "text/plain": [
       "Text(0, 0.5, 'E')"
      ]
     },
     "execution_count": 171,
     "metadata": {},
     "output_type": "execute_result"
    },
    {
     "data": {
      "image/png": "[encoded data removed]",
      "text/plain": [
       "<Figure size 432x288 with 1 Axes>"
      ]
     },
     "metadata": {
      "needs_background": "light"
     },
     "output_type": "display_data"
    }
   ],
   "source": [
    "pl.plot(Ep)\n",
    "pl.xlabel('steps')\n",
    "pl.ylabel('E')"
   ]
  },
  {
   "cell_type": "code",
   "execution_count": 172,
   "id": "33ef7876-ff51-4950-9dfc-cb338d4459ee",
   "metadata": {},
   "outputs": [
    {
     "data": {
      "text/plain": [
       "Text(0, 0.5, 'E')"
      ]
     },
     "execution_count": 172,
     "metadata": {},
     "output_type": "execute_result"
    },
    {
     "data": {
      "image/png": "[encoded data removed]",
      "text/plain": [
       "<Figure size 432x288 with 1 Axes>"
      ]
     },
     "metadata": {
      "needs_background": "light"
     },
     "output_type": "display_data"
    }
   ],
   "source": [
    "pl.plot(tm_scores)\n",
    "pl.xlabel('steps')\n",
    "pl.ylabel('E')"
   ]
  },
  {
   "cell_type": "code",
   "execution_count": null,
   "id": "98060784-e075-4a3b-8398-efd9e016bf5b",
   "metadata": {},
   "outputs": [],
   "source": []
  }
 ],
 "metadata": {
  "kernelspec": {
   "display_name": "torchmd-exp",
   "language": "python",
   "name": "torchmd-exp"
  },
  "language_info": {
   "codemirror_mode": {
    "name": "ipython",
    "version": 3
   },
   "file_extension": ".py",
   "mimetype": "text/x-python",
   "name": "python",
   "nbconvert_exporter": "python",
   "pygments_lexer": "ipython3",
   "version": "3.8.10"
  }
 },
 "nbformat": 4,
 "nbformat_minor": 5
}
