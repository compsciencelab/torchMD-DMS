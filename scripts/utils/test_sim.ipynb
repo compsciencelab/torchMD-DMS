{
 "cells": [
  {
   "cell_type": "markdown",
   "id": "3b409248-bd64-465e-bd35-3808b2e01e7b",
   "metadata": {},
   "source": [
    "## System steup"
   ]
  },
  {
   "cell_type": "code",
   "execution_count": 1,
   "id": "bf3345c7-24b5-42d1-a541-200a2cd985a8",
   "metadata": {},
   "outputs": [],
   "source": [
    "from moleculekit.molecule import Molecule\n",
    "import os\n",
    "import importlib\n",
    "from torchmdexp.metrics.rmsd import rmsd\n",
    "from torchmdexp.metrics.l2_rmsd import l2_rmsd\n",
    "from torchmdexp.metrics.log_rmsd import log_rmsd\n",
    "from torchmdexp.metrics.tmscore import tm_score\n",
    "from torchmdexp.samplers.utils import get_native_coords, get_embeddings\n",
    "from moleculekit.projections.metricrmsd import MetricRmsd\n",
    "from moleculekit.projections.metrictmscore import MetricTMscore\n",
    "import numpy as np\n",
    "import torch\n",
    "\n",
    "device = \"cuda:1\"\n",
    "precision = torch.float"
   ]
  },
  {
   "cell_type": "code",
   "execution_count": 2,
   "id": "481ab516-6e71-47e5-a2e8-e41203544437",
   "metadata": {},
   "outputs": [],
   "source": [
    "domain = '1ENH'\n",
    "ref_pdb = f'/workspace7/torchmd-AD/crystals_dataset/crystals_short_64/level_1/ground_truth/{domain}.pdb'\n",
    "ref_psf = f'/workspace7/torchmd-AD/crystals_dataset/topology_data/{domain}.psf'\n",
    "#ref_xtc =  f'/workspace7/torchmd-AD/carles_cath/9b_good_xtc/{domain}_8kcenters.xtc'\n",
    "#mol = Molecule(ref_xtc)\n",
    "ref_mol = Molecule(ref_pdb)\n",
    "ref_mol.filter('name CA')\n",
    "\n",
    "mol = ref_mol\n",
    "#mol.read(ref_psf)\n",
    "ref_mol.read(ref_psf)"
   ]
  },
  {
   "cell_type": "code",
   "execution_count": 3,
   "id": "9267c5a9-9866-4e53-be3f-bbb8a65abcc6",
   "metadata": {},
   "outputs": [
    {
     "data": {
      "text/plain": [
       "54"
      ]
     },
     "execution_count": 3,
     "metadata": {},
     "output_type": "execute_result"
    }
   ],
   "source": [
    "mol.resname\n",
    "length = len(mol.resname)\n",
    "length"
   ]
  },
  {
   "cell_type": "code",
   "execution_count": 4,
   "id": "17f4bf8b-8134-4af3-b07d-9dcbf64cb6d1",
   "metadata": {
    "tags": []
   },
   "outputs": [],
   "source": [
    "#for i in range(length-1):\n",
    "#    print(np.sqrt(np.square(mol.coords[i] - mol.coords[i+1]).sum()))"
   ]
  },
  {
   "cell_type": "code",
   "execution_count": 5,
   "id": "9f4fe95f-8193-4f40-a80d-1245ab22a072",
   "metadata": {},
   "outputs": [],
   "source": [
    "#mol.read(ref_xtc)"
   ]
  },
  {
   "cell_type": "code",
   "execution_count": 16,
   "id": "2c207a03-5c39-4ec9-8c44-86960c7016c5",
   "metadata": {},
   "outputs": [
    {
     "name": "stdout",
     "output_type": "stream",
     "text": [
      "Starting rmsd:  5.419224262237549\n",
      "Starting rmsd:  6.56096076965332\n",
      "Starting rmsd:  8.912055969238281\n",
      "Starting rmsd:  41.15761947631836\n",
      "Starting rmsd:  10.920272827148438\n",
      "Starting rmsd:  4.370209693908691\n",
      "Starting rmsd:  5.827398300170898\n",
      "Starting rmsd:  27.12180519104004\n",
      "Starting rmsd:  4.061878204345703\n",
      "Starting rmsd:  7.210869312286377\n",
      "Starting rmsd:  2.9772276878356934\n",
      "Starting rmsd:  8.139520645141602\n",
      "Starting rmsd:  5.7033915519714355\n",
      "Starting rmsd:  5.139762878417969\n",
      "Starting rmsd:  4.1286468505859375\n",
      "Starting rmsd:  8.442771911621094\n",
      "Starting rmsd:  10.471351623535156\n",
      "Starting rmsd:  7.8522138595581055\n",
      "Starting rmsd:  11.565497398376465\n",
      "Starting rmsd:  5.247818946838379\n",
      "Starting rmsd:  7.9331374168396\n",
      "Starting rmsd:  14.284526824951172\n",
      "Starting rmsd:  5.72441291809082\n",
      "Starting rmsd:  3.246816635131836\n",
      "Starting rmsd:  7.526526927947998\n",
      "Starting rmsd:  6.5091776847839355\n",
      "Starting rmsd:  9.960436820983887\n",
      "Starting rmsd:  4.721212863922119\n",
      "Starting rmsd:  13.05184555053711\n",
      "Starting rmsd:  11.419196128845215\n",
      "Starting rmsd:  14.887300491333008\n",
      "Starting rmsd:  6.496899604797363\n"
     ]
    }
   ],
   "source": [
    "for i in range(32):\n",
    "    mol = Molecule('/shared/carles/repo/torchmd-exp/data/a3d/a3d_ca_top_dih.psf')\n",
    "    mol.read('/shared/carles/repo/torchmd-exp/data/a3d/a3d_kcenters_32clusters_coords.xtc')\n",
    "    ref_mol = Molecule('/shared/carles/repo/torchmd-exp/data/a3d/a3d_ca.pdb')\n",
    "\n",
    "    mol.coords = np.expand_dims(mol.coords[:, : , i], axis=-1)\n",
    "    mol.box = np.expand_dims(mol.box[:, 0], axis=-1)\n",
    "\n",
    "\n",
    "    native_coords = get_native_coords(ref_mol, device)\n",
    "    native_coords = native_coords.type(precision)\n",
    "    coords = get_native_coords(mol, device)\n",
    "    coords = coords.type(precision)\n",
    "\n",
    "\n",
    "    print('Starting rmsd: ', rmsd(coords, native_coords).item())#, 'Starting log_rmsd: ', log_rmsd(coords, native_coords))\n",
    "    #print('Starting tmscore: ', tm_score(coords, native_coords), 'Starting l2_rmsd: ', l2_rmsd(coords, native_coords))"
   ]
  },
  {
   "cell_type": "code",
   "execution_count": 22,
   "id": "6426d7d7-d96e-4974-927f-cb7daef73b6f",
   "metadata": {},
   "outputs": [
    {
     "ename": "IndexError",
     "evalue": "index 1 is out of bounds for axis 2 with size 1",
     "output_type": "error",
     "traceback": [
      "\u001b[0;31m---------------------------------------------------------------------------\u001b[0m",
      "\u001b[0;31mIndexError\u001b[0m                                Traceback (most recent call last)",
      "\u001b[0;32m/tmp/ipykernel_281380/4019835512.py\u001b[0m in \u001b[0;36m<module>\u001b[0;34m\u001b[0m\n\u001b[1;32m      2\u001b[0m \u001b[0;31m#[mol.dropFrames(1) for _ in range(32)]\u001b[0m\u001b[0;34m\u001b[0m\u001b[0;34m\u001b[0m\u001b[0;34m\u001b[0m\u001b[0m\n\u001b[1;32m      3\u001b[0m \u001b[0;34m\u001b[0m\u001b[0m\n\u001b[0;32m----> 4\u001b[0;31m \u001b[0mmol\u001b[0m\u001b[0;34m.\u001b[0m\u001b[0mcoords\u001b[0m \u001b[0;34m=\u001b[0m \u001b[0mnp\u001b[0m\u001b[0;34m.\u001b[0m\u001b[0mexpand_dims\u001b[0m\u001b[0;34m(\u001b[0m\u001b[0mmol\u001b[0m\u001b[0;34m.\u001b[0m\u001b[0mcoords\u001b[0m\u001b[0;34m[\u001b[0m\u001b[0;34m:\u001b[0m\u001b[0;34m,\u001b[0m \u001b[0;34m:\u001b[0m \u001b[0;34m,\u001b[0m \u001b[0;36m1\u001b[0m\u001b[0;34m]\u001b[0m\u001b[0;34m,\u001b[0m \u001b[0maxis\u001b[0m\u001b[0;34m=\u001b[0m\u001b[0;34m-\u001b[0m\u001b[0;36m1\u001b[0m\u001b[0;34m)\u001b[0m\u001b[0;34m\u001b[0m\u001b[0;34m\u001b[0m\u001b[0m\n\u001b[0m\u001b[1;32m      5\u001b[0m \u001b[0mmol\u001b[0m\u001b[0;34m.\u001b[0m\u001b[0mbox\u001b[0m \u001b[0;34m=\u001b[0m \u001b[0mnp\u001b[0m\u001b[0;34m.\u001b[0m\u001b[0mexpand_dims\u001b[0m\u001b[0;34m(\u001b[0m\u001b[0mmol\u001b[0m\u001b[0;34m.\u001b[0m\u001b[0mbox\u001b[0m\u001b[0;34m[\u001b[0m\u001b[0;34m:\u001b[0m\u001b[0;34m,\u001b[0m \u001b[0;36m0\u001b[0m\u001b[0;34m]\u001b[0m\u001b[0;34m,\u001b[0m \u001b[0maxis\u001b[0m\u001b[0;34m=\u001b[0m\u001b[0;34m-\u001b[0m\u001b[0;36m1\u001b[0m\u001b[0;34m)\u001b[0m\u001b[0;34m\u001b[0m\u001b[0;34m\u001b[0m\u001b[0m\n\u001b[1;32m      6\u001b[0m \u001b[0;34m\u001b[0m\u001b[0m\n",
      "\u001b[0;31mIndexError\u001b[0m: index 1 is out of bounds for axis 2 with size 1"
     ]
    }
   ],
   "source": [
    "# Compute starting coords\n",
    "#[mol.dropFrames(1) for _ in range(32)]\n",
    "\n",
    "mol.coords = np.expand_dims(mol.coords[:, : , 1], axis=-1)\n",
    "mol.box = np.expand_dims(mol.box[:, 0], axis=-1)\n",
    "\n",
    "\n",
    "native_coords = get_native_coords(ref_mol, device)\n",
    "native_coords = native_coords.type(precision)\n",
    "coords = get_native_coords(mol, device)\n",
    "coords = coords.type(precision)\n",
    "\n",
    "\n",
    "print('Starting rmsd: ', rmsd(coords, native_coords), 'Starting log_rmsd: ', log_rmsd(coords, native_coords))\n",
    "print('Starting tmscore: ', tm_score(coords, native_coords), 'Starting l2_rmsd: ', l2_rmsd(coords, native_coords))\n"
   ]
  },
  {
   "cell_type": "code",
   "execution_count": 23,
   "id": "19ee03b8-88a1-42c6-ae34-5a069902cb01",
   "metadata": {},
   "outputs": [
    {
     "name": "stdout",
     "output_type": "stream",
     "text": [
      "tensor(-5.9969, device='cuda:1')\n"
     ]
    }
   ],
   "source": [
    "print(0.5-rmsd(coords, native_coords))"
   ]
  },
  {
   "cell_type": "code",
   "execution_count": 24,
   "id": "bec6c13f-95e6-4f23-8e0e-a08a18cfc232",
   "metadata": {},
   "outputs": [
    {
     "data": {
      "text/plain": [
       "tensor(0.3158, device='cuda:1')"
      ]
     },
     "execution_count": 24,
     "metadata": {},
     "output_type": "execute_result"
    }
   ],
   "source": [
    "tm_score(coords, native_coords)"
   ]
  },
  {
   "cell_type": "code",
   "execution_count": 25,
   "id": "4865b6d9-8f16-4999-b074-4f18bfa02d33",
   "metadata": {},
   "outputs": [],
   "source": [
    "from torchmd.forcefields.forcefield import ForceField\n",
    "from torchmd.parameters import Parameters\n",
    "\n",
    "\n",
    "ff = ForceField.create(mol, '/shared/carles/repo/torchmd-exp/data/ca_priors-dihedrals_general.yaml')\n",
    "parameters = Parameters(ff, mol, precision=precision, device=device)"
   ]
  },
  {
   "cell_type": "code",
   "execution_count": 26,
   "id": "1f08b1f5-c8da-4aa8-a19f-e2ecd90e1074",
   "metadata": {},
   "outputs": [],
   "source": [
    "from torchmd.integrator import maxwell_boltzmann\n",
    "from torchmd.systems import System\n",
    "\n",
    "system = System(mol.numAtoms, nreplicas=1, precision=precision, device=device)\n",
    "system.set_positions(mol.coords)\n",
    "system.set_box(mol.box)\n",
    "system.set_velocities(maxwell_boltzmann(parameters.masses, T=350, replicas=1))\n",
    "\n",
    "\n"
   ]
  },
  {
   "cell_type": "code",
   "execution_count": 27,
   "id": "1e185604-3f17-495e-a0e1-c93f63c32605",
   "metadata": {},
   "outputs": [
    {
     "data": {
      "text/plain": [
       "torch.Size([1, 73, 3])"
      ]
     },
     "execution_count": 27,
     "metadata": {},
     "output_type": "execute_result"
    }
   ],
   "source": [
    "system.pos.shape"
   ]
  },
  {
   "cell_type": "code",
   "execution_count": 28,
   "id": "5f0e7e53-e17e-44ea-a0bd-4d98576839e9",
   "metadata": {},
   "outputs": [],
   "source": [
    "if torch.any(torch.isnan(system.pos)):\n",
    "    raise RuntimeError(\"Found NaN coordinates.\")"
   ]
  },
  {
   "cell_type": "code",
   "execution_count": 29,
   "id": "55bc5269-7bfe-4821-b15c-b942081c4348",
   "metadata": {},
   "outputs": [
    {
     "data": {
      "text/plain": [
       "tensor([[15,  2, 12,  7,  1,  6,  3, 19, 10, 18, 20,  1,  1, 21, 19, 13, 18, 20,\n",
       "         10,  1, 20,  2,  2, 12,  6,  1,  6, 20,  1,  1,  3,  6, 19,  6, 21,  1,\n",
       "          1,  3,  6, 12,  6, 20, 10,  1,  4, 19,  2, 19,  2,  9,  8,  6, 14,  6,\n",
       "          1, 20, 18, 19,  6,  1,  1,  1, 21, 18,  5,  6, 20, 10,  1,  4, 18, 11,\n",
       "          9]])"
      ]
     },
     "execution_count": 29,
     "metadata": {},
     "output_type": "execute_result"
    }
   ],
   "source": [
    "get_embeddings(mol, 'cpu', 1)"
   ]
  },
  {
   "cell_type": "code",
   "execution_count": 60,
   "id": "7384ceff-d852-49a5-b5a3-efce4868d68b",
   "metadata": {},
   "outputs": [],
   "source": [
    "externalmodule = importlib.import_module('torchmdnet.calculators')\n",
    "nnp = '/shared/carles/torchmd-exp/scripts/trainings/tests/test_crystals/crystals_256_levels/no_priors/tm09_cut12_lay4_b16_lev32_lr1e-3_lrd08_clip03_l2_loss'\n",
    "nnp += '/epoch=154-train_loss=0.0503-val_loss=0.9022.ckpt'\n",
    "#nnp = '/workspace2/fast_folders_cgnet/multiprotein/M-test-fixed/NNP_torchMD2_moreHomeo/train_geom_multi_dih_4int_fix_homeo_rep2/'\n",
    "#nnp += 'epoch=97-val_loss=719.2455-test_loss=21.2833.ckpt'\n",
    "embeddings = torch.tensor([ 4,  4,  5,  8,  6, 13,  2, 13,  7,  4]).repeat(1, 1)\n",
    "external = externalmodule.External(nnp, embeddings, device)"
   ]
  },
  {
   "cell_type": "code",
   "execution_count": 61,
   "id": "cfd20b05-404e-4c63-99ec-0ec53a18471b",
   "metadata": {},
   "outputs": [
    {
     "name": "stdout",
     "output_type": "stream",
     "text": [
      "Number of parameters nnp:  294565\n"
     ]
    }
   ],
   "source": [
    "print('Number of parameters nnp: ', sum(p.numel() for p in external.model.parameters() if p.requires_grad))"
   ]
  },
  {
   "cell_type": "code",
   "execution_count": 62,
   "id": "a2880c41-8403-4c5b-a728-862203f90d65",
   "metadata": {},
   "outputs": [
    {
     "name": "stdout",
     "output_type": "stream",
     "text": [
      "[39.332509994506836]\n",
      "tensor([[[  2.1660,   4.0122,   5.6670],\n",
      "         [ -2.7828,   3.9588,  -3.6668],\n",
      "         [ 15.8696, -13.1288,   0.4036],\n",
      "         [ -0.2686,  -1.6710,   0.2314],\n",
      "         [  5.0042,  15.8164,  10.7844],\n",
      "         [ -8.0190,  -4.7895, -11.7194],\n",
      "         [-14.8880,  -1.6529,  -0.5162],\n",
      "         [  9.9312,  -1.6082,  15.8392],\n",
      "         [-14.8887,  -0.8721, -11.8227],\n",
      "         [  7.8761,  -0.0650,  -5.2003]]], device='cuda:1')\n"
     ]
    }
   ],
   "source": [
    "from torchmd.forces import Forces\n",
    "#external=None\n",
    "priors = ['bonds', 'repulsioncg', 'dihedrals']\n",
    "forces = Forces(parameters,terms=priors, cutoff=9, rfa=False, switch_dist=None, \n",
    "                external=external, exclusions = ('bonds')\n",
    "               )\n",
    "# Evaluate current energy and forces. Forces are modified in-place\n",
    "Epot = forces.compute(system.pos, system.box, system.forces, returnDetails=False)\n",
    "print(Epot)\n",
    "print(system.forces)"
   ]
  },
  {
   "cell_type": "markdown",
   "id": "d77be2bb-b3d7-451e-a5de-921bd22d16c6",
   "metadata": {},
   "source": [
    "## Dynamics"
   ]
  },
  {
   "cell_type": "code",
   "execution_count": 63,
   "id": "9011e4e6-5920-440c-b5de-4b363ab26eba",
   "metadata": {},
   "outputs": [],
   "source": [
    "from torchmd.integrator import Integrator\n",
    "from torchmd.wrapper import Wrapper\n",
    "\n",
    "langevin_temperature = 350  # K\n",
    "langevin_gamma = 1\n",
    "timestep = 5  # fs\n",
    "\n",
    "integrator = Integrator(system, forces, timestep, device, gamma=langevin_gamma, T=langevin_temperature)\n",
    "wrapper = Wrapper(mol.numAtoms, mol.bonds if len(mol.bonds) else None, device)\n"
   ]
  },
  {
   "cell_type": "code",
   "execution_count": 64,
   "id": "c437fde5-eda2-44e8-b545-ed9f02a481db",
   "metadata": {
    "tags": []
   },
   "outputs": [],
   "source": [
    "\n",
    "def minimize_bfgs(system, forces, fmax=0.05, steps=1000):\n",
    "    from scipy.optimize import minimize\n",
    "\n",
    "    if steps == 0:\n",
    "        print(\n",
    "                \"{0:4d}   {1: 3.6f}   {2: 3.6f}\".format(\n",
    "                    info[\"Nfeval\"], Epot, np.max(np.linalg.norm(grad, axis=1))))\n",
    "        return\n",
    "\n",
    "    if system.pos.shape[0] != 1:\n",
    "        raise RuntimeError(\n",
    "            \"System minimization currently doesn't support replicas. Talk with Stefan to implement it.\"\n",
    "        )\n",
    "\n",
    "    def evalfunc(coords, info):\n",
    "        coords = coords.reshape(1, -1, 3)\n",
    "        coords = torch.tensor(coords).type_as(system.pos)\n",
    "        Epot = forces.compute(coords, system.box, system.forces)[0]\n",
    "        grad = -system.forces.detach().cpu().numpy().astype(np.float64)[0]\n",
    "        # display information\n",
    "        #if info[\"Nfeval\"] % 1 == 0:\n",
    "            #print(\n",
    "            #    \"{0:4d}   {1: 3.6f}   {2: 3.6f}\".format(\n",
    "            #        info[\"Nfeval\"], Epot, np.max(np.linalg.norm(grad, axis=1))\n",
    "            #    )\n",
    "            #)\n",
    "        #info[\"Nfeval\"] += 1\n",
    "        return Epot, grad.reshape(-1)\n",
    "\n",
    "    #print(\"{0:4s} {1:9s}       {2:9s}\".format(\"Iter\", \" Epot\", \" fmax\"))\n",
    "    x0 = system.pos.detach().cpu().numpy()[0].astype(np.float64)\n",
    "\n",
    "    res = minimize(\n",
    "        evalfunc,\n",
    "        x0,\n",
    "        method=\"L-BFGS-B\",\n",
    "        jac=True,\n",
    "        options={\"gtol\": fmax, \"maxiter\": steps, \"disp\": False},\n",
    "        args=({\"Nfeval\": 0},),\n",
    "    )\n",
    "\n",
    "    system.pos = torch.tensor(\n",
    "        res.x.reshape(1, -1, 3),\n",
    "        dtype=system.pos.dtype,\n",
    "        device=system.pos.device,\n",
    "        requires_grad=system.pos.requires_grad,\n",
    "    )"
   ]
  },
  {
   "cell_type": "code",
   "execution_count": 65,
   "id": "6fdeb37a-1b10-4048-bbed-4a7d0f305e29",
   "metadata": {},
   "outputs": [
    {
     "name": "stdout",
     "output_type": "stream",
     "text": [
      "tensor(1.9902, device='cuda:1')\n",
      "None\n",
      "tensor(2.1660, device='cuda:1')\n"
     ]
    }
   ],
   "source": [
    "#from torchmd.minimizers import minimize_bfgs, minimize_pytorch_bfgs\n",
    "\n",
    "print(rmsd(system.pos, native_coords))\n",
    "print(minimize_bfgs(system, forces, steps=20000))  # Minimize the system\n",
    "print(rmsd(system.pos, native_coords))"
   ]
  },
  {
   "cell_type": "code",
   "execution_count": 66,
   "id": "75f72514-0497-491e-bf5f-277783cef4dd",
   "metadata": {},
   "outputs": [
    {
     "data": {
      "image/png": "[encoded data removed]",
      "text/plain": [
       "<Figure size 432x288 with 1 Axes>"
      ]
     },
     "metadata": {},
     "output_type": "display_data"
    },
    {
     "name": "stderr",
     "output_type": "stream",
     "text": [
      "  2%|▊                                  | 24/1000 [01:16<51:46,  3.18s/it]\n"
     ]
    },
    {
     "ename": "KeyboardInterrupt",
     "evalue": "",
     "output_type": "error",
     "traceback": [
      "\u001b[0;31m---------------------------------------------------------------------------\u001b[0m",
      "\u001b[0;31mKeyboardInterrupt\u001b[0m                         Traceback (most recent call last)",
      "\u001b[0;32m/tmp/ipykernel_146709/1788812065.py\u001b[0m in \u001b[0;36m<module>\u001b[0;34m\u001b[0m\n\u001b[1;32m     22\u001b[0m \u001b[0mtm_scores\u001b[0m \u001b[0;34m=\u001b[0m \u001b[0;34m[\u001b[0m\u001b[0;34m]\u001b[0m\u001b[0;34m\u001b[0m\u001b[0;34m\u001b[0m\u001b[0m\n\u001b[1;32m     23\u001b[0m \u001b[0;32mfor\u001b[0m \u001b[0mi\u001b[0m \u001b[0;32min\u001b[0m \u001b[0miterator\u001b[0m\u001b[0;34m:\u001b[0m\u001b[0;34m\u001b[0m\u001b[0;34m\u001b[0m\u001b[0m\n\u001b[0;32m---> 24\u001b[0;31m     \u001b[0mEkin\u001b[0m\u001b[0;34m,\u001b[0m \u001b[0mEpot\u001b[0m\u001b[0;34m,\u001b[0m \u001b[0mT\u001b[0m \u001b[0;34m=\u001b[0m \u001b[0mintegrator\u001b[0m\u001b[0;34m.\u001b[0m\u001b[0mstep\u001b[0m\u001b[0;34m(\u001b[0m\u001b[0mniter\u001b[0m\u001b[0;34m=\u001b[0m\u001b[0moutput_period\u001b[0m\u001b[0;34m)\u001b[0m\u001b[0;34m\u001b[0m\u001b[0;34m\u001b[0m\u001b[0m\n\u001b[0m\u001b[1;32m     25\u001b[0m     \u001b[0mrmsds\u001b[0m\u001b[0;34m.\u001b[0m\u001b[0mappend\u001b[0m\u001b[0;34m(\u001b[0m\u001b[0mrmsd\u001b[0m\u001b[0;34m(\u001b[0m\u001b[0msystem\u001b[0m\u001b[0;34m.\u001b[0m\u001b[0mpos\u001b[0m\u001b[0;34m,\u001b[0m \u001b[0mnative_coords\u001b[0m\u001b[0;34m)\u001b[0m\u001b[0;34m.\u001b[0m\u001b[0mitem\u001b[0m\u001b[0;34m(\u001b[0m\u001b[0;34m)\u001b[0m\u001b[0;34m)\u001b[0m\u001b[0;34m\u001b[0m\u001b[0;34m\u001b[0m\u001b[0m\n\u001b[1;32m     26\u001b[0m     \u001b[0mtm_scores\u001b[0m\u001b[0;34m.\u001b[0m\u001b[0mappend\u001b[0m\u001b[0;34m(\u001b[0m\u001b[0mtm_score\u001b[0m\u001b[0;34m(\u001b[0m\u001b[0msystem\u001b[0m\u001b[0;34m.\u001b[0m\u001b[0mpos\u001b[0m\u001b[0;34m,\u001b[0m \u001b[0mnative_coords\u001b[0m\u001b[0;34m)\u001b[0m\u001b[0;34m.\u001b[0m\u001b[0mitem\u001b[0m\u001b[0;34m(\u001b[0m\u001b[0;34m)\u001b[0m\u001b[0;34m)\u001b[0m\u001b[0;34m\u001b[0m\u001b[0;34m\u001b[0m\u001b[0m\n",
      "\u001b[0;32m/shared/carles/miniconda3/envs/torchmd-exp/lib/python3.8/site-packages/torchmd-0.0.2-py3.8.egg/torchmd/integrator.py\u001b[0m in \u001b[0;36mstep\u001b[0;34m(self, niter)\u001b[0m\n\u001b[1;32m     66\u001b[0m         \u001b[0;32mfor\u001b[0m \u001b[0m_\u001b[0m \u001b[0;32min\u001b[0m \u001b[0mrange\u001b[0m\u001b[0;34m(\u001b[0m\u001b[0mniter\u001b[0m\u001b[0;34m)\u001b[0m\u001b[0;34m:\u001b[0m\u001b[0;34m\u001b[0m\u001b[0;34m\u001b[0m\u001b[0m\n\u001b[1;32m     67\u001b[0m             \u001b[0m_first_VV\u001b[0m\u001b[0;34m(\u001b[0m\u001b[0ms\u001b[0m\u001b[0;34m.\u001b[0m\u001b[0mpos\u001b[0m\u001b[0;34m,\u001b[0m \u001b[0ms\u001b[0m\u001b[0;34m.\u001b[0m\u001b[0mvel\u001b[0m\u001b[0;34m,\u001b[0m \u001b[0ms\u001b[0m\u001b[0;34m.\u001b[0m\u001b[0mforces\u001b[0m\u001b[0;34m,\u001b[0m \u001b[0mmasses\u001b[0m\u001b[0;34m,\u001b[0m \u001b[0mself\u001b[0m\u001b[0;34m.\u001b[0m\u001b[0mdt\u001b[0m\u001b[0;34m)\u001b[0m\u001b[0;34m\u001b[0m\u001b[0;34m\u001b[0m\u001b[0m\n\u001b[0;32m---> 68\u001b[0;31m             \u001b[0mpot\u001b[0m \u001b[0;34m=\u001b[0m \u001b[0mself\u001b[0m\u001b[0;34m.\u001b[0m\u001b[0mforces\u001b[0m\u001b[0;34m.\u001b[0m\u001b[0mcompute\u001b[0m\u001b[0;34m(\u001b[0m\u001b[0ms\u001b[0m\u001b[0;34m.\u001b[0m\u001b[0mpos\u001b[0m\u001b[0;34m,\u001b[0m \u001b[0ms\u001b[0m\u001b[0;34m.\u001b[0m\u001b[0mbox\u001b[0m\u001b[0;34m,\u001b[0m \u001b[0ms\u001b[0m\u001b[0;34m.\u001b[0m\u001b[0mforces\u001b[0m\u001b[0;34m)\u001b[0m\u001b[0;34m\u001b[0m\u001b[0;34m\u001b[0m\u001b[0m\n\u001b[0m\u001b[1;32m     69\u001b[0m             \u001b[0;32mif\u001b[0m \u001b[0mself\u001b[0m\u001b[0;34m.\u001b[0m\u001b[0mT\u001b[0m\u001b[0;34m:\u001b[0m\u001b[0;34m\u001b[0m\u001b[0;34m\u001b[0m\u001b[0m\n\u001b[1;32m     70\u001b[0m                 \u001b[0mlangevin\u001b[0m\u001b[0;34m(\u001b[0m\u001b[0ms\u001b[0m\u001b[0;34m.\u001b[0m\u001b[0mvel\u001b[0m\u001b[0;34m,\u001b[0m \u001b[0mself\u001b[0m\u001b[0;34m.\u001b[0m\u001b[0mgamma\u001b[0m\u001b[0;34m,\u001b[0m \u001b[0mself\u001b[0m\u001b[0;34m.\u001b[0m\u001b[0mvcoeff\u001b[0m\u001b[0;34m,\u001b[0m \u001b[0mself\u001b[0m\u001b[0;34m.\u001b[0m\u001b[0mdt\u001b[0m\u001b[0;34m,\u001b[0m \u001b[0mself\u001b[0m\u001b[0;34m.\u001b[0m\u001b[0mdevice\u001b[0m\u001b[0;34m)\u001b[0m\u001b[0;34m\u001b[0m\u001b[0;34m\u001b[0m\u001b[0m\n",
      "\u001b[0;32m/shared/carles/miniconda3/envs/torchmd-exp/lib/python3.8/site-packages/torchmd-0.0.2-py3.8.egg/torchmd/forces.py\u001b[0m in \u001b[0;36mcompute\u001b[0;34m(self, pos, box, forces, returnDetails, explicit_forces)\u001b[0m\n\u001b[1;32m    145\u001b[0m \u001b[0;34m\u001b[0m\u001b[0m\n\u001b[1;32m    146\u001b[0m             \u001b[0;32mif\u001b[0m \u001b[0;34m\"dihedrals\"\u001b[0m \u001b[0;32min\u001b[0m \u001b[0mself\u001b[0m\u001b[0;34m.\u001b[0m\u001b[0menergies\u001b[0m \u001b[0;32mand\u001b[0m \u001b[0mself\u001b[0m\u001b[0;34m.\u001b[0m\u001b[0mpar\u001b[0m\u001b[0;34m.\u001b[0m\u001b[0mdihedrals\u001b[0m \u001b[0;32mis\u001b[0m \u001b[0;32mnot\u001b[0m \u001b[0;32mNone\u001b[0m\u001b[0;34m:\u001b[0m\u001b[0;34m\u001b[0m\u001b[0;34m\u001b[0m\u001b[0m\n\u001b[0;32m--> 147\u001b[0;31m                 _, _, r12 = calculate_distances(\n\u001b[0m\u001b[1;32m    148\u001b[0m                     \u001b[0mspos\u001b[0m\u001b[0;34m,\u001b[0m \u001b[0mself\u001b[0m\u001b[0;34m.\u001b[0m\u001b[0mpar\u001b[0m\u001b[0;34m.\u001b[0m\u001b[0mdihedrals\u001b[0m\u001b[0;34m[\u001b[0m\u001b[0;34m:\u001b[0m\u001b[0;34m,\u001b[0m \u001b[0;34m[\u001b[0m\u001b[0;36m0\u001b[0m\u001b[0;34m,\u001b[0m \u001b[0;36m1\u001b[0m\u001b[0;34m]\u001b[0m\u001b[0;34m]\u001b[0m\u001b[0;34m,\u001b[0m \u001b[0msbox\u001b[0m\u001b[0;34m\u001b[0m\u001b[0;34m\u001b[0m\u001b[0m\n\u001b[1;32m    149\u001b[0m                 )\n",
      "\u001b[0;32m/shared/carles/miniconda3/envs/torchmd-exp/lib/python3.8/site-packages/torchmd-0.0.2-py3.8.egg/torchmd/forces.py\u001b[0m in \u001b[0;36mcalculate_distances\u001b[0;34m(atom_pos, atom_idx, box)\u001b[0m\n\u001b[1;32m    368\u001b[0m \u001b[0;32mdef\u001b[0m \u001b[0mcalculate_distances\u001b[0m\u001b[0;34m(\u001b[0m\u001b[0matom_pos\u001b[0m\u001b[0;34m,\u001b[0m \u001b[0matom_idx\u001b[0m\u001b[0;34m,\u001b[0m \u001b[0mbox\u001b[0m\u001b[0;34m)\u001b[0m\u001b[0;34m:\u001b[0m\u001b[0;34m\u001b[0m\u001b[0;34m\u001b[0m\u001b[0m\n\u001b[1;32m    369\u001b[0m     \u001b[0mdirection_vec\u001b[0m \u001b[0;34m=\u001b[0m \u001b[0mwrap_dist\u001b[0m\u001b[0;34m(\u001b[0m\u001b[0matom_pos\u001b[0m\u001b[0;34m[\u001b[0m\u001b[0matom_idx\u001b[0m\u001b[0;34m[\u001b[0m\u001b[0;34m:\u001b[0m\u001b[0;34m,\u001b[0m \u001b[0;36m0\u001b[0m\u001b[0;34m]\u001b[0m\u001b[0;34m]\u001b[0m \u001b[0;34m-\u001b[0m \u001b[0matom_pos\u001b[0m\u001b[0;34m[\u001b[0m\u001b[0matom_idx\u001b[0m\u001b[0;34m[\u001b[0m\u001b[0;34m:\u001b[0m\u001b[0;34m,\u001b[0m \u001b[0;36m1\u001b[0m\u001b[0;34m]\u001b[0m\u001b[0;34m]\u001b[0m\u001b[0;34m,\u001b[0m \u001b[0mbox\u001b[0m\u001b[0;34m)\u001b[0m\u001b[0;34m\u001b[0m\u001b[0;34m\u001b[0m\u001b[0m\n\u001b[0;32m--> 370\u001b[0;31m     \u001b[0mdist\u001b[0m \u001b[0;34m=\u001b[0m \u001b[0mtorch\u001b[0m\u001b[0;34m.\u001b[0m\u001b[0mnorm\u001b[0m\u001b[0;34m(\u001b[0m\u001b[0mdirection_vec\u001b[0m\u001b[0;34m,\u001b[0m \u001b[0mdim\u001b[0m\u001b[0;34m=\u001b[0m\u001b[0;36m1\u001b[0m\u001b[0;34m)\u001b[0m\u001b[0;34m\u001b[0m\u001b[0;34m\u001b[0m\u001b[0m\n\u001b[0m\u001b[1;32m    371\u001b[0m     \u001b[0mdirection_unitvec\u001b[0m \u001b[0;34m=\u001b[0m \u001b[0mdirection_vec\u001b[0m \u001b[0;34m/\u001b[0m \u001b[0mdist\u001b[0m\u001b[0;34m.\u001b[0m\u001b[0munsqueeze\u001b[0m\u001b[0;34m(\u001b[0m\u001b[0;36m1\u001b[0m\u001b[0;34m)\u001b[0m\u001b[0;34m\u001b[0m\u001b[0;34m\u001b[0m\u001b[0m\n\u001b[1;32m    372\u001b[0m     \u001b[0;32mreturn\u001b[0m \u001b[0mdist\u001b[0m\u001b[0;34m,\u001b[0m \u001b[0mdirection_unitvec\u001b[0m\u001b[0;34m,\u001b[0m \u001b[0mdirection_vec\u001b[0m\u001b[0;34m\u001b[0m\u001b[0;34m\u001b[0m\u001b[0m\n",
      "\u001b[0;32m/shared/carles/miniconda3/envs/torchmd-exp/lib/python3.8/site-packages/torch/functional.py\u001b[0m in \u001b[0;36mnorm\u001b[0;34m(input, p, dim, keepdim, out, dtype)\u001b[0m\n\u001b[1;32m   1395\u001b[0m                 \u001b[0m_dim\u001b[0m \u001b[0;34m=\u001b[0m \u001b[0mlist\u001b[0m\u001b[0;34m(\u001b[0m\u001b[0mrange\u001b[0m\u001b[0;34m(\u001b[0m\u001b[0mndim\u001b[0m\u001b[0;34m)\u001b[0m\u001b[0;34m)\u001b[0m\u001b[0;34m\u001b[0m\u001b[0;34m\u001b[0m\u001b[0m\n\u001b[1;32m   1396\u001b[0m             \u001b[0;32mif\u001b[0m \u001b[0mout\u001b[0m \u001b[0;32mis\u001b[0m \u001b[0;32mNone\u001b[0m\u001b[0;34m:\u001b[0m\u001b[0;34m\u001b[0m\u001b[0;34m\u001b[0m\u001b[0m\n\u001b[0;32m-> 1397\u001b[0;31m                 \u001b[0;32mreturn\u001b[0m \u001b[0m_VF\u001b[0m\u001b[0;34m.\u001b[0m\u001b[0mfrobenius_norm\u001b[0m\u001b[0;34m(\u001b[0m\u001b[0minput\u001b[0m\u001b[0;34m,\u001b[0m \u001b[0m_dim\u001b[0m\u001b[0;34m,\u001b[0m \u001b[0mkeepdim\u001b[0m\u001b[0;34m=\u001b[0m\u001b[0mkeepdim\u001b[0m\u001b[0;34m)\u001b[0m  \u001b[0;31m# type: ignore\u001b[0m\u001b[0;34m\u001b[0m\u001b[0;34m\u001b[0m\u001b[0m\n\u001b[0m\u001b[1;32m   1398\u001b[0m             \u001b[0;32melse\u001b[0m\u001b[0;34m:\u001b[0m\u001b[0;34m\u001b[0m\u001b[0;34m\u001b[0m\u001b[0m\n\u001b[1;32m   1399\u001b[0m                 \u001b[0;32mreturn\u001b[0m \u001b[0m_VF\u001b[0m\u001b[0;34m.\u001b[0m\u001b[0mfrobenius_norm\u001b[0m\u001b[0;34m(\u001b[0m\u001b[0minput\u001b[0m\u001b[0;34m,\u001b[0m \u001b[0m_dim\u001b[0m\u001b[0;34m,\u001b[0m \u001b[0mkeepdim\u001b[0m\u001b[0;34m=\u001b[0m\u001b[0mkeepdim\u001b[0m\u001b[0;34m,\u001b[0m \u001b[0mout\u001b[0m\u001b[0;34m=\u001b[0m\u001b[0mout\u001b[0m\u001b[0;34m)\u001b[0m  \u001b[0;31m# type: ignore\u001b[0m\u001b[0;34m\u001b[0m\u001b[0;34m\u001b[0m\u001b[0m\n",
      "\u001b[0;31mKeyboardInterrupt\u001b[0m: "
     ]
    },
    {
     "data": {
      "image/png": "[encoded data removed]",
      "text/plain": [
       "<Figure size 432x288 with 1 Axes>"
      ]
     },
     "metadata": {
      "needs_background": "light"
     },
     "output_type": "display_data"
    }
   ],
   "source": [
    "from tqdm import tqdm \n",
    "import numpy as np\n",
    "%matplotlib inline\n",
    "import time\n",
    "import pylab as pl\n",
    "from IPython import display\n",
    "\n",
    "FS2NS = 1E-6 # Femtosecond to nanosecond conversion\n",
    "\n",
    "steps = 100000\n",
    "output_period = 100\n",
    "save_period = 10\n",
    "traj = []\n",
    "\n",
    "trajectoryout = \"mytrajectory.npy\"\n",
    "\n",
    "iterator = tqdm(range(1, int(steps / output_period) + 1))\n",
    "Epot = forces.compute(system.pos, system.box, system.forces)\n",
    "rmsds = []\n",
    "Ep = []\n",
    "Et = []\n",
    "tm_scores = []\n",
    "for i in iterator:\n",
    "    Ekin, Epot, T = integrator.step(niter=output_period)\n",
    "    rmsds.append(rmsd(system.pos, native_coords).item())\n",
    "    tm_scores.append(tm_score(system.pos, native_coords).item())\n",
    "    Ep.append(Epot)\n",
    "    Et.append(Ekin + Epot)\n",
    "    pl.plot(rmsds)\n",
    "    pl.xlabel('steps')\n",
    "    pl.ylabel('rmsd')\n",
    "    \n",
    "    display.clear_output(wait=True)\n",
    "    display.display(pl.gcf())"
   ]
  },
  {
   "cell_type": "code",
   "execution_count": null,
   "id": "9f2685cb-2ac4-4667-a013-84a6642eb2b8",
   "metadata": {},
   "outputs": [],
   "source": [
    "#print(rmsds)"
   ]
  },
  {
   "cell_type": "code",
   "execution_count": 70,
   "id": "030bf3cd-0f38-43f7-8caf-f37c0ded1a20",
   "metadata": {},
   "outputs": [],
   "source": [
    "#print(tm_scores)"
   ]
  },
  {
   "cell_type": "code",
   "execution_count": 57,
   "id": "090dbfad-6a55-4868-ab58-0361900b4149",
   "metadata": {},
   "outputs": [],
   "source": [
    "#pos_xtc = start_pos.detach().cpu().numpy().copy()\n",
    "#mol.coords = np.moveaxis(pos_xtc, 0, -1)\n",
    "#mol.write(f'/workspace7/torchmd-AD/carles_cath/9b_good_xtc/{domain}.pdb')"
   ]
  },
  {
   "cell_type": "code",
   "execution_count": 58,
   "id": "d573fc5e-c095-4970-9654-681dc122242c",
   "metadata": {},
   "outputs": [],
   "source": [
    "#mol.box = np.array([39.972, 39.941, 39.935], dtype=np.float32)"
   ]
  },
  {
   "cell_type": "code",
   "execution_count": 21,
   "id": "79e9f3fa-95c6-4367-b005-24ebd9379493",
   "metadata": {},
   "outputs": [
    {
     "data": {
      "text/plain": [
       "Text(0, 0.5, 'rmsd')"
      ]
     },
     "execution_count": 21,
     "metadata": {},
     "output_type": "execute_result"
    },
    {
     "data": {
      "image/png": "[encoded data removed]",
      "text/plain": [
       "<Figure size 432x288 with 1 Axes>"
      ]
     },
     "metadata": {
      "needs_background": "light"
     },
     "output_type": "display_data"
    }
   ],
   "source": [
    "pl.plot(rmsds)\n",
    "pl.xlabel('steps')\n",
    "pl.ylabel('rmsd')"
   ]
  },
  {
   "cell_type": "code",
   "execution_count": 22,
   "id": "0f5ad3c7-e08d-4372-be95-92a4f4ba03b7",
   "metadata": {},
   "outputs": [
    {
     "data": {
      "text/plain": [
       "Text(0, 0.5, 'E')"
      ]
     },
     "execution_count": 22,
     "metadata": {},
     "output_type": "execute_result"
    },
    {
     "data": {
      "image/png": "[encoded data removed]",
      "text/plain": [
       "<Figure size 432x288 with 1 Axes>"
      ]
     },
     "metadata": {
      "needs_background": "light"
     },
     "output_type": "display_data"
    }
   ],
   "source": [
    "pl.plot(Ep)\n",
    "pl.xlabel('steps')\n",
    "pl.ylabel('E')"
   ]
  },
  {
   "cell_type": "code",
   "execution_count": 23,
   "id": "33ef7876-ff51-4950-9dfc-cb338d4459ee",
   "metadata": {},
   "outputs": [
    {
     "data": {
      "text/plain": [
       "Text(0, 0.5, 'E')"
      ]
     },
     "execution_count": 23,
     "metadata": {},
     "output_type": "execute_result"
    },
    {
     "data": {
      "image/png": "[encoded data removed]",
      "text/plain": [
       "<Figure size 432x288 with 1 Axes>"
      ]
     },
     "metadata": {
      "needs_background": "light"
     },
     "output_type": "display_data"
    }
   ],
   "source": [
    "pl.plot(tm_scores)\n",
    "pl.xlabel('steps')\n",
    "pl.ylabel('E')"
   ]
  },
  {
   "cell_type": "code",
   "execution_count": 24,
   "id": "98060784-e075-4a3b-8398-efd9e016bf5b",
   "metadata": {},
   "outputs": [
    {
     "data": {
      "text/plain": [
       "Text(0, 0.5, 'E')"
      ]
     },
     "execution_count": 24,
     "metadata": {},
     "output_type": "execute_result"
    },
    {
     "data": {
      "image/png": "[encoded data removed]",
      "text/plain": [
       "<Figure size 432x288 with 1 Axes>"
      ]
     },
     "metadata": {
      "needs_background": "light"
     },
     "output_type": "display_data"
    }
   ],
   "source": [
    "pl.plot(Et)\n",
    "pl.xlabel('steps')\n",
    "pl.ylabel('E')"
   ]
  },
  {
   "cell_type": "code",
   "execution_count": 67,
   "id": "bfff91c8-6c43-4a3e-85ef-5f10256b55d6",
   "metadata": {},
   "outputs": [
    {
     "data": {
      "text/plain": [
       "2"
      ]
     },
     "execution_count": 67,
     "metadata": {},
     "output_type": "execute_result"
    }
   ],
   "source": [
    "max(1,2)"
   ]
  },
  {
   "cell_type": "code",
   "execution_count": 68,
   "id": "9ff3e843-8ef6-406d-a4da-0d1a70ee12cc",
   "metadata": {},
   "outputs": [],
   "source": [
    "import torch"
   ]
  },
  {
   "cell_type": "code",
   "execution_count": 78,
   "id": "242bd710-96db-4fdc-9372-9510496646a5",
   "metadata": {},
   "outputs": [
    {
     "data": {
      "text/plain": [
       "tensor(1.)"
      ]
     },
     "execution_count": 78,
     "metadata": {},
     "output_type": "execute_result"
    }
   ],
   "source": [
    "torch.max(torch.tensor(0.0), torch.tensor(2.0) - 1.0)"
   ]
  },
  {
   "cell_type": "code",
   "execution_count": null,
   "id": "777aa459-e30c-439a-b1d1-33451b242869",
   "metadata": {},
   "outputs": [],
   "source": []
  }
 ],
 "metadata": {
  "kernelspec": {
   "display_name": "torchmd-exp",
   "language": "python",
   "name": "torchmd-exp"
  },
  "language_info": {
   "codemirror_mode": {
    "name": "ipython",
    "version": 3
   },
   "file_extension": ".py",
   "mimetype": "text/x-python",
   "name": "python",
   "nbconvert_exporter": "python",
   "pygments_lexer": "ipython3",
   "version": "3.8.10"
  }
 },
 "nbformat": 4,
 "nbformat_minor": 5
}
