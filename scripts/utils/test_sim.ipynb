{
 "cells": [
  {
   "cell_type": "markdown",
   "id": "3b409248-bd64-465e-bd35-3808b2e01e7b",
   "metadata": {},
   "source": [
    "## System steup"
   ]
  },
  {
   "cell_type": "code",
   "execution_count": 1,
   "id": "bf3345c7-24b5-42d1-a541-200a2cd985a8",
   "metadata": {},
   "outputs": [],
   "source": [
    "from moleculekit.molecule import Molecule\n",
    "import os\n",
    "import importlib\n",
    "from torchmdexp.metrics.rmsd import rmsd\n",
    "from torchmdexp.metrics.l2_rmsd import l2_rmsd\n",
    "from torchmdexp.metrics.log_rmsd import log_rmsd\n",
    "from torchmdexp.metrics.tmscore import tm_score\n",
    "from torchmdexp.samplers.utils import get_native_coords, get_embeddings\n",
    "from moleculekit.projections.metricrmsd import MetricRmsd\n",
    "from moleculekit.projections.metrictmscore import MetricTMscore\n",
    "import numpy as np\n",
    "import torch\n",
    "from torchmdexp.metrics.native_contacts import q\n",
    "\n",
    "device = \"cuda:1\"\n",
    "precision = torch.float"
   ]
  },
  {
   "cell_type": "code",
   "execution_count": null,
   "id": "481ab516-6e71-47e5-a2e8-e41203544437",
   "metadata": {
    "tags": []
   },
   "outputs": [],
   "source": [
    "domain = '1ENH'\n",
    "ref_pdb = f'/workspace7/torchmd-AD/crystals_dataset/crystals_short_64/level_1/ground_truth/{domain}.pdb'\n",
    "ref_psf = f'/workspace7/torchmd-AD/crystals_dataset/topology_data/{domain}.psf'\n",
    "#ref_xtc =  f'/workspace7/torchmd-AD/carles_cath/9b_good_xtc/{domain}_8kcenters.xtc'\n",
    "#mol = Molecule(ref_xtc)\n",
    "ref_mol = Molecule(ref_pdb)\n",
    "ref_mol.filter('name CA')\n",
    "\n",
    "mol = ref_mol\n",
    "#mol.read(ref_psf)\n",
    "ref_mol.read(ref_psf)"
   ]
  },
  {
   "cell_type": "code",
   "execution_count": 2,
   "id": "9267c5a9-9866-4e53-be3f-bbb8a65abcc6",
   "metadata": {},
   "outputs": [
    {
     "ename": "NameError",
     "evalue": "name 'mol' is not defined",
     "output_type": "error",
     "traceback": [
      "\u001b[0;31m---------------------------------------------------------------------------\u001b[0m",
      "\u001b[0;31mNameError\u001b[0m                                 Traceback (most recent call last)",
      "\u001b[0;32m/tmp/ipykernel_128189/2870841413.py\u001b[0m in \u001b[0;36m<module>\u001b[0;34m\u001b[0m\n\u001b[0;32m----> 1\u001b[0;31m \u001b[0mmol\u001b[0m\u001b[0;34m.\u001b[0m\u001b[0mresname\u001b[0m\u001b[0;34m\u001b[0m\u001b[0;34m\u001b[0m\u001b[0m\n\u001b[0m\u001b[1;32m      2\u001b[0m \u001b[0mlength\u001b[0m \u001b[0;34m=\u001b[0m \u001b[0mlen\u001b[0m\u001b[0;34m(\u001b[0m\u001b[0mmol\u001b[0m\u001b[0;34m.\u001b[0m\u001b[0mresname\u001b[0m\u001b[0;34m)\u001b[0m\u001b[0;34m\u001b[0m\u001b[0;34m\u001b[0m\u001b[0m\n\u001b[1;32m      3\u001b[0m \u001b[0mlength\u001b[0m\u001b[0;34m\u001b[0m\u001b[0;34m\u001b[0m\u001b[0m\n",
      "\u001b[0;31mNameError\u001b[0m: name 'mol' is not defined"
     ]
    }
   ],
   "source": [
    "mol.resname\n",
    "length = len(mol.resname)\n",
    "length"
   ]
  },
  {
   "cell_type": "code",
   "execution_count": null,
   "id": "17f4bf8b-8134-4af3-b07d-9dcbf64cb6d1",
   "metadata": {
    "tags": []
   },
   "outputs": [],
   "source": [
    "#for i in range(length-1):\n",
    "#    print(np.sqrt(np.square(mol.coords[i] - mol.coords[i+1]).sum()))"
   ]
  },
  {
   "cell_type": "code",
   "execution_count": null,
   "id": "9f4fe95f-8193-4f40-a80d-1245ab22a072",
   "metadata": {},
   "outputs": [],
   "source": [
    "#mol.read(ref_xtc)"
   ]
  },
  {
   "cell_type": "code",
   "execution_count": 3,
   "id": "2c207a03-5c39-4ec9-8c44-86960c7016c5",
   "metadata": {},
   "outputs": [],
   "source": [
    "#for i in range(32):\n",
    "#mol = Molecule('/shared/carles/repo/torchmd-exp/data/ww/ww_ca_top_dih.psf')\n",
    "#mol.read('/shared/carles/repo/torchmd-exp/data/ww/ww_kcenters_32clusters_coords.xtc')\n",
    "\n",
    "ref_mol = Molecule('/shared/carles/repo/torchmd-exp/data/proteing/proteing_ca.pdb')\n",
    "ref_mol.read('/shared/carles/repo/torchmd-exp/data/proteing/proteing_ca_top_dih.psf')\n",
    "\n",
    "mol = ref_mol"
   ]
  },
  {
   "cell_type": "code",
   "execution_count": 4,
   "id": "6426d7d7-d96e-4974-927f-cb7daef73b6f",
   "metadata": {
    "tags": []
   },
   "outputs": [
    {
     "name": "stdout",
     "output_type": "stream",
     "text": [
      "Starting rmsd:  tensor(0.0041, device='cuda:1') Starting log_rmsd:  tensor(0.0041, device='cuda:1')\n",
      "Starting tmscore:  tensor(1.0000, device='cuda:1') Starting l2_rmsd:  tensor(0.4959, device='cuda:1')\n"
     ]
    }
   ],
   "source": [
    "# Compute starting coords\n",
    "#[mol.dropFrames(1) for _ in range(32)]\n",
    "\n",
    "#mol.coords = np.expand_dims(mol.coords[:, : , 0], axis=-1)\n",
    "#mol.box = np.expand_dims(mol.box[:, 0], axis=-1)\n",
    "\n",
    "\n",
    "native_coords = get_native_coords(ref_mol, device)\n",
    "native_coords = native_coords.type(precision)\n",
    "coords = get_native_coords(mol, device)\n",
    "coords = coords.type(precision)\n",
    "\n",
    "\n",
    "print('Starting rmsd: ', rmsd(coords, native_coords), 'Starting log_rmsd: ', log_rmsd(coords, native_coords))\n",
    "print('Starting tmscore: ', tm_score(coords, native_coords), 'Starting l2_rmsd: ', l2_rmsd(coords, native_coords))\n"
   ]
  },
  {
   "cell_type": "code",
   "execution_count": 5,
   "id": "4865b6d9-8f16-4999-b074-4f18bfa02d33",
   "metadata": {},
   "outputs": [],
   "source": [
    "from torchmd.forcefields.forcefield import ForceField\n",
    "from torchmd.parameters import Parameters\n",
    "\n",
    "\n",
    "ff = ForceField.create(mol, '/shared/carles/repo/torchmd-exp/data/ca_priors-dihedrals_general_5xweaker.yaml')\n",
    "parameters = Parameters(ff, mol, precision=precision, device=device)"
   ]
  },
  {
   "cell_type": "code",
   "execution_count": 6,
   "id": "1f08b1f5-c8da-4aa8-a19f-e2ecd90e1074",
   "metadata": {},
   "outputs": [],
   "source": [
    "from torchmd.integrator import maxwell_boltzmann\n",
    "from torchmd.systems import System\n",
    "\n",
    "system = System(mol.numAtoms, nreplicas=1, precision=precision, device=device)\n",
    "system.set_positions(mol.coords)\n",
    "system.set_box(mol.box)\n",
    "system.set_velocities(maxwell_boltzmann(parameters.masses, T=350, replicas=1))\n"
   ]
  },
  {
   "cell_type": "code",
   "execution_count": 7,
   "id": "1e185604-3f17-495e-a0e1-c93f63c32605",
   "metadata": {},
   "outputs": [],
   "source": [
    "# rotate the system positions\n",
    "#import scipy.spatial.transform as trans\n",
    "\n",
    "# rotate around x coord by 45 degrees and comput forces\n",
    "#rot = trans.Rotation.from_euler(\"x\", 45, degrees=True)\n",
    "#system.pos[0] = torch.tensor(rot.apply(system.pos[0].cpu())).to(device)\n",
    "#system.pos"
   ]
  },
  {
   "cell_type": "code",
   "execution_count": 8,
   "id": "5f0e7e53-e17e-44ea-a0bd-4d98576839e9",
   "metadata": {},
   "outputs": [],
   "source": [
    "if torch.any(torch.isnan(system.pos)):\n",
    "    raise RuntimeError(\"Found NaN coordinates.\")"
   ]
  },
  {
   "cell_type": "code",
   "execution_count": 9,
   "id": "55bc5269-7bfe-4821-b15c-b942081c4348",
   "metadata": {},
   "outputs": [
    {
     "data": {
      "text/plain": [
       "tensor([[ 5, 13,  4, 19, 20, 14, 21, 14, 20,  9,  2, 13, 13,  3, 13,  4, 13, 13,\n",
       "          6,  1, 14,  5,  1,  1, 13,  1,  6, 19, 14,  3, 19, 10,  4,  1,  9,  5,\n",
       "          1,  2, 14,  5,  2,  6,  7, 13,  4,  5,  1,  1, 13, 19, 13,  3, 13, 14,\n",
       "         13,  6]])"
      ]
     },
     "execution_count": 9,
     "metadata": {},
     "output_type": "execute_result"
    }
   ],
   "source": [
    "get_embeddings(mol, 'cpu', 1)"
   ]
  },
  {
   "cell_type": "code",
   "execution_count": 10,
   "id": "7384ceff-d852-49a5-b5a3-efce4868d68b",
   "metadata": {},
   "outputs": [],
   "source": [
    "externalmodule = importlib.import_module('torchmdnet.calculators')\n",
    "nnp = '/shared/carles/torchmd-exp/scripts/trainings/comparison/rmsd/fastfolders/2_layers_9_cutoff_400steps_half_native'\n",
    "nnp += '/epoch=567-train_loss=1.4079-val_loss=2.1033.ckpt'\n",
    "#nnp = '/workspace2/fast_folders_cgnet/multiprotein/M-test-fixed/NNP_torchMD2_moreHomeo/train_geom_multi_dih_4int_fix_homeo_rep2/'\n",
    "#nnp += 'epoch=97-val_loss=719.2455-test_loss=21.2833.ckpt'\n",
    "embeddings = torch.tensor([ 5, 13,  4, 19, 20, 14, 21, 14, 20,  9,  2, 13, 13,  3, 13,  4, 13, 13,\n",
    "          6,  1, 14,  5,  1,  1, 13,  1,  6, 19, 14,  3, 19, 10,  4,  1,  9,  5,\n",
    "          1,  2, 14,  5,  2,  6,  7, 13,  4,  5,  1,  1, 13, 19, 13,  3, 13, 14,\n",
    "         13,  6]).repeat(1, 1)\n",
    "external = externalmodule.External(nnp, embeddings, device)"
   ]
  },
  {
   "cell_type": "code",
   "execution_count": 11,
   "id": "cfd20b05-404e-4c63-99ec-0ec53a18471b",
   "metadata": {},
   "outputs": [
    {
     "name": "stdout",
     "output_type": "stream",
     "text": [
      "Number of parameters nnp:  157861\n"
     ]
    }
   ],
   "source": [
    "print('Number of parameters nnp: ', sum(p.numel() for p in external.model.parameters() if p.requires_grad))"
   ]
  },
  {
   "cell_type": "code",
   "execution_count": 12,
   "id": "a2880c41-8403-4c5b-a728-862203f90d65",
   "metadata": {
    "collapsed": true,
    "jupyter": {
     "outputs_hidden": true
    },
    "tags": []
   },
   "outputs": [
    {
     "name": "stdout",
     "output_type": "stream",
     "text": [
      "[-117.4950590133667]\n",
      "tensor([[[ -3.1328, -13.4419,   7.5376],\n",
      "         [  2.9126,  11.4096, -10.3574],\n",
      "         [  0.5656, -12.5374,   8.7727],\n",
      "         [-20.0238,   0.6680,   6.5999],\n",
      "         [ 14.9175,  10.6114,  12.5983],\n",
      "         [ -3.7111,  -1.0619,  -1.2087],\n",
      "         [  6.9131, -13.5163,  -1.3119],\n",
      "         [-11.4463,  10.9309,  -1.0855],\n",
      "         [  5.0506,   4.2263,   0.2227],\n",
      "         [ 12.2819,   2.3058,  10.3774],\n",
      "         [ -8.9026,  -6.7038,  -9.8476],\n",
      "         [  3.1775,  21.0495,  -4.9176],\n",
      "         [ -9.7800, -10.5582,  11.5298],\n",
      "         [  8.5523,  -2.1660,  -1.3671],\n",
      "         [ -8.2933,  -0.0759,   5.0981],\n",
      "         [  7.9156,  -3.3608,  -3.1249],\n",
      "         [  0.3873,   9.2983, -16.6312],\n",
      "         [  9.5957,  -4.4617,  -1.8838],\n",
      "         [ -5.5112,  -9.2135,  -1.2936],\n",
      "         [  2.4121,  10.5627,  -1.4036],\n",
      "         [ -1.9968,  -6.2733,   5.1680],\n",
      "         [  0.5988,  -9.0861,  -2.7627],\n",
      "         [ -1.7518,  13.0218,  -0.0356],\n",
      "         [  0.7803,   0.0670,   4.0703],\n",
      "         [  2.2527,  -3.7871,  -5.7649],\n",
      "         [ -1.1989,   3.6265,   4.4347],\n",
      "         [-11.0279,   1.9961,  -3.0895],\n",
      "         [  7.5691,  -5.9680,   3.9370],\n",
      "         [  6.1167, -13.0769,  -5.7841],\n",
      "         [-10.6201,  13.3861,  -0.9181],\n",
      "         [ -5.7362,   0.5863,   8.4928],\n",
      "         [  7.6962,   0.8999,  -4.2432],\n",
      "         [  2.9554, -13.2055, -11.1294],\n",
      "         [-10.8032,  12.0691,   2.2241],\n",
      "         [  5.0268,   1.7156,  13.9905],\n",
      "         [  5.0486,   1.0524,  -6.1715],\n",
      "         [ -1.8881,  -9.8366, -11.1974],\n",
      "         [  2.1208,   4.7472,  10.0617],\n",
      "         [ -1.6742,   0.8765,  -9.1080],\n",
      "         [ 21.3080,  -4.9552,   1.3002],\n",
      "         [ -5.2641,   8.4392,  -1.3875],\n",
      "         [-12.7057,  -1.8792,   8.7024],\n",
      "         [  5.0928,  -1.0262,  -0.1841],\n",
      "         [ -1.7419,   4.7445,   3.1836],\n",
      "         [ -1.1387,  -7.5823,  -0.7863],\n",
      "         [ -3.1778,   5.8500,  -4.4413],\n",
      "         [  9.0549, -12.4172,   4.1624],\n",
      "         [-10.4233,   1.9962,  -0.1522],\n",
      "         [ -0.4786,   5.7585,  -5.6291],\n",
      "         [ -2.4975,  -8.5287,   5.3738],\n",
      "         [ -7.2060,   2.8087,  -9.1800],\n",
      "         [ 10.2503,  -4.8720,   6.5562],\n",
      "         [ -6.7131,   9.1357,  -7.8630],\n",
      "         [  8.3714, -12.2014,  -1.2046],\n",
      "         [-10.3615,   6.3045,   0.0825],\n",
      "         [ 10.2817,  11.6490,   0.9888]]], device='cuda:1')\n"
     ]
    }
   ],
   "source": [
    "from torchmd.forces import Forces\n",
    "#external=None\n",
    "priors = ['bonds', 'repulsioncg', 'dihedrals']\n",
    "forces = Forces(parameters,terms=priors, cutoff=9, rfa=False, switch_dist=None, \n",
    "                external=external, exclusions = ('bonds')\n",
    "               )\n",
    "# Evaluate current energy and forces. Forces are modified in-place\n",
    "Epot = forces.compute(system.pos, system.box, system.forces, returnDetails=False)\n",
    "print(Epot)\n",
    "print(system.forces)"
   ]
  },
  {
   "cell_type": "markdown",
   "id": "d77be2bb-b3d7-451e-a5de-921bd22d16c6",
   "metadata": {},
   "source": [
    "## Dynamics"
   ]
  },
  {
   "cell_type": "code",
   "execution_count": 13,
   "id": "9011e4e6-5920-440c-b5de-4b363ab26eba",
   "metadata": {},
   "outputs": [],
   "source": [
    "from torchmd.integrator import Integrator\n",
    "from torchmd.wrapper import Wrapper\n",
    "\n",
    "langevin_temperature = 350  # K\n",
    "langevin_gamma = 1\n",
    "timestep = 5  # fs\n",
    "\n",
    "integrator = Integrator(system, forces, timestep, device, gamma=langevin_gamma, T=langevin_temperature)\n",
    "wrapper = Wrapper(mol.numAtoms, mol.bonds if len(mol.bonds) else None, device)\n"
   ]
  },
  {
   "cell_type": "code",
   "execution_count": 14,
   "id": "c437fde5-eda2-44e8-b545-ed9f02a481db",
   "metadata": {
    "tags": []
   },
   "outputs": [],
   "source": [
    "\n",
    "def minimize_bfgs(system, forces, fmax=0.05, steps=1000):\n",
    "    from scipy.optimize import minimize\n",
    "\n",
    "    if steps == 0:\n",
    "        print(\n",
    "                \"{0:4d}   {1: 3.6f}   {2: 3.6f}\".format(\n",
    "                    info[\"Nfeval\"], Epot, np.max(np.linalg.norm(grad, axis=1))))\n",
    "        return\n",
    "\n",
    "    if system.pos.shape[0] != 1:\n",
    "        raise RuntimeError(\n",
    "            \"System minimization currently doesn't support replicas. Talk with Stefan to implement it.\"\n",
    "        )\n",
    "\n",
    "    def evalfunc(coords, info):\n",
    "        coords = coords.reshape(1, -1, 3)\n",
    "        coords = torch.tensor(coords).type_as(system.pos)\n",
    "        Epot = forces.compute(coords, system.box, system.forces)[0]\n",
    "        grad = -system.forces.detach().cpu().numpy().astype(np.float64)[0]\n",
    "        # display information\n",
    "        #if info[\"Nfeval\"] % 1 == 0:\n",
    "            #print(\n",
    "            #    \"{0:4d}   {1: 3.6f}   {2: 3.6f}\".format(\n",
    "            #        info[\"Nfeval\"], Epot, np.max(np.linalg.norm(grad, axis=1))\n",
    "            #    )\n",
    "            #)\n",
    "        #info[\"Nfeval\"] += 1\n",
    "        return Epot, grad.reshape(-1)\n",
    "\n",
    "    #print(\"{0:4s} {1:9s}       {2:9s}\".format(\"Iter\", \" Epot\", \" fmax\"))\n",
    "    x0 = system.pos.detach().cpu().numpy()[0].astype(np.float64)\n",
    "\n",
    "    res = minimize(\n",
    "        evalfunc,\n",
    "        x0,\n",
    "        method=\"L-BFGS-B\",\n",
    "        jac=True,\n",
    "        options={\"gtol\": fmax, \"maxiter\": steps, \"disp\": False},\n",
    "        args=({\"Nfeval\": 0},),\n",
    "    )\n",
    "\n",
    "    system.pos = torch.tensor(\n",
    "        res.x.reshape(1, -1, 3),\n",
    "        dtype=system.pos.dtype,\n",
    "        device=system.pos.device,\n",
    "        requires_grad=system.pos.requires_grad,\n",
    "    )"
   ]
  },
  {
   "cell_type": "code",
   "execution_count": 41,
   "id": "6fdeb37a-1b10-4048-bbed-4a7d0f305e29",
   "metadata": {},
   "outputs": [
    {
     "name": "stdout",
     "output_type": "stream",
     "text": [
      "tensor(0.0041, device='cuda:1')\n",
      "None\n",
      "tensor(1.0023, device='cuda:1')\n"
     ]
    }
   ],
   "source": [
    "#from torchmd.minimizers import minimize_bfgs, minimize_pytorch_bfgs\n",
    "\n",
    "print(rmsd(system.pos, native_coords))\n",
    "print(minimize_bfgs(system, forces, steps=20000))  # Minimize the system\n",
    "print(rmsd(system.pos, native_coords))"
   ]
  },
  {
   "cell_type": "code",
   "execution_count": 15,
   "id": "75f72514-0497-491e-bf5f-277783cef4dd",
   "metadata": {},
   "outputs": [
    {
     "data": {
      "image/png": "[encoded data removed]",
      "text/plain": [
       "<Figure size 432x288 with 1 Axes>"
      ]
     },
     "metadata": {},
     "output_type": "display_data"
    },
    {
     "name": "stderr",
     "output_type": "stream",
     "text": [
      "  5%|██                                       | 49/1000 [02:39<51:42,  3.26s/it]\n"
     ]
    },
    {
     "ename": "KeyboardInterrupt",
     "evalue": "",
     "output_type": "error",
     "traceback": [
      "\u001b[0;31m---------------------------------------------------------------------------\u001b[0m",
      "\u001b[0;31mKeyboardInterrupt\u001b[0m                         Traceback (most recent call last)",
      "\u001b[0;32m/tmp/ipykernel_128189/1357731299.py\u001b[0m in \u001b[0;36m<module>\u001b[0;34m\u001b[0m\n\u001b[1;32m     25\u001b[0m \u001b[0;34m\u001b[0m\u001b[0m\n\u001b[1;32m     26\u001b[0m \u001b[0;32mfor\u001b[0m \u001b[0mi\u001b[0m \u001b[0;32min\u001b[0m \u001b[0miterator\u001b[0m\u001b[0;34m:\u001b[0m\u001b[0;34m\u001b[0m\u001b[0;34m\u001b[0m\u001b[0m\n\u001b[0;32m---> 27\u001b[0;31m     \u001b[0mEkin\u001b[0m\u001b[0;34m,\u001b[0m \u001b[0mEpot\u001b[0m\u001b[0;34m,\u001b[0m \u001b[0mT\u001b[0m \u001b[0;34m=\u001b[0m \u001b[0mintegrator\u001b[0m\u001b[0;34m.\u001b[0m\u001b[0mstep\u001b[0m\u001b[0;34m(\u001b[0m\u001b[0mniter\u001b[0m\u001b[0;34m=\u001b[0m\u001b[0moutput_period\u001b[0m\u001b[0;34m)\u001b[0m\u001b[0;34m\u001b[0m\u001b[0;34m\u001b[0m\u001b[0m\n\u001b[0m\u001b[1;32m     28\u001b[0m \u001b[0;34m\u001b[0m\u001b[0m\n\u001b[1;32m     29\u001b[0m     \u001b[0mrmsds\u001b[0m\u001b[0;34m.\u001b[0m\u001b[0mappend\u001b[0m\u001b[0;34m(\u001b[0m\u001b[0mrmsd\u001b[0m\u001b[0;34m(\u001b[0m\u001b[0msystem\u001b[0m\u001b[0;34m.\u001b[0m\u001b[0mpos\u001b[0m\u001b[0;34m,\u001b[0m \u001b[0mnative_coords\u001b[0m\u001b[0;34m)\u001b[0m\u001b[0;34m.\u001b[0m\u001b[0mitem\u001b[0m\u001b[0;34m(\u001b[0m\u001b[0;34m)\u001b[0m\u001b[0;34m)\u001b[0m\u001b[0;34m\u001b[0m\u001b[0;34m\u001b[0m\u001b[0m\n",
      "\u001b[0;32m/shared/carles/miniconda3/envs/torchmd-exp/lib/python3.8/site-packages/torchmd-0.0.2-py3.8.egg/torchmd/integrator.py\u001b[0m in \u001b[0;36mstep\u001b[0;34m(self, niter)\u001b[0m\n\u001b[1;32m     66\u001b[0m         \u001b[0;32mfor\u001b[0m \u001b[0m_\u001b[0m \u001b[0;32min\u001b[0m \u001b[0mrange\u001b[0m\u001b[0;34m(\u001b[0m\u001b[0mniter\u001b[0m\u001b[0;34m)\u001b[0m\u001b[0;34m:\u001b[0m\u001b[0;34m\u001b[0m\u001b[0;34m\u001b[0m\u001b[0m\n\u001b[1;32m     67\u001b[0m             \u001b[0m_first_VV\u001b[0m\u001b[0;34m(\u001b[0m\u001b[0ms\u001b[0m\u001b[0;34m.\u001b[0m\u001b[0mpos\u001b[0m\u001b[0;34m,\u001b[0m \u001b[0ms\u001b[0m\u001b[0;34m.\u001b[0m\u001b[0mvel\u001b[0m\u001b[0;34m,\u001b[0m \u001b[0ms\u001b[0m\u001b[0;34m.\u001b[0m\u001b[0mforces\u001b[0m\u001b[0;34m,\u001b[0m \u001b[0mmasses\u001b[0m\u001b[0;34m,\u001b[0m \u001b[0mself\u001b[0m\u001b[0;34m.\u001b[0m\u001b[0mdt\u001b[0m\u001b[0;34m)\u001b[0m\u001b[0;34m\u001b[0m\u001b[0;34m\u001b[0m\u001b[0m\n\u001b[0;32m---> 68\u001b[0;31m             \u001b[0mpot\u001b[0m \u001b[0;34m=\u001b[0m \u001b[0mself\u001b[0m\u001b[0;34m.\u001b[0m\u001b[0mforces\u001b[0m\u001b[0;34m.\u001b[0m\u001b[0mcompute\u001b[0m\u001b[0;34m(\u001b[0m\u001b[0ms\u001b[0m\u001b[0;34m.\u001b[0m\u001b[0mpos\u001b[0m\u001b[0;34m,\u001b[0m \u001b[0ms\u001b[0m\u001b[0;34m.\u001b[0m\u001b[0mbox\u001b[0m\u001b[0;34m,\u001b[0m \u001b[0ms\u001b[0m\u001b[0;34m.\u001b[0m\u001b[0mforces\u001b[0m\u001b[0;34m)\u001b[0m\u001b[0;34m\u001b[0m\u001b[0;34m\u001b[0m\u001b[0m\n\u001b[0m\u001b[1;32m     69\u001b[0m             \u001b[0;32mif\u001b[0m \u001b[0mself\u001b[0m\u001b[0;34m.\u001b[0m\u001b[0mT\u001b[0m\u001b[0;34m:\u001b[0m\u001b[0;34m\u001b[0m\u001b[0;34m\u001b[0m\u001b[0m\n\u001b[1;32m     70\u001b[0m                 \u001b[0mlangevin\u001b[0m\u001b[0;34m(\u001b[0m\u001b[0ms\u001b[0m\u001b[0;34m.\u001b[0m\u001b[0mvel\u001b[0m\u001b[0;34m,\u001b[0m \u001b[0mself\u001b[0m\u001b[0;34m.\u001b[0m\u001b[0mgamma\u001b[0m\u001b[0;34m,\u001b[0m \u001b[0mself\u001b[0m\u001b[0;34m.\u001b[0m\u001b[0mvcoeff\u001b[0m\u001b[0;34m,\u001b[0m \u001b[0mself\u001b[0m\u001b[0;34m.\u001b[0m\u001b[0mdt\u001b[0m\u001b[0;34m,\u001b[0m \u001b[0mself\u001b[0m\u001b[0;34m.\u001b[0m\u001b[0mdevice\u001b[0m\u001b[0;34m)\u001b[0m\u001b[0;34m\u001b[0m\u001b[0;34m\u001b[0m\u001b[0m\n",
      "\u001b[0;32m/shared/carles/miniconda3/envs/torchmd-exp/lib/python3.8/site-packages/torchmd-0.0.2-py3.8.egg/torchmd/forces.py\u001b[0m in \u001b[0;36mcompute\u001b[0;34m(self, pos, box, forces, returnDetails, explicit_forces)\u001b[0m\n\u001b[1;32m    154\u001b[0m                     \u001b[0mspos\u001b[0m\u001b[0;34m,\u001b[0m \u001b[0mself\u001b[0m\u001b[0;34m.\u001b[0m\u001b[0mpar\u001b[0m\u001b[0;34m.\u001b[0m\u001b[0mdihedrals\u001b[0m\u001b[0;34m[\u001b[0m\u001b[0;34m:\u001b[0m\u001b[0;34m,\u001b[0m \u001b[0;34m[\u001b[0m\u001b[0;36m2\u001b[0m\u001b[0;34m,\u001b[0m \u001b[0;36m3\u001b[0m\u001b[0;34m]\u001b[0m\u001b[0;34m]\u001b[0m\u001b[0;34m,\u001b[0m \u001b[0msbox\u001b[0m\u001b[0;34m\u001b[0m\u001b[0;34m\u001b[0m\u001b[0m\n\u001b[1;32m    155\u001b[0m                 )\n\u001b[0;32m--> 156\u001b[0;31m                 E, dihedral_forces = evaluate_torsion(\n\u001b[0m\u001b[1;32m    157\u001b[0m                     \u001b[0mr12\u001b[0m\u001b[0;34m,\u001b[0m \u001b[0mr23\u001b[0m\u001b[0;34m,\u001b[0m \u001b[0mr34\u001b[0m\u001b[0;34m,\u001b[0m \u001b[0mself\u001b[0m\u001b[0;34m.\u001b[0m\u001b[0mpar\u001b[0m\u001b[0;34m.\u001b[0m\u001b[0mdihedral_params\u001b[0m\u001b[0;34m,\u001b[0m \u001b[0mexplicit_forces\u001b[0m\u001b[0;34m\u001b[0m\u001b[0;34m\u001b[0m\u001b[0m\n\u001b[1;32m    158\u001b[0m                 )\n",
      "\u001b[0;32m/shared/carles/miniconda3/envs/torchmd-exp/lib/python3.8/site-packages/torchmd-0.0.2-py3.8.egg/torchmd/forces.py\u001b[0m in \u001b[0;36mevaluate_torsion\u001b[0;34m(r12, r23, r34, torsion_params, explicit_forces)\u001b[0m\n\u001b[1;32m    549\u001b[0m     \u001b[0mnormcrossB\u001b[0m \u001b[0;34m=\u001b[0m \u001b[0mcrossB\u001b[0m \u001b[0;34m/\u001b[0m \u001b[0mnormB\u001b[0m\u001b[0;34m.\u001b[0m\u001b[0munsqueeze\u001b[0m\u001b[0;34m(\u001b[0m\u001b[0;36m1\u001b[0m\u001b[0;34m)\u001b[0m\u001b[0;34m\u001b[0m\u001b[0;34m\u001b[0m\u001b[0m\n\u001b[1;32m    550\u001b[0m     \u001b[0mcosPhi\u001b[0m \u001b[0;34m=\u001b[0m \u001b[0mtorch\u001b[0m\u001b[0;34m.\u001b[0m\u001b[0msum\u001b[0m\u001b[0;34m(\u001b[0m\u001b[0mcrossA\u001b[0m \u001b[0;34m*\u001b[0m \u001b[0mnormcrossB\u001b[0m\u001b[0;34m,\u001b[0m \u001b[0mdim\u001b[0m\u001b[0;34m=\u001b[0m\u001b[0;36m1\u001b[0m\u001b[0;34m)\u001b[0m \u001b[0;34m/\u001b[0m \u001b[0mnormA\u001b[0m\u001b[0;34m\u001b[0m\u001b[0;34m\u001b[0m\u001b[0m\n\u001b[0;32m--> 551\u001b[0;31m     \u001b[0msinPhi\u001b[0m \u001b[0;34m=\u001b[0m \u001b[0mtorch\u001b[0m\u001b[0;34m.\u001b[0m\u001b[0msum\u001b[0m\u001b[0;34m(\u001b[0m\u001b[0mcrossC\u001b[0m \u001b[0;34m*\u001b[0m \u001b[0mnormcrossB\u001b[0m\u001b[0;34m,\u001b[0m \u001b[0mdim\u001b[0m\u001b[0;34m=\u001b[0m\u001b[0;36m1\u001b[0m\u001b[0;34m)\u001b[0m \u001b[0;34m/\u001b[0m \u001b[0mnormC\u001b[0m\u001b[0;34m\u001b[0m\u001b[0;34m\u001b[0m\u001b[0m\n\u001b[0m\u001b[1;32m    552\u001b[0m     \u001b[0mphi\u001b[0m \u001b[0;34m=\u001b[0m \u001b[0;34m-\u001b[0m\u001b[0mtorch\u001b[0m\u001b[0;34m.\u001b[0m\u001b[0matan2\u001b[0m\u001b[0;34m(\u001b[0m\u001b[0msinPhi\u001b[0m\u001b[0;34m,\u001b[0m \u001b[0mcosPhi\u001b[0m\u001b[0;34m)\u001b[0m\u001b[0;34m\u001b[0m\u001b[0;34m\u001b[0m\u001b[0m\n\u001b[1;32m    553\u001b[0m \u001b[0;34m\u001b[0m\u001b[0m\n",
      "\u001b[0;31mKeyboardInterrupt\u001b[0m: "
     ]
    },
    {
     "data": {
      "image/png": "[encoded data removed]",
      "text/plain": [
       "<Figure size 432x288 with 1 Axes>"
      ]
     },
     "metadata": {
      "needs_background": "light"
     },
     "output_type": "display_data"
    }
   ],
   "source": [
    "from tqdm import tqdm \n",
    "import numpy as np\n",
    "%matplotlib inline\n",
    "import time\n",
    "import pylab as pl\n",
    "from IPython import display\n",
    "from torchmdexp.metrics.native_contacts import q\n",
    "\n",
    "FS2NS = 1E-6 # Femtosecond to nanosecond conversion\n",
    "\n",
    "steps = 100000\n",
    "output_period = 100\n",
    "save_period = 100\n",
    "traj = []\n",
    "\n",
    "trajectoryout = \"mytrajectory.npy\"\n",
    "\n",
    "iterator = tqdm(range(1, int(steps / output_period) + 1))\n",
    "Epot = forces.compute(system.pos, system.box, system.forces)\n",
    "rmsds = []\n",
    "Ep = []\n",
    "Et = []\n",
    "tm_scores = []\n",
    "native_contacts = []\n",
    "\n",
    "for i in iterator:\n",
    "    Ekin, Epot, T = integrator.step(niter=output_period)\n",
    "    \n",
    "    rmsds.append(rmsd(system.pos, native_coords).item())\n",
    "    tm_scores.append(tm_score(system.pos, native_coords).item())\n",
    "    \n",
    "    native_contacts.append(q(torch.squeeze(system.pos), native_coords).item())\n",
    "    \n",
    "    Ep.append(Epot)\n",
    "    Et.append(Ekin + Epot)\n",
    "    pl.plot(rmsds)\n",
    "    pl.plot(native_contacts)\n",
    "    pl.xlabel('steps')\n",
    "    pl.ylabel('rmsd')\n",
    "    \n",
    "    display.clear_output(wait=True)\n",
    "    display.display(pl.gcf())"
   ]
  },
  {
   "cell_type": "code",
   "execution_count": null,
   "id": "9f2685cb-2ac4-4667-a013-84a6642eb2b8",
   "metadata": {},
   "outputs": [],
   "source": [
    "#print(rmsds)"
   ]
  },
  {
   "cell_type": "code",
   "execution_count": 70,
   "id": "030bf3cd-0f38-43f7-8caf-f37c0ded1a20",
   "metadata": {},
   "outputs": [],
   "source": [
    "#print(tm_scores)"
   ]
  },
  {
   "cell_type": "code",
   "execution_count": 57,
   "id": "090dbfad-6a55-4868-ab58-0361900b4149",
   "metadata": {},
   "outputs": [],
   "source": [
    "#pos_xtc = start_pos.detach().cpu().numpy().copy()\n",
    "#mol.coords = np.moveaxis(pos_xtc, 0, -1)\n",
    "#mol.write(f'/workspace7/torchmd-AD/carles_cath/9b_good_xtc/{domain}.pdb')"
   ]
  },
  {
   "cell_type": "code",
   "execution_count": 58,
   "id": "d573fc5e-c095-4970-9654-681dc122242c",
   "metadata": {},
   "outputs": [],
   "source": [
    "#mol.box = np.array([39.972, 39.941, 39.935], dtype=np.float32)"
   ]
  },
  {
   "cell_type": "code",
   "execution_count": 16,
   "id": "79e9f3fa-95c6-4367-b005-24ebd9379493",
   "metadata": {},
   "outputs": [
    {
     "data": {
      "text/plain": [
       "Text(0, 0.5, 'rmsd')"
      ]
     },
     "execution_count": 16,
     "metadata": {},
     "output_type": "execute_result"
    },
    {
     "data": {
      "image/png": "[encoded data removed]",
      "text/plain": [
       "<Figure size 432x288 with 1 Axes>"
      ]
     },
     "metadata": {
      "needs_background": "light"
     },
     "output_type": "display_data"
    }
   ],
   "source": [
    "pl.plot(rmsds)\n",
    "pl.xlabel('steps')\n",
    "pl.ylabel('rmsd')"
   ]
  },
  {
   "cell_type": "code",
   "execution_count": 17,
   "id": "0f5ad3c7-e08d-4372-be95-92a4f4ba03b7",
   "metadata": {},
   "outputs": [
    {
     "data": {
      "text/plain": [
       "Text(0, 0.5, 'E')"
      ]
     },
     "execution_count": 17,
     "metadata": {},
     "output_type": "execute_result"
    },
    {
     "data": {
      "image/png": "[encoded data removed]",
      "text/plain": [
       "<Figure size 432x288 with 1 Axes>"
      ]
     },
     "metadata": {
      "needs_background": "light"
     },
     "output_type": "display_data"
    }
   ],
   "source": [
    "pl.plot(Ep)\n",
    "pl.xlabel('steps')\n",
    "pl.ylabel('E')"
   ]
  },
  {
   "cell_type": "code",
   "execution_count": 18,
   "id": "33ef7876-ff51-4950-9dfc-cb338d4459ee",
   "metadata": {},
   "outputs": [
    {
     "data": {
      "text/plain": [
       "Text(0, 0.5, 'E')"
      ]
     },
     "execution_count": 18,
     "metadata": {},
     "output_type": "execute_result"
    },
    {
     "data": {
      "image/png": "[encoded data removed]",
      "text/plain": [
       "<Figure size 432x288 with 1 Axes>"
      ]
     },
     "metadata": {
      "needs_background": "light"
     },
     "output_type": "display_data"
    }
   ],
   "source": [
    "pl.plot(native_contacts)\n",
    "pl.xlabel('steps')\n",
    "pl.ylabel('E')"
   ]
  },
  {
   "cell_type": "code",
   "execution_count": 209,
   "id": "98060784-e075-4a3b-8398-efd9e016bf5b",
   "metadata": {},
   "outputs": [
    {
     "data": {
      "text/plain": [
       "Text(0, 0.5, 'E')"
      ]
     },
     "execution_count": 209,
     "metadata": {},
     "output_type": "execute_result"
    },
    {
     "data": {
      "image/png": "[encoded data removed]",
      "text/plain": [
       "<Figure size 432x288 with 1 Axes>"
      ]
     },
     "metadata": {
      "needs_background": "light"
     },
     "output_type": "display_data"
    }
   ],
   "source": [
    "pl.plot(Et)\n",
    "pl.xlabel('steps')\n",
    "pl.ylabel('E')"
   ]
  },
  {
   "cell_type": "code",
   "execution_count": 67,
   "id": "bfff91c8-6c43-4a3e-85ef-5f10256b55d6",
   "metadata": {},
   "outputs": [
    {
     "data": {
      "text/plain": [
       "2"
      ]
     },
     "execution_count": 67,
     "metadata": {},
     "output_type": "execute_result"
    }
   ],
   "source": [
    "max(1,2)"
   ]
  },
  {
   "cell_type": "code",
   "execution_count": 111,
   "id": "9ff3e843-8ef6-406d-a4da-0d1a70ee12cc",
   "metadata": {},
   "outputs": [],
   "source": [
    "import torch\n",
    "\n",
    "def get_3d_locations(d,h,w,device_):\n",
    "      locations_x = torch.linspace(0, w-1, w).view(1, 1, 1, w).to(device_).expand(1, d, h, w)\n",
    "      locations_y = torch.linspace(0, h-1, h).view(1, 1, h, 1).to(device_).expand(1, d, h, w)\n",
    "      locations_z = torch.linspace(0, d-1,d).view(1, d, 1, 1).to(device_).expand(1, d, h, w)\n",
    "      # stack locations\n",
    "      locations_3d = torch.stack([locations_x, locations_y, locations_z], dim=4).view(-1, 3, 1)\n",
    "      return locations_3d\n",
    "\n",
    "def rotate(input_tensor, rotation_matrix):\n",
    "      device_ = input_tensor.device\n",
    "      _, d, h, w  = input_tensor.shape\n",
    "      input_tensor = input_tensor.unsqueeze(0)\n",
    "      print(input_tensor)\n",
    "      # get x,y,z indices of target 3d data\n",
    "      locations_3d = get_3d_locations(d, h, w, device_)\n",
    "      # rotate target positions to the source coordinate\n",
    "      rotated_3d_positions = torch.bmm(rotation_matrix.view(1, 3, 3).expand(d*h*w, 3, 3), locations_3d).view(1, d,h,w,3)\n",
    "      rot_locs = torch.split(rotated_3d_positions, split_size_or_sections=1, dim=4)\n",
    "      # change the range of x,y,z locations to [-1,1]\n",
    "      normalised_locs_x = (2.0*rot_locs[0] - (w-1))/(w-1)\n",
    "      normalised_locs_y = (2.0*rot_locs[1] - (h-1))/(h-1)\n",
    "      normalised_locs_z = (2.0*rot_locs[2] - (d-1))/(d-1)\n",
    "      grid = torch.stack([normalised_locs_x, normalised_locs_y, normalised_locs_z], dim=4).view(1, d, h, w, 3)\n",
    "      # here we use the destination voxel-positions and sample the input 3d data trilinearly\n",
    "      rotated_signal = F.grid_sample(input=input_tensor, grid=grid, mode='nearest',  align_corners=True)\n",
    "      return rotated_signal.squeeze(0)\n"
   ]
  },
  {
   "cell_type": "code",
   "execution_count": 88,
   "id": "5a170082-b0cb-43bd-a4b2-8ce3b158e2f6",
   "metadata": {},
   "outputs": [
    {
     "name": "stdout",
     "output_type": "stream",
     "text": [
      "rotation matrix \n",
      " tensor([[0., 1., 0.],\n",
      "        [1., 0., 0.],\n",
      "        [0., 0., 1.]])\n",
      "determinant ===  tensor(-1.)\n"
     ]
    }
   ],
   "source": [
    "import torch\n",
    "import torch.nn.functional as F\n",
    "\n",
    "# Assume you have 2 values for each z,y,x location\n",
    "data = torch.rand(2, 64, 256, 256).float()\n",
    "\n",
    "# lets create a rotation  matrix\n",
    "# for sanity check take identity as rotation matix firs\n",
    "#rot_mat = torch.FloatTensor([[1, 0, 0],[0, 1, 0],[0, 0, 1]]) # identity\n",
    "# then test with the following\n",
    "rot_mat = torch.FloatTensor([[0, 1, 0],[1, 0, 0],[0, 0, 1]]) # 90 degreee rotation around z\n",
    "print('rotation matrix \\n', rot_mat)\n",
    "print('determinant === ', torch.det(rot_mat))\n"
   ]
  },
  {
   "cell_type": "code",
   "execution_count": 56,
   "id": "3616011e-3597-4cb0-ad6d-39a6f5aeddc9",
   "metadata": {},
   "outputs": [
    {
     "name": "stdout",
     "output_type": "stream",
     "text": [
      "torch.Size([2, 64, 256, 256])\n",
      "torch.Size([2, 64, 256, 256])\n",
      "tensor(0.)\n"
     ]
    }
   ],
   "source": [
    "rotated_data = rotate(data, rot_mat)\n",
    "print(data.shape)\n",
    "print(rotated_data.shape)\n",
    "print(torch.mean(rotated_data - data)) # 0 , for identity rotation "
   ]
  },
  {
   "cell_type": "code",
   "execution_count": 113,
   "id": "641e967a-7f2f-40aa-b3c8-3d5ce1b5cf61",
   "metadata": {},
   "outputs": [
    {
     "data": {
      "text/plain": [
       "tensor([[[[0.1026, 0.9440, 0.6050],\n",
       "          [0.2357, 0.4967, 0.7400],\n",
       "          [0.4280, 0.2337, 0.6743]],\n",
       "\n",
       "         [[0.1618, 0.5369, 0.3755],\n",
       "          [0.9200, 0.8086, 0.2651],\n",
       "          [0.1556, 0.8803, 0.1288]],\n",
       "\n",
       "         [[0.3143, 0.9181, 0.1155],\n",
       "          [0.0200, 0.5509, 0.1842],\n",
       "          [0.1322, 0.3510, 0.2650]]]])"
      ]
     },
     "execution_count": 113,
     "metadata": {},
     "output_type": "execute_result"
    }
   ],
   "source": [
    "torch.rand(1, 3, 3, 3)"
   ]
  },
  {
   "cell_type": "code",
   "execution_count": 121,
   "id": "c3d135fa-c669-4850-8b75-f82bbb4c310e",
   "metadata": {},
   "outputs": [
    {
     "data": {
      "text/plain": [
       "tensor([[[[0.0948],\n",
       "          [0.9519],\n",
       "          [0.3806]],\n",
       "\n",
       "         [[0.3168],\n",
       "          [0.1890],\n",
       "          [0.9932]],\n",
       "\n",
       "         [[0.5527],\n",
       "          [0.7745],\n",
       "          [0.2678]]]])"
      ]
     },
     "execution_count": 121,
     "metadata": {},
     "output_type": "execute_result"
    }
   ],
   "source": [
    "data = torch.rand(1, 3, 3, 1)\n",
    "data"
   ]
  },
  {
   "cell_type": "code",
   "execution_count": 122,
   "id": "afef059b-b1a4-43b7-a074-7ec29132fed9",
   "metadata": {},
   "outputs": [
    {
     "name": "stdout",
     "output_type": "stream",
     "text": [
      "tensor([[[[[0.0948],\n",
      "           [0.9519],\n",
      "           [0.3806]],\n",
      "\n",
      "          [[0.3168],\n",
      "           [0.1890],\n",
      "           [0.9932]],\n",
      "\n",
      "          [[0.5527],\n",
      "           [0.7745],\n",
      "           [0.2678]]]]])\n"
     ]
    }
   ],
   "source": [
    "rotated_data = rotate(data, rot_mat)"
   ]
  },
  {
   "cell_type": "code",
   "execution_count": 123,
   "id": "38e20266-342f-4aca-becb-48f9ec7a3fa7",
   "metadata": {},
   "outputs": [
    {
     "data": {
      "text/plain": [
       "tensor([[[[0.],\n",
       "          [0.],\n",
       "          [0.]],\n",
       "\n",
       "         [[0.],\n",
       "          [0.],\n",
       "          [0.]],\n",
       "\n",
       "         [[0.],\n",
       "          [0.],\n",
       "          [0.]]]])"
      ]
     },
     "execution_count": 123,
     "metadata": {},
     "output_type": "execute_result"
    }
   ],
   "source": [
    "rotated_data"
   ]
  },
  {
   "cell_type": "code",
   "execution_count": 143,
   "id": "b81528d6-fe4c-4ecc-9f28-a4486bf0f067",
   "metadata": {},
   "outputs": [],
   "source": [
    "rot_mat = torch.FloatTensor([[0, 1, 0],[1, 0, 0],[0, 0, 1]]) # 90 degreee rotation around z"
   ]
  },
  {
   "cell_type": "code",
   "execution_count": 144,
   "id": "54319cad-8de6-4c6b-911f-f337be73c7e6",
   "metadata": {},
   "outputs": [
    {
     "data": {
      "text/plain": [
       "tensor([0., 1., 0.])"
      ]
     },
     "execution_count": 144,
     "metadata": {},
     "output_type": "execute_result"
    }
   ],
   "source": [
    "rot_mat @ torch.tensor([1.0,0.0,0.0])"
   ]
  },
  {
   "cell_type": "code",
   "execution_count": 133,
   "id": "197a38bc-ac1a-4976-ad72-aca3b53f8bee",
   "metadata": {},
   "outputs": [
    {
     "data": {
      "text/plain": [
       "torch.Size([1, 34, 3])"
      ]
     },
     "execution_count": 133,
     "metadata": {},
     "output_type": "execute_result"
    }
   ],
   "source": [
    "system.forces.shape"
   ]
  },
  {
   "cell_type": "code",
   "execution_count": 148,
   "id": "9681d3bf-a894-4046-8d40-0a3578070c07",
   "metadata": {},
   "outputs": [
    {
     "data": {
      "text/plain": [
       "tensor([ 0.1543, -0.7499, -0.8511])"
      ]
     },
     "execution_count": 148,
     "metadata": {},
     "output_type": "execute_result"
    }
   ],
   "source": [
    "rot_mat @ forces[0][0]"
   ]
  },
  {
   "cell_type": "code",
   "execution_count": 149,
   "id": "b0fb2aee-f8ab-4517-988c-9f65f2bbc486",
   "metadata": {},
   "outputs": [
    {
     "data": {
      "text/plain": [
       "tensor([-0.7499,  0.1543, -0.8511])"
      ]
     },
     "execution_count": 149,
     "metadata": {},
     "output_type": "execute_result"
    }
   ],
   "source": []
  },
  {
   "cell_type": "code",
   "execution_count": 140,
   "id": "2e3ea9b9-0160-484a-9ce5-6c448fb52fad",
   "metadata": {},
   "outputs": [
    {
     "data": {
      "text/plain": [
       "'cuda:1'"
      ]
     },
     "execution_count": 140,
     "metadata": {},
     "output_type": "execute_result"
    }
   ],
   "source": [
    "device"
   ]
  },
  {
   "cell_type": "code",
   "execution_count": 146,
   "id": "6fbd53b7-c1ce-40c8-b36c-5bbe3ff46d00",
   "metadata": {},
   "outputs": [],
   "source": [
    "forces = system.forces.to('cpu')"
   ]
  },
  {
   "cell_type": "code",
   "execution_count": 150,
   "id": "bf131868-97ca-41d0-9f27-5c09710fde8e",
   "metadata": {},
   "outputs": [],
   "source": [
    "import numpy as np\n",
    "\n",
    "R_i = np.array(\n",
    "    [\n",
    "        -0.5630,\n",
    "        0.5160,\n",
    "        0.0071,\n",
    "        0.5630,\n",
    "        -0.5159,\n",
    "        0.0071,\n",
    "        -1.9293,\n",
    "        -0.1506,\n",
    "        -0.0071,\n",
    "        1.9294,\n",
    "        0.1505,\n",
    "        -0.0071,\n",
    "        -0.4724,\n",
    "        1.1666,\n",
    "        -0.8706,\n",
    "        -0.4825,\n",
    "        1.1551,\n",
    "        0.8940,\n",
    "        0.4825,\n",
    "        -1.1551,\n",
    "        0.8940,\n",
    "        0.4723,\n",
    "        -1.1665,\n",
    "        -0.8706,\n",
    "        -2.0542,\n",
    "        -0.7710,\n",
    "        -0.9003,\n",
    "        -2.0651,\n",
    "        -0.7856,\n",
    "        0.8742,\n",
    "        -2.7203,\n",
    "        0.6060,\n",
    "        -0.0058,\n",
    "        2.0542,\n",
    "        0.7709,\n",
    "        -0.9003,\n",
    "        2.7202,\n",
    "        -0.6062,\n",
    "        -0.0059,\n",
    "        2.0652,\n",
    "        0.7854,\n",
    "        0.8743,\n",
    "    ]\n",
    ").reshape(-1, 3)\n",
    "N = R_i.shape[0]\n",
    "X_i = np.zeros((N, 2))\n",
    "X_i[:4, 0] = 1\n",
    "X_i[4:, 1] = 1"
   ]
  },
  {
   "cell_type": "code",
   "execution_count": 151,
   "id": "63a50bbd-62c9-4231-92af-27cf89d58afe",
   "metadata": {},
   "outputs": [
    {
     "data": {
      "text/plain": [
       "array([[-0.563 ,  0.516 ,  0.0071],\n",
       "       [ 0.563 , -0.5159,  0.0071],\n",
       "       [-1.9293, -0.1506, -0.0071],\n",
       "       [ 1.9294,  0.1505, -0.0071],\n",
       "       [-0.4724,  1.1666, -0.8706],\n",
       "       [-0.4825,  1.1551,  0.894 ],\n",
       "       [ 0.4825, -1.1551,  0.894 ],\n",
       "       [ 0.4723, -1.1665, -0.8706],\n",
       "       [-2.0542, -0.771 , -0.9003],\n",
       "       [-2.0651, -0.7856,  0.8742],\n",
       "       [-2.7203,  0.606 , -0.0058],\n",
       "       [ 2.0542,  0.7709, -0.9003],\n",
       "       [ 2.7202, -0.6062, -0.0059],\n",
       "       [ 2.0652,  0.7854,  0.8743]])"
      ]
     },
     "execution_count": 151,
     "metadata": {},
     "output_type": "execute_result"
    }
   ],
   "source": [
    "R_i"
   ]
  },
  {
   "cell_type": "code",
   "execution_count": null,
   "id": "162cc445-c950-4d86-9937-ef5f831f0f83",
   "metadata": {},
   "outputs": [],
   "source": []
  }
 ],
 "metadata": {
  "kernelspec": {
   "display_name": "openmm",
   "language": "python",
   "name": "openmm-cg"
  },
  "language_info": {
   "codemirror_mode": {
    "name": "ipython",
    "version": 3
   },
   "file_extension": ".py",
   "mimetype": "text/x-python",
   "name": "python",
   "nbconvert_exporter": "python",
   "pygments_lexer": "ipython3",
   "version": "3.9.12"
  }
 },
 "nbformat": 4,
 "nbformat_minor": 5
}
