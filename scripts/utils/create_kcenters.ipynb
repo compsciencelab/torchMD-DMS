{
 "cells": [
  {
   "cell_type": "markdown",
   "id": "afc21b50-eaad-4ef6-ad65-8e7c4736daa1",
   "metadata": {},
   "source": [
    "## System steup"
   ]
  },
  {
   "cell_type": "code",
   "execution_count": 1,
   "id": "2f6c6d8f-b200-4b35-910f-bc6b400d9fe3",
   "metadata": {},
   "outputs": [],
   "source": [
    "from moleculekit.molecule import Molecule\n",
    "import os\n",
    "import importlib\n",
    "from torchmdexp.losses.rmsd import rmsd\n",
    "from torchmdexp.losses.tmscore import tm_score\n",
    "from torchmdexp.samplers.utils import get_native_coords, get_embeddings\n",
    "from moleculekit.projections.metricrmsd import MetricRmsd\n",
    "from moleculekit.projections.metrictmscore import MetricTMscore\n",
    "import numpy as np\n",
    "import torch\n",
    "\n",
    "device = \"cuda:0\"\n",
    "precision = torch.float"
   ]
  },
  {
   "cell_type": "code",
   "execution_count": 2,
   "id": "47f46a4f-1c67-47dd-ace9-8d0dbbed0f65",
   "metadata": {},
   "outputs": [
    {
     "name": "stderr",
     "output_type": "stream",
     "text": [
      "2022-03-08 20:58:56,601 - moleculekit.molecule - WARNING - Alternative atom locations detected. Only altloc A was kept. If you prefer to keep all use the keepaltloc=\"all\" option when reading the file.\n",
      "2022-03-08 20:58:56,608 - moleculekit.molecule - INFO - Removed 11 atoms. 1199 atoms remaining in the molecule.\n",
      "2022-03-08 20:58:56,639 - moleculekit.molecule - INFO - Removed 1128 atoms. 71 atoms remaining in the molecule.\n"
     ]
    }
   ],
   "source": [
    "domain = '7JJK'\n",
    "ref_pdb = f'/workspace7/torchmd-AD/crystals_dataset/pdb_data/{domain}.pdb'\n",
    "ref_psf = f'/workspace7/torchmd-AD/crystals_dataset/topology_data/{domain}.psf'\n",
    "\n",
    "ref_mol = Molecule(ref_pdb)\n",
    "ref_mol.filter('name CA')\n",
    "ref_mol.read(ref_psf)\n",
    "\n",
    "mol = ref_mol"
   ]
  },
  {
   "cell_type": "code",
   "execution_count": 31,
   "id": "f4ef206a-1533-4794-b776-05fb9dc8ee4d",
   "metadata": {},
   "outputs": [
    {
     "name": "stdout",
     "output_type": "stream",
     "text": [
      "Starting rmsd:  tensor(0.0062, device='cuda:0')\n"
     ]
    }
   ],
   "source": [
    "native_coords = get_native_coords(ref_mol, device)\n",
    "native_coords = native_coords.type(precision)\n",
    "coords = get_native_coords(mol, device)\n",
    "coords = coords.type(precision)\n",
    "\n",
    "print('Starting rmsd: ', rmsd(coords, native_coords))"
   ]
  },
  {
   "cell_type": "code",
   "execution_count": 14,
   "id": "c21ac352-233f-460e-9f24-f8324e38c0af",
   "metadata": {},
   "outputs": [],
   "source": [
    "from torchmd.forcefields.forcefield import ForceField\n",
    "from torchmd.parameters import Parameters\n",
    "\n",
    "\n",
    "ff = ForceField.create(mol, '/shared/carles/repo/torchmd-exp/data/ca_priors-dihedrals_general.yaml')\n",
    "parameters = Parameters(ff, mol, precision=precision, device=device)"
   ]
  },
  {
   "cell_type": "code",
   "execution_count": 15,
   "id": "15d4e7d8-f4d6-4441-ae84-1523cc7834b2",
   "metadata": {},
   "outputs": [],
   "source": [
    "from torchmd.integrator import maxwell_boltzmann\n",
    "from torchmd.systems import System\n",
    "\n",
    "system = System(mol.numAtoms, nreplicas=1, precision=precision, device=device)\n",
    "system.set_positions(mol.coords)\n",
    "system.set_box(mol.box)\n",
    "system.set_velocities(maxwell_boltzmann(parameters.masses, T=350, replicas=1))"
   ]
  },
  {
   "cell_type": "code",
   "execution_count": 16,
   "id": "fc599d98-7e49-475a-a897-cecd7cf6c3f1",
   "metadata": {},
   "outputs": [
    {
     "data": {
      "text/plain": [
       "tensor([[18,  8, 18, 13,  1,  3, 12, 12,  6, 10, 20,  1, 18, 20, 19, 18,  6,  3,\n",
       "          9,  6,  9, 18,  4, 20, 13,  6, 18, 18, 18, 10, 10, 20, 12, 12,  6, 20,\n",
       "          2, 20,  9,  6,  1, 10, 21, 19, 21,  7,  3, 10,  9, 19, 18,  1, 19, 21]])"
      ]
     },
     "execution_count": 16,
     "metadata": {},
     "output_type": "execute_result"
    }
   ],
   "source": [
    "get_embeddings(mol, 'cpu', 1)"
   ]
  },
  {
   "cell_type": "code",
   "execution_count": 17,
   "id": "7c61269a-3d58-4ad9-87b5-a75983c07e28",
   "metadata": {},
   "outputs": [],
   "source": [
    "externalmodule = importlib.import_module('torchmdnet.calculators')\n",
    "nnp = '/shared/carles/repo/torchmd-exp/scripts/trainings/tests/test_cath/cath_128_levels/dih_general_tm_0.6/'\n",
    "nnp += 'epoch=1233-train_loss=1.0127-val_loss=0.6081.ckpt'\n",
    "embeddings = torch.tensor([18,  8, 18, 13,  1,  3, 12, 12,  6, 10, 20,  1, 18, 20, 19, 18,  6,  3,\n",
    "          9,  6,  9, 18,  4, 20, 13,  6, 18, 18, 18, 10, 10, 20, 12, 12,  6, 20,\n",
    "          2, 20,  9,  6,  1, 10, 21, 19, 21,  7,  3, 10,  9, 19, 18,  1, 19, 21]).repeat(1, 1)\n",
    "external = externalmodule.External(nnp, embeddings, device)"
   ]
  },
  {
   "cell_type": "code",
   "execution_count": 18,
   "id": "235e566b-49ac-44fc-8cab-62ad871b4964",
   "metadata": {},
   "outputs": [
    {
     "name": "stdout",
     "output_type": "stream",
     "text": [
      "[77.52456283569336]\n"
     ]
    }
   ],
   "source": [
    "from torchmd.forces import Forces\n",
    "external=None\n",
    "forces = Forces(parameters,terms=['bonds', 'repulsioncg', 'dihedrals'], cutoff=9, rfa=False, switch_dist=None, \n",
    "                external=external, exclusions = ('bonds')\n",
    "               )\n",
    "# Evaluate current energy and forces. Forces are modified in-place\n",
    "Epot = forces.compute(system.pos, system.box, system.forces, returnDetails=False)\n",
    "print(Epot)"
   ]
  },
  {
   "cell_type": "markdown",
   "id": "2d4b3844-2bc4-47ac-b704-939f558ccf29",
   "metadata": {},
   "source": [
    "## Dynamics"
   ]
  },
  {
   "cell_type": "code",
   "execution_count": 19,
   "id": "868cba6c-6714-4e9f-9c4b-8a0129d4ed1d",
   "metadata": {},
   "outputs": [],
   "source": [
    "from torchmd.integrator import Integrator\n",
    "from torchmd.wrapper import Wrapper\n",
    "\n",
    "langevin_temperature = 550  # K\n",
    "langevin_gamma = 1\n",
    "timestep = 5  # fs\n",
    "\n",
    "integrator = Integrator(system, forces, timestep, device, gamma=langevin_gamma, T=langevin_temperature)\n",
    "wrapper = Wrapper(mol.numAtoms, mol.bonds if len(mol.bonds) else None, device)"
   ]
  },
  {
   "cell_type": "code",
   "execution_count": 20,
   "id": "d2bfb7a1-3a37-404d-a272-7e78ca93090b",
   "metadata": {},
   "outputs": [
    {
     "name": "stderr",
     "output_type": "stream",
     "text": [
      " 13%|█████▎                                    | 637/5000 [03:36<24:46,  2.94it/s]\n"
     ]
    },
    {
     "ename": "KeyboardInterrupt",
     "evalue": "",
     "output_type": "error",
     "traceback": [
      "\u001b[0;31m---------------------------------------------------------------------------\u001b[0m",
      "\u001b[0;31mKeyboardInterrupt\u001b[0m                         Traceback (most recent call last)",
      "\u001b[0;32m/tmp/ipykernel_347872/1239077811.py\u001b[0m in \u001b[0;36m<module>\u001b[0;34m\u001b[0m\n\u001b[1;32m     36\u001b[0m \u001b[0;34m\u001b[0m\u001b[0m\n\u001b[1;32m     37\u001b[0m     \u001b[0mdisplay\u001b[0m\u001b[0;34m.\u001b[0m\u001b[0mclear_output\u001b[0m\u001b[0;34m(\u001b[0m\u001b[0mwait\u001b[0m\u001b[0;34m=\u001b[0m\u001b[0;32mTrue\u001b[0m\u001b[0;34m)\u001b[0m\u001b[0;34m\u001b[0m\u001b[0;34m\u001b[0m\u001b[0m\n\u001b[0;32m---> 38\u001b[0;31m     \u001b[0mdisplay\u001b[0m\u001b[0;34m.\u001b[0m\u001b[0mdisplay\u001b[0m\u001b[0;34m(\u001b[0m\u001b[0mpl\u001b[0m\u001b[0;34m.\u001b[0m\u001b[0mgcf\u001b[0m\u001b[0;34m(\u001b[0m\u001b[0;34m)\u001b[0m\u001b[0;34m)\u001b[0m\u001b[0;34m\u001b[0m\u001b[0;34m\u001b[0m\u001b[0m\n\u001b[0m",
      "\u001b[0;32m/shared/carles/miniconda3/envs/torchmd-exp/lib/python3.8/site-packages/IPython/core/display.py\u001b[0m in \u001b[0;36mdisplay\u001b[0;34m(include, exclude, metadata, transient, display_id, *objs, **kwargs)\u001b[0m\n\u001b[1;32m    318\u001b[0m             \u001b[0mpublish_display_data\u001b[0m\u001b[0;34m(\u001b[0m\u001b[0mdata\u001b[0m\u001b[0;34m=\u001b[0m\u001b[0mobj\u001b[0m\u001b[0;34m,\u001b[0m \u001b[0mmetadata\u001b[0m\u001b[0;34m=\u001b[0m\u001b[0mmetadata\u001b[0m\u001b[0;34m,\u001b[0m \u001b[0;34m**\u001b[0m\u001b[0mkwargs\u001b[0m\u001b[0;34m)\u001b[0m\u001b[0;34m\u001b[0m\u001b[0;34m\u001b[0m\u001b[0m\n\u001b[1;32m    319\u001b[0m         \u001b[0;32melse\u001b[0m\u001b[0;34m:\u001b[0m\u001b[0;34m\u001b[0m\u001b[0;34m\u001b[0m\u001b[0m\n\u001b[0;32m--> 320\u001b[0;31m             \u001b[0mformat_dict\u001b[0m\u001b[0;34m,\u001b[0m \u001b[0mmd_dict\u001b[0m \u001b[0;34m=\u001b[0m \u001b[0mformat\u001b[0m\u001b[0;34m(\u001b[0m\u001b[0mobj\u001b[0m\u001b[0;34m,\u001b[0m \u001b[0minclude\u001b[0m\u001b[0;34m=\u001b[0m\u001b[0minclude\u001b[0m\u001b[0;34m,\u001b[0m \u001b[0mexclude\u001b[0m\u001b[0;34m=\u001b[0m\u001b[0mexclude\u001b[0m\u001b[0;34m)\u001b[0m\u001b[0;34m\u001b[0m\u001b[0;34m\u001b[0m\u001b[0m\n\u001b[0m\u001b[1;32m    321\u001b[0m             \u001b[0;32mif\u001b[0m \u001b[0;32mnot\u001b[0m \u001b[0mformat_dict\u001b[0m\u001b[0;34m:\u001b[0m\u001b[0;34m\u001b[0m\u001b[0;34m\u001b[0m\u001b[0m\n\u001b[1;32m    322\u001b[0m                 \u001b[0;31m# nothing to display (e.g. _ipython_display_ took over)\u001b[0m\u001b[0;34m\u001b[0m\u001b[0;34m\u001b[0m\u001b[0;34m\u001b[0m\u001b[0m\n",
      "\u001b[0;32m/shared/carles/miniconda3/envs/torchmd-exp/lib/python3.8/site-packages/IPython/core/formatters.py\u001b[0m in \u001b[0;36mformat\u001b[0;34m(self, obj, include, exclude)\u001b[0m\n\u001b[1;32m    178\u001b[0m             \u001b[0mmd\u001b[0m \u001b[0;34m=\u001b[0m \u001b[0;32mNone\u001b[0m\u001b[0;34m\u001b[0m\u001b[0;34m\u001b[0m\u001b[0m\n\u001b[1;32m    179\u001b[0m             \u001b[0;32mtry\u001b[0m\u001b[0;34m:\u001b[0m\u001b[0;34m\u001b[0m\u001b[0;34m\u001b[0m\u001b[0m\n\u001b[0;32m--> 180\u001b[0;31m                 \u001b[0mdata\u001b[0m \u001b[0;34m=\u001b[0m \u001b[0mformatter\u001b[0m\u001b[0;34m(\u001b[0m\u001b[0mobj\u001b[0m\u001b[0;34m)\u001b[0m\u001b[0;34m\u001b[0m\u001b[0;34m\u001b[0m\u001b[0m\n\u001b[0m\u001b[1;32m    181\u001b[0m             \u001b[0;32mexcept\u001b[0m\u001b[0;34m:\u001b[0m\u001b[0;34m\u001b[0m\u001b[0;34m\u001b[0m\u001b[0m\n\u001b[1;32m    182\u001b[0m                 \u001b[0;31m# FIXME: log the exception\u001b[0m\u001b[0;34m\u001b[0m\u001b[0;34m\u001b[0m\u001b[0;34m\u001b[0m\u001b[0m\n",
      "\u001b[0;32m<decorator-gen-2>\u001b[0m in \u001b[0;36m__call__\u001b[0;34m(self, obj)\u001b[0m\n",
      "\u001b[0;32m/shared/carles/miniconda3/envs/torchmd-exp/lib/python3.8/site-packages/IPython/core/formatters.py\u001b[0m in \u001b[0;36mcatch_format_error\u001b[0;34m(method, self, *args, **kwargs)\u001b[0m\n\u001b[1;32m    222\u001b[0m     \u001b[0;34m\"\"\"show traceback on failed format call\"\"\"\u001b[0m\u001b[0;34m\u001b[0m\u001b[0;34m\u001b[0m\u001b[0m\n\u001b[1;32m    223\u001b[0m     \u001b[0;32mtry\u001b[0m\u001b[0;34m:\u001b[0m\u001b[0;34m\u001b[0m\u001b[0;34m\u001b[0m\u001b[0m\n\u001b[0;32m--> 224\u001b[0;31m         \u001b[0mr\u001b[0m \u001b[0;34m=\u001b[0m \u001b[0mmethod\u001b[0m\u001b[0;34m(\u001b[0m\u001b[0mself\u001b[0m\u001b[0;34m,\u001b[0m \u001b[0;34m*\u001b[0m\u001b[0margs\u001b[0m\u001b[0;34m,\u001b[0m \u001b[0;34m**\u001b[0m\u001b[0mkwargs\u001b[0m\u001b[0;34m)\u001b[0m\u001b[0;34m\u001b[0m\u001b[0;34m\u001b[0m\u001b[0m\n\u001b[0m\u001b[1;32m    225\u001b[0m     \u001b[0;32mexcept\u001b[0m \u001b[0mNotImplementedError\u001b[0m\u001b[0;34m:\u001b[0m\u001b[0;34m\u001b[0m\u001b[0;34m\u001b[0m\u001b[0m\n\u001b[1;32m    226\u001b[0m         \u001b[0;31m# don't warn on NotImplementedErrors\u001b[0m\u001b[0;34m\u001b[0m\u001b[0;34m\u001b[0m\u001b[0;34m\u001b[0m\u001b[0m\n",
      "\u001b[0;32m/shared/carles/miniconda3/envs/torchmd-exp/lib/python3.8/site-packages/IPython/core/formatters.py\u001b[0m in \u001b[0;36m__call__\u001b[0;34m(self, obj)\u001b[0m\n\u001b[1;32m    339\u001b[0m                 \u001b[0;32mpass\u001b[0m\u001b[0;34m\u001b[0m\u001b[0;34m\u001b[0m\u001b[0m\n\u001b[1;32m    340\u001b[0m             \u001b[0;32melse\u001b[0m\u001b[0;34m:\u001b[0m\u001b[0;34m\u001b[0m\u001b[0;34m\u001b[0m\u001b[0m\n\u001b[0;32m--> 341\u001b[0;31m                 \u001b[0;32mreturn\u001b[0m \u001b[0mprinter\u001b[0m\u001b[0;34m(\u001b[0m\u001b[0mobj\u001b[0m\u001b[0;34m)\u001b[0m\u001b[0;34m\u001b[0m\u001b[0;34m\u001b[0m\u001b[0m\n\u001b[0m\u001b[1;32m    342\u001b[0m             \u001b[0;31m# Finally look for special method names\u001b[0m\u001b[0;34m\u001b[0m\u001b[0;34m\u001b[0m\u001b[0;34m\u001b[0m\u001b[0m\n\u001b[1;32m    343\u001b[0m             \u001b[0mmethod\u001b[0m \u001b[0;34m=\u001b[0m \u001b[0mget_real_method\u001b[0m\u001b[0;34m(\u001b[0m\u001b[0mobj\u001b[0m\u001b[0;34m,\u001b[0m \u001b[0mself\u001b[0m\u001b[0;34m.\u001b[0m\u001b[0mprint_method\u001b[0m\u001b[0;34m)\u001b[0m\u001b[0;34m\u001b[0m\u001b[0;34m\u001b[0m\u001b[0m\n",
      "\u001b[0;32m/shared/carles/miniconda3/envs/torchmd-exp/lib/python3.8/site-packages/IPython/core/pylabtools.py\u001b[0m in \u001b[0;36mprint_figure\u001b[0;34m(fig, fmt, bbox_inches, base64, **kwargs)\u001b[0m\n\u001b[1;32m    149\u001b[0m         \u001b[0mFigureCanvasBase\u001b[0m\u001b[0;34m(\u001b[0m\u001b[0mfig\u001b[0m\u001b[0;34m)\u001b[0m\u001b[0;34m\u001b[0m\u001b[0;34m\u001b[0m\u001b[0m\n\u001b[1;32m    150\u001b[0m \u001b[0;34m\u001b[0m\u001b[0m\n\u001b[0;32m--> 151\u001b[0;31m     \u001b[0mfig\u001b[0m\u001b[0;34m.\u001b[0m\u001b[0mcanvas\u001b[0m\u001b[0;34m.\u001b[0m\u001b[0mprint_figure\u001b[0m\u001b[0;34m(\u001b[0m\u001b[0mbytes_io\u001b[0m\u001b[0;34m,\u001b[0m \u001b[0;34m**\u001b[0m\u001b[0mkw\u001b[0m\u001b[0;34m)\u001b[0m\u001b[0;34m\u001b[0m\u001b[0;34m\u001b[0m\u001b[0m\n\u001b[0m\u001b[1;32m    152\u001b[0m     \u001b[0mdata\u001b[0m \u001b[0;34m=\u001b[0m \u001b[0mbytes_io\u001b[0m\u001b[0;34m.\u001b[0m\u001b[0mgetvalue\u001b[0m\u001b[0;34m(\u001b[0m\u001b[0;34m)\u001b[0m\u001b[0;34m\u001b[0m\u001b[0;34m\u001b[0m\u001b[0m\n\u001b[1;32m    153\u001b[0m     \u001b[0;32mif\u001b[0m \u001b[0mfmt\u001b[0m \u001b[0;34m==\u001b[0m \u001b[0;34m'svg'\u001b[0m\u001b[0;34m:\u001b[0m\u001b[0;34m\u001b[0m\u001b[0;34m\u001b[0m\u001b[0m\n",
      "\u001b[0;32m/shared/carles/miniconda3/envs/torchmd-exp/lib/python3.8/site-packages/matplotlib-3.5.0-py3.8-linux-x86_64.egg/matplotlib/backend_bases.py\u001b[0m in \u001b[0;36mprint_figure\u001b[0;34m(self, filename, dpi, facecolor, edgecolor, orientation, format, bbox_inches, pad_inches, bbox_extra_artists, backend, **kwargs)\u001b[0m\n\u001b[1;32m   2292\u001b[0m             \u001b[0;32mif\u001b[0m \u001b[0mbbox_inches\u001b[0m\u001b[0;34m:\u001b[0m\u001b[0;34m\u001b[0m\u001b[0;34m\u001b[0m\u001b[0m\n\u001b[1;32m   2293\u001b[0m                 \u001b[0;32mif\u001b[0m \u001b[0mbbox_inches\u001b[0m \u001b[0;34m==\u001b[0m \u001b[0;34m\"tight\"\u001b[0m\u001b[0;34m:\u001b[0m\u001b[0;34m\u001b[0m\u001b[0;34m\u001b[0m\u001b[0m\n\u001b[0;32m-> 2294\u001b[0;31m                     bbox_inches = self.figure.get_tightbbox(\n\u001b[0m\u001b[1;32m   2295\u001b[0m                         renderer, bbox_extra_artists=bbox_extra_artists)\n\u001b[1;32m   2296\u001b[0m                     \u001b[0;32mif\u001b[0m \u001b[0mpad_inches\u001b[0m \u001b[0;32mis\u001b[0m \u001b[0;32mNone\u001b[0m\u001b[0;34m:\u001b[0m\u001b[0;34m\u001b[0m\u001b[0;34m\u001b[0m\u001b[0m\n",
      "\u001b[0;32m/shared/carles/miniconda3/envs/torchmd-exp/lib/python3.8/site-packages/matplotlib-3.5.0-py3.8-linux-x86_64.egg/matplotlib/figure.py\u001b[0m in \u001b[0;36mget_tightbbox\u001b[0;34m(self, renderer, bbox_extra_artists)\u001b[0m\n\u001b[1;32m   1626\u001b[0m \u001b[0;34m\u001b[0m\u001b[0m\n\u001b[1;32m   1627\u001b[0m         \u001b[0;32mfor\u001b[0m \u001b[0ma\u001b[0m \u001b[0;32min\u001b[0m \u001b[0martists\u001b[0m\u001b[0;34m:\u001b[0m\u001b[0;34m\u001b[0m\u001b[0;34m\u001b[0m\u001b[0m\n\u001b[0;32m-> 1628\u001b[0;31m             \u001b[0mbbox\u001b[0m \u001b[0;34m=\u001b[0m \u001b[0ma\u001b[0m\u001b[0;34m.\u001b[0m\u001b[0mget_tightbbox\u001b[0m\u001b[0;34m(\u001b[0m\u001b[0mrenderer\u001b[0m\u001b[0;34m)\u001b[0m\u001b[0;34m\u001b[0m\u001b[0;34m\u001b[0m\u001b[0m\n\u001b[0m\u001b[1;32m   1629\u001b[0m             \u001b[0;32mif\u001b[0m \u001b[0mbbox\u001b[0m \u001b[0;32mis\u001b[0m \u001b[0;32mnot\u001b[0m \u001b[0;32mNone\u001b[0m \u001b[0;32mand\u001b[0m \u001b[0;34m(\u001b[0m\u001b[0mbbox\u001b[0m\u001b[0;34m.\u001b[0m\u001b[0mwidth\u001b[0m \u001b[0;34m!=\u001b[0m \u001b[0;36m0\u001b[0m \u001b[0;32mor\u001b[0m \u001b[0mbbox\u001b[0m\u001b[0;34m.\u001b[0m\u001b[0mheight\u001b[0m \u001b[0;34m!=\u001b[0m \u001b[0;36m0\u001b[0m\u001b[0;34m)\u001b[0m\u001b[0;34m:\u001b[0m\u001b[0;34m\u001b[0m\u001b[0;34m\u001b[0m\u001b[0m\n\u001b[1;32m   1630\u001b[0m                 \u001b[0mbb\u001b[0m\u001b[0;34m.\u001b[0m\u001b[0mappend\u001b[0m\u001b[0;34m(\u001b[0m\u001b[0mbbox\u001b[0m\u001b[0;34m)\u001b[0m\u001b[0;34m\u001b[0m\u001b[0;34m\u001b[0m\u001b[0m\n",
      "\u001b[0;32m/shared/carles/miniconda3/envs/torchmd-exp/lib/python3.8/site-packages/matplotlib-3.5.0-py3.8-linux-x86_64.egg/matplotlib/artist.py\u001b[0m in \u001b[0;36mget_tightbbox\u001b[0;34m(self, renderer)\u001b[0m\n\u001b[1;32m    353\u001b[0m             \u001b[0mThe\u001b[0m \u001b[0menclosing\u001b[0m \u001b[0mbounding\u001b[0m \u001b[0mbox\u001b[0m \u001b[0;34m(\u001b[0m\u001b[0;32min\u001b[0m \u001b[0mfigure\u001b[0m \u001b[0mpixel\u001b[0m \u001b[0mcoordinates\u001b[0m\u001b[0;34m)\u001b[0m\u001b[0;34m.\u001b[0m\u001b[0;34m\u001b[0m\u001b[0;34m\u001b[0m\u001b[0m\n\u001b[1;32m    354\u001b[0m         \"\"\"\n\u001b[0;32m--> 355\u001b[0;31m         \u001b[0mbbox\u001b[0m \u001b[0;34m=\u001b[0m \u001b[0mself\u001b[0m\u001b[0;34m.\u001b[0m\u001b[0mget_window_extent\u001b[0m\u001b[0;34m(\u001b[0m\u001b[0mrenderer\u001b[0m\u001b[0;34m)\u001b[0m\u001b[0;34m\u001b[0m\u001b[0;34m\u001b[0m\u001b[0m\n\u001b[0m\u001b[1;32m    356\u001b[0m         \u001b[0;32mif\u001b[0m \u001b[0mself\u001b[0m\u001b[0;34m.\u001b[0m\u001b[0mget_clip_on\u001b[0m\u001b[0;34m(\u001b[0m\u001b[0;34m)\u001b[0m\u001b[0;34m:\u001b[0m\u001b[0;34m\u001b[0m\u001b[0;34m\u001b[0m\u001b[0m\n\u001b[1;32m    357\u001b[0m             \u001b[0mclip_box\u001b[0m \u001b[0;34m=\u001b[0m \u001b[0mself\u001b[0m\u001b[0;34m.\u001b[0m\u001b[0mget_clip_box\u001b[0m\u001b[0;34m(\u001b[0m\u001b[0;34m)\u001b[0m\u001b[0;34m\u001b[0m\u001b[0;34m\u001b[0m\u001b[0m\n",
      "\u001b[0;32m/shared/carles/miniconda3/envs/torchmd-exp/lib/python3.8/site-packages/matplotlib-3.5.0-py3.8-linux-x86_64.egg/matplotlib/lines.py\u001b[0m in \u001b[0;36mget_window_extent\u001b[0;34m(self, renderer)\u001b[0m\n\u001b[1;32m    618\u001b[0m         \u001b[0mbbox\u001b[0m \u001b[0;34m=\u001b[0m \u001b[0mBbox\u001b[0m\u001b[0;34m(\u001b[0m\u001b[0;34m[\u001b[0m\u001b[0;34m[\u001b[0m\u001b[0;36m0\u001b[0m\u001b[0;34m,\u001b[0m \u001b[0;36m0\u001b[0m\u001b[0;34m]\u001b[0m\u001b[0;34m,\u001b[0m \u001b[0;34m[\u001b[0m\u001b[0;36m0\u001b[0m\u001b[0;34m,\u001b[0m \u001b[0;36m0\u001b[0m\u001b[0;34m]\u001b[0m\u001b[0;34m]\u001b[0m\u001b[0;34m)\u001b[0m\u001b[0;34m\u001b[0m\u001b[0;34m\u001b[0m\u001b[0m\n\u001b[1;32m    619\u001b[0m         \u001b[0mtrans_data_to_xy\u001b[0m \u001b[0;34m=\u001b[0m \u001b[0mself\u001b[0m\u001b[0;34m.\u001b[0m\u001b[0mget_transform\u001b[0m\u001b[0;34m(\u001b[0m\u001b[0;34m)\u001b[0m\u001b[0;34m.\u001b[0m\u001b[0mtransform\u001b[0m\u001b[0;34m\u001b[0m\u001b[0;34m\u001b[0m\u001b[0m\n\u001b[0;32m--> 620\u001b[0;31m         bbox.update_from_data_xy(trans_data_to_xy(self.get_xydata()),\n\u001b[0m\u001b[1;32m    621\u001b[0m                                  ignore=True)\n\u001b[1;32m    622\u001b[0m         \u001b[0;31m# correct for marker size, if any\u001b[0m\u001b[0;34m\u001b[0m\u001b[0;34m\u001b[0m\u001b[0;34m\u001b[0m\u001b[0m\n",
      "\u001b[0;32m/shared/carles/miniconda3/envs/torchmd-exp/lib/python3.8/site-packages/matplotlib-3.5.0-py3.8-linux-x86_64.egg/matplotlib/transforms.py\u001b[0m in \u001b[0;36mtransform\u001b[0;34m(self, values)\u001b[0m\n\u001b[1;32m   1501\u001b[0m \u001b[0;34m\u001b[0m\u001b[0m\n\u001b[1;32m   1502\u001b[0m         \u001b[0;31m# Transform the values\u001b[0m\u001b[0;34m\u001b[0m\u001b[0;34m\u001b[0m\u001b[0;34m\u001b[0m\u001b[0m\n\u001b[0;32m-> 1503\u001b[0;31m         \u001b[0mres\u001b[0m \u001b[0;34m=\u001b[0m \u001b[0mself\u001b[0m\u001b[0;34m.\u001b[0m\u001b[0mtransform_affine\u001b[0m\u001b[0;34m(\u001b[0m\u001b[0mself\u001b[0m\u001b[0;34m.\u001b[0m\u001b[0mtransform_non_affine\u001b[0m\u001b[0;34m(\u001b[0m\u001b[0mvalues\u001b[0m\u001b[0;34m)\u001b[0m\u001b[0;34m)\u001b[0m\u001b[0;34m\u001b[0m\u001b[0;34m\u001b[0m\u001b[0m\n\u001b[0m\u001b[1;32m   1504\u001b[0m \u001b[0;34m\u001b[0m\u001b[0m\n\u001b[1;32m   1505\u001b[0m         \u001b[0;31m# Convert the result back to the shape of the input values.\u001b[0m\u001b[0;34m\u001b[0m\u001b[0;34m\u001b[0m\u001b[0;34m\u001b[0m\u001b[0m\n",
      "\u001b[0;32m/shared/carles/miniconda3/envs/torchmd-exp/lib/python3.8/site-packages/matplotlib-3.5.0-py3.8-linux-x86_64.egg/matplotlib/transforms.py\u001b[0m in \u001b[0;36mtransform_affine\u001b[0;34m(self, points)\u001b[0m\n\u001b[1;32m   2417\u001b[0m     \u001b[0;32mdef\u001b[0m \u001b[0mtransform_affine\u001b[0m\u001b[0;34m(\u001b[0m\u001b[0mself\u001b[0m\u001b[0;34m,\u001b[0m \u001b[0mpoints\u001b[0m\u001b[0;34m)\u001b[0m\u001b[0;34m:\u001b[0m\u001b[0;34m\u001b[0m\u001b[0;34m\u001b[0m\u001b[0m\n\u001b[1;32m   2418\u001b[0m         \u001b[0;31m# docstring inherited\u001b[0m\u001b[0;34m\u001b[0m\u001b[0;34m\u001b[0m\u001b[0;34m\u001b[0m\u001b[0m\n\u001b[0;32m-> 2419\u001b[0;31m         \u001b[0;32mreturn\u001b[0m \u001b[0mself\u001b[0m\u001b[0;34m.\u001b[0m\u001b[0mget_affine\u001b[0m\u001b[0;34m(\u001b[0m\u001b[0;34m)\u001b[0m\u001b[0;34m.\u001b[0m\u001b[0mtransform\u001b[0m\u001b[0;34m(\u001b[0m\u001b[0mpoints\u001b[0m\u001b[0;34m)\u001b[0m\u001b[0;34m\u001b[0m\u001b[0;34m\u001b[0m\u001b[0m\n\u001b[0m\u001b[1;32m   2420\u001b[0m \u001b[0;34m\u001b[0m\u001b[0m\n\u001b[1;32m   2421\u001b[0m     \u001b[0;32mdef\u001b[0m \u001b[0mtransform_non_affine\u001b[0m\u001b[0;34m(\u001b[0m\u001b[0mself\u001b[0m\u001b[0;34m,\u001b[0m \u001b[0mpoints\u001b[0m\u001b[0;34m)\u001b[0m\u001b[0;34m:\u001b[0m\u001b[0;34m\u001b[0m\u001b[0;34m\u001b[0m\u001b[0m\n",
      "\u001b[0;32m/shared/carles/miniconda3/envs/torchmd-exp/lib/python3.8/site-packages/matplotlib-3.5.0-py3.8-linux-x86_64.egg/matplotlib/transforms.py\u001b[0m in \u001b[0;36mget_affine\u001b[0;34m(self)\u001b[0m\n\u001b[1;32m   2444\u001b[0m             \u001b[0;32mreturn\u001b[0m \u001b[0mself\u001b[0m\u001b[0;34m.\u001b[0m\u001b[0m_b\u001b[0m\u001b[0;34m.\u001b[0m\u001b[0mget_affine\u001b[0m\u001b[0;34m(\u001b[0m\u001b[0;34m)\u001b[0m\u001b[0;34m\u001b[0m\u001b[0;34m\u001b[0m\u001b[0m\n\u001b[1;32m   2445\u001b[0m         \u001b[0;32melse\u001b[0m\u001b[0;34m:\u001b[0m\u001b[0;34m\u001b[0m\u001b[0;34m\u001b[0m\u001b[0m\n\u001b[0;32m-> 2446\u001b[0;31m             return Affine2D(np.dot(self._b.get_affine().get_matrix(),\n\u001b[0m\u001b[1;32m   2447\u001b[0m                                    self._a.get_affine().get_matrix()))\n\u001b[1;32m   2448\u001b[0m \u001b[0;34m\u001b[0m\u001b[0m\n",
      "\u001b[0;32m<__array_function__ internals>\u001b[0m in \u001b[0;36mdot\u001b[0;34m(*args, **kwargs)\u001b[0m\n",
      "\u001b[0;31mKeyboardInterrupt\u001b[0m: "
     ]
    },
    {
     "data": {
      "image/png": "[encoded data removed]",
      "text/plain": [
       "<Figure size 432x288 with 1 Axes>"
      ]
     },
     "metadata": {
      "needs_background": "light"
     },
     "output_type": "display_data"
    }
   ],
   "source": [
    "from tqdm import tqdm \n",
    "import numpy as np\n",
    "%matplotlib inline\n",
    "import time\n",
    "import pylab as pl\n",
    "from IPython import display\n",
    "\n",
    "FS2NS = 1E-6 # Femtosecond to nanosecond conversion\n",
    "\n",
    "steps = 100000\n",
    "output_period = 20\n",
    "save_period = 20\n",
    "traj = []\n",
    "\n",
    "trajectoryout = \"mytrajectory.npy\"\n",
    "\n",
    "iterator = tqdm(range(1, int(steps / output_period) + 1))\n",
    "Epot = forces.compute(system.pos, system.box, system.forces)\n",
    "rmsds = []\n",
    "Ep = []\n",
    "tm_scores = []\n",
    "for i in iterator:\n",
    "    Ekin, Epot, T = integrator.step(niter=output_period)\n",
    "    wrapper.wrap(system.pos, system.box)\n",
    "    currpos = system.pos.detach().cpu().numpy().copy()\n",
    "    traj.append(currpos)\n",
    "\n",
    "    rmsds.append(rmsd(system.pos, native_coords).item())\n",
    "    Ep.append(Epot)\n",
    "    \n",
    "    if rmsds[-1] > 40:\n",
    "        break\n",
    "    pl.plot(rmsds)\n",
    "    pl.xlabel('steps')\n",
    "    pl.ylabel('rmsd')\n",
    "    \n",
    "    display.clear_output(wait=True)\n",
    "    display.display(pl.gcf())"
   ]
  },
  {
   "cell_type": "code",
   "execution_count": 26,
   "id": "e8b9f340-b4ed-47b3-bee5-123d6c728080",
   "metadata": {},
   "outputs": [
    {
     "name": "stdout",
     "output_type": "stream",
     "text": [
      "20.00396\n"
     ]
    }
   ],
   "source": [
    "import copy\n",
    "tmp_mol = copy.deepcopy(mol)\n",
    "mol_xtc = Molecule(f'/shared/carles/torchmd-exp/data/{name}/{name}_ca_top_dih.psf')\n",
    "rmsd_proj = MetricRmsd(ref_mol, 'name CA', centerstr='name CA', pbc=False)\n",
    "rmsd_range = [20,21]\n",
    "for conf in traj:\n",
    "    tmp_mol.coords = np.moveaxis(conf, 0, -1)\n",
    "    tmp_mol.align('name CA', refmol=ref_mol)\n",
    "    rmsd_value = rmsd_proj.project(tmp_mol)\n",
    "    if rmsd_range[0] <= rmsd_value.item() <= rmsd_range[1]:\n",
    "        print(rmsd_value)\n",
    "        mol_xtc.appendFrames(tmp_mol)\n",
    "        rmsd_range = [ x + 2.5 for x in rmsd_range]\n",
    "    "
   ]
  },
  {
   "cell_type": "code",
   "execution_count": 41,
   "id": "7ce8a087-c217-4b9f-9492-88e5c6668a81",
   "metadata": {},
   "outputs": [],
   "source": [
    "mol_xtc.box = np.zeros(shape=(3,mol_xtc.numFrames), dtype=np.float32)\n",
    "mol_xtc.write(f'/workspace7/torchmd-AD/crystals_dataset/xtc_data/{domain}_kcenters_8clusters.xtc')"
   ]
  },
  {
   "cell_type": "code",
   "execution_count": null,
   "id": "c34aecb7-001b-47a1-9134-08b4558c2eaa",
   "metadata": {},
   "outputs": [],
   "source": []
  },
  {
   "cell_type": "markdown",
   "id": "f559c71f-34dc-41f9-8761-6a4271a2f2db",
   "metadata": {},
   "source": [
    "# Add folded conformations"
   ]
  },
  {
   "cell_type": "code",
   "execution_count": 7,
   "id": "5680df2b-d6f8-41d3-9064-99f52bc18621",
   "metadata": {
    "tags": []
   },
   "outputs": [],
   "source": [
    "from moleculekit.molecule import Molecule\n",
    "import os\n",
    "import importlib\n",
    "from torchmdexp.losses.rmsd import rmsd\n",
    "from torchmdexp.losses.tmscore import tm_score\n",
    "from torchmdexp.samplers.utils import get_native_coords, get_embeddings\n",
    "from moleculekit.projections.metricrmsd import MetricRmsd\n",
    "from moleculekit.projections.metrictmscore import MetricTMscore\n",
    "import numpy as np\n",
    "import torch\n",
    "\n",
    "device = \"cuda:0\"\n",
    "precision = torch.float"
   ]
  },
  {
   "cell_type": "code",
   "execution_count": 17,
   "id": "6dfe1362-5bf4-489a-8756-aab57d91ba2c",
   "metadata": {},
   "outputs": [],
   "source": [
    "prot = 'trp_ca'\n",
    "name = 'trp'\n",
    "level = 0\n",
    "num = 32\n",
    "mol = Molecule(f'/shared/carles/torchmd-exp/data/{name}/{name}_ca_top_dih.psf')\n",
    "mol.read(f'/shared/carles/torchmd-exp/data/{name}/{name}_kcenters_{num}clusters_coords.xtc')\n",
    "ref_mol = Molecule(f'/shared/carles/torchmd-exp/data/{name}/{name}_ca.pdb')"
   ]
  },
  {
   "cell_type": "code",
   "execution_count": 19,
   "id": "6c011884-321a-45c8-a9c2-441d0734cf66",
   "metadata": {
    "tags": []
   },
   "outputs": [
    {
     "name": "stdout",
     "output_type": "stream",
     "text": [
      "Starting rmsd:  8.53268814086914 index 0\n"
     ]
    },
    {
     "ename": "IndexError",
     "evalue": "index 1 is out of bounds for axis 2 with size 1",
     "output_type": "error",
     "traceback": [
      "\u001b[0;31m---------------------------------------------------------------------------\u001b[0m",
      "\u001b[0;31mIndexError\u001b[0m                                Traceback (most recent call last)",
      "\u001b[0;32m/tmp/ipykernel_125095/3436769564.py\u001b[0m in \u001b[0;36m<module>\u001b[0;34m\u001b[0m\n\u001b[1;32m      5\u001b[0m     \u001b[0mref_mol\u001b[0m \u001b[0;34m=\u001b[0m \u001b[0mMolecule\u001b[0m\u001b[0;34m(\u001b[0m\u001b[0;34mf'/shared/carles/torchmd-exp/data/{name}/{name}_ca.pdb'\u001b[0m\u001b[0;34m)\u001b[0m\u001b[0;34m\u001b[0m\u001b[0;34m\u001b[0m\u001b[0m\n\u001b[1;32m      6\u001b[0m \u001b[0;34m\u001b[0m\u001b[0m\n\u001b[0;32m----> 7\u001b[0;31m     \u001b[0mmol\u001b[0m\u001b[0;34m.\u001b[0m\u001b[0mcoords\u001b[0m \u001b[0;34m=\u001b[0m \u001b[0mnp\u001b[0m\u001b[0;34m.\u001b[0m\u001b[0mexpand_dims\u001b[0m\u001b[0;34m(\u001b[0m\u001b[0mmol\u001b[0m\u001b[0;34m.\u001b[0m\u001b[0mcoords\u001b[0m\u001b[0;34m[\u001b[0m\u001b[0;34m:\u001b[0m\u001b[0;34m,\u001b[0m \u001b[0;34m:\u001b[0m \u001b[0;34m,\u001b[0m \u001b[0mi\u001b[0m\u001b[0;34m]\u001b[0m\u001b[0;34m,\u001b[0m \u001b[0maxis\u001b[0m\u001b[0;34m=\u001b[0m\u001b[0;34m-\u001b[0m\u001b[0;36m1\u001b[0m\u001b[0;34m)\u001b[0m\u001b[0;34m\u001b[0m\u001b[0;34m\u001b[0m\u001b[0m\n\u001b[0m\u001b[1;32m      8\u001b[0m     \u001b[0mmol\u001b[0m\u001b[0;34m.\u001b[0m\u001b[0mbox\u001b[0m \u001b[0;34m=\u001b[0m \u001b[0mnp\u001b[0m\u001b[0;34m.\u001b[0m\u001b[0mexpand_dims\u001b[0m\u001b[0;34m(\u001b[0m\u001b[0mmol\u001b[0m\u001b[0;34m.\u001b[0m\u001b[0mbox\u001b[0m\u001b[0;34m[\u001b[0m\u001b[0;34m:\u001b[0m\u001b[0;34m,\u001b[0m \u001b[0;36m0\u001b[0m\u001b[0;34m]\u001b[0m\u001b[0;34m,\u001b[0m \u001b[0maxis\u001b[0m\u001b[0;34m=\u001b[0m\u001b[0;34m-\u001b[0m\u001b[0;36m1\u001b[0m\u001b[0;34m)\u001b[0m\u001b[0;34m\u001b[0m\u001b[0;34m\u001b[0m\u001b[0m\n\u001b[1;32m      9\u001b[0m \u001b[0;34m\u001b[0m\u001b[0m\n",
      "\u001b[0;31mIndexError\u001b[0m: index 1 is out of bounds for axis 2 with size 1"
     ]
    }
   ],
   "source": [
    "for i in range(mol.coords.shape[2]):\n",
    "    mol = Molecule(f'/shared/carles/torchmd-exp/data/{name}/{name}_ca_top_dih.psf')\n",
    "    #mol.read(f'/shared/carles/torchmd-exp/data/{name}/{name}_kcenters_{num}clusters_coords.xtc')\n",
    "    mol.read(f'/shared/carles/torchmd-exp/data/{name}/{name}_{num}_unfolded_coords.xtc')\n",
    "    ref_mol = Molecule(f'/shared/carles/torchmd-exp/data/{name}/{name}_ca.pdb') \n",
    "    \n",
    "    mol.coords = np.expand_dims(mol.coords[:, : , i], axis=-1)\n",
    "    mol.box = np.expand_dims(mol.box[:, 0], axis=-1)\n",
    "\n",
    "\n",
    "    native_coords = get_native_coords(ref_mol, device)\n",
    "    native_coords = native_coords.type(precision)\n",
    "    coords = get_native_coords(mol, device)\n",
    "    coords = coords.type(precision)\n",
    "\n",
    "\n",
    "    print('Starting rmsd: ', rmsd(coords, native_coords).item(), f'index {i}')#, 'Starting log_rmsd: ', log_rmsd(coords, native_coords))\n",
    "    #print('Starting tmscore: ', tm_score(coords, native_coords), 'Starting l2_rmsd: ', l2_rmsd(coords, native_coords))"
   ]
  },
  {
   "cell_type": "code",
   "execution_count": 120,
   "id": "c369be71-5683-4f87-96b1-36c523d0a2b7",
   "metadata": {
    "jupyter": {
     "source_hidden": true
    },
    "tags": []
   },
   "outputs": [],
   "source": [
    "while mol.coords.shape[-1] < 16:\n",
    "    mol.coords = np.append(mol.coords, ref_mol.coords, axis=-1)\n",
    "mol.write(f'/workspace7/torchmd-AD/train_curriculum/{name}_contacts/level_{level}/init_states/{prot}.xtc')"
   ]
  },
  {
   "cell_type": "code",
   "execution_count": 101,
   "id": "003a9a59-421e-419c-9e45-5dd7d882cf78",
   "metadata": {
    "jupyter": {
     "source_hidden": true
    },
    "tags": []
   },
   "outputs": [],
   "source": [
    "# Create level 0\n",
    "while mol.coords.shape[-1] > 1:\n",
    "    mol.dropFrames(0)\n",
    "prot = 'ww_ca'\n",
    "level = '0'\n",
    "name = 'ww'\n",
    "mol.write(f'/workspace7/torchmd-AD/train_energy/{name}_energy/level_{level}/init_states/{prot}.xtc')"
   ]
  },
  {
   "cell_type": "code",
   "execution_count": 12,
   "id": "831ddc79-71ca-4858-8a78-f80b75261d48",
   "metadata": {},
   "outputs": [],
   "source": [
    "mol.coords = np.expand_dims(mol.coords[:, : , 10], axis=-1)\n",
    "num = 1\n",
    "mol.write(f'/shared/carles/torchmd-exp/data/{name}/{name}_{num}_unfolded_coords.xtc')"
   ]
  },
  {
   "cell_type": "code",
   "execution_count": 20,
   "id": "ead1bc96-5c45-4f17-9832-9e4259cadd37",
   "metadata": {},
   "outputs": [
    {
     "data": {
      "text/plain": [
       "tensor([[ 5,  1,  4,  1, 10,  7, 20, 19,  5,  2,  2,  8, 12, 12,  2, 18,  8,  8,\n",
       "          8, 12]])"
      ]
     },
     "execution_count": 20,
     "metadata": {},
     "output_type": "execute_result"
    }
   ],
   "source": [
    "get_embeddings(mol, 'cpu', 1)"
   ]
  },
  {
   "cell_type": "code",
   "execution_count": 27,
   "id": "7c4963ec-142b-42a0-a990-0eafa143ade2",
   "metadata": {},
   "outputs": [],
   "source": [
    "mol_xtc.box = np.zeros(shape=(3,mol_xtc.numFrames), dtype=np.float32)\n",
    "num = 1\n",
    "mol_xtc.write(f'/shared/carles/torchmd-exp/data/{name}/{name}_{num}_unfolded_coords.xtc')"
   ]
  },
  {
   "cell_type": "code",
   "execution_count": 18,
   "id": "af3df7b2-8a06-43c4-ac32-7d82515279cc",
   "metadata": {},
   "outputs": [],
   "source": [
    "num = 1"
   ]
  },
  {
   "cell_type": "code",
   "execution_count": null,
   "id": "ad68aa50-c2a8-40a0-af84-cf35df25a5fc",
   "metadata": {},
   "outputs": [],
   "source": []
  }
 ],
 "metadata": {
  "kernelspec": {
   "display_name": "torchmd-exp",
   "language": "python",
   "name": "torchmd-exp"
  },
  "language_info": {
   "codemirror_mode": {
    "name": "ipython",
    "version": 3
   },
   "file_extension": ".py",
   "mimetype": "text/x-python",
   "name": "python",
   "nbconvert_exporter": "python",
   "pygments_lexer": "ipython3",
   "version": "3.8.10"
  }
 },
 "nbformat": 4,
 "nbformat_minor": 5
}
