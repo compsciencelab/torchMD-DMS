{
 "cells": [
  {
   "cell_type": "code",
   "execution_count": 1,
   "id": "9f49e436-57fb-4947-98cf-9c10c3b2b7d6",
   "metadata": {},
   "outputs": [],
   "source": [
    "import pandas as pd\n",
    "import matplotlib.pyplot as plt\n",
    "import numpy as np\n",
    "%matplotlib inline"
   ]
  },
  {
   "cell_type": "markdown",
   "id": "4d74ab41-e3de-4635-9880-15b4f5f19436",
   "metadata": {},
   "source": [
    "## Create levels with multiple starting conformations"
   ]
  },
  {
   "cell_type": "code",
   "execution_count": 2,
   "id": "6af81aa2-7282-41cb-8686-cdea17826d9d",
   "metadata": {},
   "outputs": [
    {
     "ename": "NameError",
     "evalue": "name 'mol' is not defined",
     "output_type": "error",
     "traceback": [
      "\u001b[0;31m---------------------------------------------------------------------------\u001b[0m",
      "\u001b[0;31mNameError\u001b[0m                                 Traceback (most recent call last)",
      "\u001b[0;32m/tmp/ipykernel_39015/3342075177.py\u001b[0m in \u001b[0;36m<module>\u001b[0;34m\u001b[0m\n\u001b[1;32m     10\u001b[0m     \u001b[0mstop\u001b[0m \u001b[0;34m=\u001b[0m \u001b[0;32mTrue\u001b[0m\u001b[0;34m\u001b[0m\u001b[0;34m\u001b[0m\u001b[0m\n\u001b[1;32m     11\u001b[0m     \u001b[0;32mfor\u001b[0m \u001b[0mi\u001b[0m \u001b[0;32min\u001b[0m \u001b[0mrange\u001b[0m\u001b[0;34m(\u001b[0m\u001b[0;36m64\u001b[0m\u001b[0;34m)\u001b[0m\u001b[0;34m:\u001b[0m\u001b[0;34m\u001b[0m\u001b[0;34m\u001b[0m\u001b[0m\n\u001b[0;32m---> 12\u001b[0;31m         \u001b[0mmol1\u001b[0m \u001b[0;34m=\u001b[0m \u001b[0mcopy\u001b[0m\u001b[0;34m.\u001b[0m\u001b[0mdeepcopy\u001b[0m\u001b[0;34m(\u001b[0m\u001b[0mmol\u001b[0m\u001b[0;34m)\u001b[0m\u001b[0;34m\u001b[0m\u001b[0;34m\u001b[0m\u001b[0m\n\u001b[0m\u001b[1;32m     13\u001b[0m         \u001b[0mmol1\u001b[0m\u001b[0;34m.\u001b[0m\u001b[0mdropFrames\u001b[0m\u001b[0;34m(\u001b[0m\u001b[0mkeep\u001b[0m\u001b[0;34m=\u001b[0m\u001b[0;34m[\u001b[0m\u001b[0mi\u001b[0m\u001b[0;34m]\u001b[0m\u001b[0;34m)\u001b[0m\u001b[0;34m\u001b[0m\u001b[0;34m\u001b[0m\u001b[0m\n\u001b[1;32m     14\u001b[0m \u001b[0;34m\u001b[0m\u001b[0m\n",
      "\u001b[0;31mNameError\u001b[0m: name 'mol' is not defined"
     ]
    }
   ],
   "source": [
    "import copy\n",
    "\n",
    "min_rmsd = 0\n",
    "max_rmsd = 1\n",
    "stop = False\n",
    "level = 0\n",
    "rmsds_dict = {}\n",
    "\n",
    "while stop == False:\n",
    "    stop = True\n",
    "    for i in range(64):\n",
    "        mol1 = copy.deepcopy(mol)\n",
    "        mol1.dropFrames(keep=[i])\n",
    "\n",
    "\n",
    "        mol1.align('name CA', refmol=ref_mol)\n",
    "        rmsd_proj = MetricRmsd(ref_mol, 'name CA', centerstr='name CA', pbc=False)\n",
    "        rmsd = rmsd_proj.project(mol1)\n",
    "\n",
    "        if min_rmsd <= rmsd <= max_rmsd:\n",
    "            rmsds_dict['level'+str(level + 1)] = rmsd.item()\n",
    "            print(rmsd)\n",
    "            min_rmsd += 1\n",
    "            max_rmsd += 1\n",
    "            stop = False       \n",
    "            path = '/workspace7/torchmd-AD/train_curriculum/cln/levels/level' + str(level)\n",
    "            #os.mkdir(path)\n",
    "            mol1.write(os.path.join(path, 'chignolin_cln025.xtc' ))\n",
    "            level += 1\n",
    "    \n",
    "    "
   ]
  },
  {
   "cell_type": "code",
   "execution_count": 96,
   "id": "02232c10-b396-4b96-9fac-a8aa71596a24",
   "metadata": {},
   "outputs": [
    {
     "data": {
      "text/html": [
       "<div>\n",
       "<style scoped>\n",
       "    .dataframe tbody tr th:only-of-type {\n",
       "        vertical-align: middle;\n",
       "    }\n",
       "\n",
       "    .dataframe tbody tr th {\n",
       "        vertical-align: top;\n",
       "    }\n",
       "\n",
       "    .dataframe thead th {\n",
       "        text-align: right;\n",
       "    }\n",
       "</style>\n",
       "<table border=\"1\" class=\"dataframe\">\n",
       "  <thead>\n",
       "    <tr style=\"text-align: right;\">\n",
       "      <th></th>\n",
       "      <th>starting rmsd</th>\n",
       "    </tr>\n",
       "  </thead>\n",
       "  <tbody>\n",
       "    <tr>\n",
       "      <th>level1</th>\n",
       "      <td>0.873917</td>\n",
       "    </tr>\n",
       "    <tr>\n",
       "      <th>level2</th>\n",
       "      <td>1.463428</td>\n",
       "    </tr>\n",
       "    <tr>\n",
       "      <th>level3</th>\n",
       "      <td>2.858741</td>\n",
       "    </tr>\n",
       "    <tr>\n",
       "      <th>level4</th>\n",
       "      <td>3.779713</td>\n",
       "    </tr>\n",
       "    <tr>\n",
       "      <th>level5</th>\n",
       "      <td>4.009621</td>\n",
       "    </tr>\n",
       "    <tr>\n",
       "      <th>level6</th>\n",
       "      <td>5.704338</td>\n",
       "    </tr>\n",
       "    <tr>\n",
       "      <th>level7</th>\n",
       "      <td>6.318629</td>\n",
       "    </tr>\n",
       "  </tbody>\n",
       "</table>\n",
       "</div>"
      ],
      "text/plain": [
       "        starting rmsd\n",
       "level1       0.873917\n",
       "level2       1.463428\n",
       "level3       2.858741\n",
       "level4       3.779713\n",
       "level5       4.009621\n",
       "level6       5.704338\n",
       "level7       6.318629"
      ]
     },
     "execution_count": 96,
     "metadata": {},
     "output_type": "execute_result"
    }
   ],
   "source": [
    "import pandas as pd\n",
    "pd.DataFrame.from_dict(rmsds_dict, orient='index', columns = ['starting rmsd'])"
   ]
  },
  {
   "cell_type": "code",
   "execution_count": 21,
   "id": "1fe51fb2-2cd2-4575-a7f9-9ff987f74c5a",
   "metadata": {},
   "outputs": [
    {
     "ename": "NameError",
     "evalue": "name 'mol_curriculum' is not defined",
     "output_type": "error",
     "traceback": [
      "\u001b[0;31m---------------------------------------------------------------------------\u001b[0m",
      "\u001b[0;31mNameError\u001b[0m                                 Traceback (most recent call last)",
      "\u001b[0;32m/tmp/ipykernel_39015/3306444290.py\u001b[0m in \u001b[0;36m<module>\u001b[0;34m\u001b[0m\n\u001b[0;32m----> 1\u001b[0;31m \u001b[0mmol_curriculum\u001b[0m\u001b[0;34m.\u001b[0m\u001b[0mwrite\u001b[0m\u001b[0;34m(\u001b[0m\u001b[0;34m'/workspace7/torchmd-AD/train_curriculum/cln/psf/chignolin_cln025.psf'\u001b[0m\u001b[0;34m)\u001b[0m\u001b[0;34m\u001b[0m\u001b[0;34m\u001b[0m\u001b[0m\n\u001b[0m\u001b[1;32m      2\u001b[0m \u001b[0mmol_curriculum\u001b[0m\u001b[0;34m.\u001b[0m\u001b[0mwrite\u001b[0m\u001b[0;34m(\u001b[0m\u001b[0;34m'/workspace7/torchmd-AD/train_curriculum/cln/xtc/chignolin_cln025.xtc'\u001b[0m\u001b[0;34m)\u001b[0m\u001b[0;34m\u001b[0m\u001b[0;34m\u001b[0m\u001b[0m\n",
      "\u001b[0;31mNameError\u001b[0m: name 'mol_curriculum' is not defined"
     ]
    }
   ],
   "source": [
    "mol_curriculum.write('/workspace7/torchmd-AD/train_curriculum/cln/psf/chignolin_cln025.psf')\n",
    "mol_curriculum.write('/workspace7/torchmd-AD/train_curriculum/cln/xtc/chignolin_cln025.xtc')"
   ]
  },
  {
   "cell_type": "markdown",
   "id": "322e44ff-8334-4b51-82ea-de927dffff67",
   "metadata": {},
   "source": [
    "## Create levels with multiple starting conformations"
   ]
  },
  {
   "cell_type": "code",
   "execution_count": 54,
   "id": "6fc3f7b4-a2d9-4824-89a1-c373d011be50",
   "metadata": {},
   "outputs": [],
   "source": [
    "# Reference Molecule\n",
    "psf = f'../data/bba/bba_ca_top_dih.psf'\n",
    "ref_pdb = f'../data/bba/bba_ca.pdb'\n",
    "ref_mol = Molecule(psf)\n",
    "ref_mol.read(ref_pdb)\n",
    "\n",
    "ref_mol.filter('name CA')\n",
    "\n",
    "# Read the array with trajectory data\n",
    "\n",
    "mol = Molecule(psf)\n",
    "arr = np.load('/workspace2/fast_folders_cgnet/multiprotein/data_dih/bba_ca_coords.npy')[:100000]\n",
    "mol.coords = np.moveaxis(arr, 0, -1)\n",
    "\n",
    "ref_mol.write('/workspace7/torchmd-AD/train_curriculum/fastfolders/level0/ground_truth/bba_ca.pdb')"
   ]
  },
  {
   "cell_type": "code",
   "execution_count": 8,
   "id": "75d123fe-6855-40de-95b4-cd0729ee00d3",
   "metadata": {},
   "outputs": [
    {
     "ename": "NameError",
     "evalue": "name 'mol' is not defined",
     "output_type": "error",
     "traceback": [
      "\u001b[0;31m---------------------------------------------------------------------------\u001b[0m",
      "\u001b[0;31mNameError\u001b[0m                                 Traceback (most recent call last)",
      "\u001b[0;32m/tmp/ipykernel_217886/3862851126.py\u001b[0m in \u001b[0;36m<module>\u001b[0;34m\u001b[0m\n\u001b[1;32m      1\u001b[0m \u001b[0;31m# Compute the rmsd of each frame against the reference structure\u001b[0m\u001b[0;34m\u001b[0m\u001b[0;34m\u001b[0m\u001b[0;34m\u001b[0m\u001b[0m\n\u001b[0;32m----> 2\u001b[0;31m \u001b[0mmol\u001b[0m\u001b[0;34m.\u001b[0m\u001b[0malign\u001b[0m\u001b[0;34m(\u001b[0m\u001b[0;34m'name CA'\u001b[0m\u001b[0;34m,\u001b[0m \u001b[0mrefmol\u001b[0m\u001b[0;34m=\u001b[0m\u001b[0mref_mol\u001b[0m\u001b[0;34m)\u001b[0m\u001b[0;34m\u001b[0m\u001b[0;34m\u001b[0m\u001b[0m\n\u001b[0m\u001b[1;32m      3\u001b[0m \u001b[0mrmsd_proj\u001b[0m \u001b[0;34m=\u001b[0m \u001b[0mMetricRmsd\u001b[0m\u001b[0;34m(\u001b[0m\u001b[0mref_mol\u001b[0m\u001b[0;34m,\u001b[0m \u001b[0;34m'name CA'\u001b[0m\u001b[0;34m,\u001b[0m \u001b[0mcenterstr\u001b[0m\u001b[0;34m=\u001b[0m\u001b[0;34m'name CA'\u001b[0m\u001b[0;34m,\u001b[0m \u001b[0mpbc\u001b[0m\u001b[0;34m=\u001b[0m\u001b[0;32mFalse\u001b[0m\u001b[0;34m)\u001b[0m\u001b[0;34m\u001b[0m\u001b[0;34m\u001b[0m\u001b[0m\n\u001b[1;32m      4\u001b[0m \u001b[0mrmsd\u001b[0m \u001b[0;34m=\u001b[0m \u001b[0mrmsd_proj\u001b[0m\u001b[0;34m.\u001b[0m\u001b[0mproject\u001b[0m\u001b[0;34m(\u001b[0m\u001b[0mmol\u001b[0m\u001b[0;34m)\u001b[0m\u001b[0;34m\u001b[0m\u001b[0;34m\u001b[0m\u001b[0m\n",
      "\u001b[0;31mNameError\u001b[0m: name 'mol' is not defined"
     ]
    }
   ],
   "source": [
    "# Compute the rmsd of each frame against the reference structure\n",
    "mol.align('name CA', refmol=ref_mol)\n",
    "rmsd_proj = MetricRmsd(ref_mol, 'name CA', centerstr='name CA', pbc=False)\n",
    "rmsd = rmsd_proj.project(mol)"
   ]
  },
  {
   "cell_type": "code",
   "execution_count": 72,
   "id": "0eca974f-25ff-44bf-86c0-dd44a3dfabb5",
   "metadata": {},
   "outputs": [
    {
     "data": {
      "text/plain": [
       "(28, 3, 100000)"
      ]
     },
     "execution_count": 72,
     "metadata": {},
     "output_type": "execute_result"
    }
   ],
   "source": [
    "mol.coords.shape\n",
    "#arr.shape"
   ]
  },
  {
   "cell_type": "code",
   "execution_count": 83,
   "id": "d7b00d7e-be5f-45fc-88e3-e00395985fad",
   "metadata": {},
   "outputs": [],
   "source": [
    "arr = np.load('/shared/carles/repo/torchmd-exp/scripts/trainings/tests/test_fastfolders/save_tica/chignolin_cln025.npy')\n",
    "coords = np.moveaxis(arr, 0, -1)"
   ]
  },
  {
   "cell_type": "code",
   "execution_count": 84,
   "id": "cd75dd3a-79bc-4979-a727-3bd255a6512c",
   "metadata": {},
   "outputs": [
    {
     "data": {
      "text/plain": [
       "(10, 3, 5920)"
      ]
     },
     "execution_count": 84,
     "metadata": {},
     "output_type": "execute_result"
    }
   ],
   "source": [
    "coords.shape"
   ]
  },
  {
   "cell_type": "code",
   "execution_count": 154,
   "id": "24c2538c-1ca7-4a1a-ae8d-fa142e322e12",
   "metadata": {},
   "outputs": [
    {
     "name": "stdout",
     "output_type": "stream",
     "text": [
      "2.8952222\n",
      "(21, 28, 3)\n"
     ]
    }
   ],
   "source": [
    "# Sample frames for different levels and save them in levels folders\n",
    "from statistics import mean\n",
    "n_levels = int(1 // 1)\n",
    "min_rmsd = 0\n",
    "max_rmsd = 3\n",
    "\n",
    "path = '/workspace7/torchmd-AD/train_curriculum/fastfolders/level0/init_states/'\n",
    "mol_frames = Molecule(psf)\n",
    "\n",
    "for n in range(n_levels):\n",
    "    \n",
    "    indexes = np.where(np.logical_and(rmsd>=min_rmsd, rmsd<=max_rmsd))[0]\n",
    "    frames = arr[indexes, :, :][:200]\n",
    "    \n",
    "    print(mean(rmsd[indexes]))\n",
    "    print(frames.shape)\n",
    "    \n",
    "    directory = path\n",
    "    #os.mkdir(directory)\n",
    "    \n",
    "    mol_frames.coords = np.moveaxis(frames, 0, -1)\n",
    "    mol_frames.write(path + 'bba_ca.xtc')\n",
    "    \n",
    "    #np.save(os.path.join(directory, 'ww_ca.npy'), frames)\n",
    "    #min_rmsd += 2\n",
    "    #max_rmsd += 2\n",
    "    \n",
    "    "
   ]
  }
 ],
 "metadata": {
  "kernelspec": {
   "display_name": "torchmd-exp",
   "language": "python",
   "name": "torchmd-exp"
  },
  "language_info": {
   "codemirror_mode": {
    "name": "ipython",
    "version": 3
   },
   "file_extension": ".py",
   "mimetype": "text/x-python",
   "name": "python",
   "nbconvert_exporter": "python",
   "pygments_lexer": "ipython3",
   "version": "3.8.10"
  }
 },
 "nbformat": 4,
 "nbformat_minor": 5
}
