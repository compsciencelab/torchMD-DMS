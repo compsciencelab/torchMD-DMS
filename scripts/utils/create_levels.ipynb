{
 "cells": [
  {
   "cell_type": "code",
   "execution_count": 1,
   "id": "9f49e436-57fb-4947-98cf-9c10c3b2b7d6",
   "metadata": {},
   "outputs": [],
   "source": [
    "import pandas as pd\n",
    "import matplotlib.pyplot as plt\n",
    "import numpy as np\n",
    "%matplotlib inline"
   ]
  },
  {
   "cell_type": "markdown",
   "id": "4d74ab41-e3de-4635-9880-15b4f5f19436",
   "metadata": {},
   "source": [
    "## Create levels with multiple starting conformations"
   ]
  },
  {
   "cell_type": "code",
   "execution_count": 2,
   "id": "6af81aa2-7282-41cb-8686-cdea17826d9d",
   "metadata": {},
   "outputs": [
    {
     "ename": "NameError",
     "evalue": "name 'mol' is not defined",
     "output_type": "error",
     "traceback": [
      "\u001b[0;31m---------------------------------------------------------------------------\u001b[0m",
      "\u001b[0;31mNameError\u001b[0m                                 Traceback (most recent call last)",
      "\u001b[0;32m/tmp/ipykernel_39015/3342075177.py\u001b[0m in \u001b[0;36m<module>\u001b[0;34m\u001b[0m\n\u001b[1;32m     10\u001b[0m     \u001b[0mstop\u001b[0m \u001b[0;34m=\u001b[0m \u001b[0;32mTrue\u001b[0m\u001b[0;34m\u001b[0m\u001b[0;34m\u001b[0m\u001b[0m\n\u001b[1;32m     11\u001b[0m     \u001b[0;32mfor\u001b[0m \u001b[0mi\u001b[0m \u001b[0;32min\u001b[0m \u001b[0mrange\u001b[0m\u001b[0;34m(\u001b[0m\u001b[0;36m64\u001b[0m\u001b[0;34m)\u001b[0m\u001b[0;34m:\u001b[0m\u001b[0;34m\u001b[0m\u001b[0;34m\u001b[0m\u001b[0m\n\u001b[0;32m---> 12\u001b[0;31m         \u001b[0mmol1\u001b[0m \u001b[0;34m=\u001b[0m \u001b[0mcopy\u001b[0m\u001b[0;34m.\u001b[0m\u001b[0mdeepcopy\u001b[0m\u001b[0;34m(\u001b[0m\u001b[0mmol\u001b[0m\u001b[0;34m)\u001b[0m\u001b[0;34m\u001b[0m\u001b[0;34m\u001b[0m\u001b[0m\n\u001b[0m\u001b[1;32m     13\u001b[0m         \u001b[0mmol1\u001b[0m\u001b[0;34m.\u001b[0m\u001b[0mdropFrames\u001b[0m\u001b[0;34m(\u001b[0m\u001b[0mkeep\u001b[0m\u001b[0;34m=\u001b[0m\u001b[0;34m[\u001b[0m\u001b[0mi\u001b[0m\u001b[0;34m]\u001b[0m\u001b[0;34m)\u001b[0m\u001b[0;34m\u001b[0m\u001b[0;34m\u001b[0m\u001b[0m\n\u001b[1;32m     14\u001b[0m \u001b[0;34m\u001b[0m\u001b[0m\n",
      "\u001b[0;31mNameError\u001b[0m: name 'mol' is not defined"
     ]
    }
   ],
   "source": [
    "import copy\n",
    "\n",
    "min_rmsd = 0\n",
    "max_rmsd = 1\n",
    "stop = False\n",
    "level = 0\n",
    "rmsds_dict = {}\n",
    "\n",
    "while stop == False:\n",
    "    stop = True\n",
    "    for i in range(64):\n",
    "        mol1 = copy.deepcopy(mol)\n",
    "        mol1.dropFrames(keep=[i])\n",
    "\n",
    "\n",
    "        mol1.align('name CA', refmol=ref_mol)\n",
    "        rmsd_proj = MetricRmsd(ref_mol, 'name CA', centerstr='name CA', pbc=False)\n",
    "        rmsd = rmsd_proj.project(mol1)\n",
    "\n",
    "        if min_rmsd <= rmsd <= max_rmsd:\n",
    "            rmsds_dict['level'+str(level + 1)] = rmsd.item()\n",
    "            print(rmsd)\n",
    "            min_rmsd += 1\n",
    "            max_rmsd += 1\n",
    "            stop = False       \n",
    "            path = '/workspace7/torchmd-AD/train_curriculum/cln/levels/level' + str(level)\n",
    "            #os.mkdir(path)\n",
    "            mol1.write(os.path.join(path, 'chignolin_cln025.xtc' ))\n",
    "            level += 1\n",
    "    \n",
    "    "
   ]
  },
  {
   "cell_type": "code",
   "execution_count": 96,
   "id": "02232c10-b396-4b96-9fac-a8aa71596a24",
   "metadata": {},
   "outputs": [
    {
     "data": {
      "text/html": [
       "<div>\n",
       "<style scoped>\n",
       "    .dataframe tbody tr th:only-of-type {\n",
       "        vertical-align: middle;\n",
       "    }\n",
       "\n",
       "    .dataframe tbody tr th {\n",
       "        vertical-align: top;\n",
       "    }\n",
       "\n",
       "    .dataframe thead th {\n",
       "        text-align: right;\n",
       "    }\n",
       "</style>\n",
       "<table border=\"1\" class=\"dataframe\">\n",
       "  <thead>\n",
       "    <tr style=\"text-align: right;\">\n",
       "      <th></th>\n",
       "      <th>starting rmsd</th>\n",
       "    </tr>\n",
       "  </thead>\n",
       "  <tbody>\n",
       "    <tr>\n",
       "      <th>level1</th>\n",
       "      <td>0.873917</td>\n",
       "    </tr>\n",
       "    <tr>\n",
       "      <th>level2</th>\n",
       "      <td>1.463428</td>\n",
       "    </tr>\n",
       "    <tr>\n",
       "      <th>level3</th>\n",
       "      <td>2.858741</td>\n",
       "    </tr>\n",
       "    <tr>\n",
       "      <th>level4</th>\n",
       "      <td>3.779713</td>\n",
       "    </tr>\n",
       "    <tr>\n",
       "      <th>level5</th>\n",
       "      <td>4.009621</td>\n",
       "    </tr>\n",
       "    <tr>\n",
       "      <th>level6</th>\n",
       "      <td>5.704338</td>\n",
       "    </tr>\n",
       "    <tr>\n",
       "      <th>level7</th>\n",
       "      <td>6.318629</td>\n",
       "    </tr>\n",
       "  </tbody>\n",
       "</table>\n",
       "</div>"
      ],
      "text/plain": [
       "        starting rmsd\n",
       "level1       0.873917\n",
       "level2       1.463428\n",
       "level3       2.858741\n",
       "level4       3.779713\n",
       "level5       4.009621\n",
       "level6       5.704338\n",
       "level7       6.318629"
      ]
     },
     "execution_count": 96,
     "metadata": {},
     "output_type": "execute_result"
    }
   ],
   "source": [
    "import pandas as pd\n",
    "pd.DataFrame.from_dict(rmsds_dict, orient='index', columns = ['starting rmsd'])"
   ]
  },
  {
   "cell_type": "code",
   "execution_count": 21,
   "id": "1fe51fb2-2cd2-4575-a7f9-9ff987f74c5a",
   "metadata": {},
   "outputs": [
    {
     "ename": "NameError",
     "evalue": "name 'mol_curriculum' is not defined",
     "output_type": "error",
     "traceback": [
      "\u001b[0;31m---------------------------------------------------------------------------\u001b[0m",
      "\u001b[0;31mNameError\u001b[0m                                 Traceback (most recent call last)",
      "\u001b[0;32m/tmp/ipykernel_39015/3306444290.py\u001b[0m in \u001b[0;36m<module>\u001b[0;34m\u001b[0m\n\u001b[0;32m----> 1\u001b[0;31m \u001b[0mmol_curriculum\u001b[0m\u001b[0;34m.\u001b[0m\u001b[0mwrite\u001b[0m\u001b[0;34m(\u001b[0m\u001b[0;34m'/workspace7/torchmd-AD/train_curriculum/cln/psf/chignolin_cln025.psf'\u001b[0m\u001b[0;34m)\u001b[0m\u001b[0;34m\u001b[0m\u001b[0;34m\u001b[0m\u001b[0m\n\u001b[0m\u001b[1;32m      2\u001b[0m \u001b[0mmol_curriculum\u001b[0m\u001b[0;34m.\u001b[0m\u001b[0mwrite\u001b[0m\u001b[0;34m(\u001b[0m\u001b[0;34m'/workspace7/torchmd-AD/train_curriculum/cln/xtc/chignolin_cln025.xtc'\u001b[0m\u001b[0;34m)\u001b[0m\u001b[0;34m\u001b[0m\u001b[0;34m\u001b[0m\u001b[0m\n",
      "\u001b[0;31mNameError\u001b[0m: name 'mol_curriculum' is not defined"
     ]
    }
   ],
   "source": [
    "mol_curriculum.write('/workspace7/torchmd-AD/train_curriculum/cln/psf/chignolin_cln025.psf')\n",
    "mol_curriculum.write('/workspace7/torchmd-AD/train_curriculum/cln/xtc/chignolin_cln025.xtc')"
   ]
  },
  {
   "cell_type": "markdown",
   "id": "322e44ff-8334-4b51-82ea-de927dffff67",
   "metadata": {},
   "source": [
    "## Create levels with multiple starting conformations"
   ]
  },
  {
   "cell_type": "code",
   "execution_count": 3,
   "id": "5348a874-e83a-4711-931c-3af92b96d818",
   "metadata": {},
   "outputs": [],
   "source": [
    "from moleculekit.molecule import Molecule\n",
    "import os\n",
    "import importlib\n",
    "from torchmdexp.losses.rmsd import rmsd\n",
    "from torchmdexp.losses.tmscore import tm_score\n",
    "from torchmdexp.samplers.utils import get_native_coords, get_embeddings\n",
    "from moleculekit.projections.metricrmsd import MetricRmsd\n",
    "from moleculekit.projections.metrictmscore import MetricTMscore\n",
    "import numpy as np\n",
    "import torch"
   ]
  },
  {
   "cell_type": "code",
   "execution_count": 70,
   "id": "6fc3f7b4-a2d9-4824-89a1-c373d011be50",
   "metadata": {},
   "outputs": [
    {
     "data": {
      "text/plain": [
       "array([], dtype=int32)"
      ]
     },
     "execution_count": 70,
     "metadata": {},
     "output_type": "execute_result"
    }
   ],
   "source": [
    "# Reference Molecule\n",
    "prot = 'lambda_ca'\n",
    "name = 'lambda'\n",
    "\n",
    "mol = Molecule(f'/shared/carles/torchmd-exp/data/{name}/{name}_ca_top_dih.psf')\n",
    "ref_mol = Molecule(f'/shared/carles/torchmd-exp/data/{name}/{name}_ca.pdb')\n",
    "\n",
    "\n",
    "# Read the array with trajectory data\n",
    "\n",
    "mol = Molecule(f'/shared/carles/torchmd-exp/data/{name}/{name}_ca_top_dih.psf')\n",
    "arr = np.load(f'/workspace2/fast_folders_cgnet/multiprotein/data_dih/{prot}_coords_stride10.npy')[:1000000]\n",
    "mol.coords = np.moveaxis(arr, 0, -1)\n",
    "\n",
    "mol.filter('name CA')"
   ]
  },
  {
   "cell_type": "code",
   "execution_count": 71,
   "id": "75d123fe-6855-40de-95b4-cd0729ee00d3",
   "metadata": {},
   "outputs": [],
   "source": [
    "# Compute the rmsd of each frame against the reference structure\n",
    "mol.align('name CA', refmol=ref_mol)\n",
    "rmsd_proj = MetricRmsd(ref_mol, 'name CA', centerstr='name CA', pbc=False)\n",
    "rmsd = rmsd_proj.project(mol)"
   ]
  },
  {
   "cell_type": "code",
   "execution_count": 72,
   "id": "0eca974f-25ff-44bf-86c0-dd44a3dfabb5",
   "metadata": {},
   "outputs": [
    {
     "data": {
      "text/plain": [
       "(80, 3, 1000000)"
      ]
     },
     "execution_count": 72,
     "metadata": {},
     "output_type": "execute_result"
    }
   ],
   "source": [
    "mol.coords.shape\n",
    "#arr.shape"
   ]
  },
  {
   "cell_type": "code",
   "execution_count": 73,
   "id": "24c2538c-1ca7-4a1a-ae8d-fa142e322e12",
   "metadata": {},
   "outputs": [
    {
     "name": "stdout",
     "output_type": "stream",
     "text": [
      "2.573829\n",
      "(200, 80, 3)\n"
     ]
    }
   ],
   "source": [
    "# Sample frames for different levels and save them in levels folders\n",
    "from statistics import mean\n",
    "n_levels = int(1 // 1)\n",
    "min_rmsd = 0\n",
    "max_rmsd = 3\n",
    "\n",
    "path = '/workspace7/torchmd-AD/train_curriculum/fastfolders_contacts/level_0/init_states/'\n",
    "mol_frames = Molecule(f'/shared/carles/torchmd-exp/data/{name}/{name}_ca_top_dih.psf')\n",
    "\n",
    "for n in range(n_levels):\n",
    "    \n",
    "    indexes = np.where(np.logical_and(rmsd>=min_rmsd, rmsd<=max_rmsd))[0]\n",
    "    frames = arr[indexes, :, :][:200]\n",
    "    \n",
    "    print(mean(rmsd[indexes]))\n",
    "    print(frames.shape)\n",
    "    \n",
    "    directory = path\n",
    "    #os.mkdir(directory)\n",
    "    \n",
    "    mol_frames.coords = np.moveaxis(frames, 0, -1)\n",
    "    mol_frames.write(path + f'{prot}.xtc')\n",
    "    \n",
    "    #np.save(os.path.join(directory, 'ww_ca.npy'), frames)\n",
    "    #min_rmsd += 2\n",
    "    #max_rmsd += 2\n",
    "    \n",
    "    "
   ]
  },
  {
   "cell_type": "markdown",
   "id": "a92875bf-f5a9-4d67-952f-538824dfbf90",
   "metadata": {},
   "source": [
    "# Add folded conformations"
   ]
  },
  {
   "cell_type": "code",
   "execution_count": 89,
   "id": "640a460c-0d6c-4a8f-9898-d6e751b15385",
   "metadata": {},
   "outputs": [],
   "source": [
    "from moleculekit.molecule import Molecule\n",
    "import os\n",
    "import importlib\n",
    "from torchmdexp.losses.rmsd import rmsd\n",
    "from torchmdexp.losses.tmscore import tm_score\n",
    "from torchmdexp.samplers.utils import get_native_coords, get_embeddings\n",
    "from moleculekit.projections.metricrmsd import MetricRmsd\n",
    "from moleculekit.projections.metrictmscore import MetricTMscore\n",
    "import numpy as np\n",
    "import torch\n",
    "\n",
    "device = \"cuda:0\"\n",
    "precision = torch.float"
   ]
  },
  {
   "cell_type": "code",
   "execution_count": 86,
   "id": "31182ef9-1fdb-4a43-a9d4-837a3e77b9b0",
   "metadata": {},
   "outputs": [],
   "source": [
    "prot = 'lambda_ca'\n",
    "name = 'lambda'\n",
    "level = 0\n",
    "num = 32\n",
    "mol = Molecule(f'/shared/carles/torchmd-exp/data/{name}/{name}_ca_top_dih.psf')\n",
    "mol.read(f'/workspace7/torchmd-AD/train_curriculum/fastfolders_contacts/level_0/init_states/{prot}.xtc')\n",
    "ref_mol = Molecule(f'/shared/carles/torchmd-exp/data/{name}/{name}_ca.pdb')"
   ]
  },
  {
   "cell_type": "code",
   "execution_count": 47,
   "id": "93a38796-1184-4682-a816-c63a30c8d86b",
   "metadata": {
    "collapsed": true,
    "jupyter": {
     "outputs_hidden": true
    },
    "tags": []
   },
   "outputs": [
    {
     "name": "stdout",
     "output_type": "stream",
     "text": [
      "Starting rmsd:  1.9103952646255493 index 0\n",
      "Starting rmsd:  1.9679701328277588 index 1\n",
      "Starting rmsd:  1.8667999505996704 index 2\n",
      "Starting rmsd:  1.8043235540390015 index 3\n",
      "Starting rmsd:  1.8404288291931152 index 4\n",
      "Starting rmsd:  1.9307560920715332 index 5\n",
      "Starting rmsd:  0.9256690740585327 index 6\n",
      "Starting rmsd:  1.1236501932144165 index 7\n",
      "Starting rmsd:  1.2362557649612427 index 8\n",
      "Starting rmsd:  0.8981114029884338 index 9\n",
      "Starting rmsd:  1.243046760559082 index 10\n",
      "Starting rmsd:  0.855055034160614 index 11\n",
      "Starting rmsd:  0.7907766699790955 index 12\n",
      "Starting rmsd:  1.0606472492218018 index 13\n",
      "Starting rmsd:  1.1854370832443237 index 14\n",
      "Starting rmsd:  1.3230206966400146 index 15\n",
      "Starting rmsd:  0.8943288922309875 index 16\n",
      "Starting rmsd:  1.140515685081482 index 17\n",
      "Starting rmsd:  0.6264716982841492 index 18\n",
      "Starting rmsd:  1.0466814041137695 index 19\n",
      "Starting rmsd:  0.7556281089782715 index 20\n",
      "Starting rmsd:  1.0684744119644165 index 21\n",
      "Starting rmsd:  1.121641993522644 index 22\n",
      "Starting rmsd:  1.0015907287597656 index 23\n",
      "Starting rmsd:  1.000185251235962 index 24\n",
      "Starting rmsd:  1.073549747467041 index 25\n",
      "Starting rmsd:  0.997622549533844 index 26\n",
      "Starting rmsd:  1.1803170442581177 index 27\n",
      "Starting rmsd:  1.3557674884796143 index 28\n",
      "Starting rmsd:  1.0941026210784912 index 29\n",
      "Starting rmsd:  1.151310682296753 index 30\n",
      "Starting rmsd:  1.1865975856781006 index 31\n",
      "Starting rmsd:  1.0549110174179077 index 32\n",
      "Starting rmsd:  1.1022326946258545 index 33\n",
      "Starting rmsd:  1.0220720767974854 index 34\n",
      "Starting rmsd:  0.7435080409049988 index 35\n",
      "Starting rmsd:  1.0320466756820679 index 36\n",
      "Starting rmsd:  0.5780264139175415 index 37\n",
      "Starting rmsd:  0.9963539242744446 index 38\n",
      "Starting rmsd:  0.86240154504776 index 39\n",
      "Starting rmsd:  0.8558139801025391 index 40\n",
      "Starting rmsd:  0.9207499623298645 index 41\n",
      "Starting rmsd:  0.9139797687530518 index 42\n",
      "Starting rmsd:  0.9511842131614685 index 43\n",
      "Starting rmsd:  0.7767906785011292 index 44\n",
      "Starting rmsd:  0.9602556824684143 index 45\n",
      "Starting rmsd:  0.9054020643234253 index 46\n",
      "Starting rmsd:  1.1489218473434448 index 47\n",
      "Starting rmsd:  1.2171263694763184 index 48\n",
      "Starting rmsd:  1.3371130228042603 index 49\n",
      "Starting rmsd:  0.94488525390625 index 50\n",
      "Starting rmsd:  0.9712344408035278 index 51\n",
      "Starting rmsd:  0.9679182767868042 index 52\n",
      "Starting rmsd:  1.0163666009902954 index 53\n",
      "Starting rmsd:  0.790665864944458 index 54\n",
      "Starting rmsd:  1.0110327005386353 index 55\n",
      "Starting rmsd:  1.0105077028274536 index 56\n",
      "Starting rmsd:  0.8398556709289551 index 57\n",
      "Starting rmsd:  1.228592872619629 index 58\n",
      "Starting rmsd:  0.9919185638427734 index 59\n",
      "Starting rmsd:  0.793228805065155 index 60\n",
      "Starting rmsd:  0.634293794631958 index 61\n",
      "Starting rmsd:  0.9856067895889282 index 62\n",
      "Starting rmsd:  1.177780270576477 index 63\n",
      "Starting rmsd:  0.8562504053115845 index 64\n",
      "Starting rmsd:  0.9823788404464722 index 65\n",
      "Starting rmsd:  1.048060655593872 index 66\n",
      "Starting rmsd:  0.8719567656517029 index 67\n",
      "Starting rmsd:  1.0873618125915527 index 68\n",
      "Starting rmsd:  1.1224761009216309 index 69\n",
      "Starting rmsd:  1.0212045907974243 index 70\n",
      "Starting rmsd:  0.9605525732040405 index 71\n",
      "Starting rmsd:  1.1310627460479736 index 72\n",
      "Starting rmsd:  1.0137072801589966 index 73\n",
      "Starting rmsd:  0.7177874445915222 index 74\n",
      "Starting rmsd:  0.8050584197044373 index 75\n",
      "Starting rmsd:  0.8693841695785522 index 76\n",
      "Starting rmsd:  0.9962198138237 index 77\n",
      "Starting rmsd:  0.7057725191116333 index 78\n",
      "Starting rmsd:  0.7797138094902039 index 79\n",
      "Starting rmsd:  0.885320782661438 index 80\n",
      "Starting rmsd:  1.0427800416946411 index 81\n",
      "Starting rmsd:  1.0993103981018066 index 82\n",
      "Starting rmsd:  0.972532331943512 index 83\n",
      "Starting rmsd:  1.4444080591201782 index 84\n",
      "Starting rmsd:  0.8746731281280518 index 85\n",
      "Starting rmsd:  1.3409117460250854 index 86\n",
      "Starting rmsd:  0.8812800645828247 index 87\n",
      "Starting rmsd:  0.7475483417510986 index 88\n",
      "Starting rmsd:  0.7781506180763245 index 89\n",
      "Starting rmsd:  0.9038940072059631 index 90\n",
      "Starting rmsd:  1.1221354007720947 index 91\n",
      "Starting rmsd:  0.6297109723091125 index 92\n",
      "Starting rmsd:  0.8224070072174072 index 93\n",
      "Starting rmsd:  0.7458875775337219 index 94\n",
      "Starting rmsd:  0.7441140413284302 index 95\n",
      "Starting rmsd:  1.0644115209579468 index 96\n",
      "Starting rmsd:  0.994417130947113 index 97\n",
      "Starting rmsd:  1.006932020187378 index 98\n",
      "Starting rmsd:  0.9032536149024963 index 99\n",
      "Starting rmsd:  0.9638577103614807 index 100\n",
      "Starting rmsd:  0.6975072622299194 index 101\n",
      "Starting rmsd:  0.7911989688873291 index 102\n",
      "Starting rmsd:  1.2448817491531372 index 103\n",
      "Starting rmsd:  1.0941801071166992 index 104\n",
      "Starting rmsd:  1.0660786628723145 index 105\n",
      "Starting rmsd:  0.7451170682907104 index 106\n",
      "Starting rmsd:  0.943106472492218 index 107\n",
      "Starting rmsd:  0.8482483625411987 index 108\n",
      "Starting rmsd:  0.8130055665969849 index 109\n",
      "Starting rmsd:  1.215097427368164 index 110\n",
      "Starting rmsd:  0.9004364013671875 index 111\n",
      "Starting rmsd:  0.8112846612930298 index 112\n",
      "Starting rmsd:  1.0277820825576782 index 113\n",
      "Starting rmsd:  0.8401743173599243 index 114\n",
      "Starting rmsd:  0.8239250779151917 index 115\n",
      "Starting rmsd:  1.0997066497802734 index 116\n",
      "Starting rmsd:  0.707614004611969 index 117\n",
      "Starting rmsd:  1.1715034246444702 index 118\n",
      "Starting rmsd:  0.6493592858314514 index 119\n",
      "Starting rmsd:  0.9578316807746887 index 120\n",
      "Starting rmsd:  1.0924166440963745 index 121\n",
      "Starting rmsd:  0.8872053027153015 index 122\n",
      "Starting rmsd:  1.1348106861114502 index 123\n",
      "Starting rmsd:  1.1190601587295532 index 124\n",
      "Starting rmsd:  1.0527417659759521 index 125\n",
      "Starting rmsd:  1.2284451723098755 index 126\n",
      "Starting rmsd:  1.0559468269348145 index 127\n",
      "Starting rmsd:  0.3580288887023926 index 128\n",
      "Starting rmsd:  1.1237002611160278 index 129\n",
      "Starting rmsd:  1.0035747289657593 index 130\n",
      "Starting rmsd:  0.8591637015342712 index 131\n",
      "Starting rmsd:  1.00653874874115 index 132\n",
      "Starting rmsd:  0.8972892165184021 index 133\n",
      "Starting rmsd:  1.0462863445281982 index 134\n",
      "Starting rmsd:  1.123894453048706 index 135\n",
      "Starting rmsd:  0.8438693284988403 index 136\n",
      "Starting rmsd:  0.7633071541786194 index 137\n",
      "Starting rmsd:  0.882753312587738 index 138\n",
      "Starting rmsd:  0.814349889755249 index 139\n",
      "Starting rmsd:  1.0734175443649292 index 140\n",
      "Starting rmsd:  1.1335406303405762 index 141\n",
      "Starting rmsd:  1.2788907289505005 index 142\n",
      "Starting rmsd:  1.1135870218276978 index 143\n",
      "Starting rmsd:  0.9543778896331787 index 144\n",
      "Starting rmsd:  0.8169528841972351 index 145\n",
      "Starting rmsd:  1.0604469776153564 index 146\n",
      "Starting rmsd:  1.0258445739746094 index 147\n",
      "Starting rmsd:  0.8241015672683716 index 148\n",
      "Starting rmsd:  0.7563027143478394 index 149\n",
      "Starting rmsd:  0.9607939720153809 index 150\n",
      "Starting rmsd:  0.7726185321807861 index 151\n",
      "Starting rmsd:  0.6930640935897827 index 152\n",
      "Starting rmsd:  0.9496891498565674 index 153\n",
      "Starting rmsd:  0.9402248859405518 index 154\n",
      "Starting rmsd:  0.8786886930465698 index 155\n",
      "Starting rmsd:  0.9371280074119568 index 156\n",
      "Starting rmsd:  1.141121745109558 index 157\n",
      "Starting rmsd:  1.109287142753601 index 158\n",
      "Starting rmsd:  0.7858675122261047 index 159\n",
      "Starting rmsd:  0.9466729760169983 index 160\n",
      "Starting rmsd:  0.8333004117012024 index 161\n",
      "Starting rmsd:  1.1640958786010742 index 162\n",
      "Starting rmsd:  0.9507145881652832 index 163\n",
      "Starting rmsd:  0.9783679842948914 index 164\n",
      "Starting rmsd:  0.9694498181343079 index 165\n",
      "Starting rmsd:  0.8511865735054016 index 166\n",
      "Starting rmsd:  0.9092759490013123 index 167\n",
      "Starting rmsd:  1.1903965473175049 index 168\n",
      "Starting rmsd:  1.0933752059936523 index 169\n",
      "Starting rmsd:  0.9620895385742188 index 170\n",
      "Starting rmsd:  1.2125656604766846 index 171\n",
      "Starting rmsd:  1.3666669130325317 index 172\n",
      "Starting rmsd:  1.1826269626617432 index 173\n",
      "Starting rmsd:  1.0233073234558105 index 174\n",
      "Starting rmsd:  0.9605958461761475 index 175\n",
      "Starting rmsd:  0.9850701093673706 index 176\n",
      "Starting rmsd:  1.032779335975647 index 177\n",
      "Starting rmsd:  0.7842766046524048 index 178\n",
      "Starting rmsd:  1.214990258216858 index 179\n",
      "Starting rmsd:  1.176858901977539 index 180\n",
      "Starting rmsd:  0.7557664513587952 index 181\n",
      "Starting rmsd:  1.1724234819412231 index 182\n",
      "Starting rmsd:  0.8927934169769287 index 183\n",
      "Starting rmsd:  1.0487957000732422 index 184\n",
      "Starting rmsd:  0.972740113735199 index 185\n",
      "Starting rmsd:  1.2689167261123657 index 186\n",
      "Starting rmsd:  1.1709154844284058 index 187\n",
      "Starting rmsd:  0.7283669710159302 index 188\n",
      "Starting rmsd:  0.9580727219581604 index 189\n",
      "Starting rmsd:  1.091896414756775 index 190\n",
      "Starting rmsd:  1.0380361080169678 index 191\n",
      "Starting rmsd:  0.7851524353027344 index 192\n",
      "Starting rmsd:  0.6086033582687378 index 193\n",
      "Starting rmsd:  0.9475932717323303 index 194\n",
      "Starting rmsd:  1.7881165742874146 index 195\n",
      "Starting rmsd:  1.4121462106704712 index 196\n",
      "Starting rmsd:  1.615978717803955 index 197\n",
      "Starting rmsd:  1.2056866884231567 index 198\n",
      "Starting rmsd:  1.3060085773468018 index 199\n"
     ]
    },
    {
     "ename": "IndexError",
     "evalue": "index 200 is out of bounds for axis 2 with size 200",
     "output_type": "error",
     "traceback": [
      "\u001b[0;31m---------------------------------------------------------------------------\u001b[0m",
      "\u001b[0;31mIndexError\u001b[0m                                Traceback (most recent call last)",
      "\u001b[0;32m/tmp/ipykernel_125071/291151832.py\u001b[0m in \u001b[0;36m<module>\u001b[0;34m\u001b[0m\n\u001b[1;32m      5\u001b[0m     \u001b[0mref_mol\u001b[0m \u001b[0;34m=\u001b[0m \u001b[0mMolecule\u001b[0m\u001b[0;34m(\u001b[0m\u001b[0;34mf'/shared/carles/torchmd-exp/data/{name}/{name}_ca.pdb'\u001b[0m\u001b[0;34m)\u001b[0m\u001b[0;34m\u001b[0m\u001b[0;34m\u001b[0m\u001b[0m\n\u001b[1;32m      6\u001b[0m \u001b[0;34m\u001b[0m\u001b[0m\n\u001b[0;32m----> 7\u001b[0;31m     \u001b[0mmol\u001b[0m\u001b[0;34m.\u001b[0m\u001b[0mcoords\u001b[0m \u001b[0;34m=\u001b[0m \u001b[0mnp\u001b[0m\u001b[0;34m.\u001b[0m\u001b[0mexpand_dims\u001b[0m\u001b[0;34m(\u001b[0m\u001b[0mmol\u001b[0m\u001b[0;34m.\u001b[0m\u001b[0mcoords\u001b[0m\u001b[0;34m[\u001b[0m\u001b[0;34m:\u001b[0m\u001b[0;34m,\u001b[0m \u001b[0;34m:\u001b[0m \u001b[0;34m,\u001b[0m \u001b[0mi\u001b[0m\u001b[0;34m]\u001b[0m\u001b[0;34m,\u001b[0m \u001b[0maxis\u001b[0m\u001b[0;34m=\u001b[0m\u001b[0;34m-\u001b[0m\u001b[0;36m1\u001b[0m\u001b[0;34m)\u001b[0m\u001b[0;34m\u001b[0m\u001b[0;34m\u001b[0m\u001b[0m\n\u001b[0m\u001b[1;32m      8\u001b[0m     \u001b[0mmol\u001b[0m\u001b[0;34m.\u001b[0m\u001b[0mbox\u001b[0m \u001b[0;34m=\u001b[0m \u001b[0mnp\u001b[0m\u001b[0;34m.\u001b[0m\u001b[0mexpand_dims\u001b[0m\u001b[0;34m(\u001b[0m\u001b[0mmol\u001b[0m\u001b[0;34m.\u001b[0m\u001b[0mbox\u001b[0m\u001b[0;34m[\u001b[0m\u001b[0;34m:\u001b[0m\u001b[0;34m,\u001b[0m \u001b[0;36m0\u001b[0m\u001b[0;34m]\u001b[0m\u001b[0;34m,\u001b[0m \u001b[0maxis\u001b[0m\u001b[0;34m=\u001b[0m\u001b[0;34m-\u001b[0m\u001b[0;36m1\u001b[0m\u001b[0;34m)\u001b[0m\u001b[0;34m\u001b[0m\u001b[0;34m\u001b[0m\u001b[0m\n\u001b[1;32m      9\u001b[0m \u001b[0;34m\u001b[0m\u001b[0m\n",
      "\u001b[0;31mIndexError\u001b[0m: index 200 is out of bounds for axis 2 with size 200"
     ]
    }
   ],
   "source": [
    "for i in range(mol.coords.shape[2]):\n",
    "    mol = Molecule(f'/shared/carles/torchmd-exp/data/{name}/{name}_ca_top_dih.psf')\n",
    "    mol.read(f'/workspace7/torchmd-AD/train_curriculum/fastfolders_contacts/level_0/init_states/{prot}.xtc')\n",
    "    #mol.read(f'/shared/carles/torchmd-exp/data/{name}/{name}_{num}_unfolded_coords.xtc')\n",
    "    ref_mol = Molecule(f'/shared/carles/torchmd-exp/data/{name}/{name}_ca.pdb') \n",
    "    \n",
    "    mol.coords = np.expand_dims(mol.coords[:, : , i], axis=-1)\n",
    "    mol.box = np.expand_dims(mol.box[:, 0], axis=-1)\n",
    "\n",
    "\n",
    "    native_coords = get_native_coords(ref_mol, device)\n",
    "    native_coords = native_coords.type(precision)\n",
    "    coords = get_native_coords(mol, device)\n",
    "    coords = coords.type(precision)\n",
    "\n",
    "\n",
    "    print('Starting rmsd: ', rmsd(coords, native_coords).item(), f'index {i}')#, 'Starting log_rmsd: ', log_rmsd(coords, native_coords))\n",
    "    #print('Starting tmscore: ', tm_score(coords, native_coords), 'Starting l2_rmsd: ', l2_rmsd(coords, native_coords))"
   ]
  },
  {
   "cell_type": "code",
   "execution_count": 87,
   "id": "804c7815-7865-4dfa-bc18-826c8df0ebae",
   "metadata": {},
   "outputs": [],
   "source": [
    "num_folded = mol.coords.shape[2]\n",
    "for i in range(num_folded):\n",
    "    mol.coords = np.append(mol.coords, ref_mol.coords, axis=-1)"
   ]
  },
  {
   "cell_type": "code",
   "execution_count": 88,
   "id": "befeafe9-c8f0-46dd-b74c-37a562bdc74e",
   "metadata": {},
   "outputs": [],
   "source": [
    "mol.write(f'/workspace7/torchmd-AD/train_curriculum/fastfolders_half_native/level_0/init_states/{prot}.xtc')"
   ]
  },
  {
   "cell_type": "code",
   "execution_count": null,
   "id": "ba04cc5a-28a4-4125-86bb-819b34ec48e8",
   "metadata": {},
   "outputs": [],
   "source": []
  }
 ],
 "metadata": {
  "kernelspec": {
   "display_name": "torchmd-exp",
   "language": "python",
   "name": "torchmd-exp"
  },
  "language_info": {
   "codemirror_mode": {
    "name": "ipython",
    "version": 3
   },
   "file_extension": ".py",
   "mimetype": "text/x-python",
   "name": "python",
   "nbconvert_exporter": "python",
   "pygments_lexer": "ipython3",
   "version": "3.8.10"
  }
 },
 "nbformat": 4,
 "nbformat_minor": 5
}
