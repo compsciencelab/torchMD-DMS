{
 "cells": [
  {
   "cell_type": "code",
   "execution_count": 1,
   "id": "c624cb23-71a7-4c41-8d72-570b85508382",
   "metadata": {},
   "outputs": [],
   "source": [
    "from moleculekit.molecule import Molecule\n",
    "import os\n",
    "import importlib\n",
    "from torchmdexp.metrics.rmsd import rmsd\n",
    "from torchmdexp.metrics.l2_rmsd import l2_rmsd\n",
    "from torchmdexp.metrics.log_rmsd import log_rmsd\n",
    "from torchmdexp.metrics.tmscore import tm_score\n",
    "from torchmdexp.samplers.utils import get_native_coords, get_embeddings\n",
    "from moleculekit.projections.metricrmsd import MetricRmsd\n",
    "from moleculekit.projections.metrictmscore import MetricTMscore\n",
    "import numpy as np\n",
    "import torch\n",
    "from torchmdexp.metrics.native_contacts import q\n",
    "\n",
    "device = \"cuda:1\"\n",
    "precision = torch.float"
   ]
  },
  {
   "cell_type": "code",
   "execution_count": 2,
   "id": "4b15177c-44e9-4106-b49a-a783b1b3ffda",
   "metadata": {},
   "outputs": [],
   "source": [
    "ref_mol = Molecule('/shared/carles/repo/torchmd-exp/data/ww/ww_ca.pdb')\n",
    "ref_mol.read('/shared/carles/repo/torchmd-exp/data/ww/ww_ca_top_dih.psf')\n",
    "\n",
    "mol = ref_mol"
   ]
  },
  {
   "cell_type": "code",
   "execution_count": 3,
   "id": "d6b562dc-a145-4029-bea1-e9f008dd3694",
   "metadata": {},
   "outputs": [
    {
     "name": "stdout",
     "output_type": "stream",
     "text": [
      "Starting rmsd:  tensor(0.0037, device='cuda:1') Starting log_rmsd:  tensor(0.0036, device='cuda:1')\n",
      "Starting tmscore:  tensor(1.0000, device='cuda:1') Starting l2_rmsd:  tensor(0.4963, device='cuda:1')\n"
     ]
    }
   ],
   "source": [
    "native_coords = get_native_coords(ref_mol, device)\n",
    "native_coords = native_coords.type(precision)\n",
    "coords = get_native_coords(mol, device)\n",
    "coords = coords.type(precision)\n",
    "\n",
    "\n",
    "print('Starting rmsd: ', rmsd(coords, native_coords), 'Starting log_rmsd: ', log_rmsd(coords, native_coords))\n",
    "print('Starting tmscore: ', tm_score(coords, native_coords), 'Starting l2_rmsd: ', l2_rmsd(coords, native_coords))"
   ]
  },
  {
   "cell_type": "code",
   "execution_count": 17,
   "id": "844ec3f8-414d-42cd-b617-f9e5e4805e52",
   "metadata": {},
   "outputs": [],
   "source": [
    "from torchmd.forcefields.forcefield import ForceField\n",
    "from torchmd.parameters import Parameters\n",
    "\n",
    "\n",
    "ff = ForceField.create(mol, '/shared/carles/repo/torchmd-exp/data/ca_priors-dihedrals_general_5xweaker.yaml')\n",
    "parameters = Parameters(ff, mol, precision=precision, device=device)"
   ]
  },
  {
   "cell_type": "code",
   "execution_count": 18,
   "id": "257d53e3-d41b-4ae5-a13f-8818bd72b281",
   "metadata": {},
   "outputs": [],
   "source": [
    "from torchmd.integrator import maxwell_boltzmann\n",
    "from torchmd.systems import System\n",
    "\n",
    "system = System(mol.numAtoms, nreplicas=1, precision=precision, device=device)\n",
    "system.set_positions(mol.coords)\n",
    "system.set_box(mol.box)\n",
    "system.set_velocities(maxwell_boltzmann(parameters.masses, T=350, replicas=1))"
   ]
  },
  {
   "cell_type": "code",
   "execution_count": 19,
   "id": "a6a75c15-a290-4992-aded-210595784363",
   "metadata": {},
   "outputs": [
    {
     "data": {
      "text/plain": [
       "tensor([[19, 20,  8,  8,  2,  7,  6, 19, 18, 15, 12, 18, 12, 12,  2, 18, 14,  4,\n",
       "          4,  3,  9, 11, 21, 13,  9,  1, 12, 10,  7,  6, 18,  8, 12,  2]])"
      ]
     },
     "execution_count": 19,
     "metadata": {},
     "output_type": "execute_result"
    }
   ],
   "source": [
    "get_embeddings(mol, 'cpu', 1)"
   ]
  },
  {
   "cell_type": "code",
   "execution_count": 20,
   "id": "e8352fcd-c67d-4942-bf8f-629edd044476",
   "metadata": {},
   "outputs": [],
   "source": [
    "externalmodule = importlib.import_module('torchmdnet.calculators')\n",
    "#nnp = '/shared/carles/torchmd-exp/scripts/trainings/comparison/rmsd/betas/noise/2_layers_9_cutoff_400steps_limit3'\n",
    "#nnp += '/epoch=287-train_loss=2.2491-val_loss=2.6622.ckpt'\n",
    "\n",
    "nnp = '/shared/carles/torchmd-exp/scripts/trainings/comparison/rmsd/bbl/2_layers_9_cutoff/'\n",
    "nnp += 'epoch=437-train_loss=0.6593-val_loss=1.4174.ckpt'\n",
    "embeddings = torch.tensor([19, 20,  8,  8,  2,  7,  6, 19, 18, 15, 12, 18, 12, 12,  2, 18, 14,  4,\n",
    "          4,  3,  9, 11, 21, 13,  9,  1, 12, 10,  7,  6, 18,  8, 12,  2]).repeat(1, 1)\n",
    "external = externalmodule.External(nnp, embeddings, device)"
   ]
  },
  {
   "cell_type": "markdown",
   "id": "7438fc72-f524-4a36-b02b-101a893bbb32",
   "metadata": {},
   "source": [
    "## Compute non modified things"
   ]
  },
  {
   "cell_type": "code",
   "execution_count": 21,
   "id": "908ec2c0-2efd-4861-8d1e-b25262303f47",
   "metadata": {},
   "outputs": [
    {
     "name": "stdout",
     "output_type": "stream",
     "text": [
      "[152.59977984428406]\n",
      "tensor([[[ 6.7218,  1.5067,  5.7858],\n",
      "         [-0.2933, -3.6147, -5.8815],\n",
      "         [-5.3660,  5.8629,  1.1280],\n",
      "         [ 1.1177,  7.8655,  2.4290],\n",
      "         [-0.2801, -8.6959, -3.8507],\n",
      "         [ 0.3246,  0.1971,  3.8866],\n",
      "         [-0.8731, -3.1763, -0.4418],\n",
      "         [ 2.5349,  2.9720,  0.8734],\n",
      "         [-2.6751,  5.0233,  4.3055],\n",
      "         [ 5.0173, -3.7575, -0.3397],\n",
      "         [-4.4940,  1.5418, -5.5471],\n",
      "         [-1.9750, -2.3157,  3.9550],\n",
      "         [ 1.0775, -6.8574, -0.6831],\n",
      "         [-3.3446, -1.4422, -2.2691],\n",
      "         [ 4.5015,  3.8879,  0.3167],\n",
      "         [-0.6324, -2.4136, -1.2780],\n",
      "         [ 5.4973,  0.6497,  1.3289],\n",
      "         [-0.3193, -3.0437, -4.0570],\n",
      "         [ 2.5220,  2.8889,  2.3606],\n",
      "         [-2.8744, -3.0808,  0.1689],\n",
      "         [-1.1798,  1.2846, -2.8190],\n",
      "         [ 2.2826, -3.4899,  2.4782],\n",
      "         [-3.2264,  1.3754,  2.1837],\n",
      "         [-2.6728,  1.7922, -0.7993],\n",
      "         [ 0.6755,  0.7320, -1.4132],\n",
      "         [-3.5311,  0.0391,  0.0472],\n",
      "         [-2.8509, -3.1952,  4.3052],\n",
      "         [-0.5879,  3.5574, -1.1563],\n",
      "         [ 3.8520, -3.8315, -2.7969],\n",
      "         [-0.4827,  5.7903, -5.5921],\n",
      "         [ 4.1111, -0.2556,  3.0553],\n",
      "         [-5.3859, -0.2938,  0.2700],\n",
      "         [-3.3497, -0.1276,  1.3714],\n",
      "         [ 6.1588,  2.6247, -1.3247]]], device='cuda:1')\n"
     ]
    }
   ],
   "source": [
    "from torchmd.forces import Forces\n",
    "#external=None\n",
    "priors = ['bonds', 'repulsioncg', 'dihedrals']\n",
    "forces = Forces(parameters,terms=priors, cutoff=9, rfa=False, switch_dist=None, \n",
    "                external=external, exclusions = ('bonds')\n",
    "               )\n",
    "# Evaluate current energy and forces. Forces are modified in-place\n",
    "Epot = forces.compute(system.pos, system.box, system.forces, returnDetails=False)\n",
    "print(Epot)\n",
    "print(system.forces)"
   ]
  },
  {
   "cell_type": "markdown",
   "id": "d6cf36a3-b098-4272-9c83-db41a6082737",
   "metadata": {},
   "source": [
    "# Translation invariance"
   ]
  },
  {
   "cell_type": "code",
   "execution_count": 120,
   "id": "703612d8-ffd1-4ced-8caf-d3478fd5b429",
   "metadata": {},
   "outputs": [
    {
     "name": "stdout",
     "output_type": "stream",
     "text": [
      "[152.59974241256714]\n",
      "tensor([[[ 6.7218,  1.5067,  5.7858],\n",
      "         [-0.2933, -3.6147, -5.8815],\n",
      "         [-5.3660,  5.8629,  1.1280],\n",
      "         [ 1.1177,  7.8655,  2.4290],\n",
      "         [-0.2801, -8.6959, -3.8507],\n",
      "         [ 0.3246,  0.1971,  3.8866],\n",
      "         [-0.8731, -3.1763, -0.4418],\n",
      "         [ 2.5349,  2.9720,  0.8734],\n",
      "         [-2.6751,  5.0233,  4.3055],\n",
      "         [ 5.0173, -3.7575, -0.3397],\n",
      "         [-4.4940,  1.5418, -5.5471],\n",
      "         [-1.9750, -2.3157,  3.9550],\n",
      "         [ 1.0775, -6.8574, -0.6831],\n",
      "         [-3.3446, -1.4422, -2.2691],\n",
      "         [ 4.5015,  3.8879,  0.3167],\n",
      "         [-0.6324, -2.4136, -1.2780],\n",
      "         [ 5.4973,  0.6497,  1.3289],\n",
      "         [-0.3193, -3.0437, -4.0570],\n",
      "         [ 2.5220,  2.8889,  2.3606],\n",
      "         [-2.8744, -3.0808,  0.1689],\n",
      "         [-1.1798,  1.2846, -2.8190],\n",
      "         [ 2.2827, -3.4900,  2.4782],\n",
      "         [-3.2265,  1.3755,  2.1837],\n",
      "         [-2.6728,  1.7922, -0.7993],\n",
      "         [ 0.6755,  0.7320, -1.4132],\n",
      "         [-3.5311,  0.0391,  0.0472],\n",
      "         [-2.8509, -3.1952,  4.3052],\n",
      "         [-0.5879,  3.5574, -1.1563],\n",
      "         [ 3.8520, -3.8315, -2.7969],\n",
      "         [-0.4827,  5.7903, -5.5921],\n",
      "         [ 4.1111, -0.2556,  3.0553],\n",
      "         [-5.3859, -0.2938,  0.2700],\n",
      "         [-3.3497, -0.1276,  1.3714],\n",
      "         [ 6.1588,  2.6247, -1.3247]]], device='cuda:1')\n"
     ]
    }
   ],
   "source": [
    "system.pos = system.pos + torch.tensor([1, 2, 3], device=device)\n",
    "Epot = forces.compute(system.pos, system.box, system.forces, returnDetails=False)\n",
    "print(Epot)\n",
    "print(system.forces)"
   ]
  },
  {
   "cell_type": "markdown",
   "id": "6cc65eef-5eaa-4bb2-9511-f57c8e43eb3d",
   "metadata": {},
   "source": [
    "# Rotation equivariance"
   ]
  },
  {
   "cell_type": "code",
   "execution_count": 9,
   "id": "ff9a82ec-1317-48c4-83d3-33291010c143",
   "metadata": {},
   "outputs": [],
   "source": [
    "import scipy.spatial.transform as trans\n",
    "\n",
    "# rotate around x coord by 45 degrees and comput forces\n",
    "rot = trans.Rotation.from_euler(\"x\", 32, degrees=True)\n"
   ]
  },
  {
   "cell_type": "code",
   "execution_count": 128,
   "id": "720d09bf-29b4-44ca-b298-0265b734235c",
   "metadata": {},
   "outputs": [
    {
     "name": "stdout",
     "output_type": "stream",
     "text": [
      "[152.59752750396729]\n",
      "tensor([[[ 6.7227, -1.7885,  5.7060],\n",
      "         [-0.2942,  0.0510, -6.9045],\n",
      "         [-5.3663,  4.3742,  4.0634],\n",
      "         [ 1.1180,  5.3831,  6.2277],\n",
      "         [-0.2811, -5.3341, -7.8733],\n",
      "         [ 0.3255, -1.8928,  3.3999],\n",
      "         [-0.8745, -2.4584, -2.0583],\n",
      "         [ 2.5340,  2.0581,  2.3155],\n",
      "         [-2.6746,  1.9776,  6.3117],\n",
      "         [ 5.0172, -3.0064, -2.2779],\n",
      "         [-4.4944,  4.2473, -3.8871],\n",
      "         [-1.9748, -4.0603,  2.1264],\n",
      "         [ 1.0768, -5.4543, -4.2131],\n",
      "         [-3.3450, -0.0203, -2.6887],\n",
      "         [ 4.5023,  3.1301,  2.3290],\n",
      "         [-0.6323, -1.3698, -2.3623],\n",
      "         [ 5.4985, -0.1534,  1.4702],\n",
      "         [-0.3198, -0.4296, -5.0530],\n",
      "         [ 2.5215,  1.1988,  3.5334],\n",
      "         [-2.8734, -2.7017, -1.4892],\n",
      "         [-1.1796,  2.5824, -1.7094],\n",
      "         [ 2.2835, -4.2729,  0.2526],\n",
      "         [-3.2254,  0.0094,  2.5807],\n",
      "         [-2.6734,  1.9439,  0.2712],\n",
      "         [ 0.6746,  1.3695, -0.8102],\n",
      "         [-3.5314,  0.0086,  0.0608],\n",
      "         [-2.8506, -4.9919,  1.9583],\n",
      "         [-0.5881,  3.6297,  0.9048],\n",
      "         [ 3.8530, -1.7669, -4.4021],\n",
      "         [-0.4827,  7.8726, -1.6742],\n",
      "         [ 4.1102, -1.8351,  2.4563],\n",
      "         [-5.3858, -0.3930,  0.0720],\n",
      "         [-3.3485, -0.8343,  1.0958],\n",
      "         [ 6.1581,  2.9275,  0.2673]]], device='cuda:1')\n"
     ]
    }
   ],
   "source": [
    "# Compute forces and then rotate\n",
    "Epot = forces.compute(system.pos, system.box, system.forces, returnDetails=False)\n",
    "print(Epot)\n",
    "print(system.forces)\n"
   ]
  },
  {
   "cell_type": "code",
   "execution_count": 126,
   "id": "c0bf90bd-d6cd-4e10-b1d3-3339b3dc51d1",
   "metadata": {},
   "outputs": [
    {
     "data": {
      "text/plain": [
       "tensor([[ 6.7218, -1.7882,  5.7051],\n",
       "        [-0.2933,  0.0512, -6.9033],\n",
       "        [-5.3660,  4.3743,  4.0635],\n",
       "        [ 1.1177,  5.3831,  6.2280],\n",
       "        [-0.2801, -5.3340, -7.8737],\n",
       "        [ 0.3246, -1.8925,  3.4005],\n",
       "        [-0.8731, -2.4596, -2.0578],\n",
       "        [ 2.5349,  2.0575,  2.3156],\n",
       "        [-2.6751,  1.9785,  6.3132],\n",
       "        [ 5.0173, -3.0065, -2.2793],\n",
       "        [-4.4940,  4.2470, -3.8872],\n",
       "        [-1.9750, -4.0596,  2.1269],\n",
       "        [ 1.0775, -5.4534, -4.2132],\n",
       "        [-3.3446, -0.0206, -2.6886],\n",
       "        [ 4.5015,  3.1293,  2.3288],\n",
       "        [-0.6324, -1.3696, -2.3628],\n",
       "        [ 5.4973, -0.1532,  1.4712],\n",
       "        [-0.3193, -0.4313, -5.0534],\n",
       "        [ 2.5220,  1.1990,  3.5328],\n",
       "        [-2.8744, -2.7022, -1.4893],\n",
       "        [-1.1798,  2.5833, -1.7099],\n",
       "        [ 2.2827, -4.2730,  0.2523],\n",
       "        [-3.2265,  0.0093,  2.5808],\n",
       "        [-2.6728,  1.9434,  0.2719],\n",
       "        [ 0.6755,  1.3697, -0.8105],\n",
       "        [-3.5311,  0.0081,  0.0608],\n",
       "        [-2.8509, -4.9911,  1.9578],\n",
       "        [-0.5879,  3.6296,  0.9046],\n",
       "        [ 3.8520, -1.7671, -4.4023],\n",
       "        [-0.4827,  7.8738, -1.6739],\n",
       "        [ 4.1111, -1.8358,  2.4555],\n",
       "        [-5.3859, -0.3923,  0.0733],\n",
       "        [-3.3497, -0.8349,  1.0954],\n",
       "        [ 6.1588,  2.9278,  0.2675]], device='cuda:1', dtype=torch.float64)"
      ]
     },
     "execution_count": 126,
     "metadata": {},
     "output_type": "execute_result"
    }
   ],
   "source": [
    "torch.tensor(rot.apply(system.forces[0].cpu())).to(device)"
   ]
  },
  {
   "cell_type": "code",
   "execution_count": 26,
   "id": "e8bb0dc8-fc45-4b38-80a8-4fa84ba45834",
   "metadata": {},
   "outputs": [
    {
     "name": "stderr",
     "output_type": "stream",
     "text": [
      "/opt/conda/conda-bld/pytorch_1614378083779/work/aten/src/ATen/native/cuda/IndexKernel.cu:142: operator(): block: [0,0,0], thread: [32,0,0] Assertion `index >= -sizes[i] && index < sizes[i] && \"index out of bounds\"` failed.\n",
      "/opt/conda/conda-bld/pytorch_1614378083779/work/aten/src/ATen/native/cuda/IndexKernel.cu:142: operator(): block: [0,0,0], thread: [3,0,0] Assertion `index >= -sizes[i] && index < sizes[i] && \"index out of bounds\"` failed.\n",
      "/opt/conda/conda-bld/pytorch_1614378083779/work/aten/src/ATen/native/cuda/IndexKernel.cu:142: operator(): block: [0,0,0], thread: [4,0,0] Assertion `index >= -sizes[i] && index < sizes[i] && \"index out of bounds\"` failed.\n",
      "/opt/conda/conda-bld/pytorch_1614378083779/work/aten/src/ATen/native/cuda/IndexKernel.cu:142: operator(): block: [0,0,0], thread: [5,0,0] Assertion `index >= -sizes[i] && index < sizes[i] && \"index out of bounds\"` failed.\n",
      "/opt/conda/conda-bld/pytorch_1614378083779/work/aten/src/ATen/native/cuda/IndexKernel.cu:142: operator(): block: [0,0,0], thread: [6,0,0] Assertion `index >= -sizes[i] && index < sizes[i] && \"index out of bounds\"` failed.\n",
      "/opt/conda/conda-bld/pytorch_1614378083779/work/aten/src/ATen/native/cuda/IndexKernel.cu:142: operator(): block: [0,0,0], thread: [7,0,0] Assertion `index >= -sizes[i] && index < sizes[i] && \"index out of bounds\"` failed.\n",
      "/opt/conda/conda-bld/pytorch_1614378083779/work/aten/src/ATen/native/cuda/IndexKernel.cu:142: operator(): block: [0,0,0], thread: [8,0,0] Assertion `index >= -sizes[i] && index < sizes[i] && \"index out of bounds\"` failed.\n",
      "/opt/conda/conda-bld/pytorch_1614378083779/work/aten/src/ATen/native/cuda/IndexKernel.cu:142: operator(): block: [0,0,0], thread: [9,0,0] Assertion `index >= -sizes[i] && index < sizes[i] && \"index out of bounds\"` failed.\n",
      "/opt/conda/conda-bld/pytorch_1614378083779/work/aten/src/ATen/native/cuda/IndexKernel.cu:142: operator(): block: [0,0,0], thread: [10,0,0] Assertion `index >= -sizes[i] && index < sizes[i] && \"index out of bounds\"` failed.\n",
      "/opt/conda/conda-bld/pytorch_1614378083779/work/aten/src/ATen/native/cuda/IndexKernel.cu:142: operator(): block: [0,0,0], thread: [11,0,0] Assertion `index >= -sizes[i] && index < sizes[i] && \"index out of bounds\"` failed.\n",
      "/opt/conda/conda-bld/pytorch_1614378083779/work/aten/src/ATen/native/cuda/IndexKernel.cu:142: operator(): block: [0,0,0], thread: [12,0,0] Assertion `index >= -sizes[i] && index < sizes[i] && \"index out of bounds\"` failed.\n",
      "/opt/conda/conda-bld/pytorch_1614378083779/work/aten/src/ATen/native/cuda/IndexKernel.cu:142: operator(): block: [0,0,0], thread: [13,0,0] Assertion `index >= -sizes[i] && index < sizes[i] && \"index out of bounds\"` failed.\n",
      "/opt/conda/conda-bld/pytorch_1614378083779/work/aten/src/ATen/native/cuda/IndexKernel.cu:142: operator(): block: [0,0,0], thread: [14,0,0] Assertion `index >= -sizes[i] && index < sizes[i] && \"index out of bounds\"` failed.\n",
      "/opt/conda/conda-bld/pytorch_1614378083779/work/aten/src/ATen/native/cuda/IndexKernel.cu:142: operator(): block: [0,0,0], thread: [15,0,0] Assertion `index >= -sizes[i] && index < sizes[i] && \"index out of bounds\"` failed.\n",
      "/opt/conda/conda-bld/pytorch_1614378083779/work/aten/src/ATen/native/cuda/IndexKernel.cu:142: operator(): block: [0,0,0], thread: [16,0,0] Assertion `index >= -sizes[i] && index < sizes[i] && \"index out of bounds\"` failed.\n",
      "/opt/conda/conda-bld/pytorch_1614378083779/work/aten/src/ATen/native/cuda/IndexKernel.cu:142: operator(): block: [0,0,0], thread: [17,0,0] Assertion `index >= -sizes[i] && index < sizes[i] && \"index out of bounds\"` failed.\n",
      "/opt/conda/conda-bld/pytorch_1614378083779/work/aten/src/ATen/native/cuda/IndexKernel.cu:142: operator(): block: [0,0,0], thread: [18,0,0] Assertion `index >= -sizes[i] && index < sizes[i] && \"index out of bounds\"` failed.\n",
      "/opt/conda/conda-bld/pytorch_1614378083779/work/aten/src/ATen/native/cuda/IndexKernel.cu:142: operator(): block: [0,0,0], thread: [19,0,0] Assertion `index >= -sizes[i] && index < sizes[i] && \"index out of bounds\"` failed.\n",
      "/opt/conda/conda-bld/pytorch_1614378083779/work/aten/src/ATen/native/cuda/IndexKernel.cu:142: operator(): block: [0,0,0], thread: [20,0,0] Assertion `index >= -sizes[i] && index < sizes[i] && \"index out of bounds\"` failed.\n",
      "/opt/conda/conda-bld/pytorch_1614378083779/work/aten/src/ATen/native/cuda/IndexKernel.cu:142: operator(): block: [0,0,0], thread: [21,0,0] Assertion `index >= -sizes[i] && index < sizes[i] && \"index out of bounds\"` failed.\n",
      "/opt/conda/conda-bld/pytorch_1614378083779/work/aten/src/ATen/native/cuda/IndexKernel.cu:142: operator(): block: [0,0,0], thread: [22,0,0] Assertion `index >= -sizes[i] && index < sizes[i] && \"index out of bounds\"` failed.\n",
      "/opt/conda/conda-bld/pytorch_1614378083779/work/aten/src/ATen/native/cuda/IndexKernel.cu:142: operator(): block: [0,0,0], thread: [23,0,0] Assertion `index >= -sizes[i] && index < sizes[i] && \"index out of bounds\"` failed.\n",
      "/opt/conda/conda-bld/pytorch_1614378083779/work/aten/src/ATen/native/cuda/IndexKernel.cu:142: operator(): block: [0,0,0], thread: [24,0,0] Assertion `index >= -sizes[i] && index < sizes[i] && \"index out of bounds\"` failed.\n",
      "/opt/conda/conda-bld/pytorch_1614378083779/work/aten/src/ATen/native/cuda/IndexKernel.cu:142: operator(): block: [0,0,0], thread: [25,0,0] Assertion `index >= -sizes[i] && index < sizes[i] && \"index out of bounds\"` failed.\n",
      "/opt/conda/conda-bld/pytorch_1614378083779/work/aten/src/ATen/native/cuda/IndexKernel.cu:142: operator(): block: [0,0,0], thread: [26,0,0] Assertion `index >= -sizes[i] && index < sizes[i] && \"index out of bounds\"` failed.\n",
      "/opt/conda/conda-bld/pytorch_1614378083779/work/aten/src/ATen/native/cuda/IndexKernel.cu:142: operator(): block: [0,0,0], thread: [27,0,0] Assertion `index >= -sizes[i] && index < sizes[i] && \"index out of bounds\"` failed.\n",
      "/opt/conda/conda-bld/pytorch_1614378083779/work/aten/src/ATen/native/cuda/IndexKernel.cu:142: operator(): block: [0,0,0], thread: [28,0,0] Assertion `index >= -sizes[i] && index < sizes[i] && \"index out of bounds\"` failed.\n",
      "/opt/conda/conda-bld/pytorch_1614378083779/work/aten/src/ATen/native/cuda/IndexKernel.cu:142: operator(): block: [0,0,0], thread: [29,0,0] Assertion `index >= -sizes[i] && index < sizes[i] && \"index out of bounds\"` failed.\n",
      "/opt/conda/conda-bld/pytorch_1614378083779/work/aten/src/ATen/native/cuda/IndexKernel.cu:142: operator(): block: [0,0,0], thread: [30,0,0] Assertion `index >= -sizes[i] && index < sizes[i] && \"index out of bounds\"` failed.\n",
      "/opt/conda/conda-bld/pytorch_1614378083779/work/aten/src/ATen/native/cuda/IndexKernel.cu:142: operator(): block: [0,0,0], thread: [31,0,0] Assertion `index >= -sizes[i] && index < sizes[i] && \"index out of bounds\"` failed.\n"
     ]
    },
    {
     "ename": "RuntimeError",
     "evalue": "CUDA error: device-side assert triggered",
     "output_type": "error",
     "traceback": [
      "\u001b[0;31m---------------------------------------------------------------------------\u001b[0m",
      "\u001b[0;31mRuntimeError\u001b[0m                              Traceback (most recent call last)",
      "\u001b[0;32m/tmp/ipykernel_52720/1224917089.py\u001b[0m in \u001b[0;36m<module>\u001b[0;34m\u001b[0m\n\u001b[0;32m----> 1\u001b[0;31m \u001b[0mEpot\u001b[0m \u001b[0;34m=\u001b[0m \u001b[0mforces\u001b[0m\u001b[0;34m.\u001b[0m\u001b[0mcompute\u001b[0m\u001b[0;34m(\u001b[0m\u001b[0mrot_system\u001b[0m\u001b[0;34m,\u001b[0m \u001b[0msystem\u001b[0m\u001b[0;34m.\u001b[0m\u001b[0mbox\u001b[0m\u001b[0;34m,\u001b[0m \u001b[0msystem\u001b[0m\u001b[0;34m.\u001b[0m\u001b[0mforces\u001b[0m\u001b[0;34m,\u001b[0m \u001b[0mreturnDetails\u001b[0m\u001b[0;34m=\u001b[0m\u001b[0;32mFalse\u001b[0m\u001b[0;34m)\u001b[0m\u001b[0;34m\u001b[0m\u001b[0;34m\u001b[0m\u001b[0m\n\u001b[0m\u001b[1;32m      2\u001b[0m \u001b[0mprint\u001b[0m\u001b[0;34m(\u001b[0m\u001b[0mEpot\u001b[0m\u001b[0;34m)\u001b[0m\u001b[0;34m\u001b[0m\u001b[0;34m\u001b[0m\u001b[0m\n\u001b[1;32m      3\u001b[0m \u001b[0mprint\u001b[0m\u001b[0;34m(\u001b[0m\u001b[0msystem\u001b[0m\u001b[0;34m.\u001b[0m\u001b[0mforces\u001b[0m\u001b[0;34m)\u001b[0m\u001b[0;34m\u001b[0m\u001b[0;34m\u001b[0m\u001b[0m\n",
      "\u001b[0;32m/shared/carles/miniconda3/envs/torchmd-exp/lib/python3.8/site-packages/torchmd-0.0.2-py3.8.egg/torchmd/forces.py\u001b[0m in \u001b[0;36mcompute\u001b[0;34m(self, pos, box, forces, returnDetails, explicit_forces)\u001b[0m\n\u001b[1;32m    107\u001b[0m             \u001b[0;31m# TODO: We are for sure doing duplicate distance calculations here!\u001b[0m\u001b[0;34m\u001b[0m\u001b[0;34m\u001b[0m\u001b[0;34m\u001b[0m\u001b[0m\n\u001b[1;32m    108\u001b[0m             \u001b[0;32mif\u001b[0m \u001b[0;34m\"bonds\"\u001b[0m \u001b[0;32min\u001b[0m \u001b[0mself\u001b[0m\u001b[0;34m.\u001b[0m\u001b[0menergies\u001b[0m \u001b[0;32mand\u001b[0m \u001b[0mself\u001b[0m\u001b[0;34m.\u001b[0m\u001b[0mpar\u001b[0m\u001b[0;34m.\u001b[0m\u001b[0mbonds\u001b[0m \u001b[0;32mis\u001b[0m \u001b[0;32mnot\u001b[0m \u001b[0;32mNone\u001b[0m\u001b[0;34m:\u001b[0m\u001b[0;34m\u001b[0m\u001b[0;34m\u001b[0m\u001b[0m\n\u001b[0;32m--> 109\u001b[0;31m                 bond_dist, bond_unitvec, _ = calculate_distances(\n\u001b[0m\u001b[1;32m    110\u001b[0m                     \u001b[0mspos\u001b[0m\u001b[0;34m,\u001b[0m \u001b[0mself\u001b[0m\u001b[0;34m.\u001b[0m\u001b[0mpar\u001b[0m\u001b[0;34m.\u001b[0m\u001b[0mbonds\u001b[0m\u001b[0;34m,\u001b[0m \u001b[0msbox\u001b[0m\u001b[0;34m\u001b[0m\u001b[0;34m\u001b[0m\u001b[0m\n\u001b[1;32m    111\u001b[0m                 )\n",
      "\u001b[0;32m/shared/carles/miniconda3/envs/torchmd-exp/lib/python3.8/site-packages/torchmd-0.0.2-py3.8.egg/torchmd/forces.py\u001b[0m in \u001b[0;36mcalculate_distances\u001b[0;34m(atom_pos, atom_idx, box)\u001b[0m\n\u001b[1;32m    367\u001b[0m \u001b[0;34m\u001b[0m\u001b[0m\n\u001b[1;32m    368\u001b[0m \u001b[0;32mdef\u001b[0m \u001b[0mcalculate_distances\u001b[0m\u001b[0;34m(\u001b[0m\u001b[0matom_pos\u001b[0m\u001b[0;34m,\u001b[0m \u001b[0matom_idx\u001b[0m\u001b[0;34m,\u001b[0m \u001b[0mbox\u001b[0m\u001b[0;34m)\u001b[0m\u001b[0;34m:\u001b[0m\u001b[0;34m\u001b[0m\u001b[0;34m\u001b[0m\u001b[0m\n\u001b[0;32m--> 369\u001b[0;31m     \u001b[0mdirection_vec\u001b[0m \u001b[0;34m=\u001b[0m \u001b[0mwrap_dist\u001b[0m\u001b[0;34m(\u001b[0m\u001b[0matom_pos\u001b[0m\u001b[0;34m[\u001b[0m\u001b[0matom_idx\u001b[0m\u001b[0;34m[\u001b[0m\u001b[0;34m:\u001b[0m\u001b[0;34m,\u001b[0m \u001b[0;36m0\u001b[0m\u001b[0;34m]\u001b[0m\u001b[0;34m]\u001b[0m \u001b[0;34m-\u001b[0m \u001b[0matom_pos\u001b[0m\u001b[0;34m[\u001b[0m\u001b[0matom_idx\u001b[0m\u001b[0;34m[\u001b[0m\u001b[0;34m:\u001b[0m\u001b[0;34m,\u001b[0m \u001b[0;36m1\u001b[0m\u001b[0;34m]\u001b[0m\u001b[0;34m]\u001b[0m\u001b[0;34m,\u001b[0m \u001b[0mbox\u001b[0m\u001b[0;34m)\u001b[0m\u001b[0;34m\u001b[0m\u001b[0;34m\u001b[0m\u001b[0m\n\u001b[0m\u001b[1;32m    370\u001b[0m     \u001b[0mdist\u001b[0m \u001b[0;34m=\u001b[0m \u001b[0mtorch\u001b[0m\u001b[0;34m.\u001b[0m\u001b[0mnorm\u001b[0m\u001b[0;34m(\u001b[0m\u001b[0mdirection_vec\u001b[0m\u001b[0;34m,\u001b[0m \u001b[0mdim\u001b[0m\u001b[0;34m=\u001b[0m\u001b[0;36m1\u001b[0m\u001b[0;34m)\u001b[0m\u001b[0;34m\u001b[0m\u001b[0;34m\u001b[0m\u001b[0m\n\u001b[1;32m    371\u001b[0m     \u001b[0mdirection_unitvec\u001b[0m \u001b[0;34m=\u001b[0m \u001b[0mdirection_vec\u001b[0m \u001b[0;34m/\u001b[0m \u001b[0mdist\u001b[0m\u001b[0;34m.\u001b[0m\u001b[0munsqueeze\u001b[0m\u001b[0;34m(\u001b[0m\u001b[0;36m1\u001b[0m\u001b[0;34m)\u001b[0m\u001b[0;34m\u001b[0m\u001b[0;34m\u001b[0m\u001b[0m\n",
      "\u001b[0;32m/shared/carles/miniconda3/envs/torchmd-exp/lib/python3.8/site-packages/torchmd-0.0.2-py3.8.egg/torchmd/forces.py\u001b[0m in \u001b[0;36mwrap_dist\u001b[0;34m(dist, box)\u001b[0m\n\u001b[1;32m    359\u001b[0m \u001b[0;34m\u001b[0m\u001b[0m\n\u001b[1;32m    360\u001b[0m \u001b[0;32mdef\u001b[0m \u001b[0mwrap_dist\u001b[0m\u001b[0;34m(\u001b[0m\u001b[0mdist\u001b[0m\u001b[0;34m,\u001b[0m \u001b[0mbox\u001b[0m\u001b[0;34m)\u001b[0m\u001b[0;34m:\u001b[0m\u001b[0;34m\u001b[0m\u001b[0;34m\u001b[0m\u001b[0m\n\u001b[0;32m--> 361\u001b[0;31m     \u001b[0;32mif\u001b[0m \u001b[0mbox\u001b[0m \u001b[0;32mis\u001b[0m \u001b[0;32mNone\u001b[0m \u001b[0;32mor\u001b[0m \u001b[0mtorch\u001b[0m\u001b[0;34m.\u001b[0m\u001b[0mall\u001b[0m\u001b[0;34m(\u001b[0m\u001b[0mbox\u001b[0m \u001b[0;34m==\u001b[0m \u001b[0;36m0\u001b[0m\u001b[0;34m)\u001b[0m\u001b[0;34m:\u001b[0m\u001b[0;34m\u001b[0m\u001b[0;34m\u001b[0m\u001b[0m\n\u001b[0m\u001b[1;32m    362\u001b[0m         \u001b[0mwdist\u001b[0m \u001b[0;34m=\u001b[0m \u001b[0mdist\u001b[0m\u001b[0;34m\u001b[0m\u001b[0;34m\u001b[0m\u001b[0m\n\u001b[1;32m    363\u001b[0m     \u001b[0;32melse\u001b[0m\u001b[0;34m:\u001b[0m\u001b[0;34m\u001b[0m\u001b[0;34m\u001b[0m\u001b[0m\n",
      "\u001b[0;31mRuntimeError\u001b[0m: CUDA error: device-side assert triggered"
     ]
    }
   ],
   "source": [
    "Epot = forces.compute(rot_system, system.box, system.forces, returnDetails=False)\n",
    "print(Epot)\n",
    "print(system.forces)"
   ]
  },
  {
   "cell_type": "code",
   "execution_count": 25,
   "id": "0973bfd6-09c1-49a4-967c-2f9a125227e3",
   "metadata": {},
   "outputs": [],
   "source": [
    "rot_system = torch.tensor(rot.apply(system.pos[0].cpu())).to(device)"
   ]
  },
  {
   "cell_type": "code",
   "execution_count": null,
   "id": "6384d9a9-9547-42e1-880d-fadf7ef7ae74",
   "metadata": {},
   "outputs": [],
   "source": []
  }
 ],
 "metadata": {
  "kernelspec": {
   "display_name": "torchmd-exp",
   "language": "python",
   "name": "torchmd-exp"
  },
  "language_info": {
   "codemirror_mode": {
    "name": "ipython",
    "version": 3
   },
   "file_extension": ".py",
   "mimetype": "text/x-python",
   "name": "python",
   "nbconvert_exporter": "python",
   "pygments_lexer": "ipython3",
   "version": "3.8.10"
  }
 },
 "nbformat": 4,
 "nbformat_minor": 5
}
