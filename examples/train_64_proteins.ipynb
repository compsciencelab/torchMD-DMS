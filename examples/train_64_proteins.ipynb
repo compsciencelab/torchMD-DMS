{
 "cells": [
  {
   "cell_type": "markdown",
   "id": "ac293161-2227-4b13-932c-a8a3db8955c4",
   "metadata": {},
   "source": [
    "## Train 64 proteins with a single system"
   ]
  },
  {
   "cell_type": "markdown",
   "id": "eb75ae1f-1aff-4653-9bcf-fe16dc13812e",
   "metadata": {},
   "source": [
    "We have the protien names in `torchmd-exp/datasets/claudi_64_proteins.txt`. This file contains the proteins that we want to include in training, and the pdb files (a pdb file contains the coordinates of the atoms of the protein) are in `/workspace7/torchmd-AD/claudi_64_proteins/level_0/ground_truth`"
   ]
  },
  {
   "cell_type": "markdown",
   "id": "8d32077a-9d69-4ab6-8911-cdd2ad561e6b",
   "metadata": {},
   "source": [
    "In this case we have only level 0 because we are interested in simulate the 64 proteins at the same time and check the efficiency, not to train anything. "
   ]
  },
  {
   "cell_type": "markdown",
   "id": "c6779abc-0b4f-4456-8b0d-217756e22a58",
   "metadata": {},
   "source": [
    "The file with the arguments is the following:"
   ]
  },
  {
   "cell_type": "markdown",
   "id": "0fc365ec-a257-4520-bbbc-e3557d75610b",
   "metadata": {},
   "source": [
    "```yaml\n",
    "activation: tanh\n",
    "atom_filter: -1\n",
    "batch_size: 1\n",
    "ubatch_size: 1\n",
    "cutoff_lower: 3.0\n",
    "cutoff_upper: 12.0\n",
    "cutoff: 9\n",
    "reference_dir: '/workspace7/torchmd-AD/claudi_64_proteins'\n",
    "levels_dir: '/workspace7/torchmd-AD/claudi_64_proteins'\n",
    "derivative: True\n",
    "device: 'cuda:0'\n",
    "embedding_dimension: 128\n",
    "exclusions: ('bonds')\n",
    "forcefield: '/shared/carles/repo/torchmd-exp/data/ca_priors-dihedrals_general.yaml'\n",
    "forceterms: \n",
    "    - bonds\n",
    "    - repulsioncg \n",
    "    - dihedrals\n",
    "last_sn: False\n",
    "lr: 5.e-5\n",
    "log_dir: 'train_64_proteins'\n",
    "max_steps: 400\n",
    "output_period: 10\n",
    "max_num_neighbors: 128\n",
    "max_z: 100\n",
    "neighbor_embedding: False\n",
    "neff: 0.9\n",
    "ngpus: -1\n",
    "num_filters: 256\n",
    "num_layers: 4\n",
    "num_nodes: 1\n",
    "num_rbf: 18\n",
    "reduce_op: add\n",
    "precision: 32\n",
    "rbf_type: expnorm\n",
    "replicas: 1\n",
    "seed: 200\n",
    "train_set: claudi_64_proteins.txt\n",
    "trainable_rbf: True\n",
    "timestep: 5\n",
    "```"
   ]
  },
  {
   "cell_type": "markdown",
   "id": "be54a078-da76-4dd7-889f-9e8918c41811",
   "metadata": {},
   "source": [
    "Relevant parameters in the `train.yaml` file:\n",
    "* `reference_dir`: directory where we have the pdb files\n",
    "* `levels_dir`: this is the directory with the files with coordinates of each level, as we start the simulations from the folded structure (the coordinates in the pdb file) it is the same as reference\n",
    "* `log_dir`: directory where the monitor.csv file will be saved\n",
    "* `max_steps`: number of steps of the simulation. You can set it to a higher number if you are interested.\n",
    "* `output_period`: steps to save a new conformation. If it is 10 we will save a conformation every 10 steps\n",
    "* `train_set`: the file with the names of the proteins that are in the reference_dir\n",
    "* `timestep`: timestep of the simulation, this is the time increment. (x = x_0 + v*timestep) with a small timestep the simulation will be smooth, but the sampled conformation will be more similar between them, but with a too high timestep the simulation may be unstable and explote"
   ]
  },
  {
   "cell_type": "markdown",
   "id": "f69b851a-95b2-447f-aacc-e5f598d223ed",
   "metadata": {},
   "source": [
    "Now we can run the training:\n",
    "\n",
    "mkdir train_64_claudi\n",
    "python $PATH/torchmd-exp/scripts/train_protein_folding/torchmd/train.py --conf train.yaml\n",
    "\n",
    "where `$PATH` is the path of your `torchmd-exp` repo"
   ]
  },
  {
   "cell_type": "code",
   "execution_count": null,
   "id": "8b41f67f-cc27-466b-9939-4aa35b76e476",
   "metadata": {},
   "outputs": [],
   "source": []
  }
 ],
 "metadata": {
  "kernelspec": {
   "display_name": "torchmd-exp",
   "language": "python",
   "name": "torchmd-exp"
  },
  "language_info": {
   "codemirror_mode": {
    "name": "ipython",
    "version": 3
   },
   "file_extension": ".py",
   "mimetype": "text/x-python",
   "name": "python",
   "nbconvert_exporter": "python",
   "pygments_lexer": "ipython3",
   "version": "3.8.10"
  }
 },
 "nbformat": 4,
 "nbformat_minor": 5
}
