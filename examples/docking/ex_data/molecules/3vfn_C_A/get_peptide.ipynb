{
 "cells": [
  {
   "cell_type": "markdown",
   "id": "8057d4f2-f5fa-4fdb-90c3-b15f592e9faa",
   "metadata": {
    "tags": []
   },
   "source": [
    "# Get peptide molecule for training"
   ]
  },
  {
   "cell_type": "code",
   "execution_count": 1,
   "id": "08cdfcf5-81de-4727-a394-9259c278675d",
   "metadata": {},
   "outputs": [
    {
     "name": "stdout",
     "output_type": "stream",
     "text": [
      "--2022-07-28 08:46:28--  http://bioinfo.dcc.ufmg.br/propedia/public/pdb/structures/complex/3vfn_C_A.pdb\n",
      "Resolving bioinfo.dcc.ufmg.br (bioinfo.dcc.ufmg.br)... 150.164.203.91\n",
      "Connecting to bioinfo.dcc.ufmg.br (bioinfo.dcc.ufmg.br)|150.164.203.91|:80... connected.\n",
      "HTTP request sent, awaiting response... 200 OK\n",
      "Length: 190512 (186K) [chemical/x-pdb]\n",
      "Saving to: ‘3vfn_C_A.pdb’\n",
      "\n",
      "3vfn_C_A.pdb        100%[===================>] 186.05K   458KB/s    in 0.4s    \n",
      "\n",
      "2022-07-28 08:46:28 (458 KB/s) - ‘3vfn_C_A.pdb’ saved [190512/190512]\n",
      "\n"
     ]
    }
   ],
   "source": [
    "import os\n",
    "\n",
    "url = 'http://bioinfo.dcc.ufmg.br/propedia/public/pdb/structures/complex/3hpj_C_A.pdb'\n",
    "\n",
    "\n",
    "!wget 'http://bioinfo.dcc.ufmg.br/propedia/public/pdb/structures/complex/3vfn_C_A.pdb'\n",
    "\n",
    "try:\n",
    "    os.mkdir('all_atom')\n",
    "except FileExistsError:\n",
    "    pass\n",
    "\n",
    "!mv *.pdb all_atom/"
   ]
  },
  {
   "cell_type": "code",
   "execution_count": 2,
   "id": "51b3ea6f-75c3-4f18-abaf-08d8de80e8bf",
   "metadata": {
    "jupyter": {
     "source_hidden": true
    },
    "tags": []
   },
   "outputs": [],
   "source": [
    "from torchmdexp.datasets.utils import CA_MAP\n",
    "import numpy as np\n",
    "\n",
    "def pdb2psf_CA(mol, bonds=True, angles=True, dihedrals=True):\n",
    "\n",
    "    n = mol.numAtoms\n",
    "\n",
    "    atom_types = []\n",
    "    for i in range(n):\n",
    "        atom_types.append(CA_MAP[(mol.resname[i], mol.name[i])])\n",
    "\n",
    "    if bonds:\n",
    "        bonds = np.concatenate(\n",
    "            (\n",
    "                np.arange(n - 1).reshape([n - 1, 1]),\n",
    "                (np.arange(1, n).reshape([n - 1, 1])),\n",
    "            ),\n",
    "            axis=1,\n",
    "        )\n",
    "    else:\n",
    "        bonds = np.empty([0, 2], dtype=np.int32)\n",
    "\n",
    "    if angles:\n",
    "        angles = np.concatenate(\n",
    "            (\n",
    "                np.arange(n - 2).reshape([n - 2, 1]),\n",
    "                (np.arange(1, n - 1).reshape([n - 2, 1])),\n",
    "                (np.arange(2, n).reshape([n - 2, 1])),\n",
    "            ),\n",
    "            axis=1,\n",
    "        )\n",
    "    else:\n",
    "        angles = np.empty([0, 3], dtype=np.int32)\n",
    "\n",
    "    if dihedrals:\n",
    "\n",
    "        dihedrals = np.concatenate(\n",
    "            (\n",
    "                np.arange(n - 3).reshape([n - 3, 1]),\n",
    "                (np.arange(1, n - 2).reshape([n - 3, 1])),\n",
    "                (np.arange(2, n - 1).reshape([n - 3, 1])),\n",
    "                (np.arange(3, n).reshape([n - 3, 1])),\n",
    "            ),\n",
    "            axis = 1,\n",
    "        )\n",
    "    else:\n",
    "        dihedrals = np.empty([0, 4], dtype=np.int32)\n",
    "\n",
    "    mol.atomtype = np.array(atom_types)\n",
    "    mol.bonds = bonds\n",
    "    mol.angles = angles\n",
    "    mol.dihedrals = dihedrals\n",
    "\n",
    "    return mol"
   ]
  },
  {
   "cell_type": "code",
   "execution_count": 3,
   "id": "07d68183-824c-4107-be49-5eacc003e5ae",
   "metadata": {},
   "outputs": [
    {
     "name": "stderr",
     "output_type": "stream",
     "text": [
      "2022-07-28 08:46:40,017 - moleculekit.molecule - INFO - Removed 2063 atoms. 289 atoms remaining in the molecule.\n"
     ]
    }
   ],
   "source": [
    "from moleculekit.molecule import Molecule\n",
    "\n",
    "\n",
    "try:\n",
    "    os.makedirs('CA/levels/level_0/ground_truth')\n",
    "except FileExistsError:\n",
    "    pass\n",
    "\n",
    "try:\n",
    "    os.makedirs('CA/topologies')\n",
    "except FileExistsError:\n",
    "    pass\n",
    "\n",
    "def listdir_nohidden(path):\n",
    "    for f in os.listdir(path):\n",
    "        if not f.startswith('.'):\n",
    "            yield os.path.splitext(f)[0]\n",
    "\n",
    "names = [name.lstrip() for name in listdir_nohidden('all_atom')]\n",
    "name_paths = [os.path.join('all_atom', name + '.pdb') for name in names]\n",
    "\n",
    "\n",
    "mols = [Molecule(os.path.join(name_path)) for name_path in name_paths]\n",
    "\n",
    "for mol, name in zip(mols, names):\n",
    "    mol.filter('name CA')\n",
    "    mol.write(os.path.join('CA/levels/level_0/ground_truth', name + '.pdb'))\n",
    "    \n",
    "    topo = pdb2psf_CA(mol, angles=False)\n",
    "    topo.write(os.path.join('CA/topologies', name + '.psf'))"
   ]
  }
 ],
 "metadata": {
  "kernelspec": {
   "display_name": "torchmd-exp",
   "language": "python",
   "name": "torchmd-exp"
  },
  "language_info": {
   "codemirror_mode": {
    "name": "ipython",
    "version": 3
   },
   "file_extension": ".py",
   "mimetype": "text/x-python",
   "name": "python",
   "nbconvert_exporter": "python",
   "pygments_lexer": "ipython3",
   "version": "3.9.0"
  }
 },
 "nbformat": 4,
 "nbformat_minor": 5
}
