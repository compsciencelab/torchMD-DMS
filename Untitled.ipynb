{
 "cells": [
  {
   "cell_type": "code",
   "execution_count": 1,
   "id": "c47e8e73-f602-45aa-9068-1a8672a582bd",
   "metadata": {},
   "outputs": [],
   "source": [
    "import torch\n",
    "import argparse\n",
    "from moleculekit.molecule import Molecule\n",
    "import numpy as np"
   ]
  },
  {
   "cell_type": "code",
   "execution_count": 2,
   "id": "8c4c78af-cc16-4686-872c-2948fa0115e3",
   "metadata": {},
   "outputs": [],
   "source": [
    "molecule = '/workspace7/torchmd-AD/train_val_pdb/train/3ABF_A.pdb'"
   ]
  },
  {
   "cell_type": "code",
   "execution_count": 6,
   "id": "c7b24ac6-3da5-49b0-a1be-8d241eb43f6a",
   "metadata": {},
   "outputs": [],
   "source": [
    "mol = Molecule(molecule)"
   ]
  },
  {
   "cell_type": "code",
   "execution_count": 9,
   "id": "beedd8a4-5949-44b6-a097-dfd61aa203f6",
   "metadata": {},
   "outputs": [
    {
     "data": {
      "text/plain": [
       "{}"
      ]
     },
     "execution_count": 9,
     "metadata": {},
     "output_type": "execute_result"
    }
   ],
   "source": [
    "mol.crystalinfo"
   ]
  },
  {
   "cell_type": "code",
   "execution_count": 17,
   "id": "a02b89ea-685c-493f-b3b5-94cd12bae677",
   "metadata": {},
   "outputs": [
    {
     "data": {
      "text/plain": [
       "<moleculekit.molecule.Molecule object at 0x7feb243a6b38>\n",
       "Molecule with 512 atoms and 1 frames\n",
       "Atom field - altloc shape: (512,)\n",
       "Atom field - atomtype shape: (512,)\n",
       "Atom field - beta shape: (512,)\n",
       "Atom field - chain shape: (512,)\n",
       "Atom field - charge shape: (512,)\n",
       "Atom field - coords shape: (512, 3, 1)\n",
       "Atom field - element shape: (512,)\n",
       "Atom field - insertion shape: (512,)\n",
       "Atom field - masses shape: (512,)\n",
       "Atom field - name shape: (512,)\n",
       "Atom field - occupancy shape: (512,)\n",
       "Atom field - record shape: (512,)\n",
       "Atom field - resid shape: (512,)\n",
       "Atom field - resname shape: (512,)\n",
       "Atom field - segid shape: (512,)\n",
       "Atom field - serial shape: (512,)\n",
       "angles shape: (0, 3)\n",
       "bonds shape: (0, 2)\n",
       "bondtype shape: (0,)\n",
       "box shape: (3, 1)\n",
       "boxangles shape: (3, 1)\n",
       "crystalinfo: {}\n",
       "dihedrals shape: (0, 4)\n",
       "fileloc shape: (1, 2)\n",
       "impropers shape: (0, 4)\n",
       "reps: \n",
       "ssbonds shape: (0,)\n",
       "step shape: (1,)\n",
       "time shape: (1,)\n",
       "topoloc: /workspace7/torchmd-AD/train_val_pdb/train/3ABF_A.pdb\n",
       "viewname: 3ABF_A.pdb"
      ]
     },
     "execution_count": 17,
     "metadata": {},
     "output_type": "execute_result"
    }
   ],
   "source": [
    "mol"
   ]
  },
  {
   "cell_type": "code",
   "execution_count": 18,
   "id": "dac9a9e5-f75f-4988-abb7-382ef97bb55d",
   "metadata": {},
   "outputs": [
    {
     "data": {
      "text/plain": [
       "[3, 4]"
      ]
     },
     "execution_count": 18,
     "metadata": {},
     "output_type": "execute_result"
    }
   ],
   "source": [
    "[ i for i in range(5)  if i > 2 ]"
   ]
  },
  {
   "cell_type": "code",
   "execution_count": 52,
   "id": "b5841cb0-3a50-4128-85ee-d9d3f03e0cf8",
   "metadata": {},
   "outputs": [
    {
     "data": {
      "text/plain": [
       "[0, 0, 1, 1, 1]"
      ]
     },
     "execution_count": 52,
     "metadata": {},
     "output_type": "execute_result"
    }
   ],
   "source": [
    "def binarizer(X, threshold):\n",
    "    \"\"\"Convert numerical values to boolean values\"\"\"\n",
    "    result = [ 1 if i >= threshold else 0 for i in X]\n",
    "    return result\n",
    "\n",
    "ages = [14, 13, 18, 20, 31]\n",
    "ages_bin = binarizer(ages, 18)\n",
    "ages_bin\n"
   ]
  },
  {
   "cell_type": "code",
   "execution_count": 59,
   "id": "fc269e73-a104-45dd-a823-ed53b2b025d8",
   "metadata": {},
   "outputs": [
    {
     "name": "stdout",
     "output_type": "stream",
     "text": [
      "h\n",
      "e\n",
      "o\n"
     ]
    }
   ],
   "source": [
    "for i in \"hello\":\n",
    "    if i == \"l\":\n",
    "        continue\n",
    "    print(i)\n"
   ]
  },
  {
   "cell_type": "code",
   "execution_count": 46,
   "id": "2948e004-85bb-4157-b83e-6b79a8804fd9",
   "metadata": {},
   "outputs": [],
   "source": [
    "x = {1,2,1}"
   ]
  },
  {
   "cell_type": "code",
   "execution_count": 47,
   "id": "f2df6a7a-ba02-4a6a-a298-dcf53f8b2edf",
   "metadata": {},
   "outputs": [
    {
     "data": {
      "text/plain": [
       "{1, 2}"
      ]
     },
     "execution_count": 47,
     "metadata": {},
     "output_type": "execute_result"
    }
   ],
   "source": [
    "x"
   ]
  },
  {
   "cell_type": "code",
   "execution_count": null,
   "id": "1b593869-6d81-41e3-8621-6091f761da8d",
   "metadata": {},
   "outputs": [],
   "source": []
  }
 ],
 "metadata": {
  "kernelspec": {
   "display_name": "TorchMD",
   "language": "python",
   "name": "torchmd"
  },
  "language_info": {
   "codemirror_mode": {
    "name": "ipython",
    "version": 3
   },
   "file_extension": ".py",
   "mimetype": "text/x-python",
   "name": "python",
   "nbconvert_exporter": "python",
   "pygments_lexer": "ipython3",
   "version": "3.6.13"
  }
 },
 "nbformat": 4,
 "nbformat_minor": 5
}
