{
 "cells": [
  {
   "cell_type": "markdown",
   "id": "0cc9bdaa-5374-42eb-a83b-164e7f3d9c1d",
   "metadata": {},
   "source": [
    "# Create the model"
   ]
  },
  {
   "cell_type": "code",
   "execution_count": 1,
   "id": "13a377e2-61d7-44dd-a725-44e20225afb6",
   "metadata": {},
   "outputs": [],
   "source": [
    "from torchmdnet.models.model import create_model, load_model\n",
    "from torchmdnet.utils import LoadFromFile, LoadFromCheckpoint, save_argparse, number\n",
    "import argparse\n",
    "from torchmdnet import datasets, priors, models\n",
    "from torchmdnet.data import DataModule\n",
    "from torchmdnet.models import output_modules\n",
    "from torchmdnet.models.utils import rbf_class_mapping, act_class_mapping"
   ]
  },
  {
   "cell_type": "code",
   "execution_count": 80,
   "id": "7ead988f-d98a-4efd-baea-bb4b9d774cdc",
   "metadata": {},
   "outputs": [],
   "source": [
    "args = {'activation': 'silu',\n",
    "        'batch_size': 128,\n",
    "        'cutoff_lower': 0.0,\n",
    "        'cutoff_upper': 5.0,\n",
    "        'derivative': True,\n",
    "        'distributed_backend': 'ddp',\n",
    "        'early_stopping_patience': 100,\n",
    "        'embedding_dimension': 256,\n",
    "        'inference_batch_size': 128,\n",
    "        'lr': 4.e-4,\n",
    "        'lr_factor': 0.8,\n",
    "        'lr_min': 1.e-7,\n",
    "        'lr_patience': 15,\n",
    "        'lr_warmup_steps': 0,\n",
    "        'neighbor_embedding': True,\n",
    "        'ngpus': -1,\n",
    "        'num_epochs': 3000,\n",
    "        'num_filters': 256,\n",
    "        'num_layers': 6,\n",
    "        'num_nodes': 1,\n",
    "        'num_rbf': 64,\n",
    "        'num_workers': 4,\n",
    "        'rbf_type': 'expnorm',\n",
    "        'save_interval': 10,\n",
    "        'seed': 1,\n",
    "        'test_interval': 10,\n",
    "        'test_size': 0.1,\n",
    "        'trainable_rbf': True,\n",
    "        'val_size': 0.05,\n",
    "        'weight_decay': 0.0,\n",
    "        'max_z': 100.0,\n",
    "        'max_num_neighbors': 32,\n",
    "        'model': 'graph-network',\n",
    "        }"
   ]
  },
  {
   "cell_type": "code",
   "execution_count": 37,
   "id": "f094b148-7f42-4e93-8555-fc848342ef89",
   "metadata": {},
   "outputs": [],
   "source": [
    "# TRANSFORMER\n",
    "import yaml\n",
    "with open(\"transformer-network.yaml\") as f: \n",
    "    args = yaml.load(f, Loader=yaml.FullLoader)"
   ]
  },
  {
   "cell_type": "code",
   "execution_count": 2,
   "id": "b295d071-80f1-4b52-aeac-5bc498aa74ee",
   "metadata": {},
   "outputs": [],
   "source": [
    "def get_args():\n",
    "    # fmt: off\n",
    "    parser = argparse.ArgumentParser(description='Training')\n",
    "    parser.add_argument('--load-model', action=LoadFromCheckpoint, help='Restart training using a model checkpoint')  # keep first\n",
    "    parser.add_argument('--conf', '-c', type=open, action=LoadFromFile, help='Configuration yaml file')  # keep second\n",
    "    parser.add_argument('--num-epochs', default=300, type=int, help='number of epochs')\n",
    "    parser.add_argument('--batch-size', default=32, type=int, help='batch size')\n",
    "    parser.add_argument('--inference-batch-size', default=None, type=int, help='Batchsize for validation and tests.')\n",
    "    parser.add_argument('--lr', default=1e-4, type=float, help='learning rate')\n",
    "    parser.add_argument('--lr-patience', type=int, default=10, help='Patience for lr-schedule. Patience per eval-interval of validation')\n",
    "    parser.add_argument('--lr-min', type=float, default=1e-6, help='Minimum learning rate before early stop')\n",
    "    parser.add_argument('--lr-factor', type=float, default=0.8, help='Minimum learning rate before early stop')\n",
    "    parser.add_argument('--lr-warmup-steps', type=int, default=0, help='How many steps to warm-up over. Defaults to 0 for no warm-up')\n",
    "    parser.add_argument('--early-stopping-patience', type=int, default=30, help='Stop training after this many epochs without improvement')\n",
    "    parser.add_argument('--weight-decay', type=float, default=0.0, help='Weight decay strength')\n",
    "    parser.add_argument('--ema-alpha-y', type=float, default=1.0, help='The amount of influence of new losses on the exponential moving average of y')\n",
    "    parser.add_argument('--ema-alpha-dy', type=float, default=1.0, help='The amount of influence of new losses on the exponential moving average of dy')\n",
    "    parser.add_argument('--ngpus', type=int, default=-1, help='Number of GPUs, -1 use all available. Use CUDA_VISIBLE_DEVICES=1, to decide gpus')\n",
    "    parser.add_argument('--num-nodes', type=int, default=1, help='Number of nodes')\n",
    "    parser.add_argument('--precision', type=int, default=32, choices=[16, 32], help='Floating point precision')\n",
    "    parser.add_argument('--log-dir', '-l', default='/tmp/logs', help='log file')\n",
    "    parser.add_argument('--splits', default=None, help='Npz with splits idx_train, idx_val, idx_test')\n",
    "    parser.add_argument('--train-size', type=number, default=None, help='Percentage/number of samples in training set (None to use all remaining samples)')\n",
    "    parser.add_argument('--val-size', type=number, default=0.05, help='Percentage/number of samples in validation set (None to use all remaining samples)')\n",
    "    parser.add_argument('--test-size', type=number, default=0.1, help='Percentage/number of samples in test set (None to use all remaining samples)')\n",
    "    parser.add_argument('--test-interval', type=int, default=10, help='Test interval, one test per n epochs (default: 10)')\n",
    "    parser.add_argument('--save-interval', type=int, default=10, help='Save interval, one save per n epochs (default: 10)')\n",
    "    parser.add_argument('--seed', type=int, default=1, help='random seed (default: 1)')\n",
    "    parser.add_argument('--distributed-backend', default='ddp', help='Distributed backend: dp, ddp, ddp2')\n",
    "    parser.add_argument('--num-workers', type=int, default=4, help='Number of workers for data prefetch')\n",
    "    parser.add_argument('--redirect', type=bool, default=False, help='Redirect stdout and stderr to log_dir/log')\n",
    "    \n",
    "    # model architecture\n",
    "    parser.add_argument('--model', type=str, default='graph-network', choices=models.__all__, help='Which model to train')\n",
    "    parser.add_argument('--output-model', type=str, default='Scalar', choices=output_modules.__all__, help='The type of output model')\n",
    "    parser.add_argument('--prior-model', type=str, default=None, choices=priors.__all__, help='Which prior model to use')\n",
    "\n",
    "    # architectural args\n",
    "    parser.add_argument('--embedding-dimension', type=int, default=256, help='Embedding dimension')\n",
    "    parser.add_argument('--num-layers', type=int, default=6, help='Number of interaction layers in the model')\n",
    "    parser.add_argument('--num-rbf', type=int, default=64, help='Number of radial basis functions in model')\n",
    "    parser.add_argument('--activation', type=str, default='silu', choices=list(act_class_mapping.keys()), help='Activation function')\n",
    "    parser.add_argument('--rbf-type', type=str, default='expnorm', choices=list(rbf_class_mapping.keys()), help='Type of distance expansion')\n",
    "    parser.add_argument('--trainable-rbf', type=bool, default=False, help='If distance expansion functions should be trainable')\n",
    "    parser.add_argument('--neighbor-embedding', type=bool, default=False, help='If a neighbor embedding should be applied before interactions')\n",
    "    \n",
    "    # dataset specific\n",
    "    parser.add_argument('--dataset', default=None, type=str, choices=datasets.__all__, help='Name of the torch_geometric dataset')\n",
    "    parser.add_argument('--dataset-root', default='~/data', type=str, help='Data storage directory (not used if dataset is \"CG\")')\n",
    "    parser.add_argument('--dataset-arg', default=None, type=str, help='Additional dataset argument, e.g. target property for QM9 or molecule for MD17')\n",
    "    parser.add_argument('--coord-files', default=None, type=str, help='Custom coordinate files glob')\n",
    "    parser.add_argument('--embed-files', default=None, type=str, help='Custom embedding files glob')\n",
    "    parser.add_argument('--energy-files', default=None, type=str, help='Custom energy files glob')\n",
    "    parser.add_argument('--force-files', default=None, type=str, help='Custom force files glob')\n",
    "    parser.add_argument('--energy-weight', default=1.0, type=float, help='Weighting factor for energies in the loss function')\n",
    "    parser.add_argument('--force-weight', default=1.0, type=float, help='Weighting factor for forces in the loss function')\n",
    "\n",
    "    # Transformer specific\n",
    "    parser.add_argument('--distance-influence', type=str, default='both', choices=['keys', 'values', 'both', 'none'], help='Where distance information is included inside the attention')\n",
    "    parser.add_argument('--attn-activation', default='silu', choices=list(act_class_mapping.keys()), help='Attention activation function')\n",
    "    parser.add_argument('--num-heads', type=int, default=8, help='Number of attention heads')\n",
    "\n",
    "    # other args\n",
    "    parser.add_argument('--derivative', default=True, type=bool, help='If true, take the derivative of the prediction w.r.t coordinates')\n",
    "    parser.add_argument('--cutoff-lower', type=float, default=0.0, help='Lower cutoff in model')\n",
    "    parser.add_argument('--cutoff-upper', type=float, default=5.0, help='Upper cutoff in model')\n",
    "    parser.add_argument('--atom-filter', type=int, default=-1, help='Only sum over atoms with Z > atom_filter')\n",
    "    parser.add_argument('--max-z', type=int, default=100, help='Maximum atomic number that fits in the embedding matrix')\n",
    "    parser.add_argument('--max-num-neighbors', type=int, default=32, help='Maximum number of neighbors to consider in the network')\n",
    "    parser.add_argument('--standardize', type=bool, default=False, help='If true, multiply prediction by dataset std and add mean')\n",
    "    parser.add_argument('--reduce-op', type=str, default='add', choices=['add', 'mean'], help='Reduce operation to apply to atomic predictions')\n",
    "\n",
    "    args = parser.parse_args(\"\")\n",
    "    all_defaults = {}\n",
    "    for key in vars(args):\n",
    "        all_defaults[key] = parser.get_default(key)\n",
    "    \n",
    "    return all_defaults"
   ]
  },
  {
   "cell_type": "code",
   "execution_count": 3,
   "id": "4a6485cc-2832-4dc8-93fb-274b5424ac06",
   "metadata": {},
   "outputs": [],
   "source": [
    "args = get_args()\n",
    "prior_model=None\n",
    "mean=None\n",
    "std=None"
   ]
  },
  {
   "cell_type": "code",
   "execution_count": 4,
   "id": "c9fa1758-d696-4627-ad7f-a21ae7053275",
   "metadata": {},
   "outputs": [],
   "source": [
    "gnn = create_model(args, prior_model, mean, std)"
   ]
  },
  {
   "cell_type": "code",
   "execution_count": 5,
   "id": "e0c72a9b-191d-4d2f-a721-7e4c0e4b6983",
   "metadata": {},
   "outputs": [
    {
     "name": "stdout",
     "output_type": "stream",
     "text": [
      "1735937 [25600, 16384, 256, 65536, 256, 65536, 65536, 256, 65536, 256, 16384, 256, 65536, 256, 65536, 65536, 256, 65536, 256, 16384, 256, 65536, 256, 65536, 65536, 256, 65536, 256, 16384, 256, 65536, 256, 65536, 65536, 256, 65536, 256, 16384, 256, 65536, 256, 65536, 65536, 256, 65536, 256, 16384, 256, 65536, 256, 65536, 65536, 256, 65536, 256, 32768, 128, 128, 1]\n"
     ]
    }
   ],
   "source": [
    "numel_list = [p.numel() for p in gnn.parameters() if p.requires_grad == True]\n",
    "print(sum(numel_list), numel_list)"
   ]
  },
  {
   "cell_type": "code",
   "execution_count": null,
   "id": "7e216ae7-6ef5-492e-b4b1-04eda3b4a426",
   "metadata": {},
   "outputs": [],
   "source": []
  },
  {
   "cell_type": "code",
   "execution_count": null,
   "id": "c3ecedf6-02f1-48eb-8985-d937cd64435e",
   "metadata": {},
   "outputs": [],
   "source": []
  },
  {
   "cell_type": "markdown",
   "id": "8b43ac67-cc7a-432e-b977-dad1c36387d5",
   "metadata": {},
   "source": [
    "# Prepare system"
   ]
  },
  {
   "cell_type": "code",
   "execution_count": 6,
   "id": "3fe1b47c-a6d8-40c5-9c0e-3e087fdfeec8",
   "metadata": {},
   "outputs": [],
   "source": [
    "from moleculekit.molecule import Molecule\n",
    "from torchmd.forcefields.ff_yaml import YamlForcefield\n",
    "from torchmd.forcefields.forcefield import ForceField\n",
    "from torchmd.forces import Forces\n",
    "from torchmd.integrator import Integrator, maxwell_boltzmann\n",
    "from torchmd.parameters import Parameters\n",
    "from torchmd.systems import System\n",
    "from torchmd.wrapper import Wrapper\n",
    "from tqdm import tqdm\n",
    "from utils import rmsd"
   ]
  },
  {
   "cell_type": "code",
   "execution_count": 7,
   "id": "605e7ef1-1278-4d06-8ce2-001ffc6585bd",
   "metadata": {},
   "outputs": [
    {
     "name": "stderr",
     "output_type": "stream",
     "text": [
      "2021-08-27 20:18:57,401 - moleculekit.molecule - INFO - Removed 83 atoms. 10 atoms remaining in the molecule.\n"
     ]
    }
   ],
   "source": [
    "# Molecule\n",
    "mol = Molecule('data/chignolin_cln025.pdb')\n",
    "mol.filter('name CA')\n",
    "mol.read('data/chignolin_ca_top.psf')\n",
    "mol.read('data/chignolin_ca_initial_coords.xtc')"
   ]
  },
  {
   "cell_type": "markdown",
   "id": "048321b6-a556-4c82-bf87-350a38379654",
   "metadata": {},
   "source": [
    "# Train pretrained"
   ]
  },
  {
   "cell_type": "code",
   "execution_count": 31,
   "id": "6174e0b7-0441-482d-96c4-d943f9c4e7ca",
   "metadata": {},
   "outputs": [],
   "source": [
    "import torch\n",
    "from torchmdnet.models.model import load_model\n",
    "\n",
    "\n",
    "class External:\n",
    "    def __init__(self, netfile, embeddings, device=\"cpu\"):\n",
    "        self.model = load_model(netfile, device=device, derivative=True)\n",
    "        self.device = device\n",
    "        self.n_atoms = embeddings.size(1)\n",
    "        self.embeddings = embeddings.reshape(-1).to(device)\n",
    "        self.batch = torch.arange(embeddings.size(0), device=device).repeat_interleave(\n",
    "            embeddings.size(1)\n",
    "        )\n",
    "        self.model.eval()\n",
    "\n",
    "    def calculate(self, pos, box):\n",
    "        pos = pos.to(self.device).type(torch.float32).reshape(-1, 3)\n",
    "        energy, forces = self.model(self.embeddings, pos, self.batch)\n",
    "        #print(energy, forces)\n",
    "        return energy.detach(), forces.reshape(-1, self.n_atoms, 3)\n"
   ]
  },
  {
   "cell_type": "code",
   "execution_count": 32,
   "id": "7e1e1a91-4e72-4274-af50-fd776f84614c",
   "metadata": {},
   "outputs": [],
   "source": [
    "# Loading the model as external force\n",
    "\n",
    "embeddings = [4, 4, 5, 8, 6, 13, 2, 13, 7, 4]\n",
    "#model = torch.load('data/epoch=47-val_loss=739.5398-test_loss=21.5975.ckpt')\n",
    "device = 'cpu'\n",
    "\n",
    "#externalmodule = importlib.import_module('torchmdnet.calculators')\n",
    "embeddings = torch.tensor(embeddings).repeat(10, 1)\n",
    "external = External('data/epoch=47-val_loss=739.5398-test_loss=21.5975.ckpt', embeddings, device)"
   ]
  },
  {
   "cell_type": "code",
   "execution_count": null,
   "id": "7ea0a3cb-df05-4be9-bd02-077df2c6b08a",
   "metadata": {},
   "outputs": [],
   "source": []
  },
  {
   "cell_type": "code",
   "execution_count": 33,
   "id": "6fdbb2b9-d5a9-4358-a842-bfb13afd176a",
   "metadata": {},
   "outputs": [],
   "source": [
    "ff = ForceField.create(mol,'/shared/carles/torchMD-DMS/nn/data/ca_priors-dihedrals_general_2xweaker.yaml')\n",
    "cln_parameters = Parameters(ff, mol, terms=['bonds', 'repulsionCG', 'dihedrals'], device=device)\n",
    "forces = Forces(cln_parameters, terms=['bonds', 'repulsionCG', 'dihedrals'], external=external, cutoff=None, \n",
    "                rfa=False, switch_dist=None\n",
    "               )"
   ]
  },
  {
   "cell_type": "code",
   "execution_count": 34,
   "id": "52b272ce-2c25-43ee-850b-3ad23ca9b90e",
   "metadata": {},
   "outputs": [],
   "source": [
    "# System\n",
    "system = System(mol.numAtoms, nreplicas=10,precision=torch.double, device=device)\n",
    "system.set_positions(mol.coords)\n",
    "system.set_box(mol.box)\n",
    "system.set_velocities(maxwell_boltzmann(forces.par.masses, T=350, replicas=10))"
   ]
  },
  {
   "cell_type": "code",
   "execution_count": 35,
   "id": "2c2b8a27-8814-4667-8f7c-9f26adf72a45",
   "metadata": {},
   "outputs": [],
   "source": [
    "integrator = Integrator(system, forces, 1, device, gamma=0.1, T=0)"
   ]
  },
  {
   "cell_type": "code",
   "execution_count": 36,
   "id": "27187c73-b838-4ece-87cc-8b0727779529",
   "metadata": {},
   "outputs": [],
   "source": [
    "native_coords = system.pos.clone().detach()"
   ]
  },
  {
   "cell_type": "code",
   "execution_count": 37,
   "id": "e85c84cd-1fd3-45c6-bcda-72c0b603fe2a",
   "metadata": {},
   "outputs": [
    {
     "name": "stderr",
     "output_type": "stream",
     "text": [
      "  0%|                                                    | 0/25 [00:00<?, ?it/s]"
     ]
    }
   ],
   "source": [
    "steps = 250\n",
    "output_period = 10\n",
    "n_epochs = 1\n",
    "iterator = tqdm(range(1,int(steps/output_period)+1))\n",
    "Epot = forces.compute(system.pos, system.box, system.forces)"
   ]
  },
  {
   "cell_type": "code",
   "execution_count": 38,
   "id": "09b24c19-206b-4b01-b59f-744216824c86",
   "metadata": {},
   "outputs": [
    {
     "name": "stderr",
     "output_type": "stream",
     "text": [
      "100%|███████████████████████████████████████████| 25/25 [00:11<00:00,  2.09it/s]"
     ]
    },
    {
     "name": "stdout",
     "output_type": "stream",
     "text": [
      "Epoch 1, Training loss 1.2137141728322844\n"
     ]
    },
    {
     "name": "stderr",
     "output_type": "stream",
     "text": [
      "\n"
     ]
    }
   ],
   "source": [
    "rmsds = []\n",
    "for epoch in range(1, n_epochs + 1):\n",
    "    \n",
    "    system = System(mol.numAtoms, nreplicas=10,precision=torch.double, device=device)\n",
    "    system.set_positions(mol.coords)\n",
    "    system.set_box(mol.box)\n",
    "    system.set_velocities(maxwell_boltzmann(forces.par.masses, T=350, replicas=10))\n",
    "    integrator = Integrator(system, forces, 1, device, gamma=0.1, T=0)\n",
    "    \n",
    "    for i in iterator:\n",
    "             #viewFrame(mol, system.pos, system.forces)\n",
    "        Ekin, Epot, T = integrator.step(niter=output_period)\n",
    "    #wrapper.wrap(system.pos, system.box)\n",
    "        #currpos = system.pos.clone()\n",
    "        \n",
    "    loss, passed = rmsd(native_coords[0], system.pos.clone()[0])\n",
    "    loss_log = torch.log(1.0 + loss)\n",
    "    #optim.zero_grad()\n",
    "    #loss_log.backward()\n",
    "    #optim.step()\n",
    "\n",
    "    print(f'Epoch {epoch}, Training loss {loss.item()}')\n",
    "\n",
    "        #for rep, coords in enumerate(native_coords):\n",
    "        #    print('RMSD GOOD: ', rmsd(native_coords[rep], currpos[rep]))\n",
    "    \n",
    "    rmsds.append(loss.item())"
   ]
  },
  {
   "cell_type": "markdown",
   "id": "c5daace1-af09-497d-b83b-59b3c5ae1593",
   "metadata": {},
   "source": [
    "# Train created model"
   ]
  },
  {
   "cell_type": "code",
   "execution_count": 8,
   "id": "6c8744de-b16c-4396-b73e-96ac15c1cd61",
   "metadata": {},
   "outputs": [
    {
     "data": {
      "text/plain": [
       "True"
      ]
     },
     "execution_count": 8,
     "metadata": {},
     "output_type": "execute_result"
    }
   ],
   "source": [
    "gnn.derivative"
   ]
  },
  {
   "cell_type": "code",
   "execution_count": 10,
   "id": "4821f42c-452d-4337-9e61-0f4e1187560e",
   "metadata": {},
   "outputs": [],
   "source": [
    "import torch\n",
    "from torchmdnet.models.model import load_model\n",
    "\n",
    "class External:\n",
    "    def __init__(self, model, embeddings, device=\"cpu\"):\n",
    "        self.model = model\n",
    "        self.device = device\n",
    "        self.n_atoms = embeddings.size(1)\n",
    "        self.embeddings = embeddings.reshape(-1).to(device)\n",
    "        self.batch = torch.arange(embeddings.size(0), device=device).repeat_interleave(\n",
    "            embeddings.size(1)\n",
    "        )\n",
    "        self.model.eval()\n",
    "\n",
    "    def calculate(self, pos, box):\n",
    "        pos = pos.to(self.device).type(torch.float32).reshape(-1, 3)\n",
    "        energy, forces = self.model(self.embeddings, pos, self.batch)\n",
    "        #print(energy, forces)\n",
    "        return energy, forces.reshape(-1, self.n_atoms, 3)\n"
   ]
  },
  {
   "cell_type": "code",
   "execution_count": 11,
   "id": "c09a479d-cbc1-41f1-ae60-f3af8cc63ba7",
   "metadata": {},
   "outputs": [],
   "source": [
    "# Loading the model as external force\n",
    "\n",
    "embeddings = [4, 4, 5, 8, 6, 13, 2, 13, 7, 4]\n",
    "#model = torch.load('data/epoch=47-val_loss=739.5398-test_loss=21.5975.ckpt')\n",
    "device = 'cpu'\n",
    "\n",
    "#externalmodule = importlib.import_module('torchmdnet.calculators')\n",
    "embeddings = torch.tensor(embeddings).repeat(10, 1)\n",
    "external = External(gnn, embeddings, device)"
   ]
  },
  {
   "cell_type": "code",
   "execution_count": 12,
   "id": "c6dfb052-2f26-4ff3-b85a-de4158807a7d",
   "metadata": {},
   "outputs": [],
   "source": [
    "ff = ForceField.create(mol,'/shared/carles/torchMD-DMS/nn/data/ca_priors-dihedrals_general_2xweaker.yaml')\n",
    "cln_parameters = Parameters(ff, mol, terms=['bonds', 'repulsionCG', 'dihedrals'], device=device)\n",
    "forces = Forces(cln_parameters, terms=['bonds', 'repulsionCG', 'dihedrals'], external=external, cutoff=None, \n",
    "                rfa=False, switch_dist=None\n",
    "               )"
   ]
  },
  {
   "cell_type": "code",
   "execution_count": 13,
   "id": "df760552-9e6a-4f2b-bdfc-5580283baa43",
   "metadata": {},
   "outputs": [],
   "source": [
    "# System\n",
    "system = System(mol.numAtoms, nreplicas=10,precision=torch.double, device=device)\n",
    "system.set_positions(mol.coords)\n",
    "system.set_box(mol.box)\n",
    "system.set_velocities(maxwell_boltzmann(forces.par.masses, T=350, replicas=10))"
   ]
  },
  {
   "cell_type": "code",
   "execution_count": 14,
   "id": "0827e6f5-56c3-4e20-ab25-1a4c4ba94a8a",
   "metadata": {},
   "outputs": [],
   "source": [
    "integrator = Integrator(system, forces, 1, device, gamma=0.1, T=0)"
   ]
  },
  {
   "cell_type": "code",
   "execution_count": 15,
   "id": "b5d5295c-721f-41e1-87a3-43f7c2b9ab73",
   "metadata": {},
   "outputs": [],
   "source": [
    "native_coords = system.pos.clone().detach()"
   ]
  },
  {
   "cell_type": "code",
   "execution_count": 16,
   "id": "80e47fe8-d1f2-4c16-b604-aa9a1bd9f800",
   "metadata": {},
   "outputs": [
    {
     "name": "stderr",
     "output_type": "stream",
     "text": [
      "  0%|                                                    | 0/25 [00:00<?, ?it/s]"
     ]
    }
   ],
   "source": [
    "steps = 250\n",
    "output_period = 10\n",
    "n_epochs = 500\n",
    "iterator = tqdm(range(1,int(steps/output_period)+1))\n",
    "Epot = forces.compute(system.pos, system.box, system.forces)"
   ]
  },
  {
   "cell_type": "code",
   "execution_count": 17,
   "id": "826ed635-6d9f-4a00-8af6-2c144394cf27",
   "metadata": {},
   "outputs": [],
   "source": [
    "learning_rate = 1e-3\n",
    "optim = torch.optim.Adam(forces.external.model.parameters(), lr=learning_rate)"
   ]
  },
  {
   "cell_type": "code",
   "execution_count": null,
   "id": "487e1532-4a5a-4bc3-a8e9-460c35b82d02",
   "metadata": {},
   "outputs": [],
   "source": []
  },
  {
   "cell_type": "code",
   "execution_count": null,
   "id": "c4998eba-cdc8-4244-a43c-0274abb62634",
   "metadata": {},
   "outputs": [
    {
     "name": "stderr",
     "output_type": "stream",
     "text": [
      "100%|███████████████████████████████████████████| 25/25 [00:18<00:00,  1.32it/s]\n"
     ]
    },
    {
     "name": "stdout",
     "output_type": "stream",
     "text": [
      "Epoch 1, Training loss 1.549095245486951\n",
      "Epoch 2, Training loss 1.5160373347681926\n",
      "Epoch 3, Training loss 1.6522473037670893\n",
      "Epoch 4, Training loss 1.5140095103794478\n",
      "Epoch 5, Training loss 1.5387165171775683\n",
      "Epoch 6, Training loss 1.4092633706821036\n",
      "Epoch 7, Training loss 1.4586557574160661\n",
      "Epoch 8, Training loss 1.3995712680828567\n",
      "Epoch 9, Training loss 1.3909466920570221\n",
      "Epoch 10, Training loss 1.5181754373572773\n",
      "Epoch 11, Training loss 1.3319049520516462\n",
      "Epoch 12, Training loss 1.3033444719472194\n",
      "Epoch 13, Training loss 1.4057654955339862\n",
      "Epoch 14, Training loss 1.2476965646764857\n",
      "Epoch 15, Training loss 1.2813841602238933\n",
      "Epoch 16, Training loss 1.3729447947000064\n",
      "Epoch 17, Training loss 1.3403886161061789\n",
      "Epoch 18, Training loss 1.3805488567198627\n",
      "Epoch 19, Training loss 1.3034755992836824\n",
      "Epoch 20, Training loss 1.3172681493428609\n",
      "Epoch 21, Training loss 1.350082527774526\n",
      "Epoch 22, Training loss 1.2893487290020007\n",
      "Epoch 23, Training loss 1.4183330412325827\n",
      "Epoch 24, Training loss 1.3512006821989977\n",
      "Epoch 25, Training loss 1.2530383883088825\n",
      "Epoch 26, Training loss 1.447714424883692\n",
      "Epoch 27, Training loss 1.2191001810420654\n",
      "Epoch 28, Training loss 1.3360939311409183\n",
      "Epoch 29, Training loss 1.2800890017316127\n",
      "Epoch 30, Training loss 1.2929423284068648\n",
      "Epoch 31, Training loss 1.332563292281875\n",
      "Epoch 32, Training loss 1.41942934315585\n",
      "Epoch 33, Training loss 1.2227063076653575\n",
      "Epoch 34, Training loss 1.3016341449124598\n",
      "Epoch 35, Training loss 1.2789185257319657\n",
      "Epoch 36, Training loss 1.3173587331511505\n",
      "Epoch 37, Training loss 1.307443889624079\n",
      "Epoch 38, Training loss 1.2792083711093074\n",
      "Epoch 39, Training loss 1.2466502029780877\n",
      "Epoch 40, Training loss 1.18741997066513\n",
      "Epoch 41, Training loss 1.2315555071349744\n",
      "Epoch 42, Training loss 1.3679043550934575\n",
      "Epoch 43, Training loss 1.2249527159861902\n",
      "Epoch 44, Training loss 1.2973405224556451\n",
      "Epoch 45, Training loss 1.3533228182024182\n",
      "Epoch 46, Training loss 1.4028316915315697\n",
      "Epoch 47, Training loss 1.1873761348919394\n",
      "Epoch 48, Training loss 1.2201649784799056\n",
      "Epoch 49, Training loss 1.344077283704802\n",
      "Epoch 50, Training loss 1.233718545421061\n",
      "Epoch 51, Training loss 1.25271547670866\n",
      "Epoch 52, Training loss 1.171178339070988\n",
      "Epoch 53, Training loss 1.1780099429917412\n",
      "Epoch 54, Training loss 1.2092289623707342\n",
      "Epoch 55, Training loss 1.1128893488045588\n",
      "Epoch 56, Training loss 1.1993827310206948\n",
      "Epoch 57, Training loss 1.093387303364252\n",
      "Epoch 58, Training loss 1.2564225452450273\n",
      "Epoch 59, Training loss 1.3077019543761623\n",
      "Epoch 60, Training loss 1.2273228477759734\n",
      "Epoch 61, Training loss 1.5032020860817974\n",
      "Epoch 62, Training loss 1.925967840042856\n",
      "Epoch 63, Training loss 1.523639476226529\n",
      "Epoch 64, Training loss 1.4669674024500965\n",
      "Epoch 65, Training loss 1.3313406848133091\n",
      "Epoch 66, Training loss 1.1798477540979575\n",
      "Epoch 67, Training loss 1.296443058133462\n",
      "Epoch 68, Training loss 1.3484179454529615\n",
      "Epoch 69, Training loss 1.3813446082010514\n",
      "Epoch 70, Training loss 1.4465987713449848\n",
      "Epoch 71, Training loss 1.4953585088878374\n",
      "Epoch 72, Training loss 1.3483335721897134\n",
      "Epoch 73, Training loss 1.3705402313308312\n",
      "Epoch 74, Training loss 1.3764907845994805\n",
      "Epoch 75, Training loss 1.5250811084352969\n",
      "Epoch 76, Training loss 1.5392808501883473\n",
      "Epoch 77, Training loss 1.5276522038677667\n",
      "Epoch 78, Training loss 1.5173520245132888\n",
      "Epoch 79, Training loss 1.43804488783893\n",
      "Epoch 80, Training loss 1.5358640292883214\n",
      "Epoch 81, Training loss 1.5581956535401786\n",
      "Epoch 82, Training loss 1.5875624089887848\n",
      "Epoch 83, Training loss 1.6313506693159607\n",
      "Epoch 84, Training loss 1.7251957368543362\n",
      "Epoch 85, Training loss 1.5430089543074739\n",
      "Epoch 86, Training loss 1.6489871479878502\n",
      "Epoch 87, Training loss 1.6489776519638997\n",
      "Epoch 88, Training loss 1.6121393689689838\n",
      "Epoch 89, Training loss 1.7442420501438647\n",
      "Epoch 90, Training loss 1.7619965104455553\n",
      "Epoch 91, Training loss 1.694863286809925\n",
      "Epoch 92, Training loss 1.7467717183994658\n",
      "Epoch 93, Training loss 1.5744660481583543\n",
      "Epoch 94, Training loss 1.795148018200362\n",
      "Epoch 95, Training loss 1.6779840983554137\n",
      "Epoch 96, Training loss 1.8849176352758892\n",
      "Epoch 97, Training loss 1.9422597504427266\n",
      "Epoch 98, Training loss 1.5852927679814326\n",
      "Epoch 99, Training loss 1.5738771587426061\n",
      "Epoch 100, Training loss 1.3686727805315613\n",
      "Epoch 101, Training loss 1.562164935904119\n",
      "Epoch 102, Training loss 1.4935382156591426\n",
      "Epoch 103, Training loss 1.343514808254922\n",
      "Epoch 104, Training loss 1.437675096890905\n",
      "Epoch 105, Training loss 1.3638107854107124\n",
      "Epoch 106, Training loss 1.338801800959072\n",
      "Epoch 107, Training loss 1.2901413321058741\n",
      "Epoch 108, Training loss 1.4736833986068922\n",
      "Epoch 109, Training loss 1.3058738117813968\n",
      "Epoch 110, Training loss 1.4005412292509845\n",
      "Epoch 111, Training loss 1.3980871850319636\n",
      "Epoch 112, Training loss 1.3689018176218732\n",
      "Epoch 113, Training loss 1.2898254291089644\n",
      "Epoch 114, Training loss 1.4463067238680494\n",
      "Epoch 115, Training loss 1.479517596904259\n",
      "Epoch 116, Training loss 1.3895090221968267\n",
      "Epoch 117, Training loss 1.3918933601313868\n",
      "Epoch 118, Training loss 1.420294902177952\n",
      "Epoch 119, Training loss 1.2878104324012472\n",
      "Epoch 120, Training loss 1.3971107640286626\n",
      "Epoch 121, Training loss 1.3152505920084943\n",
      "Epoch 122, Training loss 1.4092602255051827\n",
      "Epoch 123, Training loss 1.3930789254130929\n",
      "Epoch 124, Training loss 1.5141112074212635\n",
      "Epoch 125, Training loss 1.3680638354135046\n",
      "Epoch 126, Training loss 1.4347008155373147\n",
      "Epoch 127, Training loss 1.5609531522787627\n",
      "Epoch 128, Training loss 1.4481053263829498\n",
      "Epoch 129, Training loss 1.4062486429453267\n",
      "Epoch 130, Training loss 1.4184419528906425\n",
      "Epoch 131, Training loss 1.5137300552120743\n",
      "Epoch 132, Training loss 1.3705873768025294\n",
      "Epoch 133, Training loss 1.379483788836536\n",
      "Epoch 134, Training loss 1.4135227391848957\n",
      "Epoch 135, Training loss 1.4230327230260644\n",
      "Epoch 136, Training loss 1.5137642965666935\n",
      "Epoch 137, Training loss 1.3891603900712999\n",
      "Epoch 138, Training loss 1.3887355941154615\n",
      "Epoch 139, Training loss 1.4845598596307246\n",
      "Epoch 140, Training loss 1.3324933058979271\n",
      "Epoch 141, Training loss 1.3591083909066926\n",
      "Epoch 142, Training loss 1.393903247744276\n",
      "Epoch 143, Training loss 1.4114758614933138\n",
      "Epoch 144, Training loss 1.465364571866488\n",
      "Epoch 145, Training loss 1.4251768693599038\n",
      "Epoch 146, Training loss 1.3768616981256558\n",
      "Epoch 147, Training loss 1.3412240977240764\n",
      "Epoch 148, Training loss 1.3630184959133078\n",
      "Epoch 149, Training loss 1.4219673127436603\n",
      "Epoch 150, Training loss 1.3763388962848009\n",
      "Epoch 151, Training loss 1.4405915628308588\n",
      "Epoch 152, Training loss 1.4503573414730937\n",
      "Epoch 153, Training loss 1.3241157042908338\n",
      "Epoch 154, Training loss 1.4731720906994128\n",
      "Epoch 155, Training loss 1.404642399126222\n",
      "Epoch 156, Training loss 1.2872624517785467\n",
      "Epoch 157, Training loss 1.451441992466824\n",
      "Epoch 158, Training loss 1.467264743563385\n",
      "Epoch 159, Training loss 1.463271809443302\n",
      "Epoch 160, Training loss 1.4338874100693064\n",
      "Epoch 161, Training loss 1.2919948695516104\n",
      "Epoch 162, Training loss 1.4845381926435617\n",
      "Epoch 163, Training loss 1.416353110984914\n",
      "Epoch 164, Training loss 1.2704225462946737\n",
      "Epoch 165, Training loss 1.2899434537976635\n",
      "Epoch 166, Training loss 1.4692436216273328\n",
      "Epoch 167, Training loss 1.5774764041404175\n",
      "Epoch 168, Training loss 1.3683199395477545\n",
      "Epoch 169, Training loss 1.332451725664486\n",
      "Epoch 170, Training loss 1.4610456003201358\n",
      "Epoch 171, Training loss 1.4810120804813318\n",
      "Epoch 172, Training loss 1.426671631552157\n",
      "Epoch 173, Training loss 1.394012744055607\n",
      "Epoch 174, Training loss 1.3151890273354598\n",
      "Epoch 175, Training loss 1.362781916659437\n",
      "Epoch 176, Training loss 1.235565837410426\n",
      "Epoch 177, Training loss 1.452518983137408\n",
      "Epoch 178, Training loss 1.526644697066791\n",
      "Epoch 179, Training loss 1.6178998687277795\n",
      "Epoch 180, Training loss 1.514437716930318\n",
      "Epoch 181, Training loss 1.4920685519166743\n",
      "Epoch 182, Training loss 1.3521554760742995\n",
      "Epoch 183, Training loss 1.3257893349116194\n",
      "Epoch 184, Training loss 1.3361380262812037\n",
      "Epoch 185, Training loss 1.5148613883568343\n",
      "Epoch 186, Training loss 1.4170720027863148\n",
      "Epoch 187, Training loss 1.3061392450526161\n",
      "Epoch 188, Training loss 1.4946581254566695\n",
      "Epoch 189, Training loss 1.3188727863473642\n",
      "Epoch 190, Training loss 1.4540900243529504\n",
      "Epoch 191, Training loss 1.4633805510807743\n",
      "Epoch 192, Training loss 1.4534920177445412\n",
      "Epoch 193, Training loss 1.3878305578633843\n",
      "Epoch 194, Training loss 1.597917487880048\n",
      "Epoch 195, Training loss 1.3190985629865604\n",
      "Epoch 196, Training loss 1.386229194144495\n",
      "Epoch 197, Training loss 1.4501413652677408\n",
      "Epoch 198, Training loss 1.3838222231055577\n",
      "Epoch 199, Training loss 1.4235018450387362\n",
      "Epoch 200, Training loss 1.4147623014997976\n",
      "Epoch 201, Training loss 1.5624600691222712\n",
      "Epoch 202, Training loss 1.4340798359865343\n",
      "Epoch 203, Training loss 1.4693198974779924\n",
      "Epoch 204, Training loss 1.2443585945263047\n",
      "Epoch 205, Training loss 1.3447266153197988\n",
      "Epoch 206, Training loss 1.3268579553482265\n",
      "Epoch 207, Training loss 1.4029154735524618\n",
      "Epoch 208, Training loss 1.3902089759213898\n",
      "Epoch 209, Training loss 1.4569383094896355\n",
      "Epoch 210, Training loss 1.4305337303776293\n",
      "Epoch 211, Training loss 1.3043979526843859\n",
      "Epoch 212, Training loss 1.4145597685536109\n",
      "Epoch 213, Training loss 1.3546862053254887\n",
      "Epoch 214, Training loss 1.267607119339942\n",
      "Epoch 215, Training loss 1.3853453993455818\n",
      "Epoch 216, Training loss 1.3729033277155949\n",
      "Epoch 217, Training loss 1.3502119282193739\n",
      "Epoch 218, Training loss 1.4437836976769545\n",
      "Epoch 219, Training loss 1.3695724605712187\n",
      "Epoch 220, Training loss 1.3570394062083369\n",
      "Epoch 221, Training loss 1.5059760132944737\n",
      "Epoch 222, Training loss 1.3806905447052165\n",
      "Epoch 223, Training loss 1.3828326242903617\n",
      "Epoch 224, Training loss 1.4525132657638233\n",
      "Epoch 225, Training loss 1.5595436058829388\n",
      "Epoch 226, Training loss 1.4503029812271517\n",
      "Epoch 227, Training loss 1.4325574364283473\n",
      "Epoch 228, Training loss 1.3184786811851648\n",
      "Epoch 229, Training loss 1.3469096666372695\n",
      "Epoch 230, Training loss 1.4517919741244774\n",
      "Epoch 231, Training loss 1.3981615458585934\n",
      "Epoch 232, Training loss 1.4843602020017337\n",
      "Epoch 233, Training loss 1.4134464220287724\n",
      "Epoch 234, Training loss 1.4196283431605041\n",
      "Epoch 235, Training loss 1.5502648518863673\n",
      "Epoch 236, Training loss 1.6130051864149841\n",
      "Epoch 237, Training loss 1.356349500116231\n",
      "Epoch 238, Training loss 1.414046765578704\n",
      "Epoch 239, Training loss 1.3724218710596228\n",
      "Epoch 240, Training loss 1.3626687899640806\n",
      "Epoch 241, Training loss 1.4295644197550028\n",
      "Epoch 242, Training loss 1.3817294909765885\n",
      "Epoch 243, Training loss 1.3061713036458564\n",
      "Epoch 244, Training loss 1.3613025977785935\n",
      "Epoch 245, Training loss 1.3986514482526586\n",
      "Epoch 246, Training loss 1.3582929613181247\n",
      "Epoch 247, Training loss 1.4858313809358203\n",
      "Epoch 248, Training loss 1.3300764375249314\n",
      "Epoch 249, Training loss 1.343893359534067\n",
      "Epoch 250, Training loss 1.3178608005472878\n",
      "Epoch 251, Training loss 1.3110650946098292\n",
      "Epoch 252, Training loss 1.3810125962306516\n",
      "Epoch 253, Training loss 1.3297990974965856\n",
      "Epoch 254, Training loss 1.4793579272251653\n",
      "Epoch 255, Training loss 1.3781781651703935\n",
      "Epoch 256, Training loss 1.3827669686230464\n",
      "Epoch 257, Training loss 1.3756220838738016\n",
      "Epoch 258, Training loss 1.4172735778124461\n",
      "Epoch 259, Training loss 1.4137610542140977\n",
      "Epoch 260, Training loss 1.4204055527040609\n",
      "Epoch 261, Training loss 1.3781169266345714\n",
      "Epoch 262, Training loss 1.4149372770410902\n",
      "Epoch 263, Training loss 1.3698968408651364\n",
      "Epoch 264, Training loss 1.3053758153330564\n",
      "Epoch 265, Training loss 1.393315982986111\n",
      "Epoch 266, Training loss 1.309772312344851\n",
      "Epoch 267, Training loss 1.3797039081810003\n",
      "Epoch 268, Training loss 1.4653911899823646\n",
      "Epoch 269, Training loss 1.3893221885316276\n",
      "Epoch 270, Training loss 1.4641788029691065\n",
      "Epoch 271, Training loss 1.4028613094466846\n",
      "Epoch 272, Training loss 1.3566037881715358\n",
      "Epoch 273, Training loss 1.4742274171469105\n",
      "Epoch 274, Training loss 1.4665205230899827\n",
      "Epoch 275, Training loss 1.3441166480480369\n",
      "Epoch 276, Training loss 1.3095373164953055\n",
      "Epoch 277, Training loss 1.5372259689514243\n",
      "Epoch 278, Training loss 1.2984085860040582\n",
      "Epoch 279, Training loss 1.3091606202210588\n",
      "Epoch 280, Training loss 1.4008384923551889\n",
      "Epoch 281, Training loss 1.4937276606207497\n",
      "Epoch 282, Training loss 1.6044926270698099\n",
      "Epoch 283, Training loss 1.3547469228157663\n",
      "Epoch 284, Training loss 1.4478075447996868\n",
      "Epoch 285, Training loss 1.4063695243185992\n",
      "Epoch 286, Training loss 1.3982814456651378\n",
      "Epoch 287, Training loss 1.5284170080594053\n",
      "Epoch 288, Training loss 1.440898819369008\n",
      "Epoch 289, Training loss 1.3980343931627683\n",
      "Epoch 290, Training loss 1.427516376507952\n",
      "Epoch 291, Training loss 1.5093272030615996\n",
      "Epoch 292, Training loss 1.3397530439486176\n",
      "Epoch 293, Training loss 1.3778973325383184\n",
      "Epoch 294, Training loss 1.6270265606370664\n",
      "Epoch 295, Training loss 1.6430867912657472\n",
      "Epoch 296, Training loss 1.3524471808853213\n",
      "Epoch 297, Training loss 1.3519286476396153\n",
      "Epoch 298, Training loss 1.4268157119019407\n",
      "Epoch 299, Training loss 1.4502034178125205\n",
      "Epoch 300, Training loss 1.4280099456604372\n",
      "Epoch 301, Training loss 1.3966334884668838\n",
      "Epoch 302, Training loss 1.4571751818717629\n",
      "Epoch 303, Training loss 1.411227806454285\n",
      "Epoch 304, Training loss 1.452524253057969\n",
      "Epoch 305, Training loss 1.4979189706157743\n",
      "Epoch 306, Training loss 1.4450055164363345\n",
      "Epoch 307, Training loss 1.4488087754435148\n",
      "Epoch 308, Training loss 1.3559067165480967\n",
      "Epoch 309, Training loss 1.4248830370157353\n",
      "Epoch 310, Training loss 1.419408343252985\n",
      "Epoch 311, Training loss 1.38991098179106\n",
      "Epoch 312, Training loss 1.2713215095437105\n",
      "Epoch 313, Training loss 1.4782591258955204\n",
      "Epoch 314, Training loss 1.4362096902428183\n",
      "Epoch 315, Training loss 1.4964728542345158\n",
      "Epoch 316, Training loss 1.5115017041872698\n",
      "Epoch 317, Training loss 1.369484485108881\n",
      "Epoch 318, Training loss 1.4429751810610782\n",
      "Epoch 319, Training loss 1.492010448301214\n",
      "Epoch 320, Training loss 1.4149107016280973\n",
      "Epoch 321, Training loss 1.488058515267416\n",
      "Epoch 322, Training loss 1.3636827544443766\n",
      "Epoch 323, Training loss 1.469122464769987\n",
      "Epoch 324, Training loss 1.5237973367812265\n",
      "Epoch 325, Training loss 1.5714600535940266\n",
      "Epoch 326, Training loss 1.5662166557870802\n",
      "Epoch 327, Training loss 1.5687504118994595\n",
      "Epoch 328, Training loss 1.4161855999276214\n",
      "Epoch 329, Training loss 1.4668253226293244\n",
      "Epoch 330, Training loss 1.6315004774950637\n",
      "Epoch 331, Training loss 1.4128341780675828\n",
      "Epoch 332, Training loss 1.3952188281510625\n",
      "Epoch 333, Training loss 1.4382189879569731\n",
      "Epoch 334, Training loss 1.4852842213029671\n",
      "Epoch 335, Training loss 1.4710984992911331\n",
      "Epoch 336, Training loss 1.486107725270283\n",
      "Epoch 337, Training loss 1.6408984941869562\n",
      "Epoch 338, Training loss 1.4809071221067287\n",
      "Epoch 339, Training loss 1.3479929854908779\n",
      "Epoch 340, Training loss 1.4018147712455706\n",
      "Epoch 341, Training loss 1.399251582823927\n",
      "Epoch 342, Training loss 1.4856323650225431\n",
      "Epoch 343, Training loss 1.3991775912260225\n",
      "Epoch 344, Training loss 1.3712574791348602\n",
      "Epoch 345, Training loss 1.405175639261084\n",
      "Epoch 346, Training loss 1.2976751357009664\n",
      "Epoch 347, Training loss 1.3494929909178537\n",
      "Epoch 348, Training loss 1.3899148459835806\n",
      "Epoch 349, Training loss 1.4808433760460704\n",
      "Epoch 350, Training loss 1.4632050523217264\n",
      "Epoch 351, Training loss 1.503028624685135\n",
      "Epoch 352, Training loss 1.3496705404812113\n",
      "Epoch 353, Training loss 1.5698537418675405\n",
      "Epoch 354, Training loss 1.3700014753171714\n",
      "Epoch 355, Training loss 1.3657913742858354\n",
      "Epoch 356, Training loss 1.3902001490905016\n",
      "Epoch 357, Training loss 1.3724008621433366\n",
      "Epoch 358, Training loss 1.3948477834140243\n",
      "Epoch 359, Training loss 1.4404425126184843\n",
      "Epoch 360, Training loss 1.3476459653924606\n",
      "Epoch 361, Training loss 1.3855722536416737\n",
      "Epoch 362, Training loss 1.3454643795464247\n",
      "Epoch 363, Training loss 1.471404606185953\n",
      "Epoch 364, Training loss 1.3462743726852748\n",
      "Epoch 365, Training loss 1.5353047387872776\n",
      "Epoch 366, Training loss 1.3528296758829852\n",
      "Epoch 367, Training loss 1.4973392627432591\n",
      "Epoch 368, Training loss 1.3645316834979162\n",
      "Epoch 369, Training loss 1.3567107602948998\n",
      "Epoch 370, Training loss 1.5398541464182844\n",
      "Epoch 371, Training loss 1.400705272834612\n",
      "Epoch 372, Training loss 1.3075120773154292\n",
      "Epoch 373, Training loss 1.3575454696746712\n",
      "Epoch 374, Training loss 1.3013129678649207\n",
      "Epoch 375, Training loss 1.514921673093832\n",
      "Epoch 376, Training loss 1.4390105487551679\n",
      "Epoch 377, Training loss 1.2967962642288566\n",
      "Epoch 378, Training loss 1.421405256638843\n",
      "Epoch 379, Training loss 1.2169652076328237\n",
      "Epoch 380, Training loss 1.3980173206912767\n",
      "Epoch 381, Training loss 1.362741813452621\n",
      "Epoch 382, Training loss 1.3592485616756573\n",
      "Epoch 383, Training loss 1.5066605870987146\n",
      "Epoch 384, Training loss 1.297332486598008\n",
      "Epoch 385, Training loss 1.3752524487145155\n",
      "Epoch 386, Training loss 1.3122776259928184\n",
      "Epoch 387, Training loss 1.3528311333245686\n",
      "Epoch 388, Training loss 1.4772936049167986\n",
      "Epoch 389, Training loss 1.433394426533062\n",
      "Epoch 390, Training loss 1.4255951519461056\n",
      "Epoch 391, Training loss 1.3631460021895883\n",
      "Epoch 392, Training loss 1.311895566354251\n",
      "Epoch 393, Training loss 1.243926051992993\n",
      "Epoch 394, Training loss 1.5233670723685588\n",
      "Epoch 395, Training loss 1.3642465350180468\n",
      "Epoch 396, Training loss 1.2972532809596231\n",
      "Epoch 397, Training loss 1.3928960057706168\n",
      "Epoch 398, Training loss 1.4465394959270745\n",
      "Epoch 399, Training loss 1.4628947353173918\n",
      "Epoch 400, Training loss 1.560844611528462\n",
      "Epoch 401, Training loss 1.3020295462048888\n",
      "Epoch 402, Training loss 1.3776919088719584\n",
      "Epoch 403, Training loss 1.337558943102315\n",
      "Epoch 404, Training loss 1.355386677155289\n",
      "Epoch 405, Training loss 1.5074505956419233\n",
      "Epoch 406, Training loss 1.3797766902952984\n",
      "Epoch 407, Training loss 1.3496660856896106\n",
      "Epoch 408, Training loss 1.4180988133723829\n",
      "Epoch 409, Training loss 1.3516783109049224\n",
      "Epoch 410, Training loss 1.3839797732764496\n",
      "Epoch 411, Training loss 1.4850800568967322\n",
      "Epoch 412, Training loss 1.3765654990756362\n",
      "Epoch 413, Training loss 1.4534761912043161\n",
      "Epoch 414, Training loss 1.4043068409166688\n",
      "Epoch 415, Training loss 1.5215690756368825\n",
      "Epoch 416, Training loss 1.3963229900848682\n",
      "Epoch 417, Training loss 1.3977979432735381\n",
      "Epoch 418, Training loss 1.5658062080510746\n",
      "Epoch 419, Training loss 1.527472327158542\n",
      "Epoch 420, Training loss 1.3502064468928814\n",
      "Epoch 421, Training loss 1.430559290202877\n",
      "Epoch 422, Training loss 1.4628645693344986\n",
      "Epoch 423, Training loss 1.3162458907397212\n",
      "Epoch 424, Training loss 1.4247033768628696\n",
      "Epoch 425, Training loss 1.3640426355910986\n",
      "Epoch 426, Training loss 1.4634668358728518\n",
      "Epoch 427, Training loss 1.2868501233303447\n",
      "Epoch 428, Training loss 1.47930219034781\n",
      "Epoch 429, Training loss 1.512973426883284\n",
      "Epoch 430, Training loss 1.486393464723055\n",
      "Epoch 431, Training loss 1.434409927283048\n",
      "Epoch 432, Training loss 1.3921291104838884\n",
      "Epoch 433, Training loss 1.4373557244305828\n",
      "Epoch 434, Training loss 1.5025589157646877\n",
      "Epoch 435, Training loss 1.4379560991712832\n",
      "Epoch 436, Training loss 1.4132567795699154\n",
      "Epoch 437, Training loss 1.2622757559785218\n",
      "Epoch 438, Training loss 1.2711469800859994\n",
      "Epoch 439, Training loss 1.4249297232818092\n",
      "Epoch 440, Training loss 1.4607435584023267\n",
      "Epoch 441, Training loss 1.4587915785834875\n",
      "Epoch 442, Training loss 1.477764199830639\n",
      "Epoch 443, Training loss 1.5000045915850366\n",
      "Epoch 444, Training loss 1.3683186799671667\n",
      "Epoch 445, Training loss 1.4394079129896051\n",
      "Epoch 446, Training loss 1.3570947218313247\n",
      "Epoch 447, Training loss 1.545059852444569\n",
      "Epoch 448, Training loss 1.427700706360451\n",
      "Epoch 449, Training loss 1.4273908236981727\n",
      "Epoch 450, Training loss 1.31329035980459\n",
      "Epoch 451, Training loss 1.5014479322931014\n",
      "Epoch 452, Training loss 1.3902050989386159\n",
      "Epoch 453, Training loss 1.393244716149576\n",
      "Epoch 454, Training loss 1.3830478806842628\n",
      "Epoch 455, Training loss 1.4681278267822817\n",
      "Epoch 456, Training loss 1.3960185509298624\n",
      "Epoch 457, Training loss 1.382982728536626\n",
      "Epoch 458, Training loss 1.465511110478764\n",
      "Epoch 459, Training loss 1.4895158491457319\n",
      "Epoch 460, Training loss 1.3710349633810863\n",
      "Epoch 461, Training loss 1.4358020932786384\n",
      "Epoch 462, Training loss 1.4866350190364694\n",
      "Epoch 463, Training loss 1.4681541914133986\n"
     ]
    }
   ],
   "source": [
    "rmsds = []\n",
    "for epoch in range(1, n_epochs + 1):\n",
    "    \n",
    "    system = System(mol.numAtoms, nreplicas=10,precision=torch.double, device=device)\n",
    "    system.set_positions(mol.coords)\n",
    "    system.set_box(mol.box)\n",
    "    system.set_velocities(maxwell_boltzmann(forces.par.masses, T=350, replicas=10))\n",
    "    integrator = Integrator(system, forces, 1, device, gamma=0.1, T=0)\n",
    "    \n",
    "    if (epoch % 100) == 0:\n",
    "        learning_rate /= 2\n",
    "    \n",
    "    for i in iterator:\n",
    "             #viewFrame(mol, system.pos, system.forces)\n",
    "        Ekin, Epot, T = integrator.step(niter=output_period)\n",
    "    #wrapper.wrap(system.pos, system.box)\n",
    "        #currpos = system.pos.clone()\n",
    "    \n",
    "    loss_sum = 0\n",
    "    rmsd_sum = 0\n",
    "    for idx, rep in enumerate(system.pos):\n",
    "        loss, passed = rmsd(rep, native_coords[idx])\n",
    "        log_loss = loss_log = torch.log(1.0 + loss)\n",
    "        loss_sum += log_loss\n",
    "        rmsd_sum += loss\n",
    "    loss_sum\n",
    "    \n",
    "    optim.zero_grad()\n",
    "    loss_sum.backward()\n",
    "    optim.step()\n",
    "\n",
    "    print(f'Epoch {epoch}, Training loss {rmsd_sum / 10}')\n",
    "\n",
    "        #for rep, coords in enumerate(native_coords):\n",
    "        #    print('RMSD GOOD: ', rmsd(native_coords[rep], currpos[rep]))\n",
    "    \n",
    "    rmsds.append(loss_sum.item())"
   ]
  },
  {
   "cell_type": "code",
   "execution_count": 39,
   "id": "736c2741-0e34-45a5-a8c1-c52e1618098f",
   "metadata": {},
   "outputs": [
    {
     "data": {
      "text/plain": [
       "8.30422538327631"
      ]
     },
     "execution_count": 39,
     "metadata": {},
     "output_type": "execute_result"
    }
   ],
   "source": [
    "from statistics import mean\n",
    "mean(rmsds)"
   ]
  },
  {
   "cell_type": "code",
   "execution_count": 40,
   "id": "13b46981-dc43-4787-a613-15fcce352adf",
   "metadata": {},
   "outputs": [],
   "source": [
    "epochs = list(range(1,len(rmsds) + 1))"
   ]
  },
  {
   "cell_type": "code",
   "execution_count": 41,
   "id": "a9d7ba92-2cae-474c-a46b-4ffc2212a5a4",
   "metadata": {},
   "outputs": [
    {
     "name": "stderr",
     "output_type": "stream",
     "text": [
      "2021-08-27 20:14:08,899 - matplotlib.legend - WARNING - No handles with labels found to put in legend.\n"
     ]
    },
    {
     "data": {
      "text/plain": [
       "<matplotlib.legend.Legend at 0x7fc4e67b0d90>"
      ]
     },
     "execution_count": 41,
     "metadata": {},
     "output_type": "execute_result"
    },
    {
     "data": {
      "image/png": "[encoded data removed]",
      "text/plain": [
       "<Figure size 432x288 with 1 Axes>"
      ]
     },
     "metadata": {
      "needs_background": "light"
     },
     "output_type": "display_data"
    }
   ],
   "source": [
    "# Import the necessary packages and modules\n",
    "import matplotlib.pyplot as plt\n",
    "import numpy as np\n",
    "\n",
    "label = \"\"\n",
    "plt.plot(epochs, rmsds)\n",
    "plt.xlabel('Epoch')\n",
    "plt.ylabel('RMSD')\n",
    "plt.title('Training Chignolin with pre-trained NN')\n",
    "# show a legend on the plot\n",
    "plt.legend()\n"
   ]
  },
  {
   "cell_type": "code",
   "execution_count": 99,
   "id": "9a0570f2-e3a9-4769-9b1b-a702c9f7518e",
   "metadata": {},
   "outputs": [
    {
     "data": {
      "text/plain": [
       "tensor(2.1094e-14, dtype=torch.float64)"
      ]
     },
     "execution_count": 99,
     "metadata": {},
     "output_type": "execute_result"
    }
   ],
   "source": [
    "loss_sum = 0\n",
    "for idx, rep in enumerate(system.pos):\n",
    "    loss, passed = rmsd(rep, native_coords[idx])\n",
    "    log_loss = loss_log = torch.log(1.0 + loss)\n",
    "    loss_sum += log_loss\n",
    "loss_sum"
   ]
  },
  {
   "cell_type": "code",
   "execution_count": 63,
   "id": "769c38b5-7342-47e2-af78-4acff3c7c12e",
   "metadata": {},
   "outputs": [],
   "source": [
    "loss1 = torch.tensor(9)\n",
    "loss2 = torch.tensor(8)\n",
    "loss3 = torch.tensor(11)\n",
    "loss_log = torch.log(1 + loss)"
   ]
  },
  {
   "cell_type": "code",
   "execution_count": 66,
   "id": "ad4bfcbb-ba2a-4eab-adf9-d4418627212b",
   "metadata": {},
   "outputs": [
    {
     "data": {
      "text/plain": [
       "10.000000319754372"
      ]
     },
     "execution_count": 66,
     "metadata": {},
     "output_type": "execute_result"
    }
   ],
   "source": [
    "from math import exp\n",
    "exp(loss_log)"
   ]
  },
  {
   "cell_type": "code",
   "execution_count": null,
   "id": "73a2ef8c-9f52-4878-8c8b-a29f8ffdd9ac",
   "metadata": {},
   "outputs": [],
   "source": []
  }
 ],
 "metadata": {
  "kernelspec": {
   "display_name": "TorchMDNet",
   "language": "python",
   "name": "torchmd-net"
  },
  "language_info": {
   "codemirror_mode": {
    "name": "ipython",
    "version": 3
   },
   "file_extension": ".py",
   "mimetype": "text/x-python",
   "name": "python",
   "nbconvert_exporter": "python",
   "pygments_lexer": "ipython3",
   "version": "3.8.10"
  }
 },
 "nbformat": 4,
 "nbformat_minor": 5
}
