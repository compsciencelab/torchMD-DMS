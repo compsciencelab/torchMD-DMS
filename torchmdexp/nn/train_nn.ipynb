{
 "cells": [
  {
   "cell_type": "code",
   "execution_count": 27,
   "id": "6d13170f-8494-40ef-82e5-756faa4b44fa",
   "metadata": {},
   "outputs": [],
   "source": [
    "from moleculekit.molecule import Molecule\n",
    "from torchmd.forcefields.ff_yaml import YamlForcefield\n",
    "from torchmd.forcefields.forcefield import ForceField\n",
    "from torchmd.forces import Forces\n",
    "from torchmd.integrator import Integrator, maxwell_boltzmann\n",
    "from torchmd.parameters import Parameters\n",
    "from torchmd.systems import System\n",
    "from torchmd.wrapper import Wrapper\n",
    "from tqdm import tqdm\n",
    "from utils import rmsd"
   ]
  },
  {
   "cell_type": "code",
   "execution_count": 28,
   "id": "c56f862c-500b-46db-91f6-72e4eb682fef",
   "metadata": {},
   "outputs": [],
   "source": [
    "import torch\n",
    "from torchmdnet.models.model import load_model\n",
    "\n",
    "\n",
    "class External:\n",
    "    def __init__(self, netfile, embeddings, device=\"cpu\"):\n",
    "        self.model = load_model(netfile, device=device, derivative=True)\n",
    "        self.device = device\n",
    "        self.n_atoms = embeddings.size(1)\n",
    "        self.embeddings = embeddings.reshape(-1).to(device)\n",
    "        self.batch = torch.arange(embeddings.size(0), device=device).repeat_interleave(\n",
    "            embeddings.size(1)\n",
    "        )\n",
    "        self.model.eval()\n",
    "\n",
    "    def calculate(self, pos, box):\n",
    "        pos = pos.to(self.device).type(torch.float32).reshape(-1, 3)\n",
    "        energy, forces = self.model(self.embeddings, pos, self.batch)\n",
    "        return energy.detach(), forces.reshape(-1, self.n_atoms, 3)\n"
   ]
  },
  {
   "cell_type": "code",
   "execution_count": 29,
   "id": "415eff71-45cf-4c07-96c3-37c0fac86f78",
   "metadata": {},
   "outputs": [
    {
     "name": "stderr",
     "output_type": "stream",
     "text": [
      "2021-08-24 18:40:14,347 - moleculekit.molecule - INFO - Removed 83 atoms. 10 atoms remaining in the molecule.\n"
     ]
    }
   ],
   "source": [
    "# Molecule\n",
    "mol = Molecule('data/chignolin_cln025.pdb')\n",
    "mol.filter('name CA')\n",
    "mol.read('data/chignolin_ca_top.psf')\n",
    "mol.read('data/chignolin_ca_initial_coords.xtc')"
   ]
  },
  {
   "cell_type": "code",
   "execution_count": 30,
   "id": "b4e86290-7906-4de7-825b-9338f9e445f6",
   "metadata": {},
   "outputs": [],
   "source": [
    "# Loading the model as external force\n",
    "\n",
    "embeddings = [4, 4, 5, 8, 6, 13, 2, 13, 7, 4]\n",
    "#model = torch.load('data/epoch=47-val_loss=739.5398-test_loss=21.5975.ckpt')\n",
    "device = 'cpu'\n",
    "\n",
    "#externalmodule = importlib.import_module('torchmdnet.calculators')\n",
    "embeddings = torch.tensor(embeddings).repeat(10, 1)\n",
    "external = External('data/epoch=47-val_loss=739.5398-test_loss=21.5975.ckpt', embeddings, device)\n"
   ]
  },
  {
   "cell_type": "code",
   "execution_count": 31,
   "id": "40162542-d3ea-4cd4-9764-f6417a52e5bc",
   "metadata": {},
   "outputs": [],
   "source": [
    "ff = ForceField.create(mol,'/shared/carles/torchMD-DMS/nn/data/ca_priors-dihedrals_general_2xweaker.yaml')\n",
    "cln_parameters = Parameters(ff, mol, terms=['bonds', 'repulsionCG', 'dihedrals'], device=device)\n",
    "forces = Forces(cln_parameters, terms=['bonds', 'repulsionCG', 'dihedrals'], external=external, cutoff=None, \n",
    "                rfa=False, switch_dist=None\n",
    "               )"
   ]
  },
  {
   "cell_type": "code",
   "execution_count": 32,
   "id": "cdef7b2d-9acc-4a64-919c-cd63f44e3da9",
   "metadata": {},
   "outputs": [],
   "source": [
    "# System\n",
    "system = System(mol.numAtoms, nreplicas=10,precision=torch.double, device=device)\n",
    "system.set_positions(mol.coords)\n",
    "system.set_box(mol.box)\n",
    "system.set_velocities(maxwell_boltzmann(forces.par.masses, T=350, replicas=10))"
   ]
  },
  {
   "cell_type": "code",
   "execution_count": 33,
   "id": "f755cf76-9545-4ce9-b030-8edcb801bb28",
   "metadata": {},
   "outputs": [],
   "source": [
    "integrator = Integrator(system, forces, 1, device, gamma=0.1, T=0)"
   ]
  },
  {
   "cell_type": "code",
   "execution_count": 34,
   "id": "24d99504-95c3-4a9f-b075-a6260678bae9",
   "metadata": {},
   "outputs": [],
   "source": [
    "native_coords = system.pos.clone().detach()"
   ]
  },
  {
   "cell_type": "code",
   "execution_count": 9,
   "id": "85edc8a6-e99c-4bb1-b5b1-80296cf51d0d",
   "metadata": {},
   "outputs": [
    {
     "name": "stderr",
     "output_type": "stream",
     "text": [
      "  0%|                                                    | 0/25 [00:00<?, ?it/s]"
     ]
    }
   ],
   "source": [
    "steps = 250\n",
    "output_period = 10\n",
    "n_epochs = 50\n",
    "iterator = tqdm(range(1,int(steps/output_period)+1))\n",
    "Epot = forces.compute(system.pos, system.box, system.forces)"
   ]
  },
  {
   "cell_type": "code",
   "execution_count": 10,
   "id": "bc244cbc-3089-4a78-bceb-19d46096ab1f",
   "metadata": {},
   "outputs": [],
   "source": [
    "learning_rate = 1e-4\n",
    "optim = torch.optim.Adam(forces.external.model.parameters(), lr=learning_rate)"
   ]
  },
  {
   "cell_type": "code",
   "execution_count": 11,
   "id": "490fde5d-cfbf-4e0f-9fc4-5751d3824507",
   "metadata": {},
   "outputs": [
    {
     "name": "stderr",
     "output_type": "stream",
     "text": [
      "100%|███████████████████████████████████████████| 25/25 [00:16<00:00,  1.53it/s]\n"
     ]
    },
    {
     "name": "stdout",
     "output_type": "stream",
     "text": [
      "Epoch 1, Training loss 1.0318883328437678\n",
      "Epoch 2, Training loss 1.1227463399915107\n",
      "Epoch 3, Training loss 1.3569328884381298\n",
      "Epoch 4, Training loss 0.733572105911926\n",
      "Epoch 5, Training loss 0.9191969733201067\n",
      "Epoch 6, Training loss 0.8205177339910685\n",
      "Epoch 7, Training loss 1.2349958763504087\n",
      "Epoch 8, Training loss 0.7829647722881388\n",
      "Epoch 9, Training loss 0.9654845583916833\n",
      "Epoch 10, Training loss 1.0681669467036148\n",
      "Epoch 11, Training loss 1.011031769326831\n",
      "Epoch 12, Training loss 0.6732129061540599\n",
      "Epoch 13, Training loss 1.067905959335478\n",
      "Epoch 14, Training loss 0.7208931860858101\n",
      "Epoch 15, Training loss 0.727583050886173\n",
      "Epoch 16, Training loss 0.43404234981603973\n",
      "Epoch 17, Training loss 0.9808668812341137\n",
      "Epoch 18, Training loss 0.5901581539646306\n",
      "Epoch 19, Training loss 0.7350825691920571\n",
      "Epoch 20, Training loss 0.6037853020409982\n",
      "Epoch 21, Training loss 0.6575464021967639\n",
      "Epoch 22, Training loss 0.44412552357505103\n",
      "Epoch 23, Training loss 0.7592287467805209\n",
      "Epoch 24, Training loss 0.5376779942626884\n",
      "Epoch 25, Training loss 0.50380009541179\n",
      "Epoch 26, Training loss 0.9252323100360511\n",
      "Epoch 27, Training loss 0.49482017478324697\n",
      "Epoch 28, Training loss 0.5625913029088783\n",
      "Epoch 29, Training loss 0.45803722464115526\n",
      "Epoch 30, Training loss 0.6446181071234948\n",
      "Epoch 31, Training loss 0.7882937680549856\n",
      "Epoch 32, Training loss 0.5335779627204228\n",
      "Epoch 33, Training loss 0.6422049388189146\n",
      "Epoch 34, Training loss 0.6274309148843111\n",
      "Epoch 35, Training loss 0.6039384136452968\n",
      "Epoch 36, Training loss 0.5840744677389885\n",
      "Epoch 37, Training loss 0.345224381705139\n",
      "Epoch 38, Training loss 0.5663679593439195\n",
      "Epoch 39, Training loss 0.6890391557685154\n",
      "Epoch 40, Training loss 0.43465005314333\n",
      "Epoch 41, Training loss 0.8740993619680343\n",
      "Epoch 42, Training loss 0.43716924190819967\n",
      "Epoch 43, Training loss 0.4878785415217571\n",
      "Epoch 44, Training loss 0.5485033426456744\n",
      "Epoch 45, Training loss 0.4955646162044594\n",
      "Epoch 46, Training loss 0.49778647017434413\n",
      "Epoch 47, Training loss 0.5055850281710808\n",
      "Epoch 48, Training loss 0.7131449712206787\n",
      "Epoch 49, Training loss 0.535888271025996\n",
      "Epoch 50, Training loss 0.3843258528270034\n"
     ]
    }
   ],
   "source": [
    "rmsds = []\n",
    "for epoch in range(1, n_epochs + 1):\n",
    "    \n",
    "    system = System(mol.numAtoms, nreplicas=10,precision=torch.double, device=device)\n",
    "    system.set_positions(mol.coords)\n",
    "    system.set_box(mol.box)\n",
    "    system.set_velocities(maxwell_boltzmann(forces.par.masses, T=350, replicas=10))\n",
    "    integrator = Integrator(system, forces, 1, device, gamma=0.1, T=0)\n",
    "    \n",
    "    for i in iterator:\n",
    "             #viewFrame(mol, system.pos, system.forces)\n",
    "        Ekin, Epot, T = integrator.step(niter=output_period)\n",
    "    #wrapper.wrap(system.pos, system.box)\n",
    "        #currpos = system.pos.clone()\n",
    "        \n",
    "    loss, passed = rmsd(native_coords[0], system.pos.clone()[0])\n",
    "    loss_log = torch.log(1.0 + loss)\n",
    "    optim.zero_grad()\n",
    "    loss_log.backward()\n",
    "    optim.step()\n",
    "\n",
    "    print(f'Epoch {epoch}, Training loss {loss.item()}')\n",
    "\n",
    "        #for rep, coords in enumerate(native_coords):\n",
    "        #    print('RMSD GOOD: ', rmsd(native_coords[rep], currpos[rep]))\n",
    "    \n",
    "    rmsds.append(loss.item())"
   ]
  },
  {
   "cell_type": "code",
   "execution_count": 14,
   "id": "4cb1ad02-be1f-44b7-8e11-722f92eb2f14",
   "metadata": {},
   "outputs": [
    {
     "data": {
      "text/plain": [
       "0.6972690850295448"
      ]
     },
     "execution_count": 14,
     "metadata": {},
     "output_type": "execute_result"
    }
   ],
   "source": [
    "from statistics import mean\n",
    "mean(rmsds)"
   ]
  },
  {
   "cell_type": "code",
   "execution_count": 17,
   "id": "921f0984-22df-4a03-90fa-b1f8c605cc5d",
   "metadata": {},
   "outputs": [],
   "source": [
    "epochs = list(range(1,len(rmsds) + 1))"
   ]
  },
  {
   "cell_type": "code",
   "execution_count": 24,
   "id": "e916fc20-b8e1-451e-a9e1-2266486de0cd",
   "metadata": {},
   "outputs": [
    {
     "name": "stderr",
     "output_type": "stream",
     "text": [
      "2021-08-24 18:25:10,556 - matplotlib.legend - WARNING - No handles with labels found to put in legend.\n"
     ]
    },
    {
     "data": {
      "text/plain": [
       "<matplotlib.legend.Legend at 0x7efb2d2bce80>"
      ]
     },
     "execution_count": 24,
     "metadata": {},
     "output_type": "execute_result"
    },
    {
     "data": {
      "image/png": "[encoded data removed]",
      "text/plain": [
       "<Figure size 432x288 with 1 Axes>"
      ]
     },
     "metadata": {
      "needs_background": "light"
     },
     "output_type": "display_data"
    }
   ],
   "source": [
    "# Import the necessary packages and modules\n",
    "import matplotlib.pyplot as plt\n",
    "import numpy as np\n",
    "\n",
    "label = \"\"\n",
    "plt.plot(epochs, rmsds)\n",
    "plt.xlabel('Epoch')\n",
    "plt.ylabel('RMSD')\n",
    "plt.title('Training Chignolin with pre-trained NN')\n",
    "# show a legend on the plot\n",
    "plt.legend()\n"
   ]
  }
 ],
 "metadata": {
  "kernelspec": {
   "display_name": "TorchMDNet",
   "language": "python",
   "name": "torchmd-net"
  },
  "language_info": {
   "codemirror_mode": {
    "name": "ipython",
    "version": 3
   },
   "file_extension": ".py",
   "mimetype": "text/x-python",
   "name": "python",
   "nbconvert_exporter": "python",
   "pygments_lexer": "ipython3",
   "version": "3.8.10"
  }
 },
 "nbformat": 4,
 "nbformat_minor": 5
}
