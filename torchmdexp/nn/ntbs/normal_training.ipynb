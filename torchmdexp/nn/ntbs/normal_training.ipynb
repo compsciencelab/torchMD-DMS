{
 "cells": [
  {
   "cell_type": "code",
   "execution_count": 1,
   "id": "36d81db7-5c04-4d75-8e53-67bffce200d1",
   "metadata": {
    "tags": []
   },
   "outputs": [],
   "source": [
    "import argparse\n",
    "from argparse import Namespace \n",
    "import torch\n",
    "from torchmdnet import calculators\n",
    "from torchmdnet.utils import LoadFromFile, LoadFromCheckpoint, save_argparse, number\n",
    "from torchmdnet import datasets, priors, models\n",
    "from torchmdnet.data import DataModule\n",
    "from torchmdnet.models import output_modules\n",
    "from torchmdnet.models.utils import rbf_class_mapping, act_class_mapping\n",
    "from torchmdnet.models.model import load_model, create_model\n",
    "\n",
    "from moleculekit.molecule import Molecule\n",
    "from torchmd.forcefields.ff_yaml import YamlForcefield\n",
    "from torchmd.forcefields.forcefield import ForceField\n",
    "from torchmd.forces import Forces\n",
    "from torchmd.integrator import Integrator, maxwell_boltzmann\n",
    "from torchmd.parameters import Parameters\n",
    "from torchmd.systems import System\n",
    "from torchmd.wrapper import Wrapper\n",
    "\n",
    "from torchmdexp.nn.utils import get_embeddings\n",
    "from torchmdexp.nn.module import LNNP\n",
    "from torchmdexp.nn.calculator import External\n",
    "\n",
    "from tqdm import tqdm"
   ]
  },
  {
   "cell_type": "markdown",
   "id": "4269bf62-366f-4b37-98e9-34a3d060ec45",
   "metadata": {},
   "source": [
    "## Load args file"
   ]
  },
  {
   "cell_type": "code",
   "execution_count": 2,
   "id": "30b8be7c-90e9-4815-b83a-85c9ef05f27f",
   "metadata": {
    "jupyter": {
     "source_hidden": true
    },
    "tags": []
   },
   "outputs": [],
   "source": [
    "def get_args():\n",
    "    # fmt: off\n",
    "    parser = argparse.ArgumentParser(description='Training')\n",
    "    parser.add_argument('--load-model', action=LoadFromCheckpoint, help='Restart training using a model checkpoint')  # keep first\n",
    "    parser.add_argument('--conf', '-c', type=open, action=LoadFromFile, help='Configuration yaml file')  # keep second\n",
    "    parser.add_argument('--num-epochs', default=300, type=int, help='number of epochs')\n",
    "    parser.add_argument('--batch-size', default=32, type=int, help='batch size')\n",
    "    parser.add_argument('--inference-batch-size', default=None, type=int, help='Batchsize for validation and tests.')\n",
    "    parser.add_argument('--lr', default=1e-4, type=float, help='learning rate')\n",
    "    parser.add_argument('--lr-patience', type=int, default=10, help='Patience for lr-schedule. Patience per eval-interval of validation')\n",
    "    parser.add_argument('--lr-min', type=float, default=1e-6, help='Minimum learning rate before early stop')\n",
    "    parser.add_argument('--lr-factor', type=float, default=0.8, help='Minimum learning rate before early stop')\n",
    "    parser.add_argument('--lr-warmup-steps', type=int, default=0, help='How many steps to warm-up over. Defaults to 0 for no warm-up')\n",
    "    parser.add_argument('--early-stopping-patience', type=int, default=30, help='Stop training after this many epochs without improvement')\n",
    "    parser.add_argument('--weight-decay', type=float, default=0.0, help='Weight decay strength')\n",
    "    parser.add_argument('--ema-alpha-y', type=float, default=1.0, help='The amount of influence of new losses on the exponential moving average of y')\n",
    "    parser.add_argument('--ema-alpha-dy', type=float, default=1.0, help='The amount of influence of new losses on the exponential moving average of dy')\n",
    "    parser.add_argument('--ngpus', type=int, default=-1, help='Number of GPUs, -1 use all available. Use CUDA_VISIBLE_DEVICES=1, to decide gpus')\n",
    "    parser.add_argument('--num-nodes', type=int, default=1, help='Number of nodes')\n",
    "    parser.add_argument('--precision', type=int, default=32, choices=[16, 32], help='Floating point precision')\n",
    "    parser.add_argument('--log-dir', '-l', default='/trainings', help='log file')\n",
    "    parser.add_argument('--splits', default=None, help='Npz with splits idx_train, idx_val, idx_test')\n",
    "    parser.add_argument('--train-size', type=number, default=None, help='Percentage/number of samples in training set (None to use all remaining samples)')\n",
    "    parser.add_argument('--val-size', type=number, default=0.05, help='Percentage/number of samples in validation set (None to use all remaining samples)')\n",
    "    parser.add_argument('--test-size', type=number, default=0.1, help='Percentage/number of samples in test set (None to use all remaining samples)')\n",
    "    parser.add_argument('--test-interval', type=int, default=10, help='Test interval, one test per n epochs (default: 10)')\n",
    "    parser.add_argument('--save-interval', type=int, default=10, help='Save interval, one save per n epochs (default: 10)')\n",
    "    parser.add_argument('--seed', type=int, default=1, help='random seed (default: 1)')\n",
    "    parser.add_argument('--distributed-backend', default='ddp', help='Distributed backend: dp, ddp, ddp2')\n",
    "    parser.add_argument('--num-workers', type=int, default=4, help='Number of workers for data prefetch')\n",
    "    parser.add_argument('--redirect', type=bool, default=False, help='Redirect stdout and stderr to log_dir/log')\n",
    "    \n",
    "    # model architecture\n",
    "    parser.add_argument('--model', type=str, default='graph-network', choices=models.__all__, help='Which model to train')\n",
    "    parser.add_argument('--output-model', type=str, default='Scalar', choices=output_modules.__all__, help='The type of output model')\n",
    "    parser.add_argument('--prior-model', type=str, default=None, choices=priors.__all__, help='Which prior model to use')\n",
    "\n",
    "    # architectural args\n",
    "    parser.add_argument('--embedding-dimension', type=int, default=256, help='Embedding dimension')\n",
    "    parser.add_argument('--num-layers', type=int, default=6, help='Number of interaction layers in the model')\n",
    "    parser.add_argument('--num-rbf', type=int, default=64, help='Number of radial basis functions in model')\n",
    "    parser.add_argument('--num-filters', type=int, default=128, help='Number of filters in model')    \n",
    "    parser.add_argument('--activation', type=str, default='silu', choices=list(act_class_mapping.keys()), help='Activation function')\n",
    "    parser.add_argument('--rbf-type', type=str, default='expnorm', choices=list(rbf_class_mapping.keys()), help='Type of distance expansion')\n",
    "    parser.add_argument('--trainable-rbf', type=bool, default=False, help='If distance expansion functions should be trainable')\n",
    "    parser.add_argument('--neighbor-embedding', type=bool, default=False, help='If a neighbor embedding should be applied before interactions')\n",
    "    \n",
    "    # dataset specific\n",
    "    parser.add_argument('--data_dir', default=None, help='Input directory')\n",
    "    parser.add_argument('--dataset', default=None, type=str, choices=datasets.__all__, help='Name of the torch_geometric dataset')\n",
    "    parser.add_argument('--dataset-root', default='~/data', type=str, help='Data storage directory (not used if dataset is \"CG\")')\n",
    "    parser.add_argument('--dataset-arg', default=None, type=str, help='Additional dataset argument, e.g. target property for QM9 or molecule for MD17')\n",
    "    parser.add_argument('--coord-files', default=None, type=str, help='Custom coordinate files glob')\n",
    "    parser.add_argument('--embed-files', default=None, type=str, help='Custom embedding files glob')\n",
    "    parser.add_argument('--energy-files', default=None, type=str, help='Custom energy files glob')\n",
    "    parser.add_argument('--force-files', default=None, type=str, help='Custom force files glob')\n",
    "    parser.add_argument('--energy-weight', default=1.0, type=float, help='Weighting factor for energies in the loss function')\n",
    "    parser.add_argument('--force-weight', default=1.0, type=float, help='Weighting factor for forces in the loss function')\n",
    "\n",
    "    # Transformer specific\n",
    "    parser.add_argument('--distance-influence', type=str, default='both', choices=['keys', 'values', 'both', 'none'], help='Where distance information is included inside the attention')\n",
    "    parser.add_argument('--attn-activation', default='silu', choices=list(act_class_mapping.keys()), help='Attention activation function')\n",
    "    parser.add_argument('--num-heads', type=int, default=8, help='Number of attention heads')\n",
    "    \n",
    "    # Torchmdexp specific\n",
    "    parser.add_argument('--device', default='cpu', help='Type of device, e.g. \"cuda:1\"')\n",
    "    parser.add_argument('--forcefield', default=\"../data/ca_priors-dihedrals_general_2xweaker.yaml\", help='Forcefield .yaml file')\n",
    "    parser.add_argument('--forceterms', nargs='+', default=\"bonds\", help='Forceterms to include, e.g. --forceterms Bonds LJ')\n",
    "    parser.add_argument('--cutoff', default=None, type=float, help='LJ/Elec/Bond cutoff')\n",
    "    parser.add_argument('--rfa', default=False, action='store_true', help='Enable reaction field approximation')\n",
    "    parser.add_argument('--replicas', type=int, default=1, help='Number of different replicas to run')\n",
    "    parser.add_argument('--step_update', type=int, default=5, help='Number of epochs to update the simulation steps')\n",
    "    parser.add_argument('--switch_dist', default=None, type=float, help='Switching distance for LJ')\n",
    "    parser.add_argument('--temperature',  default=300,type=float, help='Assign velocity from initial temperature in K')\n",
    "    parser.add_argument('--force-precision', default='single', type=str, help='LJ/Elec/Bond cutoff')\n",
    "    parser.add_argument('--verbose', default=None, help='Add verbose')\n",
    "    parser.add_argument('--timestep', default=1, type=float, help='Timestep in fs')\n",
    "    parser.add_argument('--langevin_gamma',  default=0.1,type=float, help='Langevin relaxation ps^-1')\n",
    "    parser.add_argument('--langevin_temperature',  default=0,type=float, help='Temperature in K of the thermostat')\n",
    "    parser.add_argument('--max_steps',type=int,default=2000,help='Total number of simulation steps')\n",
    "    \n",
    "    # other args\n",
    "    parser.add_argument('--derivative', default=True, type=bool, help='If true, take the derivative of the prediction w.r.t coordinates')\n",
    "    parser.add_argument('--cutoff-lower', type=float, default=0.0, help='Lower cutoff in model')\n",
    "    parser.add_argument('--cutoff-upper', type=float, default=5.0, help='Upper cutoff in model')\n",
    "    parser.add_argument('--atom-filter', type=int, default=-1, help='Only sum over atoms with Z > atom_filter')\n",
    "    \n",
    "    parser.add_argument('--max-z', type=int, default=100, help='Maximum atomic number that fits in the embedding matrix')\n",
    "    parser.add_argument('--max-num-neighbors', type=int, default=32, help='Maximum number of neighbors to consider in the network')\n",
    "    parser.add_argument('--standardize', type=bool, default=False, help='If true, multiply prediction by dataset std and add mean')\n",
    "    parser.add_argument('--reduce-op', type=str, default='add', choices=['add', 'mean'], help='Reduce operation to apply to atomic predictions')\n",
    "\n",
    "    args = parser.parse_args(\"\")\n",
    "    all_defaults = {}\n",
    "    for key in vars(args):\n",
    "        all_defaults[key] = parser.get_default(key)\n",
    "    \n",
    "    return all_defaults"
   ]
  },
  {
   "cell_type": "code",
   "execution_count": 3,
   "id": "32a48f5a-5fda-4e61-8073-bf0943ce06f8",
   "metadata": {},
   "outputs": [],
   "source": [
    "args_dict = get_args()"
   ]
  },
  {
   "cell_type": "code",
   "execution_count": 4,
   "id": "3f5f0fd8-29e5-4d18-b0f3-15989dd0657e",
   "metadata": {},
   "outputs": [],
   "source": [
    "# process_yaml.py file\n",
    "import yaml\n",
    "\n",
    "with open('../arguments/cln_gnn_brd.yaml') as file:\n",
    "    # The FullLoader parameter handles the conversion from YAML\n",
    "    # scalar values to Python the dictionary format\n",
    "    args_file = yaml.load(file, Loader=yaml.FullLoader)\n",
    "for key, value in args_file.items():\n",
    "    args_dict[key] = value\n",
    "class Struct:\n",
    "    def __init__(self, **entries):\n",
    "        self.__dict__.update(entries)\n",
    "args = Struct(**args_dict)"
   ]
  },
  {
   "cell_type": "code",
   "execution_count": 5,
   "id": "c493fa4f-10d7-41f8-b529-f9d501c921d1",
   "metadata": {},
   "outputs": [],
   "source": [
    "def get_native_coords(mol, args):\n",
    "    \n",
    "    replicas = args.replicas\n",
    "    device = args.device\n",
    "    pos = torch.zeros(replicas, mol.numAtoms, 3, device = device)\n",
    "    \n",
    "    atom_pos = np.transpose(mol.coords, (2, 0, 1))\n",
    "    if replicas > 1 and atom_pos.shape[0] != replicas:\n",
    "        tom_pos = np.repeat(atom_pos[0][None, :], replicas, axis=0)\n",
    "\n",
    "    pos[:] = torch.tensor(\n",
    "            atom_pos, dtype=pos.dtype, device=pos.device\n",
    "    )\n",
    "    pos = pos.type(torch.float64)\n",
    "    \n",
    "    return pos"
   ]
  },
  {
   "cell_type": "code",
   "execution_count": 6,
   "id": "3b1d209c-73e4-4341-9c69-bfbce640aea9",
   "metadata": {},
   "outputs": [],
   "source": [
    "import numpy as np\n",
    "mol = Molecule('../data/chignolin_cln025.pdb')\n",
    "mol.read('../data/chignolin_cln025.psf')\n",
    "mol.filter('name CA')\n",
    "args.replicas = 1\n",
    "pos = get_native_coords(mol, args)\n",
    "args.device = 'cuda:0'"
   ]
  },
  {
   "cell_type": "markdown",
   "id": "0d4254a1-bae1-433a-9c6f-bda810a85620",
   "metadata": {},
   "source": [
    "## Train"
   ]
  },
  {
   "cell_type": "code",
   "execution_count": 7,
   "id": "43bc5e78-6a43-4ee3-89fd-39d6da3900d6",
   "metadata": {},
   "outputs": [],
   "source": [
    "n_epochs = 5000\n",
    "steps = 250\n",
    "output_period = 1\n",
    "native_coords = get_native_coords(mol, args)"
   ]
  },
  {
   "cell_type": "code",
   "execution_count": 8,
   "id": "725252c1-ed7a-410d-a002-bc1282367b2f",
   "metadata": {},
   "outputs": [],
   "source": [
    "trained_lambda_net = '/workspace2/fast_folders_cgnet/multiprotein/single_prot_fix/lambda/train_geom_lambda_dih_4int_fix_rep1/epoch=85-val_loss=736.1273-test_loss=21.5217.ckpt'\n",
    "model = load_model(trained_lambda_net, device='cuda:1', derivative=True)\n",
    "embeddings = get_embeddings(mol)\n",
    "embeddings = torch.tensor(embeddings, device = args.device).repeat(args.replicas, 1)\n",
    "external = External(model, embeddings, device = args.device, mode = 'train')"
   ]
  },
  {
   "cell_type": "code",
   "execution_count": 9,
   "id": "eeeefcc8-4788-455c-9770-4534c246f3f5",
   "metadata": {},
   "outputs": [],
   "source": [
    "ff = ForceField.create(mol,args.forcefield)\n",
    "parameters = Parameters(ff, mol, terms=args.forceterms, device=args.device)\n",
    "forces = Forces(parameters, terms=args.forceterms, external=external, cutoff=args.cutoff, \n",
    "                rfa=args.rfa, switch_dist=args.switch_dist\n",
    "                )"
   ]
  },
  {
   "cell_type": "code",
   "execution_count": 10,
   "id": "46cc1e06-80ff-4dad-80ba-41408858f437",
   "metadata": {},
   "outputs": [],
   "source": [
    "system = System(mol.numAtoms, nreplicas=args.replicas,precision=torch.double, device=args.device)\n",
    "system.set_positions(mol.coords)\n",
    "system.set_box(mol.box)\n",
    "system.set_velocities(maxwell_boltzmann(forces.par.masses, T=args.temperature, replicas=args.replicas))"
   ]
  },
  {
   "cell_type": "code",
   "execution_count": 11,
   "id": "6d46da5c-52a2-430e-92a2-7e244aa3e0b2",
   "metadata": {},
   "outputs": [],
   "source": [
    "from statistics import mean\n",
    "\n",
    "def simulator(native_coords, system, forces, steps, output_period, timestep, replicas, \n",
    "              device = 'cuda:1', gamma=None, langevin_temperature=None\n",
    "             ):\n",
    "    \n",
    "    integrator = Integrator(system, forces, timestep, device, gamma=gamma, T=langevin_temperature)\n",
    "    integrator.forces.external.mode = 'train'\n",
    "    #iterator = tqdm(range(1,int(steps/output_period)+1))\n",
    "    iterator = range(1,int(steps/output_period)+1)\n",
    "    Epot = forces.compute(system.pos, system.box, system.forces)\n",
    "    \n",
    "    loss = 0\n",
    "    rmsds = []\n",
    "    for i in iterator:\n",
    "        if ((i // 250) % 2) == 0:\n",
    "            integrator.forces.external.mode = 'train'\n",
    "        else:\n",
    "            pos_rmsd, _ = rmsd(native_coords, system.pos)\n",
    "            loss += torch.log(pos_rmsd + 1.0)\n",
    "            rmsds.append(pos_rmsd.item())\n",
    "            \n",
    "            integrator.forces.external.mode = 'val'\n",
    "            \n",
    "        Ekin, Epot, T = integrator.step(niter=output_period)\n",
    "    \n",
    "    mean_rmsd = mean(rmsds)\n",
    "    loss /= len(rmsds)\n",
    "    return loss, mean_rmsd"
   ]
  },
  {
   "cell_type": "code",
   "execution_count": 12,
   "id": "1fc55ab4-6480-4408-bcea-6d0a190c7445",
   "metadata": {},
   "outputs": [
    {
     "name": "stdout",
     "output_type": "stream",
     "text": [
      "EPOCH 0: loss = 0.8585669343426414 ; rmsd = 1.3597765546986815\n",
      "EPOCH 1: loss = 0.9056372450852846 ; rmsd = 1.4735076515358898\n",
      "EPOCH 2: loss = 0.8322852761431548 ; rmsd = 1.2985655998480041\n",
      "EPOCH 3: loss = 0.8550897084529696 ; rmsd = 1.3515853281946866\n",
      "EPOCH 4: loss = 0.7415521155888781 ; rmsd = 1.0991911746065102\n",
      "EPOCH 5: loss = 0.7295125578068051 ; rmsd = 1.074069372311076\n",
      "EPOCH 6: loss = 0.8442924913054125 ; rmsd = 1.3263313325444754\n",
      "EPOCH 7: loss = 0.8702218637574928 ; rmsd = 1.3874404812854702\n",
      "EPOCH 8: loss = 0.6593191857325684 ; rmsd = 0.9334755484704399\n",
      "EPOCH 9: loss = 0.7461110492713493 ; rmsd = 1.1087830958115978\n",
      "EPOCH 10: loss = 0.736957535810988 ; rmsd = 1.0895683965247236\n",
      "EPOCH 11: loss = 0.7125211759282182 ; rmsd = 1.0391257782401342\n",
      "EPOCH 12: loss = 0.6390249848470387 ; rmsd = 0.8946326828665104\n",
      "EPOCH 13: loss = 0.9074266416760086 ; rmsd = 1.4779377000694867\n",
      "EPOCH 14: loss = 0.8604182798083263 ; rmsd = 1.3641493628635606\n",
      "EPOCH 15: loss = 0.8542119633073061 ; rmsd = 1.3495221411968987\n",
      "EPOCH 16: loss = 0.6566099922213261 ; rmsd = 0.9282444782506791\n",
      "EPOCH 17: loss = 0.8138573844391356 ; rmsd = 1.2565957772665686\n",
      "EPOCH 18: loss = 0.940644773509709 ; rmsd = 1.561632558781767\n",
      "EPOCH 19: loss = 0.8475905188878622 ; rmsd = 1.3340163031017827\n",
      "EPOCH 20: loss = 0.8346505333544616 ; rmsd = 1.3040087333765136\n",
      "EPOCH 21: loss = 0.707786482315768 ; rmsd = 1.0294939622849455\n",
      "EPOCH 22: loss = 0.8044508157374252 ; rmsd = 1.2354684775385243\n",
      "EPOCH 23: loss = 0.8186923805095011 ; rmsd = 1.2675328279742035\n",
      "EPOCH 24: loss = 0.8370686662075357 ; rmsd = 1.30958687421315\n",
      "EPOCH 25: loss = 0.8069208050660305 ; rmsd = 1.2409968855662301\n",
      "EPOCH 26: loss = 0.8172465810745178 ; rmsd = 1.2642567991037241\n",
      "EPOCH 27: loss = 0.8257620381609074 ; rmsd = 1.283620308265996\n",
      "EPOCH 28: loss = 0.8522064146412139 ; rmsd = 1.344814782197287\n",
      "EPOCH 29: loss = 0.825221902355328 ; rmsd = 1.282387176230516\n"
     ]
    },
    {
     "ename": "KeyboardInterrupt",
     "evalue": "",
     "output_type": "error",
     "traceback": [
      "\u001b[0;31m---------------------------------------------------------------------------\u001b[0m",
      "\u001b[0;31mKeyboardInterrupt\u001b[0m                         Traceback (most recent call last)",
      "\u001b[0;32m/tmp/ipykernel_148471/1827850687.py\u001b[0m in \u001b[0;36m<module>\u001b[0;34m\u001b[0m\n\u001b[1;32m     24\u001b[0m     \u001b[0msystem\u001b[0m\u001b[0;34m.\u001b[0m\u001b[0mset_velocities\u001b[0m\u001b[0;34m(\u001b[0m\u001b[0mmaxwell_boltzmann\u001b[0m\u001b[0;34m(\u001b[0m\u001b[0mforces\u001b[0m\u001b[0;34m.\u001b[0m\u001b[0mpar\u001b[0m\u001b[0;34m.\u001b[0m\u001b[0mmasses\u001b[0m\u001b[0;34m,\u001b[0m \u001b[0mT\u001b[0m\u001b[0;34m=\u001b[0m\u001b[0margs\u001b[0m\u001b[0;34m.\u001b[0m\u001b[0mtemperature\u001b[0m\u001b[0;34m,\u001b[0m \u001b[0mreplicas\u001b[0m\u001b[0;34m=\u001b[0m\u001b[0margs\u001b[0m\u001b[0;34m.\u001b[0m\u001b[0mreplicas\u001b[0m\u001b[0;34m)\u001b[0m\u001b[0;34m)\u001b[0m\u001b[0;34m\u001b[0m\u001b[0;34m\u001b[0m\u001b[0m\n\u001b[1;32m     25\u001b[0m \u001b[0;34m\u001b[0m\u001b[0m\n\u001b[0;32m---> 26\u001b[0;31m     loss, mean_rmsd = simulator(native_coords, system, forces, steps, output_period, args.timestep, args.replicas, device=args.device, \n\u001b[0m\u001b[1;32m     27\u001b[0m         \u001b[0mgamma\u001b[0m\u001b[0;34m=\u001b[0m\u001b[0margs\u001b[0m\u001b[0;34m.\u001b[0m\u001b[0mlangevin_gamma\u001b[0m\u001b[0;34m,\u001b[0m \u001b[0mlangevin_temperature\u001b[0m\u001b[0;34m=\u001b[0m\u001b[0margs\u001b[0m\u001b[0;34m.\u001b[0m\u001b[0mlangevin_temperature\u001b[0m\u001b[0;34m\u001b[0m\u001b[0;34m\u001b[0m\u001b[0m\n\u001b[1;32m     28\u001b[0m        )\n",
      "\u001b[0;32m/tmp/ipykernel_148471/4127325635.py\u001b[0m in \u001b[0;36msimulator\u001b[0;34m(native_coords, system, forces, steps, output_period, timestep, replicas, device, gamma, langevin_temperature)\u001b[0m\n\u001b[1;32m     23\u001b[0m             \u001b[0mintegrator\u001b[0m\u001b[0;34m.\u001b[0m\u001b[0mforces\u001b[0m\u001b[0;34m.\u001b[0m\u001b[0mexternal\u001b[0m\u001b[0;34m.\u001b[0m\u001b[0mmode\u001b[0m \u001b[0;34m=\u001b[0m \u001b[0;34m'val'\u001b[0m\u001b[0;34m\u001b[0m\u001b[0;34m\u001b[0m\u001b[0m\n\u001b[1;32m     24\u001b[0m \u001b[0;34m\u001b[0m\u001b[0m\n\u001b[0;32m---> 25\u001b[0;31m         \u001b[0mEkin\u001b[0m\u001b[0;34m,\u001b[0m \u001b[0mEpot\u001b[0m\u001b[0;34m,\u001b[0m \u001b[0mT\u001b[0m \u001b[0;34m=\u001b[0m \u001b[0mintegrator\u001b[0m\u001b[0;34m.\u001b[0m\u001b[0mstep\u001b[0m\u001b[0;34m(\u001b[0m\u001b[0mniter\u001b[0m\u001b[0;34m=\u001b[0m\u001b[0moutput_period\u001b[0m\u001b[0;34m)\u001b[0m\u001b[0;34m\u001b[0m\u001b[0;34m\u001b[0m\u001b[0m\n\u001b[0m\u001b[1;32m     26\u001b[0m \u001b[0;34m\u001b[0m\u001b[0m\n\u001b[1;32m     27\u001b[0m     \u001b[0mmean_rmsd\u001b[0m \u001b[0;34m=\u001b[0m \u001b[0mmean\u001b[0m\u001b[0;34m(\u001b[0m\u001b[0mrmsds\u001b[0m\u001b[0;34m)\u001b[0m\u001b[0;34m\u001b[0m\u001b[0;34m\u001b[0m\u001b[0m\n",
      "\u001b[0;32m/shared/carles/miniconda3/envs/torchmd-net/lib/python3.8/site-packages/torchmd/integrator.py\u001b[0m in \u001b[0;36mstep\u001b[0;34m(self, niter)\u001b[0m\n\u001b[1;32m     66\u001b[0m         \u001b[0;32mfor\u001b[0m \u001b[0m_\u001b[0m \u001b[0;32min\u001b[0m \u001b[0mrange\u001b[0m\u001b[0;34m(\u001b[0m\u001b[0mniter\u001b[0m\u001b[0;34m)\u001b[0m\u001b[0;34m:\u001b[0m\u001b[0;34m\u001b[0m\u001b[0;34m\u001b[0m\u001b[0m\n\u001b[1;32m     67\u001b[0m             \u001b[0m_first_VV\u001b[0m\u001b[0;34m(\u001b[0m\u001b[0ms\u001b[0m\u001b[0;34m.\u001b[0m\u001b[0mpos\u001b[0m\u001b[0;34m,\u001b[0m \u001b[0ms\u001b[0m\u001b[0;34m.\u001b[0m\u001b[0mvel\u001b[0m\u001b[0;34m,\u001b[0m \u001b[0ms\u001b[0m\u001b[0;34m.\u001b[0m\u001b[0mforces\u001b[0m\u001b[0;34m,\u001b[0m \u001b[0mmasses\u001b[0m\u001b[0;34m,\u001b[0m \u001b[0mself\u001b[0m\u001b[0;34m.\u001b[0m\u001b[0mdt\u001b[0m\u001b[0;34m)\u001b[0m\u001b[0;34m\u001b[0m\u001b[0;34m\u001b[0m\u001b[0m\n\u001b[0;32m---> 68\u001b[0;31m             \u001b[0mpot\u001b[0m \u001b[0;34m=\u001b[0m \u001b[0mself\u001b[0m\u001b[0;34m.\u001b[0m\u001b[0mforces\u001b[0m\u001b[0;34m.\u001b[0m\u001b[0mcompute\u001b[0m\u001b[0;34m(\u001b[0m\u001b[0ms\u001b[0m\u001b[0;34m.\u001b[0m\u001b[0mpos\u001b[0m\u001b[0;34m,\u001b[0m \u001b[0ms\u001b[0m\u001b[0;34m.\u001b[0m\u001b[0mbox\u001b[0m\u001b[0;34m,\u001b[0m \u001b[0ms\u001b[0m\u001b[0;34m.\u001b[0m\u001b[0mforces\u001b[0m\u001b[0;34m)\u001b[0m\u001b[0;34m\u001b[0m\u001b[0;34m\u001b[0m\u001b[0m\n\u001b[0m\u001b[1;32m     69\u001b[0m             \u001b[0;32mif\u001b[0m \u001b[0mself\u001b[0m\u001b[0;34m.\u001b[0m\u001b[0mT\u001b[0m\u001b[0;34m:\u001b[0m\u001b[0;34m\u001b[0m\u001b[0;34m\u001b[0m\u001b[0m\n\u001b[1;32m     70\u001b[0m                 \u001b[0mlangevin\u001b[0m\u001b[0;34m(\u001b[0m\u001b[0ms\u001b[0m\u001b[0;34m.\u001b[0m\u001b[0mvel\u001b[0m\u001b[0;34m,\u001b[0m \u001b[0mself\u001b[0m\u001b[0;34m.\u001b[0m\u001b[0mgamma\u001b[0m\u001b[0;34m,\u001b[0m \u001b[0mself\u001b[0m\u001b[0;34m.\u001b[0m\u001b[0mvcoeff\u001b[0m\u001b[0;34m,\u001b[0m \u001b[0mself\u001b[0m\u001b[0;34m.\u001b[0m\u001b[0mdt\u001b[0m\u001b[0;34m,\u001b[0m \u001b[0mself\u001b[0m\u001b[0;34m.\u001b[0m\u001b[0mdevice\u001b[0m\u001b[0;34m)\u001b[0m\u001b[0;34m\u001b[0m\u001b[0;34m\u001b[0m\u001b[0m\n",
      "\u001b[0;32m/shared/carles/miniconda3/envs/torchmd-net/lib/python3.8/site-packages/torchmd/forces.py\u001b[0m in \u001b[0;36mcompute\u001b[0;34m(self, pos, box, forces, returnDetails, explicit_forces)\u001b[0m\n\u001b[1;32m    152\u001b[0m                     \u001b[0mspos\u001b[0m\u001b[0;34m,\u001b[0m \u001b[0mself\u001b[0m\u001b[0;34m.\u001b[0m\u001b[0mpar\u001b[0m\u001b[0;34m.\u001b[0m\u001b[0mdihedrals\u001b[0m\u001b[0;34m[\u001b[0m\u001b[0;34m:\u001b[0m\u001b[0;34m,\u001b[0m \u001b[0;34m[\u001b[0m\u001b[0;36m2\u001b[0m\u001b[0;34m,\u001b[0m \u001b[0;36m3\u001b[0m\u001b[0;34m]\u001b[0m\u001b[0;34m]\u001b[0m\u001b[0;34m,\u001b[0m \u001b[0msbox\u001b[0m\u001b[0;34m\u001b[0m\u001b[0;34m\u001b[0m\u001b[0m\n\u001b[1;32m    153\u001b[0m                 )\n\u001b[0;32m--> 154\u001b[0;31m                 E, dihedral_forces = evaluate_torsion(\n\u001b[0m\u001b[1;32m    155\u001b[0m                     \u001b[0mr12\u001b[0m\u001b[0;34m,\u001b[0m \u001b[0mr23\u001b[0m\u001b[0;34m,\u001b[0m \u001b[0mr34\u001b[0m\u001b[0;34m,\u001b[0m \u001b[0mself\u001b[0m\u001b[0;34m.\u001b[0m\u001b[0mpar\u001b[0m\u001b[0;34m.\u001b[0m\u001b[0mdihedral_params\u001b[0m\u001b[0;34m,\u001b[0m \u001b[0mexplicit_forces\u001b[0m\u001b[0;34m\u001b[0m\u001b[0;34m\u001b[0m\u001b[0m\n\u001b[1;32m    156\u001b[0m                 )\n",
      "\u001b[0;32m/shared/carles/miniconda3/envs/torchmd-net/lib/python3.8/site-packages/torchmd/forces.py\u001b[0m in \u001b[0;36mevaluate_torsion\u001b[0;34m(r12, r23, r34, torsion_params, explicit_forces)\u001b[0m\n\u001b[1;32m    555\u001b[0m         \u001b[0mper\u001b[0m \u001b[0;34m=\u001b[0m \u001b[0mtorsion_params\u001b[0m\u001b[0;34m[\u001b[0m\u001b[0mi\u001b[0m\u001b[0;34m]\u001b[0m\u001b[0;34m[\u001b[0m\u001b[0;34m\"params\"\u001b[0m\u001b[0;34m]\u001b[0m\u001b[0;34m[\u001b[0m\u001b[0;34m:\u001b[0m\u001b[0;34m,\u001b[0m \u001b[0;36m2\u001b[0m\u001b[0;34m]\u001b[0m\u001b[0;34m\u001b[0m\u001b[0;34m\u001b[0m\u001b[0m\n\u001b[1;32m    556\u001b[0m \u001b[0;34m\u001b[0m\u001b[0m\n\u001b[0;32m--> 557\u001b[0;31m         \u001b[0;32mif\u001b[0m \u001b[0mtorch\u001b[0m\u001b[0;34m.\u001b[0m\u001b[0mall\u001b[0m\u001b[0;34m(\u001b[0m\u001b[0mper\u001b[0m \u001b[0;34m>\u001b[0m \u001b[0;36m0\u001b[0m\u001b[0;34m)\u001b[0m\u001b[0;34m:\u001b[0m  \u001b[0;31m# AMBER torsions\u001b[0m\u001b[0;34m\u001b[0m\u001b[0;34m\u001b[0m\u001b[0m\n\u001b[0m\u001b[1;32m    558\u001b[0m             \u001b[0mangleDiff\u001b[0m \u001b[0;34m=\u001b[0m \u001b[0mper\u001b[0m \u001b[0;34m*\u001b[0m \u001b[0mphi\u001b[0m\u001b[0;34m[\u001b[0m\u001b[0midx\u001b[0m\u001b[0;34m]\u001b[0m \u001b[0;34m-\u001b[0m \u001b[0mphi0\u001b[0m\u001b[0;34m\u001b[0m\u001b[0;34m\u001b[0m\u001b[0m\n\u001b[1;32m    559\u001b[0m             \u001b[0mpot\u001b[0m\u001b[0;34m.\u001b[0m\u001b[0mscatter_add_\u001b[0m\u001b[0;34m(\u001b[0m\u001b[0;36m0\u001b[0m\u001b[0;34m,\u001b[0m \u001b[0midx\u001b[0m\u001b[0;34m,\u001b[0m \u001b[0mk0\u001b[0m \u001b[0;34m*\u001b[0m \u001b[0;34m(\u001b[0m\u001b[0;36m1\u001b[0m \u001b[0;34m+\u001b[0m \u001b[0mtorch\u001b[0m\u001b[0;34m.\u001b[0m\u001b[0mcos\u001b[0m\u001b[0;34m(\u001b[0m\u001b[0mangleDiff\u001b[0m\u001b[0;34m)\u001b[0m\u001b[0;34m)\u001b[0m\u001b[0;34m)\u001b[0m\u001b[0;34m\u001b[0m\u001b[0;34m\u001b[0m\u001b[0m\n",
      "\u001b[0;31mKeyboardInterrupt\u001b[0m: "
     ]
    }
   ],
   "source": [
    "from torchmdexp.nn.utils import rmsd\n",
    "import matplotlib.pyplot as plt\n",
    "\n",
    "optim = torch.optim.Adam(external.model.parameters(), lr=0.0001)\n",
    "\n",
    "rmsds = []\n",
    "epochs = []\n",
    "\n",
    "for epoch in range(n_epochs):\n",
    "    \n",
    "    embeddings = get_embeddings(mol)\n",
    "    embeddings = torch.tensor(embeddings, device = args.device).repeat(args.replicas, 1)\n",
    "    external = External(model, embeddings, device = args.device, mode = 'train')\n",
    "    \n",
    "    ff = ForceField.create(mol,args.forcefield)\n",
    "    parameters = Parameters(ff, mol, terms=args.forceterms, device=args.device)\n",
    "    forces = Forces(parameters, terms=args.forceterms, external=external, cutoff=args.cutoff, \n",
    "                    rfa=args.rfa, switch_dist=args.switch_dist\n",
    "                    )\n",
    "    \n",
    "    system = System(mol.numAtoms, nreplicas=args.replicas,precision=torch.double, device=args.device)\n",
    "    system.set_positions(mol.coords)\n",
    "    system.set_box(mol.box)\n",
    "    system.set_velocities(maxwell_boltzmann(forces.par.masses, T=args.temperature, replicas=args.replicas))\n",
    "    \n",
    "    loss, mean_rmsd = simulator(native_coords, system, forces, steps, output_period, args.timestep, args.replicas, device=args.device, \n",
    "        gamma=args.langevin_gamma, langevin_temperature=args.langevin_temperature\n",
    "       )\n",
    "        \n",
    "    rmsds.append(mean_rmsd)\n",
    "    epochs.append(epoch)\n",
    "    \n",
    "    optim.zero_grad()\n",
    "    loss.backward\n",
    "    optim.step()\n",
    "    \n",
    "    print(f\"EPOCH {epoch}: loss = {loss} ; rmsd = {mean_rmsd}\")"
   ]
  },
  {
   "cell_type": "code",
   "execution_count": 13,
   "id": "b79d6df8-2651-4581-9201-b74e8c11304a",
   "metadata": {},
   "outputs": [
    {
     "data": {
      "text/plain": [
       "[<matplotlib.lines.Line2D at 0x7f9a41ae9760>]"
      ]
     },
     "execution_count": 13,
     "metadata": {},
     "output_type": "execute_result"
    },
    {
     "data": {
      "image/png": "[encoded data removed]",
      "text/plain": [
       "<Figure size 432x288 with 1 Axes>"
      ]
     },
     "metadata": {
      "needs_background": "light"
     },
     "output_type": "display_data"
    }
   ],
   "source": [
    "plt.plot(epochs, rmsds)"
   ]
  },
  {
   "cell_type": "code",
   "execution_count": null,
   "id": "287477af-e89f-4f08-9a80-a8e3c2936866",
   "metadata": {},
   "outputs": [],
   "source": []
  }
 ],
 "metadata": {
  "kernelspec": {
   "display_name": "Python 3 (ipykernel)",
   "language": "python",
   "name": "python3"
  },
  "language_info": {
   "codemirror_mode": {
    "name": "ipython",
    "version": 3
   },
   "file_extension": ".py",
   "mimetype": "text/x-python",
   "name": "python",
   "nbconvert_exporter": "python",
   "pygments_lexer": "ipython3",
   "version": "3.8.10"
  }
 },
 "nbformat": 4,
 "nbformat_minor": 5
}
