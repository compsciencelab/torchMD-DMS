{
 "cells": [
  {
   "cell_type": "code",
   "execution_count": null,
   "id": "764ec98d-af49-4cd1-ba13-8758dc6ebdbd",
   "metadata": {},
   "outputs": [],
   "source": [
    "import argparse\n",
    "from argparse import Namespace \n",
    "import torch\n",
    "from torchmdnet import calculators\n",
    "from torchmdnet.calculators import External\n",
    "from torchmdnet.utils import LoadFromFile, LoadFromCheckpoint, save_argparse, number\n",
    "from torchmdnet import datasets, priors, models\n",
    "from torchmdnet.data import DataModule\n",
    "from torchmdnet.models import output_modules\n",
    "from torchmdnet.models.utils import rbf_class_mapping, act_class_mapping\n",
    "\n",
    "from moleculekit.molecule import Molecule\n",
    "from torchmd.forcefields.ff_yaml import YamlForcefield\n",
    "from torchmd.forcefields.forcefield import ForceField\n",
    "from torchmd.forces import Forces\n",
    "from torchmd.integrator import Integrator, maxwell_boltzmann\n",
    "from torchmd.parameters import Parameters\n",
    "from torchmd.systems import System\n",
    "from torchmd.wrapper import Wrapper\n",
    "\n",
    "from torchmdexp.nn.train import external_forces, setup_forces, setup_system, forward, loss_fn, train_model"
   ]
  },
  {
   "cell_type": "markdown",
   "id": "7f0600a4-547f-4f63-afdf-f8329a61264e",
   "metadata": {},
   "source": [
    "## Load args file"
   ]
  },
  {
   "cell_type": "code",
   "execution_count": null,
   "id": "5d89f2f3-bf02-4e3f-a847-1b7b2a6a979b",
   "metadata": {},
   "outputs": [],
   "source": [
    "def get_args():\n",
    "    # fmt: off\n",
    "    parser = argparse.ArgumentParser(description='Training')\n",
    "    parser.add_argument('--load-model', action=LoadFromCheckpoint, help='Restart training using a model checkpoint')  # keep first\n",
    "    parser.add_argument('--conf', '-c', type=open, action=LoadFromFile, help='Configuration yaml file')  # keep second\n",
    "    parser.add_argument('--num-epochs', default=300, type=int, help='number of epochs')\n",
    "    parser.add_argument('--batch-size', default=32, type=int, help='batch size')\n",
    "    parser.add_argument('--inference-batch-size', default=None, type=int, help='Batchsize for validation and tests.')\n",
    "    parser.add_argument('--lr', default=1e-4, type=float, help='learning rate')\n",
    "    parser.add_argument('--lr-patience', type=int, default=10, help='Patience for lr-schedule. Patience per eval-interval of validation')\n",
    "    parser.add_argument('--lr-min', type=float, default=1e-6, help='Minimum learning rate before early stop')\n",
    "    parser.add_argument('--lr-factor', type=float, default=0.8, help='Minimum learning rate before early stop')\n",
    "    parser.add_argument('--lr-warmup-steps', type=int, default=0, help='How many steps to warm-up over. Defaults to 0 for no warm-up')\n",
    "    parser.add_argument('--early-stopping-patience', type=int, default=30, help='Stop training after this many epochs without improvement')\n",
    "    parser.add_argument('--weight-decay', type=float, default=0.0, help='Weight decay strength')\n",
    "    parser.add_argument('--ema-alpha-y', type=float, default=1.0, help='The amount of influence of new losses on the exponential moving average of y')\n",
    "    parser.add_argument('--ema-alpha-dy', type=float, default=1.0, help='The amount of influence of new losses on the exponential moving average of dy')\n",
    "    parser.add_argument('--ngpus', type=int, default=-1, help='Number of GPUs, -1 use all available. Use CUDA_VISIBLE_DEVICES=1, to decide gpus')\n",
    "    parser.add_argument('--num-nodes', type=int, default=1, help='Number of nodes')\n",
    "    parser.add_argument('--precision', type=int, default=32, choices=[16, 32], help='Floating point precision')\n",
    "    parser.add_argument('--log-dir', '-l', default='/trainings', help='log file')\n",
    "    parser.add_argument('--splits', default=None, help='Npz with splits idx_train, idx_val, idx_test')\n",
    "    parser.add_argument('--train-size', type=number, default=None, help='Percentage/number of samples in training set (None to use all remaining samples)')\n",
    "    parser.add_argument('--val-size', type=number, default=0.05, help='Percentage/number of samples in validation set (None to use all remaining samples)')\n",
    "    parser.add_argument('--test-size', type=number, default=0.1, help='Percentage/number of samples in test set (None to use all remaining samples)')\n",
    "    parser.add_argument('--test-interval', type=int, default=10, help='Test interval, one test per n epochs (default: 10)')\n",
    "    parser.add_argument('--save-interval', type=int, default=10, help='Save interval, one save per n epochs (default: 10)')\n",
    "    parser.add_argument('--seed', type=int, default=1, help='random seed (default: 1)')\n",
    "    parser.add_argument('--distributed-backend', default='ddp', help='Distributed backend: dp, ddp, ddp2')\n",
    "    parser.add_argument('--num-workers', type=int, default=4, help='Number of workers for data prefetch')\n",
    "    parser.add_argument('--redirect', type=bool, default=False, help='Redirect stdout and stderr to log_dir/log')\n",
    "    \n",
    "    # model architecture\n",
    "    parser.add_argument('--model', type=str, default='graph-network', choices=models.__all__, help='Which model to train')\n",
    "    parser.add_argument('--output-model', type=str, default='Scalar', choices=output_modules.__all__, help='The type of output model')\n",
    "    parser.add_argument('--prior-model', type=str, default=None, choices=priors.__all__, help='Which prior model to use')\n",
    "\n",
    "    # architectural args\n",
    "    parser.add_argument('--embedding-dimension', type=int, default=256, help='Embedding dimension')\n",
    "    parser.add_argument('--num-layers', type=int, default=6, help='Number of interaction layers in the model')\n",
    "    parser.add_argument('--num-rbf', type=int, default=64, help='Number of radial basis functions in model')\n",
    "    parser.add_argument('--num-filters', type=int, default=128, help='Number of filters in model')    \n",
    "    parser.add_argument('--activation', type=str, default='silu', choices=list(act_class_mapping.keys()), help='Activation function')\n",
    "    parser.add_argument('--rbf-type', type=str, default='expnorm', choices=list(rbf_class_mapping.keys()), help='Type of distance expansion')\n",
    "    parser.add_argument('--trainable-rbf', type=bool, default=False, help='If distance expansion functions should be trainable')\n",
    "    parser.add_argument('--neighbor-embedding', type=bool, default=False, help='If a neighbor embedding should be applied before interactions')\n",
    "    \n",
    "    # dataset specific\n",
    "    parser.add_argument('--data_dir', default=None, help='Input directory')\n",
    "    parser.add_argument('--dataset', default=None, type=str, choices=datasets.__all__, help='Name of the torch_geometric dataset')\n",
    "    parser.add_argument('--dataset-root', default='~/data', type=str, help='Data storage directory (not used if dataset is \"CG\")')\n",
    "    parser.add_argument('--dataset-arg', default=None, type=str, help='Additional dataset argument, e.g. target property for QM9 or molecule for MD17')\n",
    "    parser.add_argument('--coord-files', default=None, type=str, help='Custom coordinate files glob')\n",
    "    parser.add_argument('--embed-files', default=None, type=str, help='Custom embedding files glob')\n",
    "    parser.add_argument('--energy-files', default=None, type=str, help='Custom energy files glob')\n",
    "    parser.add_argument('--force-files', default=None, type=str, help='Custom force files glob')\n",
    "    parser.add_argument('--energy-weight', default=1.0, type=float, help='Weighting factor for energies in the loss function')\n",
    "    parser.add_argument('--force-weight', default=1.0, type=float, help='Weighting factor for forces in the loss function')\n",
    "\n",
    "    # Transformer specific\n",
    "    parser.add_argument('--distance-influence', type=str, default='both', choices=['keys', 'values', 'both', 'none'], help='Where distance information is included inside the attention')\n",
    "    parser.add_argument('--attn-activation', default='silu', choices=list(act_class_mapping.keys()), help='Attention activation function')\n",
    "    parser.add_argument('--num-heads', type=int, default=8, help='Number of attention heads')\n",
    "    \n",
    "    # Torchmdexp specific\n",
    "    parser.add_argument('--device', default='cpu', help='Type of device, e.g. \"cuda:1\"')\n",
    "    parser.add_argument('--forcefield', default=\"../data/ca_priors-dihedrals_general_2xweaker.yaml\", help='Forcefield .yaml file')\n",
    "    parser.add_argument('--forceterms', nargs='+', default=\"bonds\", help='Forceterms to include, e.g. --forceterms Bonds LJ')\n",
    "    parser.add_argument('--cutoff', default=None, type=float, help='LJ/Elec/Bond cutoff')\n",
    "    parser.add_argument('--rfa', default=False, action='store_true', help='Enable reaction field approximation')\n",
    "    parser.add_argument('--replicas', type=int, default=1, help='Number of different replicas to run')\n",
    "    parser.add_argument('--step_update', type=int, default=5, help='Number of epochs to update the simulation steps')\n",
    "    parser.add_argument('--switch_dist', default=None, type=float, help='Switching distance for LJ')\n",
    "    parser.add_argument('--temperature',  default=300,type=float, help='Assign velocity from initial temperature in K')\n",
    "    parser.add_argument('--force-precision', default='single', type=str, help='LJ/Elec/Bond cutoff')\n",
    "    parser.add_argument('--verbose', default=None, help='Add verbose')\n",
    "    parser.add_argument('--timestep', default=1, type=float, help='Timestep in fs')\n",
    "    parser.add_argument('--langevin_gamma',  default=0.1,type=float, help='Langevin relaxation ps^-1')\n",
    "    parser.add_argument('--langevin_temperature',  default=0,type=float, help='Temperature in K of the thermostat')\n",
    "    parser.add_argument('--max_steps',type=int,default=2000,help='Total number of simulation steps')\n",
    "    \n",
    "    # other args\n",
    "    parser.add_argument('--derivative', default=True, type=bool, help='If true, take the derivative of the prediction w.r.t coordinates')\n",
    "    parser.add_argument('--cutoff-lower', type=float, default=0.0, help='Lower cutoff in model')\n",
    "    parser.add_argument('--cutoff-upper', type=float, default=5.0, help='Upper cutoff in model')\n",
    "    parser.add_argument('--atom-filter', type=int, default=-1, help='Only sum over atoms with Z > atom_filter')\n",
    "    \n",
    "    parser.add_argument('--max-z', type=int, default=100, help='Maximum atomic number that fits in the embedding matrix')\n",
    "    parser.add_argument('--max-num-neighbors', type=int, default=32, help='Maximum number of neighbors to consider in the network')\n",
    "    parser.add_argument('--standardize', type=bool, default=False, help='If true, multiply prediction by dataset std and add mean')\n",
    "    parser.add_argument('--reduce-op', type=str, default='add', choices=['add', 'mean'], help='Reduce operation to apply to atomic predictions')\n",
    "\n",
    "    args = parser.parse_args(\"\")\n",
    "    all_defaults = {}\n",
    "    for key in vars(args):\n",
    "        all_defaults[key] = parser.get_default(key)\n",
    "    \n",
    "    return all_defaults"
   ]
  },
  {
   "cell_type": "code",
   "execution_count": null,
   "id": "c6ce02d0-9115-4082-ae95-567e11ae47d5",
   "metadata": {},
   "outputs": [],
   "source": [
    "args = get_args()"
   ]
  },
  {
   "cell_type": "code",
   "execution_count": null,
   "id": "ceb6d0a9-27f9-4ae5-8ca9-180a995260ee",
   "metadata": {},
   "outputs": [],
   "source": [
    "# process_yaml.py file\n",
    "import yaml\n",
    "\n",
    "with open('../arguments/cln_graph-network.yaml') as file:\n",
    "    # The FullLoader parameter handles the conversion from YAML\n",
    "    # scalar values to Python the dictionary format\n",
    "    args_file = yaml.load(file, Loader=yaml.FullLoader)\n",
    "for key, value in args_file.items():\n",
    "    args[key] = value\n",
    "class Struct:\n",
    "    def __init__(self, **entries):\n",
    "        self.__dict__.update(entries)\n",
    "args = Struct(**args)"
   ]
  },
  {
   "cell_type": "markdown",
   "id": "fc5edc63-c4be-4e9a-a42a-802280c252fb",
   "metadata": {},
   "source": [
    "## Simulate Chingolin with pre-trained NN"
   ]
  },
  {
   "cell_type": "markdown",
   "id": "6446c574-ab6d-4f2f-bce6-5fe3b8c925eb",
   "metadata": {},
   "source": [
    "Load the molecule"
   ]
  },
  {
   "cell_type": "code",
   "execution_count": null,
   "id": "31f94390-2852-4484-9e54-c9a5f4b9ceac",
   "metadata": {},
   "outputs": [
    {
     "name": "stderr",
     "output_type": "stream",
     "text": [
      "2021-09-01 16:28:01,039 - moleculekit.molecule - INFO - Removed 83 atoms. 10 atoms remaining in the molecule.\n"
     ]
    }
   ],
   "source": [
    "mol = Molecule('../data/chignolin_cln025.pdb')\n",
    "mol.filter('name CA')\n",
    "mol.read('../data/cln_ca_top_dih.psf')\n",
    "mol.read('../data/chignolin_ca_initial_coords.xtc')"
   ]
  },
  {
   "cell_type": "markdown",
   "id": "5015cb9b-5b7e-463e-9623-4195264e88e8",
   "metadata": {},
   "source": [
    "Load pretrained NN"
   ]
  },
  {
   "cell_type": "code",
   "execution_count": null,
   "id": "16c4a460-6a71-41f7-b499-67d6ff7c220f",
   "metadata": {},
   "outputs": [],
   "source": [
    "from torchmdnet.models.model import load_model\n",
    "\n",
    "netfile = '../data/epoch=47-val_loss=739.5398-test_loss=21.5975.ckpt'\n",
    "model = load_model(netfile, device='cpu', derivative=True)\n",
    "external = external_forces(model, mol, replicas = args.replicas, device = args.device)"
   ]
  },
  {
   "cell_type": "markdown",
   "id": "e18bd6fa-7e96-4827-96f0-f248aa8e49b5",
   "metadata": {},
   "source": [
    "Prepare the system"
   ]
  },
  {
   "cell_type": "code",
   "execution_count": null,
   "id": "67bf3bec-53fd-4264-9054-8f70f1e02256",
   "metadata": {},
   "outputs": [],
   "source": [
    "# Define forces and parameters\n",
    "forces = setup_forces(mol, args.forcefield, args.forceterms, external, device=args.device, \n",
    "                        cutoff=args.cutoff, rfa=args.rfa, switch_dist=args.switch_dist\n",
    "                        )   \n",
    "# System\n",
    "system = setup_system(mol, forces, replicas=args.replicas, T=args.temperature,\n",
    "                        device=args.device\n",
    "                         )\n",
    "            "
   ]
  },
  {
   "cell_type": "markdown",
   "id": "de546192-578c-47fb-bd1a-d1f60f1a8f96",
   "metadata": {},
   "source": [
    "Run the simulation"
   ]
  },
  {
   "cell_type": "code",
   "execution_count": null,
   "id": "d05242ad-71a9-47c5-b87a-53593f86f83f",
   "metadata": {},
   "outputs": [
    {
     "name": "stderr",
     "output_type": "stream",
     "text": [
      "100%|█████████████████████████████████████████| 200/200 [01:13<00:00,  2.73it/s]\n"
     ]
    }
   ],
   "source": [
    "steps = 2000\n",
    "output_period = 10\n",
    "# Forward pass            \n",
    "native_coords, system = forward(system, forces, steps, output_period, args.timestep, device=args.device,\n",
    "                                gamma=args.langevin_gamma, T=args.langevin_temperature\n",
    "                               )\n"
   ]
  },
  {
   "cell_type": "code",
   "execution_count": null,
   "id": "2422430e-9454-492f-bd18-5b9062111396",
   "metadata": {},
   "outputs": [
    {
     "name": "stdout",
     "output_type": "stream",
     "text": [
      "Final RMSD:  3.966182815951867\n"
     ]
    }
   ],
   "source": [
    "loss, rmsd = loss_fn(native_coords, system.pos)\n",
    "print('Final RMSD: ', rmsd)"
   ]
  },
  {
   "cell_type": "markdown",
   "id": "f7b210e7-3559-470d-b6f7-9d737fc0b576",
   "metadata": {},
   "source": [
    "## Simulate Chingolin with pre-trained NN trained on lambda"
   ]
  },
  {
   "cell_type": "code",
   "execution_count": null,
   "id": "49613c6d-3e66-42f0-8081-16cc4f7fe7e1",
   "metadata": {},
   "outputs": [
    {
     "name": "stderr",
     "output_type": "stream",
     "text": [
      "2021-09-01 16:29:14,900 - moleculekit.molecule - INFO - Removed 83 atoms. 10 atoms remaining in the molecule.\n"
     ]
    }
   ],
   "source": [
    "mol = Molecule('../data/chignolin_cln025.pdb')\n",
    "mol.filter('name CA')\n",
    "mol.read('../data/cln_ca_top_dih.psf')\n",
    "mol.read('../data/chignolin_ca_initial_coords.xtc')"
   ]
  },
  {
   "cell_type": "code",
   "execution_count": null,
   "id": "47a985d0-cc61-4419-beae-f1caee26aebc",
   "metadata": {},
   "outputs": [],
   "source": [
    "netfile = '/workspace2/fast_folders_cgnet/multiprotein/single_prot_fix/lambda/train_geom_lambda_dih_4int_fix_rep1/epoch=85-val_loss=736.1273-test_loss=21.5217.ckpt'\n",
    "model = load_model(netfile, device='cpu', derivative=True)\n",
    "external = external_forces(model, mol, replicas = args.replicas, device = args.device)"
   ]
  },
  {
   "cell_type": "code",
   "execution_count": null,
   "id": "48e724c8-26b4-4558-b5f8-313bfefdbfac",
   "metadata": {},
   "outputs": [],
   "source": [
    "# Define forces and parameters\n",
    "forces = setup_forces(mol, args.forcefield, args.forceterms, external, device=args.device, \n",
    "                        cutoff=args.cutoff, rfa=args.rfa, switch_dist=args.switch_dist\n",
    "                        )   \n",
    "# System\n",
    "system = setup_system(mol, forces, replicas=args.replicas, T=args.temperature,\n",
    "                        device=args.device\n",
    "                         )"
   ]
  },
  {
   "cell_type": "code",
   "execution_count": null,
   "id": "d3d5e3a1-62b4-4409-83e7-362ff4e86363",
   "metadata": {},
   "outputs": [
    {
     "name": "stderr",
     "output_type": "stream",
     "text": [
      "100%|█████████████████████████████████████████| 200/200 [01:18<00:00,  2.56it/s]\n"
     ]
    }
   ],
   "source": [
    "steps = 2000\n",
    "output_period = 10\n",
    "# Forward pass            \n",
    "native_coords, system = forward(system, forces, steps, output_period, args.timestep, device=args.device,\n",
    "                                gamma=args.langevin_gamma, T=args.langevin_temperature\n",
    "                               )"
   ]
  },
  {
   "cell_type": "code",
   "execution_count": null,
   "id": "002bcbb2-017f-4fb2-bd71-8e7a32bfa001",
   "metadata": {},
   "outputs": [
    {
     "name": "stdout",
     "output_type": "stream",
     "text": [
      "Final RMSD:  4.733124841662051\n"
     ]
    }
   ],
   "source": [
    "loss, rmsd = loss_fn(native_coords, system.pos)\n",
    "print('Final RMSD: ', rmsd)"
   ]
  },
  {
   "cell_type": "markdown",
   "id": "381a5b0f-0742-4863-9a33-bf0caa362081",
   "metadata": {},
   "source": [
    "## Train Chingolin on a NN pretrained on Lambda proteins"
   ]
  },
  {
   "cell_type": "code",
   "execution_count": null,
   "id": "5de4f58a-75c6-4d6f-a004-81c1ca3761c8",
   "metadata": {},
   "outputs": [
    {
     "name": "stderr",
     "output_type": "stream",
     "text": [
      "2021-09-01 17:45:54,085 - moleculekit.molecule - INFO - Removed 83 atoms. 10 atoms remaining in the molecule.\n"
     ]
    }
   ],
   "source": [
    "torch.manual_seed(args.seed)\n",
    "torch.cuda.manual_seed_all(args.seed)\n",
    "\n",
    "mol = Molecule('../data/chignolin_cln025.pdb')\n",
    "mol.filter('name CA')\n",
    "mol.read('../data/cln_ca_top_dih.psf')\n",
    "mol.read('../data/chignolin_ca_initial_coords.xtc')\n",
    "\n",
    "train_set = [mol]*10\n",
    "val_set = []"
   ]
  },
  {
   "cell_type": "code",
   "execution_count": null,
   "id": "b6563d2f-1419-4540-b078-aeec51e06a81",
   "metadata": {},
   "outputs": [
    {
     "data": {
      "text/plain": [
       "100"
      ]
     },
     "execution_count": 9,
     "metadata": {},
     "output_type": "execute_result"
    }
   ],
   "source": [
    "train_set *= 10\n",
    "len(train_set)"
   ]
  },
  {
   "cell_type": "code",
   "execution_count": null,
   "id": "ad49337a-7e21-46dc-bd3b-5ee016dc2a8c",
   "metadata": {},
   "outputs": [
    {
     "name": "stderr",
     "output_type": "stream",
     "text": [
      "100%|█████████████████████████████████████████| 250/250 [00:10<00:00, 23.63it/s]\n"
     ]
    },
    {
     "name": "stdout",
     "output_type": "stream",
     "text": [
      "Example 0 chignolin_ca_top, RMSD 1.4732377771193104\n"
     ]
    },
    {
     "name": "stderr",
     "output_type": "stream",
     "text": [
      "100%|█████████████████████████████████████████| 250/250 [00:09<00:00, 27.60it/s]\n"
     ]
    },
    {
     "name": "stdout",
     "output_type": "stream",
     "text": [
      "Example 1 chignolin_ca_top, RMSD 1.2812741539595693\n"
     ]
    },
    {
     "name": "stderr",
     "output_type": "stream",
     "text": [
      "100%|█████████████████████████████████████████| 250/250 [00:09<00:00, 25.71it/s]\n"
     ]
    },
    {
     "name": "stdout",
     "output_type": "stream",
     "text": [
      "Example 2 chignolin_ca_top, RMSD 1.2745226680495407\n"
     ]
    },
    {
     "name": "stderr",
     "output_type": "stream",
     "text": [
      "100%|█████████████████████████████████████████| 250/250 [00:08<00:00, 27.98it/s]\n"
     ]
    },
    {
     "name": "stdout",
     "output_type": "stream",
     "text": [
      "Example 3 chignolin_ca_top, RMSD 1.1654044450035521\n"
     ]
    },
    {
     "name": "stderr",
     "output_type": "stream",
     "text": [
      "100%|█████████████████████████████████████████| 250/250 [00:09<00:00, 26.60it/s]\n"
     ]
    },
    {
     "name": "stdout",
     "output_type": "stream",
     "text": [
      "Example 4 chignolin_ca_top, RMSD 1.205398046098065\n"
     ]
    },
    {
     "name": "stderr",
     "output_type": "stream",
     "text": [
      "100%|█████████████████████████████████████████| 250/250 [00:09<00:00, 25.61it/s]\n"
     ]
    },
    {
     "name": "stdout",
     "output_type": "stream",
     "text": [
      "Example 5 chignolin_ca_top, RMSD 1.1869413044468162\n"
     ]
    },
    {
     "name": "stderr",
     "output_type": "stream",
     "text": [
      "100%|█████████████████████████████████████████| 250/250 [00:09<00:00, 26.69it/s]\n"
     ]
    },
    {
     "name": "stdout",
     "output_type": "stream",
     "text": [
      "Example 6 chignolin_ca_top, RMSD 1.1088932697281801\n"
     ]
    },
    {
     "name": "stderr",
     "output_type": "stream",
     "text": [
      "100%|█████████████████████████████████████████| 250/250 [00:09<00:00, 26.99it/s]\n"
     ]
    },
    {
     "name": "stdout",
     "output_type": "stream",
     "text": [
      "Example 7 chignolin_ca_top, RMSD 1.0062632116433285\n"
     ]
    },
    {
     "name": "stderr",
     "output_type": "stream",
     "text": [
      "100%|█████████████████████████████████████████| 250/250 [00:09<00:00, 25.19it/s]\n"
     ]
    },
    {
     "name": "stdout",
     "output_type": "stream",
     "text": [
      "Example 8 chignolin_ca_top, RMSD 0.9440303790507647\n"
     ]
    },
    {
     "name": "stderr",
     "output_type": "stream",
     "text": [
      "100%|█████████████████████████████████████████| 250/250 [00:09<00:00, 27.64it/s]\n"
     ]
    },
    {
     "name": "stdout",
     "output_type": "stream",
     "text": [
      "Example 9 chignolin_ca_top, RMSD 1.0097535978309335\n",
      "Epoch 1, Training loss 7.6513, Average epoch RMSD 1.1655718852930061\n"
     ]
    },
    {
     "name": "stderr",
     "output_type": "stream",
     "text": [
      "100%|█████████████████████████████████████████| 250/250 [00:12<00:00, 20.74it/s]\n"
     ]
    },
    {
     "name": "stdout",
     "output_type": "stream",
     "text": [
      "Example 0 chignolin_ca_top, RMSD 0.8980517437790541\n"
     ]
    },
    {
     "name": "stderr",
     "output_type": "stream",
     "text": [
      "100%|█████████████████████████████████████████| 250/250 [00:12<00:00, 20.06it/s]\n"
     ]
    },
    {
     "name": "stdout",
     "output_type": "stream",
     "text": [
      "Example 1 chignolin_ca_top, RMSD 0.9640544162072252\n"
     ]
    },
    {
     "name": "stderr",
     "output_type": "stream",
     "text": [
      "100%|█████████████████████████████████████████| 250/250 [00:11<00:00, 21.44it/s]\n"
     ]
    },
    {
     "name": "stdout",
     "output_type": "stream",
     "text": [
      "Example 2 chignolin_ca_top, RMSD 0.8441612581305168\n"
     ]
    },
    {
     "name": "stderr",
     "output_type": "stream",
     "text": [
      "100%|█████████████████████████████████████████| 250/250 [00:11<00:00, 22.66it/s]\n"
     ]
    },
    {
     "name": "stdout",
     "output_type": "stream",
     "text": [
      "Example 3 chignolin_ca_top, RMSD 0.8980813548964294\n"
     ]
    },
    {
     "name": "stderr",
     "output_type": "stream",
     "text": [
      "100%|█████████████████████████████████████████| 250/250 [00:11<00:00, 21.78it/s]\n"
     ]
    },
    {
     "name": "stdout",
     "output_type": "stream",
     "text": [
      "Example 4 chignolin_ca_top, RMSD 1.0152932523277485\n"
     ]
    },
    {
     "name": "stderr",
     "output_type": "stream",
     "text": [
      "100%|█████████████████████████████████████████| 250/250 [00:19<00:00, 12.74it/s]\n"
     ]
    },
    {
     "name": "stdout",
     "output_type": "stream",
     "text": [
      "Example 5 chignolin_ca_top, RMSD 0.9167988805165079\n"
     ]
    },
    {
     "name": "stderr",
     "output_type": "stream",
     "text": [
      "100%|█████████████████████████████████████████| 250/250 [00:10<00:00, 23.81it/s]\n"
     ]
    },
    {
     "name": "stdout",
     "output_type": "stream",
     "text": [
      "Example 6 chignolin_ca_top, RMSD 0.8487520665629258\n"
     ]
    },
    {
     "name": "stderr",
     "output_type": "stream",
     "text": [
      "100%|█████████████████████████████████████████| 250/250 [00:19<00:00, 12.74it/s]\n"
     ]
    },
    {
     "name": "stdout",
     "output_type": "stream",
     "text": [
      "Example 7 chignolin_ca_top, RMSD 0.8880901264635022\n"
     ]
    },
    {
     "name": "stderr",
     "output_type": "stream",
     "text": [
      " 43%|█████████████████▋                       | 108/250 [00:23<01:25,  1.67it/s]"
     ]
    }
   ],
   "source": [
    "# Hparams    \n",
    "hparams = {'epochs': args.num_epochs,\n",
    "           'max_steps': args.max_steps,\n",
    "           'step_update': args.step_update, \n",
    "           'output_period': 1,\n",
    "           'lr': args.lr\n",
    "          }\n",
    "\n",
    "# Define the NN model\n",
    "netfile = '/workspace2/fast_folders_cgnet/multiprotein/single_prot_fix/lambda/train_geom_lambda_dih_4int_fix_rep1/epoch=85-val_loss=736.1273-test_loss=21.5217.ckpt'\n",
    "lambda_nn = load_model(netfile, device='cpu', derivative=True)\n",
    "\n",
    "optim = torch.optim.Adam(lambda_nn.parameters(), lr=hparams['lr'])\n",
    "scheduler = torch.optim.lr_scheduler.StepLR(optim, step_size=10, gamma=0.8)\n",
    "\n",
    "# Train the model\n",
    "train_model(lambda_nn, optim, scheduler , hparams, train_set, val_set, args)"
   ]
  },
  {
   "cell_type": "markdown",
   "id": "9b31e660-49e0-4d16-abfa-19a9f3614433",
   "metadata": {},
   "source": [
    "## Analysis"
   ]
  },
  {
   "cell_type": "code",
   "execution_count": null,
   "id": "f15088a1-f4af-494a-adb1-04c296f35c66",
   "metadata": {},
   "outputs": [],
   "source": [
    "out_dir = 'cln_64trajs_350_ts1'\n",
    "ts = 0.001\n",
    "n_traj = 10\n",
    "\n",
    "fig, ax = plt.subplots(nrows = n_traj, ncols = 2, figsize=[20, 2*n_traj])\n",
    "\n",
    "for n, axi in enumerate(ax):\n",
    "    \n",
    "    # Plot energy from monitor file\n",
    "    df = pd.read_csv(f'{out_dir}/monitor_{n}.csv')\n",
    "    df.plot(x='ns', y=['epot', 'ekin', 'etot'], ax =axi[0])\n",
    "    axi[0].set_ylabel('energy')\n",
    "    axi[0].legend()\n",
    "    axi[0].set_ylim([-50, 30])\n",
    "    \n",
    "    # now plot the RMSD to refernece molecule \n",
    "    \n",
    "    # load a reference from data/chignolin_cln025.pdb file and filter only CA atoms\n",
    "    mol_ref = Molecule('data/chignolin_cln025.pdb')\n",
    "    mol_ref.filter('name CA')\n",
    "    \n",
    "    # load an array with trajectory and replace the coord array in molecule object\n",
    "    mol = Molecule('data/cln_ca_top_dih.psf')\n",
    "    arr = np.load(f'{out_dir}/output_{n}.npy')\n",
    "    mol.coords = arr.astype(np.float32)\n",
    "\n",
    "    # align trajectory (mol) to the reference (mol_ref)\n",
    "    mol.align('name CA', refmol=mol_ref)\n",
    "    \n",
    "    # compute RMSD with MetricRmsd\n",
    "    rmsd_proj = MetricRmsd(mol_ref, 'name CA', centerstr='name CA', pbc=False)\n",
    "    rmsd = rmsd_proj.project(mol)\n",
    "    \n",
    "    # plot the result\n",
    "    axi[1].plot(np.arange(len(rmsd))*ts, rmsd, label='True')\n",
    "\n",
    "    # repeat the process for mirror image of the molecule.\n",
    "    mul = np.ones_like(arr)\n",
    "    mul[:,2,:] = -1\n",
    "    arr *= mul\n",
    "    \n",
    "    # replace the coordinates in mol object\n",
    "    mol.coords = (arr).astype(np.float32)\n",
    "    \n",
    "    # align\n",
    "    mol.align('name CA', refmol=mol_ref)\n",
    "    \n",
    "    # compute RMSD\n",
    "    rmsd_proj = MetricRmsd(mol_ref, 'name CA', centerstr='name CA', pbc=False)\n",
    "    rmsd = rmsd_proj.project(mol)\n",
    "    \n",
    "    # plot\n",
    "    axi[1].plot(np.arange(len(rmsd))*ts, rmsd, label = 'Mirror', alpha=0.5)\n",
    "    axi[1].set_ylim([0,8])\n",
    "    axi[1].set_xlim([0,10])\n",
    "    axi[1].set_xlabel('ns')\n",
    "    axi[1].set_ylabel('RMSD')\n",
    "    axi[1].legend()\n",
    "    \n",
    "plt.show()\n"
   ]
  },
  {
   "cell_type": "markdown",
   "id": "40fe8e7f-2984-4579-9a7a-7baa75a783a9",
   "metadata": {},
   "source": [
    "## Load NN"
   ]
  },
  {
   "cell_type": "code",
   "execution_count": null,
   "id": "d2705a20-b204-4da3-a9c3-75b027be3b5a",
   "metadata": {},
   "outputs": [],
   "source": [
    "from torchmdnet.calculators import External\n",
    "import importlib\n",
    "\n",
    "import argparse\n",
    "import importlib\n",
    "from moleculekit.molecule import Molecule\n",
    "from moleculekit.projections.metricrmsd import MetricRmsd\n",
    "import os\n",
    "import torch\n",
    "from torchmd_cg.utils.psfwriter import pdb2psf_CA\n",
    "from torchmd.utils import save_argparse, LogWriter,LoadFromFile\n",
    "from torchmd.forcefields.ff_yaml import YamlForcefield\n",
    "from torchmd.forcefields.forcefield import ForceField\n",
    "from torchmd.forces import Forces\n",
    "from torchmd.integrator import Integrator, maxwell_boltzmann\n",
    "from torchmd.parameters import Parameters\n",
    "from torchmd.systems import System\n",
    "from torchmd.wrapper import Wrapper\n",
    "from tqdm import tqdm\n",
    "from utils import rmsd\n"
   ]
  },
  {
   "cell_type": "code",
   "execution_count": null,
   "id": "a75ee43c-e9c7-49ea-8ef0-2fc6daed9706",
   "metadata": {},
   "outputs": [],
   "source": [
    "import torch\n",
    "from torchmdnet.models.model import load_model\n",
    "\n",
    "\n",
    "class External:\n",
    "    def __init__(self, netfile, embeddings, device=\"cpu\"):\n",
    "        self.model = load_model(netfile, device=device, derivative=True)\n",
    "        self.device = device\n",
    "        self.n_atoms = embeddings.size(1)\n",
    "        self.embeddings = embeddings.reshape(-1).to(device)\n",
    "        self.batch = torch.arange(embeddings.size(0), device=device).repeat_interleave(\n",
    "            embeddings.size(1)\n",
    "        )\n",
    "        self.model.eval()\n",
    "\n",
    "    def calculate(self, pos, box):\n",
    "        pos = pos.to(self.device).type(torch.float32).reshape(-1, 3)\n",
    "        energy, forces = self.model(self.embeddings, pos, self.batch)\n",
    "        return energy.detach(), forces.reshape(-1, self.n_atoms, 3)\n"
   ]
  },
  {
   "cell_type": "code",
   "execution_count": null,
   "id": "c9d7d7d7-9323-4edc-b90e-440c4387731a",
   "metadata": {},
   "outputs": [
    {
     "name": "stderr",
     "output_type": "stream",
     "text": [
      "2021-08-24 17:00:58,127 - moleculekit.molecule - INFO - Removed 83 atoms. 10 atoms remaining in the molecule.\n"
     ]
    }
   ],
   "source": [
    "# Molecule\n",
    "mol = Molecule('data/chignolin_cln025.pdb')\n",
    "mol.filter('name CA')\n",
    "mol.read('data/chignolin_ca_top.psf')\n",
    "mol.read('data/chignolin_ca_initial_coords.xtc')"
   ]
  },
  {
   "cell_type": "code",
   "execution_count": 69,
   "id": "802ad90d-1ab5-4858-888f-c3164cc494b1",
   "metadata": {},
   "outputs": [],
   "source": [
    "# Loading the model as external force\n",
    "\n",
    "embeddings = [4, 4, 5, 8, 6, 13, 2, 13, 7, 4]\n",
    "#model = torch.load('data/epoch=47-val_loss=739.5398-test_loss=21.5975.ckpt')\n",
    "device = 'cpu'\n",
    "\n",
    "externalmodule = importlib.import_module('torchmdnet.calculators')\n",
    "embeddings = torch.tensor(embeddings).repeat(10, 1)\n",
    "external = External('data/epoch=47-val_loss=739.5398-test_loss=21.5975.ckpt', embeddings, device)"
   ]
  },
  {
   "cell_type": "code",
   "execution_count": 70,
   "id": "3826af01-a870-463f-b9ac-0bdccc8c34ea",
   "metadata": {},
   "outputs": [],
   "source": [
    "ff = ForceField.create(mol,'/shared/carles/torchMD-DMS/nn/data/ca_priors-dihedrals_general_2xweaker.yaml')\n",
    "cln_parameters = Parameters(ff, mol, terms=['bonds', 'repulsionCG', 'dihedrals'], device=device)\n",
    "forces = Forces(cln_parameters, terms=['bonds', 'repulsionCG', 'dihedrals'], external=external, cutoff=None, \n",
    "                rfa=False, switch_dist=None\n",
    "                )"
   ]
  },
  {
   "cell_type": "code",
   "execution_count": 71,
   "id": "094e2c0b-0d69-433f-8c1e-0b8db95ad0de",
   "metadata": {},
   "outputs": [],
   "source": [
    "# System\n",
    "system = System(mol.numAtoms, nreplicas=10,precision=torch.double, device=device)\n",
    "system.set_positions(mol.coords)\n",
    "system.set_box(mol.box)\n",
    "system.set_velocities(maxwell_boltzmann(forces.par.masses, T=350, replicas=10))"
   ]
  },
  {
   "cell_type": "code",
   "execution_count": 72,
   "id": "375a6c53-a8e8-4394-bf3d-5f939bf90f36",
   "metadata": {},
   "outputs": [],
   "source": [
    "integrator = Integrator(system, forces, 1, device, gamma=0.1, T=0)\n",
    "native_coords = system.pos.clone()\n",
    "ref_coords = mol.coords.copy()"
   ]
  },
  {
   "cell_type": "code",
   "execution_count": 73,
   "id": "5a67d2e4-3263-46e3-8007-a38d34b3c365",
   "metadata": {},
   "outputs": [
    {
     "name": "stderr",
     "output_type": "stream",
     "text": [
      "  0%|                                                    | 0/20 [00:00<?, ?it/s]"
     ]
    }
   ],
   "source": [
    "# hparameters\n",
    "\n",
    "steps = 200\n",
    "output_period = 10\n",
    "n_epochs = 20\n",
    "iterator = tqdm(range(1,int(steps/output_period)+1))\n",
    "\n",
    "learning_rate = 0.1\n",
    "optim = torch.optim.Adam(forces.external.model.parameters(), lr=learning_rate)"
   ]
  },
  {
   "cell_type": "code",
   "execution_count": 74,
   "id": "29fc41d2-0120-4b4f-ba80-0b9fe575ae22",
   "metadata": {},
   "outputs": [
    {
     "name": "stderr",
     "output_type": "stream",
     "text": [
      "100%|███████████████████████████████████████████| 20/20 [00:16<00:00,  1.24it/s]\n"
     ]
    },
    {
     "ename": "RuntimeError",
     "evalue": "element 0 of tensors does not require grad and does not have a grad_fn",
     "output_type": "error",
     "traceback": [
      "\u001b[0;31m---------------------------------------------------------------------------\u001b[0m",
      "\u001b[0;31mRuntimeError\u001b[0m                              Traceback (most recent call last)",
      "\u001b[0;32m/tmp/ipykernel_28595/730089762.py\u001b[0m in \u001b[0;36m<module>\u001b[0;34m\u001b[0m\n\u001b[1;32m     23\u001b[0m \u001b[0;34m\u001b[0m\u001b[0m\n\u001b[1;32m     24\u001b[0m     \u001b[0moptim\u001b[0m\u001b[0;34m.\u001b[0m\u001b[0mzero_grad\u001b[0m\u001b[0;34m(\u001b[0m\u001b[0;34m)\u001b[0m\u001b[0;34m\u001b[0m\u001b[0;34m\u001b[0m\u001b[0m\n\u001b[0;32m---> 25\u001b[0;31m     \u001b[0mloss_log\u001b[0m\u001b[0;34m.\u001b[0m\u001b[0mbackward\u001b[0m\u001b[0;34m(\u001b[0m\u001b[0;34m)\u001b[0m\u001b[0;34m\u001b[0m\u001b[0;34m\u001b[0m\u001b[0m\n\u001b[0m\u001b[1;32m     26\u001b[0m     \u001b[0moptim\u001b[0m\u001b[0;34m.\u001b[0m\u001b[0mstep\u001b[0m\u001b[0;34m(\u001b[0m\u001b[0;34m)\u001b[0m\u001b[0;34m\u001b[0m\u001b[0;34m\u001b[0m\u001b[0m\n\u001b[1;32m     27\u001b[0m \u001b[0;34m\u001b[0m\u001b[0m\n",
      "\u001b[0;32m/shared/carles/miniconda3/envs/torchmd-net/lib/python3.8/site-packages/torch/_tensor.py\u001b[0m in \u001b[0;36mbackward\u001b[0;34m(self, gradient, retain_graph, create_graph, inputs)\u001b[0m\n\u001b[1;32m    253\u001b[0m                 \u001b[0mcreate_graph\u001b[0m\u001b[0;34m=\u001b[0m\u001b[0mcreate_graph\u001b[0m\u001b[0;34m,\u001b[0m\u001b[0;34m\u001b[0m\u001b[0;34m\u001b[0m\u001b[0m\n\u001b[1;32m    254\u001b[0m                 inputs=inputs)\n\u001b[0;32m--> 255\u001b[0;31m         \u001b[0mtorch\u001b[0m\u001b[0;34m.\u001b[0m\u001b[0mautograd\u001b[0m\u001b[0;34m.\u001b[0m\u001b[0mbackward\u001b[0m\u001b[0;34m(\u001b[0m\u001b[0mself\u001b[0m\u001b[0;34m,\u001b[0m \u001b[0mgradient\u001b[0m\u001b[0;34m,\u001b[0m \u001b[0mretain_graph\u001b[0m\u001b[0;34m,\u001b[0m \u001b[0mcreate_graph\u001b[0m\u001b[0;34m,\u001b[0m \u001b[0minputs\u001b[0m\u001b[0;34m=\u001b[0m\u001b[0minputs\u001b[0m\u001b[0;34m)\u001b[0m\u001b[0;34m\u001b[0m\u001b[0;34m\u001b[0m\u001b[0m\n\u001b[0m\u001b[1;32m    256\u001b[0m \u001b[0;34m\u001b[0m\u001b[0m\n\u001b[1;32m    257\u001b[0m     \u001b[0;32mdef\u001b[0m \u001b[0mregister_hook\u001b[0m\u001b[0;34m(\u001b[0m\u001b[0mself\u001b[0m\u001b[0;34m,\u001b[0m \u001b[0mhook\u001b[0m\u001b[0;34m)\u001b[0m\u001b[0;34m:\u001b[0m\u001b[0;34m\u001b[0m\u001b[0;34m\u001b[0m\u001b[0m\n",
      "\u001b[0;32m/shared/carles/miniconda3/envs/torchmd-net/lib/python3.8/site-packages/torch/autograd/__init__.py\u001b[0m in \u001b[0;36mbackward\u001b[0;34m(tensors, grad_tensors, retain_graph, create_graph, grad_variables, inputs)\u001b[0m\n\u001b[1;32m    145\u001b[0m         \u001b[0mretain_graph\u001b[0m \u001b[0;34m=\u001b[0m \u001b[0mcreate_graph\u001b[0m\u001b[0;34m\u001b[0m\u001b[0;34m\u001b[0m\u001b[0m\n\u001b[1;32m    146\u001b[0m \u001b[0;34m\u001b[0m\u001b[0m\n\u001b[0;32m--> 147\u001b[0;31m     Variable._execution_engine.run_backward(\n\u001b[0m\u001b[1;32m    148\u001b[0m         \u001b[0mtensors\u001b[0m\u001b[0;34m,\u001b[0m \u001b[0mgrad_tensors_\u001b[0m\u001b[0;34m,\u001b[0m \u001b[0mretain_graph\u001b[0m\u001b[0;34m,\u001b[0m \u001b[0mcreate_graph\u001b[0m\u001b[0;34m,\u001b[0m \u001b[0minputs\u001b[0m\u001b[0;34m,\u001b[0m\u001b[0;34m\u001b[0m\u001b[0;34m\u001b[0m\u001b[0m\n\u001b[1;32m    149\u001b[0m         allow_unreachable=True, accumulate_grad=True)  # allow_unreachable flag\n",
      "\u001b[0;31mRuntimeError\u001b[0m: element 0 of tensors does not require grad and does not have a grad_fn"
     ]
    }
   ],
   "source": [
    "train_losses = []\n",
    "for epoch in range(1, n_epochs + 1):\n",
    "            \n",
    "    # Starting...\n",
    "\n",
    "    system = System(mol.numAtoms, nreplicas=10,precision=torch.double, device=device)\n",
    "    system.set_positions(mol.coords)\n",
    "    system.set_box(mol.box)\n",
    "    system.set_velocities(maxwell_boltzmann(forces.par.masses, T=350, replicas=10))\n",
    "\n",
    "    Epot = forces.compute(system.pos, system.box, system.forces)\n",
    "    \n",
    "    \n",
    "    for i in iterator:\n",
    "        Ekin, Epot, T = integrator.step(niter=output_period)\n",
    "        #currpos = system.pos.detach().cpu().numpy().copy()\n",
    "    \n",
    "    # Update params\n",
    "    \n",
    "    loss, passed = rmsd(native_coords[0], system.pos.clone()[0])\n",
    "    train_losses.append(loss)\n",
    "    loss_log = torch.log(1.0 + loss)\n",
    "    \n",
    "    optim.zero_grad()\n",
    "    loss_log.backward()\n",
    "    optim.step()\n",
    "    \n",
    "    del system\n",
    "    print(f'Epoch {epoch}, Training loss {loss.item()}')\n",
    "        \n",
    "    \n",
    "    #for rep, coords in enumerate(native_coords):\n",
    "    #    print('RMSD GOOD: ', rmsd(native_coords[rep], currpos[rep]))\n",
    "    "
   ]
  },
  {
   "cell_type": "code",
   "execution_count": 26,
   "id": "7b2775fa-1514-46eb-a63e-f3f04f5742a2",
   "metadata": {},
   "outputs": [
    {
     "data": {
      "text/plain": [
       "array([[[ -6.88      ,  -6.88      ,  -6.88      ,  -6.88      ,\n",
       "          -6.88      ,  -9.8       ,  -9.8       ,  -9.8       ,\n",
       "          -9.8       ,  -9.8       ],\n",
       "        [ -0.71000004,  -0.71000004,  -0.71000004,  -0.71000004,\n",
       "          -0.71000004,  11.51      ,  11.51      ,  11.51      ,\n",
       "          11.51      ,  11.51      ],\n",
       "        [  2.9       ,   2.9       ,   2.9       ,   2.9       ,\n",
       "           2.9       ,   1.26      ,   1.26      ,   1.26      ,\n",
       "           1.26      ,   1.26      ]],\n",
       "\n",
       "       [[ -4.1900005 ,  -4.1900005 ,  -4.1900005 ,  -4.1900005 ,\n",
       "          -4.1900005 ,  -8.52      ,  -8.52      ,  -8.52      ,\n",
       "          -8.52      ,  -8.52      ],\n",
       "        [ -0.3       ,  -0.3       ,  -0.3       ,  -0.3       ,\n",
       "          -0.3       ,   7.8500004 ,   7.8500004 ,   7.8500004 ,\n",
       "           7.8500004 ,   7.8500004 ],\n",
       "        [  0.21000001,   0.21000001,   0.21000001,   0.21000001,\n",
       "           0.21000001,   1.72      ,   1.72      ,   1.72      ,\n",
       "           1.72      ,   1.72      ]],\n",
       "\n",
       "       [[ -1.2900001 ,  -1.2900001 ,  -1.2900001 ,  -1.2900001 ,\n",
       "          -1.2900001 ,  -5.2000003 ,  -5.2000003 ,  -5.2000003 ,\n",
       "          -5.2000003 ,  -5.2000003 ],\n",
       "        [  1.3199999 ,   1.3199999 ,   1.3199999 ,   1.3199999 ,\n",
       "           1.3199999 ,   6.1200004 ,   6.1200004 ,   6.1200004 ,\n",
       "           6.1200004 ,   6.1200004 ],\n",
       "        [  2.08      ,   2.08      ,   2.08      ,   2.08      ,\n",
       "           2.08      ,   2.5500002 ,   2.5500002 ,   2.5500002 ,\n",
       "           2.5500002 ,   2.5500002 ]],\n",
       "\n",
       "       [[  0.58000004,   0.58000004,   0.58000004,   0.58000004,\n",
       "           0.58000004,  -3.5200002 ,  -3.5200002 ,  -3.5200002 ,\n",
       "          -3.5200002 ,  -3.5200002 ],\n",
       "        [  3.4100003 ,   3.4100003 ,   3.4100003 ,   3.4100003 ,\n",
       "           3.4100003 ,   3.5800002 ,   3.5800002 ,   3.5800002 ,\n",
       "           3.5800002 ,   3.5800002 ],\n",
       "        [ -0.51000005,  -0.51000005,  -0.51000005,  -0.51000005,\n",
       "          -0.51000005,   0.12      ,   0.12      ,   0.12      ,\n",
       "           0.12      ,   0.12      ]],\n",
       "\n",
       "       [[  3.5300002 ,   3.5300002 ,   3.5300002 ,   3.5300002 ,\n",
       "           3.5300002 ,  -2.66      ,  -2.66      ,  -2.66      ,\n",
       "          -2.66      ,  -2.66      ],\n",
       "        [  3.69      ,   3.69      ,   3.69      ,   3.69      ,\n",
       "           3.69      ,  -0.17000002,  -0.17000002,  -0.17000002,\n",
       "          -0.17000002,  -0.17000002],\n",
       "        [  1.8900001 ,   1.8900001 ,   1.8900001 ,   1.8900001 ,\n",
       "           1.8900001 ,   0.95000005,   0.95000005,   0.95000005,\n",
       "           0.95000005,   0.95000005]],\n",
       "\n",
       "       [[  4.6800003 ,   4.6800003 ,   4.6800003 ,   4.6800003 ,\n",
       "           4.6800003 ,   1.19      ,   1.19      ,   1.19      ,\n",
       "           1.19      ,   1.19      ],\n",
       "        [  0.24000001,   0.24000001,   0.24000001,   0.24000001,\n",
       "           0.24000001,  -0.9200001 ,  -0.9200001 ,  -0.9200001 ,\n",
       "          -0.9200001 ,  -0.9200001 ],\n",
       "        [  0.75      ,   0.75      ,   0.75      ,   0.75      ,\n",
       "           0.75      ,   1.48      ,   1.48      ,   1.48      ,\n",
       "           1.48      ,   1.48      ]],\n",
       "\n",
       "       [[  2.5       ,   2.5       ,   2.5       ,   2.5       ,\n",
       "           2.5       ,   2.89      ,   2.89      ,   2.89      ,\n",
       "           2.89      ,   2.89      ],\n",
       "        [ -0.02      ,  -0.02      ,  -0.02      ,  -0.02      ,\n",
       "          -0.02      ,  -3.65      ,  -3.65      ,  -3.65      ,\n",
       "          -3.65      ,  -3.65      ],\n",
       "        [ -2.38      ,  -2.38      ,  -2.38      ,  -2.38      ,\n",
       "          -2.38      ,  -0.81      ,  -0.81      ,  -0.81      ,\n",
       "          -0.81      ,  -0.81      ]],\n",
       "\n",
       "       [[  0.41000003,   0.41000003,   0.41000003,   0.41000003,\n",
       "           0.41000003,   4.8       ,   4.8       ,   4.8       ,\n",
       "           4.8       ,   4.8       ],\n",
       "        [ -3.03      ,  -3.03      ,  -3.03      ,  -3.03      ,\n",
       "          -3.03      ,  -6.57      ,  -6.57      ,  -6.57      ,\n",
       "          -6.57      ,  -6.57      ],\n",
       "        [ -1.27      ,  -1.27      ,  -1.27      ,  -1.27      ,\n",
       "          -1.27      ,   0.54      ,   0.54      ,   0.54      ,\n",
       "           0.54      ,   0.54      ]],\n",
       "\n",
       "       [[ -2.6000001 ,  -2.6000001 ,  -2.6000001 ,  -2.6000001 ,\n",
       "          -2.6000001 ,   7.8500004 ,   7.8500004 ,   7.8500004 ,\n",
       "           7.8500004 ,   7.8500004 ],\n",
       "        [ -4.01      ,  -4.01      ,  -4.01      ,  -4.01      ,\n",
       "          -4.01      ,  -8.710001  ,  -8.710001  ,  -8.710001  ,\n",
       "          -8.710001  ,  -8.710001  ],\n",
       "        [  0.87000006,   0.87000006,   0.87000006,   0.87000006,\n",
       "           0.87000006,  -0.06      ,  -0.06      ,  -0.06      ,\n",
       "          -0.06      ,  -0.06      ]],\n",
       "\n",
       "       [[ -1.23      ,  -1.23      ,  -1.23      ,  -1.23      ,\n",
       "          -1.23      ,   8.4800005 ,   8.4800005 ,   8.4800005 ,\n",
       "           8.4800005 ,   8.4800005 ],\n",
       "        [ -3.77      ,  -3.77      ,  -3.77      ,  -3.77      ,\n",
       "          -3.77      , -12.2300005 , -12.2300005 , -12.2300005 ,\n",
       "         -12.2300005 , -12.2300005 ],\n",
       "        [  4.4300003 ,   4.4300003 ,   4.4300003 ,   4.4300003 ,\n",
       "           4.4300003 ,   1.22      ,   1.22      ,   1.22      ,\n",
       "           1.22      ,   1.22      ]]], dtype=float32)"
      ]
     },
     "execution_count": 26,
     "metadata": {},
     "output_type": "execute_result"
    }
   ],
   "source": [
    "ref_coords = mol.coords.copy()\n",
    "ref_coords"
   ]
  },
  {
   "cell_type": "code",
   "execution_count": 16,
   "id": "b487822a-14f8-4d73-8deb-3051d62c8153",
   "metadata": {},
   "outputs": [
    {
     "name": "stderr",
     "output_type": "stream",
     "text": [
      "100%|███████████████████████████████████████████| 20/20 [00:13<00:00,  1.53it/s]\n"
     ]
    }
   ],
   "source": [
    "for i in iterator:\n",
    "         #viewFrame(mol, system.pos, system.forces)\n",
    "    Ekin, Epot, T = integrator.step(niter=output_period)\n",
    "#wrapper.wrap(system.pos, system.box)\n",
    "    currpos = system.pos.clone()\n"
   ]
  },
  {
   "cell_type": "code",
   "execution_count": 17,
   "id": "3610f3a8-a14a-4c62-a6fa-425f340e47e2",
   "metadata": {},
   "outputs": [
    {
     "data": {
      "text/plain": [
       "(tensor(1.6575, dtype=torch.float64), True)"
      ]
     },
     "execution_count": 17,
     "metadata": {},
     "output_type": "execute_result"
    }
   ],
   "source": [
    "rmsd(native_coords[0], currpos[0])"
   ]
  },
  {
   "cell_type": "code",
   "execution_count": null,
   "id": "efee3bbe-adbc-4477-9f12-3f702bc808ce",
   "metadata": {},
   "outputs": [],
   "source": []
  },
  {
   "cell_type": "code",
   "execution_count": null,
   "id": "ed6acc69-75f0-4d4e-9a0d-12cfc3e81f52",
   "metadata": {},
   "outputs": [],
   "source": []
  }
 ],
 "metadata": {
  "kernelspec": {
   "display_name": "Python 3 (ipykernel)",
   "language": "python",
   "name": "python3"
  },
  "language_info": {
   "codemirror_mode": {
    "name": "ipython",
    "version": 3
   },
   "file_extension": ".py",
   "mimetype": "text/x-python",
   "name": "python",
   "nbconvert_exporter": "python",
   "pygments_lexer": "ipython3",
   "version": "3.8.10"
  }
 },
 "nbformat": 4,
 "nbformat_minor": 5
}
