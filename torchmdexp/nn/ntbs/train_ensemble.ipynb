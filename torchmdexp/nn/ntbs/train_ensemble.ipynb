{
 "cells": [
  {
   "cell_type": "code",
   "execution_count": 1,
   "id": "012dbdff-9204-4bad-bea9-ce447dcef86d",
   "metadata": {
    "jupyter": {
     "source_hidden": true
    },
    "tags": []
   },
   "outputs": [],
   "source": [
    "import argparse\n",
    "from argparse import Namespace \n",
    "import torch\n",
    "from torchmdnet import calculators\n",
    "from torchmdnet.utils import LoadFromFile, LoadFromCheckpoint, save_argparse, number\n",
    "from torchmdnet import datasets, priors, models\n",
    "from torchmdnet.data import DataModule\n",
    "from torchmdnet.models import output_modules\n",
    "from torchmdnet.models.utils import rbf_class_mapping, act_class_mapping\n",
    "from torchmdnet.models.model import load_model, create_model\n",
    "\n",
    "from moleculekit.molecule import Molecule\n",
    "from torchmd.forcefields.ff_yaml import YamlForcefield\n",
    "from torchmd.forcefields.forcefield import ForceField\n",
    "from torchmd.forces import Forces\n",
    "from torchmd.integrator import Integrator, maxwell_boltzmann\n",
    "from torchmd.parameters import Parameters\n",
    "from torchmd.systems import System\n",
    "from torchmd.wrapper import Wrapper\n",
    "\n",
    "from torchmdexp.nn.utils import get_embeddings\n",
    "from torchmdexp.nn.module import LNNP\n",
    "from torchmdexp.nn.calculator import External\n",
    "\n",
    "from tqdm import tqdm"
   ]
  },
  {
   "cell_type": "markdown",
   "id": "6ce7ee0d-6511-48c5-be98-200a67899da5",
   "metadata": {},
   "source": [
    "## Load args file"
   ]
  },
  {
   "cell_type": "code",
   "execution_count": 2,
   "id": "c460dd6d-87bd-4634-8806-bfd2c24e5aa8",
   "metadata": {
    "jupyter": {
     "source_hidden": true
    },
    "tags": []
   },
   "outputs": [],
   "source": [
    "def get_args():\n",
    "    # fmt: off\n",
    "    parser = argparse.ArgumentParser(description='Training')\n",
    "    parser.add_argument('--load-model', action=LoadFromCheckpoint, help='Restart training using a model checkpoint')  # keep first\n",
    "    parser.add_argument('--conf', '-c', type=open, action=LoadFromFile, help='Configuration yaml file')  # keep second\n",
    "    parser.add_argument('--num-epochs', default=300, type=int, help='number of epochs')\n",
    "    parser.add_argument('--batch-size', default=32, type=int, help='batch size')\n",
    "    parser.add_argument('--inference-batch-size', default=None, type=int, help='Batchsize for validation and tests.')\n",
    "    parser.add_argument('--lr', default=1e-4, type=float, help='learning rate')\n",
    "    parser.add_argument('--lr-patience', type=int, default=10, help='Patience for lr-schedule. Patience per eval-interval of validation')\n",
    "    parser.add_argument('--lr-min', type=float, default=1e-6, help='Minimum learning rate before early stop')\n",
    "    parser.add_argument('--lr-factor', type=float, default=0.8, help='Minimum learning rate before early stop')\n",
    "    parser.add_argument('--lr-warmup-steps', type=int, default=0, help='How many steps to warm-up over. Defaults to 0 for no warm-up')\n",
    "    parser.add_argument('--early-stopping-patience', type=int, default=30, help='Stop training after this many epochs without improvement')\n",
    "    parser.add_argument('--weight-decay', type=float, default=0.0, help='Weight decay strength')\n",
    "    parser.add_argument('--ema-alpha-y', type=float, default=1.0, help='The amount of influence of new losses on the exponential moving average of y')\n",
    "    parser.add_argument('--ema-alpha-dy', type=float, default=1.0, help='The amount of influence of new losses on the exponential moving average of dy')\n",
    "    parser.add_argument('--ngpus', type=int, default=-1, help='Number of GPUs, -1 use all available. Use CUDA_VISIBLE_DEVICES=1, to decide gpus')\n",
    "    parser.add_argument('--num-nodes', type=int, default=1, help='Number of nodes')\n",
    "    parser.add_argument('--precision', type=int, default=32, choices=[16, 32], help='Floating point precision')\n",
    "    parser.add_argument('--log-dir', '-l', default='/trainings', help='log file')\n",
    "    parser.add_argument('--splits', default=None, help='Npz with splits idx_train, idx_val, idx_test')\n",
    "    parser.add_argument('--train-size', type=number, default=None, help='Percentage/number of samples in training set (None to use all remaining samples)')\n",
    "    parser.add_argument('--val-size', type=number, default=0.05, help='Percentage/number of samples in validation set (None to use all remaining samples)')\n",
    "    parser.add_argument('--test-size', type=number, default=0.1, help='Percentage/number of samples in test set (None to use all remaining samples)')\n",
    "    parser.add_argument('--test-interval', type=int, default=10, help='Test interval, one test per n epochs (default: 10)')\n",
    "    parser.add_argument('--save-interval', type=int, default=10, help='Save interval, one save per n epochs (default: 10)')\n",
    "    parser.add_argument('--seed', type=int, default=1, help='random seed (default: 1)')\n",
    "    parser.add_argument('--distributed-backend', default='ddp', help='Distributed backend: dp, ddp, ddp2')\n",
    "    parser.add_argument('--num-workers', type=int, default=4, help='Number of workers for data prefetch')\n",
    "    parser.add_argument('--redirect', type=bool, default=False, help='Redirect stdout and stderr to log_dir/log')\n",
    "    \n",
    "    # model architecture\n",
    "    parser.add_argument('--model', type=str, default='graph-network', choices=models.__all__, help='Which model to train')\n",
    "    parser.add_argument('--output-model', type=str, default='Scalar', choices=output_modules.__all__, help='The type of output model')\n",
    "    parser.add_argument('--prior-model', type=str, default=None, choices=priors.__all__, help='Which prior model to use')\n",
    "\n",
    "    # architectural args\n",
    "    parser.add_argument('--embedding-dimension', type=int, default=256, help='Embedding dimension')\n",
    "    parser.add_argument('--num-layers', type=int, default=6, help='Number of interaction layers in the model')\n",
    "    parser.add_argument('--num-rbf', type=int, default=64, help='Number of radial basis functions in model')\n",
    "    parser.add_argument('--num-filters', type=int, default=128, help='Number of filters in model')    \n",
    "    parser.add_argument('--activation', type=str, default='silu', choices=list(act_class_mapping.keys()), help='Activation function')\n",
    "    parser.add_argument('--rbf-type', type=str, default='expnorm', choices=list(rbf_class_mapping.keys()), help='Type of distance expansion')\n",
    "    parser.add_argument('--trainable-rbf', type=bool, default=False, help='If distance expansion functions should be trainable')\n",
    "    parser.add_argument('--neighbor-embedding', type=bool, default=False, help='If a neighbor embedding should be applied before interactions')\n",
    "    \n",
    "    # dataset specific\n",
    "    parser.add_argument('--data_dir', default=None, help='Input directory')\n",
    "    parser.add_argument('--dataset', default=None, type=str, choices=datasets.__all__, help='Name of the torch_geometric dataset')\n",
    "    parser.add_argument('--dataset-root', default='~/data', type=str, help='Data storage directory (not used if dataset is \"CG\")')\n",
    "    parser.add_argument('--dataset-arg', default=None, type=str, help='Additional dataset argument, e.g. target property for QM9 or molecule for MD17')\n",
    "    parser.add_argument('--coord-files', default=None, type=str, help='Custom coordinate files glob')\n",
    "    parser.add_argument('--embed-files', default=None, type=str, help='Custom embedding files glob')\n",
    "    parser.add_argument('--energy-files', default=None, type=str, help='Custom energy files glob')\n",
    "    parser.add_argument('--force-files', default=None, type=str, help='Custom force files glob')\n",
    "    parser.add_argument('--energy-weight', default=1.0, type=float, help='Weighting factor for energies in the loss function')\n",
    "    parser.add_argument('--force-weight', default=1.0, type=float, help='Weighting factor for forces in the loss function')\n",
    "\n",
    "    # Transformer specific\n",
    "    parser.add_argument('--distance-influence', type=str, default='both', choices=['keys', 'values', 'both', 'none'], help='Where distance information is included inside the attention')\n",
    "    parser.add_argument('--attn-activation', default='silu', choices=list(act_class_mapping.keys()), help='Attention activation function')\n",
    "    parser.add_argument('--num-heads', type=int, default=8, help='Number of attention heads')\n",
    "    \n",
    "    # Torchmdexp specific\n",
    "    parser.add_argument('--device', default='cpu', help='Type of device, e.g. \"cuda:1\"')\n",
    "    parser.add_argument('--forcefield', default=\"../data/ca_priors-dihedrals_general_2xweaker.yaml\", help='Forcefield .yaml file')\n",
    "    parser.add_argument('--forceterms', nargs='+', default=\"bonds\", help='Forceterms to include, e.g. --forceterms Bonds LJ')\n",
    "    parser.add_argument('--cutoff', default=None, type=float, help='LJ/Elec/Bond cutoff')\n",
    "    parser.add_argument('--rfa', default=False, action='store_true', help='Enable reaction field approximation')\n",
    "    parser.add_argument('--replicas', type=int, default=1, help='Number of different replicas to run')\n",
    "    parser.add_argument('--step_update', type=int, default=5, help='Number of epochs to update the simulation steps')\n",
    "    parser.add_argument('--switch_dist', default=None, type=float, help='Switching distance for LJ')\n",
    "    parser.add_argument('--temperature',  default=300,type=float, help='Assign velocity from initial temperature in K')\n",
    "    parser.add_argument('--force-precision', default='single', type=str, help='LJ/Elec/Bond cutoff')\n",
    "    parser.add_argument('--verbose', default=None, help='Add verbose')\n",
    "    parser.add_argument('--timestep', default=1, type=float, help='Timestep in fs')\n",
    "    parser.add_argument('--langevin_gamma',  default=0.1,type=float, help='Langevin relaxation ps^-1')\n",
    "    parser.add_argument('--langevin_temperature',  default=0,type=float, help='Temperature in K of the thermostat')\n",
    "    parser.add_argument('--max_steps',type=int,default=2000,help='Total number of simulation steps')\n",
    "    \n",
    "    # other args\n",
    "    parser.add_argument('--derivative', default=True, type=bool, help='If true, take the derivative of the prediction w.r.t coordinates')\n",
    "    parser.add_argument('--cutoff-lower', type=float, default=0.0, help='Lower cutoff in model')\n",
    "    parser.add_argument('--cutoff-upper', type=float, default=5.0, help='Upper cutoff in model')\n",
    "    parser.add_argument('--atom-filter', type=int, default=-1, help='Only sum over atoms with Z > atom_filter')\n",
    "    \n",
    "    parser.add_argument('--max-z', type=int, default=100, help='Maximum atomic number that fits in the embedding matrix')\n",
    "    parser.add_argument('--max-num-neighbors', type=int, default=32, help='Maximum number of neighbors to consider in the network')\n",
    "    parser.add_argument('--standardize', type=bool, default=False, help='If true, multiply prediction by dataset std and add mean')\n",
    "    parser.add_argument('--reduce-op', type=str, default='add', choices=['add', 'mean'], help='Reduce operation to apply to atomic predictions')\n",
    "\n",
    "    args = parser.parse_args(\"\")\n",
    "    all_defaults = {}\n",
    "    for key in vars(args):\n",
    "        all_defaults[key] = parser.get_default(key)\n",
    "    \n",
    "    return all_defaults"
   ]
  },
  {
   "cell_type": "code",
   "execution_count": 3,
   "id": "c4d0267f-657a-4bc4-a533-7a119184ba50",
   "metadata": {},
   "outputs": [],
   "source": [
    "args_dict = get_args()"
   ]
  },
  {
   "cell_type": "code",
   "execution_count": 4,
   "id": "0e58c5d7-88b0-4221-93bf-6b0b0a1f325a",
   "metadata": {},
   "outputs": [],
   "source": [
    "# process_yaml.py file\n",
    "import yaml\n",
    "\n",
    "with open('../arguments/cln_gnn_brd.yaml') as file:\n",
    "    # The FullLoader parameter handles the conversion from YAML\n",
    "    # scalar values to Python the dictionary format\n",
    "    args_file = yaml.load(file, Loader=yaml.FullLoader)\n",
    "for key, value in args_file.items():\n",
    "    args_dict[key] = value\n",
    "class Struct:\n",
    "    def __init__(self, **entries):\n",
    "        self.__dict__.update(entries)\n",
    "args = Struct(**args_dict)"
   ]
  },
  {
   "cell_type": "code",
   "execution_count": 5,
   "id": "ec4e34aa-f9bd-4be8-923c-7c1add673b89",
   "metadata": {},
   "outputs": [],
   "source": [
    "def get_native_coords(mol, args):\n",
    "    \n",
    "    replicas = args.replicas\n",
    "    device = args.device\n",
    "    pos = torch.zeros(replicas, mol.numAtoms, 3, device = device)\n",
    "    \n",
    "    atom_pos = np.transpose(mol.coords, (2, 0, 1))\n",
    "    if replicas > 1 and atom_pos.shape[0] != replicas:\n",
    "        tom_pos = np.repeat(atom_pos[0][None, :], replicas, axis=0)\n",
    "\n",
    "    pos[:] = torch.tensor(\n",
    "            atom_pos, dtype=pos.dtype, device=pos.device\n",
    "    )\n",
    "    pos = pos.type(torch.float64)\n",
    "    \n",
    "    return pos"
   ]
  },
  {
   "cell_type": "code",
   "execution_count": 6,
   "id": "bb4eb7a4-82c7-4371-96c7-864898e273aa",
   "metadata": {},
   "outputs": [],
   "source": [
    "import numpy as np\n",
    "mol = Molecule('../data/chignolin_cln025.pdb')\n",
    "mol.read('../data/chignolin_cln025.psf')\n",
    "mol.filter('name CA')\n",
    "args.replicas = 1\n",
    "pos = get_native_coords(mol, args)"
   ]
  },
  {
   "cell_type": "markdown",
   "id": "4ab3c9bb-82b6-4e36-be9e-fe79d602e263",
   "metadata": {},
   "source": [
    "## Sample states"
   ]
  },
  {
   "cell_type": "code",
   "execution_count": 7,
   "id": "61a57080-9022-4915-8e13-45e681ff6f2b",
   "metadata": {},
   "outputs": [],
   "source": [
    "n_epochs = 50\n",
    "steps = 2000\n",
    "output_period = 25\n",
    "native_coords = get_native_coords(mol, args)"
   ]
  },
  {
   "cell_type": "code",
   "execution_count": 8,
   "id": "a3755e7d-e973-4681-9a02-cb8ae6810181",
   "metadata": {},
   "outputs": [],
   "source": [
    "trained_lambda_net = '/shared/carles/torchmd-exp/torchmdexp/nn/trainings/Train_lambdaNN/cln_prelambda_02_09/epoch=49-loss=1.6478.ckpt'\n",
    "model = load_model(trained_lambda_net, device='cuda:1', derivative=True)\n",
    "embeddings = get_embeddings(mol)\n",
    "embeddings = torch.tensor(embeddings, device = args.device).repeat(args.replicas, 1)\n",
    "external = External(model, embeddings, device = args.device, mode = 'val')"
   ]
  },
  {
   "cell_type": "code",
   "execution_count": 9,
   "id": "b93e0a85-50dd-4848-9137-5a820f8cbf86",
   "metadata": {},
   "outputs": [],
   "source": [
    "ff = ForceField.create(mol,args.forcefield)\n",
    "parameters = Parameters(ff, mol, terms=args.forceterms, device=args.device)\n",
    "forces = Forces(parameters, terms=args.forceterms, external=external, cutoff=args.cutoff, \n",
    "                rfa=args.rfa, switch_dist=args.switch_dist\n",
    "                )"
   ]
  },
  {
   "cell_type": "code",
   "execution_count": 10,
   "id": "fe086cd7-59f5-47e8-870a-7737780d5e89",
   "metadata": {},
   "outputs": [],
   "source": [
    "system = System(mol.numAtoms, nreplicas=args.replicas,precision=torch.double, device=args.device)\n",
    "system.set_positions(mol.coords)\n",
    "system.set_box(mol.box)\n",
    "system.set_velocities(maxwell_boltzmann(forces.par.masses, T=args.temperature, replicas=args.replicas))"
   ]
  },
  {
   "cell_type": "code",
   "execution_count": 11,
   "id": "0af90871-4033-4a07-9b94-22e764b61f92",
   "metadata": {},
   "outputs": [],
   "source": [
    "def sampler(system, forces, steps, output_period, timestep, replicas, device = 'cuda:1', gamma=None, langevin_temperature=None):\n",
    "    \n",
    "    integrator = Integrator(system, forces, timestep, device, gamma=gamma, T=langevin_temperature)\n",
    "    iterator = tqdm(range(1,int(steps/output_period)+1))\n",
    "    Epot = forces.compute(system.pos, system.box, system.forces)\n",
    "    \n",
    "    nstates = steps // output_period\n",
    "    \n",
    "    states = torch.zeros(nstates, args.replicas, len(system.pos[0]), 3, device = device, dtype = torch.float64)\n",
    "    boxes = torch.zeros(nstates, args.replicas, 3, 3, device = device, dtype = torch.float64)\n",
    "\n",
    "    \n",
    "    for i in iterator:\n",
    "        Ekin, Epot, T = integrator.step(niter=output_period)\n",
    "        states[i - 1] = system.pos\n",
    "        boxes[i - 1] = system.box\n",
    "    return states, boxes"
   ]
  },
  {
   "cell_type": "code",
   "execution_count": 12,
   "id": "45a914e9-7640-4834-99ca-ddcfbfa0c471",
   "metadata": {},
   "outputs": [
    {
     "name": "stderr",
     "output_type": "stream",
     "text": [
      "100%|███████████████████████████████████████████| 80/80 [00:56<00:00,  1.42it/s]\n"
     ]
    }
   ],
   "source": [
    "states, boxes = sampler(system, forces, steps, output_period, args.timestep, args.replicas, device=args.device, \n",
    "        gamma=args.langevin_gamma, langevin_temperature=args.langevin_temperature\n",
    "       )"
   ]
  },
  {
   "cell_type": "markdown",
   "id": "4e5ccd8a-2ff8-442f-93cc-c6e303fa5f0b",
   "metadata": {},
   "source": [
    "## Compute prior energies"
   ]
  },
  {
   "cell_type": "code",
   "execution_count": 13,
   "id": "3fde1250-073a-47f1-aad5-2ea88348988f",
   "metadata": {},
   "outputs": [],
   "source": [
    "prior_forces = Forces(parameters, terms=args.forceterms, external=None, cutoff=args.cutoff, \n",
    "                rfa=args.rfa, switch_dist=args.switch_dist\n",
    "                )"
   ]
  },
  {
   "cell_type": "code",
   "execution_count": 14,
   "id": "86e2bf02-eb1e-45d4-9d8b-8280be80ee29",
   "metadata": {},
   "outputs": [],
   "source": [
    "iforces = torch.zeros_like(states)\n",
    "prior_energies = torch.zeros(len(states), device = args.device, dtype=torch.float64)\n",
    "for i in range(len(states)):\n",
    "    prior_energies[i] = prior_forces.compute(states[i], boxes[i], iforces[i])[0]\n",
    "iforces = torch.zeros_like(iforces)"
   ]
  },
  {
   "cell_type": "code",
   "execution_count": 15,
   "id": "e3cd0137-a26f-4c07-bc39-6b9a0ff75e17",
   "metadata": {},
   "outputs": [],
   "source": [
    "ExtE_ref = torch.zeros(len(states), device = args.device, dtype=torch.float64)\n",
    "for i in range(len(states)):\n",
    "    ExtE_ref[i] = external.calculate(states[i], boxes[i])[0] "
   ]
  },
  {
   "cell_type": "code",
   "execution_count": 16,
   "id": "41ac44b7-32ac-4c4e-9ab2-fe2f5324a044",
   "metadata": {},
   "outputs": [],
   "source": [
    "U_ref = prior_energies + ExtE_ref"
   ]
  },
  {
   "cell_type": "markdown",
   "id": "2fdc63d4-f9b6-4f51-9ae3-960a6b111a20",
   "metadata": {},
   "source": [
    "## Train external model"
   ]
  },
  {
   "cell_type": "code",
   "execution_count": 23,
   "id": "a3d81009-84dd-4405-9d5c-27b1c2830f5f",
   "metadata": {},
   "outputs": [],
   "source": [
    "from torchmdexp.nn.utils import rmsd\n",
    "native_coords = get_native_coords(mol, args)\n",
    "\n",
    "BOLTZMAN = 0.001987191\n",
    "parameters = External(model, embeddings, device = args.device, mode = 'train')\n",
    "optim = torch.optim.Adam(parameters.model.parameters(), lr=10000)"
   ]
  },
  {
   "cell_type": "code",
   "execution_count": 24,
   "id": "d79abad2-5b4c-43ca-8258-b53de72dc953",
   "metadata": {},
   "outputs": [
    {
     "name": "stdout",
     "output_type": "stream",
     "text": [
      "-0.6355574131011963\n",
      "-0.6355574131011963\n",
      "-0.6355574131011963\n",
      "-0.6355574131011963\n",
      "-0.6355574131011963\n"
     ]
    }
   ],
   "source": [
    "for i in range(5):\n",
    "    ExtE = torch.zeros(len(states), device = args.device, dtype=torch.float64)\n",
    "    for i in range(len(states)):\n",
    "        ExtE[i] = parameters.calculate(states[i], boxes[i])[0] \n",
    "    U = prior_energies + ExtE\n",
    "    exponentials = torch.exp(-torch.divide(torch.subtract(U, U_ref), args.temperature*BOLTZMAN))\n",
    "    weights = torch.divide(exponentials, torch.sum(exponentials))\n",
    "    weights = weights[:, None, None, None]\n",
    "    ensemble = torch.sum(torch.multiply(weights, states), axis=0)\n",
    "    \n",
    "    \n",
    "    #pos_rmsd, _ = rmsd(native_coords, ensemble)\n",
    "    #loss = torch.log(1.0 + pos_rmsd)\n",
    "    loss = (torch.sum(torch.subtract(U, U_ref)))**2\n",
    "    \n",
    "    optim.zero_grad()\n",
    "    loss.backward\n",
    "    optim.step()\n",
    "    print(list(parameters.model.parameters())[0][0][0].item())"
   ]
  },
  {
   "cell_type": "code",
   "execution_count": 47,
   "id": "5dc692b3-f16d-402a-9997-f860384a1613",
   "metadata": {},
   "outputs": [],
   "source": [
    "for i in range(50):\n",
    "    ExtE = []\n",
    "    for i in range(len(states)):\n",
    "        ExtE.append(parameters.calculate(states[i], boxes[i])[0])\n",
    "        \n",
    "    U = []\n",
    "    for idx, ene in enumerate(ExtE):\n",
    "        U.append(ExtE[idx] + prior_energies[idx])\n",
    "    \n",
    "    exponentials = []\n",
    "    for i in range(5):\n",
    "        exponentials.append(torch.exp(-torch.divide((U[i] - U_ref[i]), args.temperature*BOLTZMAN)))\n",
    "    \n",
    "    denominator = 0\n",
    "    for exp in exponentials:\n",
    "        denominator += exp\n",
    "        \n",
    "    weights = [ exp / denominator for exp in exponentials ]\n",
    "    ensemble = [ w * states[idx] for idx, w in enumerate(weights)]\n",
    "    \n",
    "    w_ensemble = 0\n",
    "    for ens in ensemble:\n",
    "        w_ensemble += ens\n",
    "    \n",
    "    pos_rmsd, _ = rmsd(native_coords, w_ensemble)\n",
    "    loss = torch.log(1.0 + pos_rmsd)\n",
    "    optim.zero_grad()\n",
    "    loss.backward\n",
    "    optim.step()"
   ]
  },
  {
   "cell_type": "code",
   "execution_count": null,
   "id": "0aeab722-7034-436d-938c-fc16a4313e68",
   "metadata": {},
   "outputs": [],
   "source": []
  }
 ],
 "metadata": {
  "kernelspec": {
   "display_name": "Python 3 (ipykernel)",
   "language": "python",
   "name": "python3"
  },
  "language_info": {
   "codemirror_mode": {
    "name": "ipython",
    "version": 3
   },
   "file_extension": ".py",
   "mimetype": "text/x-python",
   "name": "python",
   "nbconvert_exporter": "python",
   "pygments_lexer": "ipython3",
   "version": "3.8.10"
  }
 },
 "nbformat": 4,
 "nbformat_minor": 5
}
