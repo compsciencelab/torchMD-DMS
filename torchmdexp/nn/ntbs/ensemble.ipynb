{
 "cells": [
  {
   "cell_type": "code",
   "execution_count": 1,
   "id": "afd60cc1-dbf0-44ee-b3ed-fc1c6c2492bb",
   "metadata": {},
   "outputs": [],
   "source": [
    "import argparse\n",
    "from argparse import Namespace \n",
    "import torch\n",
    "from torchmdnet import calculators\n",
    "from torchmdnet.utils import LoadFromFile, LoadFromCheckpoint, save_argparse, number\n",
    "from torchmdnet import datasets, priors, models\n",
    "from torchmdnet.data import DataModule\n",
    "from torchmdnet.models import output_modules\n",
    "from torchmdnet.models.utils import rbf_class_mapping, act_class_mapping\n",
    "from torchmdnet.models.model import load_model, create_model\n",
    "\n",
    "from moleculekit.molecule import Molecule\n",
    "from torchmd.forcefields.ff_yaml import YamlForcefield\n",
    "from torchmd.forcefields.forcefield import ForceField\n",
    "from torchmd.forces import Forces\n",
    "from torchmd.integrator import Integrator, maxwell_boltzmann\n",
    "from torchmd.parameters import Parameters\n",
    "from torchmd.systems import System\n",
    "from torchmd.wrapper import Wrapper\n",
    "\n",
    "from torchmdexp.nn.utils import get_embeddings\n",
    "from torchmdexp.nn.module import LNNP\n",
    "from torchmdexp.nn.calculator import External\n",
    "\n",
    "from tqdm import tqdm"
   ]
  },
  {
   "cell_type": "markdown",
   "id": "dfa8bf13-adbe-4a3b-9468-3f2391f0b1fc",
   "metadata": {},
   "source": [
    "## Load args file"
   ]
  },
  {
   "cell_type": "code",
   "execution_count": 2,
   "id": "ef7cb018-1da5-425d-9bb5-58cc2a80c284",
   "metadata": {},
   "outputs": [],
   "source": [
    "def get_args():\n",
    "    # fmt: off\n",
    "    parser = argparse.ArgumentParser(description='Training')\n",
    "    parser.add_argument('--load-model', action=LoadFromCheckpoint, help='Restart training using a model checkpoint')  # keep first\n",
    "    parser.add_argument('--conf', '-c', type=open, action=LoadFromFile, help='Configuration yaml file')  # keep second\n",
    "    parser.add_argument('--num-epochs', default=300, type=int, help='number of epochs')\n",
    "    parser.add_argument('--batch-size', default=32, type=int, help='batch size')\n",
    "    parser.add_argument('--inference-batch-size', default=None, type=int, help='Batchsize for validation and tests.')\n",
    "    parser.add_argument('--lr', default=1e-4, type=float, help='learning rate')\n",
    "    parser.add_argument('--lr-patience', type=int, default=10, help='Patience for lr-schedule. Patience per eval-interval of validation')\n",
    "    parser.add_argument('--lr-min', type=float, default=1e-6, help='Minimum learning rate before early stop')\n",
    "    parser.add_argument('--lr-factor', type=float, default=0.8, help='Minimum learning rate before early stop')\n",
    "    parser.add_argument('--lr-warmup-steps', type=int, default=0, help='How many steps to warm-up over. Defaults to 0 for no warm-up')\n",
    "    parser.add_argument('--early-stopping-patience', type=int, default=30, help='Stop training after this many epochs without improvement')\n",
    "    parser.add_argument('--weight-decay', type=float, default=0.0, help='Weight decay strength')\n",
    "    parser.add_argument('--ema-alpha-y', type=float, default=1.0, help='The amount of influence of new losses on the exponential moving average of y')\n",
    "    parser.add_argument('--ema-alpha-dy', type=float, default=1.0, help='The amount of influence of new losses on the exponential moving average of dy')\n",
    "    parser.add_argument('--ngpus', type=int, default=-1, help='Number of GPUs, -1 use all available. Use CUDA_VISIBLE_DEVICES=1, to decide gpus')\n",
    "    parser.add_argument('--num-nodes', type=int, default=1, help='Number of nodes')\n",
    "    parser.add_argument('--precision', type=int, default=32, choices=[16, 32], help='Floating point precision')\n",
    "    parser.add_argument('--log-dir', '-l', default='/trainings', help='log file')\n",
    "    parser.add_argument('--splits', default=None, help='Npz with splits idx_train, idx_val, idx_test')\n",
    "    parser.add_argument('--train-size', type=number, default=None, help='Percentage/number of samples in training set (None to use all remaining samples)')\n",
    "    parser.add_argument('--val-size', type=number, default=0.05, help='Percentage/number of samples in validation set (None to use all remaining samples)')\n",
    "    parser.add_argument('--test-size', type=number, default=0.1, help='Percentage/number of samples in test set (None to use all remaining samples)')\n",
    "    parser.add_argument('--test-interval', type=int, default=10, help='Test interval, one test per n epochs (default: 10)')\n",
    "    parser.add_argument('--save-interval', type=int, default=10, help='Save interval, one save per n epochs (default: 10)')\n",
    "    parser.add_argument('--seed', type=int, default=1, help='random seed (default: 1)')\n",
    "    parser.add_argument('--distributed-backend', default='ddp', help='Distributed backend: dp, ddp, ddp2')\n",
    "    parser.add_argument('--num-workers', type=int, default=4, help='Number of workers for data prefetch')\n",
    "    parser.add_argument('--redirect', type=bool, default=False, help='Redirect stdout and stderr to log_dir/log')\n",
    "    \n",
    "    # model architecture\n",
    "    parser.add_argument('--model', type=str, default='graph-network', choices=models.__all__, help='Which model to train')\n",
    "    parser.add_argument('--output-model', type=str, default='Scalar', choices=output_modules.__all__, help='The type of output model')\n",
    "    parser.add_argument('--prior-model', type=str, default=None, choices=priors.__all__, help='Which prior model to use')\n",
    "\n",
    "    # architectural args\n",
    "    parser.add_argument('--embedding-dimension', type=int, default=256, help='Embedding dimension')\n",
    "    parser.add_argument('--num-layers', type=int, default=6, help='Number of interaction layers in the model')\n",
    "    parser.add_argument('--num-rbf', type=int, default=64, help='Number of radial basis functions in model')\n",
    "    parser.add_argument('--num-filters', type=int, default=128, help='Number of filters in model')    \n",
    "    parser.add_argument('--activation', type=str, default='silu', choices=list(act_class_mapping.keys()), help='Activation function')\n",
    "    parser.add_argument('--rbf-type', type=str, default='expnorm', choices=list(rbf_class_mapping.keys()), help='Type of distance expansion')\n",
    "    parser.add_argument('--trainable-rbf', type=bool, default=False, help='If distance expansion functions should be trainable')\n",
    "    parser.add_argument('--neighbor-embedding', type=bool, default=False, help='If a neighbor embedding should be applied before interactions')\n",
    "    \n",
    "    # dataset specific\n",
    "    parser.add_argument('--data_dir', default=None, help='Input directory')\n",
    "    parser.add_argument('--dataset', default=None, type=str, choices=datasets.__all__, help='Name of the torch_geometric dataset')\n",
    "    parser.add_argument('--dataset-root', default='~/data', type=str, help='Data storage directory (not used if dataset is \"CG\")')\n",
    "    parser.add_argument('--dataset-arg', default=None, type=str, help='Additional dataset argument, e.g. target property for QM9 or molecule for MD17')\n",
    "    parser.add_argument('--coord-files', default=None, type=str, help='Custom coordinate files glob')\n",
    "    parser.add_argument('--embed-files', default=None, type=str, help='Custom embedding files glob')\n",
    "    parser.add_argument('--energy-files', default=None, type=str, help='Custom energy files glob')\n",
    "    parser.add_argument('--force-files', default=None, type=str, help='Custom force files glob')\n",
    "    parser.add_argument('--energy-weight', default=1.0, type=float, help='Weighting factor for energies in the loss function')\n",
    "    parser.add_argument('--force-weight', default=1.0, type=float, help='Weighting factor for forces in the loss function')\n",
    "\n",
    "    # Transformer specific\n",
    "    parser.add_argument('--distance-influence', type=str, default='both', choices=['keys', 'values', 'both', 'none'], help='Where distance information is included inside the attention')\n",
    "    parser.add_argument('--attn-activation', default='silu', choices=list(act_class_mapping.keys()), help='Attention activation function')\n",
    "    parser.add_argument('--num-heads', type=int, default=8, help='Number of attention heads')\n",
    "    \n",
    "    # Torchmdexp specific\n",
    "    parser.add_argument('--device', default='cpu', help='Type of device, e.g. \"cuda:1\"')\n",
    "    parser.add_argument('--forcefield', default=\"../data/ca_priors-dihedrals_general_2xweaker.yaml\", help='Forcefield .yaml file')\n",
    "    parser.add_argument('--forceterms', nargs='+', default=\"bonds\", help='Forceterms to include, e.g. --forceterms Bonds LJ')\n",
    "    parser.add_argument('--cutoff', default=None, type=float, help='LJ/Elec/Bond cutoff')\n",
    "    parser.add_argument('--rfa', default=False, action='store_true', help='Enable reaction field approximation')\n",
    "    parser.add_argument('--replicas', type=int, default=1, help='Number of different replicas to run')\n",
    "    parser.add_argument('--step_update', type=int, default=5, help='Number of epochs to update the simulation steps')\n",
    "    parser.add_argument('--switch_dist', default=None, type=float, help='Switching distance for LJ')\n",
    "    parser.add_argument('--temperature',  default=300,type=float, help='Assign velocity from initial temperature in K')\n",
    "    parser.add_argument('--force-precision', default='single', type=str, help='LJ/Elec/Bond cutoff')\n",
    "    parser.add_argument('--verbose', default=None, help='Add verbose')\n",
    "    parser.add_argument('--timestep', default=1, type=float, help='Timestep in fs')\n",
    "    parser.add_argument('--langevin_gamma',  default=0.1,type=float, help='Langevin relaxation ps^-1')\n",
    "    parser.add_argument('--langevin_temperature',  default=0,type=float, help='Temperature in K of the thermostat')\n",
    "    parser.add_argument('--max_steps',type=int,default=2000,help='Total number of simulation steps')\n",
    "    \n",
    "    # other args\n",
    "    parser.add_argument('--derivative', default=True, type=bool, help='If true, take the derivative of the prediction w.r.t coordinates')\n",
    "    parser.add_argument('--cutoff-lower', type=float, default=0.0, help='Lower cutoff in model')\n",
    "    parser.add_argument('--cutoff-upper', type=float, default=5.0, help='Upper cutoff in model')\n",
    "    parser.add_argument('--atom-filter', type=int, default=-1, help='Only sum over atoms with Z > atom_filter')\n",
    "    \n",
    "    parser.add_argument('--max-z', type=int, default=100, help='Maximum atomic number that fits in the embedding matrix')\n",
    "    parser.add_argument('--max-num-neighbors', type=int, default=32, help='Maximum number of neighbors to consider in the network')\n",
    "    parser.add_argument('--standardize', type=bool, default=False, help='If true, multiply prediction by dataset std and add mean')\n",
    "    parser.add_argument('--reduce-op', type=str, default='add', choices=['add', 'mean'], help='Reduce operation to apply to atomic predictions')\n",
    "\n",
    "    args = parser.parse_args(\"\")\n",
    "    all_defaults = {}\n",
    "    for key in vars(args):\n",
    "        all_defaults[key] = parser.get_default(key)\n",
    "    \n",
    "    return all_defaults"
   ]
  },
  {
   "cell_type": "code",
   "execution_count": 3,
   "id": "ca9e5fd5-90ce-43c7-acd2-9cc311d5ab33",
   "metadata": {},
   "outputs": [],
   "source": [
    "args_dict = get_args()"
   ]
  },
  {
   "cell_type": "code",
   "execution_count": 4,
   "id": "3298c4fb-6d23-48d5-9c22-013faf15512b",
   "metadata": {},
   "outputs": [],
   "source": [
    "# process_yaml.py file\n",
    "import yaml\n",
    "\n",
    "with open('../arguments/cln_gnn_brd.yaml') as file:\n",
    "    # The FullLoader parameter handles the conversion from YAML\n",
    "    # scalar values to Python the dictionary format\n",
    "    args_file = yaml.load(file, Loader=yaml.FullLoader)\n",
    "for key, value in args_file.items():\n",
    "    args_dict[key] = value\n",
    "class Struct:\n",
    "    def __init__(self, **entries):\n",
    "        self.__dict__.update(entries)\n",
    "args = Struct(**args_dict)"
   ]
  },
  {
   "cell_type": "code",
   "execution_count": 5,
   "id": "44e94dcc-6656-4b06-998a-99db664c758b",
   "metadata": {},
   "outputs": [],
   "source": [
    "def get_native_coords(mol, args):\n",
    "    \n",
    "    replicas = args.replicas\n",
    "    device = args.device\n",
    "    pos = torch.zeros(replicas, mol.numAtoms, 3, device = device)\n",
    "    \n",
    "    atom_pos = np.transpose(mol.coords, (2, 0, 1))\n",
    "    if replicas > 1 and atom_pos.shape[0] != replicas:\n",
    "        tom_pos = np.repeat(atom_pos[0][None, :], replicas, axis=0)\n",
    "\n",
    "    pos[:] = torch.tensor(\n",
    "            atom_pos, dtype=pos.dtype, device=pos.device\n",
    "    )\n",
    "    pos = pos.type(torch.float64)\n",
    "    \n",
    "    return pos"
   ]
  },
  {
   "cell_type": "code",
   "execution_count": 6,
   "id": "b32c5e29-dac4-4d39-86f7-b5d38d1e49d8",
   "metadata": {},
   "outputs": [],
   "source": [
    "import numpy as np\n",
    "mol = Molecule('../data/chignolin_cln025.pdb')\n",
    "mol.read('../data/chignolin_cln025.psf')\n",
    "mol.filter('name CA')\n",
    "args.replicas = 1\n",
    "pos = get_native_coords(mol, args)"
   ]
  },
  {
   "cell_type": "markdown",
   "id": "cbfa2dd6-5ba8-42a0-a1fc-006f3881d9ff",
   "metadata": {},
   "source": [
    "## Compute prior energies"
   ]
  },
  {
   "cell_type": "code",
   "execution_count": 7,
   "id": "cc45e170-cf02-4293-8b80-f092f27feba8",
   "metadata": {},
   "outputs": [],
   "source": [
    "ff = ForceField.create(mol,args.forcefield)\n",
    "parameters = Parameters(ff, mol, terms=args.forceterms, device=args.device)\n",
    "forces = Forces(parameters, terms=args.forceterms, external=None, cutoff=args.cutoff, \n",
    "                rfa=args.rfa, switch_dist=args.switch_dist\n",
    "                )"
   ]
  },
  {
   "cell_type": "code",
   "execution_count": 8,
   "id": "c87b8982-886c-4682-b559-2eec377336d2",
   "metadata": {},
   "outputs": [],
   "source": [
    "args.replicas = 1"
   ]
  },
  {
   "cell_type": "code",
   "execution_count": 9,
   "id": "c440573a-1c69-4f26-8573-8b1523b2e667",
   "metadata": {},
   "outputs": [],
   "source": [
    "system = System(mol.numAtoms, nreplicas=args.replicas,precision=torch.double, device=args.device)\n",
    "system.set_positions(mol.coords)\n",
    "system.set_box(mol.box)\n",
    "system.set_velocities(maxwell_boltzmann(forces.par.masses, T=args.temperature, replicas=args.replicas))"
   ]
  },
  {
   "cell_type": "code",
   "execution_count": 10,
   "id": "2c19923d-13ac-406d-8f12-dd01d2010396",
   "metadata": {},
   "outputs": [],
   "source": [
    "nstates = 2\n",
    "args.replicas = 1\n",
    "states = torch.zeros(nstates, args.replicas, mol.numAtoms, 3, device = 'cuda:1', dtype = torch.float64)\n",
    "boxes = torch.zeros(nstates, args.replicas, 3, 3, device = 'cuda:1', dtype = torch.float64)\n",
    "iforces = torch.zeros_like(states)"
   ]
  },
  {
   "cell_type": "code",
   "execution_count": 11,
   "id": "c3caa40f-ed57-4bd0-bbc8-43ebe8eb0f3b",
   "metadata": {},
   "outputs": [],
   "source": [
    "states[0] = system.pos\n",
    "boxes[0] = system.box\n",
    "\n",
    "states[1] = system.pos\n",
    "boxes[1] = system.box"
   ]
  },
  {
   "cell_type": "code",
   "execution_count": 12,
   "id": "3ddc6220-7c68-461f-a952-4ed8ffb97466",
   "metadata": {},
   "outputs": [],
   "source": [
    "prior_energies = torch.zeros(len(states), device = 'cuda:1', dtype=torch.float)\n",
    "\n",
    "for i in range(len(states)):\n",
    "    prior_energies[i] = forces.compute(states[i], boxes[i], iforces[i])[0]"
   ]
  },
  {
   "cell_type": "code",
   "execution_count": 13,
   "id": "4b736e15-844d-476d-856e-6f7029f864dc",
   "metadata": {},
   "outputs": [
    {
     "data": {
      "text/plain": [
       "tensor([9.7166, 9.7166], device='cuda:1')"
      ]
     },
     "execution_count": 13,
     "metadata": {},
     "output_type": "execute_result"
    }
   ],
   "source": [
    "prior_energies"
   ]
  },
  {
   "cell_type": "markdown",
   "id": "57ea5148-3ef4-49ba-b4bb-063ed1c4b950",
   "metadata": {},
   "source": [
    "## Set models"
   ]
  },
  {
   "cell_type": "code",
   "execution_count": 15,
   "id": "b548bed5-d44e-4e07-868a-de0f5a0383c5",
   "metadata": {},
   "outputs": [],
   "source": [
    "import copy\n",
    "\n",
    "# Define the NN model from args\n",
    "ref_model = create_model(args_dict)\n",
    "embeddings = get_embeddings(mol)\n",
    "embeddings = torch.tensor(embeddings, device = args.device).repeat(args.replicas, 1)\n",
    "ref_external = External(ref_model, embeddings, device = args.device, mode = 'val')\n",
    "\n",
    "\n",
    "\n",
    "trained_lambda_net = '/shared/carles/torchmd-exp/torchmdexp/nn/trainings/Train_lambdaNN/cln_prelambda_02_09/epoch=49-loss=1.6478.ckpt'\n",
    "model = load_model(trained_lambda_net, device='cuda:1', derivative=True)\n",
    "external = External(model, embeddings, device = args.device, mode = 'train')\n"
   ]
  },
  {
   "cell_type": "markdown",
   "id": "cfc96a42-dc6e-46f7-8649-21b630df0ac0",
   "metadata": {},
   "source": [
    "## Compute model energies"
   ]
  },
  {
   "cell_type": "code",
   "execution_count": 15,
   "id": "6b5de415-558c-4746-a13d-ab98f85903c9",
   "metadata": {},
   "outputs": [],
   "source": [
    "ref_model_energies = torch.zeros(2, device = 'cuda:1')\n",
    "for i in range(len(states)):\n",
    "    ref_model_energies[i] = ref_external.calculate(states[0], boxes[0])[0]"
   ]
  },
  {
   "cell_type": "code",
   "execution_count": 16,
   "id": "872cabe9-0beb-4c5d-a38f-6bc0c7cef894",
   "metadata": {},
   "outputs": [],
   "source": [
    "model_energies = torch.zeros(2, device = 'cuda:1')\n",
    "for i in range(len(states)):\n",
    "    model_energies[i] = external.calculate(states[0], boxes[0])[0]"
   ]
  },
  {
   "cell_type": "code",
   "execution_count": 17,
   "id": "efca4c38-192e-4cc1-9155-1acd78a449de",
   "metadata": {},
   "outputs": [],
   "source": [
    "U = prior_energies + model_energies\n",
    "U_ref = prior_energies + ref_model_energies"
   ]
  },
  {
   "cell_type": "code",
   "execution_count": 18,
   "id": "4319f91b-3e48-49bc-8177-ed8d02846c21",
   "metadata": {},
   "outputs": [
    {
     "data": {
      "text/plain": [
       "tensor([8.0892, 8.0892], device='cuda:1', grad_fn=<AddBackward0>)"
      ]
     },
     "execution_count": 18,
     "metadata": {},
     "output_type": "execute_result"
    }
   ],
   "source": [
    "U"
   ]
  },
  {
   "cell_type": "code",
   "execution_count": 19,
   "id": "59fbce22-f30c-4662-9dca-1907a0463d86",
   "metadata": {},
   "outputs": [
    {
     "data": {
      "text/plain": [
       "tensor([13.0902, 13.0902], device='cuda:1')"
      ]
     },
     "execution_count": 19,
     "metadata": {},
     "output_type": "execute_result"
    }
   ],
   "source": [
    "U_ref"
   ]
  },
  {
   "cell_type": "code",
   "execution_count": 20,
   "id": "eacfa263-f376-41f5-b091-ffbb29644e8e",
   "metadata": {},
   "outputs": [],
   "source": [
    "k_B = 1.380649e-23 * 6.023e23\n",
    "boltzman =  k_B / 4.183999936795997 / 1000"
   ]
  },
  {
   "cell_type": "code",
   "execution_count": 21,
   "id": "039756f9-413d-4cfa-93de-84ec30323e4d",
   "metadata": {},
   "outputs": [],
   "source": [
    "exponentials = torch.exp(-torch.divide(torch.subtract(U, U_ref), boltzman * args.temperature))"
   ]
  },
  {
   "cell_type": "code",
   "execution_count": 22,
   "id": "616c88d2-7a0f-43cd-95fb-e601ffc768c7",
   "metadata": {},
   "outputs": [],
   "source": [
    "weights = torch.divide(exponentials, torch.sum(exponentials))"
   ]
  },
  {
   "cell_type": "code",
   "execution_count": 23,
   "id": "0c4399de-9389-4da5-98e1-c270689c00e8",
   "metadata": {},
   "outputs": [],
   "source": [
    "w = weights[:, None, None, None]"
   ]
  },
  {
   "cell_type": "code",
   "execution_count": 24,
   "id": "0103b9b0-6fe0-4130-adb2-c239e7077b0f",
   "metadata": {},
   "outputs": [
    {
     "data": {
      "text/plain": [
       "tensor([[[24.9350, 20.6520, 10.7740],\n",
       "         [21.8010, 19.3810,  9.0170],\n",
       "         [18.4770, 20.5390, 10.4320],\n",
       "         [16.2230, 17.6600, 11.5370],\n",
       "         [13.0400, 19.2890, 10.2120],\n",
       "         [14.2000, 20.8060,  6.9410],\n",
       "         [17.2560, 18.6760,  6.0390],\n",
       "         [19.2420, 21.7600,  5.1250],\n",
       "         [22.7620, 22.6800,  6.2410],\n",
       "         [23.1350, 25.4670,  8.7940]]], device='cuda:1', dtype=torch.float64,\n",
       "       grad_fn=<SumBackward1>)"
      ]
     },
     "execution_count": 24,
     "metadata": {},
     "output_type": "execute_result"
    }
   ],
   "source": [
    "torch.sum(torch.multiply(states, w), axis=0)"
   ]
  },
  {
   "cell_type": "markdown",
   "id": "ab560f5a-cee5-4257-850c-d6a1e59e72cc",
   "metadata": {},
   "source": [
    "## Ensemble class"
   ]
  },
  {
   "cell_type": "code",
   "execution_count": 10,
   "id": "adc0b76b-db88-4d79-80de-c1818070acc8",
   "metadata": {},
   "outputs": [],
   "source": [
    "from torchmdexp.nn.ensemble import Ensemble\n",
    "from torchmdexp.nn.utils import rmsd"
   ]
  },
  {
   "cell_type": "code",
   "execution_count": null,
   "id": "3e0c82b3-2c0b-4247-a7c3-c96a855ae597",
   "metadata": {},
   "outputs": [],
   "source": []
  },
  {
   "cell_type": "markdown",
   "id": "9ffd926b-99af-4889-97ff-ee27bede1a9b",
   "metadata": {},
   "source": [
    "### Compute ensemble from a simulation"
   ]
  },
  {
   "cell_type": "code",
   "execution_count": 11,
   "id": "ddde62fa-51b8-4e5f-a826-49a49c1b60f2",
   "metadata": {},
   "outputs": [],
   "source": [
    "n_epochs = 50\n",
    "steps = 2000\n",
    "output_period = 25\n",
    "native_coords = get_native_coords(mol, args)"
   ]
  },
  {
   "cell_type": "code",
   "execution_count": 12,
   "id": "05ede672-25f8-45fe-9a35-a0d41786c808",
   "metadata": {},
   "outputs": [],
   "source": [
    "def sampler(system, forces, steps, output_period, timestep, replicas, device = 'cuda:1', gamma=None, langevin_temperature=None):\n",
    "    \n",
    "    integrator = Integrator(system, forces, timestep, device, gamma=gamma, T=langevin_temperature)\n",
    "    iterator = tqdm(range(1,int(steps/output_period)+1))\n",
    "    Epot = forces.compute(system.pos, system.box, system.forces)\n",
    "    \n",
    "    nstates = steps // output_period\n",
    "    \n",
    "    states = torch.zeros(nstates, args.replicas, len(system.pos[0]), 3, device = device, dtype = torch.float64)\n",
    "    boxes = torch.zeros(nstates, args.replicas, 3, 3, device = device, dtype = torch.float64)\n",
    "\n",
    "    \n",
    "    for i in iterator:\n",
    "        Ekin, Epot, T = integrator.step(niter=output_period)\n",
    "        states[i - 1] = system.pos\n",
    "        boxes[i - 1] = system.box\n",
    "        \n",
    "    return states, boxes"
   ]
  },
  {
   "cell_type": "code",
   "execution_count": 13,
   "id": "82ff349e-fb01-401b-a41c-7a9b245fb567",
   "metadata": {},
   "outputs": [
    {
     "name": "stderr",
     "output_type": "stream",
     "text": [
      "100%|███████████████████████████████████████████| 80/80 [00:17<00:00,  4.62it/s]\n"
     ]
    }
   ],
   "source": [
    "states, boxes = sampler(system, forces, steps, output_period, args.timestep, args.replicas, device=args.device, \n",
    "        gamma=args.langevin_gamma, langevin_temperature=args.langevin_temperature\n",
    "       )"
   ]
  },
  {
   "cell_type": "code",
   "execution_count": 16,
   "id": "062ca305-86ac-4876-a9d1-c13c1d10e84d",
   "metadata": {},
   "outputs": [],
   "source": [
    "ensemble = Ensemble(forces, ref_external, states, boxes, args.temperature, args.device, torch.float)"
   ]
  },
  {
   "cell_type": "code",
   "execution_count": null,
   "id": "c90045d2-d18f-47c5-8469-3a59fabacfe0",
   "metadata": {},
   "outputs": [],
   "source": []
  },
  {
   "cell_type": "code",
   "execution_count": 21,
   "id": "0dc23cd2-bfa1-495a-88d7-ece4eb694720",
   "metadata": {},
   "outputs": [
    {
     "name": "stdout",
     "output_type": "stream",
     "text": [
      "tensor(0.1075, device='cuda:1', dtype=torch.float64, grad_fn=<SqrtBackward>)\n",
      "-0.6355574131011963\n",
      "tensor(0.1075, device='cuda:1', dtype=torch.float64, grad_fn=<SqrtBackward>)\n",
      "-0.6355574131011963\n",
      "tensor(0.1075, device='cuda:1', dtype=torch.float64, grad_fn=<SqrtBackward>)\n",
      "-0.6355574131011963\n",
      "tensor(0.1075, device='cuda:1', dtype=torch.float64, grad_fn=<SqrtBackward>)\n",
      "-0.6355574131011963\n",
      "tensor(0.1075, device='cuda:1', dtype=torch.float64, grad_fn=<SqrtBackward>)\n",
      "-0.6355574131011963\n",
      "tensor(0.1075, device='cuda:1', dtype=torch.float64, grad_fn=<SqrtBackward>)\n",
      "-0.6355574131011963\n",
      "tensor(0.1075, device='cuda:1', dtype=torch.float64, grad_fn=<SqrtBackward>)\n",
      "-0.6355574131011963\n",
      "tensor(0.1075, device='cuda:1', dtype=torch.float64, grad_fn=<SqrtBackward>)\n",
      "-0.6355574131011963\n",
      "tensor(0.1075, device='cuda:1', dtype=torch.float64, grad_fn=<SqrtBackward>)\n",
      "-0.6355574131011963\n",
      "tensor(0.1075, device='cuda:1', dtype=torch.float64, grad_fn=<SqrtBackward>)\n",
      "-0.6355574131011963\n",
      "tensor(0.1075, device='cuda:1', dtype=torch.float64, grad_fn=<SqrtBackward>)\n",
      "-0.6355574131011963\n",
      "tensor(0.1075, device='cuda:1', dtype=torch.float64, grad_fn=<SqrtBackward>)\n",
      "-0.6355574131011963\n",
      "tensor(0.1075, device='cuda:1', dtype=torch.float64, grad_fn=<SqrtBackward>)\n",
      "-0.6355574131011963\n",
      "tensor(0.1075, device='cuda:1', dtype=torch.float64, grad_fn=<SqrtBackward>)\n",
      "-0.6355574131011963\n",
      "tensor(0.1075, device='cuda:1', dtype=torch.float64, grad_fn=<SqrtBackward>)\n",
      "-0.6355574131011963\n",
      "tensor(0.1075, device='cuda:1', dtype=torch.float64, grad_fn=<SqrtBackward>)\n",
      "-0.6355574131011963\n",
      "tensor(0.1075, device='cuda:1', dtype=torch.float64, grad_fn=<SqrtBackward>)\n",
      "-0.6355574131011963\n",
      "tensor(0.1075, device='cuda:1', dtype=torch.float64, grad_fn=<SqrtBackward>)\n",
      "-0.6355574131011963\n",
      "tensor(0.1075, device='cuda:1', dtype=torch.float64, grad_fn=<SqrtBackward>)\n",
      "-0.6355574131011963\n",
      "tensor(0.1075, device='cuda:1', dtype=torch.float64, grad_fn=<SqrtBackward>)\n",
      "-0.6355574131011963\n",
      "tensor(0.1075, device='cuda:1', dtype=torch.float64, grad_fn=<SqrtBackward>)\n",
      "-0.6355574131011963\n",
      "tensor(0.1075, device='cuda:1', dtype=torch.float64, grad_fn=<SqrtBackward>)\n",
      "-0.6355574131011963\n",
      "tensor(0.1075, device='cuda:1', dtype=torch.float64, grad_fn=<SqrtBackward>)\n",
      "-0.6355574131011963\n",
      "tensor(0.1075, device='cuda:1', dtype=torch.float64, grad_fn=<SqrtBackward>)\n",
      "-0.6355574131011963\n",
      "tensor(0.1075, device='cuda:1', dtype=torch.float64, grad_fn=<SqrtBackward>)\n",
      "-0.6355574131011963\n",
      "tensor(0.1075, device='cuda:1', dtype=torch.float64, grad_fn=<SqrtBackward>)\n",
      "-0.6355574131011963\n",
      "tensor(0.1075, device='cuda:1', dtype=torch.float64, grad_fn=<SqrtBackward>)\n",
      "-0.6355574131011963\n",
      "tensor(0.1075, device='cuda:1', dtype=torch.float64, grad_fn=<SqrtBackward>)\n",
      "-0.6355574131011963\n",
      "tensor(0.1075, device='cuda:1', dtype=torch.float64, grad_fn=<SqrtBackward>)\n",
      "-0.6355574131011963\n",
      "tensor(0.1075, device='cuda:1', dtype=torch.float64, grad_fn=<SqrtBackward>)\n",
      "-0.6355574131011963\n",
      "tensor(0.1075, device='cuda:1', dtype=torch.float64, grad_fn=<SqrtBackward>)\n",
      "-0.6355574131011963\n",
      "tensor(0.1075, device='cuda:1', dtype=torch.float64, grad_fn=<SqrtBackward>)\n",
      "-0.6355574131011963\n",
      "tensor(0.1075, device='cuda:1', dtype=torch.float64, grad_fn=<SqrtBackward>)\n",
      "-0.6355574131011963\n",
      "tensor(0.1075, device='cuda:1', dtype=torch.float64, grad_fn=<SqrtBackward>)\n",
      "-0.6355574131011963\n",
      "tensor(0.1075, device='cuda:1', dtype=torch.float64, grad_fn=<SqrtBackward>)\n",
      "-0.6355574131011963\n",
      "tensor(0.1075, device='cuda:1', dtype=torch.float64, grad_fn=<SqrtBackward>)\n",
      "-0.6355574131011963\n",
      "tensor(0.1075, device='cuda:1', dtype=torch.float64, grad_fn=<SqrtBackward>)\n",
      "-0.6355574131011963\n",
      "tensor(0.1075, device='cuda:1', dtype=torch.float64, grad_fn=<SqrtBackward>)\n",
      "-0.6355574131011963\n",
      "tensor(0.1075, device='cuda:1', dtype=torch.float64, grad_fn=<SqrtBackward>)\n",
      "-0.6355574131011963\n",
      "tensor(0.1075, device='cuda:1', dtype=torch.float64, grad_fn=<SqrtBackward>)\n",
      "-0.6355574131011963\n",
      "tensor(0.1075, device='cuda:1', dtype=torch.float64, grad_fn=<SqrtBackward>)\n",
      "-0.6355574131011963\n",
      "tensor(0.1075, device='cuda:1', dtype=torch.float64, grad_fn=<SqrtBackward>)\n",
      "-0.6355574131011963\n",
      "tensor(0.1075, device='cuda:1', dtype=torch.float64, grad_fn=<SqrtBackward>)\n",
      "-0.6355574131011963\n",
      "tensor(0.1075, device='cuda:1', dtype=torch.float64, grad_fn=<SqrtBackward>)\n",
      "-0.6355574131011963\n",
      "tensor(0.1075, device='cuda:1', dtype=torch.float64, grad_fn=<SqrtBackward>)\n",
      "-0.6355574131011963\n",
      "tensor(0.1075, device='cuda:1', dtype=torch.float64, grad_fn=<SqrtBackward>)\n",
      "-0.6355574131011963\n",
      "tensor(0.1075, device='cuda:1', dtype=torch.float64, grad_fn=<SqrtBackward>)\n",
      "-0.6355574131011963\n",
      "tensor(0.1075, device='cuda:1', dtype=torch.float64, grad_fn=<SqrtBackward>)\n",
      "-0.6355574131011963\n",
      "tensor(0.1075, device='cuda:1', dtype=torch.float64, grad_fn=<SqrtBackward>)\n",
      "-0.6355574131011963\n",
      "tensor(0.1075, device='cuda:1', dtype=torch.float64, grad_fn=<SqrtBackward>)\n",
      "-0.6355574131011963\n"
     ]
    }
   ],
   "source": [
    "optim = torch.optim.Adam(external.model.parameters(), lr=0.0001)\n",
    "rmsds = []\n",
    "for i in range(n_epochs):\n",
    "    weighted_ensemble = ensemble.compute(external)\n",
    "    \n",
    "    pos_rmsd, _ = rmsd(native_coords, weighted_ensemble)\n",
    "    loss = torch.log(1.0 + pos_rmsd)\n",
    "    optim.zero_grad()\n",
    "    loss.backward\n",
    "    optim.step()\n",
    "    rmsds.append(pos_rmsd)\n",
    "    print(pos_rmsd)\n",
    "    print(list(external.model.parameters())[0][0][0].item())"
   ]
  },
  {
   "cell_type": "code",
   "execution_count": null,
   "id": "695f2db9-4c4e-4eaf-836d-3781c74c5e18",
   "metadata": {},
   "outputs": [],
   "source": [
    "rmsds"
   ]
  },
  {
   "cell_type": "code",
   "execution_count": null,
   "id": "2fcce9bb-e33d-4bcd-b98f-d9f491145b9c",
   "metadata": {},
   "outputs": [],
   "source": []
  },
  {
   "cell_type": "code",
   "execution_count": 30,
   "id": "ddecd708-4132-4cbb-a8bb-5e6629ac4b06",
   "metadata": {},
   "outputs": [
    {
     "name": "stdout",
     "output_type": "stream",
     "text": [
      "(tensor(0.1593, device='cuda:1', dtype=torch.float64), True)\n",
      "(tensor(0.2971, device='cuda:1', dtype=torch.float64), True)\n",
      "(tensor(0.4436, device='cuda:1', dtype=torch.float64), True)\n",
      "(tensor(0.5909, device='cuda:1', dtype=torch.float64), True)\n",
      "(tensor(0.7417, device='cuda:1', dtype=torch.float64), True)\n",
      "(tensor(0.8929, device='cuda:1', dtype=torch.float64), True)\n",
      "(tensor(1.0472, device='cuda:1', dtype=torch.float64), True)\n",
      "(tensor(1.2179, device='cuda:1', dtype=torch.float64), True)\n",
      "(tensor(1.3736, device='cuda:1', dtype=torch.float64), True)\n",
      "(tensor(1.5303, device='cuda:1', dtype=torch.float64), True)\n",
      "(tensor(1.6938, device='cuda:1', dtype=torch.float64), True)\n",
      "(tensor(1.8776, device='cuda:1', dtype=torch.float64), True)\n",
      "(tensor(2.0465, device='cuda:1', dtype=torch.float64), True)\n",
      "(tensor(2.1860, device='cuda:1', dtype=torch.float64), True)\n",
      "(tensor(2.3274, device='cuda:1', dtype=torch.float64), True)\n",
      "(tensor(2.4659, device='cuda:1', dtype=torch.float64), True)\n",
      "(tensor(2.6096, device='cuda:1', dtype=torch.float64), True)\n",
      "(tensor(2.7529, device='cuda:1', dtype=torch.float64), True)\n",
      "(tensor(2.9001, device='cuda:1', dtype=torch.float64), True)\n",
      "(tensor(3.0184, device='cuda:1', dtype=torch.float64), True)\n",
      "(tensor(3.1596, device='cuda:1', dtype=torch.float64), True)\n",
      "(tensor(3.3112, device='cuda:1', dtype=torch.float64), True)\n",
      "(tensor(3.4543, device='cuda:1', dtype=torch.float64), True)\n",
      "(tensor(3.5565, device='cuda:1', dtype=torch.float64), True)\n",
      "(tensor(3.6844, device='cuda:1', dtype=torch.float64), True)\n",
      "(tensor(3.8213, device='cuda:1', dtype=torch.float64), True)\n",
      "(tensor(3.9573, device='cuda:1', dtype=torch.float64), True)\n",
      "(tensor(4.0780, device='cuda:1', dtype=torch.float64), True)\n",
      "(tensor(4.1800, device='cuda:1', dtype=torch.float64), True)\n",
      "(tensor(4.3023, device='cuda:1', dtype=torch.float64), True)\n",
      "(tensor(4.4423, device='cuda:1', dtype=torch.float64), True)\n",
      "(tensor(4.5563, device='cuda:1', dtype=torch.float64), True)\n",
      "(tensor(4.6671, device='cuda:1', dtype=torch.float64), True)\n",
      "(tensor(4.8069, device='cuda:1', dtype=torch.float64), True)\n",
      "(tensor(4.9358, device='cuda:1', dtype=torch.float64), True)\n",
      "(tensor(5.0532, device='cuda:1', dtype=torch.float64), True)\n",
      "(tensor(5.1878, device='cuda:1', dtype=torch.float64), True)\n",
      "(tensor(5.3115, device='cuda:1', dtype=torch.float64), True)\n",
      "(tensor(5.4417, device='cuda:1', dtype=torch.float64), True)\n",
      "(tensor(5.5712, device='cuda:1', dtype=torch.float64), True)\n",
      "(tensor(5.6883, device='cuda:1', dtype=torch.float64), True)\n",
      "(tensor(5.8108, device='cuda:1', dtype=torch.float64), True)\n",
      "(tensor(5.9357, device='cuda:1', dtype=torch.float64), True)\n",
      "(tensor(6.0553, device='cuda:1', dtype=torch.float64), True)\n",
      "(tensor(6.1613, device='cuda:1', dtype=torch.float64), True)\n",
      "(tensor(6.2666, device='cuda:1', dtype=torch.float64), True)\n",
      "(tensor(6.3845, device='cuda:1', dtype=torch.float64), True)\n",
      "(tensor(6.4844, device='cuda:1', dtype=torch.float64), True)\n",
      "(tensor(6.5597, device='cuda:1', dtype=torch.float64), True)\n",
      "(tensor(6.6522, device='cuda:1', dtype=torch.float64), True)\n",
      "(tensor(6.7530, device='cuda:1', dtype=torch.float64), True)\n",
      "(tensor(6.8258, device='cuda:1', dtype=torch.float64), True)\n",
      "(tensor(6.8818, device='cuda:1', dtype=torch.float64), True)\n",
      "(tensor(6.9552, device='cuda:1', dtype=torch.float64), True)\n",
      "(tensor(7.0308, device='cuda:1', dtype=torch.float64), True)\n",
      "(tensor(7.0706, device='cuda:1', dtype=torch.float64), True)\n",
      "(tensor(7.1020, device='cuda:1', dtype=torch.float64), True)\n",
      "(tensor(7.1312, device='cuda:1', dtype=torch.float64), True)\n",
      "(tensor(7.1542, device='cuda:1', dtype=torch.float64), True)\n",
      "(tensor(7.1613, device='cuda:1', dtype=torch.float64), True)\n",
      "(tensor(7.1493, device='cuda:1', dtype=torch.float64), True)\n",
      "(tensor(7.1356, device='cuda:1', dtype=torch.float64), True)\n",
      "(tensor(7.1383, device='cuda:1', dtype=torch.float64), True)\n",
      "(tensor(7.1133, device='cuda:1', dtype=torch.float64), True)\n",
      "(tensor(7.0785, device='cuda:1', dtype=torch.float64), True)\n",
      "(tensor(7.0541, device='cuda:1', dtype=torch.float64), True)\n",
      "(tensor(7.0453, device='cuda:1', dtype=torch.float64), True)\n",
      "(tensor(7.0017, device='cuda:1', dtype=torch.float64), True)\n",
      "(tensor(6.9559, device='cuda:1', dtype=torch.float64), True)\n",
      "(tensor(6.9262, device='cuda:1', dtype=torch.float64), True)\n",
      "(tensor(6.9060, device='cuda:1', dtype=torch.float64), True)\n",
      "(tensor(6.8607, device='cuda:1', dtype=torch.float64), True)\n",
      "(tensor(6.8054, device='cuda:1', dtype=torch.float64), True)\n",
      "(tensor(6.7486, device='cuda:1', dtype=torch.float64), True)\n",
      "(tensor(6.7119, device='cuda:1', dtype=torch.float64), True)\n",
      "(tensor(6.6641, device='cuda:1', dtype=torch.float64), True)\n",
      "(tensor(6.6102, device='cuda:1', dtype=torch.float64), True)\n",
      "(tensor(6.5504, device='cuda:1', dtype=torch.float64), True)\n",
      "(tensor(6.5061, device='cuda:1', dtype=torch.float64), True)\n",
      "(tensor(6.4641, device='cuda:1', dtype=torch.float64), True)\n"
     ]
    }
   ],
   "source": [
    "for state in states:\n",
    "    print(rmsd(native_coords, state))"
   ]
  },
  {
   "cell_type": "code",
   "execution_count": null,
   "id": "dbf70d9e-a269-4edc-93b6-94fbd719a435",
   "metadata": {},
   "outputs": [],
   "source": []
  }
 ],
 "metadata": {
  "kernelspec": {
   "display_name": "Python 3 (ipykernel)",
   "language": "python",
   "name": "python3"
  },
  "language_info": {
   "codemirror_mode": {
    "name": "ipython",
    "version": 3
   },
   "file_extension": ".py",
   "mimetype": "text/x-python",
   "name": "python",
   "nbconvert_exporter": "python",
   "pygments_lexer": "ipython3",
   "version": "3.8.10"
  }
 },
 "nbformat": 4,
 "nbformat_minor": 5
}
