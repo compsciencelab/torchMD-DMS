{
 "cells": [
  {
   "cell_type": "markdown",
   "id": "0cc9bdaa-5374-42eb-a83b-164e7f3d9c1d",
   "metadata": {},
   "source": [
    "# Create the model"
   ]
  },
  {
   "cell_type": "code",
   "execution_count": 22,
   "id": "13a377e2-61d7-44dd-a725-44e20225afb6",
   "metadata": {},
   "outputs": [],
   "source": [
    "from torchmdnet.models.model import create_model, load_model\n",
    "from torchmdnet.utils import LoadFromFile, LoadFromCheckpoint, save_argparse, number\n",
    "import argparse\n",
    "from torchmdnet import datasets, priors, models\n",
    "from torchmdnet.data import DataModule\n",
    "from torchmdnet.models import output_modules\n",
    "from torchmdnet.models.utils import rbf_class_mapping, act_class_mapping"
   ]
  },
  {
   "cell_type": "code",
   "execution_count": 23,
   "id": "b295d071-80f1-4b52-aeac-5bc498aa74ee",
   "metadata": {},
   "outputs": [],
   "source": [
    "def get_args():\n",
    "    # fmt: off\n",
    "    parser = argparse.ArgumentParser(description='Training')\n",
    "    parser.add_argument('--load-model', action=LoadFromCheckpoint, help='Restart training using a model checkpoint')  # keep first\n",
    "    parser.add_argument('--conf', '-c', type=open, action=LoadFromFile, help='Configuration yaml file')  # keep second\n",
    "    parser.add_argument('--num-epochs', default=300, type=int, help='number of epochs')\n",
    "    parser.add_argument('--batch-size', default=32, type=int, help='batch size')\n",
    "    parser.add_argument('--inference-batch-size', default=None, type=int, help='Batchsize for validation and tests.')\n",
    "    parser.add_argument('--lr', default=1e-4, type=float, help='learning rate')\n",
    "    parser.add_argument('--lr-patience', type=int, default=10, help='Patience for lr-schedule. Patience per eval-interval of validation')\n",
    "    parser.add_argument('--lr-min', type=float, default=1e-6, help='Minimum learning rate before early stop')\n",
    "    parser.add_argument('--lr-factor', type=float, default=0.8, help='Minimum learning rate before early stop')\n",
    "    parser.add_argument('--lr-warmup-steps', type=int, default=0, help='How many steps to warm-up over. Defaults to 0 for no warm-up')\n",
    "    parser.add_argument('--early-stopping-patience', type=int, default=30, help='Stop training after this many epochs without improvement')\n",
    "    parser.add_argument('--weight-decay', type=float, default=0.0, help='Weight decay strength')\n",
    "    parser.add_argument('--ema-alpha-y', type=float, default=1.0, help='The amount of influence of new losses on the exponential moving average of y')\n",
    "    parser.add_argument('--ema-alpha-dy', type=float, default=1.0, help='The amount of influence of new losses on the exponential moving average of dy')\n",
    "    parser.add_argument('--ngpus', type=int, default=-1, help='Number of GPUs, -1 use all available. Use CUDA_VISIBLE_DEVICES=1, to decide gpus')\n",
    "    parser.add_argument('--num-nodes', type=int, default=1, help='Number of nodes')\n",
    "    parser.add_argument('--precision', type=int, default=32, choices=[16, 32], help='Floating point precision')\n",
    "    parser.add_argument('--log-dir', '-l', default='/tmp/logs', help='log file')\n",
    "    parser.add_argument('--splits', default=None, help='Npz with splits idx_train, idx_val, idx_test')\n",
    "    parser.add_argument('--train-size', type=number, default=None, help='Percentage/number of samples in training set (None to use all remaining samples)')\n",
    "    parser.add_argument('--val-size', type=number, default=0.05, help='Percentage/number of samples in validation set (None to use all remaining samples)')\n",
    "    parser.add_argument('--test-size', type=number, default=0.1, help='Percentage/number of samples in test set (None to use all remaining samples)')\n",
    "    parser.add_argument('--test-interval', type=int, default=10, help='Test interval, one test per n epochs (default: 10)')\n",
    "    parser.add_argument('--save-interval', type=int, default=10, help='Save interval, one save per n epochs (default: 10)')\n",
    "    parser.add_argument('--seed', type=int, default=1, help='random seed (default: 1)')\n",
    "    parser.add_argument('--distributed-backend', default='ddp', help='Distributed backend: dp, ddp, ddp2')\n",
    "    parser.add_argument('--num-workers', type=int, default=4, help='Number of workers for data prefetch')\n",
    "    parser.add_argument('--redirect', type=bool, default=False, help='Redirect stdout and stderr to log_dir/log')\n",
    "    \n",
    "    # model architecture\n",
    "    parser.add_argument('--model', type=str, default='graph-network', choices=models.__all__, help='Which model to train')\n",
    "    parser.add_argument('--output-model', type=str, default='Scalar', choices=output_modules.__all__, help='The type of output model')\n",
    "    parser.add_argument('--prior-model', type=str, default=None, choices=priors.__all__, help='Which prior model to use')\n",
    "\n",
    "    # architectural args\n",
    "    parser.add_argument('--embedding-dimension', type=int, default=256, help='Embedding dimension')\n",
    "    parser.add_argument('--num-layers', type=int, default=6, help='Number of interaction layers in the model')\n",
    "    parser.add_argument('--num-rbf', type=int, default=64, help='Number of radial basis functions in model')\n",
    "    parser.add_argument('--activation', type=str, default='silu', choices=list(act_class_mapping.keys()), help='Activation function')\n",
    "    parser.add_argument('--rbf-type', type=str, default='expnorm', choices=list(rbf_class_mapping.keys()), help='Type of distance expansion')\n",
    "    parser.add_argument('--trainable-rbf', type=bool, default=False, help='If distance expansion functions should be trainable')\n",
    "    parser.add_argument('--neighbor-embedding', type=bool, default=False, help='If a neighbor embedding should be applied before interactions')\n",
    "    \n",
    "    # dataset specific\n",
    "    parser.add_argument('--dataset', default=None, type=str, choices=datasets.__all__, help='Name of the torch_geometric dataset')\n",
    "    parser.add_argument('--dataset-root', default='~/data', type=str, help='Data storage directory (not used if dataset is \"CG\")')\n",
    "    parser.add_argument('--dataset-arg', default=None, type=str, help='Additional dataset argument, e.g. target property for QM9 or molecule for MD17')\n",
    "    parser.add_argument('--coord-files', default=None, type=str, help='Custom coordinate files glob')\n",
    "    parser.add_argument('--embed-files', default=None, type=str, help='Custom embedding files glob')\n",
    "    parser.add_argument('--energy-files', default=None, type=str, help='Custom energy files glob')\n",
    "    parser.add_argument('--force-files', default=None, type=str, help='Custom force files glob')\n",
    "    parser.add_argument('--energy-weight', default=1.0, type=float, help='Weighting factor for energies in the loss function')\n",
    "    parser.add_argument('--force-weight', default=1.0, type=float, help='Weighting factor for forces in the loss function')\n",
    "\n",
    "    # Transformer specific\n",
    "    parser.add_argument('--distance-influence', type=str, default='both', choices=['keys', 'values', 'both', 'none'], help='Where distance information is included inside the attention')\n",
    "    parser.add_argument('--attn-activation', default='silu', choices=list(act_class_mapping.keys()), help='Attention activation function')\n",
    "    parser.add_argument('--num-heads', type=int, default=8, help='Number of attention heads')\n",
    "\n",
    "    # other args\n",
    "    parser.add_argument('--derivative', default=True, type=bool, help='If true, take the derivative of the prediction w.r.t coordinates')\n",
    "    parser.add_argument('--cutoff-lower', type=float, default=0.0, help='Lower cutoff in model')\n",
    "    parser.add_argument('--cutoff-upper', type=float, default=5.0, help='Upper cutoff in model')\n",
    "    parser.add_argument('--atom-filter', type=int, default=-1, help='Only sum over atoms with Z > atom_filter')\n",
    "    parser.add_argument('--max-z', type=int, default=100, help='Maximum atomic number that fits in the embedding matrix')\n",
    "    parser.add_argument('--max-num-neighbors', type=int, default=32, help='Maximum number of neighbors to consider in the network')\n",
    "    parser.add_argument('--standardize', type=bool, default=False, help='If true, multiply prediction by dataset std and add mean')\n",
    "    parser.add_argument('--reduce-op', type=str, default='add', choices=['add', 'mean'], help='Reduce operation to apply to atomic predictions')\n",
    "\n",
    "    args = parser.parse_args(\"\")\n",
    "    all_defaults = {}\n",
    "    for key in vars(args):\n",
    "        all_defaults[key] = parser.get_default(key)\n",
    "    \n",
    "    return all_defaults"
   ]
  },
  {
   "cell_type": "code",
   "execution_count": 24,
   "id": "4a6485cc-2832-4dc8-93fb-274b5424ac06",
   "metadata": {},
   "outputs": [],
   "source": [
    "args = get_args()\n",
    "prior_model=None\n",
    "mean=None\n",
    "std=None"
   ]
  },
  {
   "cell_type": "code",
   "execution_count": 25,
   "id": "c9fa1758-d696-4627-ad7f-a21ae7053275",
   "metadata": {},
   "outputs": [],
   "source": [
    "gnn = create_model(args, prior_model, mean, std)"
   ]
  },
  {
   "cell_type": "code",
   "execution_count": 26,
   "id": "e0c72a9b-191d-4d2f-a721-7e4c0e4b6983",
   "metadata": {},
   "outputs": [
    {
     "data": {
      "text/plain": [
       "Parameter containing:\n",
       "tensor([[ 0.2285,  0.1705,  1.3554,  ...,  0.1563, -1.5766, -1.1985],\n",
       "        [-0.1755,  2.1589,  1.1211,  ..., -1.0757, -0.5105, -0.6262],\n",
       "        [ 0.2246, -0.8468, -1.1987,  ..., -0.1815,  0.7221,  2.1515],\n",
       "        ...,\n",
       "        [ 1.8066, -0.3609,  1.9609,  ...,  0.0989,  0.0346, -1.1021],\n",
       "        [-0.8289, -0.4497, -0.7575,  ...,  0.8243,  0.5471, -0.8125],\n",
       "        [ 0.5150,  1.9791, -0.6377,  ..., -1.3767,  0.0845,  0.1043]],\n",
       "       requires_grad=True)"
      ]
     },
     "execution_count": 26,
     "metadata": {},
     "output_type": "execute_result"
    }
   ],
   "source": [
    "list(gnn.parameters())[0]"
   ]
  },
  {
   "cell_type": "markdown",
   "id": "8b43ac67-cc7a-432e-b977-dad1c36387d5",
   "metadata": {},
   "source": [
    "# Prepare system"
   ]
  },
  {
   "cell_type": "code",
   "execution_count": 27,
   "id": "3fe1b47c-a6d8-40c5-9c0e-3e087fdfeec8",
   "metadata": {},
   "outputs": [],
   "source": [
    "from moleculekit.molecule import Molecule\n",
    "from torchmd.forcefields.ff_yaml import YamlForcefield\n",
    "from torchmd.forcefields.forcefield import ForceField\n",
    "from torchmd.forces import Forces\n",
    "from torchmd.integrator import Integrator, maxwell_boltzmann\n",
    "from torchmd.parameters import Parameters\n",
    "from torchmd.systems import System\n",
    "from torchmd.wrapper import Wrapper\n",
    "from tqdm import tqdm\n",
    "from utils import rmsd"
   ]
  },
  {
   "cell_type": "code",
   "execution_count": 28,
   "id": "605e7ef1-1278-4d06-8ce2-001ffc6585bd",
   "metadata": {},
   "outputs": [
    {
     "name": "stderr",
     "output_type": "stream",
     "text": [
      "2021-08-31 12:58:01,357 - moleculekit.molecule - INFO - Removed 83 atoms. 10 atoms remaining in the molecule.\n"
     ]
    }
   ],
   "source": [
    "# Molecule\n",
    "mol = Molecule('data/chignolin_cln025.pdb')\n",
    "mol.filter('name CA')\n",
    "mol.read('data/chignolin_ca_top.psf')\n",
    "mol.read('data/chignolin_ca_initial_coords.xtc')"
   ]
  },
  {
   "cell_type": "code",
   "execution_count": 29,
   "id": "a131355b-8dab-430d-a367-12a9bef81320",
   "metadata": {},
   "outputs": [
    {
     "data": {
      "text/plain": [
       "10"
      ]
     },
     "execution_count": 29,
     "metadata": {},
     "output_type": "execute_result"
    }
   ],
   "source": [
    "mol.coords.shape[2]"
   ]
  },
  {
   "cell_type": "markdown",
   "id": "c5daace1-af09-497d-b83b-59b3c5ae1593",
   "metadata": {},
   "source": [
    "# Train created model"
   ]
  },
  {
   "cell_type": "code",
   "execution_count": 30,
   "id": "6c8744de-b16c-4396-b73e-96ac15c1cd61",
   "metadata": {},
   "outputs": [
    {
     "data": {
      "text/plain": [
       "True"
      ]
     },
     "execution_count": 30,
     "metadata": {},
     "output_type": "execute_result"
    }
   ],
   "source": [
    "gnn.derivative"
   ]
  },
  {
   "cell_type": "code",
   "execution_count": 31,
   "id": "70f49a7f-ad05-412a-b9fa-498d52ea04f1",
   "metadata": {},
   "outputs": [
    {
     "data": {
      "text/plain": [
       "array([ 4,  4,  5,  8,  6, 13,  2, 13,  7,  4])"
      ]
     },
     "execution_count": 31,
     "metadata": {},
     "output_type": "execute_result"
    }
   ],
   "source": [
    "from torchmdexp.nn.utils import get_embeddings\n",
    "get_embeddings(mol)"
   ]
  },
  {
   "cell_type": "code",
   "execution_count": 32,
   "id": "4821f42c-452d-4337-9e61-0f4e1187560e",
   "metadata": {},
   "outputs": [],
   "source": [
    "import torch\n",
    "from torchmdnet.models.model import load_model\n",
    "\n",
    "class External:\n",
    "    def __init__(self, model, embeddings, device=\"cpu\"):\n",
    "        self.model = model\n",
    "        self.device = device\n",
    "        self.n_atoms = embeddings.size(1)\n",
    "        self.embeddings = embeddings.reshape(-1).to(device)\n",
    "        self.batch = torch.arange(embeddings.size(0), device=device).repeat_interleave(\n",
    "            embeddings.size(1)\n",
    "        )\n",
    "        #self.model.eval()\n",
    "\n",
    "    def calculate(self, pos, box):\n",
    "        pos = pos.to(self.device).type(torch.float32).reshape(-1, 3)\n",
    "        energy, forces = self.model(self.embeddings, pos, self.batch)\n",
    "        #print(energy, forces)\n",
    "        return energy, forces.reshape(-1, self.n_atoms, 3)\n"
   ]
  },
  {
   "cell_type": "code",
   "execution_count": 33,
   "id": "c09a479d-cbc1-41f1-ae60-f3af8cc63ba7",
   "metadata": {},
   "outputs": [],
   "source": [
    "# Loading the model as external force\n",
    "\n",
    "embeddings = [4, 4, 5, 8, 6, 13, 2, 13, 7, 4]\n",
    "#model = torch.load('data/epoch=47-val_loss=739.5398-test_loss=21.5975.ckpt')\n",
    "device = 'cpu'\n",
    "\n",
    "#externalmodule = importlib.import_module('torchmdnet.calculators')\n",
    "embeddings = torch.tensor(embeddings).repeat(10, 1)\n",
    "external = External(gnn, embeddings, device)"
   ]
  },
  {
   "cell_type": "code",
   "execution_count": 34,
   "id": "c6dfb052-2f26-4ff3-b85a-de4158807a7d",
   "metadata": {},
   "outputs": [],
   "source": [
    "ff = ForceField.create(mol,'/shared/carles/torchmd-exp/torchmdexp/nn/data/ca_priors-dihedrals_general_2xweaker.yaml')\n",
    "cln_parameters = Parameters(ff, mol, terms=['bonds', 'repulsionCG', 'dihedrals'], device=device)\n",
    "forces = Forces(cln_parameters, terms=['bonds', 'repulsionCG', 'dihedrals'], external=external, cutoff=None, \n",
    "                rfa=False, switch_dist=None\n",
    "               )"
   ]
  },
  {
   "cell_type": "code",
   "execution_count": 35,
   "id": "df760552-9e6a-4f2b-bdfc-5580283baa43",
   "metadata": {},
   "outputs": [],
   "source": [
    "# System\n",
    "system = System(mol.numAtoms, nreplicas=10,precision=torch.double, device=device)\n",
    "system.set_positions(mol.coords)\n",
    "system.set_box(mol.box)\n",
    "system.set_velocities(maxwell_boltzmann(forces.par.masses, T=350, replicas=10))"
   ]
  },
  {
   "cell_type": "code",
   "execution_count": null,
   "id": "0f84c143-0432-4dce-9a79-8e7d522e2b99",
   "metadata": {},
   "outputs": [],
   "source": []
  },
  {
   "cell_type": "code",
   "execution_count": 36,
   "id": "0bb92c99-6c68-4585-8e94-6d9f74de158a",
   "metadata": {},
   "outputs": [],
   "source": [
    "learning_rate = 10\n",
    "optim = torch.optim.Adam(gnn.parameters(), lr=learning_rate)"
   ]
  },
  {
   "cell_type": "code",
   "execution_count": 37,
   "id": "0827e6f5-56c3-4e20-ab25-1a4c4ba94a8a",
   "metadata": {},
   "outputs": [],
   "source": [
    "integrator = Integrator(system, forces, 1, device, gamma=0.1, T=0)"
   ]
  },
  {
   "cell_type": "code",
   "execution_count": 38,
   "id": "b5d5295c-721f-41e1-87a3-43f7c2b9ab73",
   "metadata": {},
   "outputs": [],
   "source": [
    "native_coords = system.pos.clone().detach()"
   ]
  },
  {
   "cell_type": "code",
   "execution_count": 39,
   "id": "80e47fe8-d1f2-4c16-b604-aa9a1bd9f800",
   "metadata": {},
   "outputs": [
    {
     "name": "stderr",
     "output_type": "stream",
     "text": [
      "  0%|                                                     | 0/1 [00:00<?, ?it/s]"
     ]
    }
   ],
   "source": [
    "steps = 10\n",
    "output_period = 10\n",
    "n_epochs = 500\n",
    "iterator = tqdm(range(1,int(steps/output_period)+1))\n",
    "#Epot = forces.compute(system.pos, system.box, system.forces)"
   ]
  },
  {
   "cell_type": "code",
   "execution_count": 40,
   "id": "826ed635-6d9f-4a00-8af6-2c144394cf27",
   "metadata": {},
   "outputs": [],
   "source": [
    "first_start_params = list(forces.external.model.parameters())[0].data.clone()"
   ]
  },
  {
   "cell_type": "code",
   "execution_count": 41,
   "id": "487e1532-4a5a-4bc3-a8e9-460c35b82d02",
   "metadata": {},
   "outputs": [],
   "source": [
    "end_params_forces = torch.tensor([])\n",
    "end_params_gnn = torch.tensor([])"
   ]
  },
  {
   "cell_type": "code",
   "execution_count": null,
   "id": "08dbfd02-44c3-4ec4-a475-d329b5cfe381",
   "metadata": {},
   "outputs": [],
   "source": []
  },
  {
   "cell_type": "code",
   "execution_count": 42,
   "id": "c4998eba-cdc8-4244-a43c-0274abb62634",
   "metadata": {},
   "outputs": [
    {
     "name": "stderr",
     "output_type": "stream",
     "text": [
      "100%|█████████████████████████████████████████████| 1/1 [00:31<00:00, 31.04s/it]\n"
     ]
    },
    {
     "name": "stdout",
     "output_type": "stream",
     "text": [
      "Check if update force params:  False\n",
      "Check if update gnn params:  False\n",
      "FORCES: \n",
      "tensor([[ 0.2285,  0.1705,  1.3554,  ...,  0.1563, -1.5766, -1.1985],\n",
      "        [-0.1755,  2.1589,  1.1211,  ..., -1.0757, -0.5105, -0.6262],\n",
      "        [ 0.2246, -0.8468, -1.1987,  ..., -0.1815,  0.7221,  2.1515],\n",
      "        ...,\n",
      "        [ 1.8066, -0.3609,  1.9609,  ...,  0.0989,  0.0346, -1.1021],\n",
      "        [-0.8289, -0.4497, -0.7575,  ...,  0.8243,  0.5471, -0.8125],\n",
      "        [ 0.5150,  1.9791, -0.6377,  ..., -1.3767,  0.0845,  0.1043]]) tensor([[  0.2285,   0.1705,   1.3554,  ...,   0.1563,  -1.5766,  -1.1985],\n",
      "        [ -0.1755,   2.1589,   1.1211,  ...,  -1.0757,  -0.5105,  -0.6262],\n",
      "        [ -7.9599,   8.4924, -10.8759,  ...,   8.0394,  10.3804,  -7.5548],\n",
      "        ...,\n",
      "        [  1.8066,  -0.3609,   1.9609,  ...,   0.0989,   0.0346,  -1.1021],\n",
      "        [ -0.8289,  -0.4497,  -0.7575,  ...,   0.8243,   0.5471,  -0.8125],\n",
      "        [  0.5150,   1.9791,  -0.6377,  ...,  -1.3767,   0.0845,   0.1043]])\n",
      "GNN: :\n",
      "tensor([[ 0.2285,  0.1705,  1.3554,  ...,  0.1563, -1.5766, -1.1985],\n",
      "        [-0.1755,  2.1589,  1.1211,  ..., -1.0757, -0.5105, -0.6262],\n",
      "        [ 0.2246, -0.8468, -1.1987,  ..., -0.1815,  0.7221,  2.1515],\n",
      "        ...,\n",
      "        [ 1.8066, -0.3609,  1.9609,  ...,  0.0989,  0.0346, -1.1021],\n",
      "        [-0.8289, -0.4497, -0.7575,  ...,  0.8243,  0.5471, -0.8125],\n",
      "        [ 0.5150,  1.9791, -0.6377,  ..., -1.3767,  0.0845,  0.1043]]) tensor([[  0.2285,   0.1705,   1.3554,  ...,   0.1563,  -1.5766,  -1.1985],\n",
      "        [ -0.1755,   2.1589,   1.1211,  ...,  -1.0757,  -0.5105,  -0.6262],\n",
      "        [ -7.9599,   8.4924, -10.8759,  ...,   8.0394,  10.3804,  -7.5548],\n",
      "        ...,\n",
      "        [  1.8066,  -0.3609,   1.9609,  ...,   0.0989,   0.0346,  -1.1021],\n",
      "        [ -0.8289,  -0.4497,  -0.7575,  ...,   0.8243,   0.5471,  -0.8125],\n",
      "        [  0.5150,   1.9791,  -0.6377,  ...,  -1.3767,   0.0845,   0.1043]])\n",
      "Epoch 1, Training loss 0.0636165516345812\n"
     ]
    },
    {
     "ename": "RuntimeError",
     "evalue": "Found NaN coordinates.",
     "output_type": "error",
     "traceback": [
      "\u001b[0;31m---------------------------------------------------------------------------\u001b[0m",
      "\u001b[0;31mRuntimeError\u001b[0m                              Traceback (most recent call last)",
      "\u001b[0;32m/tmp/ipykernel_146185/3504037364.py\u001b[0m in \u001b[0;36m<module>\u001b[0;34m\u001b[0m\n\u001b[1;32m     26\u001b[0m \u001b[0;34m\u001b[0m\u001b[0m\n\u001b[1;32m     27\u001b[0m     \u001b[0;32mfor\u001b[0m \u001b[0mi\u001b[0m \u001b[0;32min\u001b[0m \u001b[0miterator\u001b[0m\u001b[0;34m:\u001b[0m\u001b[0;34m\u001b[0m\u001b[0;34m\u001b[0m\u001b[0m\n\u001b[0;32m---> 28\u001b[0;31m         \u001b[0mEkin\u001b[0m\u001b[0;34m,\u001b[0m \u001b[0mEpot\u001b[0m\u001b[0;34m,\u001b[0m \u001b[0mT\u001b[0m \u001b[0;34m=\u001b[0m \u001b[0mintegrator\u001b[0m\u001b[0;34m.\u001b[0m\u001b[0mstep\u001b[0m\u001b[0;34m(\u001b[0m\u001b[0mniter\u001b[0m\u001b[0;34m=\u001b[0m\u001b[0moutput_period\u001b[0m\u001b[0;34m)\u001b[0m\u001b[0;34m\u001b[0m\u001b[0;34m\u001b[0m\u001b[0m\n\u001b[0m\u001b[1;32m     29\u001b[0m         \u001b[0;31m#currpos = system.pos.clone()\u001b[0m\u001b[0;34m\u001b[0m\u001b[0;34m\u001b[0m\u001b[0;34m\u001b[0m\u001b[0m\n\u001b[1;32m     30\u001b[0m \u001b[0;34m\u001b[0m\u001b[0m\n",
      "\u001b[0;32m/shared/carles/miniconda3/envs/torchmd-net/lib/python3.8/site-packages/torchmd/integrator.py\u001b[0m in \u001b[0;36mstep\u001b[0;34m(self, niter)\u001b[0m\n\u001b[1;32m     66\u001b[0m         \u001b[0;32mfor\u001b[0m \u001b[0m_\u001b[0m \u001b[0;32min\u001b[0m \u001b[0mrange\u001b[0m\u001b[0;34m(\u001b[0m\u001b[0mniter\u001b[0m\u001b[0;34m)\u001b[0m\u001b[0;34m:\u001b[0m\u001b[0;34m\u001b[0m\u001b[0;34m\u001b[0m\u001b[0m\n\u001b[1;32m     67\u001b[0m             \u001b[0m_first_VV\u001b[0m\u001b[0;34m(\u001b[0m\u001b[0ms\u001b[0m\u001b[0;34m.\u001b[0m\u001b[0mpos\u001b[0m\u001b[0;34m,\u001b[0m \u001b[0ms\u001b[0m\u001b[0;34m.\u001b[0m\u001b[0mvel\u001b[0m\u001b[0;34m,\u001b[0m \u001b[0ms\u001b[0m\u001b[0;34m.\u001b[0m\u001b[0mforces\u001b[0m\u001b[0;34m,\u001b[0m \u001b[0mmasses\u001b[0m\u001b[0;34m,\u001b[0m \u001b[0mself\u001b[0m\u001b[0;34m.\u001b[0m\u001b[0mdt\u001b[0m\u001b[0;34m)\u001b[0m\u001b[0;34m\u001b[0m\u001b[0;34m\u001b[0m\u001b[0m\n\u001b[0;32m---> 68\u001b[0;31m             \u001b[0mpot\u001b[0m \u001b[0;34m=\u001b[0m \u001b[0mself\u001b[0m\u001b[0;34m.\u001b[0m\u001b[0mforces\u001b[0m\u001b[0;34m.\u001b[0m\u001b[0mcompute\u001b[0m\u001b[0;34m(\u001b[0m\u001b[0ms\u001b[0m\u001b[0;34m.\u001b[0m\u001b[0mpos\u001b[0m\u001b[0;34m,\u001b[0m \u001b[0ms\u001b[0m\u001b[0;34m.\u001b[0m\u001b[0mbox\u001b[0m\u001b[0;34m,\u001b[0m \u001b[0ms\u001b[0m\u001b[0;34m.\u001b[0m\u001b[0mforces\u001b[0m\u001b[0;34m)\u001b[0m\u001b[0;34m\u001b[0m\u001b[0;34m\u001b[0m\u001b[0m\n\u001b[0m\u001b[1;32m     69\u001b[0m             \u001b[0;32mif\u001b[0m \u001b[0mself\u001b[0m\u001b[0;34m.\u001b[0m\u001b[0mT\u001b[0m\u001b[0;34m:\u001b[0m\u001b[0;34m\u001b[0m\u001b[0;34m\u001b[0m\u001b[0m\n\u001b[1;32m     70\u001b[0m                 \u001b[0mlangevin\u001b[0m\u001b[0;34m(\u001b[0m\u001b[0ms\u001b[0m\u001b[0;34m.\u001b[0m\u001b[0mvel\u001b[0m\u001b[0;34m,\u001b[0m \u001b[0mself\u001b[0m\u001b[0;34m.\u001b[0m\u001b[0mgamma\u001b[0m\u001b[0;34m,\u001b[0m \u001b[0mself\u001b[0m\u001b[0;34m.\u001b[0m\u001b[0mvcoeff\u001b[0m\u001b[0;34m,\u001b[0m \u001b[0mself\u001b[0m\u001b[0;34m.\u001b[0m\u001b[0mdt\u001b[0m\u001b[0;34m,\u001b[0m \u001b[0mself\u001b[0m\u001b[0;34m.\u001b[0m\u001b[0mdevice\u001b[0m\u001b[0;34m)\u001b[0m\u001b[0;34m\u001b[0m\u001b[0;34m\u001b[0m\u001b[0m\n",
      "\u001b[0;32m/shared/carles/miniconda3/envs/torchmd-net/lib/python3.8/site-packages/torchmd/forces.py\u001b[0m in \u001b[0;36mcompute\u001b[0;34m(self, pos, box, forces, returnDetails, explicit_forces)\u001b[0m\n\u001b[1;32m     88\u001b[0m         \u001b[0mnsystems\u001b[0m \u001b[0;34m=\u001b[0m \u001b[0mpos\u001b[0m\u001b[0;34m.\u001b[0m\u001b[0mshape\u001b[0m\u001b[0;34m[\u001b[0m\u001b[0;36m0\u001b[0m\u001b[0;34m]\u001b[0m\u001b[0;34m\u001b[0m\u001b[0;34m\u001b[0m\u001b[0m\n\u001b[1;32m     89\u001b[0m         \u001b[0;32mif\u001b[0m \u001b[0mtorch\u001b[0m\u001b[0;34m.\u001b[0m\u001b[0many\u001b[0m\u001b[0;34m(\u001b[0m\u001b[0mtorch\u001b[0m\u001b[0;34m.\u001b[0m\u001b[0misnan\u001b[0m\u001b[0;34m(\u001b[0m\u001b[0mpos\u001b[0m\u001b[0;34m)\u001b[0m\u001b[0;34m)\u001b[0m\u001b[0;34m:\u001b[0m\u001b[0;34m\u001b[0m\u001b[0;34m\u001b[0m\u001b[0m\n\u001b[0;32m---> 90\u001b[0;31m             \u001b[0;32mraise\u001b[0m \u001b[0mRuntimeError\u001b[0m\u001b[0;34m(\u001b[0m\u001b[0;34m\"Found NaN coordinates.\"\u001b[0m\u001b[0;34m)\u001b[0m\u001b[0;34m\u001b[0m\u001b[0;34m\u001b[0m\u001b[0m\n\u001b[0m\u001b[1;32m     91\u001b[0m \u001b[0;34m\u001b[0m\u001b[0m\n\u001b[1;32m     92\u001b[0m         \u001b[0mpot\u001b[0m \u001b[0;34m=\u001b[0m \u001b[0;34m[\u001b[0m\u001b[0;34m]\u001b[0m\u001b[0;34m\u001b[0m\u001b[0;34m\u001b[0m\u001b[0m\n",
      "\u001b[0;31mRuntimeError\u001b[0m: Found NaN coordinates."
     ]
    }
   ],
   "source": [
    "rmsds = []\n",
    "\n",
    "for epoch in range(1, n_epochs + 1):\n",
    "    \n",
    "    external = External(gnn, embeddings, device) \n",
    "    \n",
    "    # Define forces and parameters\n",
    "    ff = ForceField.create(mol,'/shared/carles/torchmd-exp/torchmdexp/nn/data/ca_priors-dihedrals_general_2xweaker.yaml')\n",
    "    cln_parameters = Parameters(ff, mol, terms=['bonds', 'repulsionCG', 'dihedrals'], device=device)\n",
    "    forces = Forces(cln_parameters, terms=['bonds', 'repulsionCG', 'dihedrals'], external=external, cutoff=None, \n",
    "                    rfa=False, switch_dist=None\n",
    "                    )\n",
    "    \n",
    "    #print('Check if update params: ', torch.equal(first.data, first_first.data))\n",
    "    start_params_forces = list(forces.external.model.parameters())[0].data.clone()\n",
    "    start_params_gnn = list(gnn.parameters())[0].data.clone()\n",
    "    \n",
    "    system = System(mol.numAtoms, nreplicas=10,precision=torch.double, device=device)\n",
    "    system.set_positions(mol.coords)\n",
    "    system.set_box(mol.box)\n",
    "    system.set_velocities(maxwell_boltzmann(forces.par.masses, T=350, replicas=10))\n",
    "    integrator = Integrator(system, forces, 1, device, gamma=0.1, T=0)\n",
    "        \n",
    "    if (epoch % 100) == 0:\n",
    "        learning_rate /= 2\n",
    "    \n",
    "    for i in iterator:\n",
    "        Ekin, Epot, T = integrator.step(niter=output_period)\n",
    "        #currpos = system.pos.clone()\n",
    "    \n",
    "    loss_sum = 0\n",
    "    rmsd_sum = 0\n",
    "    for idx, rep in enumerate(system.pos):\n",
    "        loss, passed = rmsd(rep, native_coords[idx])\n",
    "        log_loss = loss_log = torch.log(1.0 + loss)\n",
    "        loss_sum += log_loss\n",
    "        rmsd_sum += loss\n",
    "    loss_sum\n",
    "    \n",
    "    optim.zero_grad()\n",
    "    loss_sum.backward()\n",
    "    optim.step()\n",
    "    \n",
    "    end_params_forces = list(forces.external.model.parameters())[0].data.clone()\n",
    "    end_params_gnn = list(gnn.parameters())[0].data.clone()\n",
    "    \n",
    "    print('Check if update force params: ', torch.equal(start_params_forces.data, end_params_forces.data))\n",
    "    print('Check if update gnn params: ', torch.equal(start_params_gnn.data, end_params_gnn.data))\n",
    "    \n",
    "    print('FORCES: ')\n",
    "    print(start_params_forces.data, end_params_forces.data)\n",
    "    \n",
    "    print('GNN: :')\n",
    "    print(start_params_gnn.data, end_params_gnn.data)\n",
    "          \n",
    "    print(f'Epoch {epoch}, Training loss {rmsd_sum / 10}')\n",
    "\n",
    "        #for rep, coords in enumerate(native_coords):\n",
    "        #    print('RMSD GOOD: ', rmsd(native_coords[rep], currpos[rep]))\n",
    "    \n",
    "    rmsds.append(loss_sum.item())"
   ]
  },
  {
   "cell_type": "code",
   "execution_count": 39,
   "id": "736c2741-0e34-45a5-a8c1-c52e1618098f",
   "metadata": {},
   "outputs": [
    {
     "data": {
      "text/plain": [
       "8.30422538327631"
      ]
     },
     "execution_count": 39,
     "metadata": {},
     "output_type": "execute_result"
    }
   ],
   "source": [
    "from statistics import mean\n",
    "mean(rmsds)"
   ]
  },
  {
   "cell_type": "code",
   "execution_count": 40,
   "id": "13b46981-dc43-4787-a613-15fcce352adf",
   "metadata": {},
   "outputs": [],
   "source": [
    "epochs = list(range(1,len(rmsds) + 1))"
   ]
  },
  {
   "cell_type": "code",
   "execution_count": 41,
   "id": "a9d7ba92-2cae-474c-a46b-4ffc2212a5a4",
   "metadata": {},
   "outputs": [
    {
     "name": "stderr",
     "output_type": "stream",
     "text": [
      "2021-08-27 20:14:08,899 - matplotlib.legend - WARNING - No handles with labels found to put in legend.\n"
     ]
    },
    {
     "data": {
      "text/plain": [
       "<matplotlib.legend.Legend at 0x7fc4e67b0d90>"
      ]
     },
     "execution_count": 41,
     "metadata": {},
     "output_type": "execute_result"
    },
    {
     "data": {
      "image/png": "[encoded data removed]",
      "text/plain": [
       "<Figure size 432x288 with 1 Axes>"
      ]
     },
     "metadata": {
      "needs_background": "light"
     },
     "output_type": "display_data"
    }
   ],
   "source": [
    "# Import the necessary packages and modules\n",
    "import matplotlib.pyplot as plt\n",
    "import numpy as np\n",
    "\n",
    "label = \"\"\n",
    "plt.plot(epochs, rmsds)\n",
    "plt.xlabel('Epoch')\n",
    "plt.ylabel('RMSD')\n",
    "plt.title('Training Chignolin with pre-trained NN')\n",
    "# show a legend on the plot\n",
    "plt.legend()\n"
   ]
  },
  {
   "cell_type": "code",
   "execution_count": 99,
   "id": "9a0570f2-e3a9-4769-9b1b-a702c9f7518e",
   "metadata": {},
   "outputs": [
    {
     "data": {
      "text/plain": [
       "tensor(2.1094e-14, dtype=torch.float64)"
      ]
     },
     "execution_count": 99,
     "metadata": {},
     "output_type": "execute_result"
    }
   ],
   "source": [
    "loss_sum = 0\n",
    "for idx, rep in enumerate(system.pos):\n",
    "    loss, passed = rmsd(rep, native_coords[idx])\n",
    "    log_loss = loss_log = torch.log(1.0 + loss)\n",
    "    loss_sum += log_loss\n",
    "loss_sum"
   ]
  },
  {
   "cell_type": "code",
   "execution_count": 63,
   "id": "769c38b5-7342-47e2-af78-4acff3c7c12e",
   "metadata": {},
   "outputs": [],
   "source": [
    "loss1 = torch.tensor(9)\n",
    "loss2 = torch.tensor(8)\n",
    "loss3 = torch.tensor(11)\n",
    "loss_log = torch.log(1 + loss)"
   ]
  },
  {
   "cell_type": "code",
   "execution_count": 66,
   "id": "ad4bfcbb-ba2a-4eab-adf9-d4418627212b",
   "metadata": {},
   "outputs": [
    {
     "data": {
      "text/plain": [
       "10.000000319754372"
      ]
     },
     "execution_count": 66,
     "metadata": {},
     "output_type": "execute_result"
    }
   ],
   "source": [
    "from math import exp\n",
    "exp(loss_log)"
   ]
  },
  {
   "cell_type": "code",
   "execution_count": null,
   "id": "73a2ef8c-9f52-4878-8c8b-a29f8ffdd9ac",
   "metadata": {},
   "outputs": [],
   "source": []
  }
 ],
 "metadata": {
  "kernelspec": {
   "display_name": "TorchMDNet",
   "language": "python",
   "name": "torchmd-net"
  },
  "language_info": {
   "codemirror_mode": {
    "name": "ipython",
    "version": 3
   },
   "file_extension": ".py",
   "mimetype": "text/x-python",
   "name": "python",
   "nbconvert_exporter": "python",
   "pygments_lexer": "ipython3",
   "version": "3.8.10"
  }
 },
 "nbformat": 4,
 "nbformat_minor": 5
}
