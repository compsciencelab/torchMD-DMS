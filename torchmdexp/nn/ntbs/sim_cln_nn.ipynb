{
 "cells": [
  {
   "cell_type": "code",
   "execution_count": 1,
   "id": "6d13170f-8494-40ef-82e5-756faa4b44fa",
   "metadata": {
    "tags": []
   },
   "outputs": [],
   "source": [
    "import argparse\n",
    "from argparse import Namespace \n",
    "import torch\n",
    "from torchmdnet import calculators\n",
    "from torchmdnet.calculators import External\n",
    "from torchmdnet.utils import LoadFromFile, LoadFromCheckpoint, save_argparse, number\n",
    "from torchmdnet import datasets, priors, models\n",
    "from torchmdnet.data import DataModule\n",
    "from torchmdnet.models import output_modules\n",
    "from torchmdnet.models.utils import rbf_class_mapping, act_class_mapping\n",
    "from torchmdnet.models.model import load_model, create_model\n",
    "\n",
    "from moleculekit.molecule import Molecule\n",
    "from torchmd.forcefields.ff_yaml import YamlForcefield\n",
    "from torchmd.forcefields.forcefield import ForceField\n",
    "from torchmd.forces import Forces\n",
    "from torchmd.integrator import Integrator, maxwell_boltzmann\n",
    "from torchmd.parameters import Parameters\n",
    "from torchmd.systems import System\n",
    "from torchmd.wrapper import Wrapper\n",
    "\n",
    "from torchmdexp.nn.train import external_forces, setup_forces, setup_system, forward, loss_fn, train_model\n",
    "\n",
    "from tqdm import tqdm"
   ]
  },
  {
   "cell_type": "markdown",
   "id": "47df6a41-c489-4ad6-a170-e2a2cc39656d",
   "metadata": {},
   "source": [
    "## Load args file"
   ]
  },
  {
   "cell_type": "code",
   "execution_count": 47,
   "id": "3c5645ff-ea06-4d10-8da0-b0bbd4d98bb5",
   "metadata": {
    "tags": []
   },
   "outputs": [],
   "source": [
    "def get_args():\n",
    "    # fmt: off\n",
    "    parser = argparse.ArgumentParser(description='Training')\n",
    "    parser.add_argument('--load-model', action=LoadFromCheckpoint, help='Restart training using a model checkpoint')  # keep first\n",
    "    parser.add_argument('--conf', '-c', type=open, action=LoadFromFile, help='Configuration yaml file')  # keep second\n",
    "    parser.add_argument('--num-epochs', default=300, type=int, help='number of epochs')\n",
    "    parser.add_argument('--batch-size', default=32, type=int, help='batch size')\n",
    "    parser.add_argument('--inference-batch-size', default=None, type=int, help='Batchsize for validation and tests.')\n",
    "    parser.add_argument('--lr', default=1e-4, type=float, help='learning rate')\n",
    "    parser.add_argument('--lr-patience', type=int, default=10, help='Patience for lr-schedule. Patience per eval-interval of validation')\n",
    "    parser.add_argument('--lr-min', type=float, default=1e-6, help='Minimum learning rate before early stop')\n",
    "    parser.add_argument('--lr-factor', type=float, default=0.8, help='Minimum learning rate before early stop')\n",
    "    parser.add_argument('--lr-warmup-steps', type=int, default=0, help='How many steps to warm-up over. Defaults to 0 for no warm-up')\n",
    "    parser.add_argument('--early-stopping-patience', type=int, default=30, help='Stop training after this many epochs without improvement')\n",
    "    parser.add_argument('--weight-decay', type=float, default=0.0, help='Weight decay strength')\n",
    "    parser.add_argument('--ema-alpha-y', type=float, default=1.0, help='The amount of influence of new losses on the exponential moving average of y')\n",
    "    parser.add_argument('--ema-alpha-dy', type=float, default=1.0, help='The amount of influence of new losses on the exponential moving average of dy')\n",
    "    parser.add_argument('--ngpus', type=int, default=-1, help='Number of GPUs, -1 use all available. Use CUDA_VISIBLE_DEVICES=1, to decide gpus')\n",
    "    parser.add_argument('--num-nodes', type=int, default=1, help='Number of nodes')\n",
    "    parser.add_argument('--precision', type=int, default=32, choices=[16, 32], help='Floating point precision')\n",
    "    parser.add_argument('--log-dir', '-l', default='/trainings', help='log file')\n",
    "    parser.add_argument('--splits', default=None, help='Npz with splits idx_train, idx_val, idx_test')\n",
    "    parser.add_argument('--train-size', type=number, default=None, help='Percentage/number of samples in training set (None to use all remaining samples)')\n",
    "    parser.add_argument('--val-size', type=number, default=0.05, help='Percentage/number of samples in validation set (None to use all remaining samples)')\n",
    "    parser.add_argument('--test-size', type=number, default=0.1, help='Percentage/number of samples in test set (None to use all remaining samples)')\n",
    "    parser.add_argument('--test-interval', type=int, default=10, help='Test interval, one test per n epochs (default: 10)')\n",
    "    parser.add_argument('--save-interval', type=int, default=10, help='Save interval, one save per n epochs (default: 10)')\n",
    "    parser.add_argument('--seed', type=int, default=1, help='random seed (default: 1)')\n",
    "    parser.add_argument('--distributed-backend', default='ddp', help='Distributed backend: dp, ddp, ddp2')\n",
    "    parser.add_argument('--num-workers', type=int, default=4, help='Number of workers for data prefetch')\n",
    "    parser.add_argument('--redirect', type=bool, default=False, help='Redirect stdout and stderr to log_dir/log')\n",
    "    \n",
    "    # model architecture\n",
    "    parser.add_argument('--model', type=str, default='graph-network', choices=models.__all__, help='Which model to train')\n",
    "    parser.add_argument('--output-model', type=str, default='Scalar', choices=output_modules.__all__, help='The type of output model')\n",
    "    parser.add_argument('--prior-model', type=str, default=None, choices=priors.__all__, help='Which prior model to use')\n",
    "\n",
    "    # architectural args\n",
    "    parser.add_argument('--embedding-dimension', type=int, default=256, help='Embedding dimension')\n",
    "    parser.add_argument('--num-layers', type=int, default=6, help='Number of interaction layers in the model')\n",
    "    parser.add_argument('--num-rbf', type=int, default=64, help='Number of radial basis functions in model')\n",
    "    parser.add_argument('--num-filters', type=int, default=128, help='Number of filters in model')    \n",
    "    parser.add_argument('--activation', type=str, default='silu', choices=list(act_class_mapping.keys()), help='Activation function')\n",
    "    parser.add_argument('--rbf-type', type=str, default='expnorm', choices=list(rbf_class_mapping.keys()), help='Type of distance expansion')\n",
    "    parser.add_argument('--trainable-rbf', type=bool, default=False, help='If distance expansion functions should be trainable')\n",
    "    parser.add_argument('--neighbor-embedding', type=bool, default=False, help='If a neighbor embedding should be applied before interactions')\n",
    "    \n",
    "    # dataset specific\n",
    "    parser.add_argument('--data_dir', default=None, help='Input directory')\n",
    "    parser.add_argument('--dataset', default=None, type=str, choices=datasets.__all__, help='Name of the torch_geometric dataset')\n",
    "    parser.add_argument('--dataset-root', default='~/data', type=str, help='Data storage directory (not used if dataset is \"CG\")')\n",
    "    parser.add_argument('--dataset-arg', default=None, type=str, help='Additional dataset argument, e.g. target property for QM9 or molecule for MD17')\n",
    "    parser.add_argument('--coord-files', default=None, type=str, help='Custom coordinate files glob')\n",
    "    parser.add_argument('--embed-files', default=None, type=str, help='Custom embedding files glob')\n",
    "    parser.add_argument('--energy-files', default=None, type=str, help='Custom energy files glob')\n",
    "    parser.add_argument('--force-files', default=None, type=str, help='Custom force files glob')\n",
    "    parser.add_argument('--energy-weight', default=1.0, type=float, help='Weighting factor for energies in the loss function')\n",
    "    parser.add_argument('--force-weight', default=1.0, type=float, help='Weighting factor for forces in the loss function')\n",
    "\n",
    "    # Transformer specific\n",
    "    parser.add_argument('--distance-influence', type=str, default='both', choices=['keys', 'values', 'both', 'none'], help='Where distance information is included inside the attention')\n",
    "    parser.add_argument('--attn-activation', default='silu', choices=list(act_class_mapping.keys()), help='Attention activation function')\n",
    "    parser.add_argument('--num-heads', type=int, default=8, help='Number of attention heads')\n",
    "    \n",
    "    # Torchmdexp specific\n",
    "    parser.add_argument('--device', default='cpu', help='Type of device, e.g. \"cuda:1\"')\n",
    "    parser.add_argument('--forcefield', default=\"../data/ca_priors-dihedrals_general_2xweaker.yaml\", help='Forcefield .yaml file')\n",
    "    parser.add_argument('--forceterms', nargs='+', default=\"bonds\", help='Forceterms to include, e.g. --forceterms Bonds LJ')\n",
    "    parser.add_argument('--cutoff', default=None, type=float, help='LJ/Elec/Bond cutoff')\n",
    "    parser.add_argument('--rfa', default=False, action='store_true', help='Enable reaction field approximation')\n",
    "    parser.add_argument('--replicas', type=int, default=1, help='Number of different replicas to run')\n",
    "    parser.add_argument('--step_update', type=int, default=5, help='Number of epochs to update the simulation steps')\n",
    "    parser.add_argument('--switch_dist', default=None, type=float, help='Switching distance for LJ')\n",
    "    parser.add_argument('--temperature',  default=300,type=float, help='Assign velocity from initial temperature in K')\n",
    "    parser.add_argument('--force-precision', default='single', type=str, help='LJ/Elec/Bond cutoff')\n",
    "    parser.add_argument('--verbose', default=None, help='Add verbose')\n",
    "    parser.add_argument('--timestep', default=1, type=float, help='Timestep in fs')\n",
    "    parser.add_argument('--langevin_gamma',  default=0.1,type=float, help='Langevin relaxation ps^-1')\n",
    "    parser.add_argument('--langevin_temperature',  default=0,type=float, help='Temperature in K of the thermostat')\n",
    "    parser.add_argument('--max_steps',type=int,default=2000,help='Total number of simulation steps')\n",
    "    \n",
    "    # other args\n",
    "    parser.add_argument('--derivative', default=True, type=bool, help='If true, take the derivative of the prediction w.r.t coordinates')\n",
    "    parser.add_argument('--cutoff-lower', type=float, default=0.0, help='Lower cutoff in model')\n",
    "    parser.add_argument('--cutoff-upper', type=float, default=5.0, help='Upper cutoff in model')\n",
    "    parser.add_argument('--atom-filter', type=int, default=-1, help='Only sum over atoms with Z > atom_filter')\n",
    "    \n",
    "    parser.add_argument('--max-z', type=int, default=100, help='Maximum atomic number that fits in the embedding matrix')\n",
    "    parser.add_argument('--max-num-neighbors', type=int, default=32, help='Maximum number of neighbors to consider in the network')\n",
    "    parser.add_argument('--standardize', type=bool, default=False, help='If true, multiply prediction by dataset std and add mean')\n",
    "    parser.add_argument('--reduce-op', type=str, default='add', choices=['add', 'mean'], help='Reduce operation to apply to atomic predictions')\n",
    "\n",
    "    args = parser.parse_args(\"\")\n",
    "    all_defaults = {}\n",
    "    for key in vars(args):\n",
    "        all_defaults[key] = parser.get_default(key)\n",
    "    \n",
    "    return all_defaults"
   ]
  },
  {
   "cell_type": "code",
   "execution_count": 48,
   "id": "542c3fa3-426b-4c55-9495-5affff14b122",
   "metadata": {},
   "outputs": [],
   "source": [
    "args_dict = get_args()"
   ]
  },
  {
   "cell_type": "code",
   "execution_count": 49,
   "id": "c166ae86-2d30-48bf-b4e1-372c724c8946",
   "metadata": {
    "tags": []
   },
   "outputs": [],
   "source": [
    "# process_yaml.py file\n",
    "import yaml\n",
    "\n",
    "with open('../arguments/cln_gnn_arch2_brd.yaml') as file:\n",
    "    # The FullLoader parameter handles the conversion from YAML\n",
    "    # scalar values to Python the dictionary format\n",
    "    args_file = yaml.load(file, Loader=yaml.FullLoader)\n",
    "for key, value in args_file.items():\n",
    "    args_dict[key] = value\n",
    "class Struct:\n",
    "    def __init__(self, **entries):\n",
    "        self.__dict__.update(entries)\n",
    "args = Struct(**args_dict)"
   ]
  },
  {
   "cell_type": "code",
   "execution_count": 50,
   "id": "09e8baf7-dde8-4e61-a01a-b04149dd1d1a",
   "metadata": {},
   "outputs": [],
   "source": [
    "def get_native_coords(mol, args):\n",
    "    \n",
    "    replicas = args.replicas\n",
    "    device = args.device\n",
    "    pos = torch.zeros(replicas, mol.numAtoms, 3)\n",
    "    \n",
    "    atom_pos = np.transpose(mol.coords, (2, 0, 1))\n",
    "    if replicas > 1 and atom_pos.shape[0] != replicas:\n",
    "        tom_pos = np.repeat(atom_pos[0][None, :], replicas, axis=0)\n",
    "\n",
    "    pos[:] = torch.tensor(\n",
    "            atom_pos, dtype=pos.dtype, device=pos.device\n",
    "    )\n",
    "    pos = pos.type(torch.float64)\n",
    "    \n",
    "    return pos"
   ]
  },
  {
   "cell_type": "code",
   "execution_count": 51,
   "id": "2ddf482d-1af3-4e99-9bf6-08cb2cfe240f",
   "metadata": {},
   "outputs": [],
   "source": [
    "import numpy as np\n",
    "mol = Molecule('../data/chignolin_cln025.pdb')\n",
    "mol.filter('name CA')\n",
    "args.replicas = 10\n",
    "pos = get_native_coords(mol, args)"
   ]
  },
  {
   "cell_type": "code",
   "execution_count": 52,
   "id": "cbfdf563-af59-4784-a2f0-4fb69366d200",
   "metadata": {},
   "outputs": [
    {
     "data": {
      "text/plain": [
       "10"
      ]
     },
     "execution_count": 52,
     "metadata": {},
     "output_type": "execute_result"
    }
   ],
   "source": [
    "args.replicas"
   ]
  },
  {
   "cell_type": "markdown",
   "id": "65946113-bc96-40d9-a788-a46e06efc256",
   "metadata": {},
   "source": [
    "## Create native structure"
   ]
  },
  {
   "cell_type": "code",
   "execution_count": 53,
   "id": "6ddfde8f-7c41-46ab-b0d0-97259e0263dd",
   "metadata": {},
   "outputs": [],
   "source": [
    "import numpy as np\n",
    "mol = Molecule('../data/chignolin_cln025.pdb')\n",
    "mol.filter('name CA')\n",
    "\n",
    "replicas = 1\n",
    "device = 'cpu'\n",
    "pos = torch.zeros(replicas, mol.numAtoms, 3)\n",
    "\n",
    "atom_pos = np.transpose(mol.coords, (2, 0, 1))\n",
    "if replicas > 1 and atom_pos.shape[0] != replicas:\n",
    "    tom_pos = np.repeat(atom_pos[0][None, :], replicas, axis=0)\n",
    "\n",
    "pos[:] = torch.tensor(\n",
    "        atom_pos, dtype=pos.dtype, device=pos.device\n",
    ")\n",
    "pos = pos.type(torch.float64)\n",
    "\n"
   ]
  },
  {
   "cell_type": "markdown",
   "id": "e46417d8-ce4c-412b-ab18-69d194fcc1b5",
   "metadata": {},
   "source": [
    "## Simulate Chingolin with pre-trained NN"
   ]
  },
  {
   "cell_type": "markdown",
   "id": "745b797f-a970-41f5-96c0-d5501e78170f",
   "metadata": {},
   "source": [
    "Load the molecule"
   ]
  },
  {
   "cell_type": "code",
   "execution_count": 65,
   "id": "71cdd683-a379-4a62-8420-f31d330ff3e3",
   "metadata": {},
   "outputs": [],
   "source": [
    "mol = Molecule('../data/chignolin_cln025.pdb')\n",
    "mol.filter('name CA')\n",
    "mol.read('../data/chignolin_cln025.psf')\n",
    "mol.read('../data/chignolin_cln025.xtc')\n",
    "args.replicas = 5\n",
    "args.forceterms = [\"repulsioncg\"]"
   ]
  },
  {
   "cell_type": "markdown",
   "id": "5ea53d6d-8428-445e-9f59-da6caf748cb9",
   "metadata": {},
   "source": [
    "Load pretrained NN"
   ]
  },
  {
   "cell_type": "code",
   "execution_count": 66,
   "id": "158e09f6-2854-428e-9193-1ea6e6c48940",
   "metadata": {},
   "outputs": [],
   "source": [
    "netfile = '../data/epoch=47-val_loss=739.5398-test_loss=21.5975.ckpt'\n",
    "model = load_model(netfile, device='cpu', derivative=True)\n",
    "external = external_forces(model, mol, replicas = args.replicas, device = args.device)"
   ]
  },
  {
   "cell_type": "markdown",
   "id": "b9965945-d6ed-44ed-985b-4ddc513394cd",
   "metadata": {},
   "source": [
    "Prepare the system"
   ]
  },
  {
   "cell_type": "code",
   "execution_count": 67,
   "id": "4c1136bb-4714-490b-9ccb-339245e5938b",
   "metadata": {},
   "outputs": [],
   "source": [
    "# Define forces and parameters\n",
    "forces = setup_forces(mol, args.forcefield, args.forceterms, external = external, device=args.device, \n",
    "                        cutoff=args.cutoff, rfa=args.rfa, switch_dist=args.switch_dist\n",
    "                        )   \n",
    "# System\n",
    "system = setup_system(mol, forces, replicas=args.replicas, T=args.temperature,\n",
    "                        device=args.device\n",
    "                         )"
   ]
  },
  {
   "cell_type": "code",
   "execution_count": null,
   "id": "12028f71-ca94-40f4-9756-a970f38c6022",
   "metadata": {},
   "outputs": [],
   "source": []
  },
  {
   "cell_type": "markdown",
   "id": "99c6cecd-9fa9-4de9-8880-44c1d74a7059",
   "metadata": {},
   "source": [
    "Run the simulation"
   ]
  },
  {
   "cell_type": "code",
   "execution_count": 57,
   "id": "43659ac1-e168-4624-99b6-bb2f881f3fa0",
   "metadata": {},
   "outputs": [
    {
     "name": "stderr",
     "output_type": "stream",
     "text": [
      " 42%|█████████████████▋                        | 84/200 [05:20<07:22,  3.81s/it]\n"
     ]
    },
    {
     "ename": "KeyboardInterrupt",
     "evalue": "",
     "output_type": "error",
     "traceback": [
      "\u001b[0;31m---------------------------------------------------------------------------\u001b[0m",
      "\u001b[0;31mKeyboardInterrupt\u001b[0m                         Traceback (most recent call last)",
      "\u001b[0;32m/tmp/ipykernel_287474/2483131656.py\u001b[0m in \u001b[0;36m<module>\u001b[0;34m\u001b[0m\n\u001b[1;32m     13\u001b[0m \u001b[0;34m\u001b[0m\u001b[0m\n\u001b[1;32m     14\u001b[0m \u001b[0;32mfor\u001b[0m \u001b[0mi\u001b[0m \u001b[0;32min\u001b[0m \u001b[0miterator\u001b[0m\u001b[0;34m:\u001b[0m\u001b[0;34m\u001b[0m\u001b[0;34m\u001b[0m\u001b[0m\n\u001b[0;32m---> 15\u001b[0;31m     \u001b[0mEkin\u001b[0m\u001b[0;34m,\u001b[0m \u001b[0mEpot\u001b[0m\u001b[0;34m,\u001b[0m \u001b[0mT\u001b[0m \u001b[0;34m=\u001b[0m \u001b[0mintegrator\u001b[0m\u001b[0;34m.\u001b[0m\u001b[0mstep\u001b[0m\u001b[0;34m(\u001b[0m\u001b[0mniter\u001b[0m\u001b[0;34m=\u001b[0m\u001b[0moutput_period\u001b[0m\u001b[0;34m)\u001b[0m\u001b[0;34m\u001b[0m\u001b[0;34m\u001b[0m\u001b[0m\n\u001b[0m",
      "\u001b[0;32m/shared/carles/miniconda3/envs/torchmd-net/lib/python3.8/site-packages/torchmd/integrator.py\u001b[0m in \u001b[0;36mstep\u001b[0;34m(self, niter)\u001b[0m\n\u001b[1;32m     66\u001b[0m         \u001b[0;32mfor\u001b[0m \u001b[0m_\u001b[0m \u001b[0;32min\u001b[0m \u001b[0mrange\u001b[0m\u001b[0;34m(\u001b[0m\u001b[0mniter\u001b[0m\u001b[0;34m)\u001b[0m\u001b[0;34m:\u001b[0m\u001b[0;34m\u001b[0m\u001b[0;34m\u001b[0m\u001b[0m\n\u001b[1;32m     67\u001b[0m             \u001b[0m_first_VV\u001b[0m\u001b[0;34m(\u001b[0m\u001b[0ms\u001b[0m\u001b[0;34m.\u001b[0m\u001b[0mpos\u001b[0m\u001b[0;34m,\u001b[0m \u001b[0ms\u001b[0m\u001b[0;34m.\u001b[0m\u001b[0mvel\u001b[0m\u001b[0;34m,\u001b[0m \u001b[0ms\u001b[0m\u001b[0;34m.\u001b[0m\u001b[0mforces\u001b[0m\u001b[0;34m,\u001b[0m \u001b[0mmasses\u001b[0m\u001b[0;34m,\u001b[0m \u001b[0mself\u001b[0m\u001b[0;34m.\u001b[0m\u001b[0mdt\u001b[0m\u001b[0;34m)\u001b[0m\u001b[0;34m\u001b[0m\u001b[0;34m\u001b[0m\u001b[0m\n\u001b[0;32m---> 68\u001b[0;31m             \u001b[0mpot\u001b[0m \u001b[0;34m=\u001b[0m \u001b[0mself\u001b[0m\u001b[0;34m.\u001b[0m\u001b[0mforces\u001b[0m\u001b[0;34m.\u001b[0m\u001b[0mcompute\u001b[0m\u001b[0;34m(\u001b[0m\u001b[0ms\u001b[0m\u001b[0;34m.\u001b[0m\u001b[0mpos\u001b[0m\u001b[0;34m,\u001b[0m \u001b[0ms\u001b[0m\u001b[0;34m.\u001b[0m\u001b[0mbox\u001b[0m\u001b[0;34m,\u001b[0m \u001b[0ms\u001b[0m\u001b[0;34m.\u001b[0m\u001b[0mforces\u001b[0m\u001b[0;34m)\u001b[0m\u001b[0;34m\u001b[0m\u001b[0;34m\u001b[0m\u001b[0m\n\u001b[0m\u001b[1;32m     69\u001b[0m             \u001b[0;32mif\u001b[0m \u001b[0mself\u001b[0m\u001b[0;34m.\u001b[0m\u001b[0mT\u001b[0m\u001b[0;34m:\u001b[0m\u001b[0;34m\u001b[0m\u001b[0;34m\u001b[0m\u001b[0m\n\u001b[1;32m     70\u001b[0m                 \u001b[0mlangevin\u001b[0m\u001b[0;34m(\u001b[0m\u001b[0ms\u001b[0m\u001b[0;34m.\u001b[0m\u001b[0mvel\u001b[0m\u001b[0;34m,\u001b[0m \u001b[0mself\u001b[0m\u001b[0;34m.\u001b[0m\u001b[0mgamma\u001b[0m\u001b[0;34m,\u001b[0m \u001b[0mself\u001b[0m\u001b[0;34m.\u001b[0m\u001b[0mvcoeff\u001b[0m\u001b[0;34m,\u001b[0m \u001b[0mself\u001b[0m\u001b[0;34m.\u001b[0m\u001b[0mdt\u001b[0m\u001b[0;34m,\u001b[0m \u001b[0mself\u001b[0m\u001b[0;34m.\u001b[0m\u001b[0mdevice\u001b[0m\u001b[0;34m)\u001b[0m\u001b[0;34m\u001b[0m\u001b[0;34m\u001b[0m\u001b[0m\n",
      "\u001b[0;32m/shared/carles/miniconda3/envs/torchmd-net/lib/python3.8/site-packages/torchmd/forces.py\u001b[0m in \u001b[0;36mcompute\u001b[0;34m(self, pos, box, forces, returnDetails, explicit_forces)\u001b[0m\n\u001b[1;32m    314\u001b[0m \u001b[0;34m\u001b[0m\u001b[0m\n\u001b[1;32m    315\u001b[0m         \u001b[0;32mif\u001b[0m \u001b[0mself\u001b[0m\u001b[0;34m.\u001b[0m\u001b[0mexternal\u001b[0m\u001b[0;34m:\u001b[0m\u001b[0;34m\u001b[0m\u001b[0;34m\u001b[0m\u001b[0m\n\u001b[0;32m--> 316\u001b[0;31m             \u001b[0mext_ene\u001b[0m\u001b[0;34m,\u001b[0m \u001b[0mext_force\u001b[0m \u001b[0;34m=\u001b[0m \u001b[0mself\u001b[0m\u001b[0;34m.\u001b[0m\u001b[0mexternal\u001b[0m\u001b[0;34m.\u001b[0m\u001b[0mcalculate\u001b[0m\u001b[0;34m(\u001b[0m\u001b[0mpos\u001b[0m\u001b[0;34m,\u001b[0m \u001b[0mbox\u001b[0m\u001b[0;34m)\u001b[0m\u001b[0;34m\u001b[0m\u001b[0;34m\u001b[0m\u001b[0m\n\u001b[0m\u001b[1;32m    317\u001b[0m             \u001b[0;32mfor\u001b[0m \u001b[0ms\u001b[0m \u001b[0;32min\u001b[0m \u001b[0mrange\u001b[0m\u001b[0;34m(\u001b[0m\u001b[0mnsystems\u001b[0m\u001b[0;34m)\u001b[0m\u001b[0;34m:\u001b[0m\u001b[0;34m\u001b[0m\u001b[0;34m\u001b[0m\u001b[0m\n\u001b[1;32m    318\u001b[0m                 \u001b[0mpot\u001b[0m\u001b[0;34m[\u001b[0m\u001b[0ms\u001b[0m\u001b[0;34m]\u001b[0m\u001b[0;34m[\u001b[0m\u001b[0;34m\"external\"\u001b[0m\u001b[0;34m]\u001b[0m \u001b[0;34m+=\u001b[0m \u001b[0mext_ene\u001b[0m\u001b[0;34m[\u001b[0m\u001b[0ms\u001b[0m\u001b[0;34m]\u001b[0m\u001b[0;34m\u001b[0m\u001b[0;34m\u001b[0m\u001b[0m\n",
      "\u001b[0;32m/shared/carles/miniconda3/envs/torchmd-net/lib/python3.8/site-packages/torchmd_exp-0-py3.8.egg/torchmdexp/nn/calculator.py\u001b[0m in \u001b[0;36mcalculate\u001b[0;34m(self, pos, box)\u001b[0m\n\u001b[1;32m     15\u001b[0m     \u001b[0;32mdef\u001b[0m \u001b[0mcalculate\u001b[0m\u001b[0;34m(\u001b[0m\u001b[0mself\u001b[0m\u001b[0;34m,\u001b[0m \u001b[0mpos\u001b[0m\u001b[0;34m,\u001b[0m \u001b[0mbox\u001b[0m\u001b[0;34m)\u001b[0m\u001b[0;34m:\u001b[0m\u001b[0;34m\u001b[0m\u001b[0;34m\u001b[0m\u001b[0m\n\u001b[1;32m     16\u001b[0m         \u001b[0mpos\u001b[0m \u001b[0;34m=\u001b[0m \u001b[0mpos\u001b[0m\u001b[0;34m.\u001b[0m\u001b[0mto\u001b[0m\u001b[0;34m(\u001b[0m\u001b[0mself\u001b[0m\u001b[0;34m.\u001b[0m\u001b[0mdevice\u001b[0m\u001b[0;34m)\u001b[0m\u001b[0;34m.\u001b[0m\u001b[0mtype\u001b[0m\u001b[0;34m(\u001b[0m\u001b[0mtorch\u001b[0m\u001b[0;34m.\u001b[0m\u001b[0mfloat32\u001b[0m\u001b[0;34m)\u001b[0m\u001b[0;34m.\u001b[0m\u001b[0mreshape\u001b[0m\u001b[0;34m(\u001b[0m\u001b[0;34m-\u001b[0m\u001b[0;36m1\u001b[0m\u001b[0;34m,\u001b[0m \u001b[0;36m3\u001b[0m\u001b[0;34m)\u001b[0m\u001b[0;34m\u001b[0m\u001b[0;34m\u001b[0m\u001b[0m\n\u001b[0;32m---> 17\u001b[0;31m         \u001b[0menergy\u001b[0m\u001b[0;34m,\u001b[0m \u001b[0mforces\u001b[0m \u001b[0;34m=\u001b[0m \u001b[0mself\u001b[0m\u001b[0;34m.\u001b[0m\u001b[0mmodel\u001b[0m\u001b[0;34m(\u001b[0m\u001b[0mself\u001b[0m\u001b[0;34m.\u001b[0m\u001b[0membeddings\u001b[0m\u001b[0;34m,\u001b[0m \u001b[0mpos\u001b[0m\u001b[0;34m,\u001b[0m \u001b[0mself\u001b[0m\u001b[0;34m.\u001b[0m\u001b[0mbatch\u001b[0m\u001b[0;34m)\u001b[0m\u001b[0;34m\u001b[0m\u001b[0;34m\u001b[0m\u001b[0m\n\u001b[0m\u001b[1;32m     18\u001b[0m         \u001b[0;32mreturn\u001b[0m \u001b[0menergy\u001b[0m\u001b[0;34m,\u001b[0m \u001b[0mforces\u001b[0m\u001b[0;34m.\u001b[0m\u001b[0mreshape\u001b[0m\u001b[0;34m(\u001b[0m\u001b[0;34m-\u001b[0m\u001b[0;36m1\u001b[0m\u001b[0;34m,\u001b[0m \u001b[0mself\u001b[0m\u001b[0;34m.\u001b[0m\u001b[0mn_atoms\u001b[0m\u001b[0;34m,\u001b[0m \u001b[0;36m3\u001b[0m\u001b[0;34m)\u001b[0m\u001b[0;34m\u001b[0m\u001b[0;34m\u001b[0m\u001b[0m\n",
      "\u001b[0;32m/shared/carles/miniconda3/envs/torchmd-net/lib/python3.8/site-packages/torch/nn/modules/module.py\u001b[0m in \u001b[0;36m_call_impl\u001b[0;34m(self, *input, **kwargs)\u001b[0m\n\u001b[1;32m   1049\u001b[0m         if not (self._backward_hooks or self._forward_hooks or self._forward_pre_hooks or _global_backward_hooks\n\u001b[1;32m   1050\u001b[0m                 or _global_forward_hooks or _global_forward_pre_hooks):\n\u001b[0;32m-> 1051\u001b[0;31m             \u001b[0;32mreturn\u001b[0m \u001b[0mforward_call\u001b[0m\u001b[0;34m(\u001b[0m\u001b[0;34m*\u001b[0m\u001b[0minput\u001b[0m\u001b[0;34m,\u001b[0m \u001b[0;34m**\u001b[0m\u001b[0mkwargs\u001b[0m\u001b[0;34m)\u001b[0m\u001b[0;34m\u001b[0m\u001b[0;34m\u001b[0m\u001b[0m\n\u001b[0m\u001b[1;32m   1052\u001b[0m         \u001b[0;31m# Do not call functions when jit is used\u001b[0m\u001b[0;34m\u001b[0m\u001b[0;34m\u001b[0m\u001b[0;34m\u001b[0m\u001b[0m\n\u001b[1;32m   1053\u001b[0m         \u001b[0mfull_backward_hooks\u001b[0m\u001b[0;34m,\u001b[0m \u001b[0mnon_full_backward_hooks\u001b[0m \u001b[0;34m=\u001b[0m \u001b[0;34m[\u001b[0m\u001b[0;34m]\u001b[0m\u001b[0;34m,\u001b[0m \u001b[0;34m[\u001b[0m\u001b[0;34m]\u001b[0m\u001b[0;34m\u001b[0m\u001b[0;34m\u001b[0m\u001b[0m\n",
      "\u001b[0;32m/shared/carles/torchmd-net/torchmdnet/models/model.py\u001b[0m in \u001b[0;36mforward\u001b[0;34m(self, z, pos, batch)\u001b[0m\n\u001b[1;32m    186\u001b[0m         \u001b[0;32mif\u001b[0m \u001b[0mself\u001b[0m\u001b[0;34m.\u001b[0m\u001b[0mderivative\u001b[0m\u001b[0;34m:\u001b[0m\u001b[0;34m\u001b[0m\u001b[0;34m\u001b[0m\u001b[0m\n\u001b[1;32m    187\u001b[0m             \u001b[0mgrad_outputs\u001b[0m\u001b[0;34m:\u001b[0m \u001b[0mList\u001b[0m\u001b[0;34m[\u001b[0m\u001b[0mOptional\u001b[0m\u001b[0;34m[\u001b[0m\u001b[0mtorch\u001b[0m\u001b[0;34m.\u001b[0m\u001b[0mTensor\u001b[0m\u001b[0;34m]\u001b[0m\u001b[0;34m]\u001b[0m \u001b[0;34m=\u001b[0m \u001b[0;34m[\u001b[0m\u001b[0mtorch\u001b[0m\u001b[0;34m.\u001b[0m\u001b[0mones_like\u001b[0m\u001b[0;34m(\u001b[0m\u001b[0mout\u001b[0m\u001b[0;34m)\u001b[0m\u001b[0;34m]\u001b[0m\u001b[0;34m\u001b[0m\u001b[0;34m\u001b[0m\u001b[0m\n\u001b[0;32m--> 188\u001b[0;31m             dy = grad(\n\u001b[0m\u001b[1;32m    189\u001b[0m                 \u001b[0;34m[\u001b[0m\u001b[0mout\u001b[0m\u001b[0;34m]\u001b[0m\u001b[0;34m,\u001b[0m\u001b[0;34m\u001b[0m\u001b[0;34m\u001b[0m\u001b[0m\n\u001b[1;32m    190\u001b[0m                 \u001b[0;34m[\u001b[0m\u001b[0mpos\u001b[0m\u001b[0;34m]\u001b[0m\u001b[0;34m,\u001b[0m\u001b[0;34m\u001b[0m\u001b[0;34m\u001b[0m\u001b[0m\n",
      "\u001b[0;32m/shared/carles/miniconda3/envs/torchmd-net/lib/python3.8/site-packages/torch/autograd/__init__.py\u001b[0m in \u001b[0;36mgrad\u001b[0;34m(outputs, inputs, grad_outputs, retain_graph, create_graph, only_inputs, allow_unused)\u001b[0m\n\u001b[1;32m    224\u001b[0m         \u001b[0mretain_graph\u001b[0m \u001b[0;34m=\u001b[0m \u001b[0mcreate_graph\u001b[0m\u001b[0;34m\u001b[0m\u001b[0;34m\u001b[0m\u001b[0m\n\u001b[1;32m    225\u001b[0m \u001b[0;34m\u001b[0m\u001b[0m\n\u001b[0;32m--> 226\u001b[0;31m     return Variable._execution_engine.run_backward(\n\u001b[0m\u001b[1;32m    227\u001b[0m         \u001b[0moutputs\u001b[0m\u001b[0;34m,\u001b[0m \u001b[0mgrad_outputs_\u001b[0m\u001b[0;34m,\u001b[0m \u001b[0mretain_graph\u001b[0m\u001b[0;34m,\u001b[0m \u001b[0mcreate_graph\u001b[0m\u001b[0;34m,\u001b[0m\u001b[0;34m\u001b[0m\u001b[0;34m\u001b[0m\u001b[0m\n\u001b[1;32m    228\u001b[0m         inputs, allow_unused, accumulate_grad=False)\n",
      "\u001b[0;31mKeyboardInterrupt\u001b[0m: "
     ]
    }
   ],
   "source": [
    "steps = 2000\n",
    "output_period = 10\n",
    "\n",
    "# Simulation\n",
    "\n",
    "# Integrator object\n",
    "integrator = Integrator(system, forces, args.timestep, args.device, gamma=0.1, T=0)\n",
    "native_coords = system.pos.clone().detach()\n",
    "            \n",
    "# Iterator and start computing forces\n",
    "iterator = tqdm(range(1,int(steps/output_period)+1))\n",
    "Epot = forces.compute(system.pos, system.box, system.forces)\n",
    "\n",
    "for i in iterator:\n",
    "    Ekin, Epot, T = integrator.step(niter=output_period)"
   ]
  },
  {
   "cell_type": "code",
   "execution_count": 139,
   "id": "329da3a3-a12f-4a82-a02f-6e04df0cabce",
   "metadata": {},
   "outputs": [
    {
     "name": "stdout",
     "output_type": "stream",
     "text": [
      "Final RMSD:  1.1348059573142635\n"
     ]
    }
   ],
   "source": [
    "loss, rmsd = loss_fn(pos, system.pos)\n",
    "print('Final RMSD: ', rmsd)"
   ]
  },
  {
   "cell_type": "markdown",
   "id": "d56b08df-5fb4-419b-89b1-ec61547c0f34",
   "metadata": {},
   "source": [
    "## Simulate Chingolin with pre-trained NN trained on lambda"
   ]
  },
  {
   "cell_type": "code",
   "execution_count": 35,
   "id": "b8b84f56-4c71-472d-934c-18e5cdd07c41",
   "metadata": {},
   "outputs": [],
   "source": [
    "mol = Molecule('../data/chignolin_cln025.pdb')\n",
    "mol.filter('name CA')\n",
    "mol.read('../data/chignolin_cln025.psf')\n",
    "#mol.read('../data/chignolin_cln025.xtc')"
   ]
  },
  {
   "cell_type": "code",
   "execution_count": 36,
   "id": "13d4db68-038d-422b-a227-21083aba0bf0",
   "metadata": {},
   "outputs": [],
   "source": [
    "lambda_net = '/workspace2/fast_folders_cgnet/multiprotein/single_prot_fix/lambda/train_geom_lambda_dih_4int_fix_rep1/epoch=85-val_loss=736.1273-test_loss=21.5217.ckpt'\n",
    "model = load_model(lambda_net, device='cpu', derivative=True)\n",
    "external = external_forces(model, mol, replicas = args.replicas, device = args.device)"
   ]
  },
  {
   "cell_type": "code",
   "execution_count": 37,
   "id": "5af04ac7-f849-4a8c-91c4-4b6f76fc4b90",
   "metadata": {},
   "outputs": [],
   "source": [
    "# Define forces and parameters\n",
    "forces = setup_forces(mol, args.forcefield, args.forceterms, external, device=args.device, \n",
    "                        cutoff=args.cutoff, rfa=args.rfa, switch_dist=args.switch_dist\n",
    "                        )   \n",
    "# System\n",
    "system = setup_system(mol, forces, replicas=args.replicas, T=args.temperature,\n",
    "                        device=args.device\n",
    "                         )"
   ]
  },
  {
   "cell_type": "code",
   "execution_count": 38,
   "id": "f69cec15-ece8-4f8b-9d96-9a27e8cb1586",
   "metadata": {},
   "outputs": [
    {
     "name": "stderr",
     "output_type": "stream",
     "text": [
      "100%|███████████████████████████████████████████| 75/75 [00:13<00:00,  5.53it/s]\n"
     ]
    }
   ],
   "source": [
    "steps = 750\n",
    "output_period = 10\n",
    "# Simulation\n",
    "\n",
    "# Integrator object\n",
    "integrator = Integrator(system, forces, args.timestep, args.device, gamma=0.1, T=0)\n",
    "native_coords = system.pos.clone().detach()\n",
    "            \n",
    "# Iterator and start computing forces\n",
    "iterator = tqdm(range(1,int(steps/output_period)+1))\n",
    "Epot = forces.compute(system.pos, system.box, system.forces)\n",
    "\n",
    "for i in iterator:\n",
    "    Ekin, Epot, T = integrator.step(niter=output_period)"
   ]
  },
  {
   "cell_type": "code",
   "execution_count": 39,
   "id": "3b1b3628-0096-4a9c-a7de-3589ee56b4a0",
   "metadata": {},
   "outputs": [
    {
     "name": "stdout",
     "output_type": "stream",
     "text": [
      "Final RMSD:  1.5965760210812099\n"
     ]
    }
   ],
   "source": [
    "loss, rmsd = loss_fn(pos, system.pos)\n",
    "print('Final RMSD: ', rmsd)"
   ]
  },
  {
   "cell_type": "markdown",
   "id": "8295f56b-d444-49a4-a226-97b8d607b365",
   "metadata": {},
   "source": [
    "## Simulate Chingolin with re-trained NN pretrained on lambda"
   ]
  },
  {
   "cell_type": "code",
   "execution_count": 40,
   "id": "cad31dd0-39e1-491a-862c-7203cf30cdb8",
   "metadata": {},
   "outputs": [],
   "source": [
    "mol = Molecule('../data/chignolin_cln025.pdb')\n",
    "mol.filter('name CA')\n",
    "mol.read('../data/chignolin_cln025.psf')\n",
    "#mol.read('../data/chignolin_cln025.xtc')\n",
    "#args.replicas = 10"
   ]
  },
  {
   "cell_type": "code",
   "execution_count": 41,
   "id": "25789b71-1591-44d0-a98b-8a08e7ef0708",
   "metadata": {},
   "outputs": [],
   "source": [
    "trained_lambda_net = '/shared/carles/torchmd-exp/torchmdexp/nn/trainings/cln_prelambda_02_09/epoch=49-loss=1.6478.ckpt'\n",
    "trained_lambda_net_model = load_model(trained_lambda_net, device='cpu', derivative=True)\n",
    "external = external_forces(trained_lambda_net_model, mol, replicas = args.replicas, device = args.device)"
   ]
  },
  {
   "cell_type": "code",
   "execution_count": 42,
   "id": "e12a0fb2-ed00-43e0-ba5c-11439a12a6b3",
   "metadata": {},
   "outputs": [],
   "source": [
    "# Define forces and parameters\n",
    "forces = setup_forces(mol, args.forcefield, args.forceterms, external, device=args.device, \n",
    "                        cutoff=args.cutoff, rfa=args.rfa, switch_dist=args.switch_dist\n",
    "                        )   \n",
    "# System\n",
    "system = setup_system(mol, forces, replicas=args.replicas, T=args.temperature,\n",
    "                        device=args.device\n",
    "                         )"
   ]
  },
  {
   "cell_type": "code",
   "execution_count": 43,
   "id": "25dda62f-79c8-4372-8b98-41d5835317f2",
   "metadata": {
    "tags": []
   },
   "outputs": [
    {
     "name": "stderr",
     "output_type": "stream",
     "text": [
      "100%|███████████████████████████████████████████| 75/75 [00:11<00:00,  6.25it/s]\n"
     ]
    }
   ],
   "source": [
    "steps = 750\n",
    "output_period = 10\n",
    "\n",
    "# Simulation\n",
    "\n",
    "# Integrator object\n",
    "integrator = Integrator(system, forces, args.timestep, args.device, gamma=0.1, T=0)\n",
    "native_coords = system.pos.clone().detach()\n",
    "            \n",
    "# Iterator and start computing forces\n",
    "iterator = tqdm(range(1,int(steps/output_period)+1))\n",
    "Epot = forces.compute(system.pos, system.box, system.forces)\n",
    "\n",
    "for i in iterator:\n",
    "    Ekin, Epot, T = integrator.step(niter=output_period)"
   ]
  },
  {
   "cell_type": "code",
   "execution_count": 44,
   "id": "39f60b85-fa51-4308-9f9f-a5f825b99aca",
   "metadata": {},
   "outputs": [
    {
     "name": "stdout",
     "output_type": "stream",
     "text": [
      "Final RMSD:  0.38887476885371375\n"
     ]
    }
   ],
   "source": [
    "loss, rmsd = loss_fn(pos, system.pos)\n",
    "print('Final RMSD: ', rmsd)"
   ]
  },
  {
   "cell_type": "markdown",
   "id": "ea60a792-6837-44a2-94bd-f5ffbd7ab559",
   "metadata": {},
   "source": [
    "## Simulate Chingolin with no external forces"
   ]
  },
  {
   "cell_type": "code",
   "execution_count": 95,
   "id": "1d16f483-f6ef-441f-8a04-579ddf180177",
   "metadata": {},
   "outputs": [],
   "source": [
    "mol = Molecule('../data/chignolin_cln025.pdb')\n",
    "mol.filter('name CA')\n",
    "mol.read('../data/chignolin_cln025.psf')\n",
    "#mol.read('../data/chignolin_cln025.xtc')\n",
    "#args.replicas = 10\n",
    "args.forceterms = [\"repulsioncg\"]"
   ]
  },
  {
   "cell_type": "code",
   "execution_count": 52,
   "id": "175617b2-de29-48b4-91b0-77a481f21460",
   "metadata": {},
   "outputs": [],
   "source": [
    "# Define forces and parameters\n",
    "forces = setup_forces(mol, args.forcefield, args.forceterms, external=None, device=args.device, \n",
    "                        cutoff=args.cutoff, rfa=args.rfa, switch_dist=args.switch_dist\n",
    "                        )   \n",
    "# System\n",
    "system = setup_system(mol, forces, replicas=args.replicas, T=args.temperature,\n",
    "                        device=args.device\n",
    "                         )"
   ]
  },
  {
   "cell_type": "code",
   "execution_count": 53,
   "id": "c2a0c389-2105-4a71-97ba-8ca6ec04fa55",
   "metadata": {},
   "outputs": [
    {
     "name": "stderr",
     "output_type": "stream",
     "text": [
      "100%|███████████████████████████████████████████| 75/75 [00:01<00:00, 64.57it/s]\n"
     ]
    }
   ],
   "source": [
    "steps = 750\n",
    "output_period = 10\n",
    "\n",
    "# Simulation\n",
    "\n",
    "# Integrator object\n",
    "integrator = Integrator(system, forces, args.timestep, args.device, gamma=0.1, T=0)\n",
    "native_coords = system.pos.clone().detach()\n",
    "            \n",
    "# Iterator and start computing forces\n",
    "iterator = tqdm(range(1,int(steps/output_period)+1))\n",
    "Epot = forces.compute(system.pos, system.box, system.forces)\n",
    "\n",
    "for i in iterator:\n",
    "    Ekin, Epot, T = integrator.step(niter=output_period)"
   ]
  },
  {
   "cell_type": "code",
   "execution_count": 54,
   "id": "a8585a9b-1ecd-4a79-aed4-0f41d35af318",
   "metadata": {},
   "outputs": [
    {
     "name": "stdout",
     "output_type": "stream",
     "text": [
      "Final RMSD:  4.2818978649872665\n"
     ]
    }
   ],
   "source": [
    "loss, rmsd = loss_fn(pos, system.pos)\n",
    "print('Final RMSD: ', rmsd)"
   ]
  },
  {
   "cell_type": "markdown",
   "id": "29384a54-0e39-4095-ae05-e1028ddf4f73",
   "metadata": {},
   "source": [
    "## Simulate Chingolin with random NN"
   ]
  },
  {
   "cell_type": "code",
   "execution_count": 31,
   "id": "8cefbf37-5cf7-416c-beb4-cc151bebbcf3",
   "metadata": {},
   "outputs": [],
   "source": [
    "mol = Molecule('../data/chignolin_cln025.pdb')\n",
    "mol.filter('name CA')\n",
    "mol.read('../data/chignolin_cln025.psf')\n",
    "#mol.read('../data/chignolin_cln025.xtc')\n",
    "args.replicas = 1\n",
    "args.forceterms = [\"repulsioncg\", \"bonds\", \"dihedrals\"]"
   ]
  },
  {
   "cell_type": "code",
   "execution_count": 27,
   "id": "9b7a5f30-612c-4cda-8efb-4a728eb4f3e0",
   "metadata": {},
   "outputs": [],
   "source": [
    "model = create_model(args_dict)\n",
    "external = external_forces(model, mol, replicas = args.replicas, device = args.device)"
   ]
  },
  {
   "cell_type": "code",
   "execution_count": 28,
   "id": "d6cc1d1b-c3ad-4e47-9464-572dd8dacbab",
   "metadata": {},
   "outputs": [],
   "source": [
    "# Define forces and parameters\n",
    "forces = setup_forces(mol, args.forcefield, args.forceterms, external=None, device=args.device, \n",
    "                        cutoff=args.cutoff, rfa=args.rfa, switch_dist=args.switch_dist\n",
    "                        )   \n",
    "# System\n",
    "system = setup_system(mol, forces, replicas=args.replicas, T=args.temperature,\n",
    "                        device=args.device\n",
    "                         )"
   ]
  },
  {
   "cell_type": "code",
   "execution_count": 29,
   "id": "67f6badf-3eb9-4a39-adca-63e8e832c4cc",
   "metadata": {},
   "outputs": [
    {
     "name": "stderr",
     "output_type": "stream",
     "text": [
      "100%|█████████████████████████████████████████| 500/500 [00:08<00:00, 61.21it/s]\n"
     ]
    }
   ],
   "source": [
    "steps = 5000\n",
    "output_period = 10\n",
    "\n",
    "# Simulation\n",
    "\n",
    "# Integrator object\n",
    "integrator = Integrator(system, forces, args.timestep, args.device, gamma=0.1, T=0)\n",
    "native_coords = system.pos.clone().detach()\n",
    "            \n",
    "# Iterator and start computing forces\n",
    "iterator = tqdm(range(1,int(steps/output_period)+1))\n",
    "Epot = forces.compute(system.pos, system.box, system.forces)\n",
    "\n",
    "for i in iterator:\n",
    "    Ekin, Epot, T = integrator.step(niter=output_period)"
   ]
  },
  {
   "cell_type": "code",
   "execution_count": 30,
   "id": "4b119375-8a1e-4be6-9f15-bec205a62f4c",
   "metadata": {},
   "outputs": [
    {
     "name": "stdout",
     "output_type": "stream",
     "text": [
      "Final RMSD:  4.347646792804146\n"
     ]
    }
   ],
   "source": [
    "loss, rmsd = loss_fn(pos, system.pos)\n",
    "print('Final RMSD: ', rmsd)"
   ]
  },
  {
   "cell_type": "markdown",
   "id": "6c8c2fd3-8720-42dd-948c-204d90a78c7d",
   "metadata": {},
   "source": [
    "## Sim time"
   ]
  },
  {
   "cell_type": "code",
   "execution_count": 68,
   "id": "7400370c-3471-4bfd-b8e2-fdac36030782",
   "metadata": {},
   "outputs": [],
   "source": [
    "times = [0.0,\n",
    "244.92099738121033,\n",
    "523.6174840927124,\n",
    "804.427725315094,\n",
    "1091.5886116027832,\n",
    "1624.378838300705,\n",
    "2242.731857061386,\n",
    "2878.5688214302063,\n",
    "3510.2826449871063,\n",
    "4125.948407411575,\n",
    "4996.646833658218,\n",
    "6013.193626642227,\n",
    "7035.383630514145,\n",
    "8124.731684923172,\n",
    "9176.599777936935,\n",
    "10505.227858066559,\n",
    "11976.055072069168,\n",
    "13467.635905742645,\n",
    "14951.779824495316]"
   ]
  },
  {
   "cell_type": "code",
   "execution_count": 69,
   "id": "902d24e3-4243-4de7-8203-60460f02c247",
   "metadata": {},
   "outputs": [],
   "source": [
    "dt = []\n",
    "for idx, _ in enumerate(times):\n",
    "    t1 = idx\n",
    "    t2 = idx + 1\n",
    "    if t2 == len(times):\n",
    "        break\n",
    "    dt.append(times[t2] - times[t1])"
   ]
  },
  {
   "cell_type": "code",
   "execution_count": 79,
   "id": "473f7833-3f32-4600-aa78-bc059843013e",
   "metadata": {},
   "outputs": [],
   "source": [
    "from statistics import mean\n",
    "t_250 = mean(dt[:4])\n",
    "t_500 = mean(dt[4:9])\n",
    "t_750 = mean(dt[9:14])\n",
    "t_1000 = mean(dt[14:19])"
   ]
  },
  {
   "cell_type": "code",
   "execution_count": 81,
   "id": "e74e1253-ba53-44b7-8ae9-94794d0f45c1",
   "metadata": {},
   "outputs": [
    {
     "name": "stderr",
     "output_type": "stream",
     "text": [
      "2021-09-02 00:00:55,433 - matplotlib.font_manager - INFO - Failed to extract font properties from /usr/share/fonts/google-noto-emoji/NotoColorEmoji.ttf: In FT2Font: Could not set the fontsize (error code 0x17)\n",
      "2021-09-02 00:00:55,589 - matplotlib.font_manager - INFO - generated new fontManager\n"
     ]
    },
    {
     "data": {
      "text/plain": [
       "[<matplotlib.lines.Line2D at 0x7ff1f60be880>]"
      ]
     },
     "execution_count": 81,
     "metadata": {},
     "output_type": "execute_result"
    },
    {
     "data": {
      "image/png": "[encoded data removed]",
      "text/plain": [
       "<Figure size 432x288 with 1 Axes>"
      ]
     },
     "metadata": {
      "needs_background": "light"
     },
     "output_type": "display_data"
    }
   ],
   "source": [
    "import matplotlib.pyplot as plt\n",
    "\n",
    "sim_times = np.array([t_250, t_500, t_750, t_1000])\n",
    "steps = np.array([250, 500, 750, 1000])\n",
    "\n",
    "plt.plot(steps, sim_times, 'b', label = 'Time')"
   ]
  }
 ],
 "metadata": {
  "kernelspec": {
   "display_name": "Python 3 (ipykernel)",
   "language": "python",
   "name": "python3"
  },
  "language_info": {
   "codemirror_mode": {
    "name": "ipython",
    "version": 3
   },
   "file_extension": ".py",
   "mimetype": "text/x-python",
   "name": "python",
   "nbconvert_exporter": "python",
   "pygments_lexer": "ipython3",
   "version": "3.8.10"
  }
 },
 "nbformat": 4,
 "nbformat_minor": 5
}
