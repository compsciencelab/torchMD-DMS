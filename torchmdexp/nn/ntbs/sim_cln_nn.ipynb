{
 "cells": [
  {
   "cell_type": "code",
   "execution_count": 1,
   "id": "6d13170f-8494-40ef-82e5-756faa4b44fa",
   "metadata": {
    "tags": []
   },
   "outputs": [],
   "source": [
    "import argparse\n",
    "from argparse import Namespace \n",
    "import torch\n",
    "from torchmdnet import calculators\n",
    "from torchmdnet.calculators import External\n",
    "from torchmdnet.utils import LoadFromFile, LoadFromCheckpoint, save_argparse, number\n",
    "from torchmdnet import datasets, priors, models\n",
    "from torchmdnet.data import DataModule\n",
    "from torchmdnet.models import output_modules\n",
    "from torchmdnet.models.utils import rbf_class_mapping, act_class_mapping\n",
    "from torchmdnet.models.model import load_model, create_model\n",
    "\n",
    "from moleculekit.molecule import Molecule\n",
    "from torchmd.forcefields.ff_yaml import YamlForcefield\n",
    "from torchmd.forcefields.forcefield import ForceField\n",
    "from torchmd.forces import Forces\n",
    "from torchmd.integrator import Integrator, maxwell_boltzmann\n",
    "from torchmd.parameters import Parameters\n",
    "from torchmd.systems import System\n",
    "from torchmd.wrapper import Wrapper\n",
    "\n",
    "from torchmdexp.nn.train import external_forces, setup_forces, setup_system, forward, loss_fn, train_model\n",
    "\n",
    "from tqdm import tqdm"
   ]
  },
  {
   "cell_type": "markdown",
   "id": "47df6a41-c489-4ad6-a170-e2a2cc39656d",
   "metadata": {},
   "source": [
    "## Load args file"
   ]
  },
  {
   "cell_type": "code",
   "execution_count": 2,
   "id": "3c5645ff-ea06-4d10-8da0-b0bbd4d98bb5",
   "metadata": {
    "tags": []
   },
   "outputs": [],
   "source": [
    "def get_args():\n",
    "    # fmt: off\n",
    "    parser = argparse.ArgumentParser(description='Training')\n",
    "    parser.add_argument('--load-model', action=LoadFromCheckpoint, help='Restart training using a model checkpoint')  # keep first\n",
    "    parser.add_argument('--conf', '-c', type=open, action=LoadFromFile, help='Configuration yaml file')  # keep second\n",
    "    parser.add_argument('--num-epochs', default=300, type=int, help='number of epochs')\n",
    "    parser.add_argument('--batch-size', default=32, type=int, help='batch size')\n",
    "    parser.add_argument('--inference-batch-size', default=None, type=int, help='Batchsize for validation and tests.')\n",
    "    parser.add_argument('--lr', default=1e-4, type=float, help='learning rate')\n",
    "    parser.add_argument('--lr-patience', type=int, default=10, help='Patience for lr-schedule. Patience per eval-interval of validation')\n",
    "    parser.add_argument('--lr-min', type=float, default=1e-6, help='Minimum learning rate before early stop')\n",
    "    parser.add_argument('--lr-factor', type=float, default=0.8, help='Minimum learning rate before early stop')\n",
    "    parser.add_argument('--lr-warmup-steps', type=int, default=0, help='How many steps to warm-up over. Defaults to 0 for no warm-up')\n",
    "    parser.add_argument('--early-stopping-patience', type=int, default=30, help='Stop training after this many epochs without improvement')\n",
    "    parser.add_argument('--weight-decay', type=float, default=0.0, help='Weight decay strength')\n",
    "    parser.add_argument('--ema-alpha-y', type=float, default=1.0, help='The amount of influence of new losses on the exponential moving average of y')\n",
    "    parser.add_argument('--ema-alpha-dy', type=float, default=1.0, help='The amount of influence of new losses on the exponential moving average of dy')\n",
    "    parser.add_argument('--ngpus', type=int, default=-1, help='Number of GPUs, -1 use all available. Use CUDA_VISIBLE_DEVICES=1, to decide gpus')\n",
    "    parser.add_argument('--num-nodes', type=int, default=1, help='Number of nodes')\n",
    "    parser.add_argument('--precision', type=int, default=32, choices=[16, 32], help='Floating point precision')\n",
    "    parser.add_argument('--log-dir', '-l', default='/trainings', help='log file')\n",
    "    parser.add_argument('--splits', default=None, help='Npz with splits idx_train, idx_val, idx_test')\n",
    "    parser.add_argument('--train-size', type=number, default=None, help='Percentage/number of samples in training set (None to use all remaining samples)')\n",
    "    parser.add_argument('--val-size', type=number, default=0.05, help='Percentage/number of samples in validation set (None to use all remaining samples)')\n",
    "    parser.add_argument('--test-size', type=number, default=0.1, help='Percentage/number of samples in test set (None to use all remaining samples)')\n",
    "    parser.add_argument('--test-interval', type=int, default=10, help='Test interval, one test per n epochs (default: 10)')\n",
    "    parser.add_argument('--save-interval', type=int, default=10, help='Save interval, one save per n epochs (default: 10)')\n",
    "    parser.add_argument('--seed', type=int, default=1, help='random seed (default: 1)')\n",
    "    parser.add_argument('--distributed-backend', default='ddp', help='Distributed backend: dp, ddp, ddp2')\n",
    "    parser.add_argument('--num-workers', type=int, default=4, help='Number of workers for data prefetch')\n",
    "    parser.add_argument('--redirect', type=bool, default=False, help='Redirect stdout and stderr to log_dir/log')\n",
    "    \n",
    "    # model architecture\n",
    "    parser.add_argument('--model', type=str, default='graph-network', choices=models.__all__, help='Which model to train')\n",
    "    parser.add_argument('--output-model', type=str, default='Scalar', choices=output_modules.__all__, help='The type of output model')\n",
    "    parser.add_argument('--prior-model', type=str, default=None, choices=priors.__all__, help='Which prior model to use')\n",
    "\n",
    "    # architectural args\n",
    "    parser.add_argument('--embedding-dimension', type=int, default=256, help='Embedding dimension')\n",
    "    parser.add_argument('--num-layers', type=int, default=6, help='Number of interaction layers in the model')\n",
    "    parser.add_argument('--num-rbf', type=int, default=64, help='Number of radial basis functions in model')\n",
    "    parser.add_argument('--num-filters', type=int, default=128, help='Number of filters in model')    \n",
    "    parser.add_argument('--activation', type=str, default='silu', choices=list(act_class_mapping.keys()), help='Activation function')\n",
    "    parser.add_argument('--rbf-type', type=str, default='expnorm', choices=list(rbf_class_mapping.keys()), help='Type of distance expansion')\n",
    "    parser.add_argument('--trainable-rbf', type=bool, default=False, help='If distance expansion functions should be trainable')\n",
    "    parser.add_argument('--neighbor-embedding', type=bool, default=False, help='If a neighbor embedding should be applied before interactions')\n",
    "    \n",
    "    # dataset specific\n",
    "    parser.add_argument('--data_dir', default=None, help='Input directory')\n",
    "    parser.add_argument('--dataset', default=None, type=str, choices=datasets.__all__, help='Name of the torch_geometric dataset')\n",
    "    parser.add_argument('--dataset-root', default='~/data', type=str, help='Data storage directory (not used if dataset is \"CG\")')\n",
    "    parser.add_argument('--dataset-arg', default=None, type=str, help='Additional dataset argument, e.g. target property for QM9 or molecule for MD17')\n",
    "    parser.add_argument('--coord-files', default=None, type=str, help='Custom coordinate files glob')\n",
    "    parser.add_argument('--embed-files', default=None, type=str, help='Custom embedding files glob')\n",
    "    parser.add_argument('--energy-files', default=None, type=str, help='Custom energy files glob')\n",
    "    parser.add_argument('--force-files', default=None, type=str, help='Custom force files glob')\n",
    "    parser.add_argument('--energy-weight', default=1.0, type=float, help='Weighting factor for energies in the loss function')\n",
    "    parser.add_argument('--force-weight', default=1.0, type=float, help='Weighting factor for forces in the loss function')\n",
    "\n",
    "    # Transformer specific\n",
    "    parser.add_argument('--distance-influence', type=str, default='both', choices=['keys', 'values', 'both', 'none'], help='Where distance information is included inside the attention')\n",
    "    parser.add_argument('--attn-activation', default='silu', choices=list(act_class_mapping.keys()), help='Attention activation function')\n",
    "    parser.add_argument('--num-heads', type=int, default=8, help='Number of attention heads')\n",
    "    \n",
    "    # Torchmdexp specific\n",
    "    parser.add_argument('--device', default='cpu', help='Type of device, e.g. \"cuda:1\"')\n",
    "    parser.add_argument('--forcefield', default=\"../data/ca_priors-dihedrals_general_2xweaker.yaml\", help='Forcefield .yaml file')\n",
    "    parser.add_argument('--forceterms', nargs='+', default=\"bonds\", help='Forceterms to include, e.g. --forceterms Bonds LJ')\n",
    "    parser.add_argument('--cutoff', default=None, type=float, help='LJ/Elec/Bond cutoff')\n",
    "    parser.add_argument('--rfa', default=False, action='store_true', help='Enable reaction field approximation')\n",
    "    parser.add_argument('--replicas', type=int, default=1, help='Number of different replicas to run')\n",
    "    parser.add_argument('--step_update', type=int, default=5, help='Number of epochs to update the simulation steps')\n",
    "    parser.add_argument('--switch_dist', default=None, type=float, help='Switching distance for LJ')\n",
    "    parser.add_argument('--temperature',  default=300,type=float, help='Assign velocity from initial temperature in K')\n",
    "    parser.add_argument('--force-precision', default='single', type=str, help='LJ/Elec/Bond cutoff')\n",
    "    parser.add_argument('--verbose', default=None, help='Add verbose')\n",
    "    parser.add_argument('--timestep', default=1, type=float, help='Timestep in fs')\n",
    "    parser.add_argument('--langevin_gamma',  default=0.1,type=float, help='Langevin relaxation ps^-1')\n",
    "    parser.add_argument('--langevin_temperature',  default=0,type=float, help='Temperature in K of the thermostat')\n",
    "    parser.add_argument('--max_steps',type=int,default=2000,help='Total number of simulation steps')\n",
    "    \n",
    "    # other args\n",
    "    parser.add_argument('--derivative', default=True, type=bool, help='If true, take the derivative of the prediction w.r.t coordinates')\n",
    "    parser.add_argument('--cutoff-lower', type=float, default=0.0, help='Lower cutoff in model')\n",
    "    parser.add_argument('--cutoff-upper', type=float, default=5.0, help='Upper cutoff in model')\n",
    "    parser.add_argument('--atom-filter', type=int, default=-1, help='Only sum over atoms with Z > atom_filter')\n",
    "    \n",
    "    parser.add_argument('--max-z', type=int, default=100, help='Maximum atomic number that fits in the embedding matrix')\n",
    "    parser.add_argument('--max-num-neighbors', type=int, default=32, help='Maximum number of neighbors to consider in the network')\n",
    "    parser.add_argument('--standardize', type=bool, default=False, help='If true, multiply prediction by dataset std and add mean')\n",
    "    parser.add_argument('--reduce-op', type=str, default='add', choices=['add', 'mean'], help='Reduce operation to apply to atomic predictions')\n",
    "\n",
    "    args = parser.parse_args(\"\")\n",
    "    all_defaults = {}\n",
    "    for key in vars(args):\n",
    "        all_defaults[key] = parser.get_default(key)\n",
    "    \n",
    "    return all_defaults"
   ]
  },
  {
   "cell_type": "code",
   "execution_count": 3,
   "id": "542c3fa3-426b-4c55-9495-5affff14b122",
   "metadata": {},
   "outputs": [],
   "source": [
    "args_dict = get_args()"
   ]
  },
  {
   "cell_type": "code",
   "execution_count": 4,
   "id": "c166ae86-2d30-48bf-b4e1-372c724c8946",
   "metadata": {
    "tags": []
   },
   "outputs": [],
   "source": [
    "# process_yaml.py file\n",
    "import yaml\n",
    "\n",
    "with open('../arguments/cln_gnn_arch2_brd.yaml') as file:\n",
    "    # The FullLoader parameter handles the conversion from YAML\n",
    "    # scalar values to Python the dictionary format\n",
    "    args_file = yaml.load(file, Loader=yaml.FullLoader)\n",
    "for key, value in args_file.items():\n",
    "    args_dict[key] = value\n",
    "class Struct:\n",
    "    def __init__(self, **entries):\n",
    "        self.__dict__.update(entries)\n",
    "args = Struct(**args_dict)"
   ]
  },
  {
   "cell_type": "code",
   "execution_count": 5,
   "id": "09e8baf7-dde8-4e61-a01a-b04149dd1d1a",
   "metadata": {},
   "outputs": [],
   "source": [
    "def get_native_coords(mol, args):\n",
    "    \n",
    "    replicas = args.replicas\n",
    "    device = args.device\n",
    "    pos = torch.zeros(replicas, mol.numAtoms, 3)\n",
    "    \n",
    "    atom_pos = np.transpose(mol.coords, (2, 0, 1))\n",
    "    if replicas > 1 and atom_pos.shape[0] != replicas:\n",
    "        tom_pos = np.repeat(atom_pos[0][None, :], replicas, axis=0)\n",
    "\n",
    "    pos[:] = torch.tensor(\n",
    "            atom_pos, dtype=pos.dtype, device=pos.device\n",
    "    )\n",
    "    pos = pos.type(torch.float64)\n",
    "    \n",
    "    return pos"
   ]
  },
  {
   "cell_type": "code",
   "execution_count": 6,
   "id": "2ddf482d-1af3-4e99-9bf6-08cb2cfe240f",
   "metadata": {},
   "outputs": [],
   "source": [
    "import numpy as np\n",
    "mol = Molecule('../data/chignolin_cln025.pdb')\n",
    "mol.filter('name CA')\n",
    "args.replicas = 10\n",
    "pos = get_native_coords(mol, args)"
   ]
  },
  {
   "cell_type": "code",
   "execution_count": 7,
   "id": "cbfdf563-af59-4784-a2f0-4fb69366d200",
   "metadata": {},
   "outputs": [
    {
     "data": {
      "text/plain": [
       "10"
      ]
     },
     "execution_count": 7,
     "metadata": {},
     "output_type": "execute_result"
    }
   ],
   "source": [
    "args.replicas"
   ]
  },
  {
   "cell_type": "markdown",
   "id": "65946113-bc96-40d9-a788-a46e06efc256",
   "metadata": {},
   "source": [
    "## Create native structure"
   ]
  },
  {
   "cell_type": "code",
   "execution_count": 8,
   "id": "6ddfde8f-7c41-46ab-b0d0-97259e0263dd",
   "metadata": {},
   "outputs": [],
   "source": [
    "import numpy as np\n",
    "mol = Molecule('../data/chignolin_cln025.pdb')\n",
    "mol.filter('name CA')\n",
    "\n",
    "replicas = 1\n",
    "device = 'cpu'\n",
    "pos = torch.zeros(replicas, mol.numAtoms, 3)\n",
    "\n",
    "atom_pos = np.transpose(mol.coords, (2, 0, 1))\n",
    "if replicas > 1 and atom_pos.shape[0] != replicas:\n",
    "    tom_pos = np.repeat(atom_pos[0][None, :], replicas, axis=0)\n",
    "\n",
    "pos[:] = torch.tensor(\n",
    "        atom_pos, dtype=pos.dtype, device=pos.device\n",
    ")\n",
    "pos = pos.type(torch.float64)\n",
    "\n"
   ]
  },
  {
   "cell_type": "markdown",
   "id": "e46417d8-ce4c-412b-ab18-69d194fcc1b5",
   "metadata": {},
   "source": [
    "## Simulate Chingolin with pre-trained NN"
   ]
  },
  {
   "cell_type": "markdown",
   "id": "745b797f-a970-41f5-96c0-d5501e78170f",
   "metadata": {},
   "source": [
    "Load the molecule"
   ]
  },
  {
   "cell_type": "code",
   "execution_count": 9,
   "id": "71cdd683-a379-4a62-8420-f31d330ff3e3",
   "metadata": {},
   "outputs": [],
   "source": [
    "mol = Molecule('../data/chignolin_cln025.pdb')\n",
    "mol.filter('name CA')\n",
    "mol.read('../data/chignolin_cln025.psf')\n",
    "mol.read('../data/chignolin_cln025.xtc')\n",
    "args.replicas = 5\n",
    "args.forceterms = [\"repulsioncg\"]"
   ]
  },
  {
   "cell_type": "markdown",
   "id": "5ea53d6d-8428-445e-9f59-da6caf748cb9",
   "metadata": {},
   "source": [
    "Load pretrained NN"
   ]
  },
  {
   "cell_type": "code",
   "execution_count": 10,
   "id": "158e09f6-2854-428e-9193-1ea6e6c48940",
   "metadata": {},
   "outputs": [],
   "source": [
    "netfile = '../data/epoch=47-val_loss=739.5398-test_loss=21.5975.ckpt'\n",
    "model = load_model(netfile, device='cpu', derivative=True)\n",
    "external = external_forces(model, mol, replicas = args.replicas, device = args.device)"
   ]
  },
  {
   "cell_type": "code",
   "execution_count": 20,
   "id": "db0c5de8-4e6d-4c7b-823f-38efcb292807",
   "metadata": {},
   "outputs": [
    {
     "data": {
      "text/plain": [
       "TorchMD_Net(\n",
       "  (representation_model): TorchMD_GN(hidden_channels=128, num_filters=128, num_layers=4, num_rbf=18, rbf_type=expnorm, trainable_rbf=True, activation=tanh, neighbor_embedding=None, cutoff_lower=3.0, cutoff_upper=12.0, aggr=add)\n",
       "  (output_model): Scalar(\n",
       "    (output_network): Sequential(\n",
       "      (0): Linear(in_features=128, out_features=64, bias=True)\n",
       "      (1): Tanh()\n",
       "      (2): Linear(in_features=64, out_features=1, bias=True)\n",
       "    )\n",
       "  )\n",
       ")"
      ]
     },
     "execution_count": 20,
     "metadata": {},
     "output_type": "execute_result"
    }
   ],
   "source": [
    "model = load_model('../trainings/cln_gnn_r_02_09_arch2_trainset=50/epoch=13-loss=107.4896.ckpt', device='cpu', derivative=True)\n",
    "model.to('cuda:0')"
   ]
  },
  {
   "cell_type": "code",
   "execution_count": 21,
   "id": "63c1a2eb-7a1b-4584-9243-2b79c282712e",
   "metadata": {},
   "outputs": [
    {
     "data": {
      "text/plain": [
       "[Parameter containing:\n",
       " tensor([[-0.6356, -0.7801,  1.9025,  ...,  0.7004, -0.1737,  0.9497],\n",
       "         [ 0.3925,  0.4847,  0.5985,  ...,  0.1284,  0.9382, -0.7931],\n",
       "         [-0.8531, -0.9691, -0.6886,  ..., -1.1553, -1.6232,  1.5194],\n",
       "         ...,\n",
       "         [-0.2602,  0.3349,  0.1212,  ...,  1.4092, -0.3532,  0.1710],\n",
       "         [-0.9505,  0.0763,  0.7244,  ...,  1.1066,  1.5381, -0.4207],\n",
       "         [-0.3657, -0.1182, -0.1151,  ..., -0.1096, -0.3414,  1.2293]],\n",
       "        device='cuda:0', requires_grad=True),\n",
       " Parameter containing:\n",
       " tensor([-0.0013,  0.0510,  0.1141,  0.1685,  0.2303,  0.2958,  0.3578,  0.4137,\n",
       "          0.4777,  0.5246,  0.5832,  0.6556,  0.6986,  0.7573,  0.8138,  0.8776,\n",
       "          0.9418,  1.0059], device='cuda:0', requires_grad=True),\n",
       " Parameter containing:\n",
       " tensor([81.0252, 81.0277, 81.0214, 81.0247, 81.0130, 81.0165, 81.0178, 81.0166,\n",
       "         81.0251, 81.0313, 81.0223, 81.0306, 81.0191, 81.0141, 81.0113, 81.0140,\n",
       "         81.0236, 81.0251], device='cuda:0', requires_grad=True),\n",
       " Parameter containing:\n",
       " tensor([[-0.2002, -0.0580, -0.0605,  ..., -0.0247,  0.0580,  0.1254],\n",
       "         [ 0.1192, -0.1431, -0.0168,  ...,  0.1322, -0.1161, -0.0478],\n",
       "         [-0.0314,  0.1026,  0.1154,  ...,  0.1843,  0.1375,  0.1732],\n",
       "         ...,\n",
       "         [-0.0337, -0.0023,  0.1148,  ..., -0.1785, -0.1112, -0.1404],\n",
       "         [-0.0093, -0.0722, -0.0948,  ..., -0.1041, -0.1925,  0.0525],\n",
       "         [ 0.1931, -0.0884, -0.1314,  ..., -0.0709,  0.1804,  0.0495]],\n",
       "        device='cuda:0', requires_grad=True),\n",
       " Parameter containing:\n",
       " tensor([ 0.0019,  0.0086, -0.0042,  0.0092, -0.0015, -0.0055, -0.0015, -0.0072,\n",
       "         -0.0032, -0.0008,  0.0038, -0.0049,  0.0021,  0.0028, -0.0026,  0.0027,\n",
       "         -0.0018, -0.0015, -0.0043,  0.0016, -0.0006, -0.0007,  0.0007,  0.0045,\n",
       "          0.0001,  0.0004,  0.0025, -0.0041, -0.0005, -0.0003, -0.0048,  0.0057,\n",
       "          0.0048, -0.0016, -0.0020, -0.0010,  0.0027, -0.0008, -0.0008,  0.0052,\n",
       "         -0.0002, -0.0029, -0.0022, -0.0040,  0.0031,  0.0014,  0.0013, -0.0062,\n",
       "         -0.0050, -0.0002,  0.0050,  0.0002,  0.0045,  0.0018, -0.0044, -0.0046,\n",
       "         -0.0022, -0.0045,  0.0006,  0.0027,  0.0050,  0.0022, -0.0004,  0.0013,\n",
       "          0.0012,  0.0013, -0.0037,  0.0019, -0.0039, -0.0021,  0.0032,  0.0025,\n",
       "         -0.0006, -0.0059, -0.0012,  0.0005,  0.0004,  0.0036,  0.0019,  0.0020,\n",
       "         -0.0047,  0.0038, -0.0040,  0.0043, -0.0032, -0.0031,  0.0030,  0.0043,\n",
       "         -0.0029, -0.0030, -0.0042, -0.0013, -0.0032,  0.0039,  0.0014, -0.0051,\n",
       "          0.0041, -0.0036,  0.0027,  0.0036, -0.0015,  0.0023,  0.0070, -0.0014,\n",
       "          0.0024, -0.0108,  0.0052, -0.0033,  0.0029, -0.0040, -0.0014,  0.0003,\n",
       "         -0.0058,  0.0014,  0.0013, -0.0061,  0.0014, -0.0030, -0.0015, -0.0048,\n",
       "         -0.0030,  0.0013, -0.0028, -0.0062,  0.0005,  0.0030, -0.0018,  0.0031],\n",
       "        device='cuda:0', requires_grad=True),\n",
       " Parameter containing:\n",
       " tensor([[ 0.0116, -0.0696, -0.1088,  ...,  0.1225,  0.0133, -0.0594],\n",
       "         [ 0.0358, -0.0998,  0.1274,  ...,  0.0438, -0.1306,  0.0364],\n",
       "         [-0.1388,  0.1027, -0.0170,  ..., -0.0318,  0.0152, -0.1119],\n",
       "         ...,\n",
       "         [ 0.0690, -0.0337,  0.0728,  ...,  0.0159, -0.0437,  0.1535],\n",
       "         [ 0.1360,  0.0214,  0.0181,  ..., -0.0924,  0.0882, -0.1397],\n",
       "         [-0.0927,  0.0656, -0.0006,  ..., -0.0795, -0.0919, -0.1123]],\n",
       "        device='cuda:0', requires_grad=True),\n",
       " Parameter containing:\n",
       " tensor([-0.0055, -0.0835,  0.0597, -0.0713,  0.0633,  0.0792,  0.0651, -0.0140,\n",
       "         -0.0418, -0.0520, -0.0867,  0.0592, -0.0771, -0.0677, -0.0676,  0.0464,\n",
       "          0.0860,  0.0076, -0.0548, -0.0787,  0.0175,  0.0860, -0.0563,  0.0125,\n",
       "          0.0676, -0.0455, -0.0116,  0.0408, -0.0810, -0.0716, -0.0045,  0.0830,\n",
       "          0.0481, -0.0476, -0.0362, -0.0445,  0.0565,  0.0172, -0.0093, -0.0043,\n",
       "          0.0885, -0.0790, -0.0750, -0.0809,  0.0026, -0.0317, -0.0035, -0.0755,\n",
       "         -0.0256, -0.0604, -0.0799,  0.0160, -0.0522, -0.0759, -0.0179,  0.0286,\n",
       "          0.0517,  0.0200,  0.0293, -0.0103, -0.0157, -0.0800,  0.0061,  0.0394,\n",
       "         -0.0695,  0.0083, -0.0348,  0.0340,  0.0667,  0.0807,  0.0768,  0.0313,\n",
       "          0.0944,  0.0391, -0.0774,  0.0172,  0.0612, -0.0248, -0.0423, -0.0205,\n",
       "          0.0033,  0.0674,  0.0804, -0.0669, -0.0737, -0.0275, -0.0492, -0.0198,\n",
       "         -0.0451, -0.0483,  0.0094,  0.0023, -0.0221,  0.0357,  0.0715, -0.0371,\n",
       "         -0.0054,  0.0169,  0.0147, -0.0069,  0.0751,  0.0697, -0.0281, -0.0210,\n",
       "          0.0124,  0.0235,  0.0246, -0.0012, -0.0008, -0.0881, -0.0002,  0.0657,\n",
       "         -0.0284, -0.0204, -0.0826, -0.0390, -0.0352,  0.0811,  0.0354,  0.0705,\n",
       "         -0.0516, -0.0365, -0.0767,  0.0284, -0.0569,  0.0721,  0.0272,  0.0253],\n",
       "        device='cuda:0', requires_grad=True),\n",
       " Parameter containing:\n",
       " tensor([[-0.1354, -0.0068, -0.0388,  ...,  0.0741,  0.1112, -0.0959],\n",
       "         [-0.1193,  0.0220, -0.0958,  ...,  0.1285,  0.0097, -0.0053],\n",
       "         [-0.1508, -0.0456,  0.0754,  ..., -0.1252,  0.0771, -0.1484],\n",
       "         ...,\n",
       "         [-0.1260,  0.0771, -0.1252,  ..., -0.1136, -0.0954, -0.1397],\n",
       "         [-0.1160, -0.1235, -0.0353,  ..., -0.0222,  0.0242, -0.0476],\n",
       "         [ 0.1042,  0.1068,  0.1416,  ...,  0.1029,  0.0609,  0.0216]],\n",
       "        device='cuda:0', requires_grad=True),\n",
       " Parameter containing:\n",
       " tensor([[-0.0359,  0.0933, -0.0901,  ...,  0.0930,  0.1275, -0.0498],\n",
       "         [ 0.1124,  0.1374,  0.1486,  ..., -0.1097,  0.0572,  0.0951],\n",
       "         [-0.0229,  0.0099,  0.1253,  ...,  0.0851, -0.0026,  0.0727],\n",
       "         ...,\n",
       "         [ 0.0507,  0.0867,  0.0009,  ...,  0.1235,  0.1505, -0.0659],\n",
       "         [ 0.1039,  0.1073,  0.0483,  ...,  0.0126, -0.1266,  0.0656],\n",
       "         [ 0.1121, -0.0615, -0.1344,  ..., -0.0188, -0.1201,  0.0531]],\n",
       "        device='cuda:0', requires_grad=True),\n",
       " Parameter containing:\n",
       " tensor([ 4.7599e-03, -8.2893e-04, -1.6883e-03, -2.1313e-03, -2.4369e-03,\n",
       "          4.1270e-03,  1.2283e-02, -1.0346e-03,  4.6821e-03,  3.5826e-03,\n",
       "         -1.9122e-03,  2.9743e-03,  1.6287e-03,  1.6210e-03,  2.0190e-03,\n",
       "          2.0589e-03, -1.7167e-03, -3.7851e-03, -5.0360e-03,  7.2435e-03,\n",
       "          3.2196e-03, -3.4043e-03, -8.8646e-05,  4.7090e-03, -3.0806e-03,\n",
       "          1.4025e-03, -4.7211e-03, -1.5479e-03,  2.2263e-03,  9.8454e-04,\n",
       "          3.1517e-03,  5.4695e-03, -3.8181e-03, -2.6897e-03,  4.6364e-03,\n",
       "         -4.1820e-03, -1.9711e-03,  3.1880e-03, -5.0513e-04,  2.3920e-04,\n",
       "          4.8046e-03, -3.2187e-03,  1.4074e-03, -1.6645e-03,  8.7085e-04,\n",
       "         -9.1393e-04, -5.5264e-04,  1.2448e-03,  2.6925e-03,  6.5055e-03,\n",
       "          4.6428e-03, -3.0246e-04,  7.9284e-03,  2.3518e-03,  3.9338e-04,\n",
       "         -6.1023e-04, -4.8376e-03,  7.2401e-03,  6.2531e-04, -5.4618e-03,\n",
       "          2.0223e-03,  1.0097e-03, -1.8368e-04,  5.3768e-03,  2.3097e-03,\n",
       "         -2.1091e-03,  6.4165e-03, -2.8945e-03, -2.9378e-03,  1.9558e-03,\n",
       "         -6.2717e-04,  5.4482e-03, -4.6559e-03,  4.0235e-03, -1.1583e-03,\n",
       "          5.3533e-03,  3.7363e-04, -1.6161e-03,  4.5600e-03,  4.9082e-03,\n",
       "         -1.2419e-03,  1.6355e-03, -3.2111e-03,  3.5112e-03,  3.4693e-03,\n",
       "          7.7282e-04,  1.6750e-04,  1.7898e-03,  6.9087e-05,  1.2588e-03,\n",
       "          1.1818e-03,  7.8738e-04,  5.2599e-04, -5.6963e-03, -4.9976e-03,\n",
       "         -5.1391e-03,  4.8723e-04, -1.1768e-03,  5.0561e-03,  2.1489e-03,\n",
       "         -1.3173e-03,  4.3772e-03,  9.4192e-04,  4.5241e-03,  1.2004e-03,\n",
       "         -4.1891e-03, -4.5922e-03,  2.8770e-04, -1.6251e-03, -5.7923e-03,\n",
       "         -5.1883e-04,  2.0439e-03, -7.5893e-04, -3.4720e-03, -1.3241e-03,\n",
       "          1.3307e-03,  6.7225e-03,  7.1901e-03, -2.2042e-04,  1.8181e-03,\n",
       "          2.1490e-04,  3.5937e-03, -6.3927e-03,  3.4334e-03,  1.1300e-03,\n",
       "         -1.3727e-03, -1.4841e-03, -3.4044e-03], device='cuda:0',\n",
       "        requires_grad=True),\n",
       " Parameter containing:\n",
       " tensor([[-0.1223,  0.1197,  0.0483,  ...,  0.1320,  0.0095,  0.1032],\n",
       "         [-0.0842, -0.0771, -0.0659,  ..., -0.0683, -0.1400, -0.1325],\n",
       "         [ 0.0498, -0.0024,  0.0262,  ..., -0.1313,  0.1016, -0.1426],\n",
       "         ...,\n",
       "         [-0.1144, -0.1468,  0.1358,  ...,  0.0105,  0.0324,  0.0996],\n",
       "         [-0.0217,  0.0830, -0.0131,  ..., -0.0579,  0.0629,  0.0889],\n",
       "         [-0.0176,  0.0474,  0.0437,  ...,  0.0631,  0.1226, -0.0375]],\n",
       "        device='cuda:0', requires_grad=True),\n",
       " Parameter containing:\n",
       " tensor([ 1.1240e-03,  6.8428e-04, -3.3141e-03,  9.7422e-04, -3.8597e-03,\n",
       "         -3.0161e-03, -1.3347e-03,  1.5429e-03, -3.0273e-03,  7.4822e-03,\n",
       "          5.2484e-03,  2.0110e-03,  1.6954e-03,  3.0359e-04, -4.3279e-03,\n",
       "         -3.0399e-03, -2.6470e-03,  1.3788e-03, -7.0807e-04, -1.9413e-04,\n",
       "         -1.0846e-03, -6.2618e-03, -9.2213e-04, -3.1345e-03,  3.6634e-03,\n",
       "         -7.3068e-03,  9.3239e-04,  2.6187e-03,  4.1367e-03,  1.4513e-03,\n",
       "         -2.5973e-03, -5.2947e-04, -1.6202e-05,  2.4904e-04,  1.8922e-03,\n",
       "         -5.1681e-03,  2.0421e-04,  8.9074e-03,  2.2407e-03, -5.3324e-03,\n",
       "         -1.2221e-03,  1.3562e-03,  7.4984e-04, -6.1832e-04,  3.5559e-03,\n",
       "         -4.6618e-03,  1.2007e-02, -5.1035e-04,  1.5813e-03, -1.2426e-03,\n",
       "          4.0376e-04,  4.6098e-04,  6.5332e-03,  5.6283e-05,  7.5319e-04,\n",
       "          2.7644e-03,  2.2863e-03, -1.0990e-03,  1.2678e-04, -4.5943e-03,\n",
       "         -3.6282e-04, -3.5817e-03,  2.9953e-03,  2.8244e-03,  5.5664e-03,\n",
       "         -1.1921e-03, -4.6027e-03, -2.2023e-03,  6.5103e-03, -7.0520e-03,\n",
       "         -5.4330e-04, -2.7657e-03, -3.6074e-03,  3.0360e-03, -3.6774e-03,\n",
       "          2.6029e-03, -3.1535e-03, -2.2466e-04, -4.6382e-03,  4.8112e-03,\n",
       "          3.6286e-03,  1.0226e-03, -3.6099e-03, -1.1773e-03,  4.8449e-03,\n",
       "          6.8236e-03, -1.2465e-03, -1.8117e-03,  3.6361e-04, -1.0170e-03,\n",
       "          3.5589e-03, -1.9142e-03, -3.5588e-03, -5.0665e-03,  5.7459e-03,\n",
       "          8.2349e-04,  1.2085e-03,  1.6926e-03, -5.4381e-03, -1.4440e-03,\n",
       "         -3.4679e-04,  6.4784e-04,  3.0113e-04,  8.3499e-05, -2.7231e-03,\n",
       "         -1.6467e-04,  5.3813e-04, -3.2684e-03, -2.6224e-03,  1.0402e-03,\n",
       "         -4.6951e-03,  3.6632e-03, -4.7394e-03,  1.0560e-03, -9.2166e-03,\n",
       "         -3.2707e-03,  1.2855e-03,  4.0203e-03, -7.8173e-04, -4.4270e-03,\n",
       "          5.8427e-03,  3.3714e-03,  3.0196e-03,  2.8623e-03,  2.1445e-03,\n",
       "          3.0722e-03,  1.1305e-03,  4.5775e-04], device='cuda:0',\n",
       "        requires_grad=True),\n",
       " Parameter containing:\n",
       " tensor([[-0.1675,  0.0489,  0.1223,  ..., -0.0956, -0.1687,  0.2005],\n",
       "         [ 0.0093, -0.0904,  0.0724,  ...,  0.1604, -0.1467, -0.0821],\n",
       "         [-0.1178, -0.0815,  0.1160,  ...,  0.0796, -0.0313,  0.0208],\n",
       "         ...,\n",
       "         [-0.1127,  0.0413,  0.1360,  ...,  0.1507, -0.1557, -0.1766],\n",
       "         [-0.0890,  0.0002, -0.0278,  ...,  0.1826, -0.0943,  0.1857],\n",
       "         [-0.1811,  0.1896, -0.1420,  ...,  0.1946, -0.0288, -0.1004]],\n",
       "        device='cuda:0', requires_grad=True),\n",
       " Parameter containing:\n",
       " tensor([-4.9791e-04, -4.1672e-04,  1.7382e-03,  2.2032e-03,  1.2782e-03,\n",
       "          6.9922e-03, -6.3550e-04,  5.1871e-03,  1.4722e-03,  2.9798e-03,\n",
       "          4.4250e-03, -9.2279e-03, -1.8025e-03, -3.4900e-03,  3.1129e-03,\n",
       "          1.8533e-03, -2.3422e-03, -2.8433e-03, -9.4551e-03, -9.7182e-04,\n",
       "         -2.4059e-03, -1.3832e-03,  6.1992e-03,  1.9539e-03, -5.1740e-04,\n",
       "          2.9098e-03, -1.1701e-03, -2.1700e-04,  2.8098e-03,  2.7194e-03,\n",
       "         -5.2629e-04, -3.8282e-03,  2.7082e-03, -5.8791e-03,  2.9491e-03,\n",
       "         -5.0090e-03,  7.6874e-03, -1.7715e-03,  2.5038e-03, -9.3519e-04,\n",
       "          4.6340e-03, -2.2052e-04,  4.4267e-03,  1.6513e-03, -3.5479e-03,\n",
       "         -2.9445e-03, -4.4686e-03,  1.9754e-03, -6.0818e-04, -3.7152e-03,\n",
       "         -2.0185e-03, -1.9374e-03, -1.2042e-03,  9.5591e-04, -3.8959e-04,\n",
       "         -1.5958e-03, -1.9646e-03, -6.7937e-05, -2.2346e-03,  3.5868e-03,\n",
       "         -7.5847e-04,  9.0214e-04,  3.6682e-03,  5.2203e-03, -3.3646e-03,\n",
       "         -7.2577e-04,  4.7341e-03,  3.7422e-03, -5.6021e-04,  3.8142e-03,\n",
       "          4.4917e-03, -6.0526e-04, -8.9179e-03, -3.3585e-03,  7.0652e-04,\n",
       "          1.8864e-04,  8.1101e-03,  3.6939e-04,  6.4461e-03, -3.9150e-03,\n",
       "         -1.5807e-03, -5.5202e-03,  4.3970e-03, -5.0372e-03,  3.2761e-03,\n",
       "         -7.1124e-04,  7.2489e-03, -4.6433e-03, -5.7691e-03,  2.8814e-03,\n",
       "         -2.4653e-03, -2.0757e-03, -3.1413e-04, -3.5028e-03,  3.1821e-03,\n",
       "          4.3966e-03, -7.4140e-04, -3.6304e-03,  1.4751e-03, -1.0491e-03,\n",
       "         -3.7187e-03, -2.9222e-03,  1.4443e-03, -6.8910e-03, -8.2625e-04,\n",
       "          4.9324e-03, -1.4236e-03, -1.8040e-03,  4.5042e-03,  5.7153e-03,\n",
       "         -1.8967e-03, -3.3851e-03,  3.1418e-03,  4.5539e-03,  2.6136e-03,\n",
       "          3.8644e-04, -1.0426e-03,  3.1290e-03,  4.2056e-03,  1.7039e-03,\n",
       "         -5.1926e-03, -1.6409e-03,  1.8141e-03, -1.7474e-03, -3.3349e-03,\n",
       "          1.2404e-03, -2.5280e-03,  4.5013e-03], device='cuda:0',\n",
       "        requires_grad=True),\n",
       " Parameter containing:\n",
       " tensor([[ 0.0862, -0.0154,  0.0158,  ..., -0.0067, -0.0415, -0.1473],\n",
       "         [-0.0045, -0.0371,  0.0058,  ...,  0.1426, -0.0706,  0.0445],\n",
       "         [ 0.1146,  0.0059, -0.0641,  ...,  0.0338,  0.1087, -0.0310],\n",
       "         ...,\n",
       "         [-0.0184,  0.0067, -0.0360,  ...,  0.1325,  0.0821,  0.1163],\n",
       "         [ 0.0329,  0.1220, -0.0166,  ..., -0.1443,  0.0146,  0.0958],\n",
       "         [ 0.0409,  0.0542,  0.1362,  ..., -0.0278,  0.0207, -0.0715]],\n",
       "        device='cuda:0', requires_grad=True),\n",
       " Parameter containing:\n",
       " tensor([ 0.0594, -0.0422, -0.0656,  0.0329, -0.0276,  0.0755, -0.0584, -0.0706,\n",
       "          0.0548,  0.0622,  0.0642,  0.0127,  0.0262,  0.0599, -0.0355, -0.0383,\n",
       "          0.0522, -0.0425, -0.0182,  0.0477,  0.0130, -0.0580, -0.0421,  0.0471,\n",
       "         -0.0461, -0.0686,  0.0527,  0.0615,  0.0059,  0.0438, -0.0748, -0.0627,\n",
       "          0.0601, -0.0371, -0.0115, -0.0630,  0.0211,  0.0687,  0.0698,  0.0556,\n",
       "          0.0083, -0.0145, -0.0873,  0.0634, -0.0402, -0.0091,  0.0379,  0.0444,\n",
       "         -0.0656,  0.0807,  0.0087,  0.0693,  0.0301, -0.0492, -0.0265,  0.0738,\n",
       "         -0.0611, -0.0633,  0.0553, -0.0785,  0.0293, -0.0302, -0.0314,  0.0074,\n",
       "         -0.0947, -0.0773,  0.0368, -0.0541, -0.0337,  0.0614, -0.0545,  0.0177,\n",
       "         -0.0443, -0.0070,  0.0396, -0.0042, -0.0018,  0.0810,  0.0925, -0.0382,\n",
       "         -0.0346, -0.0459, -0.0780,  0.0932, -0.0510, -0.0180,  0.0277,  0.0174,\n",
       "         -0.0587,  0.0114,  0.0092, -0.0723,  0.0535,  0.0548, -0.0591,  0.0245,\n",
       "          0.0068,  0.0886, -0.0257,  0.0612, -0.0665,  0.0709,  0.0455,  0.0109,\n",
       "          0.0670, -0.0238, -0.0848, -0.0400, -0.0214,  0.0739,  0.0244,  0.0828,\n",
       "          0.0596, -0.0172,  0.0577,  0.0390, -0.0195, -0.0719, -0.0094, -0.0092,\n",
       "         -0.0871,  0.0469, -0.0429,  0.0552,  0.0681,  0.0897, -0.0414,  0.0072],\n",
       "        device='cuda:0', requires_grad=True),\n",
       " Parameter containing:\n",
       " tensor([[-0.0238,  0.1525,  0.1364,  ..., -0.0600,  0.1510,  0.0301],\n",
       "         [ 0.0249,  0.0741,  0.0999,  ...,  0.1424, -0.0234,  0.1134],\n",
       "         [ 0.0029, -0.0575,  0.0952,  ..., -0.0497,  0.1020, -0.0654],\n",
       "         ...,\n",
       "         [ 0.0580,  0.0846,  0.1081,  ..., -0.0408,  0.0785,  0.1429],\n",
       "         [-0.0464, -0.1444,  0.1490,  ..., -0.0935,  0.0470,  0.0010],\n",
       "         [-0.1222, -0.1002, -0.1325,  ..., -0.1530,  0.1275, -0.1131]],\n",
       "        device='cuda:0', requires_grad=True),\n",
       " Parameter containing:\n",
       " tensor([[ 0.1425,  0.0103,  0.1140,  ...,  0.0750,  0.1025,  0.1437],\n",
       "         [-0.0164, -0.1486, -0.0606,  ...,  0.1405,  0.1398, -0.0479],\n",
       "         [-0.0175,  0.1197,  0.0449,  ...,  0.0783,  0.0666, -0.0761],\n",
       "         ...,\n",
       "         [-0.1467, -0.0127, -0.0645,  ..., -0.1106,  0.0412, -0.0189],\n",
       "         [-0.0648,  0.1086,  0.1453,  ..., -0.1440,  0.0942, -0.0878],\n",
       "         [-0.1155, -0.1218, -0.0850,  ...,  0.0474,  0.1380,  0.0377]],\n",
       "        device='cuda:0', requires_grad=True),\n",
       " Parameter containing:\n",
       " tensor([ 3.4499e-03, -3.1601e-04, -1.3794e-03, -4.6215e-04,  2.9358e-03,\n",
       "          3.5855e-04, -1.2778e-03, -5.0406e-03,  3.8439e-05, -4.5580e-03,\n",
       "         -3.5855e-03,  6.8806e-04,  2.4967e-03, -1.3036e-03,  1.0689e-03,\n",
       "          2.1217e-03,  2.7468e-03, -1.8283e-03, -3.9276e-03, -5.1198e-03,\n",
       "         -5.7511e-04, -6.2598e-03,  1.2695e-03,  5.0538e-03,  6.3920e-04,\n",
       "         -1.1305e-05, -1.1619e-05, -4.4095e-03,  9.4732e-04,  2.2299e-03,\n",
       "         -2.4906e-03, -3.5923e-03,  5.0493e-03, -1.5977e-03, -2.4844e-04,\n",
       "         -1.1820e-03,  4.1051e-03,  1.3605e-03,  5.1094e-03, -2.3400e-03,\n",
       "          2.4301e-03,  8.0281e-04,  1.7844e-03, -2.5991e-03, -9.4683e-04,\n",
       "         -3.7438e-03,  8.0311e-05, -3.2431e-03,  3.1298e-03, -4.3687e-03,\n",
       "          1.7284e-03, -7.0539e-03,  3.0525e-03, -4.2057e-03,  2.0051e-03,\n",
       "          5.9741e-03, -2.7832e-03,  2.2223e-03, -4.3296e-04, -9.7993e-03,\n",
       "         -2.2671e-03,  3.3870e-04,  3.2902e-03, -2.8318e-04,  6.0920e-04,\n",
       "          3.4815e-03,  2.8032e-03,  8.0852e-04,  3.3275e-03,  4.5007e-03,\n",
       "          1.0877e-03,  2.8816e-04, -2.9053e-03,  9.5205e-04, -2.6266e-04,\n",
       "          1.2567e-03, -4.5181e-03,  4.4746e-04, -5.9841e-03,  7.5438e-04,\n",
       "         -1.3737e-03,  2.0411e-03, -4.3952e-03, -8.6238e-05,  5.4106e-04,\n",
       "         -2.2114e-03,  3.2000e-03, -3.2085e-03, -3.8637e-03,  3.1929e-03,\n",
       "         -3.3823e-03, -4.8739e-03, -3.5895e-03,  2.5072e-03, -8.6626e-04,\n",
       "         -7.5771e-04, -2.8198e-03, -1.0552e-03,  3.6143e-03,  7.1759e-05,\n",
       "         -6.4970e-04, -7.3083e-04, -2.9416e-03, -3.7057e-04,  4.0058e-04,\n",
       "          5.8920e-03, -3.2906e-03,  6.1846e-03,  2.9128e-03, -2.2925e-03,\n",
       "          3.2062e-03,  4.1777e-03,  4.4309e-04,  3.8071e-03,  4.8079e-03,\n",
       "          1.3078e-03, -3.7205e-04,  4.3463e-03, -6.0024e-03,  3.6095e-03,\n",
       "         -4.1020e-03,  3.8547e-04,  3.8409e-03,  2.6173e-03, -3.0237e-04,\n",
       "         -1.6815e-03, -3.3988e-03, -1.6514e-03], device='cuda:0',\n",
       "        requires_grad=True),\n",
       " Parameter containing:\n",
       " tensor([[ 0.0590,  0.0279,  0.0587,  ...,  0.0958,  0.1010,  0.1351],\n",
       "         [-0.0511, -0.0497, -0.0606,  ...,  0.1393, -0.0527, -0.0463],\n",
       "         [ 0.0611, -0.0403,  0.0860,  ..., -0.0734, -0.0746, -0.0079],\n",
       "         ...,\n",
       "         [ 0.0433,  0.0149, -0.0956,  ...,  0.1341,  0.1171, -0.0556],\n",
       "         [-0.0205, -0.1192, -0.0600,  ..., -0.1377,  0.1142,  0.0190],\n",
       "         [-0.1329, -0.0006,  0.1397,  ..., -0.0875, -0.0674,  0.0425]],\n",
       "        device='cuda:0', requires_grad=True),\n",
       " Parameter containing:\n",
       " tensor([ 6.0588e-04,  3.0175e-04,  3.3357e-04, -1.8507e-03, -5.0605e-03,\n",
       "         -1.5292e-03,  5.4798e-03, -6.3506e-04, -3.3123e-03,  6.5000e-03,\n",
       "          4.0224e-03,  2.2316e-03, -7.8396e-04, -1.5416e-03, -2.9907e-03,\n",
       "         -2.0541e-03, -5.1289e-03,  4.3554e-04, -3.0733e-04,  1.6145e-03,\n",
       "          2.8666e-03, -5.3565e-03,  4.2375e-03, -9.2237e-03,  9.0646e-04,\n",
       "         -6.6853e-03,  1.2490e-03, -3.2953e-04,  2.8874e-03,  8.9259e-04,\n",
       "         -8.8710e-04,  3.1931e-03, -2.7878e-03,  7.2005e-04,  4.1877e-03,\n",
       "         -5.3461e-03, -2.7409e-03,  3.3317e-03,  2.2007e-03, -5.3260e-03,\n",
       "         -3.5815e-03,  3.0915e-03, -1.3276e-03,  8.8612e-05,  5.1396e-04,\n",
       "         -2.8811e-03,  7.8720e-03,  4.1483e-04,  5.9452e-03,  1.9710e-03,\n",
       "         -1.6430e-03, -6.3242e-04,  6.6284e-03, -1.7322e-04, -3.2492e-03,\n",
       "         -2.1983e-03,  3.4468e-03, -1.9292e-03, -1.9087e-03, -3.7987e-03,\n",
       "          7.5602e-04, -6.8220e-03,  6.1803e-04,  2.1724e-03,  8.7344e-03,\n",
       "          8.1359e-05, -3.2415e-03,  5.1192e-04,  5.9404e-03, -4.7511e-03,\n",
       "          2.9636e-04, -5.9943e-05, -2.9702e-03,  2.3069e-03, -5.9730e-03,\n",
       "          2.6757e-03, -5.1552e-04,  4.1964e-04, -4.8490e-03,  3.2151e-03,\n",
       "          1.5805e-03,  2.6426e-03, -2.3052e-03, -1.5625e-03,  3.7490e-03,\n",
       "          8.7964e-03, -6.0272e-04,  1.4838e-03, -1.0466e-03, -1.1884e-04,\n",
       "          1.5135e-03, -5.8362e-04, -1.8730e-03, -4.9775e-03,  5.0852e-03,\n",
       "          2.8545e-04,  4.5202e-04,  3.2950e-04, -7.7945e-03, -3.4972e-03,\n",
       "          8.2705e-04,  1.9648e-03,  2.0463e-05,  6.8589e-04,  1.6276e-05,\n",
       "          3.7257e-04,  7.7416e-04, -2.5126e-03, -4.0104e-03,  2.6907e-03,\n",
       "         -4.1111e-03,  5.3278e-03, -3.1421e-03, -2.1588e-03, -5.2814e-03,\n",
       "          8.6557e-05,  4.8074e-03, -2.7837e-03,  1.5964e-03, -4.6695e-03,\n",
       "          7.0931e-03,  9.9055e-04,  5.5833e-03,  2.1387e-03, -6.2283e-04,\n",
       "         -1.6727e-03,  2.5381e-04,  3.3646e-04], device='cuda:0',\n",
       "        requires_grad=True),\n",
       " Parameter containing:\n",
       " tensor([[ 0.1923, -0.1055,  0.1702,  ..., -0.1920, -0.1183, -0.1221],\n",
       "         [ 0.0323,  0.0105,  0.1426,  ..., -0.1629,  0.0648, -0.1819],\n",
       "         [ 0.0242,  0.1772,  0.0756,  ...,  0.0301,  0.1977, -0.1470],\n",
       "         ...,\n",
       "         [-0.0102,  0.1243,  0.0996,  ...,  0.0334, -0.2011, -0.0838],\n",
       "         [-0.1107, -0.1576, -0.0908,  ...,  0.0426, -0.1582, -0.0667],\n",
       "         [ 0.1817,  0.0754, -0.1457,  ...,  0.1900, -0.0435,  0.0102]],\n",
       "        device='cuda:0', requires_grad=True),\n",
       " Parameter containing:\n",
       " tensor([-4.8043e-04,  7.0964e-04,  4.5124e-03,  2.3761e-03, -5.0065e-03,\n",
       "         -6.1044e-05,  2.6628e-03, -1.3718e-03, -2.6411e-03, -2.3135e-03,\n",
       "          6.2481e-03, -1.6416e-03,  6.8405e-03, -9.6514e-05, -5.6697e-03,\n",
       "         -2.8997e-03,  2.2112e-03,  3.9669e-04, -2.8927e-03, -4.1004e-03,\n",
       "          3.7181e-03,  2.2227e-03, -8.6956e-04,  4.6094e-03, -2.4776e-03,\n",
       "          1.4531e-03,  2.4697e-03,  1.4991e-03,  2.6716e-03, -7.0319e-03,\n",
       "          5.0178e-04,  9.7284e-03,  2.0193e-05,  4.4373e-03,  3.9785e-03,\n",
       "          3.8010e-03, -1.6673e-03,  3.6370e-03, -4.1936e-03, -8.0850e-04,\n",
       "         -4.5647e-03, -7.8348e-04,  2.2159e-03, -5.1138e-05,  1.2415e-03,\n",
       "         -5.5699e-03,  3.2160e-03,  1.6518e-04,  2.4808e-03,  1.7544e-03,\n",
       "          3.5581e-03,  2.1843e-03,  1.6858e-04,  6.8610e-03, -3.9196e-03,\n",
       "         -3.7617e-03, -5.6376e-04, -3.3698e-03,  1.0584e-04, -3.9592e-03,\n",
       "          4.3523e-03, -4.1873e-03, -3.8958e-03, -1.8596e-03,  8.2255e-03,\n",
       "          2.3341e-03, -9.0564e-03,  3.6756e-03,  1.3746e-03, -7.1496e-04,\n",
       "         -1.2429e-03, -1.9876e-03, -3.9824e-03,  4.3109e-03, -9.2713e-04,\n",
       "         -1.3373e-03, -2.2354e-03, -1.4859e-03, -4.3578e-03,  8.8074e-04,\n",
       "         -1.5463e-03, -2.5949e-03, -3.4068e-03, -1.0705e-03,  2.8236e-03,\n",
       "          3.0416e-03,  4.4643e-03, -3.5767e-03, -2.7599e-04,  2.1013e-03,\n",
       "          1.3942e-03,  6.9769e-03, -9.9102e-04, -3.7386e-03,  3.0052e-03,\n",
       "          5.3681e-03,  3.7301e-03, -9.6462e-03, -2.9904e-03, -1.7756e-03,\n",
       "         -7.1012e-03, -2.0895e-03,  5.2573e-04,  4.3147e-03, -3.0309e-03,\n",
       "         -9.2384e-04,  4.0810e-03, -2.7352e-03, -2.4055e-03,  1.0062e-02,\n",
       "          6.5963e-04, -1.5930e-03,  1.9779e-03, -1.8761e-03, -1.5237e-03,\n",
       "          1.4675e-03, -7.9268e-04,  6.3689e-03,  8.0187e-04, -1.9866e-03,\n",
       "         -3.8733e-03,  4.0623e-03,  5.7084e-03,  5.3323e-04,  5.1998e-03,\n",
       "         -4.3977e-03,  4.0089e-03, -6.4678e-03], device='cuda:0',\n",
       "        requires_grad=True),\n",
       " Parameter containing:\n",
       " tensor([[ 0.1503, -0.0242, -0.0656,  ..., -0.0333, -0.0710,  0.0502],\n",
       "         [-0.0357, -0.0691, -0.0336,  ...,  0.0565, -0.1410,  0.0753],\n",
       "         [-0.0782, -0.0786, -0.0693,  ...,  0.0778, -0.0542, -0.1358],\n",
       "         ...,\n",
       "         [-0.1245, -0.0977, -0.1493,  ...,  0.0918,  0.1059,  0.0528],\n",
       "         [-0.0127, -0.0767,  0.1360,  ..., -0.1217,  0.1462, -0.0078],\n",
       "         [-0.0245, -0.0370,  0.1526,  ..., -0.1192, -0.0929, -0.1515]],\n",
       "        device='cuda:0', requires_grad=True),\n",
       " Parameter containing:\n",
       " tensor([ 0.0010,  0.0370,  0.0290,  0.0670, -0.0242, -0.0531,  0.0245, -0.0516,\n",
       "          0.0428,  0.0492, -0.0317,  0.0232,  0.0447, -0.0230,  0.0319,  0.0652,\n",
       "         -0.0840, -0.0198,  0.0121,  0.0242, -0.0497,  0.0291,  0.0603, -0.0711,\n",
       "         -0.0777,  0.0175,  0.0162,  0.0792, -0.0618,  0.0406,  0.0017,  0.0849,\n",
       "          0.0640, -0.0559,  0.0221, -0.0179,  0.0324, -0.0567, -0.0846,  0.0492,\n",
       "          0.0814, -0.0527, -0.0304,  0.0974, -0.0874,  0.0894, -0.0023, -0.0145,\n",
       "         -0.0729,  0.0419,  0.0283, -0.0516,  0.0190, -0.0258, -0.0552,  0.0450,\n",
       "          0.0894,  0.0590, -0.0267, -0.0218,  0.0268,  0.0086, -0.0683,  0.0145,\n",
       "         -0.0284, -0.0752,  0.0155, -0.0836,  0.0320, -0.0284,  0.0595,  0.0540,\n",
       "          0.0435, -0.0035,  0.0649, -0.0057,  0.0550, -0.0534,  0.0229,  0.0244,\n",
       "         -0.0314,  0.0435, -0.0884,  0.0519, -0.0665, -0.0756, -0.0124, -0.0557,\n",
       "         -0.0658,  0.0274, -0.0643, -0.0181,  0.0746, -0.0147,  0.0925,  0.0320,\n",
       "          0.0581,  0.0123, -0.0347,  0.0594, -0.0072,  0.0478, -0.0042, -0.0330,\n",
       "         -0.0014, -0.0578, -0.0861, -0.0117, -0.0619,  0.0251, -0.0210,  0.0621,\n",
       "         -0.0752,  0.0520,  0.0496, -0.0586, -0.0569, -0.0617,  0.0204, -0.0216,\n",
       "          0.0057, -0.0261,  0.0622, -0.0824,  0.0032,  0.0678, -0.0844, -0.0515],\n",
       "        device='cuda:0', requires_grad=True),\n",
       " Parameter containing:\n",
       " tensor([[-0.0288,  0.0653, -0.1189,  ..., -0.1018, -0.1023,  0.0890],\n",
       "         [-0.1153, -0.0176, -0.0622,  ..., -0.1085, -0.0784, -0.1074],\n",
       "         [ 0.0958,  0.0562, -0.1327,  ...,  0.0900,  0.0556, -0.0338],\n",
       "         ...,\n",
       "         [-0.0726, -0.0526, -0.0502,  ..., -0.0757, -0.0421,  0.0496],\n",
       "         [-0.0303, -0.0720, -0.0825,  ...,  0.1246,  0.0665,  0.1286],\n",
       "         [-0.0337, -0.0134,  0.0231,  ...,  0.1131,  0.0667,  0.1453]],\n",
       "        device='cuda:0', requires_grad=True),\n",
       " Parameter containing:\n",
       " tensor([[-0.0518, -0.0743, -0.1442,  ..., -0.0019, -0.1243,  0.0156],\n",
       "         [ 0.0561, -0.0148, -0.0650,  ..., -0.0078, -0.1013, -0.0440],\n",
       "         [-0.0602, -0.0768,  0.1178,  ...,  0.0124, -0.1010,  0.1370],\n",
       "         ...,\n",
       "         [ 0.1471, -0.0200, -0.1240,  ...,  0.1318,  0.1219, -0.0810],\n",
       "         [-0.0519,  0.1489, -0.0836,  ...,  0.0302,  0.1332,  0.0649],\n",
       "         [ 0.0623,  0.0703, -0.1057,  ..., -0.1509,  0.0532,  0.0512]],\n",
       "        device='cuda:0', requires_grad=True),\n",
       " Parameter containing:\n",
       " tensor([ 6.0805e-03, -4.7137e-03,  1.3284e-03, -3.7661e-03,  3.7534e-03,\n",
       "          2.8312e-03, -4.2158e-04,  1.3783e-03, -2.0568e-03,  5.9350e-04,\n",
       "          7.0732e-03, -3.4249e-03, -3.6905e-03,  3.5389e-03,  4.5189e-03,\n",
       "         -1.1750e-03, -3.5561e-04, -5.5814e-05,  4.6782e-03,  4.2604e-03,\n",
       "         -3.0126e-03, -1.9867e-03, -2.6048e-03,  3.6929e-03,  1.6955e-03,\n",
       "         -5.5520e-04,  2.8604e-03,  1.1206e-03, -1.2250e-03, -2.5355e-04,\n",
       "          2.3816e-03,  4.6105e-03,  3.2178e-03,  6.3495e-03, -4.3892e-03,\n",
       "         -3.0844e-03, -5.1864e-03, -3.9069e-03, -3.7806e-03,  1.2938e-03,\n",
       "          2.6922e-03, -2.5449e-03,  4.1675e-03, -3.9291e-03, -6.6571e-04,\n",
       "          2.5029e-05,  2.4781e-03, -3.8415e-03, -4.0822e-03,  4.8759e-03,\n",
       "         -5.8641e-03, -1.4151e-03, -2.0297e-03, -2.1110e-03,  1.2143e-03,\n",
       "          5.1434e-03,  2.1104e-03,  2.4387e-03, -1.1811e-03,  4.2717e-03,\n",
       "          8.2504e-03,  7.9914e-05,  4.8567e-04,  1.0366e-03,  1.5584e-03,\n",
       "         -9.9544e-04, -5.9261e-03, -6.8723e-04, -1.1400e-03,  5.1584e-03,\n",
       "         -4.4495e-03,  1.8452e-03, -6.1972e-06, -1.8611e-03,  1.7448e-03,\n",
       "          3.1524e-03, -5.0092e-03, -1.4587e-03, -1.9841e-03,  3.0250e-03,\n",
       "          4.1537e-03, -4.1068e-03, -4.5938e-03, -2.1598e-03, -4.3515e-03,\n",
       "          9.0061e-04,  4.7683e-03,  5.3779e-04, -4.9838e-04,  5.2477e-03,\n",
       "          5.1717e-03,  2.9740e-04, -7.8642e-03,  5.3000e-04, -6.0401e-03,\n",
       "          1.2932e-03, -4.3057e-03,  7.1137e-03, -1.2656e-03, -1.1091e-03,\n",
       "          5.6842e-03, -6.4054e-03,  3.3347e-03, -2.6229e-03,  4.2083e-03,\n",
       "          1.0213e-03, -1.2761e-03,  4.7533e-03, -2.1510e-03,  5.2584e-03,\n",
       "         -1.3337e-03, -2.8026e-03, -5.3157e-03, -1.4370e-03,  3.7905e-03,\n",
       "          1.9390e-03, -1.6948e-03, -3.6490e-03, -5.0892e-04,  7.1149e-03,\n",
       "          2.8893e-03, -1.1253e-03, -5.2829e-03, -3.1467e-03, -1.2520e-03,\n",
       "         -4.4727e-03,  3.9006e-03, -1.9681e-03], device='cuda:0',\n",
       "        requires_grad=True),\n",
       " Parameter containing:\n",
       " tensor([[ 0.0268,  0.0096,  0.0953,  ...,  0.1291,  0.0607,  0.0477],\n",
       "         [-0.0934,  0.0880,  0.1120,  ..., -0.0532, -0.0646, -0.1353],\n",
       "         [-0.1414, -0.0348,  0.0289,  ...,  0.0708,  0.0765,  0.0053],\n",
       "         ...,\n",
       "         [ 0.1384,  0.1592,  0.0206,  ..., -0.1365, -0.0789, -0.0003],\n",
       "         [ 0.0828,  0.1104,  0.0475,  ..., -0.0947,  0.1498,  0.1171],\n",
       "         [ 0.0380,  0.0746,  0.0555,  ..., -0.0039,  0.0204, -0.0173]],\n",
       "        device='cuda:0', requires_grad=True),\n",
       " Parameter containing:\n",
       " tensor([-0.0018,  0.0014,  0.0005, -0.0029, -0.0004, -0.0040,  0.0093, -0.0018,\n",
       "         -0.0018,  0.0038,  0.0048,  0.0003,  0.0002,  0.0007, -0.0005, -0.0053,\n",
       "         -0.0019, -0.0028, -0.0019,  0.0026,  0.0011, -0.0044,  0.0035, -0.0070,\n",
       "          0.0037, -0.0041, -0.0009, -0.0013, -0.0024,  0.0031, -0.0043, -0.0001,\n",
       "          0.0041, -0.0053,  0.0047, -0.0026, -0.0010,  0.0039,  0.0013, -0.0072,\n",
       "         -0.0047,  0.0011, -0.0025,  0.0018, -0.0005, -0.0045,  0.0109,  0.0014,\n",
       "          0.0068,  0.0041,  0.0032,  0.0012,  0.0059, -0.0014, -0.0018, -0.0015,\n",
       "          0.0015, -0.0020,  0.0011, -0.0021,  0.0009, -0.0056,  0.0010,  0.0013,\n",
       "          0.0019,  0.0006, -0.0020,  0.0026,  0.0020, -0.0072, -0.0007, -0.0016,\n",
       "         -0.0032,  0.0044, -0.0037,  0.0082, -0.0009,  0.0011, -0.0060,  0.0043,\n",
       "          0.0009,  0.0004, -0.0041, -0.0037,  0.0022,  0.0062, -0.0029,  0.0081,\n",
       "          0.0019, -0.0022, -0.0010,  0.0030, -0.0030, -0.0063,  0.0017,  0.0017,\n",
       "          0.0006, -0.0007, -0.0058, -0.0098, -0.0012,  0.0008, -0.0020, -0.0002,\n",
       "          0.0034,  0.0002,  0.0010, -0.0034, -0.0078, -0.0034, -0.0067,  0.0063,\n",
       "         -0.0065, -0.0050, -0.0065,  0.0003,  0.0033, -0.0043,  0.0044, -0.0085,\n",
       "          0.0065,  0.0003,  0.0055,  0.0014, -0.0003, -0.0050, -0.0009,  0.0035],\n",
       "        device='cuda:0', requires_grad=True),\n",
       " Parameter containing:\n",
       " tensor([[-0.1252, -0.1566,  0.1854,  ...,  0.0007,  0.0928, -0.1625],\n",
       "         [ 0.1694,  0.1674, -0.0393,  ...,  0.1751,  0.1293,  0.0231],\n",
       "         [-0.1313,  0.0987,  0.1665,  ..., -0.0847, -0.1540,  0.1548],\n",
       "         ...,\n",
       "         [-0.0268,  0.0621,  0.0399,  ...,  0.1246,  0.0708, -0.1836],\n",
       "         [ 0.0443, -0.0718, -0.1522,  ...,  0.1752,  0.0305,  0.0348],\n",
       "         [ 0.0948,  0.1715,  0.1583,  ...,  0.0478, -0.1181, -0.1383]],\n",
       "        device='cuda:0', requires_grad=True),\n",
       " Parameter containing:\n",
       " tensor([-1.7749e-03,  4.7496e-03,  6.1383e-03, -3.1758e-04, -4.5521e-03,\n",
       "         -4.1968e-03, -2.3190e-04,  1.5327e-03,  2.8514e-03,  6.4016e-04,\n",
       "         -1.0619e-02, -2.4419e-03,  8.4854e-03, -3.2182e-03, -3.8470e-03,\n",
       "          1.2864e-03,  9.4388e-04, -2.8098e-03, -2.3682e-04,  3.5068e-03,\n",
       "         -2.6709e-03, -3.8034e-03, -3.1158e-03,  2.1785e-03,  1.1820e-03,\n",
       "          1.8370e-06,  1.9015e-03,  6.0469e-03,  2.6980e-03,  3.5975e-03,\n",
       "         -2.2231e-03,  2.1697e-03,  1.4200e-03,  2.5723e-03, -1.1635e-03,\n",
       "         -6.4959e-03, -7.5545e-04,  1.4477e-04, -8.3267e-04, -1.8275e-03,\n",
       "          9.6081e-04,  4.3079e-03,  1.3202e-03, -3.9836e-03, -6.4434e-03,\n",
       "         -4.5428e-03,  6.1655e-03, -6.7374e-04, -5.4108e-03,  9.2754e-03,\n",
       "         -2.4136e-03, -7.8206e-03, -4.0502e-03,  4.5099e-03,  1.0317e-02,\n",
       "          3.8952e-03,  8.2348e-04,  1.9317e-03,  7.0528e-03,  3.0349e-03,\n",
       "          2.4323e-03,  8.3054e-04, -1.2448e-03, -7.4629e-03,  2.0467e-03,\n",
       "          7.4629e-03,  7.5863e-03,  6.9838e-03,  9.7513e-04,  4.2488e-03,\n",
       "         -3.9275e-03,  6.6781e-03,  2.0591e-05,  5.3391e-05,  6.5032e-04,\n",
       "         -1.0040e-03, -4.2368e-03,  2.3463e-03, -3.4688e-03, -5.3503e-03,\n",
       "         -3.1205e-03,  3.8923e-03, -3.6008e-03, -4.5428e-03,  3.0014e-03,\n",
       "         -1.5160e-04,  4.4358e-04, -4.3634e-03,  3.2611e-03, -5.1812e-03,\n",
       "         -4.4711e-03, -1.4857e-03, -6.9384e-04,  6.9828e-03, -2.8471e-03,\n",
       "         -2.8209e-03,  7.3888e-04,  1.1723e-04, -4.5993e-04, -3.4944e-03,\n",
       "          1.7696e-03,  3.2106e-03, -2.9595e-03, -2.3817e-03, -3.7277e-03,\n",
       "          5.7032e-03, -1.4565e-03,  6.7840e-03, -4.3774e-04,  2.5076e-03,\n",
       "          3.8768e-03, -5.4349e-03, -1.4246e-03,  4.4815e-03, -3.3006e-03,\n",
       "         -1.5869e-03, -9.4253e-03,  3.9393e-03,  1.5737e-03, -6.3596e-05,\n",
       "          3.8359e-03, -1.8517e-04, -3.0636e-03, -2.0706e-03,  2.5223e-03,\n",
       "          5.2678e-03, -4.8857e-04,  3.5873e-03], device='cuda:0',\n",
       "        requires_grad=True),\n",
       " Parameter containing:\n",
       " tensor([[-0.0796,  0.0969, -0.0342,  ..., -0.1170, -0.1278, -0.1108],\n",
       "         [-0.0594,  0.1064,  0.0392,  ..., -0.0635, -0.0361,  0.0110],\n",
       "         [ 0.1444, -0.0415,  0.0060,  ..., -0.0549, -0.0539, -0.1170],\n",
       "         ...,\n",
       "         [ 0.0142,  0.0094, -0.0192,  ...,  0.0760,  0.0759,  0.0973],\n",
       "         [-0.0736, -0.1051, -0.1157,  ..., -0.1230,  0.0446, -0.0055],\n",
       "         [ 0.1460, -0.0393, -0.0020,  ..., -0.1530, -0.1339, -0.1266]],\n",
       "        device='cuda:0', requires_grad=True),\n",
       " Parameter containing:\n",
       " tensor([ 0.0661,  0.0578,  0.0170,  0.0260, -0.0894, -0.0179,  0.0114,  0.0230,\n",
       "         -0.0749,  0.0855,  0.0625, -0.0351,  0.0491, -0.0141,  0.0410, -0.0056,\n",
       "         -0.0463, -0.0886, -0.0649,  0.0680,  0.0617, -0.0626,  0.0385,  0.0420,\n",
       "         -0.0194, -0.0087, -0.0019,  0.0118, -0.0285, -0.0555,  0.0175,  0.0887,\n",
       "         -0.0496,  0.0132, -0.0111, -0.0444, -0.0482,  0.0919,  0.0141, -0.0093,\n",
       "          0.0768, -0.0705,  0.0658,  0.0641,  0.0490, -0.0037,  0.0504, -0.0555,\n",
       "         -0.0007, -0.0014, -0.0253,  0.0886, -0.0269,  0.0463, -0.0638,  0.0286,\n",
       "         -0.0568, -0.0164,  0.0077, -0.0572, -0.0027, -0.0656,  0.0340,  0.0320,\n",
       "         -0.0020, -0.0857,  0.0073, -0.0400, -0.0445,  0.0321, -0.0783, -0.0683,\n",
       "         -0.0112, -0.0857,  0.0776, -0.0885, -0.0922,  0.0173, -0.0405,  0.0042,\n",
       "          0.0318,  0.0155, -0.0050,  0.0161,  0.0595, -0.0487, -0.0039, -0.0060,\n",
       "         -0.0237,  0.0373, -0.0849, -0.0005, -0.0040, -0.0803, -0.0088,  0.0610,\n",
       "         -0.0509, -0.0079, -0.0512,  0.0117, -0.0208, -0.0787,  0.0320, -0.0245,\n",
       "          0.0297,  0.0302,  0.0234, -0.0055, -0.0382, -0.0093,  0.0512,  0.0408,\n",
       "          0.0374,  0.0227, -0.0032,  0.0803, -0.0471,  0.0208,  0.0780,  0.0660,\n",
       "         -0.0334, -0.0210,  0.0795, -0.0040, -0.0143,  0.0629, -0.0003,  0.0667],\n",
       "        device='cuda:0', requires_grad=True),\n",
       " Parameter containing:\n",
       " tensor([[-0.1290, -0.0478,  0.0795,  ...,  0.1317, -0.1408, -0.1384],\n",
       "         [ 0.0690,  0.0982,  0.1390,  ...,  0.1261,  0.1410,  0.0896],\n",
       "         [-0.0748, -0.0291,  0.0436,  ...,  0.0618,  0.1088, -0.0081],\n",
       "         ...,\n",
       "         [ 0.0249,  0.0357,  0.0580,  ...,  0.0493,  0.1184, -0.1423],\n",
       "         [ 0.1339, -0.0671,  0.0383,  ...,  0.0640, -0.0113, -0.1100],\n",
       "         [-0.1316,  0.0440,  0.1030,  ..., -0.1254,  0.0087, -0.1463]],\n",
       "        device='cuda:0', requires_grad=True),\n",
       " Parameter containing:\n",
       " tensor([[-0.0046,  0.1444,  0.0759,  ..., -0.1106, -0.1295,  0.0148],\n",
       "         [ 0.0206, -0.1066,  0.0061,  ...,  0.1439, -0.0444, -0.0671],\n",
       "         [-0.0887,  0.0105,  0.1063,  ...,  0.0102,  0.0852, -0.0440],\n",
       "         ...,\n",
       "         [-0.1197, -0.0749, -0.1423,  ..., -0.0503,  0.0442,  0.1506],\n",
       "         [-0.0038, -0.1403,  0.1091,  ..., -0.0331,  0.0955, -0.0588],\n",
       "         [-0.1127,  0.1133, -0.0204,  ...,  0.1359,  0.1285, -0.1032]],\n",
       "        device='cuda:0', requires_grad=True),\n",
       " Parameter containing:\n",
       " tensor([ 4.0290e-03, -3.4667e-03,  9.5839e-03, -3.2955e-03,  2.6295e-03,\n",
       "          1.0309e-03, -1.5735e-03,  3.4448e-03,  2.3436e-03, -9.1597e-04,\n",
       "         -1.1099e-03,  6.1605e-04,  5.6546e-03,  3.0929e-03, -6.1978e-04,\n",
       "          8.3358e-03,  3.4624e-03, -3.2354e-03, -2.0712e-03, -3.1646e-03,\n",
       "         -7.1251e-04,  2.9201e-05, -1.3179e-04,  1.2597e-03, -1.0789e-03,\n",
       "         -3.5039e-03,  9.3971e-04,  2.2938e-03, -3.5453e-03,  2.4491e-03,\n",
       "         -5.9440e-03, -1.7424e-03,  5.0664e-04,  4.3607e-04, -7.8961e-03,\n",
       "          1.0885e-03,  3.9170e-03,  7.7742e-03, -5.5112e-03, -6.6202e-03,\n",
       "          1.4088e-03, -3.2631e-03, -1.3865e-03, -4.0057e-03,  2.6680e-03,\n",
       "          7.6388e-03,  1.4816e-03, -3.4180e-03, -4.0101e-03, -9.5922e-04,\n",
       "         -4.0867e-03,  8.8165e-04,  5.9757e-03,  5.8433e-03, -5.4270e-03,\n",
       "         -4.2593e-03,  3.6187e-03,  3.0455e-03,  5.1814e-03, -1.9666e-03,\n",
       "         -3.6272e-04, -2.9603e-03, -1.2527e-03,  2.4262e-03,  1.0110e-02,\n",
       "         -9.5652e-04,  3.3295e-03,  1.5345e-03,  1.5267e-03,  3.2373e-03,\n",
       "          3.9976e-04, -7.1221e-04,  3.2142e-03,  8.7833e-03,  7.1496e-03,\n",
       "         -1.9486e-03, -5.6528e-03, -3.8776e-03,  5.5377e-03, -1.3268e-04,\n",
       "          8.4676e-03, -3.2112e-03,  3.7454e-03, -2.8314e-03,  2.1983e-03,\n",
       "         -2.0260e-03,  6.8579e-03, -3.6096e-03,  4.2275e-03, -2.9008e-03,\n",
       "         -2.6218e-03, -6.7142e-03,  2.1021e-03, -1.2587e-03,  3.0462e-03,\n",
       "         -1.2562e-03,  1.3368e-03,  1.0087e-03,  6.1363e-03, -5.0063e-03,\n",
       "          3.5788e-04,  3.1174e-03,  7.2858e-03,  3.0852e-03, -3.0572e-03,\n",
       "          3.1342e-03,  3.4466e-03,  1.4942e-03,  9.9822e-03, -1.6685e-03,\n",
       "          1.6136e-03,  6.5451e-03, -9.3330e-03,  5.1881e-03, -4.8571e-03,\n",
       "         -1.4125e-03,  8.6267e-04,  1.1134e-03, -6.7737e-03,  1.4687e-03,\n",
       "         -2.9730e-04, -2.8547e-03,  1.4365e-03,  3.2923e-03, -1.9740e-03,\n",
       "          6.9285e-04, -3.5449e-03,  9.2250e-04], device='cuda:0',\n",
       "        requires_grad=True),\n",
       " Parameter containing:\n",
       " tensor([[-0.1448,  0.0290, -0.0739,  ..., -0.1221, -0.1128,  0.0646],\n",
       "         [-0.0525,  0.0628,  0.0928,  ...,  0.1260, -0.0130, -0.0890],\n",
       "         [-0.1108, -0.1155, -0.1077,  ..., -0.0465,  0.0545, -0.1522],\n",
       "         ...,\n",
       "         [ 0.0283,  0.0688,  0.0599,  ...,  0.0031, -0.1011,  0.1440],\n",
       "         [ 0.0090,  0.0170, -0.1056,  ...,  0.1560, -0.0870,  0.1091],\n",
       "         [-0.0647, -0.1503,  0.0275,  ..., -0.1387,  0.0715, -0.1440]],\n",
       "        device='cuda:0', requires_grad=True),\n",
       " Parameter containing:\n",
       " tensor([-2.8973e-03, -8.6327e-05, -6.5747e-04, -4.6935e-04,  1.3789e-03,\n",
       "         -7.8862e-03,  8.5150e-03,  1.8423e-04, -5.5506e-03,  4.5801e-03,\n",
       "          8.1884e-04, -1.0743e-04, -2.7335e-03,  8.3375e-05,  6.2367e-05,\n",
       "         -4.6973e-03, -5.6940e-03,  1.5031e-03, -1.8669e-03, -5.0045e-04,\n",
       "          3.4124e-03, -2.9779e-03,  1.4594e-03, -5.0945e-03,  4.8869e-03,\n",
       "         -4.6309e-03, -3.1845e-03, -4.6913e-03, -3.8249e-04, -2.2704e-06,\n",
       "         -7.2707e-03, -6.5905e-03,  2.9396e-03, -6.5324e-03, -1.4017e-03,\n",
       "         -1.8293e-03,  2.4066e-03,  3.9411e-03,  2.2106e-03, -5.0134e-03,\n",
       "         -1.9489e-03,  1.5614e-03,  6.4056e-05,  4.4440e-03,  1.1650e-04,\n",
       "          1.7945e-03,  1.3485e-02, -1.2666e-03,  7.4115e-03,  4.7747e-03,\n",
       "          2.4041e-03,  3.0065e-04,  7.0999e-03, -9.2790e-04, -5.7276e-03,\n",
       "         -8.1658e-04,  1.4090e-03, -2.8341e-03, -1.6153e-03, -3.3754e-03,\n",
       "          7.4178e-04, -4.5382e-03,  2.5886e-03,  7.3612e-03,  8.1431e-03,\n",
       "         -1.2494e-03,  4.7465e-03,  1.4187e-03,  1.9711e-03, -6.7991e-03,\n",
       "         -2.0459e-03, -3.2072e-03, -4.4435e-03,  3.4433e-03, -2.7708e-03,\n",
       "          3.1643e-03, -1.7972e-03,  3.0403e-03, -7.0264e-04,  2.8364e-03,\n",
       "         -1.0844e-03,  2.1697e-03, -3.5548e-03, -3.2072e-03,  1.9354e-03,\n",
       "          1.0132e-02, -7.3582e-04,  7.5658e-03,  7.7993e-03, -2.2531e-03,\n",
       "         -4.3698e-03,  4.1860e-03, -7.2639e-05, -6.4435e-03,  6.6356e-03,\n",
       "          2.5492e-03, -2.6028e-03, -3.9039e-03, -2.5055e-03, -4.7486e-03,\n",
       "         -1.3067e-03,  3.4295e-03, -1.9664e-03,  2.5946e-03,  5.3271e-03,\n",
       "         -2.5704e-03, -3.3763e-03, -3.7648e-03, -3.9888e-03, -4.3731e-03,\n",
       "         -7.0573e-03,  8.1835e-03, -3.9074e-03, -5.2246e-03, -5.7268e-03,\n",
       "          2.0888e-04,  2.1070e-04, -6.5691e-03,  1.0000e-02, -9.0561e-03,\n",
       "          8.1299e-03,  2.7332e-04,  6.2314e-03,  1.4829e-03,  1.3023e-03,\n",
       "         -1.0580e-02,  5.7287e-03,  4.1046e-03], device='cuda:0',\n",
       "        requires_grad=True),\n",
       " Parameter containing:\n",
       " tensor([[-0.1649,  0.0416, -0.1376,  ...,  0.0725,  0.1237,  0.1283],\n",
       "         [-0.0905, -0.0297, -0.1088,  ...,  0.1025, -0.0308,  0.1616],\n",
       "         [-0.0778,  0.1630, -0.0718,  ..., -0.0680, -0.0471,  0.1290],\n",
       "         ...,\n",
       "         [-0.0216,  0.1566, -0.0358,  ..., -0.0683,  0.0187,  0.0838],\n",
       "         [ 0.0839, -0.0624, -0.1026,  ..., -0.1676, -0.0881, -0.1244],\n",
       "         [ 0.0752, -0.1340,  0.0231,  ..., -0.1234, -0.0204,  0.1234]],\n",
       "        device='cuda:0', requires_grad=True),\n",
       " Parameter containing:\n",
       " tensor([ 4.7396e-04, -7.2230e-04, -2.1570e-03, -1.1524e-03,  9.7996e-03,\n",
       "         -5.0861e-03,  5.9012e-04, -5.9554e-03,  2.5263e-03,  3.0803e-03,\n",
       "          7.2710e-03, -5.2985e-03, -3.9544e-03, -6.1629e-03, -5.3743e-03,\n",
       "          2.9089e-03, -1.5112e-03,  1.5281e-03, -5.9909e-03,  8.5401e-03,\n",
       "         -2.3882e-03,  3.0317e-03, -2.0888e-03, -3.5335e-03,  6.8949e-03,\n",
       "         -1.0011e-02,  7.0858e-04, -7.3641e-03, -2.9689e-03,  1.3108e-03,\n",
       "         -4.3961e-03, -7.6007e-03,  1.7084e-03, -9.2024e-03,  4.4174e-03,\n",
       "         -3.1964e-03,  3.1533e-03,  1.0744e-02, -2.6978e-03,  5.6295e-04,\n",
       "         -7.4428e-04,  8.9278e-03, -8.1995e-03, -5.4210e-03, -8.3125e-04,\n",
       "          3.9084e-03, -8.8828e-03, -5.8478e-05, -4.9417e-03, -5.9234e-03,\n",
       "         -4.6672e-04, -1.8035e-03,  4.2370e-03, -9.5499e-03, -2.4949e-03,\n",
       "         -1.2423e-04,  9.2058e-04,  4.0950e-03, -9.9938e-03,  4.1316e-03,\n",
       "         -1.0726e-03,  5.1476e-03,  5.5137e-03,  2.1807e-03], device='cuda:0',\n",
       "        requires_grad=True),\n",
       " Parameter containing:\n",
       " tensor([[-0.2405,  0.0379,  0.3081, -0.0874,  0.1751, -0.0910,  0.0183, -0.2016,\n",
       "          -0.0843, -0.2490,  0.1772, -0.2004,  0.3045,  0.0104, -0.1909,  0.0944,\n",
       "          -0.2527, -0.0036,  0.1564,  0.0441,  0.0897,  0.2497, -0.2844, -0.1462,\n",
       "           0.0240, -0.1746, -0.2386, -0.0672, -0.1306, -0.2889,  0.0851,  0.1553,\n",
       "           0.0113, -0.0360,  0.2954, -0.3039,  0.1821,  0.1440, -0.1525,  0.1930,\n",
       "          -0.1979,  0.1711,  0.0352, -0.1466, -0.2916, -0.1375, -0.0886,  0.1781,\n",
       "           0.1355, -0.1956, -0.0208, -0.2300, -0.2406, -0.3033,  0.0221,  0.1100,\n",
       "           0.0190, -0.3084,  0.0297, -0.2221, -0.0367, -0.0380,  0.1586, -0.0146]],\n",
       "        device='cuda:0', requires_grad=True),\n",
       " Parameter containing:\n",
       " tensor([0.], device='cuda:0', requires_grad=True)]"
      ]
     },
     "execution_count": 21,
     "metadata": {},
     "output_type": "execute_result"
    }
   ],
   "source": [
    "list(model.parameters())"
   ]
  },
  {
   "cell_type": "markdown",
   "id": "b9965945-d6ed-44ed-985b-4ddc513394cd",
   "metadata": {},
   "source": [
    "Prepare the system"
   ]
  },
  {
   "cell_type": "code",
   "execution_count": 67,
   "id": "4c1136bb-4714-490b-9ccb-339245e5938b",
   "metadata": {},
   "outputs": [],
   "source": [
    "# Define forces and parameters\n",
    "forces = setup_forces(mol, args.forcefield, args.forceterms, external = external, device=args.device, \n",
    "                        cutoff=args.cutoff, rfa=args.rfa, switch_dist=args.switch_dist\n",
    "                        )   \n",
    "# System\n",
    "system = setup_system(mol, forces, replicas=args.replicas, T=args.temperature,\n",
    "                        device=args.device\n",
    "                         )"
   ]
  },
  {
   "cell_type": "code",
   "execution_count": null,
   "id": "12028f71-ca94-40f4-9756-a970f38c6022",
   "metadata": {},
   "outputs": [],
   "source": []
  },
  {
   "cell_type": "markdown",
   "id": "99c6cecd-9fa9-4de9-8880-44c1d74a7059",
   "metadata": {},
   "source": [
    "Run the simulation"
   ]
  },
  {
   "cell_type": "code",
   "execution_count": 57,
   "id": "43659ac1-e168-4624-99b6-bb2f881f3fa0",
   "metadata": {},
   "outputs": [
    {
     "name": "stderr",
     "output_type": "stream",
     "text": [
      " 42%|█████████████████▋                        | 84/200 [05:20<07:22,  3.81s/it]\n"
     ]
    },
    {
     "ename": "KeyboardInterrupt",
     "evalue": "",
     "output_type": "error",
     "traceback": [
      "\u001b[0;31m---------------------------------------------------------------------------\u001b[0m",
      "\u001b[0;31mKeyboardInterrupt\u001b[0m                         Traceback (most recent call last)",
      "\u001b[0;32m/tmp/ipykernel_287474/2483131656.py\u001b[0m in \u001b[0;36m<module>\u001b[0;34m\u001b[0m\n\u001b[1;32m     13\u001b[0m \u001b[0;34m\u001b[0m\u001b[0m\n\u001b[1;32m     14\u001b[0m \u001b[0;32mfor\u001b[0m \u001b[0mi\u001b[0m \u001b[0;32min\u001b[0m \u001b[0miterator\u001b[0m\u001b[0;34m:\u001b[0m\u001b[0;34m\u001b[0m\u001b[0;34m\u001b[0m\u001b[0m\n\u001b[0;32m---> 15\u001b[0;31m     \u001b[0mEkin\u001b[0m\u001b[0;34m,\u001b[0m \u001b[0mEpot\u001b[0m\u001b[0;34m,\u001b[0m \u001b[0mT\u001b[0m \u001b[0;34m=\u001b[0m \u001b[0mintegrator\u001b[0m\u001b[0;34m.\u001b[0m\u001b[0mstep\u001b[0m\u001b[0;34m(\u001b[0m\u001b[0mniter\u001b[0m\u001b[0;34m=\u001b[0m\u001b[0moutput_period\u001b[0m\u001b[0;34m)\u001b[0m\u001b[0;34m\u001b[0m\u001b[0;34m\u001b[0m\u001b[0m\n\u001b[0m",
      "\u001b[0;32m/shared/carles/miniconda3/envs/torchmd-net/lib/python3.8/site-packages/torchmd/integrator.py\u001b[0m in \u001b[0;36mstep\u001b[0;34m(self, niter)\u001b[0m\n\u001b[1;32m     66\u001b[0m         \u001b[0;32mfor\u001b[0m \u001b[0m_\u001b[0m \u001b[0;32min\u001b[0m \u001b[0mrange\u001b[0m\u001b[0;34m(\u001b[0m\u001b[0mniter\u001b[0m\u001b[0;34m)\u001b[0m\u001b[0;34m:\u001b[0m\u001b[0;34m\u001b[0m\u001b[0;34m\u001b[0m\u001b[0m\n\u001b[1;32m     67\u001b[0m             \u001b[0m_first_VV\u001b[0m\u001b[0;34m(\u001b[0m\u001b[0ms\u001b[0m\u001b[0;34m.\u001b[0m\u001b[0mpos\u001b[0m\u001b[0;34m,\u001b[0m \u001b[0ms\u001b[0m\u001b[0;34m.\u001b[0m\u001b[0mvel\u001b[0m\u001b[0;34m,\u001b[0m \u001b[0ms\u001b[0m\u001b[0;34m.\u001b[0m\u001b[0mforces\u001b[0m\u001b[0;34m,\u001b[0m \u001b[0mmasses\u001b[0m\u001b[0;34m,\u001b[0m \u001b[0mself\u001b[0m\u001b[0;34m.\u001b[0m\u001b[0mdt\u001b[0m\u001b[0;34m)\u001b[0m\u001b[0;34m\u001b[0m\u001b[0;34m\u001b[0m\u001b[0m\n\u001b[0;32m---> 68\u001b[0;31m             \u001b[0mpot\u001b[0m \u001b[0;34m=\u001b[0m \u001b[0mself\u001b[0m\u001b[0;34m.\u001b[0m\u001b[0mforces\u001b[0m\u001b[0;34m.\u001b[0m\u001b[0mcompute\u001b[0m\u001b[0;34m(\u001b[0m\u001b[0ms\u001b[0m\u001b[0;34m.\u001b[0m\u001b[0mpos\u001b[0m\u001b[0;34m,\u001b[0m \u001b[0ms\u001b[0m\u001b[0;34m.\u001b[0m\u001b[0mbox\u001b[0m\u001b[0;34m,\u001b[0m \u001b[0ms\u001b[0m\u001b[0;34m.\u001b[0m\u001b[0mforces\u001b[0m\u001b[0;34m)\u001b[0m\u001b[0;34m\u001b[0m\u001b[0;34m\u001b[0m\u001b[0m\n\u001b[0m\u001b[1;32m     69\u001b[0m             \u001b[0;32mif\u001b[0m \u001b[0mself\u001b[0m\u001b[0;34m.\u001b[0m\u001b[0mT\u001b[0m\u001b[0;34m:\u001b[0m\u001b[0;34m\u001b[0m\u001b[0;34m\u001b[0m\u001b[0m\n\u001b[1;32m     70\u001b[0m                 \u001b[0mlangevin\u001b[0m\u001b[0;34m(\u001b[0m\u001b[0ms\u001b[0m\u001b[0;34m.\u001b[0m\u001b[0mvel\u001b[0m\u001b[0;34m,\u001b[0m \u001b[0mself\u001b[0m\u001b[0;34m.\u001b[0m\u001b[0mgamma\u001b[0m\u001b[0;34m,\u001b[0m \u001b[0mself\u001b[0m\u001b[0;34m.\u001b[0m\u001b[0mvcoeff\u001b[0m\u001b[0;34m,\u001b[0m \u001b[0mself\u001b[0m\u001b[0;34m.\u001b[0m\u001b[0mdt\u001b[0m\u001b[0;34m,\u001b[0m \u001b[0mself\u001b[0m\u001b[0;34m.\u001b[0m\u001b[0mdevice\u001b[0m\u001b[0;34m)\u001b[0m\u001b[0;34m\u001b[0m\u001b[0;34m\u001b[0m\u001b[0m\n",
      "\u001b[0;32m/shared/carles/miniconda3/envs/torchmd-net/lib/python3.8/site-packages/torchmd/forces.py\u001b[0m in \u001b[0;36mcompute\u001b[0;34m(self, pos, box, forces, returnDetails, explicit_forces)\u001b[0m\n\u001b[1;32m    314\u001b[0m \u001b[0;34m\u001b[0m\u001b[0m\n\u001b[1;32m    315\u001b[0m         \u001b[0;32mif\u001b[0m \u001b[0mself\u001b[0m\u001b[0;34m.\u001b[0m\u001b[0mexternal\u001b[0m\u001b[0;34m:\u001b[0m\u001b[0;34m\u001b[0m\u001b[0;34m\u001b[0m\u001b[0m\n\u001b[0;32m--> 316\u001b[0;31m             \u001b[0mext_ene\u001b[0m\u001b[0;34m,\u001b[0m \u001b[0mext_force\u001b[0m \u001b[0;34m=\u001b[0m \u001b[0mself\u001b[0m\u001b[0;34m.\u001b[0m\u001b[0mexternal\u001b[0m\u001b[0;34m.\u001b[0m\u001b[0mcalculate\u001b[0m\u001b[0;34m(\u001b[0m\u001b[0mpos\u001b[0m\u001b[0;34m,\u001b[0m \u001b[0mbox\u001b[0m\u001b[0;34m)\u001b[0m\u001b[0;34m\u001b[0m\u001b[0;34m\u001b[0m\u001b[0m\n\u001b[0m\u001b[1;32m    317\u001b[0m             \u001b[0;32mfor\u001b[0m \u001b[0ms\u001b[0m \u001b[0;32min\u001b[0m \u001b[0mrange\u001b[0m\u001b[0;34m(\u001b[0m\u001b[0mnsystems\u001b[0m\u001b[0;34m)\u001b[0m\u001b[0;34m:\u001b[0m\u001b[0;34m\u001b[0m\u001b[0;34m\u001b[0m\u001b[0m\n\u001b[1;32m    318\u001b[0m                 \u001b[0mpot\u001b[0m\u001b[0;34m[\u001b[0m\u001b[0ms\u001b[0m\u001b[0;34m]\u001b[0m\u001b[0;34m[\u001b[0m\u001b[0;34m\"external\"\u001b[0m\u001b[0;34m]\u001b[0m \u001b[0;34m+=\u001b[0m \u001b[0mext_ene\u001b[0m\u001b[0;34m[\u001b[0m\u001b[0ms\u001b[0m\u001b[0;34m]\u001b[0m\u001b[0;34m\u001b[0m\u001b[0;34m\u001b[0m\u001b[0m\n",
      "\u001b[0;32m/shared/carles/miniconda3/envs/torchmd-net/lib/python3.8/site-packages/torchmd_exp-0-py3.8.egg/torchmdexp/nn/calculator.py\u001b[0m in \u001b[0;36mcalculate\u001b[0;34m(self, pos, box)\u001b[0m\n\u001b[1;32m     15\u001b[0m     \u001b[0;32mdef\u001b[0m \u001b[0mcalculate\u001b[0m\u001b[0;34m(\u001b[0m\u001b[0mself\u001b[0m\u001b[0;34m,\u001b[0m \u001b[0mpos\u001b[0m\u001b[0;34m,\u001b[0m \u001b[0mbox\u001b[0m\u001b[0;34m)\u001b[0m\u001b[0;34m:\u001b[0m\u001b[0;34m\u001b[0m\u001b[0;34m\u001b[0m\u001b[0m\n\u001b[1;32m     16\u001b[0m         \u001b[0mpos\u001b[0m \u001b[0;34m=\u001b[0m \u001b[0mpos\u001b[0m\u001b[0;34m.\u001b[0m\u001b[0mto\u001b[0m\u001b[0;34m(\u001b[0m\u001b[0mself\u001b[0m\u001b[0;34m.\u001b[0m\u001b[0mdevice\u001b[0m\u001b[0;34m)\u001b[0m\u001b[0;34m.\u001b[0m\u001b[0mtype\u001b[0m\u001b[0;34m(\u001b[0m\u001b[0mtorch\u001b[0m\u001b[0;34m.\u001b[0m\u001b[0mfloat32\u001b[0m\u001b[0;34m)\u001b[0m\u001b[0;34m.\u001b[0m\u001b[0mreshape\u001b[0m\u001b[0;34m(\u001b[0m\u001b[0;34m-\u001b[0m\u001b[0;36m1\u001b[0m\u001b[0;34m,\u001b[0m \u001b[0;36m3\u001b[0m\u001b[0;34m)\u001b[0m\u001b[0;34m\u001b[0m\u001b[0;34m\u001b[0m\u001b[0m\n\u001b[0;32m---> 17\u001b[0;31m         \u001b[0menergy\u001b[0m\u001b[0;34m,\u001b[0m \u001b[0mforces\u001b[0m \u001b[0;34m=\u001b[0m \u001b[0mself\u001b[0m\u001b[0;34m.\u001b[0m\u001b[0mmodel\u001b[0m\u001b[0;34m(\u001b[0m\u001b[0mself\u001b[0m\u001b[0;34m.\u001b[0m\u001b[0membeddings\u001b[0m\u001b[0;34m,\u001b[0m \u001b[0mpos\u001b[0m\u001b[0;34m,\u001b[0m \u001b[0mself\u001b[0m\u001b[0;34m.\u001b[0m\u001b[0mbatch\u001b[0m\u001b[0;34m)\u001b[0m\u001b[0;34m\u001b[0m\u001b[0;34m\u001b[0m\u001b[0m\n\u001b[0m\u001b[1;32m     18\u001b[0m         \u001b[0;32mreturn\u001b[0m \u001b[0menergy\u001b[0m\u001b[0;34m,\u001b[0m \u001b[0mforces\u001b[0m\u001b[0;34m.\u001b[0m\u001b[0mreshape\u001b[0m\u001b[0;34m(\u001b[0m\u001b[0;34m-\u001b[0m\u001b[0;36m1\u001b[0m\u001b[0;34m,\u001b[0m \u001b[0mself\u001b[0m\u001b[0;34m.\u001b[0m\u001b[0mn_atoms\u001b[0m\u001b[0;34m,\u001b[0m \u001b[0;36m3\u001b[0m\u001b[0;34m)\u001b[0m\u001b[0;34m\u001b[0m\u001b[0;34m\u001b[0m\u001b[0m\n",
      "\u001b[0;32m/shared/carles/miniconda3/envs/torchmd-net/lib/python3.8/site-packages/torch/nn/modules/module.py\u001b[0m in \u001b[0;36m_call_impl\u001b[0;34m(self, *input, **kwargs)\u001b[0m\n\u001b[1;32m   1049\u001b[0m         if not (self._backward_hooks or self._forward_hooks or self._forward_pre_hooks or _global_backward_hooks\n\u001b[1;32m   1050\u001b[0m                 or _global_forward_hooks or _global_forward_pre_hooks):\n\u001b[0;32m-> 1051\u001b[0;31m             \u001b[0;32mreturn\u001b[0m \u001b[0mforward_call\u001b[0m\u001b[0;34m(\u001b[0m\u001b[0;34m*\u001b[0m\u001b[0minput\u001b[0m\u001b[0;34m,\u001b[0m \u001b[0;34m**\u001b[0m\u001b[0mkwargs\u001b[0m\u001b[0;34m)\u001b[0m\u001b[0;34m\u001b[0m\u001b[0;34m\u001b[0m\u001b[0m\n\u001b[0m\u001b[1;32m   1052\u001b[0m         \u001b[0;31m# Do not call functions when jit is used\u001b[0m\u001b[0;34m\u001b[0m\u001b[0;34m\u001b[0m\u001b[0;34m\u001b[0m\u001b[0m\n\u001b[1;32m   1053\u001b[0m         \u001b[0mfull_backward_hooks\u001b[0m\u001b[0;34m,\u001b[0m \u001b[0mnon_full_backward_hooks\u001b[0m \u001b[0;34m=\u001b[0m \u001b[0;34m[\u001b[0m\u001b[0;34m]\u001b[0m\u001b[0;34m,\u001b[0m \u001b[0;34m[\u001b[0m\u001b[0;34m]\u001b[0m\u001b[0;34m\u001b[0m\u001b[0;34m\u001b[0m\u001b[0m\n",
      "\u001b[0;32m/shared/carles/torchmd-net/torchmdnet/models/model.py\u001b[0m in \u001b[0;36mforward\u001b[0;34m(self, z, pos, batch)\u001b[0m\n\u001b[1;32m    186\u001b[0m         \u001b[0;32mif\u001b[0m \u001b[0mself\u001b[0m\u001b[0;34m.\u001b[0m\u001b[0mderivative\u001b[0m\u001b[0;34m:\u001b[0m\u001b[0;34m\u001b[0m\u001b[0;34m\u001b[0m\u001b[0m\n\u001b[1;32m    187\u001b[0m             \u001b[0mgrad_outputs\u001b[0m\u001b[0;34m:\u001b[0m \u001b[0mList\u001b[0m\u001b[0;34m[\u001b[0m\u001b[0mOptional\u001b[0m\u001b[0;34m[\u001b[0m\u001b[0mtorch\u001b[0m\u001b[0;34m.\u001b[0m\u001b[0mTensor\u001b[0m\u001b[0;34m]\u001b[0m\u001b[0;34m]\u001b[0m \u001b[0;34m=\u001b[0m \u001b[0;34m[\u001b[0m\u001b[0mtorch\u001b[0m\u001b[0;34m.\u001b[0m\u001b[0mones_like\u001b[0m\u001b[0;34m(\u001b[0m\u001b[0mout\u001b[0m\u001b[0;34m)\u001b[0m\u001b[0;34m]\u001b[0m\u001b[0;34m\u001b[0m\u001b[0;34m\u001b[0m\u001b[0m\n\u001b[0;32m--> 188\u001b[0;31m             dy = grad(\n\u001b[0m\u001b[1;32m    189\u001b[0m                 \u001b[0;34m[\u001b[0m\u001b[0mout\u001b[0m\u001b[0;34m]\u001b[0m\u001b[0;34m,\u001b[0m\u001b[0;34m\u001b[0m\u001b[0;34m\u001b[0m\u001b[0m\n\u001b[1;32m    190\u001b[0m                 \u001b[0;34m[\u001b[0m\u001b[0mpos\u001b[0m\u001b[0;34m]\u001b[0m\u001b[0;34m,\u001b[0m\u001b[0;34m\u001b[0m\u001b[0;34m\u001b[0m\u001b[0m\n",
      "\u001b[0;32m/shared/carles/miniconda3/envs/torchmd-net/lib/python3.8/site-packages/torch/autograd/__init__.py\u001b[0m in \u001b[0;36mgrad\u001b[0;34m(outputs, inputs, grad_outputs, retain_graph, create_graph, only_inputs, allow_unused)\u001b[0m\n\u001b[1;32m    224\u001b[0m         \u001b[0mretain_graph\u001b[0m \u001b[0;34m=\u001b[0m \u001b[0mcreate_graph\u001b[0m\u001b[0;34m\u001b[0m\u001b[0;34m\u001b[0m\u001b[0m\n\u001b[1;32m    225\u001b[0m \u001b[0;34m\u001b[0m\u001b[0m\n\u001b[0;32m--> 226\u001b[0;31m     return Variable._execution_engine.run_backward(\n\u001b[0m\u001b[1;32m    227\u001b[0m         \u001b[0moutputs\u001b[0m\u001b[0;34m,\u001b[0m \u001b[0mgrad_outputs_\u001b[0m\u001b[0;34m,\u001b[0m \u001b[0mretain_graph\u001b[0m\u001b[0;34m,\u001b[0m \u001b[0mcreate_graph\u001b[0m\u001b[0;34m,\u001b[0m\u001b[0;34m\u001b[0m\u001b[0;34m\u001b[0m\u001b[0m\n\u001b[1;32m    228\u001b[0m         inputs, allow_unused, accumulate_grad=False)\n",
      "\u001b[0;31mKeyboardInterrupt\u001b[0m: "
     ]
    }
   ],
   "source": [
    "steps = 2000\n",
    "output_period = 10\n",
    "\n",
    "# Simulation\n",
    "\n",
    "# Integrator object\n",
    "integrator = Integrator(system, forces, args.timestep, args.device, gamma=0.1, T=0)\n",
    "native_coords = system.pos.clone().detach()\n",
    "            \n",
    "# Iterator and start computing forces\n",
    "iterator = tqdm(range(1,int(steps/output_period)+1))\n",
    "Epot = forces.compute(system.pos, system.box, system.forces)\n",
    "\n",
    "for i in iterator:\n",
    "    Ekin, Epot, T = integrator.step(niter=output_period)"
   ]
  },
  {
   "cell_type": "code",
   "execution_count": 139,
   "id": "329da3a3-a12f-4a82-a02f-6e04df0cabce",
   "metadata": {},
   "outputs": [
    {
     "name": "stdout",
     "output_type": "stream",
     "text": [
      "Final RMSD:  1.1348059573142635\n"
     ]
    }
   ],
   "source": [
    "loss, rmsd = loss_fn(pos, system.pos)\n",
    "print('Final RMSD: ', rmsd)"
   ]
  },
  {
   "cell_type": "markdown",
   "id": "d56b08df-5fb4-419b-89b1-ec61547c0f34",
   "metadata": {},
   "source": [
    "## Simulate Chingolin with pre-trained NN trained on lambda"
   ]
  },
  {
   "cell_type": "code",
   "execution_count": 35,
   "id": "b8b84f56-4c71-472d-934c-18e5cdd07c41",
   "metadata": {},
   "outputs": [],
   "source": [
    "mol = Molecule('../data/chignolin_cln025.pdb')\n",
    "mol.filter('name CA')\n",
    "mol.read('../data/chignolin_cln025.psf')\n",
    "#mol.read('../data/chignolin_cln025.xtc')"
   ]
  },
  {
   "cell_type": "code",
   "execution_count": 36,
   "id": "13d4db68-038d-422b-a227-21083aba0bf0",
   "metadata": {},
   "outputs": [],
   "source": [
    "lambda_net = '/workspace2/fast_folders_cgnet/multiprotein/single_prot_fix/lambda/train_geom_lambda_dih_4int_fix_rep1/epoch=85-val_loss=736.1273-test_loss=21.5217.ckpt'\n",
    "model = load_model(lambda_net, device='cpu', derivative=True)\n",
    "external = external_forces(model, mol, replicas = args.replicas, device = args.device)"
   ]
  },
  {
   "cell_type": "code",
   "execution_count": 37,
   "id": "5af04ac7-f849-4a8c-91c4-4b6f76fc4b90",
   "metadata": {},
   "outputs": [],
   "source": [
    "# Define forces and parameters\n",
    "forces = setup_forces(mol, args.forcefield, args.forceterms, external, device=args.device, \n",
    "                        cutoff=args.cutoff, rfa=args.rfa, switch_dist=args.switch_dist\n",
    "                        )   \n",
    "# System\n",
    "system = setup_system(mol, forces, replicas=args.replicas, T=args.temperature,\n",
    "                        device=args.device\n",
    "                         )"
   ]
  },
  {
   "cell_type": "code",
   "execution_count": 38,
   "id": "f69cec15-ece8-4f8b-9d96-9a27e8cb1586",
   "metadata": {},
   "outputs": [
    {
     "name": "stderr",
     "output_type": "stream",
     "text": [
      "100%|███████████████████████████████████████████| 75/75 [00:13<00:00,  5.53it/s]\n"
     ]
    }
   ],
   "source": [
    "steps = 750\n",
    "output_period = 10\n",
    "# Simulation\n",
    "\n",
    "# Integrator object\n",
    "integrator = Integrator(system, forces, args.timestep, args.device, gamma=0.1, T=0)\n",
    "native_coords = system.pos.clone().detach()\n",
    "            \n",
    "# Iterator and start computing forces\n",
    "iterator = tqdm(range(1,int(steps/output_period)+1))\n",
    "Epot = forces.compute(system.pos, system.box, system.forces)\n",
    "\n",
    "for i in iterator:\n",
    "    Ekin, Epot, T = integrator.step(niter=output_period)"
   ]
  },
  {
   "cell_type": "code",
   "execution_count": 39,
   "id": "3b1b3628-0096-4a9c-a7de-3589ee56b4a0",
   "metadata": {},
   "outputs": [
    {
     "name": "stdout",
     "output_type": "stream",
     "text": [
      "Final RMSD:  1.5965760210812099\n"
     ]
    }
   ],
   "source": [
    "loss, rmsd = loss_fn(pos, system.pos)\n",
    "print('Final RMSD: ', rmsd)"
   ]
  },
  {
   "cell_type": "markdown",
   "id": "8295f56b-d444-49a4-a226-97b8d607b365",
   "metadata": {},
   "source": [
    "## Simulate Chingolin with re-trained NN pretrained on lambda"
   ]
  },
  {
   "cell_type": "code",
   "execution_count": 40,
   "id": "cad31dd0-39e1-491a-862c-7203cf30cdb8",
   "metadata": {},
   "outputs": [],
   "source": [
    "mol = Molecule('../data/chignolin_cln025.pdb')\n",
    "mol.filter('name CA')\n",
    "mol.read('../data/chignolin_cln025.psf')\n",
    "#mol.read('../data/chignolin_cln025.xtc')\n",
    "#args.replicas = 10"
   ]
  },
  {
   "cell_type": "code",
   "execution_count": 41,
   "id": "25789b71-1591-44d0-a98b-8a08e7ef0708",
   "metadata": {},
   "outputs": [],
   "source": [
    "trained_lambda_net = '/shared/carles/torchmd-exp/torchmdexp/nn/trainings/cln_prelambda_02_09/epoch=49-loss=1.6478.ckpt'\n",
    "trained_lambda_net_model = load_model(trained_lambda_net, device='cpu', derivative=True)\n",
    "external = external_forces(trained_lambda_net_model, mol, replicas = args.replicas, device = args.device)"
   ]
  },
  {
   "cell_type": "code",
   "execution_count": 42,
   "id": "e12a0fb2-ed00-43e0-ba5c-11439a12a6b3",
   "metadata": {},
   "outputs": [],
   "source": [
    "# Define forces and parameters\n",
    "forces = setup_forces(mol, args.forcefield, args.forceterms, external, device=args.device, \n",
    "                        cutoff=args.cutoff, rfa=args.rfa, switch_dist=args.switch_dist\n",
    "                        )   \n",
    "# System\n",
    "system = setup_system(mol, forces, replicas=args.replicas, T=args.temperature,\n",
    "                        device=args.device\n",
    "                         )"
   ]
  },
  {
   "cell_type": "code",
   "execution_count": 43,
   "id": "25dda62f-79c8-4372-8b98-41d5835317f2",
   "metadata": {
    "tags": []
   },
   "outputs": [
    {
     "name": "stderr",
     "output_type": "stream",
     "text": [
      "100%|███████████████████████████████████████████| 75/75 [00:11<00:00,  6.25it/s]\n"
     ]
    }
   ],
   "source": [
    "steps = 750\n",
    "output_period = 10\n",
    "\n",
    "# Simulation\n",
    "\n",
    "# Integrator object\n",
    "integrator = Integrator(system, forces, args.timestep, args.device, gamma=0.1, T=0)\n",
    "native_coords = system.pos.clone().detach()\n",
    "            \n",
    "# Iterator and start computing forces\n",
    "iterator = tqdm(range(1,int(steps/output_period)+1))\n",
    "Epot = forces.compute(system.pos, system.box, system.forces)\n",
    "\n",
    "for i in iterator:\n",
    "    Ekin, Epot, T = integrator.step(niter=output_period)"
   ]
  },
  {
   "cell_type": "code",
   "execution_count": 44,
   "id": "39f60b85-fa51-4308-9f9f-a5f825b99aca",
   "metadata": {},
   "outputs": [
    {
     "name": "stdout",
     "output_type": "stream",
     "text": [
      "Final RMSD:  0.38887476885371375\n"
     ]
    }
   ],
   "source": [
    "loss, rmsd = loss_fn(pos, system.pos)\n",
    "print('Final RMSD: ', rmsd)"
   ]
  },
  {
   "cell_type": "markdown",
   "id": "ea60a792-6837-44a2-94bd-f5ffbd7ab559",
   "metadata": {},
   "source": [
    "## Simulate Chingolin with no external forces"
   ]
  },
  {
   "cell_type": "code",
   "execution_count": 95,
   "id": "1d16f483-f6ef-441f-8a04-579ddf180177",
   "metadata": {},
   "outputs": [],
   "source": [
    "mol = Molecule('../data/chignolin_cln025.pdb')\n",
    "mol.filter('name CA')\n",
    "mol.read('../data/chignolin_cln025.psf')\n",
    "#mol.read('../data/chignolin_cln025.xtc')\n",
    "#args.replicas = 10\n",
    "args.forceterms = [\"repulsioncg\"]"
   ]
  },
  {
   "cell_type": "code",
   "execution_count": 52,
   "id": "175617b2-de29-48b4-91b0-77a481f21460",
   "metadata": {},
   "outputs": [],
   "source": [
    "# Define forces and parameters\n",
    "forces = setup_forces(mol, args.forcefield, args.forceterms, external=None, device=args.device, \n",
    "                        cutoff=args.cutoff, rfa=args.rfa, switch_dist=args.switch_dist\n",
    "                        )   \n",
    "# System\n",
    "system = setup_system(mol, forces, replicas=args.replicas, T=args.temperature,\n",
    "                        device=args.device\n",
    "                         )"
   ]
  },
  {
   "cell_type": "code",
   "execution_count": 53,
   "id": "c2a0c389-2105-4a71-97ba-8ca6ec04fa55",
   "metadata": {},
   "outputs": [
    {
     "name": "stderr",
     "output_type": "stream",
     "text": [
      "100%|███████████████████████████████████████████| 75/75 [00:01<00:00, 64.57it/s]\n"
     ]
    }
   ],
   "source": [
    "steps = 750\n",
    "output_period = 10\n",
    "\n",
    "# Simulation\n",
    "\n",
    "# Integrator object\n",
    "integrator = Integrator(system, forces, args.timestep, args.device, gamma=0.1, T=0)\n",
    "native_coords = system.pos.clone().detach()\n",
    "            \n",
    "# Iterator and start computing forces\n",
    "iterator = tqdm(range(1,int(steps/output_period)+1))\n",
    "Epot = forces.compute(system.pos, system.box, system.forces)\n",
    "\n",
    "for i in iterator:\n",
    "    Ekin, Epot, T = integrator.step(niter=output_period)"
   ]
  },
  {
   "cell_type": "code",
   "execution_count": 54,
   "id": "a8585a9b-1ecd-4a79-aed4-0f41d35af318",
   "metadata": {},
   "outputs": [
    {
     "name": "stdout",
     "output_type": "stream",
     "text": [
      "Final RMSD:  4.2818978649872665\n"
     ]
    }
   ],
   "source": [
    "loss, rmsd = loss_fn(pos, system.pos)\n",
    "print('Final RMSD: ', rmsd)"
   ]
  },
  {
   "cell_type": "markdown",
   "id": "29384a54-0e39-4095-ae05-e1028ddf4f73",
   "metadata": {},
   "source": [
    "## Simulate Chingolin with random NN"
   ]
  },
  {
   "cell_type": "code",
   "execution_count": 31,
   "id": "8cefbf37-5cf7-416c-beb4-cc151bebbcf3",
   "metadata": {},
   "outputs": [],
   "source": [
    "mol = Molecule('../data/chignolin_cln025.pdb')\n",
    "mol.filter('name CA')\n",
    "mol.read('../data/chignolin_cln025.psf')\n",
    "#mol.read('../data/chignolin_cln025.xtc')\n",
    "args.replicas = 1\n",
    "args.forceterms = [\"repulsioncg\", \"bonds\", \"dihedrals\"]"
   ]
  },
  {
   "cell_type": "code",
   "execution_count": 27,
   "id": "9b7a5f30-612c-4cda-8efb-4a728eb4f3e0",
   "metadata": {},
   "outputs": [],
   "source": [
    "model = create_model(args_dict)\n",
    "external = external_forces(model, mol, replicas = args.replicas, device = args.device)"
   ]
  },
  {
   "cell_type": "code",
   "execution_count": 28,
   "id": "d6cc1d1b-c3ad-4e47-9464-572dd8dacbab",
   "metadata": {},
   "outputs": [],
   "source": [
    "# Define forces and parameters\n",
    "forces = setup_forces(mol, args.forcefield, args.forceterms, external=None, device=args.device, \n",
    "                        cutoff=args.cutoff, rfa=args.rfa, switch_dist=args.switch_dist\n",
    "                        )   \n",
    "# System\n",
    "system = setup_system(mol, forces, replicas=args.replicas, T=args.temperature,\n",
    "                        device=args.device\n",
    "                         )"
   ]
  },
  {
   "cell_type": "code",
   "execution_count": 29,
   "id": "67f6badf-3eb9-4a39-adca-63e8e832c4cc",
   "metadata": {},
   "outputs": [
    {
     "name": "stderr",
     "output_type": "stream",
     "text": [
      "100%|█████████████████████████████████████████| 500/500 [00:08<00:00, 61.21it/s]\n"
     ]
    }
   ],
   "source": [
    "steps = 5000\n",
    "output_period = 10\n",
    "\n",
    "# Simulation\n",
    "\n",
    "# Integrator object\n",
    "integrator = Integrator(system, forces, args.timestep, args.device, gamma=0.1, T=0)\n",
    "native_coords = system.pos.clone().detach()\n",
    "            \n",
    "# Iterator and start computing forces\n",
    "iterator = tqdm(range(1,int(steps/output_period)+1))\n",
    "Epot = forces.compute(system.pos, system.box, system.forces)\n",
    "\n",
    "for i in iterator:\n",
    "    Ekin, Epot, T = integrator.step(niter=output_period)"
   ]
  },
  {
   "cell_type": "code",
   "execution_count": 30,
   "id": "4b119375-8a1e-4be6-9f15-bec205a62f4c",
   "metadata": {},
   "outputs": [
    {
     "name": "stdout",
     "output_type": "stream",
     "text": [
      "Final RMSD:  4.347646792804146\n"
     ]
    }
   ],
   "source": [
    "loss, rmsd = loss_fn(pos, system.pos)\n",
    "print('Final RMSD: ', rmsd)"
   ]
  },
  {
   "cell_type": "markdown",
   "id": "6c8c2fd3-8720-42dd-948c-204d90a78c7d",
   "metadata": {},
   "source": [
    "## Sim time"
   ]
  },
  {
   "cell_type": "code",
   "execution_count": 68,
   "id": "7400370c-3471-4bfd-b8e2-fdac36030782",
   "metadata": {},
   "outputs": [],
   "source": [
    "times = [0.0,\n",
    "244.92099738121033,\n",
    "523.6174840927124,\n",
    "804.427725315094,\n",
    "1091.5886116027832,\n",
    "1624.378838300705,\n",
    "2242.731857061386,\n",
    "2878.5688214302063,\n",
    "3510.2826449871063,\n",
    "4125.948407411575,\n",
    "4996.646833658218,\n",
    "6013.193626642227,\n",
    "7035.383630514145,\n",
    "8124.731684923172,\n",
    "9176.599777936935,\n",
    "10505.227858066559,\n",
    "11976.055072069168,\n",
    "13467.635905742645,\n",
    "14951.779824495316]"
   ]
  },
  {
   "cell_type": "code",
   "execution_count": 69,
   "id": "902d24e3-4243-4de7-8203-60460f02c247",
   "metadata": {},
   "outputs": [],
   "source": [
    "dt = []\n",
    "for idx, _ in enumerate(times):\n",
    "    t1 = idx\n",
    "    t2 = idx + 1\n",
    "    if t2 == len(times):\n",
    "        break\n",
    "    dt.append(times[t2] - times[t1])"
   ]
  },
  {
   "cell_type": "code",
   "execution_count": 79,
   "id": "473f7833-3f32-4600-aa78-bc059843013e",
   "metadata": {},
   "outputs": [],
   "source": [
    "from statistics import mean\n",
    "t_250 = mean(dt[:4])\n",
    "t_500 = mean(dt[4:9])\n",
    "t_750 = mean(dt[9:14])\n",
    "t_1000 = mean(dt[14:19])"
   ]
  },
  {
   "cell_type": "code",
   "execution_count": 81,
   "id": "e74e1253-ba53-44b7-8ae9-94794d0f45c1",
   "metadata": {},
   "outputs": [
    {
     "name": "stderr",
     "output_type": "stream",
     "text": [
      "2021-09-02 00:00:55,433 - matplotlib.font_manager - INFO - Failed to extract font properties from /usr/share/fonts/google-noto-emoji/NotoColorEmoji.ttf: In FT2Font: Could not set the fontsize (error code 0x17)\n",
      "2021-09-02 00:00:55,589 - matplotlib.font_manager - INFO - generated new fontManager\n"
     ]
    },
    {
     "data": {
      "text/plain": [
       "[<matplotlib.lines.Line2D at 0x7ff1f60be880>]"
      ]
     },
     "execution_count": 81,
     "metadata": {},
     "output_type": "execute_result"
    },
    {
     "data": {
      "image/png": "[encoded data removed]",
      "text/plain": [
       "<Figure size 432x288 with 1 Axes>"
      ]
     },
     "metadata": {
      "needs_background": "light"
     },
     "output_type": "display_data"
    }
   ],
   "source": [
    "import matplotlib.pyplot as plt\n",
    "\n",
    "sim_times = np.array([t_250, t_500, t_750, t_1000])\n",
    "steps = np.array([250, 500, 750, 1000])\n",
    "\n",
    "plt.plot(steps, sim_times, 'b', label = 'Time')"
   ]
  }
 ],
 "metadata": {
  "kernelspec": {
   "display_name": "Python 3 (ipykernel)",
   "language": "python",
   "name": "python3"
  },
  "language_info": {
   "codemirror_mode": {
    "name": "ipython",
    "version": 3
   },
   "file_extension": ".py",
   "mimetype": "text/x-python",
   "name": "python",
   "nbconvert_exporter": "python",
   "pygments_lexer": "ipython3",
   "version": "3.8.10"
  }
 },
 "nbformat": 4,
 "nbformat_minor": 5
}
