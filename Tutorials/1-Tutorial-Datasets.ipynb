{
 "cells": [
  {
   "cell_type": "markdown",
   "id": "e378902e-2160-42ae-bdfb-1c9bf204459f",
   "metadata": {},
   "source": [
    "# Building the Datasets"
   ]
  },
  {
   "cell_type": "markdown",
   "id": "fb3966ee-b553-4319-9ce5-7f0e62e487bb",
   "metadata": {},
   "source": [
    "In this tutorial we provide the instructions to build the two datasets we have used to train the models"
   ]
  },
  {
   "cell_type": "markdown",
   "id": "93163ac1-cc90-4fba-a023-01f3dbf15727",
   "metadata": {},
   "source": [
    "# Download"
   ]
  },
  {
   "cell_type": "markdown",
   "id": "8d52cbb3-9c72-4163-8c38-b3e2f9dd7bbf",
   "metadata": {},
   "source": [
    "First we will download the folders that contain the CA coordinates of the experimental structures."
   ]
  },
  {
   "cell_type": "markdown",
   "id": "cce3a3e5-c89f-4de2-b4b9-0ad5f3304a34",
   "metadata": {},
   "source": [
    "Fast-folders:"
   ]
  },
  {
   "cell_type": "code",
   "execution_count": null,
   "id": "5964150e-3641-4abe-ba21-0bbf85a108b9",
   "metadata": {},
   "outputs": [],
   "source": []
  }
 ],
 "metadata": {
  "kernelspec": {
   "display_name": "htmd",
   "language": "python",
   "name": "htmd"
  },
  "language_info": {
   "codemirror_mode": {
    "name": "ipython",
    "version": 3
   },
   "file_extension": ".py",
   "mimetype": "text/x-python",
   "name": "python",
   "nbconvert_exporter": "python",
   "pygments_lexer": "ipython3",
   "version": "3.10.9"
  }
 },
 "nbformat": 4,
 "nbformat_minor": 5
}
