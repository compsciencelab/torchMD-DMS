{
 "cells": [
  {
   "cell_type": "markdown",
   "id": "7e07a29c-034d-4847-af57-98a1ff7a15b9",
   "metadata": {},
   "source": [
    "# Simulations"
   ]
  },
  {
   "cell_type": "markdown",
   "id": "85e5feb1-88a0-436d-8c6d-3bdee4dfb059",
   "metadata": {},
   "source": [
    "In this tutorial we provide instructions on running MD using the trained NNPs and the prior forcefield. "
   ]
  },
  {
   "cell_type": "markdown",
   "id": "d6608453-f334-4b15-ab95-c5517dbb054f",
   "metadata": {},
   "source": [
    "We will use the model trained with the `csm_50` dataset, which is located at `torchmd-exp/data/models/csm_50/epoch=35-train_loss=0.8814-val_loss=0.8824.ckpt`. \n",
    "\n",
    "And we will run a simulation with 64 starting points of chignolin, where each starting point represents a different conformation \n",
    "\n",
    "For that we need the following `simulate_cln.yaml` file:"
   ]
  },
  {
   "cell_type": "markdown",
   "id": "83c1156f-db7c-4ad6-a991-df98129c6687",
   "metadata": {},
   "source": [
    "```yaml\n",
    "device: cuda:0\n",
    "forcefield: ca_priors-dihedrals_general_2xweaker.yaml\n",
    "forceterms:\n",
    "- Bonds\n",
    "- RepulsionCG\n",
    "- Dihedrals\n",
    "exclusions: ('bonds')\n",
    "langevin_gamma: 1\n",
    "langevin_temperature: 298\n",
    "log_dir: csm_50/cln_64trajs_298_ts1\n",
    "output: output\n",
    "output_period: 1000\n",
    "precision: double\n",
    "replicas: 64\n",
    "rfa: false\n",
    "save_period: 1000\n",
    "seed: 10\n",
    "steps: 100000000\n",
    "topology: ../data/test/topology/cln_ca_top_dih.psf\n",
    "coordinates: ../data/test/starting_points/cln_kcenters_64clusters_coords.xtc\n",
    "\n",
    "temperature: 298\n",
    "timestep: 1\n",
    "external:\n",
    "  module: torchmdexp.nnp.calculators\n",
    "  embeddings: [4, 4, 5, 8, 6, 13, 2, 13, 7, 4]\n",
    "  file: ../data/models/csm_50/epoch=35-train_loss=0.8814-val_loss=0.8824.ckpt\n",
    "```"
   ]
  },
  {
   "cell_type": "markdown",
   "id": "d60ed361-c45d-478d-aa33-3e3e431f63c3",
   "metadata": {},
   "source": [
    "For running it we will run the following command with the `torchmd-exp` environment activated:\n",
    "\n",
    "```bash\n",
    "python $PATH/torchmd/torchmd/run.py --conf simulate_cln.yaml\n",
    "```"
   ]
  },
  {
   "cell_type": "markdown",
   "id": "00b3ceef-6fb6-4b55-9bd4-ee25a909a188",
   "metadata": {},
   "source": [
    "Where `$PATH` is the path to the `torchmd` repo."
   ]
  }
 ],
 "metadata": {
  "kernelspec": {
   "display_name": "torchmd-exp",
   "language": "python",
   "name": "torchmd-exp"
  },
  "language_info": {
   "codemirror_mode": {
    "name": "ipython",
    "version": 3
   },
   "file_extension": ".py",
   "mimetype": "text/x-python",
   "name": "python",
   "nbconvert_exporter": "python",
   "pygments_lexer": "ipython3",
   "version": "3.9.16"
  }
 },
 "nbformat": 4,
 "nbformat_minor": 5
}
